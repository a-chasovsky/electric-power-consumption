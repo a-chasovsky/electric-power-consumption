{
 "cells": [
  {
   "cell_type": "code",
   "execution_count": 1,
   "id": "2e1e3b63-5b9c-464b-9beb-d9a38a44e22d",
   "metadata": {},
   "outputs": [],
   "source": [
    "# run stopwatch\n",
    "from tools import Stopwatch\n",
    "stopwatch = Stopwatch()\n",
    "start = stopwatch.start()"
   ]
  },
  {
   "cell_type": "markdown",
   "id": "8a5f52fd-7477-4e52-b560-977bf3bb88a7",
   "metadata": {},
   "source": [
    "### Load libraries, functions, palette, theme"
   ]
  },
  {
   "cell_type": "code",
   "execution_count": 675,
   "id": "5f9b63c8-50a4-4a00-9832-429b38b4f296",
   "metadata": {},
   "outputs": [],
   "source": [
    "%run _libraries.ipynb"
   ]
  },
  {
   "cell_type": "code",
   "execution_count": 676,
   "id": "d59d91f0-c577-4e62-90b9-43557d4fef7b",
   "metadata": {},
   "outputs": [],
   "source": [
    "%run _functions.ipynb"
   ]
  },
  {
   "cell_type": "code",
   "execution_count": 4,
   "id": "bdf872cc-90e3-4f56-95d9-02a0e994ee83",
   "metadata": {},
   "outputs": [],
   "source": [
    "current_dir = '03-arima-month'"
   ]
  },
  {
   "cell_type": "code",
   "execution_count": 5,
   "id": "0e9ab167-8271-46cf-b1cd-70d85aaa3556",
   "metadata": {},
   "outputs": [],
   "source": [
    "previous_dir = '02-feature-engineering'"
   ]
  },
  {
   "cell_type": "code",
   "execution_count": 6,
   "id": "db16a030-455b-4859-8648-ae76e940954c",
   "metadata": {},
   "outputs": [],
   "source": [
    "save_files = 'files/' + current_dir + '/'"
   ]
  },
  {
   "cell_type": "code",
   "execution_count": 7,
   "id": "d211a8da-be2e-4600-8126-a61847995b7b",
   "metadata": {},
   "outputs": [],
   "source": [
    "load_files = 'files/' + previous_dir + '/'"
   ]
  },
  {
   "cell_type": "code",
   "execution_count": 8,
   "id": "d85e517e-37f3-4401-87e4-8634211faea0",
   "metadata": {},
   "outputs": [],
   "source": [
    "save_img = 'docs/img/' + current_dir + '/'"
   ]
  },
  {
   "cell_type": "code",
   "execution_count": 9,
   "id": "9d456a95-1308-4a67-bae1-b76346cea9b7",
   "metadata": {},
   "outputs": [],
   "source": [
    "session_name = current_dir"
   ]
  },
  {
   "cell_type": "markdown",
   "id": "dcd731b8-b85b-45fd-a03d-b548cb6e336a",
   "metadata": {},
   "source": [
    "# Section III. ARIMA"
   ]
  },
  {
   "cell_type": "markdown",
   "id": "2c2ccbc8-9b8e-4b6b-a6b1-b5fcb2962b01",
   "metadata": {},
   "source": [
    "## Load Saved Section if exists"
   ]
  },
  {
   "cell_type": "raw",
   "id": "53ead796-d77c-49a0-9fed-49fded9be347",
   "metadata": {},
   "source": [
    "if os.path.exists(f'sessions/{dir_save}'):\n",
    "    load_session(dir_save)\n",
    "else:\n",
    "    print(f\"No such session: 'sessions/{dir_save}'\")"
   ]
  },
  {
   "cell_type": "markdown",
   "id": "3cb709b2-c84e-4533-be0d-a1b6c52fd6f5",
   "metadata": {},
   "source": [
    "## Load Data"
   ]
  },
  {
   "cell_type": "code",
   "execution_count": 10,
   "id": "0cfdf001-ac4c-414c-b2bf-8428e1d3cb17",
   "metadata": {},
   "outputs": [],
   "source": [
    "train = datasets_dict = loadit(\n",
    "    'train', dir=load_files)"
   ]
  },
  {
   "cell_type": "code",
   "execution_count": 11,
   "id": "e7c904b3-cd9c-485b-a7ed-00b825eb7ad9",
   "metadata": {},
   "outputs": [],
   "source": [
    "valid = datasets_dict = loadit(\n",
    "    'valid', dir=load_files)"
   ]
  },
  {
   "cell_type": "code",
   "execution_count": 12,
   "id": "5663f2ca-6f27-45e6-93a0-e3c6ebf5cdee",
   "metadata": {},
   "outputs": [],
   "source": [
    "test = datasets_dict = loadit(\n",
    "    'test', dir=load_files)"
   ]
  },
  {
   "cell_type": "markdown",
   "id": "027092ac-ac4a-4065-8a19-3ee3e321101f",
   "metadata": {},
   "source": [
    "## Stationarity\n",
    "\n",
    "p< 0.05: Enough evidence to say, that process is stationarity"
   ]
  },
  {
   "cell_type": "code",
   "execution_count": 13,
   "id": "e7b0e19c-bd75-421b-8782-21f9267abd9c",
   "metadata": {},
   "outputs": [
    {
     "data": {
      "text/plain": [
       "(-28.686047970170506,\n",
       " 0.0,\n",
       " 47,\n",
       " 30480,\n",
       " {'1%': -3.4305645620343594,\n",
       "  '5%': -2.8616348306743395,\n",
       "  '10%': -2.566820475464527},\n",
       " 460471.5647015386)"
      ]
     },
     "execution_count": 13,
     "metadata": {},
     "output_type": "execute_result"
    }
   ],
   "source": [
    "# NULL: non-stationarity\n",
    "sm.tsa.stattools.adfuller(train['target1'])"
   ]
  },
  {
   "cell_type": "markdown",
   "id": "39d62d8c-27e6-467a-801f-f8fc61b92e66",
   "metadata": {},
   "source": [
    "### Autocorrelation"
   ]
  },
  {
   "cell_type": "markdown",
   "id": "ddbdb136-bd0d-4c31-b54c-03b20c13b23c",
   "metadata": {},
   "source": [
    "#### ACF - 40 period"
   ]
  },
  {
   "cell_type": "code",
   "execution_count": 14,
   "id": "ba917453-5f39-4982-826f-dd3182687527",
   "metadata": {},
   "outputs": [
    {
     "data": {
      "image/png": "[encoded data removed]",
      "text/plain": [
       "<Figure size 800x250 with 1 Axes>"
      ]
     },
     "metadata": {},
     "output_type": "display_data"
    }
   ],
   "source": [
    "plot_acf(data=train['target1'], lags=40)"
   ]
  },
  {
   "cell_type": "code",
   "execution_count": 15,
   "id": "0d9c0038-44a3-4dfc-a10f-2ef143a7f4e0",
   "metadata": {},
   "outputs": [
    {
     "data": {
      "text/plain": [
       "31"
      ]
     },
     "execution_count": 15,
     "metadata": {},
     "output_type": "execute_result"
    }
   ],
   "source": [
    "ts_acf_last_significant_index(train['target1'])"
   ]
  },
  {
   "cell_type": "markdown",
   "id": "db776f18-8fcf-4607-8d56-fd8653cf1bee",
   "metadata": {},
   "source": [
    "#### ACF - 300 period"
   ]
  },
  {
   "cell_type": "code",
   "execution_count": 16,
   "id": "9a7ad78b-cd28-476c-9209-48755445a43e",
   "metadata": {},
   "outputs": [
    {
     "data": {
      "image/png": "[encoded data removed]",
      "text/plain": [
       "<Figure size 800x250 with 1 Axes>"
      ]
     },
     "metadata": {},
     "output_type": "display_data"
    }
   ],
   "source": [
    "plot_acf(data=train['target1'], lags=300, transparency_lines=0.25)"
   ]
  },
  {
   "cell_type": "markdown",
   "id": "3f8f94ac-c196-4ca4-9401-5cce10550781",
   "metadata": {},
   "source": [
    "#### PACF - 40 period"
   ]
  },
  {
   "cell_type": "code",
   "execution_count": 17,
   "id": "31f7aa4f-a341-4038-ad2c-615f716f447a",
   "metadata": {},
   "outputs": [],
   "source": [
    "pacf = ts_acf_calculate(train['target1'], lags=36, partial=True)"
   ]
  },
  {
   "cell_type": "code",
   "execution_count": 18,
   "id": "507ccaf6-f794-4d10-9e5f-7e9354c3c900",
   "metadata": {},
   "outputs": [
    {
     "data": {
      "image/png": "[encoded data removed]",
      "text/plain": [
       "<Figure size 800x250 with 1 Axes>"
      ]
     },
     "metadata": {},
     "output_type": "display_data"
    }
   ],
   "source": [
    "plot_acf(data=train['target1'], partial=True)"
   ]
  },
  {
   "cell_type": "code",
   "execution_count": 19,
   "id": "b52de8f3-0d29-485f-8c2d-ae1293858e3d",
   "metadata": {},
   "outputs": [
    {
     "data": {
      "text/plain": [
       "13"
      ]
     },
     "execution_count": 19,
     "metadata": {},
     "output_type": "execute_result"
    }
   ],
   "source": [
    "ts_acf_last_significant_index(data=train['target1'], partial=True)"
   ]
  },
  {
   "cell_type": "markdown",
   "id": "77fa3961-025b-4ddb-aa69-0edbb380650c",
   "metadata": {},
   "source": [
    "## Trend and Seasonality of aggregated by Day data"
   ]
  },
  {
   "cell_type": "code",
   "execution_count": 20,
   "id": "f9d48f21-b205-41ad-adac-fd4736c91a0c",
   "metadata": {},
   "outputs": [],
   "source": [
    "stl_day = statsmodels.tsa.seasonal.STL(train.resample('d').mean()['target1']).fit()"
   ]
  },
  {
   "cell_type": "code",
   "execution_count": 21,
   "id": "99e8a66f-3b41-427f-93af-0fa955e53801",
   "metadata": {},
   "outputs": [
    {
     "data": {
      "image/png": "[encoded data removed]",
      "text/plain": [
       "<Figure size 1000x600 with 4 Axes>"
      ]
     },
     "metadata": {},
     "output_type": "display_data"
    }
   ],
   "source": [
    "fig, ax = plt.subplots(4, 1, figsize=(10, 6), sharex=True)\n",
    "\n",
    "ax[0].plot(stl_day.observed)\n",
    "axis_rstyle(ax=ax[0], yticks=[25000, 40000, 5000])\n",
    "ax[0].spines['bottom'].set_visible(False)\n",
    "ax[0].tick_params(bottom=False)\n",
    "\n",
    "ax[1].plot(stl_day.trend)\n",
    "axis_rstyle(ax=ax[1], yticks=[25000, 40000, 5000])\n",
    "ax[1].spines['bottom'].set_visible(False)\n",
    "ax[1].tick_params(bottom=False)\n",
    "\n",
    "ax[2].plot(stl_day.seasonal)\n",
    "axis_rstyle(ax=ax[2], yticks=[-4000, 2000, 2000])\n",
    "ax[2].spines['bottom'].set_visible(False)\n",
    "ax[2].tick_params(bottom=False)\n",
    "\n",
    "ax[3].bar(x=train.resample('D').mean().index, height=stl_day.resid, width=0.5)\n",
    "axis_rstyle(ax=ax[3], yticks=[-4000, 2000, 2000])\n",
    "\n",
    "plt.subplots_adjust(hspace=0.25)\n",
    "plt.show()"
   ]
  },
  {
   "cell_type": "markdown",
   "id": "07964d6b-7ccf-4bc5-80bb-3be802e6e239",
   "metadata": {},
   "source": [
    "## Design and datasets preparation\n",
    "\n",
    "Use 3 datasets:\n",
    "\n",
    "1. One rpevious month data: July data;\n",
    "2. Manually chosen data: May-June;\n",
    "3. Full data: January-July;\n",
    "\n",
    "Preconditions:\n",
    "\n",
    "1. Most closest to target data;\n",
    "2. Data, that may have most similar tendency with target."
   ]
  },
  {
   "cell_type": "code",
   "execution_count": 22,
   "id": "d8333806-52f4-48e7-9e52-1275ae533083",
   "metadata": {},
   "outputs": [],
   "source": [
    "y1 = train.loc['2017-07-01':, 'target1'].copy()"
   ]
  },
  {
   "cell_type": "code",
   "execution_count": 23,
   "id": "8ee4ed8a-a2b4-4f9d-8aae-f08aad880ebd",
   "metadata": {},
   "outputs": [],
   "source": [
    "y2 = train.loc['2017-05-01':'2017-06-30', 'target1'].copy()"
   ]
  },
  {
   "cell_type": "code",
   "execution_count": 24,
   "id": "58e645f5-5621-4434-9f8c-2c9064c16196",
   "metadata": {},
   "outputs": [],
   "source": [
    "y3 = train['target1'].copy()"
   ]
  },
  {
   "cell_type": "code",
   "execution_count": 25,
   "id": "809b4565-2f8e-4305-85ff-e3e9c8d44e38",
   "metadata": {},
   "outputs": [],
   "source": [
    "y_true = valid['target1'].copy()"
   ]
  },
  {
   "cell_type": "markdown",
   "id": "bb19895f-6700-4cb4-8622-41f8f17febf8",
   "metadata": {},
   "source": [
    "## Dataset: y1 - July data"
   ]
  },
  {
   "cell_type": "markdown",
   "id": "0440a58e-c1aa-4c2a-854e-f6fdbd424581",
   "metadata": {},
   "source": [
    "### Model: ARIMA"
   ]
  },
  {
   "cell_type": "markdown",
   "id": "7682da8b-822e-4a16-add3-b0673cb58782",
   "metadata": {},
   "source": [
    "#### ACF and PACF for differenced data"
   ]
  },
  {
   "cell_type": "code",
   "execution_count": 26,
   "id": "11d599be-afde-4dc8-bcbe-5c8b7a89db4c",
   "metadata": {},
   "outputs": [
    {
     "data": {
      "image/png": "[encoded data removed]",
      "text/plain": [
       "<Figure size 800x250 with 1 Axes>"
      ]
     },
     "metadata": {},
     "output_type": "display_data"
    }
   ],
   "source": [
    "plot_acf(data=y1.diff(1)[1:])"
   ]
  },
  {
   "cell_type": "code",
   "execution_count": 27,
   "id": "a7c9eb19-9160-4db2-85e6-742cf390418b",
   "metadata": {},
   "outputs": [
    {
     "data": {
      "image/png": "[encoded data removed]",
      "text/plain": [
       "<Figure size 800x250 with 1 Axes>"
      ]
     },
     "metadata": {},
     "output_type": "display_data"
    }
   ],
   "source": [
    "plot_acf(data=y1.diff(1)[1:], partial=True)"
   ]
  },
  {
   "cell_type": "markdown",
   "id": "37073d37-32a5-452c-8e62-1358e91a01f6",
   "metadata": {},
   "source": [
    "#### Model selection"
   ]
  },
  {
   "cell_type": "code",
   "execution_count": 28,
   "id": "b61adb1e-7dce-4872-a3ee-b728d0536f12",
   "metadata": {},
   "outputs": [],
   "source": [
    "arima311 = SARIMAX(\n",
    "    y1, exog=None,\n",
    "    order=(3,1,1),\n",
    "    seasonal_order=(0, 0, 0, 0)\n",
    ").fit(maxiter=1000, disp=False)"
   ]
  },
  {
   "cell_type": "code",
   "execution_count": 29,
   "id": "58bd1ee9-2966-45ad-be53-c9307801f2fd",
   "metadata": {},
   "outputs": [
    {
     "name": "stdout",
     "output_type": "stream",
     "text": [
      "                               SARIMAX Results                                \n",
      "==============================================================================\n",
      "Dep. Variable:                target1   No. Observations:                 4464\n",
      "Model:               SARIMAX(3, 1, 1)   Log Likelihood              -33786.005\n",
      "Date:                Fri, 29 Mar 2024   AIC                          67582.010\n",
      "Time:                        21:28:23   BIC                          67614.028\n",
      "Sample:                    07-01-2017   HQIC                         67593.296\n",
      "                         - 07-31-2017                                         \n",
      "Covariance Type:                  opg                                         \n",
      "==============================================================================\n",
      "                 coef    std err          z      P>|z|      [0.025      0.975]\n",
      "------------------------------------------------------------------------------\n",
      "ar.L1          0.9631      0.107      9.015      0.000       0.754       1.173\n",
      "ar.L2         -0.2024      0.064     -3.180      0.001      -0.327      -0.078\n",
      "ar.L3          0.0751      0.017      4.526      0.000       0.043       0.108\n",
      "ma.L1         -0.3768      0.106     -3.541      0.000      -0.585      -0.168\n",
      "sigma2      2.119e+05   1567.495    135.194      0.000    2.09e+05    2.15e+05\n",
      "===================================================================================\n",
      "Ljung-Box (L1) (Q):                   8.92   Jarque-Bera (JB):             63333.72\n",
      "Prob(Q):                              0.00   Prob(JB):                         0.00\n",
      "Heteroskedasticity (H):               0.51   Skew:                             0.30\n",
      "Prob(H) (two-sided):                  0.00   Kurtosis:                        21.45\n",
      "===================================================================================\n",
      "\n",
      "Warnings:\n",
      "[1] Covariance matrix calculated using the outer product of gradients (complex-step).\n"
     ]
    }
   ],
   "source": [
    "print(arima311.summary())"
   ]
  },
  {
   "cell_type": "code",
   "execution_count": 30,
   "id": "c1f6fe3e-cfe0-42ad-b0be-d0d376f8af69",
   "metadata": {},
   "outputs": [
    {
     "data": {
      "image/png": "[encoded data removed]",
      "text/plain": [
       "<Figure size 800x250 with 1 Axes>"
      ]
     },
     "metadata": {},
     "output_type": "display_data"
    }
   ],
   "source": [
    "# should plot resid[d:], where d is d-order of ARIMA model\n",
    "plot_acf(data=arima311.resid[1:])"
   ]
  },
  {
   "cell_type": "code",
   "execution_count": 31,
   "id": "c9faefcb-7d10-45f0-9f15-358fe00e8ec7",
   "metadata": {},
   "outputs": [
    {
     "data": {
      "image/png": "[encoded data removed]",
      "text/plain": [
       "<Figure size 900x500 with 4 Axes>"
      ]
     },
     "metadata": {},
     "output_type": "display_data"
    }
   ],
   "source": [
    "fig = arima311.plot_diagnostics(figsize=(9, 5), acf_kwargs={'markersize': 1})\n",
    "plt.subplots_adjust(hspace=0.75)"
   ]
  },
  {
   "cell_type": "code",
   "execution_count": 32,
   "id": "2e5e91bc-3570-41ec-bd19-a1c56a15e964",
   "metadata": {},
   "outputs": [],
   "source": [
    "model_auto = auto_arima(y1)"
   ]
  },
  {
   "cell_type": "code",
   "execution_count": 33,
   "id": "8934f5a5-0429-4d1a-acfb-d2aa976e58b7",
   "metadata": {},
   "outputs": [
    {
     "data": {
      "text/html": [
       "<style>#sk-container-id-1 {\n",
       "  /* Definition of color scheme common for light and dark mode */\n",
       "  --sklearn-color-text: black;\n",
       "  --sklearn-color-line: gray;\n",
       "  /* Definition of color scheme for unfitted estimators */\n",
       "  --sklearn-color-unfitted-level-0: #fff5e6;\n",
       "  --sklearn-color-unfitted-level-1: #f6e4d2;\n",
       "  --sklearn-color-unfitted-level-2: #ffe0b3;\n",
       "  --sklearn-color-unfitted-level-3: chocolate;\n",
       "  /* Definition of color scheme for fitted estimators */\n",
       "  --sklearn-color-fitted-level-0: #f0f8ff;\n",
       "  --sklearn-color-fitted-level-1: #d4ebff;\n",
       "  --sklearn-color-fitted-level-2: #b3dbfd;\n",
       "  --sklearn-color-fitted-level-3: cornflowerblue;\n",
       "\n",
       "  /* Specific color for light theme */\n",
       "  --sklearn-color-text-on-default-background: var(--sg-text-color, var(--theme-code-foreground, var(--jp-content-font-color1, black)));\n",
       "  --sklearn-color-background: var(--sg-background-color, var(--theme-background, var(--jp-layout-color0, white)));\n",
       "  --sklearn-color-border-box: var(--sg-text-color, var(--theme-code-foreground, var(--jp-content-font-color1, black)));\n",
       "  --sklearn-color-icon: #696969;\n",
       "\n",
       "  @media (prefers-color-scheme: dark) {\n",
       "    /* Redefinition of color scheme for dark theme */\n",
       "    --sklearn-color-text-on-default-background: var(--sg-text-color, var(--theme-code-foreground, var(--jp-content-font-color1, white)));\n",
       "    --sklearn-color-background: var(--sg-background-color, var(--theme-background, var(--jp-layout-color0, #111)));\n",
       "    --sklearn-color-border-box: var(--sg-text-color, var(--theme-code-foreground, var(--jp-content-font-color1, white)));\n",
       "    --sklearn-color-icon: #878787;\n",
       "  }\n",
       "}\n",
       "\n",
       "#sk-container-id-1 {\n",
       "  color: var(--sklearn-color-text);\n",
       "}\n",
       "\n",
       "#sk-container-id-1 pre {\n",
       "  padding: 0;\n",
       "}\n",
       "\n",
       "#sk-container-id-1 input.sk-hidden--visually {\n",
       "  border: 0;\n",
       "  clip: rect(1px 1px 1px 1px);\n",
       "  clip: rect(1px, 1px, 1px, 1px);\n",
       "  height: 1px;\n",
       "  margin: -1px;\n",
       "  overflow: hidden;\n",
       "  padding: 0;\n",
       "  position: absolute;\n",
       "  width: 1px;\n",
       "}\n",
       "\n",
       "#sk-container-id-1 div.sk-dashed-wrapped {\n",
       "  border: 1px dashed var(--sklearn-color-line);\n",
       "  margin: 0 0.4em 0.5em 0.4em;\n",
       "  box-sizing: border-box;\n",
       "  padding-bottom: 0.4em;\n",
       "  background-color: var(--sklearn-color-background);\n",
       "}\n",
       "\n",
       "#sk-container-id-1 div.sk-container {\n",
       "  /* jupyter's `normalize.less` sets `[hidden] { display: none; }`\n",
       "     but bootstrap.min.css set `[hidden] { display: none !important; }`\n",
       "     so we also need the `!important` here to be able to override the\n",
       "     default hidden behavior on the sphinx rendered scikit-learn.org.\n",
       "     See: https://github.com/scikit-learn/scikit-learn/issues/21755 */\n",
       "  display: inline-block !important;\n",
       "  position: relative;\n",
       "}\n",
       "\n",
       "#sk-container-id-1 div.sk-text-repr-fallback {\n",
       "  display: none;\n",
       "}\n",
       "\n",
       "div.sk-parallel-item,\n",
       "div.sk-serial,\n",
       "div.sk-item {\n",
       "  /* draw centered vertical line to link estimators */\n",
       "  background-image: linear-gradient(var(--sklearn-color-text-on-default-background), var(--sklearn-color-text-on-default-background));\n",
       "  background-size: 2px 100%;\n",
       "  background-repeat: no-repeat;\n",
       "  background-position: center center;\n",
       "}\n",
       "\n",
       "/* Parallel-specific style estimator block */\n",
       "\n",
       "#sk-container-id-1 div.sk-parallel-item::after {\n",
       "  content: \"\";\n",
       "  width: 100%;\n",
       "  border-bottom: 2px solid var(--sklearn-color-text-on-default-background);\n",
       "  flex-grow: 1;\n",
       "}\n",
       "\n",
       "#sk-container-id-1 div.sk-parallel {\n",
       "  display: flex;\n",
       "  align-items: stretch;\n",
       "  justify-content: center;\n",
       "  background-color: var(--sklearn-color-background);\n",
       "  position: relative;\n",
       "}\n",
       "\n",
       "#sk-container-id-1 div.sk-parallel-item {\n",
       "  display: flex;\n",
       "  flex-direction: column;\n",
       "}\n",
       "\n",
       "#sk-container-id-1 div.sk-parallel-item:first-child::after {\n",
       "  align-self: flex-end;\n",
       "  width: 50%;\n",
       "}\n",
       "\n",
       "#sk-container-id-1 div.sk-parallel-item:last-child::after {\n",
       "  align-self: flex-start;\n",
       "  width: 50%;\n",
       "}\n",
       "\n",
       "#sk-container-id-1 div.sk-parallel-item:only-child::after {\n",
       "  width: 0;\n",
       "}\n",
       "\n",
       "/* Serial-specific style estimator block */\n",
       "\n",
       "#sk-container-id-1 div.sk-serial {\n",
       "  display: flex;\n",
       "  flex-direction: column;\n",
       "  align-items: center;\n",
       "  background-color: var(--sklearn-color-background);\n",
       "  padding-right: 1em;\n",
       "  padding-left: 1em;\n",
       "}\n",
       "\n",
       "\n",
       "/* Toggleable style: style used for estimator/Pipeline/ColumnTransformer box that is\n",
       "clickable and can be expanded/collapsed.\n",
       "- Pipeline and ColumnTransformer use this feature and define the default style\n",
       "- Estimators will overwrite some part of the style using the `sk-estimator` class\n",
       "*/\n",
       "\n",
       "/* Pipeline and ColumnTransformer style (default) */\n",
       "\n",
       "#sk-container-id-1 div.sk-toggleable {\n",
       "  /* Default theme specific background. It is overwritten whether we have a\n",
       "  specific estimator or a Pipeline/ColumnTransformer */\n",
       "  background-color: var(--sklearn-color-background);\n",
       "}\n",
       "\n",
       "/* Toggleable label */\n",
       "#sk-container-id-1 label.sk-toggleable__label {\n",
       "  cursor: pointer;\n",
       "  display: block;\n",
       "  width: 100%;\n",
       "  margin-bottom: 0;\n",
       "  padding: 0.5em;\n",
       "  box-sizing: border-box;\n",
       "  text-align: center;\n",
       "}\n",
       "\n",
       "#sk-container-id-1 label.sk-toggleable__label-arrow:before {\n",
       "  /* Arrow on the left of the label */\n",
       "  content: \"▸\";\n",
       "  float: left;\n",
       "  margin-right: 0.25em;\n",
       "  color: var(--sklearn-color-icon);\n",
       "}\n",
       "\n",
       "#sk-container-id-1 label.sk-toggleable__label-arrow:hover:before {\n",
       "  color: var(--sklearn-color-text);\n",
       "}\n",
       "\n",
       "/* Toggleable content - dropdown */\n",
       "\n",
       "#sk-container-id-1 div.sk-toggleable__content {\n",
       "  max-height: 0;\n",
       "  max-width: 0;\n",
       "  overflow: hidden;\n",
       "  text-align: left;\n",
       "  /* unfitted */\n",
       "  background-color: var(--sklearn-color-unfitted-level-0);\n",
       "}\n",
       "\n",
       "#sk-container-id-1 div.sk-toggleable__content.fitted {\n",
       "  /* fitted */\n",
       "  background-color: var(--sklearn-color-fitted-level-0);\n",
       "}\n",
       "\n",
       "#sk-container-id-1 div.sk-toggleable__content pre {\n",
       "  margin: 0.2em;\n",
       "  border-radius: 0.25em;\n",
       "  color: var(--sklearn-color-text);\n",
       "  /* unfitted */\n",
       "  background-color: var(--sklearn-color-unfitted-level-0);\n",
       "}\n",
       "\n",
       "#sk-container-id-1 div.sk-toggleable__content.fitted pre {\n",
       "  /* unfitted */\n",
       "  background-color: var(--sklearn-color-fitted-level-0);\n",
       "}\n",
       "\n",
       "#sk-container-id-1 input.sk-toggleable__control:checked~div.sk-toggleable__content {\n",
       "  /* Expand drop-down */\n",
       "  max-height: 200px;\n",
       "  max-width: 100%;\n",
       "  overflow: auto;\n",
       "}\n",
       "\n",
       "#sk-container-id-1 input.sk-toggleable__control:checked~label.sk-toggleable__label-arrow:before {\n",
       "  content: \"▾\";\n",
       "}\n",
       "\n",
       "/* Pipeline/ColumnTransformer-specific style */\n",
       "\n",
       "#sk-container-id-1 div.sk-label input.sk-toggleable__control:checked~label.sk-toggleable__label {\n",
       "  color: var(--sklearn-color-text);\n",
       "  background-color: var(--sklearn-color-unfitted-level-2);\n",
       "}\n",
       "\n",
       "#sk-container-id-1 div.sk-label.fitted input.sk-toggleable__control:checked~label.sk-toggleable__label {\n",
       "  background-color: var(--sklearn-color-fitted-level-2);\n",
       "}\n",
       "\n",
       "/* Estimator-specific style */\n",
       "\n",
       "/* Colorize estimator box */\n",
       "#sk-container-id-1 div.sk-estimator input.sk-toggleable__control:checked~label.sk-toggleable__label {\n",
       "  /* unfitted */\n",
       "  background-color: var(--sklearn-color-unfitted-level-2);\n",
       "}\n",
       "\n",
       "#sk-container-id-1 div.sk-estimator.fitted input.sk-toggleable__control:checked~label.sk-toggleable__label {\n",
       "  /* fitted */\n",
       "  background-color: var(--sklearn-color-fitted-level-2);\n",
       "}\n",
       "\n",
       "#sk-container-id-1 div.sk-label label.sk-toggleable__label,\n",
       "#sk-container-id-1 div.sk-label label {\n",
       "  /* The background is the default theme color */\n",
       "  color: var(--sklearn-color-text-on-default-background);\n",
       "}\n",
       "\n",
       "/* On hover, darken the color of the background */\n",
       "#sk-container-id-1 div.sk-label:hover label.sk-toggleable__label {\n",
       "  color: var(--sklearn-color-text);\n",
       "  background-color: var(--sklearn-color-unfitted-level-2);\n",
       "}\n",
       "\n",
       "/* Label box, darken color on hover, fitted */\n",
       "#sk-container-id-1 div.sk-label.fitted:hover label.sk-toggleable__label.fitted {\n",
       "  color: var(--sklearn-color-text);\n",
       "  background-color: var(--sklearn-color-fitted-level-2);\n",
       "}\n",
       "\n",
       "/* Estimator label */\n",
       "\n",
       "#sk-container-id-1 div.sk-label label {\n",
       "  font-family: monospace;\n",
       "  font-weight: bold;\n",
       "  display: inline-block;\n",
       "  line-height: 1.2em;\n",
       "}\n",
       "\n",
       "#sk-container-id-1 div.sk-label-container {\n",
       "  text-align: center;\n",
       "}\n",
       "\n",
       "/* Estimator-specific */\n",
       "#sk-container-id-1 div.sk-estimator {\n",
       "  font-family: monospace;\n",
       "  border: 1px dotted var(--sklearn-color-border-box);\n",
       "  border-radius: 0.25em;\n",
       "  box-sizing: border-box;\n",
       "  margin-bottom: 0.5em;\n",
       "  /* unfitted */\n",
       "  background-color: var(--sklearn-color-unfitted-level-0);\n",
       "}\n",
       "\n",
       "#sk-container-id-1 div.sk-estimator.fitted {\n",
       "  /* fitted */\n",
       "  background-color: var(--sklearn-color-fitted-level-0);\n",
       "}\n",
       "\n",
       "/* on hover */\n",
       "#sk-container-id-1 div.sk-estimator:hover {\n",
       "  /* unfitted */\n",
       "  background-color: var(--sklearn-color-unfitted-level-2);\n",
       "}\n",
       "\n",
       "#sk-container-id-1 div.sk-estimator.fitted:hover {\n",
       "  /* fitted */\n",
       "  background-color: var(--sklearn-color-fitted-level-2);\n",
       "}\n",
       "\n",
       "/* Specification for estimator info (e.g. \"i\" and \"?\") */\n",
       "\n",
       "/* Common style for \"i\" and \"?\" */\n",
       "\n",
       ".sk-estimator-doc-link,\n",
       "a:link.sk-estimator-doc-link,\n",
       "a:visited.sk-estimator-doc-link {\n",
       "  float: right;\n",
       "  font-size: smaller;\n",
       "  line-height: 1em;\n",
       "  font-family: monospace;\n",
       "  background-color: var(--sklearn-color-background);\n",
       "  border-radius: 1em;\n",
       "  height: 1em;\n",
       "  width: 1em;\n",
       "  text-decoration: none !important;\n",
       "  margin-left: 1ex;\n",
       "  /* unfitted */\n",
       "  border: var(--sklearn-color-unfitted-level-1) 1pt solid;\n",
       "  color: var(--sklearn-color-unfitted-level-1);\n",
       "}\n",
       "\n",
       ".sk-estimator-doc-link.fitted,\n",
       "a:link.sk-estimator-doc-link.fitted,\n",
       "a:visited.sk-estimator-doc-link.fitted {\n",
       "  /* fitted */\n",
       "  border: var(--sklearn-color-fitted-level-1) 1pt solid;\n",
       "  color: var(--sklearn-color-fitted-level-1);\n",
       "}\n",
       "\n",
       "/* On hover */\n",
       "div.sk-estimator:hover .sk-estimator-doc-link:hover,\n",
       ".sk-estimator-doc-link:hover,\n",
       "div.sk-label-container:hover .sk-estimator-doc-link:hover,\n",
       ".sk-estimator-doc-link:hover {\n",
       "  /* unfitted */\n",
       "  background-color: var(--sklearn-color-unfitted-level-3);\n",
       "  color: var(--sklearn-color-background);\n",
       "  text-decoration: none;\n",
       "}\n",
       "\n",
       "div.sk-estimator.fitted:hover .sk-estimator-doc-link.fitted:hover,\n",
       ".sk-estimator-doc-link.fitted:hover,\n",
       "div.sk-label-container:hover .sk-estimator-doc-link.fitted:hover,\n",
       ".sk-estimator-doc-link.fitted:hover {\n",
       "  /* fitted */\n",
       "  background-color: var(--sklearn-color-fitted-level-3);\n",
       "  color: var(--sklearn-color-background);\n",
       "  text-decoration: none;\n",
       "}\n",
       "\n",
       "/* Span, style for the box shown on hovering the info icon */\n",
       ".sk-estimator-doc-link span {\n",
       "  display: none;\n",
       "  z-index: 9999;\n",
       "  position: relative;\n",
       "  font-weight: normal;\n",
       "  right: .2ex;\n",
       "  padding: .5ex;\n",
       "  margin: .5ex;\n",
       "  width: min-content;\n",
       "  min-width: 20ex;\n",
       "  max-width: 50ex;\n",
       "  color: var(--sklearn-color-text);\n",
       "  box-shadow: 2pt 2pt 4pt #999;\n",
       "  /* unfitted */\n",
       "  background: var(--sklearn-color-unfitted-level-0);\n",
       "  border: .5pt solid var(--sklearn-color-unfitted-level-3);\n",
       "}\n",
       "\n",
       ".sk-estimator-doc-link.fitted span {\n",
       "  /* fitted */\n",
       "  background: var(--sklearn-color-fitted-level-0);\n",
       "  border: var(--sklearn-color-fitted-level-3);\n",
       "}\n",
       "\n",
       ".sk-estimator-doc-link:hover span {\n",
       "  display: block;\n",
       "}\n",
       "\n",
       "/* \"?\"-specific style due to the `<a>` HTML tag */\n",
       "\n",
       "#sk-container-id-1 a.estimator_doc_link {\n",
       "  float: right;\n",
       "  font-size: 1rem;\n",
       "  line-height: 1em;\n",
       "  font-family: monospace;\n",
       "  background-color: var(--sklearn-color-background);\n",
       "  border-radius: 1rem;\n",
       "  height: 1rem;\n",
       "  width: 1rem;\n",
       "  text-decoration: none;\n",
       "  /* unfitted */\n",
       "  color: var(--sklearn-color-unfitted-level-1);\n",
       "  border: var(--sklearn-color-unfitted-level-1) 1pt solid;\n",
       "}\n",
       "\n",
       "#sk-container-id-1 a.estimator_doc_link.fitted {\n",
       "  /* fitted */\n",
       "  border: var(--sklearn-color-fitted-level-1) 1pt solid;\n",
       "  color: var(--sklearn-color-fitted-level-1);\n",
       "}\n",
       "\n",
       "/* On hover */\n",
       "#sk-container-id-1 a.estimator_doc_link:hover {\n",
       "  /* unfitted */\n",
       "  background-color: var(--sklearn-color-unfitted-level-3);\n",
       "  color: var(--sklearn-color-background);\n",
       "  text-decoration: none;\n",
       "}\n",
       "\n",
       "#sk-container-id-1 a.estimator_doc_link.fitted:hover {\n",
       "  /* fitted */\n",
       "  background-color: var(--sklearn-color-fitted-level-3);\n",
       "}\n",
       "</style><div id=\"sk-container-id-1\" class=\"sk-top-container\"><div class=\"sk-text-repr-fallback\"><pre> ARIMA(1,1,2)(0,0,0)[0]          </pre><b>In a Jupyter environment, please rerun this cell to show the HTML representation or trust the notebook. <br />On GitHub, the HTML representation is unable to render, please try loading this page with nbviewer.org.</b></div><div class=\"sk-container\" hidden><div class=\"sk-item\"><div class=\"sk-estimator fitted sk-toggleable\"><input class=\"sk-toggleable__control sk-hidden--visually\" id=\"sk-estimator-id-1\" type=\"checkbox\" checked><label for=\"sk-estimator-id-1\" class=\"sk-toggleable__label fitted sk-toggleable__label-arrow fitted\">&nbsp;ARIMA<span class=\"sk-estimator-doc-link fitted\">i<span>Fitted</span></span></label><div class=\"sk-toggleable__content fitted\"><pre> ARIMA(1,1,2)(0,0,0)[0]          </pre></div> </div></div></div></div>"
      ],
      "text/plain": [
       "ARIMA(order=(1, 1, 2), scoring_args={}, suppress_warnings=True,\n",
       "      with_intercept=False)"
      ]
     },
     "execution_count": 33,
     "metadata": {},
     "output_type": "execute_result"
    }
   ],
   "source": [
    "model_auto"
   ]
  },
  {
   "cell_type": "code",
   "execution_count": 34,
   "id": "1890f16f-f690-40aa-81e5-3baabab8fdc5",
   "metadata": {},
   "outputs": [],
   "source": [
    "arima_auto = SARIMAX(\n",
    "    y1, exog=None,\n",
    "    order=(1,1,2),\n",
    "    seasonal_order=(0, 0, 0, 0)\n",
    ").fit(maxiter=1000, disp=False)"
   ]
  },
  {
   "cell_type": "code",
   "execution_count": 35,
   "id": "bab37ed4-e866-43f8-92ac-1803a2b3d470",
   "metadata": {},
   "outputs": [
    {
     "name": "stdout",
     "output_type": "stream",
     "text": [
      "                               SARIMAX Results                                \n",
      "==============================================================================\n",
      "Dep. Variable:                      y   No. Observations:                 4464\n",
      "Model:               SARIMAX(1, 1, 2)   Log Likelihood              -33786.090\n",
      "Date:                Fri, 29 Mar 2024   AIC                          67580.181\n",
      "Time:                        21:29:10   BIC                          67605.795\n",
      "Sample:                    07-01-2017   HQIC                         67589.210\n",
      "                         - 07-31-2017                                         \n",
      "Covariance Type:                  opg                                         \n",
      "==============================================================================\n",
      "                 coef    std err          z      P>|z|      [0.025      0.975]\n",
      "------------------------------------------------------------------------------\n",
      "ar.L1          0.8373      0.010     82.181      0.000       0.817       0.857\n",
      "ma.L1         -0.2494      0.013    -19.557      0.000      -0.274      -0.224\n",
      "ma.L2         -0.1273      0.014     -9.032      0.000      -0.155      -0.100\n",
      "sigma2      2.116e+05   1562.110    135.451      0.000    2.09e+05    2.15e+05\n",
      "===================================================================================\n",
      "Ljung-Box (L1) (Q):                   8.44   Jarque-Bera (JB):             63355.98\n",
      "Prob(Q):                              0.00   Prob(JB):                         0.00\n",
      "Heteroskedasticity (H):               0.51   Skew:                             0.30\n",
      "Prob(H) (two-sided):                  0.00   Kurtosis:                        21.45\n",
      "===================================================================================\n",
      "\n",
      "Warnings:\n",
      "[1] Covariance matrix calculated using the outer product of gradients (complex-step).\n"
     ]
    }
   ],
   "source": [
    "print(model_auto.summary())"
   ]
  },
  {
   "cell_type": "code",
   "execution_count": 36,
   "id": "1595ae59-ad96-4be4-b6ae-978f83770d68",
   "metadata": {},
   "outputs": [
    {
     "data": {
      "image/png": "[encoded data removed]",
      "text/plain": [
       "<Figure size 800x250 with 1 Axes>"
      ]
     },
     "metadata": {},
     "output_type": "display_data"
    }
   ],
   "source": [
    "# should plot resid[d:], where d is d-order of ARIMA model\n",
    "plot_acf(data=model_auto.resid()[1:])"
   ]
  },
  {
   "cell_type": "code",
   "execution_count": 37,
   "id": "b598c2ae-6270-4f9a-ba99-7fa5e0c7a435",
   "metadata": {},
   "outputs": [
    {
     "name": "stdout",
     "output_type": "stream",
     "text": [
      "p-value: 1.0\n"
     ]
    }
   ],
   "source": [
    "test_LLR(arima311, arima_auto)"
   ]
  },
  {
   "cell_type": "code",
   "execution_count": 38,
   "id": "ccf539f8-5c6d-44f1-866f-a49aa2a1a284",
   "metadata": {},
   "outputs": [
    {
     "data": {
      "text/plain": [
       "True"
      ]
     },
     "execution_count": 38,
     "metadata": {},
     "output_type": "execute_result"
    }
   ],
   "source": [
    "arima_auto.aic < arima311.aic"
   ]
  },
  {
   "cell_type": "markdown",
   "id": "27398e51-8277-4841-ae6d-caf342522786",
   "metadata": {},
   "source": [
    "#### Final ARIMA"
   ]
  },
  {
   "cell_type": "code",
   "execution_count": 39,
   "id": "b7ff23f7-bb42-43aa-81ab-f16c00d2dc70",
   "metadata": {},
   "outputs": [],
   "source": [
    "arima = arima_auto"
   ]
  },
  {
   "cell_type": "code",
   "execution_count": 40,
   "id": "d45af9b5-d96e-42f5-986d-764f1ad69736",
   "metadata": {},
   "outputs": [
    {
     "name": "stdout",
     "output_type": "stream",
     "text": [
      "                               SARIMAX Results                                \n",
      "==============================================================================\n",
      "Dep. Variable:                target1   No. Observations:                 4464\n",
      "Model:               SARIMAX(1, 1, 2)   Log Likelihood              -33786.090\n",
      "Date:                Fri, 29 Mar 2024   AIC                          67580.181\n",
      "Time:                        21:29:10   BIC                          67605.795\n",
      "Sample:                    07-01-2017   HQIC                         67589.210\n",
      "                         - 07-31-2017                                         \n",
      "Covariance Type:                  opg                                         \n",
      "==============================================================================\n",
      "                 coef    std err          z      P>|z|      [0.025      0.975]\n",
      "------------------------------------------------------------------------------\n",
      "ar.L1          0.8373      0.010     82.181      0.000       0.817       0.857\n",
      "ma.L1         -0.2494      0.013    -19.557      0.000      -0.274      -0.224\n",
      "ma.L2         -0.1273      0.014     -9.032      0.000      -0.155      -0.100\n",
      "sigma2      2.116e+05   1562.110    135.451      0.000    2.09e+05    2.15e+05\n",
      "===================================================================================\n",
      "Ljung-Box (L1) (Q):                   8.44   Jarque-Bera (JB):             63355.98\n",
      "Prob(Q):                              0.00   Prob(JB):                         0.00\n",
      "Heteroskedasticity (H):               0.51   Skew:                             0.30\n",
      "Prob(H) (two-sided):                  0.00   Kurtosis:                        21.45\n",
      "===================================================================================\n",
      "\n",
      "Warnings:\n",
      "[1] Covariance matrix calculated using the outer product of gradients (complex-step).\n"
     ]
    }
   ],
   "source": [
    "print(arima.summary())"
   ]
  },
  {
   "cell_type": "markdown",
   "id": "8975540b-f90b-4983-a7b0-c3e3a3e344ac",
   "metadata": {},
   "source": [
    "#### Forecast"
   ]
  },
  {
   "cell_type": "code",
   "execution_count": 41,
   "id": "cbbd8fcc-66dd-4a5e-82c9-ad8782cd05bd",
   "metadata": {},
   "outputs": [
    {
     "data": {
      "text/plain": [
       "4464"
      ]
     },
     "execution_count": 41,
     "metadata": {},
     "output_type": "execute_result"
    }
   ],
   "source": [
    "len(y_true)"
   ]
  },
  {
   "cell_type": "code",
   "execution_count": 42,
   "id": "5deafece-7d76-40ed-9ca2-a0dfe958cfe0",
   "metadata": {},
   "outputs": [],
   "source": [
    "arima_f = ts_arima_forecast(arima, steps=4464, data=y1.to_frame(), ci=[80, 95])"
   ]
  },
  {
   "cell_type": "code",
   "execution_count": 43,
   "id": "073c5f32-5ba8-4960-9685-702de82bea27",
   "metadata": {},
   "outputs": [
    {
     "data": {
      "text/html": [
       "<div>\n",
       "<style scoped>\n",
       "    .dataframe tbody tr th:only-of-type {\n",
       "        vertical-align: middle;\n",
       "    }\n",
       "\n",
       "    .dataframe tbody tr th {\n",
       "        vertical-align: top;\n",
       "    }\n",
       "\n",
       "    .dataframe thead th {\n",
       "        text-align: right;\n",
       "    }\n",
       "</style>\n",
       "<table border=\"1\" class=\"dataframe\">\n",
       "  <thead>\n",
       "    <tr style=\"text-align: right;\">\n",
       "      <th></th>\n",
       "      <th>data</th>\n",
       "      <th>is_forecast</th>\n",
       "      <th>lower_ci80</th>\n",
       "      <th>upper_ci80</th>\n",
       "      <th>lower_ci95</th>\n",
       "      <th>upper_ci95</th>\n",
       "    </tr>\n",
       "  </thead>\n",
       "  <tbody>\n",
       "    <tr>\n",
       "      <th>2017-07-01 00:00:00</th>\n",
       "      <td>36384.318940</td>\n",
       "      <td>0</td>\n",
       "      <td>NaN</td>\n",
       "      <td>NaN</td>\n",
       "      <td>NaN</td>\n",
       "      <td>NaN</td>\n",
       "    </tr>\n",
       "    <tr>\n",
       "      <th>2017-07-01 00:10:00</th>\n",
       "      <td>35689.036540</td>\n",
       "      <td>0</td>\n",
       "      <td>NaN</td>\n",
       "      <td>NaN</td>\n",
       "      <td>NaN</td>\n",
       "      <td>NaN</td>\n",
       "    </tr>\n",
       "    <tr>\n",
       "      <th>2017-07-01 00:20:00</th>\n",
       "      <td>34751.362130</td>\n",
       "      <td>0</td>\n",
       "      <td>NaN</td>\n",
       "      <td>NaN</td>\n",
       "      <td>NaN</td>\n",
       "      <td>NaN</td>\n",
       "    </tr>\n",
       "    <tr>\n",
       "      <th>2017-07-01 00:30:00</th>\n",
       "      <td>33954.019930</td>\n",
       "      <td>0</td>\n",
       "      <td>NaN</td>\n",
       "      <td>NaN</td>\n",
       "      <td>NaN</td>\n",
       "      <td>NaN</td>\n",
       "    </tr>\n",
       "    <tr>\n",
       "      <th>2017-07-01 00:40:00</th>\n",
       "      <td>33411.827240</td>\n",
       "      <td>0</td>\n",
       "      <td>NaN</td>\n",
       "      <td>NaN</td>\n",
       "      <td>NaN</td>\n",
       "      <td>NaN</td>\n",
       "    </tr>\n",
       "    <tr>\n",
       "      <th>...</th>\n",
       "      <td>...</td>\n",
       "      <td>...</td>\n",
       "      <td>...</td>\n",
       "      <td>...</td>\n",
       "      <td>...</td>\n",
       "      <td>...</td>\n",
       "    </tr>\n",
       "    <tr>\n",
       "      <th>2017-08-31 23:10:00</th>\n",
       "      <td>34962.031134</td>\n",
       "      <td>1</td>\n",
       "      <td>-115727.747411</td>\n",
       "      <td>185651.809679</td>\n",
       "      <td>-195498.097609</td>\n",
       "      <td>265422.159877</td>\n",
       "    </tr>\n",
       "    <tr>\n",
       "      <th>2017-08-31 23:20:00</th>\n",
       "      <td>34962.031134</td>\n",
       "      <td>1</td>\n",
       "      <td>-115744.666420</td>\n",
       "      <td>185668.728689</td>\n",
       "      <td>-195523.973001</td>\n",
       "      <td>265448.035269</td>\n",
       "    </tr>\n",
       "    <tr>\n",
       "      <th>2017-08-31 23:30:00</th>\n",
       "      <td>34962.031134</td>\n",
       "      <td>1</td>\n",
       "      <td>-115761.583531</td>\n",
       "      <td>185685.645799</td>\n",
       "      <td>-195549.845489</td>\n",
       "      <td>265473.907757</td>\n",
       "    </tr>\n",
       "    <tr>\n",
       "      <th>2017-08-31 23:40:00</th>\n",
       "      <td>34962.031134</td>\n",
       "      <td>1</td>\n",
       "      <td>-115778.498742</td>\n",
       "      <td>185702.561011</td>\n",
       "      <td>-195575.715073</td>\n",
       "      <td>265499.777341</td>\n",
       "    </tr>\n",
       "    <tr>\n",
       "      <th>2017-08-31 23:50:00</th>\n",
       "      <td>34962.031134</td>\n",
       "      <td>1</td>\n",
       "      <td>-115795.412056</td>\n",
       "      <td>185719.474324</td>\n",
       "      <td>-195601.581754</td>\n",
       "      <td>265525.644022</td>\n",
       "    </tr>\n",
       "  </tbody>\n",
       "</table>\n",
       "<p>8928 rows × 6 columns</p>\n",
       "</div>"
      ],
      "text/plain": [
       "                             data  is_forecast     lower_ci80     upper_ci80  \\\n",
       "2017-07-01 00:00:00  36384.318940            0            NaN            NaN   \n",
       "2017-07-01 00:10:00  35689.036540            0            NaN            NaN   \n",
       "2017-07-01 00:20:00  34751.362130            0            NaN            NaN   \n",
       "2017-07-01 00:30:00  33954.019930            0            NaN            NaN   \n",
       "2017-07-01 00:40:00  33411.827240            0            NaN            NaN   \n",
       "...                           ...          ...            ...            ...   \n",
       "2017-08-31 23:10:00  34962.031134            1 -115727.747411  185651.809679   \n",
       "2017-08-31 23:20:00  34962.031134            1 -115744.666420  185668.728689   \n",
       "2017-08-31 23:30:00  34962.031134            1 -115761.583531  185685.645799   \n",
       "2017-08-31 23:40:00  34962.031134            1 -115778.498742  185702.561011   \n",
       "2017-08-31 23:50:00  34962.031134            1 -115795.412056  185719.474324   \n",
       "\n",
       "                        lower_ci95     upper_ci95  \n",
       "2017-07-01 00:00:00            NaN            NaN  \n",
       "2017-07-01 00:10:00            NaN            NaN  \n",
       "2017-07-01 00:20:00            NaN            NaN  \n",
       "2017-07-01 00:30:00            NaN            NaN  \n",
       "2017-07-01 00:40:00            NaN            NaN  \n",
       "...                            ...            ...  \n",
       "2017-08-31 23:10:00 -195498.097609  265422.159877  \n",
       "2017-08-31 23:20:00 -195523.973001  265448.035269  \n",
       "2017-08-31 23:30:00 -195549.845489  265473.907757  \n",
       "2017-08-31 23:40:00 -195575.715073  265499.777341  \n",
       "2017-08-31 23:50:00 -195601.581754  265525.644022  \n",
       "\n",
       "[8928 rows x 6 columns]"
      ]
     },
     "execution_count": 43,
     "metadata": {},
     "output_type": "execute_result"
    }
   ],
   "source": [
    "arima_f"
   ]
  },
  {
   "cell_type": "code",
   "execution_count": 44,
   "id": "dd655c0c-c56e-40ee-a671-672633beb5f6",
   "metadata": {},
   "outputs": [
    {
     "data": {
      "image/png": "[encoded data removed]",
      "text/plain": [
       "<Figure size 900x300 with 1 Axes>"
      ]
     },
     "metadata": {},
     "output_type": "display_data"
    }
   ],
   "source": [
    "plt.figure(figsize=(9, 3))\n",
    "ts_plot_arima_forecast(arima_f.iloc[-4464:, :])\n",
    "plt.plot(y_true, color=saturate_color(palette[1], 1))\n",
    "plt.show()"
   ]
  },
  {
   "cell_type": "markdown",
   "id": "84014f92-9adc-4778-8ec8-e07919ea4401",
   "metadata": {},
   "source": [
    "#### RMSE"
   ]
  },
  {
   "cell_type": "code",
   "execution_count": 45,
   "id": "2bf2055a-a33d-43be-8ea7-f4e55235042d",
   "metadata": {},
   "outputs": [
    {
     "data": {
      "text/plain": [
       "0.020071078804053313"
      ]
     },
     "execution_count": 45,
     "metadata": {},
     "output_type": "execute_result"
    }
   ],
   "source": [
    "root_mean_squared_log_error(y_true.shift(1)[1:], y_true[1:])"
   ]
  },
  {
   "cell_type": "code",
   "execution_count": 46,
   "id": "7d8c2ac9-3a81-4435-8cd0-96236175ce64",
   "metadata": {},
   "outputs": [],
   "source": [
    "arima_forecast = arima_f.loc[arima_f['is_forecast']==1, 'data']"
   ]
  },
  {
   "cell_type": "code",
   "execution_count": 47,
   "id": "7f594b82-e259-40d3-b20b-edcd3e6bf0eb",
   "metadata": {},
   "outputs": [
    {
     "data": {
      "text/plain": [
       "0.20186637850241243"
      ]
     },
     "execution_count": 47,
     "metadata": {},
     "output_type": "execute_result"
    }
   ],
   "source": [
    "root_mean_squared_log_error(arima_forecast, y_true)"
   ]
  },
  {
   "cell_type": "markdown",
   "id": "6a808707-9b00-4a0a-8476-9c13f4c3e98f",
   "metadata": {},
   "source": [
    "## Model 1: Monthly model\n",
    "\n",
    "CV '2017-03' : '2017-07'   \n",
    "Test '2017-08'"
   ]
  },
  {
   "cell_type": "markdown",
   "id": "044dee0e-e5f2-42c4-b191-142df2c39fac",
   "metadata": {},
   "source": [
    "### ARIMA without exogs variables"
   ]
  },
  {
   "cell_type": "code",
   "execution_count": 343,
   "id": "03e0302b-4bbf-4609-a18f-0f9e49934929",
   "metadata": {},
   "outputs": [
    {
     "data": {
      "text/plain": [
       "5"
      ]
     },
     "execution_count": 343,
     "metadata": {},
     "output_type": "execute_result"
    }
   ],
   "source": [
    "len(train.loc['2017-03-01':]['month'].unique())"
   ]
  },
  {
   "cell_type": "code",
   "execution_count": 360,
   "id": "a0416745-e660-4d95-b6ed-73b592c6ab86",
   "metadata": {},
   "outputs": [],
   "source": [
    "cv1_indexes_train, cv1_indexes_test = cv_split_indexes(\n",
    "    data=train['target1'], start='2017-03-01', train_size=1,\n",
    "    test_size=1, size_unit='months', n_splits=5, freq='10min')"
   ]
  },
  {
   "cell_type": "code",
   "execution_count": 561,
   "id": "6313deff-6399-4fad-aee6-dc1231dafa72",
   "metadata": {},
   "outputs": [
    {
     "data": {
      "text/plain": [
       "DatetimeIndex(['2017-06-01 00:00:00', '2017-06-01 00:10:00',\n",
       "               '2017-06-01 00:20:00', '2017-06-01 00:30:00',\n",
       "               '2017-06-01 00:40:00', '2017-06-01 00:50:00',\n",
       "               '2017-06-01 01:00:00', '2017-06-01 01:10:00',\n",
       "               '2017-06-01 01:20:00', '2017-06-01 01:30:00',\n",
       "               ...\n",
       "               '2017-06-30 22:20:00', '2017-06-30 22:30:00',\n",
       "               '2017-06-30 22:40:00', '2017-06-30 22:50:00',\n",
       "               '2017-06-30 23:00:00', '2017-06-30 23:10:00',\n",
       "               '2017-06-30 23:20:00', '2017-06-30 23:30:00',\n",
       "               '2017-06-30 23:40:00', '2017-06-30 23:50:00'],\n",
       "              dtype='datetime64[ns]', length=4320, freq='10min')"
      ]
     },
     "execution_count": 561,
     "metadata": {},
     "output_type": "execute_result"
    }
   ],
   "source": [
    "cv1_indexes_train[-1]"
   ]
  },
  {
   "cell_type": "code",
   "execution_count": 450,
   "id": "1fd4e8a2-0740-4161-a8c1-8c49aa030cdf",
   "metadata": {},
   "outputs": [
    {
     "data": {
      "text/plain": [
       "DatetimeIndex(['2017-07-01 00:00:00', '2017-07-01 00:10:00',\n",
       "               '2017-07-01 00:20:00', '2017-07-01 00:30:00',\n",
       "               '2017-07-01 00:40:00', '2017-07-01 00:50:00',\n",
       "               '2017-07-01 01:00:00', '2017-07-01 01:10:00',\n",
       "               '2017-07-01 01:20:00', '2017-07-01 01:30:00',\n",
       "               ...\n",
       "               '2017-07-31 22:20:00', '2017-07-31 22:30:00',\n",
       "               '2017-07-31 22:40:00', '2017-07-31 22:50:00',\n",
       "               '2017-07-31 23:00:00', '2017-07-31 23:10:00',\n",
       "               '2017-07-31 23:20:00', '2017-07-31 23:30:00',\n",
       "               '2017-07-31 23:40:00', '2017-07-31 23:50:00'],\n",
       "              dtype='datetime64[ns]', length=4464, freq='10min')"
      ]
     },
     "execution_count": 450,
     "metadata": {},
     "output_type": "execute_result"
    }
   ],
   "source": [
    "cv1_indexes_test[-1]"
   ]
  },
  {
   "cell_type": "code",
   "execution_count": 363,
   "id": "e454c055-fb59-48ce-b907-72a4d23c3d42",
   "metadata": {},
   "outputs": [
    {
     "name": "stdout",
     "output_type": "stream",
     "text": [
      "Execution time: 0:55:43\n"
     ]
    }
   ],
   "source": [
    "cv1_results_month_model = cv_model_evaluation(\n",
    "        data=train['target1'], start='2017-03-01', train_size=1, test_size=1, size_unit='months', n_splits=5, freq='10min',\n",
    "        orders=[(1,1,2), (3,1,1)], fourier_periods=[[144], [144, 72]], fourier_orders=arange(1, 6, True))"
   ]
  },
  {
   "cell_type": "code",
   "execution_count": 397,
   "id": "cbf6470f-f697-469d-98a8-589d19e03609",
   "metadata": {},
   "outputs": [],
   "source": [
    "cv1_month_models = cv1_results_month_model['models'].copy()"
   ]
  },
  {
   "cell_type": "code",
   "execution_count": 398,
   "id": "2eb7fdb6-ba03-4f29-bcc5-b0aaa0d5c33f",
   "metadata": {},
   "outputs": [],
   "source": [
    "cv1_month_splits = pd.DataFrame(cv1_results_month_model['splits'])"
   ]
  },
  {
   "cell_type": "code",
   "execution_count": 400,
   "id": "ae391c0e-d404-4e5d-8367-06fa0b49bcb0",
   "metadata": {},
   "outputs": [
    {
     "data": {
      "text/html": [
       "<div>\n",
       "<style scoped>\n",
       "    .dataframe tbody tr th:only-of-type {\n",
       "        vertical-align: middle;\n",
       "    }\n",
       "\n",
       "    .dataframe tbody tr th {\n",
       "        vertical-align: top;\n",
       "    }\n",
       "\n",
       "    .dataframe thead th {\n",
       "        text-align: right;\n",
       "    }\n",
       "</style>\n",
       "<table border=\"1\" class=\"dataframe\">\n",
       "  <thead>\n",
       "    <tr style=\"text-align: right;\">\n",
       "      <th></th>\n",
       "      <th>model0</th>\n",
       "      <th>model1</th>\n",
       "      <th>model2</th>\n",
       "      <th>model3</th>\n",
       "      <th>model4</th>\n",
       "      <th>model5</th>\n",
       "      <th>model6</th>\n",
       "      <th>model7</th>\n",
       "      <th>model8</th>\n",
       "      <th>model9</th>\n",
       "      <th>...</th>\n",
       "      <th>model74</th>\n",
       "      <th>model75</th>\n",
       "      <th>model76</th>\n",
       "      <th>model77</th>\n",
       "      <th>model78</th>\n",
       "      <th>model79</th>\n",
       "      <th>model80</th>\n",
       "      <th>model81</th>\n",
       "      <th>model82</th>\n",
       "      <th>model83</th>\n",
       "    </tr>\n",
       "  </thead>\n",
       "  <tbody>\n",
       "    <tr>\n",
       "      <th>0</th>\n",
       "      <td>0.161358</td>\n",
       "      <td>0.158710</td>\n",
       "      <td>0.067884</td>\n",
       "      <td>0.070892</td>\n",
       "      <td>0.080926</td>\n",
       "      <td>0.060975</td>\n",
       "      <td>0.158710</td>\n",
       "      <td>0.165300</td>\n",
       "      <td>0.152097</td>\n",
       "      <td>0.160680</td>\n",
       "      <td>...</td>\n",
       "      <td>0.063953</td>\n",
       "      <td>0.065643</td>\n",
       "      <td>0.066740</td>\n",
       "      <td>0.063696</td>\n",
       "      <td>0.063953</td>\n",
       "      <td>0.063953</td>\n",
       "      <td>0.063953</td>\n",
       "      <td>0.065644</td>\n",
       "      <td>0.066740</td>\n",
       "      <td>0.063697</td>\n",
       "    </tr>\n",
       "    <tr>\n",
       "      <th>1</th>\n",
       "      <td>0.177409</td>\n",
       "      <td>0.187798</td>\n",
       "      <td>0.086402</td>\n",
       "      <td>0.071900</td>\n",
       "      <td>0.083171</td>\n",
       "      <td>0.086681</td>\n",
       "      <td>0.187798</td>\n",
       "      <td>0.164109</td>\n",
       "      <td>0.169075</td>\n",
       "      <td>0.158737</td>\n",
       "      <td>...</td>\n",
       "      <td>0.075596</td>\n",
       "      <td>0.073975</td>\n",
       "      <td>0.074795</td>\n",
       "      <td>0.074157</td>\n",
       "      <td>0.075597</td>\n",
       "      <td>0.075597</td>\n",
       "      <td>0.075597</td>\n",
       "      <td>0.073975</td>\n",
       "      <td>0.074800</td>\n",
       "      <td>0.074158</td>\n",
       "    </tr>\n",
       "    <tr>\n",
       "      <th>2</th>\n",
       "      <td>0.203932</td>\n",
       "      <td>0.212398</td>\n",
       "      <td>0.113439</td>\n",
       "      <td>0.112755</td>\n",
       "      <td>0.107066</td>\n",
       "      <td>0.103540</td>\n",
       "      <td>0.212398</td>\n",
       "      <td>0.158930</td>\n",
       "      <td>0.178809</td>\n",
       "      <td>0.161201</td>\n",
       "      <td>...</td>\n",
       "      <td>0.099033</td>\n",
       "      <td>0.092232</td>\n",
       "      <td>0.095202</td>\n",
       "      <td>0.095622</td>\n",
       "      <td>0.099033</td>\n",
       "      <td>0.099033</td>\n",
       "      <td>0.099033</td>\n",
       "      <td>0.092232</td>\n",
       "      <td>0.095202</td>\n",
       "      <td>0.095622</td>\n",
       "    </tr>\n",
       "    <tr>\n",
       "      <th>3</th>\n",
       "      <td>0.157149</td>\n",
       "      <td>0.148114</td>\n",
       "      <td>0.160844</td>\n",
       "      <td>0.181485</td>\n",
       "      <td>0.186147</td>\n",
       "      <td>0.176830</td>\n",
       "      <td>0.148114</td>\n",
       "      <td>0.153020</td>\n",
       "      <td>0.148346</td>\n",
       "      <td>0.151041</td>\n",
       "      <td>...</td>\n",
       "      <td>0.176625</td>\n",
       "      <td>0.181015</td>\n",
       "      <td>0.181276</td>\n",
       "      <td>0.178911</td>\n",
       "      <td>0.176625</td>\n",
       "      <td>0.176625</td>\n",
       "      <td>0.176625</td>\n",
       "      <td>0.181015</td>\n",
       "      <td>0.181276</td>\n",
       "      <td>0.178911</td>\n",
       "    </tr>\n",
       "    <tr>\n",
       "      <th>4</th>\n",
       "      <td>0.228054</td>\n",
       "      <td>0.307688</td>\n",
       "      <td>0.261185</td>\n",
       "      <td>0.217016</td>\n",
       "      <td>0.205177</td>\n",
       "      <td>0.211505</td>\n",
       "      <td>0.307688</td>\n",
       "      <td>0.257869</td>\n",
       "      <td>0.264353</td>\n",
       "      <td>0.265159</td>\n",
       "      <td>...</td>\n",
       "      <td>0.181738</td>\n",
       "      <td>0.182103</td>\n",
       "      <td>0.182884</td>\n",
       "      <td>0.182837</td>\n",
       "      <td>0.181738</td>\n",
       "      <td>0.181738</td>\n",
       "      <td>0.181739</td>\n",
       "      <td>0.182103</td>\n",
       "      <td>0.182884</td>\n",
       "      <td>0.182839</td>\n",
       "    </tr>\n",
       "  </tbody>\n",
       "</table>\n",
       "<p>5 rows × 84 columns</p>\n",
       "</div>"
      ],
      "text/plain": [
       "     model0    model1    model2    model3    model4    model5    model6  \\\n",
       "0  0.161358  0.158710  0.067884  0.070892  0.080926  0.060975  0.158710   \n",
       "1  0.177409  0.187798  0.086402  0.071900  0.083171  0.086681  0.187798   \n",
       "2  0.203932  0.212398  0.113439  0.112755  0.107066  0.103540  0.212398   \n",
       "3  0.157149  0.148114  0.160844  0.181485  0.186147  0.176830  0.148114   \n",
       "4  0.228054  0.307688  0.261185  0.217016  0.205177  0.211505  0.307688   \n",
       "\n",
       "     model7    model8    model9  ...   model74   model75   model76   model77  \\\n",
       "0  0.165300  0.152097  0.160680  ...  0.063953  0.065643  0.066740  0.063696   \n",
       "1  0.164109  0.169075  0.158737  ...  0.075596  0.073975  0.074795  0.074157   \n",
       "2  0.158930  0.178809  0.161201  ...  0.099033  0.092232  0.095202  0.095622   \n",
       "3  0.153020  0.148346  0.151041  ...  0.176625  0.181015  0.181276  0.178911   \n",
       "4  0.257869  0.264353  0.265159  ...  0.181738  0.182103  0.182884  0.182837   \n",
       "\n",
       "    model78   model79   model80   model81   model82   model83  \n",
       "0  0.063953  0.063953  0.063953  0.065644  0.066740  0.063697  \n",
       "1  0.075597  0.075597  0.075597  0.073975  0.074800  0.074158  \n",
       "2  0.099033  0.099033  0.099033  0.092232  0.095202  0.095622  \n",
       "3  0.176625  0.176625  0.176625  0.181015  0.181276  0.178911  \n",
       "4  0.181738  0.181738  0.181739  0.182103  0.182884  0.182839  \n",
       "\n",
       "[5 rows x 84 columns]"
      ]
     },
     "execution_count": 400,
     "metadata": {},
     "output_type": "execute_result"
    }
   ],
   "source": [
    "cv1_month_splits"
   ]
  },
  {
   "cell_type": "code",
   "execution_count": 399,
   "id": "b82ae880-4522-49b2-9295-29d3f32897b0",
   "metadata": {},
   "outputs": [],
   "source": [
    "cv1_month_splits_desriptive = pd.DataFrame(index=cv1_month_splits.columns)"
   ]
  },
  {
   "cell_type": "code",
   "execution_count": 401,
   "id": "af3ea0ba-17b2-4a61-b6a9-ef8ed844c121",
   "metadata": {},
   "outputs": [],
   "source": [
    "cv1_month_splits_desriptive['mean'] = cv1_month_splits.mean()\n",
    "cv1_month_splits_desriptive['std'] = cv1_month_splits.std()\n",
    "# cv1_month_splits_desriptive['margin_up'] = \\\n",
    "#     cv1_month_splits_desriptive['mean'] + 1.96*cv1_month_splits_desriptive['std']/np.sqrt(5)\n",
    "# cv1_month_splits_desriptive['margin_low'] = \\\n",
    "#     cv1_month_splits_desriptive['mean'] - 1.96*cv1_month_splits_desriptive['std']/np.sqrt(5)"
   ]
  },
  {
   "cell_type": "code",
   "execution_count": 402,
   "id": "f120a613-b138-43db-829c-baec5b2bbd22",
   "metadata": {},
   "outputs": [],
   "source": [
    "cv1_month_splits_top_models = cv1_month_splits_desriptive.sort_values('mean')[:10].index"
   ]
  },
  {
   "cell_type": "code",
   "execution_count": 403,
   "id": "5ac3c886-dbf3-4634-a7f8-581bb8df6bde",
   "metadata": {},
   "outputs": [
    {
     "data": {
      "text/plain": [
       "Index(['model69', 'model63', 'model68', 'model62', 'model65', 'model71',\n",
       "       'model70', 'model64', 'model73', 'model72'],\n",
       "      dtype='object')"
      ]
     },
     "execution_count": 403,
     "metadata": {},
     "output_type": "execute_result"
    }
   ],
   "source": [
    "cv1_month_splits_top_models"
   ]
  },
  {
   "cell_type": "code",
   "execution_count": 404,
   "id": "71bfba9c-22ff-421c-9720-5fa5718f14be",
   "metadata": {},
   "outputs": [],
   "source": [
    "# top df without sort\n",
    "cv1_month_splits_top = \\\n",
    "    cv1_month_splits.loc[:, cv1_month_splits.columns.isin(cv1_month_splits_top_models)].copy()"
   ]
  },
  {
   "cell_type": "code",
   "execution_count": 405,
   "id": "59fe9feb-1a88-4af6-aff1-09016e93b522",
   "metadata": {},
   "outputs": [],
   "source": [
    "cv1_month_splits_desriptive_top = \\\n",
    "    cv1_month_splits_desriptive.loc[cv1_month_splits_desriptive.index.isin(cv1_month_splits_top_models)].copy()"
   ]
  },
  {
   "cell_type": "code",
   "execution_count": 406,
   "id": "44ad4296-33a4-4e90-851e-f58c894c2a4f",
   "metadata": {},
   "outputs": [
    {
     "data": {
      "text/html": [
       "<div>\n",
       "<style scoped>\n",
       "    .dataframe tbody tr th:only-of-type {\n",
       "        vertical-align: middle;\n",
       "    }\n",
       "\n",
       "    .dataframe tbody tr th {\n",
       "        vertical-align: top;\n",
       "    }\n",
       "\n",
       "    .dataframe thead th {\n",
       "        text-align: right;\n",
       "    }\n",
       "</style>\n",
       "<table border=\"1\" class=\"dataframe\">\n",
       "  <thead>\n",
       "    <tr style=\"text-align: right;\">\n",
       "      <th></th>\n",
       "      <th>mean</th>\n",
       "      <th>std</th>\n",
       "    </tr>\n",
       "  </thead>\n",
       "  <tbody>\n",
       "    <tr>\n",
       "      <th>model62</th>\n",
       "      <td>0.117468</td>\n",
       "      <td>0.056185</td>\n",
       "    </tr>\n",
       "    <tr>\n",
       "      <th>model63</th>\n",
       "      <td>0.117248</td>\n",
       "      <td>0.058007</td>\n",
       "    </tr>\n",
       "    <tr>\n",
       "      <th>model64</th>\n",
       "      <td>0.118249</td>\n",
       "      <td>0.057683</td>\n",
       "    </tr>\n",
       "    <tr>\n",
       "      <th>model65</th>\n",
       "      <td>0.118168</td>\n",
       "      <td>0.056665</td>\n",
       "    </tr>\n",
       "    <tr>\n",
       "      <th>model68</th>\n",
       "      <td>0.117468</td>\n",
       "      <td>0.056185</td>\n",
       "    </tr>\n",
       "    <tr>\n",
       "      <th>model69</th>\n",
       "      <td>0.117247</td>\n",
       "      <td>0.058008</td>\n",
       "    </tr>\n",
       "    <tr>\n",
       "      <th>model70</th>\n",
       "      <td>0.118249</td>\n",
       "      <td>0.057682</td>\n",
       "    </tr>\n",
       "    <tr>\n",
       "      <th>model71</th>\n",
       "      <td>0.118168</td>\n",
       "      <td>0.056665</td>\n",
       "    </tr>\n",
       "    <tr>\n",
       "      <th>model72</th>\n",
       "      <td>0.118944</td>\n",
       "      <td>0.059386</td>\n",
       "    </tr>\n",
       "    <tr>\n",
       "      <th>model73</th>\n",
       "      <td>0.118944</td>\n",
       "      <td>0.059386</td>\n",
       "    </tr>\n",
       "  </tbody>\n",
       "</table>\n",
       "</div>"
      ],
      "text/plain": [
       "             mean       std\n",
       "model62  0.117468  0.056185\n",
       "model63  0.117248  0.058007\n",
       "model64  0.118249  0.057683\n",
       "model65  0.118168  0.056665\n",
       "model68  0.117468  0.056185\n",
       "model69  0.117247  0.058008\n",
       "model70  0.118249  0.057682\n",
       "model71  0.118168  0.056665\n",
       "model72  0.118944  0.059386\n",
       "model73  0.118944  0.059386"
      ]
     },
     "execution_count": 406,
     "metadata": {},
     "output_type": "execute_result"
    }
   ],
   "source": [
    "cv1_month_splits_desriptive_top"
   ]
  },
  {
   "cell_type": "code",
   "execution_count": 407,
   "id": "0420cb42-2109-4b10-b07f-a990719400ba",
   "metadata": {},
   "outputs": [],
   "source": [
    "cv1_month_splits_best_model = cv1_month_splits_desriptive_top.sort_values('mean').index[0]"
   ]
  },
  {
   "cell_type": "code",
   "execution_count": 408,
   "id": "99d88cc1-dd8a-420f-bacd-e123a4e72b35",
   "metadata": {},
   "outputs": [
    {
     "data": {
      "text/plain": [
       "'model69'"
      ]
     },
     "execution_count": 408,
     "metadata": {},
     "output_type": "execute_result"
    }
   ],
   "source": [
    "cv1_month_splits_best_model"
   ]
  },
  {
   "cell_type": "code",
   "execution_count": 410,
   "id": "14a66fe3-c363-43b4-8f1e-6aa2d5e253c1",
   "metadata": {},
   "outputs": [],
   "source": [
    "for model in cv1_month_splits_desriptive_top.index:\n",
    "    cv1_month_splits_desriptive_top.loc[model, 'lower'] = \\\n",
    "        ci_bootstrap(cv1_month_splits[model])['ci_min']\n",
    "    cv1_month_splits_desriptive_top.loc[model, 'upper'] = \\\n",
    "        ci_bootstrap(cv1_month_splits[model])['ci_max']"
   ]
  },
  {
   "cell_type": "code",
   "execution_count": 411,
   "id": "01f01a0e-f15b-45f4-881c-72a65b1a4679",
   "metadata": {},
   "outputs": [
    {
     "data": {
      "text/html": [
       "<div>\n",
       "<style scoped>\n",
       "    .dataframe tbody tr th:only-of-type {\n",
       "        vertical-align: middle;\n",
       "    }\n",
       "\n",
       "    .dataframe tbody tr th {\n",
       "        vertical-align: top;\n",
       "    }\n",
       "\n",
       "    .dataframe thead th {\n",
       "        text-align: right;\n",
       "    }\n",
       "</style>\n",
       "<table border=\"1\" class=\"dataframe\">\n",
       "  <thead>\n",
       "    <tr style=\"text-align: right;\">\n",
       "      <th></th>\n",
       "      <th>mean</th>\n",
       "      <th>std</th>\n",
       "      <th>lower</th>\n",
       "      <th>upper</th>\n",
       "    </tr>\n",
       "  </thead>\n",
       "  <tbody>\n",
       "    <tr>\n",
       "      <th>model62</th>\n",
       "      <td>0.117468</td>\n",
       "      <td>0.056185</td>\n",
       "      <td>0.077605</td>\n",
       "      <td>0.163140</td>\n",
       "    </tr>\n",
       "    <tr>\n",
       "      <th>model63</th>\n",
       "      <td>0.117248</td>\n",
       "      <td>0.058007</td>\n",
       "      <td>0.074764</td>\n",
       "      <td>0.163130</td>\n",
       "    </tr>\n",
       "    <tr>\n",
       "      <th>model64</th>\n",
       "      <td>0.118249</td>\n",
       "      <td>0.057683</td>\n",
       "      <td>0.075999</td>\n",
       "      <td>0.164155</td>\n",
       "    </tr>\n",
       "    <tr>\n",
       "      <th>model65</th>\n",
       "      <td>0.118168</td>\n",
       "      <td>0.056665</td>\n",
       "      <td>0.074564</td>\n",
       "      <td>0.163745</td>\n",
       "    </tr>\n",
       "    <tr>\n",
       "      <th>model68</th>\n",
       "      <td>0.117468</td>\n",
       "      <td>0.056185</td>\n",
       "      <td>0.076269</td>\n",
       "      <td>0.163140</td>\n",
       "    </tr>\n",
       "    <tr>\n",
       "      <th>model69</th>\n",
       "      <td>0.117247</td>\n",
       "      <td>0.058008</td>\n",
       "      <td>0.075238</td>\n",
       "      <td>0.163131</td>\n",
       "    </tr>\n",
       "    <tr>\n",
       "      <th>model70</th>\n",
       "      <td>0.118249</td>\n",
       "      <td>0.057682</td>\n",
       "      <td>0.075998</td>\n",
       "      <td>0.164154</td>\n",
       "    </tr>\n",
       "    <tr>\n",
       "      <th>model71</th>\n",
       "      <td>0.118168</td>\n",
       "      <td>0.056665</td>\n",
       "      <td>0.074563</td>\n",
       "      <td>0.163745</td>\n",
       "    </tr>\n",
       "    <tr>\n",
       "      <th>model72</th>\n",
       "      <td>0.118944</td>\n",
       "      <td>0.059386</td>\n",
       "      <td>0.075839</td>\n",
       "      <td>0.164781</td>\n",
       "    </tr>\n",
       "    <tr>\n",
       "      <th>model73</th>\n",
       "      <td>0.118944</td>\n",
       "      <td>0.059386</td>\n",
       "      <td>0.073901</td>\n",
       "      <td>0.164781</td>\n",
       "    </tr>\n",
       "  </tbody>\n",
       "</table>\n",
       "</div>"
      ],
      "text/plain": [
       "             mean       std     lower     upper\n",
       "model62  0.117468  0.056185  0.077605  0.163140\n",
       "model63  0.117248  0.058007  0.074764  0.163130\n",
       "model64  0.118249  0.057683  0.075999  0.164155\n",
       "model65  0.118168  0.056665  0.074564  0.163745\n",
       "model68  0.117468  0.056185  0.076269  0.163140\n",
       "model69  0.117247  0.058008  0.075238  0.163131\n",
       "model70  0.118249  0.057682  0.075998  0.164154\n",
       "model71  0.118168  0.056665  0.074563  0.163745\n",
       "model72  0.118944  0.059386  0.075839  0.164781\n",
       "model73  0.118944  0.059386  0.073901  0.164781"
      ]
     },
     "execution_count": 411,
     "metadata": {},
     "output_type": "execute_result"
    }
   ],
   "source": [
    "cv1_month_splits_desriptive_top"
   ]
  },
  {
   "cell_type": "code",
   "execution_count": 412,
   "id": "62d93848-7463-4ef5-8d09-371aaf3de917",
   "metadata": {},
   "outputs": [
    {
     "data": {
      "image/png": "[encoded data removed]",
      "text/plain": [
       "<Figure size 800x400 with 2 Axes>"
      ]
     },
     "metadata": {},
     "output_type": "display_data"
    }
   ],
   "source": [
    "fig, ax = plt.subplots(2, 1, figsize=(8, 4))\n",
    "\n",
    "ax[0].scatter(\n",
    "    x = cv1_month_splits_desriptive_top.index,\n",
    "    y = cv1_month_splits_desriptive_top['mean'],\n",
    "    s=10)\n",
    "\n",
    "ax[0].errorbar(\n",
    "    x = cv1_month_splits_desriptive_top.index,\n",
    "    y = cv1_month_splits_desriptive_top['mean'],\n",
    "    yerr = cv1_month_splits_desriptive_top['std'],\n",
    "    ls='none',\n",
    "    lw=0.5,\n",
    "    capsize=1,\n",
    "    alpha=0.75)\n",
    "\n",
    "# best model\n",
    "ax[0].errorbar(\n",
    "    x = cv1_month_splits_desriptive_top.loc[cv1_month_splits_best_model].name,\n",
    "    y = cv1_month_splits_desriptive_top.loc[cv1_month_splits_best_model]['mean'],\n",
    "    yerr = cv1_month_splits_desriptive_top.loc[cv1_month_splits_best_model]['std'],\n",
    "    ls='none',\n",
    "    lw=1,\n",
    "    marker='.',\n",
    "    markersize=4,\n",
    "    capsize=1.5,\n",
    "    color=saturate_color(palette[1], 1.5))\n",
    "\n",
    "axis_rstyle(ax=ax[0], yticks=[0, 0.20, 0.05], ylim=[0, 0.20])\n",
    "ax[0].spines['bottom'].set_visible(False)\n",
    "ax[0].tick_params(bottom=False, labelbottom=False)\n",
    "\n",
    "sns.stripplot(\n",
    "    cv1_month_splits_top,\n",
    "    s=5,\n",
    "    color=palette[-2],\n",
    "    ax=ax[1])\n",
    "\n",
    "axis_rstyle(ax=ax[1])\n",
    "# axis_add_xaxis(\n",
    "#     offset_first_axis=40,\n",
    "#     sepoffset=-1,\n",
    "#     labels=[\n",
    "#         ['144'] + ['144-42']*6 + ['144'] + ['144-42']*6,\n",
    "#         ['(1, 1, 2)', '(3, 1, 1)']])\n",
    "\n",
    "# ax[1].set_xticklabels(xticklabels*2, fontsize=5, ha='center')\n",
    "\n",
    "plt.xticks(rotation=90)\n",
    "plt.subplots_adjust(hspace=0.25)"
   ]
  },
  {
   "cell_type": "code",
   "execution_count": 413,
   "id": "c40d761b-026b-4a0d-b666-d37c81420233",
   "metadata": {},
   "outputs": [],
   "source": [
    "# top 5 model smoothed data\n",
    "cv1_month_splits_top_smoothed = smoothed(cv1_month_splits_top[cv1_month_splits_top_models], n=200)"
   ]
  },
  {
   "cell_type": "code",
   "execution_count": 420,
   "id": "e8b3d335-772d-439b-9afa-7d21a6e71840",
   "metadata": {},
   "outputs": [
    {
     "data": {
      "text/html": [
       "<div>\n",
       "<style scoped>\n",
       "    .dataframe tbody tr th:only-of-type {\n",
       "        vertical-align: middle;\n",
       "    }\n",
       "\n",
       "    .dataframe tbody tr th {\n",
       "        vertical-align: top;\n",
       "    }\n",
       "\n",
       "    .dataframe thead th {\n",
       "        text-align: right;\n",
       "    }\n",
       "</style>\n",
       "<table border=\"1\" class=\"dataframe\">\n",
       "  <thead>\n",
       "    <tr style=\"text-align: right;\">\n",
       "      <th></th>\n",
       "      <th>model69</th>\n",
       "      <th>model63</th>\n",
       "      <th>model68</th>\n",
       "      <th>model62</th>\n",
       "      <th>model65</th>\n",
       "      <th>model71</th>\n",
       "      <th>model70</th>\n",
       "      <th>model64</th>\n",
       "      <th>model73</th>\n",
       "      <th>model72</th>\n",
       "    </tr>\n",
       "  </thead>\n",
       "  <tbody>\n",
       "    <tr>\n",
       "      <th>0.000000</th>\n",
       "      <td>0.065772</td>\n",
       "      <td>0.065773</td>\n",
       "      <td>0.064685</td>\n",
       "      <td>0.064687</td>\n",
       "      <td>0.070382</td>\n",
       "      <td>0.070382</td>\n",
       "      <td>0.066083</td>\n",
       "      <td>0.066084</td>\n",
       "      <td>0.061387</td>\n",
       "      <td>0.061388</td>\n",
       "    </tr>\n",
       "    <tr>\n",
       "      <th>0.020101</th>\n",
       "      <td>0.066554</td>\n",
       "      <td>0.066555</td>\n",
       "      <td>0.065336</td>\n",
       "      <td>0.065338</td>\n",
       "      <td>0.070737</td>\n",
       "      <td>0.070737</td>\n",
       "      <td>0.066824</td>\n",
       "      <td>0.066825</td>\n",
       "      <td>0.062490</td>\n",
       "      <td>0.062490</td>\n",
       "    </tr>\n",
       "    <tr>\n",
       "      <th>0.040201</th>\n",
       "      <td>0.067293</td>\n",
       "      <td>0.067295</td>\n",
       "      <td>0.065956</td>\n",
       "      <td>0.065957</td>\n",
       "      <td>0.071067</td>\n",
       "      <td>0.071067</td>\n",
       "      <td>0.067526</td>\n",
       "      <td>0.067527</td>\n",
       "      <td>0.063541</td>\n",
       "      <td>0.063542</td>\n",
       "    </tr>\n",
       "    <tr>\n",
       "      <th>0.060302</th>\n",
       "      <td>0.067992</td>\n",
       "      <td>0.067994</td>\n",
       "      <td>0.066545</td>\n",
       "      <td>0.066546</td>\n",
       "      <td>0.071373</td>\n",
       "      <td>0.071373</td>\n",
       "      <td>0.068190</td>\n",
       "      <td>0.068191</td>\n",
       "      <td>0.064542</td>\n",
       "      <td>0.064543</td>\n",
       "    </tr>\n",
       "    <tr>\n",
       "      <th>0.080402</th>\n",
       "      <td>0.068651</td>\n",
       "      <td>0.068652</td>\n",
       "      <td>0.067104</td>\n",
       "      <td>0.067106</td>\n",
       "      <td>0.071653</td>\n",
       "      <td>0.071653</td>\n",
       "      <td>0.068818</td>\n",
       "      <td>0.068819</td>\n",
       "      <td>0.065494</td>\n",
       "      <td>0.065495</td>\n",
       "    </tr>\n",
       "    <tr>\n",
       "      <th>...</th>\n",
       "      <td>...</td>\n",
       "      <td>...</td>\n",
       "      <td>...</td>\n",
       "      <td>...</td>\n",
       "      <td>...</td>\n",
       "      <td>...</td>\n",
       "      <td>...</td>\n",
       "      <td>...</td>\n",
       "      <td>...</td>\n",
       "      <td>...</td>\n",
       "    </tr>\n",
       "    <tr>\n",
       "      <th>3.919598</th>\n",
       "      <td>0.190952</td>\n",
       "      <td>0.190951</td>\n",
       "      <td>0.188882</td>\n",
       "      <td>0.188882</td>\n",
       "      <td>0.190530</td>\n",
       "      <td>0.190530</td>\n",
       "      <td>0.191327</td>\n",
       "      <td>0.191329</td>\n",
       "      <td>0.189458</td>\n",
       "      <td>0.189458</td>\n",
       "    </tr>\n",
       "    <tr>\n",
       "      <th>3.939698</th>\n",
       "      <td>0.189285</td>\n",
       "      <td>0.189284</td>\n",
       "      <td>0.187612</td>\n",
       "      <td>0.187612</td>\n",
       "      <td>0.189131</td>\n",
       "      <td>0.189131</td>\n",
       "      <td>0.189747</td>\n",
       "      <td>0.189749</td>\n",
       "      <td>0.187208</td>\n",
       "      <td>0.187208</td>\n",
       "    </tr>\n",
       "    <tr>\n",
       "      <th>3.959799</th>\n",
       "      <td>0.187507</td>\n",
       "      <td>0.187506</td>\n",
       "      <td>0.186250</td>\n",
       "      <td>0.186250</td>\n",
       "      <td>0.187633</td>\n",
       "      <td>0.187633</td>\n",
       "      <td>0.188061</td>\n",
       "      <td>0.188062</td>\n",
       "      <td>0.184828</td>\n",
       "      <td>0.184828</td>\n",
       "    </tr>\n",
       "    <tr>\n",
       "      <th>3.979899</th>\n",
       "      <td>0.185615</td>\n",
       "      <td>0.185614</td>\n",
       "      <td>0.184795</td>\n",
       "      <td>0.184795</td>\n",
       "      <td>0.186036</td>\n",
       "      <td>0.186036</td>\n",
       "      <td>0.186266</td>\n",
       "      <td>0.186268</td>\n",
       "      <td>0.182315</td>\n",
       "      <td>0.182315</td>\n",
       "    </tr>\n",
       "    <tr>\n",
       "      <th>4.000000</th>\n",
       "      <td>0.183608</td>\n",
       "      <td>0.183607</td>\n",
       "      <td>0.183245</td>\n",
       "      <td>0.183245</td>\n",
       "      <td>0.184338</td>\n",
       "      <td>0.184338</td>\n",
       "      <td>0.184361</td>\n",
       "      <td>0.184363</td>\n",
       "      <td>0.179669</td>\n",
       "      <td>0.179669</td>\n",
       "    </tr>\n",
       "  </tbody>\n",
       "</table>\n",
       "<p>200 rows × 10 columns</p>\n",
       "</div>"
      ],
      "text/plain": [
       "           model69   model63   model68   model62   model65   model71  \\\n",
       "0.000000  0.065772  0.065773  0.064685  0.064687  0.070382  0.070382   \n",
       "0.020101  0.066554  0.066555  0.065336  0.065338  0.070737  0.070737   \n",
       "0.040201  0.067293  0.067295  0.065956  0.065957  0.071067  0.071067   \n",
       "0.060302  0.067992  0.067994  0.066545  0.066546  0.071373  0.071373   \n",
       "0.080402  0.068651  0.068652  0.067104  0.067106  0.071653  0.071653   \n",
       "...            ...       ...       ...       ...       ...       ...   \n",
       "3.919598  0.190952  0.190951  0.188882  0.188882  0.190530  0.190530   \n",
       "3.939698  0.189285  0.189284  0.187612  0.187612  0.189131  0.189131   \n",
       "3.959799  0.187507  0.187506  0.186250  0.186250  0.187633  0.187633   \n",
       "3.979899  0.185615  0.185614  0.184795  0.184795  0.186036  0.186036   \n",
       "4.000000  0.183608  0.183607  0.183245  0.183245  0.184338  0.184338   \n",
       "\n",
       "           model70   model64   model73   model72  \n",
       "0.000000  0.066083  0.066084  0.061387  0.061388  \n",
       "0.020101  0.066824  0.066825  0.062490  0.062490  \n",
       "0.040201  0.067526  0.067527  0.063541  0.063542  \n",
       "0.060302  0.068190  0.068191  0.064542  0.064543  \n",
       "0.080402  0.068818  0.068819  0.065494  0.065495  \n",
       "...            ...       ...       ...       ...  \n",
       "3.919598  0.191327  0.191329  0.189458  0.189458  \n",
       "3.939698  0.189747  0.189749  0.187208  0.187208  \n",
       "3.959799  0.188061  0.188062  0.184828  0.184828  \n",
       "3.979899  0.186266  0.186268  0.182315  0.182315  \n",
       "4.000000  0.184361  0.184363  0.179669  0.179669  \n",
       "\n",
       "[200 rows x 10 columns]"
      ]
     },
     "execution_count": 420,
     "metadata": {},
     "output_type": "execute_result"
    }
   ],
   "source": [
    "cv1_month_splits_top_smoothed"
   ]
  },
  {
   "cell_type": "code",
   "execution_count": 422,
   "id": "12362ee6-06f1-4fa1-9b1b-a80d4191dd66",
   "metadata": {},
   "outputs": [
    {
     "data": {
      "image/png": "[encoded data removed]",
      "text/plain": [
       "<Figure size 800x250 with 1 Axes>"
      ]
     },
     "metadata": {},
     "output_type": "display_data"
    }
   ],
   "source": [
    "plt.plot(\n",
    "    cv1_month_splits_top_smoothed\n",
    ")\n",
    "plt.legend(**legend_inline(), labels=cv1_month_splits_top_smoothed.columns);\n",
    "ax_current().xaxis.set_major_locator(mpl.ticker.MaxNLocator(integer=True))\n",
    "axis_rstyle(xticks=[0, 4, 1], offset_left=10)"
   ]
  },
  {
   "cell_type": "code",
   "execution_count": 472,
   "id": "feb3767f-fe86-4289-b5b2-911f36503e88",
   "metadata": {},
   "outputs": [],
   "source": [
    "cv1_month_period = train.loc['2017-03-01':'2017-07-30'].groupby('month').mean().copy()"
   ]
  },
  {
   "cell_type": "code",
   "execution_count": 483,
   "id": "acd99482-ecb9-4606-ad5b-cef0a5519b15",
   "metadata": {},
   "outputs": [],
   "source": [
    "cv1_month_period = train.loc['2017-03-01':'2017-07-30'].groupby('month').agg({'target1': ['mean', 'std']})"
   ]
  },
  {
   "cell_type": "code",
   "execution_count": 484,
   "id": "f58bda50-ee69-4a2b-a0c4-e49e580d2fdf",
   "metadata": {},
   "outputs": [],
   "source": [
    "cv1_month_period.index = cv1_month_period.index - 3"
   ]
  },
  {
   "cell_type": "code",
   "execution_count": 522,
   "id": "fa1dcb0c-f059-486f-ab20-8ff2eb311d33",
   "metadata": {},
   "outputs": [
    {
     "data": {
      "image/png": "[encoded data removed]",
      "text/plain": [
       "<Figure size 800x500 with 3 Axes>"
      ]
     },
     "metadata": {},
     "output_type": "display_data"
    }
   ],
   "source": [
    "# top model\n",
    "\n",
    "plt.figure(figsize=(8, 5))\n",
    "\n",
    "plt.subplot(3, 1, 1)\n",
    "plt.plot(\n",
    "    cv1_month_splits_top[cv1_month_splits_best_model],\n",
    "    color=palette[2],\n",
    "    label=cv1_month_splits_best_model\n",
    ")\n",
    "# ax_current().xaxis.set_major_locator(mpl.ticker.MaxNLocator(integer=True))\n",
    "axis_rstyle(xlim=[0, 4], xticks=[0, 4, 1], offset_left=10)\n",
    "plt.xticks(arange(5), months_list[2:7])\n",
    "# axis_remove_xaxis()\n",
    "plt.legend(\n",
    "    **legend_inline(3),\n",
    "    **legend_create_handles(\n",
    "        3,\n",
    "        labels=['Best weekly-model RMSE', ' Demand Mean', 'Demand Std'],\n",
    "        colors=[palette[2], palette[0], palette[1]]\n",
    "    ));\n",
    "# axis_remove_xaxis()\n",
    "\n",
    "plt.subplot(3, 1, 2)\n",
    "plt.plot(\n",
    "    cv1_month_period['target1']['mean'],\n",
    "    label='Mean'\n",
    ")\n",
    "axis_rstyle(xlim=[0, 4], xticks=[0, 4, 1], yticks=[30000, 36000, 2000], offset_left=10)\n",
    "plt.xticks(arange(5), months_list[2:7])\n",
    "# axis_remove_xaxis()\n",
    "\n",
    "plt.subplot(3, 1, 3)\n",
    "plt.plot(\n",
    "    cv1_month_period['target1']['std'],\n",
    "    color=palette[1],\n",
    "    label='Std'\n",
    ")\n",
    "# ax_current().xaxis.set_major_locator(mpl.ticker.MaxNLocator(integer=True))\n",
    "axis_rstyle(xlim=[0, 4], xticks=[0, 4, 1], yticks=[6500, 7500, 250], offset_left=10)\n",
    "\n",
    "plt.xticks(arange(5), months_list[2:7])\n",
    "plt.subplots_adjust(hspace=0.75)\n",
    "plt.show()"
   ]
  },
  {
   "cell_type": "code",
   "execution_count": 609,
   "id": "6772c21e-8e48-4526-83a5-5417ffdae466",
   "metadata": {},
   "outputs": [],
   "source": [
    "arima1_month = cv1_month_models[cv1_month_splits_best_model]"
   ]
  },
  {
   "cell_type": "code",
   "execution_count": 610,
   "id": "4c1aaa95-1489-4e48-94e7-c954fc7efb0c",
   "metadata": {},
   "outputs": [
    {
     "data": {
      "text/plain": [
       "((3, 1, 1), [144, 72], [4, 4])"
      ]
     },
     "execution_count": 610,
     "metadata": {},
     "output_type": "execute_result"
    }
   ],
   "source": [
    "arima1_month"
   ]
  },
  {
   "cell_type": "code",
   "execution_count": 611,
   "id": "8bf98d5d-5b93-4a2d-8654-5cd563a3c3c8",
   "metadata": {},
   "outputs": [
    {
     "data": {
      "text/plain": [
       "mean     0.117247\n",
       "std      0.058008\n",
       "lower    0.075238\n",
       "upper    0.163131\n",
       "Name: model69, dtype: float64"
      ]
     },
     "execution_count": 611,
     "metadata": {},
     "output_type": "execute_result"
    }
   ],
   "source": [
    "cv1_month_splits_desriptive_top.loc[cv1_month_splits_best_model]"
   ]
  },
  {
   "cell_type": "code",
   "execution_count": 613,
   "id": "b8aa4efd-b9e4-47be-a736-ae0aaa5dd088",
   "metadata": {},
   "outputs": [
    {
     "data": {
      "text/plain": [
       "0    0.065772\n",
       "1    0.072025\n",
       "2    0.088250\n",
       "3    0.176579\n",
       "4    0.183608\n",
       "Name: model69, dtype: float64"
      ]
     },
     "execution_count": 613,
     "metadata": {},
     "output_type": "execute_result"
    }
   ],
   "source": [
    "cv1_month_splits[cv1_month_splits_best_model]"
   ]
  },
  {
   "cell_type": "markdown",
   "id": "6040ccf7-1f69-4e33-a107-0b0e2d97efef",
   "metadata": {},
   "source": [
    "### ARIMA with exogs variables"
   ]
  },
  {
   "cell_type": "code",
   "execution_count": 844,
   "id": "cb8de829-e588-4b42-ac3e-390c99bdb769",
   "metadata": {},
   "outputs": [
    {
     "data": {
      "text/plain": [
       "Index(['temperature', 'humidity', 'windspeed', 'generaldiffuseflows',\n",
       "       'diffuseflows', 'target1', 'target2', 'target3', 'minute', 'hour',\n",
       "       'day', 'day_number', 'day_of_year', 'weekday', 'week', 'month',\n",
       "       'year_month', 'year_day', 'count_elmnts_by_day', 'target1_diff',\n",
       "       'target1_returns', 'target1_volatility', 'p', 'is_Friday', 'is_Sunday',\n",
       "       'is_31', 'target1_cum_avg', 'target1_by_weekday', 'target1_by_minutes'],\n",
       "      dtype='object')"
      ]
     },
     "execution_count": 844,
     "metadata": {},
     "output_type": "execute_result"
    }
   ],
   "source": [
    "train.columns"
   ]
  },
  {
   "cell_type": "code",
   "execution_count": 845,
   "id": "3bc3e422-ed30-4308-ad20-0901845ba9e5",
   "metadata": {},
   "outputs": [
    {
     "data": {
      "text/plain": [
       "(-10.36173182087001,\n",
       " 2.3867510600262185e-18,\n",
       " 27,\n",
       " 4436,\n",
       " {'1%': -3.4318249973120594,\n",
       "  '5%': -2.8621917710771485,\n",
       "  '10%': -2.5671169416654944},\n",
       " -1287.539719272837)"
      ]
     },
     "execution_count": 845,
     "metadata": {},
     "output_type": "execute_result"
    }
   ],
   "source": [
    "# NULL: non-stationarity\n",
    "sm.tsa.stattools.adfuller(train.loc['2017-07-01':, 'temperature'])"
   ]
  },
  {
   "cell_type": "code",
   "execution_count": 846,
   "id": "078008d3-4750-41ec-9b5e-96b5b21d7548",
   "metadata": {},
   "outputs": [
    {
     "data": {
      "text/plain": [
       "(-10.878385594286243,\n",
       " 1.3137803449282866e-19,\n",
       " 25,\n",
       " 4438,\n",
       " {'1%': -3.4318243322143682,\n",
       "  '5%': -2.8621914772569323,\n",
       "  '10%': -2.567116785250736},\n",
       " 67666.12586660299)"
      ]
     },
     "execution_count": 846,
     "metadata": {},
     "output_type": "execute_result"
    }
   ],
   "source": [
    "# NULL: non-stationarity\n",
    "sm.tsa.stattools.adfuller(train.loc['2017-07-01':, 'target1_by_minutes'])"
   ]
  },
  {
   "cell_type": "code",
   "execution_count": 847,
   "id": "f826ea47-dc40-40c7-8598-5decd91cf462",
   "metadata": {},
   "outputs": [],
   "source": [
    "exog_vars = ['temperature', 'target1_by_minutes', 'is_Friday', 'is_Sunday', 'is_31']"
   ]
  },
  {
   "cell_type": "code",
   "execution_count": 848,
   "id": "b4fef60a-d000-4e3f-80d9-288b03f39875",
   "metadata": {},
   "outputs": [],
   "source": [
    "exogs_df = train.loc['2017-02-01':, exog_vars].copy()"
   ]
  },
  {
   "cell_type": "code",
   "execution_count": 849,
   "id": "1f0a6b35-fe96-41b5-b517-a928849495b4",
   "metadata": {},
   "outputs": [
    {
     "name": "stdout",
     "output_type": "stream",
     "text": [
      "Execution time: 1:16:53\n"
     ]
    }
   ],
   "source": [
    "cv2_results_month_model = cv_model_evaluation(\n",
    "        data=train['target1'], start='2017-03-01', train_size=1, test_size=1, size_unit='months', n_splits=5, freq='10min',\n",
    "        orders=[(1,1,2), (3,1,1)], fourier_periods=[[144], [144, 72]], fourier_orders=arange(1, 6, True),\n",
    "        exog_variables=exogs_df\n",
    ")"
   ]
  },
  {
   "cell_type": "code",
   "execution_count": 850,
   "id": "dc264764-46a5-4154-bc4a-228d13a7ca70",
   "metadata": {},
   "outputs": [],
   "source": [
    "cv2_month_models = cv2_results_month_model['models'].copy()"
   ]
  },
  {
   "cell_type": "code",
   "execution_count": 851,
   "id": "bc5bd161-89d5-4e13-ae73-f9acc9768cad",
   "metadata": {},
   "outputs": [],
   "source": [
    "cv2_month_splits = pd.DataFrame(cv2_results_month_model['splits'])"
   ]
  },
  {
   "cell_type": "code",
   "execution_count": 852,
   "id": "1cbdb925-5564-419b-a55f-a8d0ae384d3b",
   "metadata": {},
   "outputs": [
    {
     "data": {
      "text/html": [
       "<div>\n",
       "<style scoped>\n",
       "    .dataframe tbody tr th:only-of-type {\n",
       "        vertical-align: middle;\n",
       "    }\n",
       "\n",
       "    .dataframe tbody tr th {\n",
       "        vertical-align: top;\n",
       "    }\n",
       "\n",
       "    .dataframe thead th {\n",
       "        text-align: right;\n",
       "    }\n",
       "</style>\n",
       "<table border=\"1\" class=\"dataframe\">\n",
       "  <thead>\n",
       "    <tr style=\"text-align: right;\">\n",
       "      <th></th>\n",
       "      <th>model0</th>\n",
       "      <th>model1</th>\n",
       "      <th>model2</th>\n",
       "      <th>model3</th>\n",
       "      <th>model4</th>\n",
       "      <th>model5</th>\n",
       "      <th>model6</th>\n",
       "      <th>model7</th>\n",
       "      <th>model8</th>\n",
       "      <th>model9</th>\n",
       "      <th>...</th>\n",
       "      <th>model74</th>\n",
       "      <th>model75</th>\n",
       "      <th>model76</th>\n",
       "      <th>model77</th>\n",
       "      <th>model78</th>\n",
       "      <th>model79</th>\n",
       "      <th>model80</th>\n",
       "      <th>model81</th>\n",
       "      <th>model82</th>\n",
       "      <th>model83</th>\n",
       "    </tr>\n",
       "  </thead>\n",
       "  <tbody>\n",
       "    <tr>\n",
       "      <th>0</th>\n",
       "      <td>0.144642</td>\n",
       "      <td>0.134895</td>\n",
       "      <td>0.070252</td>\n",
       "      <td>0.071610</td>\n",
       "      <td>0.081104</td>\n",
       "      <td>0.060188</td>\n",
       "      <td>0.134895</td>\n",
       "      <td>0.134828</td>\n",
       "      <td>0.131718</td>\n",
       "      <td>0.135882</td>\n",
       "      <td>...</td>\n",
       "      <td>0.062862</td>\n",
       "      <td>0.064889</td>\n",
       "      <td>0.066924</td>\n",
       "      <td>0.064294</td>\n",
       "      <td>0.062862</td>\n",
       "      <td>0.062862</td>\n",
       "      <td>0.062863</td>\n",
       "      <td>0.064889</td>\n",
       "      <td>0.066924</td>\n",
       "      <td>0.064304</td>\n",
       "    </tr>\n",
       "    <tr>\n",
       "      <th>1</th>\n",
       "      <td>0.141304</td>\n",
       "      <td>0.145834</td>\n",
       "      <td>0.082746</td>\n",
       "      <td>0.069456</td>\n",
       "      <td>0.079953</td>\n",
       "      <td>0.066855</td>\n",
       "      <td>0.145834</td>\n",
       "      <td>0.124266</td>\n",
       "      <td>0.131912</td>\n",
       "      <td>0.119542</td>\n",
       "      <td>...</td>\n",
       "      <td>0.073942</td>\n",
       "      <td>0.071810</td>\n",
       "      <td>0.071610</td>\n",
       "      <td>0.071517</td>\n",
       "      <td>0.073943</td>\n",
       "      <td>0.073943</td>\n",
       "      <td>0.073946</td>\n",
       "      <td>0.071810</td>\n",
       "      <td>0.071610</td>\n",
       "      <td>0.071516</td>\n",
       "    </tr>\n",
       "    <tr>\n",
       "      <th>2</th>\n",
       "      <td>0.169932</td>\n",
       "      <td>0.159308</td>\n",
       "      <td>0.104743</td>\n",
       "      <td>0.103657</td>\n",
       "      <td>0.099964</td>\n",
       "      <td>0.098790</td>\n",
       "      <td>0.159308</td>\n",
       "      <td>0.124054</td>\n",
       "      <td>0.137002</td>\n",
       "      <td>0.124888</td>\n",
       "      <td>...</td>\n",
       "      <td>0.095481</td>\n",
       "      <td>0.090494</td>\n",
       "      <td>0.093748</td>\n",
       "      <td>0.094344</td>\n",
       "      <td>0.095481</td>\n",
       "      <td>0.095481</td>\n",
       "      <td>0.095481</td>\n",
       "      <td>0.090494</td>\n",
       "      <td>0.093748</td>\n",
       "      <td>0.094344</td>\n",
       "    </tr>\n",
       "    <tr>\n",
       "      <th>3</th>\n",
       "      <td>0.167116</td>\n",
       "      <td>0.141889</td>\n",
       "      <td>0.156113</td>\n",
       "      <td>0.177573</td>\n",
       "      <td>0.183478</td>\n",
       "      <td>0.175609</td>\n",
       "      <td>0.141889</td>\n",
       "      <td>0.152955</td>\n",
       "      <td>0.148150</td>\n",
       "      <td>0.149751</td>\n",
       "      <td>...</td>\n",
       "      <td>0.175384</td>\n",
       "      <td>0.178692</td>\n",
       "      <td>0.179633</td>\n",
       "      <td>0.177406</td>\n",
       "      <td>0.175384</td>\n",
       "      <td>0.175384</td>\n",
       "      <td>0.175384</td>\n",
       "      <td>0.178692</td>\n",
       "      <td>0.179633</td>\n",
       "      <td>0.177406</td>\n",
       "    </tr>\n",
       "    <tr>\n",
       "      <th>4</th>\n",
       "      <td>0.216188</td>\n",
       "      <td>0.305427</td>\n",
       "      <td>0.289787</td>\n",
       "      <td>0.233046</td>\n",
       "      <td>0.220741</td>\n",
       "      <td>0.221533</td>\n",
       "      <td>0.305427</td>\n",
       "      <td>0.260313</td>\n",
       "      <td>0.262005</td>\n",
       "      <td>0.263899</td>\n",
       "      <td>...</td>\n",
       "      <td>0.185051</td>\n",
       "      <td>0.185115</td>\n",
       "      <td>0.186564</td>\n",
       "      <td>0.186535</td>\n",
       "      <td>0.185051</td>\n",
       "      <td>0.185051</td>\n",
       "      <td>0.185051</td>\n",
       "      <td>0.185115</td>\n",
       "      <td>0.186564</td>\n",
       "      <td>0.186535</td>\n",
       "    </tr>\n",
       "  </tbody>\n",
       "</table>\n",
       "<p>5 rows × 84 columns</p>\n",
       "</div>"
      ],
      "text/plain": [
       "     model0    model1    model2    model3    model4    model5    model6  \\\n",
       "0  0.144642  0.134895  0.070252  0.071610  0.081104  0.060188  0.134895   \n",
       "1  0.141304  0.145834  0.082746  0.069456  0.079953  0.066855  0.145834   \n",
       "2  0.169932  0.159308  0.104743  0.103657  0.099964  0.098790  0.159308   \n",
       "3  0.167116  0.141889  0.156113  0.177573  0.183478  0.175609  0.141889   \n",
       "4  0.216188  0.305427  0.289787  0.233046  0.220741  0.221533  0.305427   \n",
       "\n",
       "     model7    model8    model9  ...   model74   model75   model76   model77  \\\n",
       "0  0.134828  0.131718  0.135882  ...  0.062862  0.064889  0.066924  0.064294   \n",
       "1  0.124266  0.131912  0.119542  ...  0.073942  0.071810  0.071610  0.071517   \n",
       "2  0.124054  0.137002  0.124888  ...  0.095481  0.090494  0.093748  0.094344   \n",
       "3  0.152955  0.148150  0.149751  ...  0.175384  0.178692  0.179633  0.177406   \n",
       "4  0.260313  0.262005  0.263899  ...  0.185051  0.185115  0.186564  0.186535   \n",
       "\n",
       "    model78   model79   model80   model81   model82   model83  \n",
       "0  0.062862  0.062862  0.062863  0.064889  0.066924  0.064304  \n",
       "1  0.073943  0.073943  0.073946  0.071810  0.071610  0.071516  \n",
       "2  0.095481  0.095481  0.095481  0.090494  0.093748  0.094344  \n",
       "3  0.175384  0.175384  0.175384  0.178692  0.179633  0.177406  \n",
       "4  0.185051  0.185051  0.185051  0.185115  0.186564  0.186535  \n",
       "\n",
       "[5 rows x 84 columns]"
      ]
     },
     "execution_count": 852,
     "metadata": {},
     "output_type": "execute_result"
    }
   ],
   "source": [
    "cv2_month_splits"
   ]
  },
  {
   "cell_type": "code",
   "execution_count": 853,
   "id": "6cf9c999-82d8-4925-a583-fb004245bd41",
   "metadata": {},
   "outputs": [],
   "source": [
    "cv2_month_splits_desriptive = pd.DataFrame(index=cv2_month_splits.columns)"
   ]
  },
  {
   "cell_type": "code",
   "execution_count": 854,
   "id": "4e3a6d85-4995-418d-a2df-d06db21134c0",
   "metadata": {},
   "outputs": [],
   "source": [
    "cv2_month_splits_desriptive['mean'] = cv2_month_splits.mean()\n",
    "cv2_month_splits_desriptive['std'] = cv2_month_splits.std()"
   ]
  },
  {
   "cell_type": "code",
   "execution_count": 855,
   "id": "3fefd770-fe65-47ae-a1ba-80ee92e775ae",
   "metadata": {},
   "outputs": [],
   "source": [
    "cv2_month_splits_top_models = cv2_month_splits_desriptive.sort_values('mean')[:10].index"
   ]
  },
  {
   "cell_type": "code",
   "execution_count": 856,
   "id": "ec04626e-8ee3-4018-adb3-ff7e03ebc8dc",
   "metadata": {},
   "outputs": [
    {
     "data": {
      "text/plain": [
       "Index(['model63', 'model69', 'model62', 'model68', 'model61', 'model66',\n",
       "       'model67', 'model45', 'model64', 'model70'],\n",
       "      dtype='object')"
      ]
     },
     "execution_count": 856,
     "metadata": {},
     "output_type": "execute_result"
    }
   ],
   "source": [
    "cv2_month_splits_top_models"
   ]
  },
  {
   "cell_type": "code",
   "execution_count": 857,
   "id": "e814496d-c3f1-4062-a137-4152afd41c90",
   "metadata": {},
   "outputs": [],
   "source": [
    "# top df without sort\n",
    "cv2_month_splits_top = \\\n",
    "    cv2_month_splits.loc[:, cv2_month_splits.columns.isin(cv2_month_splits_top_models)].copy()"
   ]
  },
  {
   "cell_type": "code",
   "execution_count": 858,
   "id": "66c671d8-1157-4665-9af3-a73482a9232e",
   "metadata": {},
   "outputs": [],
   "source": [
    "cv2_month_splits_desriptive_top = \\\n",
    "    cv2_month_splits_desriptive.loc[cv2_month_splits_desriptive.index.isin(cv2_month_splits_top_models)].copy()"
   ]
  },
  {
   "cell_type": "code",
   "execution_count": 859,
   "id": "18c6c498-283a-4eed-9841-1b52d9e96f4e",
   "metadata": {},
   "outputs": [
    {
     "data": {
      "text/html": [
       "<div>\n",
       "<style scoped>\n",
       "    .dataframe tbody tr th:only-of-type {\n",
       "        vertical-align: middle;\n",
       "    }\n",
       "\n",
       "    .dataframe tbody tr th {\n",
       "        vertical-align: top;\n",
       "    }\n",
       "\n",
       "    .dataframe thead th {\n",
       "        text-align: right;\n",
       "    }\n",
       "</style>\n",
       "<table border=\"1\" class=\"dataframe\">\n",
       "  <thead>\n",
       "    <tr style=\"text-align: right;\">\n",
       "      <th></th>\n",
       "      <th>mean</th>\n",
       "      <th>std</th>\n",
       "    </tr>\n",
       "  </thead>\n",
       "  <tbody>\n",
       "    <tr>\n",
       "      <th>model45</th>\n",
       "      <td>0.116549</td>\n",
       "      <td>0.060717</td>\n",
       "    </tr>\n",
       "    <tr>\n",
       "      <th>model61</th>\n",
       "      <td>0.116549</td>\n",
       "      <td>0.060717</td>\n",
       "    </tr>\n",
       "    <tr>\n",
       "      <th>model62</th>\n",
       "      <td>0.116400</td>\n",
       "      <td>0.057822</td>\n",
       "    </tr>\n",
       "    <tr>\n",
       "      <th>model63</th>\n",
       "      <td>0.116235</td>\n",
       "      <td>0.059180</td>\n",
       "    </tr>\n",
       "    <tr>\n",
       "      <th>model64</th>\n",
       "      <td>0.117240</td>\n",
       "      <td>0.059427</td>\n",
       "    </tr>\n",
       "    <tr>\n",
       "      <th>model66</th>\n",
       "      <td>0.116549</td>\n",
       "      <td>0.060718</td>\n",
       "    </tr>\n",
       "    <tr>\n",
       "      <th>model67</th>\n",
       "      <td>0.116549</td>\n",
       "      <td>0.060718</td>\n",
       "    </tr>\n",
       "    <tr>\n",
       "      <th>model68</th>\n",
       "      <td>0.116402</td>\n",
       "      <td>0.057820</td>\n",
       "    </tr>\n",
       "    <tr>\n",
       "      <th>model69</th>\n",
       "      <td>0.116235</td>\n",
       "      <td>0.059180</td>\n",
       "    </tr>\n",
       "    <tr>\n",
       "      <th>model70</th>\n",
       "      <td>0.117241</td>\n",
       "      <td>0.059427</td>\n",
       "    </tr>\n",
       "  </tbody>\n",
       "</table>\n",
       "</div>"
      ],
      "text/plain": [
       "             mean       std\n",
       "model45  0.116549  0.060717\n",
       "model61  0.116549  0.060717\n",
       "model62  0.116400  0.057822\n",
       "model63  0.116235  0.059180\n",
       "model64  0.117240  0.059427\n",
       "model66  0.116549  0.060718\n",
       "model67  0.116549  0.060718\n",
       "model68  0.116402  0.057820\n",
       "model69  0.116235  0.059180\n",
       "model70  0.117241  0.059427"
      ]
     },
     "execution_count": 859,
     "metadata": {},
     "output_type": "execute_result"
    }
   ],
   "source": [
    "cv2_month_splits_desriptive_top"
   ]
  },
  {
   "cell_type": "code",
   "execution_count": 860,
   "id": "20b70443-d8a6-4258-81d3-11d57e15f0cf",
   "metadata": {},
   "outputs": [],
   "source": [
    "cv2_month_splits_best_model = cv2_month_splits_desriptive_top.sort_values('mean').index[0]"
   ]
  },
  {
   "cell_type": "code",
   "execution_count": 861,
   "id": "1b8f16c2-b906-4d9b-b959-39986926a80d",
   "metadata": {},
   "outputs": [
    {
     "data": {
      "text/plain": [
       "'model63'"
      ]
     },
     "execution_count": 861,
     "metadata": {},
     "output_type": "execute_result"
    }
   ],
   "source": [
    "cv2_month_splits_best_model"
   ]
  },
  {
   "cell_type": "code",
   "execution_count": 862,
   "id": "9e2c9b40-88a4-417e-adef-366e35cdac17",
   "metadata": {},
   "outputs": [],
   "source": [
    "for model in cv2_month_splits_desriptive_top.index:\n",
    "    cv2_month_splits_desriptive_top.loc[model, 'lower'] = \\\n",
    "        ci_bootstrap(cv2_month_splits[model])['ci_min']\n",
    "    cv2_month_splits_desriptive_top.loc[model, 'upper'] = \\\n",
    "        ci_bootstrap(cv2_month_splits[model])['ci_max']"
   ]
  },
  {
   "cell_type": "code",
   "execution_count": 863,
   "id": "b8b84967-cd22-4227-9a99-6e2c9a6ccc9f",
   "metadata": {},
   "outputs": [
    {
     "data": {
      "text/html": [
       "<div>\n",
       "<style scoped>\n",
       "    .dataframe tbody tr th:only-of-type {\n",
       "        vertical-align: middle;\n",
       "    }\n",
       "\n",
       "    .dataframe tbody tr th {\n",
       "        vertical-align: top;\n",
       "    }\n",
       "\n",
       "    .dataframe thead th {\n",
       "        text-align: right;\n",
       "    }\n",
       "</style>\n",
       "<table border=\"1\" class=\"dataframe\">\n",
       "  <thead>\n",
       "    <tr style=\"text-align: right;\">\n",
       "      <th></th>\n",
       "      <th>mean</th>\n",
       "      <th>std</th>\n",
       "      <th>lower</th>\n",
       "      <th>upper</th>\n",
       "    </tr>\n",
       "  </thead>\n",
       "  <tbody>\n",
       "    <tr>\n",
       "      <th>model45</th>\n",
       "      <td>0.116549</td>\n",
       "      <td>0.060717</td>\n",
       "      <td>0.071839</td>\n",
       "      <td>0.165037</td>\n",
       "    </tr>\n",
       "    <tr>\n",
       "      <th>model61</th>\n",
       "      <td>0.116549</td>\n",
       "      <td>0.060717</td>\n",
       "      <td>0.071839</td>\n",
       "      <td>0.165036</td>\n",
       "    </tr>\n",
       "    <tr>\n",
       "      <th>model62</th>\n",
       "      <td>0.116400</td>\n",
       "      <td>0.057822</td>\n",
       "      <td>0.074152</td>\n",
       "      <td>0.164278</td>\n",
       "    </tr>\n",
       "    <tr>\n",
       "      <th>model63</th>\n",
       "      <td>0.116235</td>\n",
       "      <td>0.059180</td>\n",
       "      <td>0.074424</td>\n",
       "      <td>0.164275</td>\n",
       "    </tr>\n",
       "    <tr>\n",
       "      <th>model64</th>\n",
       "      <td>0.117240</td>\n",
       "      <td>0.059427</td>\n",
       "      <td>0.075314</td>\n",
       "      <td>0.165750</td>\n",
       "    </tr>\n",
       "    <tr>\n",
       "      <th>model66</th>\n",
       "      <td>0.116549</td>\n",
       "      <td>0.060718</td>\n",
       "      <td>0.071839</td>\n",
       "      <td>0.165037</td>\n",
       "    </tr>\n",
       "    <tr>\n",
       "      <th>model67</th>\n",
       "      <td>0.116549</td>\n",
       "      <td>0.060718</td>\n",
       "      <td>0.073261</td>\n",
       "      <td>0.165037</td>\n",
       "    </tr>\n",
       "    <tr>\n",
       "      <th>model68</th>\n",
       "      <td>0.116402</td>\n",
       "      <td>0.057820</td>\n",
       "      <td>0.074153</td>\n",
       "      <td>0.164278</td>\n",
       "    </tr>\n",
       "    <tr>\n",
       "      <th>model69</th>\n",
       "      <td>0.116235</td>\n",
       "      <td>0.059180</td>\n",
       "      <td>0.073413</td>\n",
       "      <td>0.164275</td>\n",
       "    </tr>\n",
       "    <tr>\n",
       "      <th>model70</th>\n",
       "      <td>0.117241</td>\n",
       "      <td>0.059427</td>\n",
       "      <td>0.075264</td>\n",
       "      <td>0.165750</td>\n",
       "    </tr>\n",
       "  </tbody>\n",
       "</table>\n",
       "</div>"
      ],
      "text/plain": [
       "             mean       std     lower     upper\n",
       "model45  0.116549  0.060717  0.071839  0.165037\n",
       "model61  0.116549  0.060717  0.071839  0.165036\n",
       "model62  0.116400  0.057822  0.074152  0.164278\n",
       "model63  0.116235  0.059180  0.074424  0.164275\n",
       "model64  0.117240  0.059427  0.075314  0.165750\n",
       "model66  0.116549  0.060718  0.071839  0.165037\n",
       "model67  0.116549  0.060718  0.073261  0.165037\n",
       "model68  0.116402  0.057820  0.074153  0.164278\n",
       "model69  0.116235  0.059180  0.073413  0.164275\n",
       "model70  0.117241  0.059427  0.075264  0.165750"
      ]
     },
     "execution_count": 863,
     "metadata": {},
     "output_type": "execute_result"
    }
   ],
   "source": [
    "cv2_month_splits_desriptive_top"
   ]
  },
  {
   "cell_type": "code",
   "execution_count": 864,
   "id": "3107e7ad-a3c1-400d-9662-c91a1da6fc37",
   "metadata": {},
   "outputs": [],
   "source": [
    "arima2_month = cv2_month_models[cv2_month_splits_best_model]"
   ]
  },
  {
   "cell_type": "code",
   "execution_count": 865,
   "id": "7eadbae5-6957-49f4-9ee3-68479dc0cae5",
   "metadata": {},
   "outputs": [
    {
     "data": {
      "text/plain": [
       "((3, 1, 1), [144, 72], [3, 4])"
      ]
     },
     "execution_count": 865,
     "metadata": {},
     "output_type": "execute_result"
    }
   ],
   "source": [
    "arima2_month"
   ]
  },
  {
   "cell_type": "code",
   "execution_count": 866,
   "id": "ecaa5849-4e76-4c9c-91a2-ac991259df37",
   "metadata": {},
   "outputs": [
    {
     "data": {
      "text/plain": [
       "mean     0.116235\n",
       "std      0.059180\n",
       "lower    0.074424\n",
       "upper    0.164275\n",
       "Name: model63, dtype: float64"
      ]
     },
     "execution_count": 866,
     "metadata": {},
     "output_type": "execute_result"
    }
   ],
   "source": [
    "cv2_month_splits_desriptive_top.loc[cv2_month_splits_best_model]"
   ]
  },
  {
   "cell_type": "markdown",
   "id": "bccc6384-9550-42ad-bfa0-bfb1c36c578f",
   "metadata": {},
   "source": [
    "### Comparing models with and without exog variables"
   ]
  },
  {
   "cell_type": "code",
   "execution_count": 867,
   "id": "7d980e97-fce9-4907-82e3-0af289e60f42",
   "metadata": {},
   "outputs": [
    {
     "data": {
      "text/plain": [
       "0    0.065772\n",
       "1    0.072025\n",
       "2    0.088250\n",
       "3    0.176579\n",
       "4    0.183608\n",
       "Name: model69, dtype: float64"
      ]
     },
     "execution_count": 867,
     "metadata": {},
     "output_type": "execute_result"
    }
   ],
   "source": [
    "cv1_month_splits[cv1_month_splits_best_model]"
   ]
  },
  {
   "cell_type": "code",
   "execution_count": 868,
   "id": "2b0daf80-259e-45de-bb0f-dd35298ed149",
   "metadata": {},
   "outputs": [
    {
     "data": {
      "text/plain": [
       "0    0.064393\n",
       "1    0.069451\n",
       "2    0.086942\n",
       "3    0.173369\n",
       "4    0.187021\n",
       "Name: model63, dtype: float64"
      ]
     },
     "execution_count": 868,
     "metadata": {},
     "output_type": "execute_result"
    }
   ],
   "source": [
    "cv2_month_splits[cv2_month_splits_best_model]"
   ]
  },
  {
   "cell_type": "code",
   "execution_count": 869,
   "id": "0c6554cc-2244-435f-ba7c-690fcb647b37",
   "metadata": {},
   "outputs": [],
   "source": [
    "cv1_month_bootstrap_descriptive = \\\n",
    "    ci_bootstrap(cv1_month_splits[cv1_month_splits_best_model])"
   ]
  },
  {
   "cell_type": "code",
   "execution_count": 870,
   "id": "10197aeb-c6aa-4a88-9f9e-c99f191a825e",
   "metadata": {},
   "outputs": [],
   "source": [
    "cv2_month_bootstrap_descriptive = \\\n",
    "    ci_bootstrap(cv2_month_splits[cv2_month_splits_best_model])"
   ]
  },
  {
   "cell_type": "code",
   "execution_count": 871,
   "id": "6dc6841d-cc56-4df5-a427-0b6dd4848130",
   "metadata": {},
   "outputs": [
    {
     "data": {
      "text/plain": [
       "{'statistic': 0.11724695611294629,\n",
       " 'std': 0.058007874936142304,\n",
       " 'ci_min': 0.07523798777013621,\n",
       " 'ci_max': 0.1631308209982574,\n",
       " 'margin': 0.04200896834281008}"
      ]
     },
     "execution_count": 871,
     "metadata": {},
     "output_type": "execute_result"
    }
   ],
   "source": [
    "cv1_month_bootstrap_descriptive"
   ]
  },
  {
   "cell_type": "code",
   "execution_count": 872,
   "id": "bc58a4a1-fd5f-4e6f-8380-8df0058eb1ba",
   "metadata": {},
   "outputs": [
    {
     "data": {
      "text/plain": [
       "{'statistic': 0.11623512338875255,\n",
       " 'std': 0.05918033187776734,\n",
       " 'ci_min': 0.0744242854435797,\n",
       " 'ci_max': 0.1642745812252791,\n",
       " 'margin': 0.04181083794517286}"
      ]
     },
     "execution_count": 872,
     "metadata": {},
     "output_type": "execute_result"
    }
   ],
   "source": [
    "cv2_month_bootstrap_descriptive"
   ]
  },
  {
   "cell_type": "code",
   "execution_count": 873,
   "id": "383a1751-7563-44f4-8015-8a25f1916e56",
   "metadata": {},
   "outputs": [
    {
     "data": {
      "image/png": "[encoded data removed]",
      "text/plain": [
       "<Figure size 500x200 with 2 Axes>"
      ]
     },
     "metadata": {},
     "output_type": "display_data"
    }
   ],
   "source": [
    "plt.subplots(1, 2, figsize=(5, 2))\n",
    "\n",
    "plt.subplot(1, 2, 1)\n",
    "sns.boxplot(\n",
    "    x=0,\n",
    "    y=cv1_month_splits[cv1_month_splits_best_model],\n",
    "    width=0.15,\n",
    "    color=alpha_color(palette[0], 0.5)\n",
    ")\n",
    "sns.boxplot(\n",
    "    x=1,\n",
    "    y=cv2_month_splits[cv1_month_splits_best_model],\n",
    "    width=0.15,\n",
    "    color=alpha_color(palette[1], 0.75)\n",
    ")\n",
    "plt.ylabel(None)\n",
    "axis_rstyle(\n",
    "    yticks=[0, 0.30, 0.05], \n",
    "    offset_bottom=0, xticks=[0, 1], xlim=[-1, 2], x_axis_hide=True)\n",
    "ax_current().set_xticklabels(labels='')\n",
    "\n",
    "plt.subplot(1, 2, 2)\n",
    "plt.errorbar(\n",
    "    x=0,\n",
    "    y=cv1_month_bootstrap_descriptive['statistic'],\n",
    "    yerr=np.array([[cv1_month_bootstrap_descriptive['ci_min']], [cv1_month_bootstrap_descriptive['ci_max']]]),\n",
    "    marker='o',\n",
    "    markersize=2,\n",
    "    lw=1,\n",
    "    capsize=1.5,\n",
    "    color=alpha_color(palette[0], 1)\n",
    ")\n",
    "plt.errorbar(\n",
    "    x=1,\n",
    "    y=cv2_month_bootstrap_descriptive['statistic'],\n",
    "    yerr=np.array([[cv2_month_bootstrap_descriptive['ci_min']], [cv2_month_bootstrap_descriptive['ci_max']]]),\n",
    "    marker='o',\n",
    "    markersize=2,\n",
    "    lw=1,\n",
    "    capsize=1.5,\n",
    "    color=alpha_color(palette[1], 1)\n",
    ")\n",
    "ax_current().set_xticklabels(labels='')\n",
    "axis_rstyle(\n",
    "    yticks=[0, 0.30, 0.05], \n",
    "    offset_bottom=10, xticks=[0, 1], xlim=[-1, 2], x_axis_hide=True)\n",
    "plt.legend(\n",
    "    **legend_mid(),\n",
    "    **legend_create_handles(\n",
    "        2, 'point',\n",
    "        colors=[alpha_color(palette[0], 0.85), alpha_color(palette[1], 0.95)],\n",
    "        labels=['Without exogs', 'With exogs'])\n",
    ")\n",
    "\n",
    "plt.subplots_adjust(wspace=0.25)"
   ]
  },
  {
   "cell_type": "code",
   "execution_count": 874,
   "id": "7db8c1bb-eec0-4c68-9930-bc3dc55329a5",
   "metadata": {},
   "outputs": [],
   "source": [
    "arima_month = arima2_month"
   ]
  },
  {
   "cell_type": "markdown",
   "id": "f2c7a992-1fe6-4fa5-8e32-e4ff926cd090",
   "metadata": {},
   "source": [
    "### Forecasts"
   ]
  },
  {
   "cell_type": "code",
   "execution_count": 875,
   "id": "56bf436e-c043-4dfd-aa26-aeae180ba4b7",
   "metadata": {},
   "outputs": [],
   "source": [
    "arima_month_order = arima_month[0]\n",
    "arima_month_fourier_period = arima_month[1]\n",
    "arima_month_fourier_order = arima_month[2]"
   ]
  },
  {
   "cell_type": "code",
   "execution_count": 876,
   "id": "39879b6a-3871-4782-9f37-a42894882abf",
   "metadata": {},
   "outputs": [
    {
     "data": {
      "text/plain": [
       "((3, 1, 1), [144, 72], [3, 4])"
      ]
     },
     "execution_count": 876,
     "metadata": {},
     "output_type": "execute_result"
    }
   ],
   "source": [
    "arima_month_order, arima_month_fourier_period, arima_month_fourier_order"
   ]
  },
  {
   "cell_type": "markdown",
   "id": "ea5c1145-935c-4574-b8b0-f9a852f7b4a3",
   "metadata": {},
   "source": [
    "#### August forecast"
   ]
  },
  {
   "cell_type": "code",
   "execution_count": 877,
   "id": "d6519661-94f4-43c6-aaa9-4c8aeec3fc8c",
   "metadata": {},
   "outputs": [],
   "source": [
    "train_august_month = train.loc['2017-07-01':, 'target1'].copy()"
   ]
  },
  {
   "cell_type": "code",
   "execution_count": 878,
   "id": "d34d929b-21fc-4170-9295-55342b554bb9",
   "metadata": {},
   "outputs": [],
   "source": [
    "train_august_month_exogs_df = train.loc['2017-07-01':, exog_vars].copy()"
   ]
  },
  {
   "cell_type": "code",
   "execution_count": 879,
   "id": "e05657e3-6166-4d98-9549-864567e035da",
   "metadata": {},
   "outputs": [],
   "source": [
    "test_august_month = valid['target1'].copy()"
   ]
  },
  {
   "cell_type": "code",
   "execution_count": 880,
   "id": "99a82321-3983-43f6-ab16-d99f3faf9474",
   "metadata": {},
   "outputs": [],
   "source": [
    "test_august_month_exogs_df = valid.loc['2017-07-01':, exog_vars].copy()"
   ]
  },
  {
   "cell_type": "code",
   "execution_count": 881,
   "id": "44018e3e-131c-4407-80bb-b5af9230aa00",
   "metadata": {},
   "outputs": [],
   "source": [
    "train_august_month_exogs, test_august_month_exogs = \\\n",
    "    ts_arima_fourier_get_exogs(\n",
    "        fourier_period=arima_month_fourier_period,\n",
    "        fourier_order=arima_month_fourier_order,\n",
    "        train_data=train_august_month,\n",
    "        test_data=test_august_month)"
   ]
  },
  {
   "cell_type": "code",
   "execution_count": 882,
   "id": "1b97fe70-4d99-4a3d-997e-2bf2d0852c04",
   "metadata": {},
   "outputs": [],
   "source": [
    "test_august_month_exogs = test_august_month_exogs.join(\n",
    "    test_august_month_exogs_df\n",
    ")"
   ]
  },
  {
   "cell_type": "code",
   "execution_count": 883,
   "id": "aa32e96c-efc0-4553-9c7f-a6176571f578",
   "metadata": {},
   "outputs": [],
   "source": [
    "model_month = fit_model_with_fourier(\n",
    "    order=arima_month_order,\n",
    "    fourier_period=arima_month_fourier_period,\n",
    "    fourier_order=arima_month_fourier_order,\n",
    "    train_data=train_august_month,\n",
    "    exog=train_august_month_exogs_df\n",
    ")"
   ]
  },
  {
   "cell_type": "code",
   "execution_count": 884,
   "id": "e9025c55-4c5a-44d6-aa4a-9f336a2b9c01",
   "metadata": {},
   "outputs": [],
   "source": [
    "forecast_month = model_month.get_forecast(steps=len(test_august_month), exog=test_august_month_exogs)"
   ]
  },
  {
   "cell_type": "code",
   "execution_count": 885,
   "id": "9bfd88cb-4369-4293-b422-0ce8f802988f",
   "metadata": {},
   "outputs": [
    {
     "data": {
      "text/plain": [
       "0.05982815355708296"
      ]
     },
     "execution_count": 885,
     "metadata": {},
     "output_type": "execute_result"
    }
   ],
   "source": [
    "root_mean_squared_log_error(forecast_month.predicted_mean, test_august_month)"
   ]
  },
  {
   "cell_type": "code",
   "execution_count": 886,
   "id": "6c8da20f-78c3-4f1a-9a5e-a55647c5488b",
   "metadata": {},
   "outputs": [
    {
     "data": {
      "image/png": "[encoded data removed]",
      "text/plain": [
       "<Figure size 800x250 with 1 Axes>"
      ]
     },
     "metadata": {},
     "output_type": "display_data"
    }
   ],
   "source": [
    "ts_plot_arima_forecast(\n",
    "    model=model_month, steps=len(test_august_month),\n",
    "    data=train_august_month.to_frame(), exog=test_august_month_exogs)\n",
    "plt.plot(test_august_month)\n",
    "\n",
    "ax_current().set_xlim(dt.date(2017, 7, 30))\n",
    "ax_current().set_ylim(0, 80000)\n",
    "ax_current().set_xticks(ticks=pd.date_range(start='2017-07-29', end='2017-09-01', freq='2d'))\n",
    "ax_current().xaxis.set_major_formatter(mpl.dates.DateFormatter(fmt='%m-%d'))\n",
    "axis_rstyle(offset_left=10)"
   ]
  },
  {
   "cell_type": "code",
   "execution_count": 887,
   "id": "4eb86a52-0610-498b-bc3b-4502fdc52031",
   "metadata": {},
   "outputs": [
    {
     "data": {
      "image/png": "[encoded data removed]",
      "text/plain": [
       "<Figure size 800x250 with 1 Axes>"
      ]
     },
     "metadata": {},
     "output_type": "display_data"
    }
   ],
   "source": [
    "plt.plot(\n",
    "    forecast_month.predicted_mean.index,\n",
    "    forecast_month.predicted_mean,\n",
    "    label='Forecast',\n",
    "    color=palette[2], zorder=100)\n",
    "plt.plot(\n",
    "    valid['target1'],\n",
    "    label='Actual',\n",
    "    color=palette[1]);\n",
    "\n",
    "ax_current().set_xticks(ticks=pd.date_range(start='2017-08-01', end='2017-09-02', freq='2d'))\n",
    "ax_current().xaxis.set_major_formatter(mpl.dates.DateFormatter(fmt='%m-%d'))\n",
    "axis_rstyle(ylim=[20000, 60000])\n",
    "plt.legend(**legend_inline(bbox_to_anchor=(0, 0.9)))\n",
    "plt.show()"
   ]
  },
  {
   "cell_type": "code",
   "execution_count": 888,
   "id": "a7d34478-a195-4a30-ad53-53387eb34b25",
   "metadata": {},
   "outputs": [
    {
     "name": "stdout",
     "output_type": "stream",
     "text": [
      "                               SARIMAX Results                                \n",
      "==============================================================================\n",
      "Dep. Variable:                target1   No. Observations:                 4464\n",
      "Model:               SARIMAX(3, 1, 1)   Log Likelihood              -33145.747\n",
      "Date:                Mon, 08 Apr 2024   AIC                          66339.493\n",
      "Time:                        13:10:23   BIC                          66493.179\n",
      "Sample:                    07-01-2017   HQIC                         66393.669\n",
      "                         - 07-31-2017                                         \n",
      "Covariance Type:                  opg                                         \n",
      "======================================================================================\n",
      "                         coef    std err          z      P>|z|      [0.025      0.975]\n",
      "--------------------------------------------------------------------------------------\n",
      "sin(1,72)          -1416.8329     46.036    -30.776      0.000   -1507.063   -1326.603\n",
      "cos(1,72)           1917.8559     54.625     35.110      0.000    1810.793    2024.919\n",
      "sin(2,72)           -691.9851     71.628     -9.661      0.000    -832.374    -551.596\n",
      "cos(2,72)          -1674.7595     67.758    -24.717      0.000   -1807.562   -1541.957\n",
      "sin(3,72)            146.2359     58.503      2.500      0.012      31.571     260.901\n",
      "cos(3,72)            614.2060     56.226     10.924      0.000     504.005     724.407\n",
      "sin(4,72)           -181.8676     42.728     -4.256      0.000    -265.613     -98.123\n",
      "cos(4,72)           -126.4844     52.176     -2.424      0.015    -228.748     -24.221\n",
      "sin(1,144)         -7797.5843    213.723    -36.485      0.000   -8216.473   -7378.695\n",
      "cos(1,144)           891.0110    163.631      5.445      0.000     570.300    1211.722\n",
      "sin(2,144)         -1416.8329     46.036    -30.776      0.000   -1507.063   -1326.603\n",
      "cos(2,144)          1917.8559     54.625     35.110      0.000    1810.793    2024.919\n",
      "sin(3,144)         -1280.8178     78.119    -16.396      0.000   -1433.929   -1127.707\n",
      "cos(3,144)         -1570.9514     78.550    -19.999      0.000   -1724.907   -1416.996\n",
      "temperature            6.9740     26.711      0.261      0.794     -45.379      59.327\n",
      "target1_by_minutes    -0.0392      0.011     -3.595      0.000      -0.061      -0.018\n",
      "is_Friday            126.5665    249.428      0.507      0.612    -362.304     615.436\n",
      "is_Sunday             58.1205    291.645      0.199      0.842    -513.494     629.735\n",
      "is_31                335.5472    549.025      0.611      0.541    -740.521    1411.615\n",
      "ar.L1                  1.2675      0.013     96.112      0.000       1.242       1.293\n",
      "ar.L2                 -0.3849      0.016    -24.152      0.000      -0.416      -0.354\n",
      "ar.L3                 -0.0294      0.013     -2.322      0.020      -0.054      -0.005\n",
      "ma.L1                 -0.9106      0.012    -75.729      0.000      -0.934      -0.887\n",
      "sigma2              1.634e+05   1364.252    119.797      0.000    1.61e+05    1.66e+05\n",
      "===================================================================================\n",
      "Ljung-Box (L1) (Q):                   0.64   Jarque-Bera (JB):             64936.38\n",
      "Prob(Q):                              0.42   Prob(JB):                         0.00\n",
      "Heteroskedasticity (H):               0.48   Skew:                             0.21\n",
      "Prob(H) (two-sided):                  0.00   Kurtosis:                        21.68\n",
      "===================================================================================\n",
      "\n",
      "Warnings:\n",
      "[1] Covariance matrix calculated using the outer product of gradients (complex-step).\n",
      "[2] Covariance matrix is singular or near-singular, with condition number 2.88e+18. Standard errors may be unstable.\n"
     ]
    }
   ],
   "source": [
    "print(model_month.summary())"
   ]
  },
  {
   "cell_type": "markdown",
   "id": "f2d93b24-4eec-4ba1-9389-e1e035039b1f",
   "metadata": {},
   "source": [
    "## Save Data"
   ]
  },
  {
   "cell_type": "code",
   "execution_count": 127,
   "id": "90079c2d-6f49-4745-a91d-aeff3e2e3849",
   "metadata": {},
   "outputs": [
    {
     "name": "stdout",
     "output_type": "stream",
     "text": [
      "File 'train.pkl' saved in directory 'files/03-arima/'\n"
     ]
    }
   ],
   "source": [
    "saveit(train, 'train', save_files)"
   ]
  },
  {
   "cell_type": "code",
   "execution_count": 128,
   "id": "4d461689-7cdc-4568-8149-4ccbbda1eadb",
   "metadata": {},
   "outputs": [
    {
     "name": "stdout",
     "output_type": "stream",
     "text": [
      "File 'valid.pkl' saved in directory 'files/03-arima/'\n"
     ]
    }
   ],
   "source": [
    "saveit(valid, 'valid', save_files)"
   ]
  },
  {
   "cell_type": "code",
   "execution_count": 129,
   "id": "2dcc5b68-990d-44e5-817e-d6376bfa4cbc",
   "metadata": {},
   "outputs": [
    {
     "name": "stdout",
     "output_type": "stream",
     "text": [
      "File 'test.pkl' saved in directory 'files/03-arima/'\n"
     ]
    }
   ],
   "source": [
    "saveit(test, 'test', save_files)"
   ]
  },
  {
   "cell_type": "code",
   "execution_count": 364,
   "id": "f477f5e0-5a9a-4e46-99d9-d73642c93eb9",
   "metadata": {},
   "outputs": [
    {
     "name": "stdout",
     "output_type": "stream",
     "text": [
      "File 'cv_results_month_model.pkl' saved in directory 'files/03-arima/'\n"
     ]
    }
   ],
   "source": [
    "saveit(cv1_results_week_model, 'cv1_results_month_model', save_files)"
   ]
  },
  {
   "cell_type": "code",
   "execution_count": 364,
   "id": "0997b914-59a8-4d8e-b8ac-ae5fc28abc15",
   "metadata": {},
   "outputs": [
    {
     "name": "stdout",
     "output_type": "stream",
     "text": [
      "File 'cv_results_month_model.pkl' saved in directory 'files/03-arima/'\n"
     ]
    }
   ],
   "source": [
    "saveit(cv2_results_week_model, 'cv2_results_month_model', save_files)"
   ]
  },
  {
   "cell_type": "markdown",
   "id": "23c1555f-9c9f-46e4-9952-027553fe292d",
   "metadata": {},
   "source": [
    "### Save Session"
   ]
  },
  {
   "cell_type": "code",
   "execution_count": 130,
   "id": "544d8ecd-dcb0-44c4-bb5a-887cbba4e9bf",
   "metadata": {},
   "outputs": [],
   "source": [
    "save_session(session_name)"
   ]
  },
  {
   "cell_type": "markdown",
   "id": "0cc9843f-f66f-4535-8114-918e8eca9717",
   "metadata": {},
   "source": [
    "### Execution time"
   ]
  },
  {
   "cell_type": "code",
   "execution_count": 131,
   "id": "7296d512-ccdf-46f2-bd89-9be792d545b6",
   "metadata": {},
   "outputs": [
    {
     "name": "stdout",
     "output_type": "stream",
     "text": [
      "Execution time: 0:13:18\n"
     ]
    }
   ],
   "source": [
    "print(f'Execution time: {stopwatch.stop(start)}')"
   ]
  }
 ],
 "metadata": {
  "kernelspec": {
   "display_name": "electric-power-consumption",
   "language": "python",
   "name": "electric-power-consumption"
  },
  "language_info": {
   "codemirror_mode": {
    "name": "ipython",
    "version": 3
   },
   "file_extension": ".py",
   "mimetype": "text/x-python",
   "name": "python",
   "nbconvert_exporter": "python",
   "pygments_lexer": "ipython3",
   "version": "3.12.2"
  }
 },
 "nbformat": 4,
 "nbformat_minor": 5
}
