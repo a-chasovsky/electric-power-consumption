{
 "cells": [
  {
   "cell_type": "code",
   "execution_count": 1,
   "id": "2e1e3b63-5b9c-464b-9beb-d9a38a44e22d",
   "metadata": {},
   "outputs": [],
   "source": [
    "# run stopwatch\n",
    "from tools import Stopwatch\n",
    "stopwatch = Stopwatch()\n",
    "start = stopwatch.start()"
   ]
  },
  {
   "cell_type": "markdown",
   "id": "8a5f52fd-7477-4e52-b560-977bf3bb88a7",
   "metadata": {},
   "source": [
    "### Load libraries, functions, palette, theme"
   ]
  },
  {
   "cell_type": "code",
   "execution_count": 2,
   "id": "5f9b63c8-50a4-4a00-9832-429b38b4f296",
   "metadata": {},
   "outputs": [],
   "source": [
    "%run _libraries.ipynb"
   ]
  },
  {
   "cell_type": "code",
   "execution_count": 3,
   "id": "d59d91f0-c577-4e62-90b9-43557d4fef7b",
   "metadata": {},
   "outputs": [],
   "source": [
    "%run _functions.ipynb"
   ]
  },
  {
   "cell_type": "code",
   "execution_count": 4,
   "id": "bdf872cc-90e3-4f56-95d9-02a0e994ee83",
   "metadata": {},
   "outputs": [],
   "source": [
    "dir_current = '03-arima-month'"
   ]
  },
  {
   "cell_type": "code",
   "execution_count": 5,
   "id": "db16a030-455b-4859-8648-ae76e940954c",
   "metadata": {},
   "outputs": [],
   "source": [
    "dir_save_files = 'files/'"
   ]
  },
  {
   "cell_type": "code",
   "execution_count": 6,
   "id": "d211a8da-be2e-4600-8126-a61847995b7b",
   "metadata": {},
   "outputs": [],
   "source": [
    "dir_load_files = 'files/'"
   ]
  },
  {
   "cell_type": "code",
   "execution_count": 7,
   "id": "d85e517e-37f3-4401-87e4-8634211faea0",
   "metadata": {},
   "outputs": [],
   "source": [
    "dir_save_img = 'docs/img/'"
   ]
  },
  {
   "cell_type": "code",
   "execution_count": 8,
   "id": "9d456a95-1308-4a67-bae1-b76346cea9b7",
   "metadata": {},
   "outputs": [],
   "source": [
    "session_name = dir_current"
   ]
  },
  {
   "cell_type": "markdown",
   "id": "dcd731b8-b85b-45fd-a03d-b548cb6e336a",
   "metadata": {},
   "source": [
    "# Section III. ARIMA"
   ]
  },
  {
   "cell_type": "markdown",
   "id": "2c2ccbc8-9b8e-4b6b-a6b1-b5fcb2962b01",
   "metadata": {},
   "source": [
    "## Load Saved Section if exists"
   ]
  },
  {
   "cell_type": "raw",
   "id": "53ead796-d77c-49a0-9fed-49fded9be347",
   "metadata": {},
   "source": [
    "if os.path.exists(f'sessions/{dir_save}'):\n",
    "    load_session(dir_save)\n",
    "else:\n",
    "    print(f\"No such session: 'sessions/{dir_save}'\")"
   ]
  },
  {
   "cell_type": "markdown",
   "id": "3cb709b2-c84e-4533-be0d-a1b6c52fd6f5",
   "metadata": {},
   "source": [
    "## Load Data"
   ]
  },
  {
   "cell_type": "code",
   "execution_count": 9,
   "id": "0cfdf001-ac4c-414c-b2bf-8428e1d3cb17",
   "metadata": {},
   "outputs": [],
   "source": [
    "train = loadit('train_preprocessed', dir=dir_load_files)"
   ]
  },
  {
   "cell_type": "code",
   "execution_count": 10,
   "id": "e7c904b3-cd9c-485b-a7ed-00b825eb7ad9",
   "metadata": {},
   "outputs": [],
   "source": [
    "valid = loadit('valid_preprocessed', dir=dir_load_files)"
   ]
  },
  {
   "cell_type": "code",
   "execution_count": 11,
   "id": "5663f2ca-6f27-45e6-93a0-e3c6ebf5cdee",
   "metadata": {},
   "outputs": [],
   "source": [
    "test = loadit('test_preprocessed', dir=dir_load_files)"
   ]
  },
  {
   "cell_type": "markdown",
   "id": "027092ac-ac4a-4065-8a19-3ee3e321101f",
   "metadata": {},
   "source": [
    "## Stationarity\n",
    "\n",
    "p< 0.05: Enough evidence to say, that process is stationarity"
   ]
  },
  {
   "cell_type": "code",
   "execution_count": 12,
   "id": "e7b0e19c-bd75-421b-8782-21f9267abd9c",
   "metadata": {},
   "outputs": [
    {
     "data": {
      "text/plain": [
       "(-28.686047970170506,\n",
       " 0.0,\n",
       " 47,\n",
       " 30480,\n",
       " {'1%': -3.4305645620343594,\n",
       "  '5%': -2.8616348306743395,\n",
       "  '10%': -2.566820475464527},\n",
       " 460471.5647015386)"
      ]
     },
     "execution_count": 12,
     "metadata": {},
     "output_type": "execute_result"
    }
   ],
   "source": [
    "# NULL: non-stationarity\n",
    "sm.tsa.stattools.adfuller(train['target1'])"
   ]
  },
  {
   "cell_type": "code",
   "execution_count": 13,
   "id": "0c1ff75e-85de-48df-9498-25c7e0425bf8",
   "metadata": {},
   "outputs": [
    {
     "data": {
      "text/plain": [
       "array([1, 2, 3, 4, 5, 6, 7], dtype=int32)"
      ]
     },
     "execution_count": 13,
     "metadata": {},
     "output_type": "execute_result"
    }
   ],
   "source": [
    "train['month'].unique()"
   ]
  },
  {
   "cell_type": "code",
   "execution_count": 14,
   "id": "d71f45a9-d057-40b3-93ca-5a363d8a5865",
   "metadata": {},
   "outputs": [
    {
     "name": "stdout",
     "output_type": "stream",
     "text": [
      "1.0644033759839667e-22\n",
      "True\n",
      "3.732657699349194e-20\n",
      "True\n",
      "7.432116387741869e-24\n",
      "True\n",
      "1.7428395333340719e-23\n",
      "True\n",
      "2.955844723407367e-22\n",
      "True\n",
      "4.44900636796093e-19\n",
      "True\n",
      "8.442519583711138e-20\n",
      "True\n"
     ]
    }
   ],
   "source": [
    "for i in train['month'].unique():\n",
    "    print(sm.tsa.stattools.adfuller(train.loc[train['month']==i, 'target1'])[1])\n",
    "    print(sm.tsa.stattools.adfuller(train.loc[train['month']==i, 'target1'])[1] < 0.05)"
   ]
  },
  {
   "cell_type": "code",
   "execution_count": 15,
   "id": "57e77a55-ac7c-4816-a4c4-e53234125ed4",
   "metadata": {},
   "outputs": [
    {
     "name": "stdout",
     "output_type": "stream",
     "text": [
      "4.97351764764749e-26\n",
      "True\n",
      "4.483001520404638e-24\n",
      "True\n",
      "6.141089115772981e-28\n",
      "True\n",
      "3.702018465634753e-28\n",
      "True\n",
      "1.1368337132320429e-27\n",
      "True\n",
      "5.506358370607743e-23\n",
      "True\n",
      "1.2150033480795901e-26\n",
      "True\n"
     ]
    }
   ],
   "source": [
    "for i in train['month'].unique():\n",
    "    print(sm.tsa.stattools.adfuller(train.loc[train['month']==i, 'target1'].diff()[1:])[1])\n",
    "    print(sm.tsa.stattools.adfuller(train.loc[train['month']==i, 'target1'].diff()[1:])[1] < 0.05)"
   ]
  },
  {
   "cell_type": "markdown",
   "id": "39d62d8c-27e6-467a-801f-f8fc61b92e66",
   "metadata": {},
   "source": [
    "## Autocorrelation"
   ]
  },
  {
   "cell_type": "markdown",
   "id": "ddbdb136-bd0d-4c31-b54c-03b20c13b23c",
   "metadata": {},
   "source": [
    "#### ACF - 40 period"
   ]
  },
  {
   "cell_type": "code",
   "execution_count": 16,
   "id": "ba917453-5f39-4982-826f-dd3182687527",
   "metadata": {},
   "outputs": [
    {
     "data": {
      "image/png": "[encoded data removed]",
      "text/plain": [
       "<Figure size 800x250 with 1 Axes>"
      ]
     },
     "metadata": {},
     "output_type": "display_data"
    }
   ],
   "source": [
    "fig = plt.figure()\n",
    "plot_acf(data=train['target1'], lags=40)"
   ]
  },
  {
   "cell_type": "code",
   "execution_count": 17,
   "id": "0d9c0038-44a3-4dfc-a10f-2ef143a7f4e0",
   "metadata": {},
   "outputs": [
    {
     "data": {
      "text/plain": [
       "31"
      ]
     },
     "execution_count": 17,
     "metadata": {},
     "output_type": "execute_result"
    }
   ],
   "source": [
    "ts_acf_last_significant_index(train['target1'])"
   ]
  },
  {
   "cell_type": "markdown",
   "id": "db776f18-8fcf-4607-8d56-fd8653cf1bee",
   "metadata": {},
   "source": [
    "#### ACF - 300 period"
   ]
  },
  {
   "cell_type": "code",
   "execution_count": 18,
   "id": "9a7ad78b-cd28-476c-9209-48755445a43e",
   "metadata": {},
   "outputs": [
    {
     "name": "stdout",
     "output_type": "stream",
     "text": [
      "Images 'ACF_300.png' and 'ACF_300.svg' successfully saved into 'docs/img/' directory\n"
     ]
    },
    {
     "data": {
      "image/png": "[encoded data removed]",
      "text/plain": [
       "<Figure size 800x250 with 1 Axes>"
      ]
     },
     "metadata": {},
     "output_type": "display_data"
    }
   ],
   "source": [
    "fig = plt.figure()\n",
    "plot_acf(data=train['target1'], lags=300, transparency_lines=0.25, show_last_significant=False)\n",
    "savefig('ACF_300', dir_save_img)"
   ]
  },
  {
   "cell_type": "markdown",
   "id": "3f8f94ac-c196-4ca4-9401-5cce10550781",
   "metadata": {},
   "source": [
    "#### PACF - 40 period"
   ]
  },
  {
   "cell_type": "code",
   "execution_count": 19,
   "id": "31f7aa4f-a341-4038-ad2c-615f716f447a",
   "metadata": {},
   "outputs": [],
   "source": [
    "pacf = ts_acf_calculate(train['target1'], lags=36, partial=True)"
   ]
  },
  {
   "cell_type": "code",
   "execution_count": 20,
   "id": "507ccaf6-f794-4d10-9e5f-7e9354c3c900",
   "metadata": {},
   "outputs": [
    {
     "data": {
      "image/png": "[encoded data removed]",
      "text/plain": [
       "<Figure size 800x250 with 1 Axes>"
      ]
     },
     "metadata": {},
     "output_type": "display_data"
    }
   ],
   "source": [
    "fig = plt.figure()\n",
    "\n",
    "plot_acf(data=train['target1'], partial=True)"
   ]
  },
  {
   "cell_type": "code",
   "execution_count": 21,
   "id": "b52de8f3-0d29-485f-8c2d-ae1293858e3d",
   "metadata": {},
   "outputs": [
    {
     "data": {
      "text/plain": [
       "13"
      ]
     },
     "execution_count": 21,
     "metadata": {},
     "output_type": "execute_result"
    }
   ],
   "source": [
    "ts_acf_last_significant_index(data=train['target1'], partial=True)"
   ]
  },
  {
   "cell_type": "markdown",
   "id": "0440a58e-c1aa-4c2a-854e-f6fdbd424581",
   "metadata": {},
   "source": [
    "## Model №1: ARIMA without seasonality and exogs"
   ]
  },
  {
   "cell_type": "markdown",
   "id": "04a9620a-c33c-4ef1-a972-c79e70be2aa1",
   "metadata": {},
   "source": [
    "### Datasets\n",
    "\n",
    "Train: July data;  \n",
    "Validation: August data."
   ]
  },
  {
   "cell_type": "code",
   "execution_count": 22,
   "id": "d8333806-52f4-48e7-9e52-1275ae533083",
   "metadata": {},
   "outputs": [],
   "source": [
    "y = train.loc['2017-07-01':, 'target1'].copy()"
   ]
  },
  {
   "cell_type": "code",
   "execution_count": 23,
   "id": "0a3d9e44-9238-4052-9f56-5c42edee4df0",
   "metadata": {},
   "outputs": [
    {
     "data": {
      "text/plain": [
       "2017-07-01 00:00:00    36384.31894\n",
       "2017-07-01 00:10:00    35689.03654\n",
       "2017-07-01 00:20:00    34751.36213\n",
       "2017-07-01 00:30:00    33954.01993\n",
       "2017-07-01 00:40:00    33411.82724\n",
       "                          ...     \n",
       "2017-07-31 23:10:00    43407.30897\n",
       "2017-07-31 23:20:00    42507.90698\n",
       "2017-07-31 23:30:00    41659.53488\n",
       "2017-07-31 23:40:00    40843.05648\n",
       "2017-07-31 23:50:00    39631.09635\n",
       "Freq: 10min, Name: target1, Length: 4464, dtype: float64"
      ]
     },
     "execution_count": 23,
     "metadata": {},
     "output_type": "execute_result"
    }
   ],
   "source": [
    "y"
   ]
  },
  {
   "cell_type": "code",
   "execution_count": 24,
   "id": "809b4565-2f8e-4305-85ff-e3e9c8d44e38",
   "metadata": {},
   "outputs": [],
   "source": [
    "y_true = valid['target1'].copy()"
   ]
  },
  {
   "cell_type": "code",
   "execution_count": 25,
   "id": "39fbf28a-7ef4-45f0-baad-26c1c92087ec",
   "metadata": {},
   "outputs": [
    {
     "data": {
      "text/plain": [
       "2017-08-01 00:00:00    38517.20311\n",
       "2017-08-01 00:10:00    37973.80688\n",
       "2017-08-01 00:20:00    37308.94562\n",
       "2017-08-01 00:30:00    36164.61709\n",
       "2017-08-01 00:40:00    35678.75694\n",
       "                          ...     \n",
       "2017-08-31 23:10:00    38619.48946\n",
       "2017-08-31 23:20:00    38370.16648\n",
       "2017-08-31 23:30:00    37724.48391\n",
       "2017-08-31 23:40:00    36874.22863\n",
       "2017-08-31 23:50:00    36215.76027\n",
       "Freq: 10min, Name: target1, Length: 4464, dtype: float64"
      ]
     },
     "execution_count": 25,
     "metadata": {},
     "output_type": "execute_result"
    }
   ],
   "source": [
    "y_true"
   ]
  },
  {
   "cell_type": "markdown",
   "id": "7682da8b-822e-4a16-add3-b0673cb58782",
   "metadata": {},
   "source": [
    "### ACF and PACF for differenced data"
   ]
  },
  {
   "cell_type": "code",
   "execution_count": 26,
   "id": "11d599be-afde-4dc8-bcbe-5c8b7a89db4c",
   "metadata": {},
   "outputs": [
    {
     "name": "stdout",
     "output_type": "stream",
     "text": [
      "Images 'ACF_diff.png' and 'ACF_diff.svg' successfully saved into 'docs/img/' directory\n"
     ]
    },
    {
     "data": {
      "image/png": "[encoded data removed]",
      "text/plain": [
       "<Figure size 800x250 with 1 Axes>"
      ]
     },
     "metadata": {},
     "output_type": "display_data"
    }
   ],
   "source": [
    "fig = plt.figure()\n",
    "\n",
    "plot_acf(data=y.diff(1)[1:])\n",
    "savefig('ACF_diff', dir_save_img)"
   ]
  },
  {
   "cell_type": "code",
   "execution_count": 27,
   "id": "a7c9eb19-9160-4db2-85e6-742cf390418b",
   "metadata": {},
   "outputs": [
    {
     "name": "stdout",
     "output_type": "stream",
     "text": [
      "Images 'PACF_diff.png' and 'PACF_diff.svg' successfully saved into 'docs/img/' directory\n"
     ]
    },
    {
     "data": {
      "image/png": "[encoded data removed]",
      "text/plain": [
       "<Figure size 800x250 with 1 Axes>"
      ]
     },
     "metadata": {},
     "output_type": "display_data"
    }
   ],
   "source": [
    "fig = plt.figure()\n",
    "\n",
    "plot_acf(data=y.diff(1)[1:], partial=True)\n",
    "savefig('PACF_diff', dir_save_img)"
   ]
  },
  {
   "cell_type": "markdown",
   "id": "37073d37-32a5-452c-8e62-1358e91a01f6",
   "metadata": {},
   "source": [
    "### Model selection"
   ]
  },
  {
   "cell_type": "markdown",
   "id": "13faef5c-8d41-4b30-9898-4c053980e46e",
   "metadata": {},
   "source": [
    "#### Manual model selection"
   ]
  },
  {
   "cell_type": "code",
   "execution_count": 28,
   "id": "b61adb1e-7dce-4872-a3ee-b728d0536f12",
   "metadata": {},
   "outputs": [],
   "source": [
    "arima511 = SARIMAX(\n",
    "    y, exog=None,\n",
    "    order=(3,1,1),\n",
    "    seasonal_order=(0, 0, 0, 0)\n",
    ").fit(maxiter=1000, disp=False)"
   ]
  },
  {
   "cell_type": "code",
   "execution_count": 29,
   "id": "58bd1ee9-2966-45ad-be53-c9307801f2fd",
   "metadata": {},
   "outputs": [
    {
     "name": "stdout",
     "output_type": "stream",
     "text": [
      "                               SARIMAX Results                                \n",
      "==============================================================================\n",
      "Dep. Variable:                target1   No. Observations:                 4464\n",
      "Model:               SARIMAX(3, 1, 1)   Log Likelihood              -33786.005\n",
      "Date:                Thu, 18 Apr 2024   AIC                          67582.010\n",
      "Time:                        10:45:36   BIC                          67614.028\n",
      "Sample:                    07-01-2017   HQIC                         67593.296\n",
      "                         - 07-31-2017                                         \n",
      "Covariance Type:                  opg                                         \n",
      "==============================================================================\n",
      "                 coef    std err          z      P>|z|      [0.025      0.975]\n",
      "------------------------------------------------------------------------------\n",
      "ar.L1          0.9631      0.107      9.015      0.000       0.754       1.173\n",
      "ar.L2         -0.2024      0.064     -3.180      0.001      -0.327      -0.078\n",
      "ar.L3          0.0751      0.017      4.526      0.000       0.043       0.108\n",
      "ma.L1         -0.3768      0.106     -3.541      0.000      -0.585      -0.168\n",
      "sigma2      2.119e+05   1567.495    135.194      0.000    2.09e+05    2.15e+05\n",
      "===================================================================================\n",
      "Ljung-Box (L1) (Q):                   8.92   Jarque-Bera (JB):             63333.72\n",
      "Prob(Q):                              0.00   Prob(JB):                         0.00\n",
      "Heteroskedasticity (H):               0.51   Skew:                             0.30\n",
      "Prob(H) (two-sided):                  0.00   Kurtosis:                        21.45\n",
      "===================================================================================\n",
      "\n",
      "Warnings:\n",
      "[1] Covariance matrix calculated using the outer product of gradients (complex-step).\n"
     ]
    }
   ],
   "source": [
    "print(arima511.summary())"
   ]
  },
  {
   "cell_type": "code",
   "execution_count": 30,
   "id": "c1f6fe3e-cfe0-42ad-b0be-d0d376f8af69",
   "metadata": {},
   "outputs": [
    {
     "data": {
      "image/png": "[encoded data removed]",
      "text/plain": [
       "<Figure size 800x250 with 1 Axes>"
      ]
     },
     "metadata": {},
     "output_type": "display_data"
    }
   ],
   "source": [
    "# should plot resid[d:], where d is d-order of ARIMA model\n",
    "plot_acf(data=arima511.resid[1:])"
   ]
  },
  {
   "cell_type": "code",
   "execution_count": 31,
   "id": "22b5fbde-c893-48bf-86d1-b2009af144b3",
   "metadata": {},
   "outputs": [],
   "source": [
    "arima411 = SARIMAX(\n",
    "    y, exog=None,\n",
    "    order=(4,1,1),\n",
    "    seasonal_order=(0, 0, 0, 0)\n",
    ").fit(maxiter=1000, disp=False)"
   ]
  },
  {
   "cell_type": "code",
   "execution_count": 32,
   "id": "cc05385b-f3b5-4739-b9c0-de6df2a36a93",
   "metadata": {},
   "outputs": [
    {
     "data": {
      "text/plain": [
       "False"
      ]
     },
     "execution_count": 32,
     "metadata": {},
     "output_type": "execute_result"
    }
   ],
   "source": [
    "arima411.aic < arima511.aic"
   ]
  },
  {
   "cell_type": "code",
   "execution_count": 33,
   "id": "e5192964-b2ba-4216-818e-e8c077ffc567",
   "metadata": {},
   "outputs": [
    {
     "data": {
      "text/plain": [
       "67583.9319638164"
      ]
     },
     "execution_count": 33,
     "metadata": {},
     "output_type": "execute_result"
    }
   ],
   "source": [
    "arima411.aic"
   ]
  },
  {
   "cell_type": "code",
   "execution_count": 34,
   "id": "aae657d8-2818-45a1-acc2-23fff0bab9ea",
   "metadata": {},
   "outputs": [
    {
     "data": {
      "text/plain": [
       "67582.0097609724"
      ]
     },
     "execution_count": 34,
     "metadata": {},
     "output_type": "execute_result"
    }
   ],
   "source": [
    "arima511.aic"
   ]
  },
  {
   "cell_type": "code",
   "execution_count": 35,
   "id": "61292033-7833-4943-9e79-01f67dccb3d1",
   "metadata": {},
   "outputs": [],
   "source": [
    "arima311 = SARIMAX(\n",
    "    y, exog=None,\n",
    "    order=(5,1,1),\n",
    "    seasonal_order=(0, 0, 0, 0)\n",
    ").fit(maxiter=1000, disp=False)"
   ]
  },
  {
   "cell_type": "code",
   "execution_count": 36,
   "id": "868f4f68-dcc4-4c36-ac05-6f28707d8f1f",
   "metadata": {},
   "outputs": [
    {
     "data": {
      "text/plain": [
       "True"
      ]
     },
     "execution_count": 36,
     "metadata": {},
     "output_type": "execute_result"
    }
   ],
   "source": [
    "arima511.aic < arima311.aic"
   ]
  },
  {
   "cell_type": "code",
   "execution_count": 37,
   "id": "5b76d52e-3b72-4e0d-9644-a863a555fb34",
   "metadata": {},
   "outputs": [],
   "source": [
    "arima412 = SARIMAX(\n",
    "    y, exog=None,\n",
    "    order=(4,1,2),\n",
    "    seasonal_order=(0, 0, 0, 0)\n",
    ").fit(maxiter=1000, disp=False)"
   ]
  },
  {
   "cell_type": "code",
   "execution_count": 38,
   "id": "e935cd5b-c0b7-406e-a51b-7395cd8b0cbc",
   "metadata": {},
   "outputs": [
    {
     "data": {
      "text/plain": [
       "True"
      ]
     },
     "execution_count": 38,
     "metadata": {},
     "output_type": "execute_result"
    }
   ],
   "source": [
    "arima412.aic < arima511.aic"
   ]
  },
  {
   "cell_type": "code",
   "execution_count": 39,
   "id": "4c2da6ca-4cb2-4af7-910b-6800940b072d",
   "metadata": {},
   "outputs": [
    {
     "data": {
      "text/plain": [
       "67470.5863748277"
      ]
     },
     "execution_count": 39,
     "metadata": {},
     "output_type": "execute_result"
    }
   ],
   "source": [
    "arima412.aic"
   ]
  },
  {
   "cell_type": "code",
   "execution_count": 40,
   "id": "639b1f8e-4094-47cd-803a-47782adcad91",
   "metadata": {},
   "outputs": [
    {
     "name": "stderr",
     "output_type": "stream",
     "text": [
      "/Users/achasovsky/Data Science Environments/electric-power-consumption/electric-power-consumption/lib/python3.12/site-packages/statsmodels/tsa/statespace/sarimax.py:966: UserWarning: Non-stationary starting autoregressive parameters found. Using zeros as starting parameters.\n",
      "  warn('Non-stationary starting autoregressive parameters'\n",
      "/Users/achasovsky/Data Science Environments/electric-power-consumption/electric-power-consumption/lib/python3.12/site-packages/statsmodels/tsa/statespace/sarimax.py:978: UserWarning: Non-invertible starting MA parameters found. Using zeros as starting parameters.\n",
      "  warn('Non-invertible starting MA parameters found.'\n"
     ]
    }
   ],
   "source": [
    "arima413 = SARIMAX(\n",
    "    y, exog=None,\n",
    "    order=(4,1,3),\n",
    "    seasonal_order=(0, 0, 0, 0)\n",
    ").fit(maxiter=1000, disp=False)"
   ]
  },
  {
   "cell_type": "code",
   "execution_count": 41,
   "id": "30a286b0-a8a1-4ed6-93d2-36cb0e506e0b",
   "metadata": {},
   "outputs": [
    {
     "data": {
      "text/plain": [
       "False"
      ]
     },
     "execution_count": 41,
     "metadata": {},
     "output_type": "execute_result"
    }
   ],
   "source": [
    "arima413.aic < arima412.aic"
   ]
  },
  {
   "cell_type": "code",
   "execution_count": 42,
   "id": "8705337f-a93e-4c39-8017-d63192bcbd40",
   "metadata": {},
   "outputs": [
    {
     "name": "stderr",
     "output_type": "stream",
     "text": [
      "/Users/achasovsky/Data Science Environments/electric-power-consumption/electric-power-consumption/lib/python3.12/site-packages/statsmodels/tsa/statespace/sarimax.py:966: UserWarning: Non-stationary starting autoregressive parameters found. Using zeros as starting parameters.\n",
      "  warn('Non-stationary starting autoregressive parameters'\n",
      "/Users/achasovsky/Data Science Environments/electric-power-consumption/electric-power-consumption/lib/python3.12/site-packages/statsmodels/tsa/statespace/sarimax.py:978: UserWarning: Non-invertible starting MA parameters found. Using zeros as starting parameters.\n",
      "  warn('Non-invertible starting MA parameters found.'\n"
     ]
    }
   ],
   "source": [
    "arima414 = SARIMAX(\n",
    "    y, exog=None,\n",
    "    order=(4,1,4),\n",
    "    seasonal_order=(0, 0, 0, 0)\n",
    ").fit(maxiter=1000, disp=False)"
   ]
  },
  {
   "cell_type": "code",
   "execution_count": 43,
   "id": "d7a3af90-8d06-463e-8ee1-6350c17fed5d",
   "metadata": {},
   "outputs": [
    {
     "data": {
      "text/plain": [
       "False"
      ]
     },
     "execution_count": 43,
     "metadata": {},
     "output_type": "execute_result"
    }
   ],
   "source": [
    "arima414.aic < arima412.aic"
   ]
  },
  {
   "cell_type": "code",
   "execution_count": 44,
   "id": "32a8a30e-3141-4a64-ba92-46160865ee32",
   "metadata": {},
   "outputs": [],
   "source": [
    "arima612 = SARIMAX(\n",
    "    y, exog=None,\n",
    "    order=(6,1,2),\n",
    "    seasonal_order=(0, 0, 0, 0)\n",
    ").fit(maxiter=1000, disp=False)"
   ]
  },
  {
   "cell_type": "code",
   "execution_count": 45,
   "id": "3cac90c7-e48a-4630-b38d-f7b28a3608f0",
   "metadata": {},
   "outputs": [
    {
     "data": {
      "text/plain": [
       "False"
      ]
     },
     "execution_count": 45,
     "metadata": {},
     "output_type": "execute_result"
    }
   ],
   "source": [
    "arima612.aic < arima412.aic"
   ]
  },
  {
   "cell_type": "code",
   "execution_count": 46,
   "id": "3963ed19-d5c8-40fd-a6f9-ab507fcbdfdb",
   "metadata": {},
   "outputs": [
    {
     "name": "stderr",
     "output_type": "stream",
     "text": [
      "/Users/achasovsky/Data Science Environments/electric-power-consumption/electric-power-consumption/lib/python3.12/site-packages/statsmodels/tsa/statespace/sarimax.py:966: UserWarning: Non-stationary starting autoregressive parameters found. Using zeros as starting parameters.\n",
      "  warn('Non-stationary starting autoregressive parameters'\n",
      "/Users/achasovsky/Data Science Environments/electric-power-consumption/electric-power-consumption/lib/python3.12/site-packages/statsmodels/tsa/statespace/sarimax.py:978: UserWarning: Non-invertible starting MA parameters found. Using zeros as starting parameters.\n",
      "  warn('Non-invertible starting MA parameters found.'\n"
     ]
    }
   ],
   "source": [
    "arima613 = SARIMAX(\n",
    "    y, exog=None,\n",
    "    order=(6,1,3),\n",
    "    seasonal_order=(0, 0, 0, 0)\n",
    ").fit(maxiter=1000, disp=False)"
   ]
  },
  {
   "cell_type": "code",
   "execution_count": 47,
   "id": "514ce937-ecec-4aae-9668-86d75cc70030",
   "metadata": {},
   "outputs": [
    {
     "data": {
      "text/plain": [
       "False"
      ]
     },
     "execution_count": 47,
     "metadata": {},
     "output_type": "execute_result"
    }
   ],
   "source": [
    "arima613.aic < arima412.aic"
   ]
  },
  {
   "cell_type": "code",
   "execution_count": 48,
   "id": "9122e2cd-e28c-4658-8ec7-d9e81b4e83e0",
   "metadata": {},
   "outputs": [
    {
     "name": "stdout",
     "output_type": "stream",
     "text": [
      "                               SARIMAX Results                                \n",
      "==============================================================================\n",
      "Dep. Variable:                target1   No. Observations:                 4464\n",
      "Model:               SARIMAX(4, 1, 2)   Log Likelihood              -33728.293\n",
      "Date:                Thu, 18 Apr 2024   AIC                          67470.586\n",
      "Time:                        10:46:09   BIC                          67515.411\n",
      "Sample:                    07-01-2017   HQIC                         67486.388\n",
      "                         - 07-31-2017                                         \n",
      "Covariance Type:                  opg                                         \n",
      "==============================================================================\n",
      "                 coef    std err          z      P>|z|      [0.025      0.975]\n",
      "------------------------------------------------------------------------------\n",
      "ar.L1          2.2786      0.053     42.640      0.000       2.174       2.383\n",
      "ar.L2         -1.6635      0.084    -19.903      0.000      -1.827      -1.500\n",
      "ar.L3          0.4148      0.031     13.597      0.000       0.355       0.475\n",
      "ar.L4         -0.0334      0.015     -2.170      0.030      -0.064      -0.003\n",
      "ma.L1         -1.7200      0.052    -33.095      0.000      -1.822      -1.618\n",
      "ma.L2          0.7201      0.052     13.848      0.000       0.618       0.822\n",
      "sigma2      2.081e+05   1542.511    134.940      0.000    2.05e+05    2.11e+05\n",
      "===================================================================================\n",
      "Ljung-Box (L1) (Q):                   8.38   Jarque-Bera (JB):             69225.82\n",
      "Prob(Q):                              0.00   Prob(JB):                         0.00\n",
      "Heteroskedasticity (H):               0.51   Skew:                             0.35\n",
      "Prob(H) (two-sided):                  0.00   Kurtosis:                        22.28\n",
      "===================================================================================\n",
      "\n",
      "Warnings:\n",
      "[1] Covariance matrix calculated using the outer product of gradients (complex-step).\n"
     ]
    }
   ],
   "source": [
    "print(arima412.summary())"
   ]
  },
  {
   "cell_type": "code",
   "execution_count": 49,
   "id": "55b542d0-1d90-4459-a0c7-7a8893084a14",
   "metadata": {},
   "outputs": [
    {
     "data": {
      "image/png": "[encoded data removed]",
      "text/plain": [
       "<Figure size 800x250 with 1 Axes>"
      ]
     },
     "metadata": {},
     "output_type": "display_data"
    }
   ],
   "source": [
    "# should plot resid[d:], where d is d-order of ARIMA model\n",
    "plot_acf(data=arima412.resid[1:])"
   ]
  },
  {
   "cell_type": "markdown",
   "id": "1f2f92c9-5f69-4cd9-b9b6-f9d2c2b68b92",
   "metadata": {},
   "source": [
    "#### Automatic model selection"
   ]
  },
  {
   "cell_type": "code",
   "execution_count": 50,
   "id": "2e5e91bc-3570-41ec-bd19-a1c56a15e964",
   "metadata": {},
   "outputs": [
    {
     "name": "stdout",
     "output_type": "stream",
     "text": [
      "CPU times: user 51.8 s, sys: 6.1 s, total: 57.9 s\n",
      "Wall time: 33.1 s\n"
     ]
    }
   ],
   "source": [
    "%%time\n",
    "model_auto = auto_arima(y)"
   ]
  },
  {
   "cell_type": "code",
   "execution_count": 51,
   "id": "8934f5a5-0429-4d1a-acfb-d2aa976e58b7",
   "metadata": {},
   "outputs": [
    {
     "data": {
      "text/html": [
       "<style>#sk-container-id-1 {\n",
       "  /* Definition of color scheme common for light and dark mode */\n",
       "  --sklearn-color-text: black;\n",
       "  --sklearn-color-line: gray;\n",
       "  /* Definition of color scheme for unfitted estimators */\n",
       "  --sklearn-color-unfitted-level-0: #fff5e6;\n",
       "  --sklearn-color-unfitted-level-1: #f6e4d2;\n",
       "  --sklearn-color-unfitted-level-2: #ffe0b3;\n",
       "  --sklearn-color-unfitted-level-3: chocolate;\n",
       "  /* Definition of color scheme for fitted estimators */\n",
       "  --sklearn-color-fitted-level-0: #f0f8ff;\n",
       "  --sklearn-color-fitted-level-1: #d4ebff;\n",
       "  --sklearn-color-fitted-level-2: #b3dbfd;\n",
       "  --sklearn-color-fitted-level-3: cornflowerblue;\n",
       "\n",
       "  /* Specific color for light theme */\n",
       "  --sklearn-color-text-on-default-background: var(--sg-text-color, var(--theme-code-foreground, var(--jp-content-font-color1, black)));\n",
       "  --sklearn-color-background: var(--sg-background-color, var(--theme-background, var(--jp-layout-color0, white)));\n",
       "  --sklearn-color-border-box: var(--sg-text-color, var(--theme-code-foreground, var(--jp-content-font-color1, black)));\n",
       "  --sklearn-color-icon: #696969;\n",
       "\n",
       "  @media (prefers-color-scheme: dark) {\n",
       "    /* Redefinition of color scheme for dark theme */\n",
       "    --sklearn-color-text-on-default-background: var(--sg-text-color, var(--theme-code-foreground, var(--jp-content-font-color1, white)));\n",
       "    --sklearn-color-background: var(--sg-background-color, var(--theme-background, var(--jp-layout-color0, #111)));\n",
       "    --sklearn-color-border-box: var(--sg-text-color, var(--theme-code-foreground, var(--jp-content-font-color1, white)));\n",
       "    --sklearn-color-icon: #878787;\n",
       "  }\n",
       "}\n",
       "\n",
       "#sk-container-id-1 {\n",
       "  color: var(--sklearn-color-text);\n",
       "}\n",
       "\n",
       "#sk-container-id-1 pre {\n",
       "  padding: 0;\n",
       "}\n",
       "\n",
       "#sk-container-id-1 input.sk-hidden--visually {\n",
       "  border: 0;\n",
       "  clip: rect(1px 1px 1px 1px);\n",
       "  clip: rect(1px, 1px, 1px, 1px);\n",
       "  height: 1px;\n",
       "  margin: -1px;\n",
       "  overflow: hidden;\n",
       "  padding: 0;\n",
       "  position: absolute;\n",
       "  width: 1px;\n",
       "}\n",
       "\n",
       "#sk-container-id-1 div.sk-dashed-wrapped {\n",
       "  border: 1px dashed var(--sklearn-color-line);\n",
       "  margin: 0 0.4em 0.5em 0.4em;\n",
       "  box-sizing: border-box;\n",
       "  padding-bottom: 0.4em;\n",
       "  background-color: var(--sklearn-color-background);\n",
       "}\n",
       "\n",
       "#sk-container-id-1 div.sk-container {\n",
       "  /* jupyter's `normalize.less` sets `[hidden] { display: none; }`\n",
       "     but bootstrap.min.css set `[hidden] { display: none !important; }`\n",
       "     so we also need the `!important` here to be able to override the\n",
       "     default hidden behavior on the sphinx rendered scikit-learn.org.\n",
       "     See: https://github.com/scikit-learn/scikit-learn/issues/21755 */\n",
       "  display: inline-block !important;\n",
       "  position: relative;\n",
       "}\n",
       "\n",
       "#sk-container-id-1 div.sk-text-repr-fallback {\n",
       "  display: none;\n",
       "}\n",
       "\n",
       "div.sk-parallel-item,\n",
       "div.sk-serial,\n",
       "div.sk-item {\n",
       "  /* draw centered vertical line to link estimators */\n",
       "  background-image: linear-gradient(var(--sklearn-color-text-on-default-background), var(--sklearn-color-text-on-default-background));\n",
       "  background-size: 2px 100%;\n",
       "  background-repeat: no-repeat;\n",
       "  background-position: center center;\n",
       "}\n",
       "\n",
       "/* Parallel-specific style estimator block */\n",
       "\n",
       "#sk-container-id-1 div.sk-parallel-item::after {\n",
       "  content: \"\";\n",
       "  width: 100%;\n",
       "  border-bottom: 2px solid var(--sklearn-color-text-on-default-background);\n",
       "  flex-grow: 1;\n",
       "}\n",
       "\n",
       "#sk-container-id-1 div.sk-parallel {\n",
       "  display: flex;\n",
       "  align-items: stretch;\n",
       "  justify-content: center;\n",
       "  background-color: var(--sklearn-color-background);\n",
       "  position: relative;\n",
       "}\n",
       "\n",
       "#sk-container-id-1 div.sk-parallel-item {\n",
       "  display: flex;\n",
       "  flex-direction: column;\n",
       "}\n",
       "\n",
       "#sk-container-id-1 div.sk-parallel-item:first-child::after {\n",
       "  align-self: flex-end;\n",
       "  width: 50%;\n",
       "}\n",
       "\n",
       "#sk-container-id-1 div.sk-parallel-item:last-child::after {\n",
       "  align-self: flex-start;\n",
       "  width: 50%;\n",
       "}\n",
       "\n",
       "#sk-container-id-1 div.sk-parallel-item:only-child::after {\n",
       "  width: 0;\n",
       "}\n",
       "\n",
       "/* Serial-specific style estimator block */\n",
       "\n",
       "#sk-container-id-1 div.sk-serial {\n",
       "  display: flex;\n",
       "  flex-direction: column;\n",
       "  align-items: center;\n",
       "  background-color: var(--sklearn-color-background);\n",
       "  padding-right: 1em;\n",
       "  padding-left: 1em;\n",
       "}\n",
       "\n",
       "\n",
       "/* Toggleable style: style used for estimator/Pipeline/ColumnTransformer box that is\n",
       "clickable and can be expanded/collapsed.\n",
       "- Pipeline and ColumnTransformer use this feature and define the default style\n",
       "- Estimators will overwrite some part of the style using the `sk-estimator` class\n",
       "*/\n",
       "\n",
       "/* Pipeline and ColumnTransformer style (default) */\n",
       "\n",
       "#sk-container-id-1 div.sk-toggleable {\n",
       "  /* Default theme specific background. It is overwritten whether we have a\n",
       "  specific estimator or a Pipeline/ColumnTransformer */\n",
       "  background-color: var(--sklearn-color-background);\n",
       "}\n",
       "\n",
       "/* Toggleable label */\n",
       "#sk-container-id-1 label.sk-toggleable__label {\n",
       "  cursor: pointer;\n",
       "  display: block;\n",
       "  width: 100%;\n",
       "  margin-bottom: 0;\n",
       "  padding: 0.5em;\n",
       "  box-sizing: border-box;\n",
       "  text-align: center;\n",
       "}\n",
       "\n",
       "#sk-container-id-1 label.sk-toggleable__label-arrow:before {\n",
       "  /* Arrow on the left of the label */\n",
       "  content: \"▸\";\n",
       "  float: left;\n",
       "  margin-right: 0.25em;\n",
       "  color: var(--sklearn-color-icon);\n",
       "}\n",
       "\n",
       "#sk-container-id-1 label.sk-toggleable__label-arrow:hover:before {\n",
       "  color: var(--sklearn-color-text);\n",
       "}\n",
       "\n",
       "/* Toggleable content - dropdown */\n",
       "\n",
       "#sk-container-id-1 div.sk-toggleable__content {\n",
       "  max-height: 0;\n",
       "  max-width: 0;\n",
       "  overflow: hidden;\n",
       "  text-align: left;\n",
       "  /* unfitted */\n",
       "  background-color: var(--sklearn-color-unfitted-level-0);\n",
       "}\n",
       "\n",
       "#sk-container-id-1 div.sk-toggleable__content.fitted {\n",
       "  /* fitted */\n",
       "  background-color: var(--sklearn-color-fitted-level-0);\n",
       "}\n",
       "\n",
       "#sk-container-id-1 div.sk-toggleable__content pre {\n",
       "  margin: 0.2em;\n",
       "  border-radius: 0.25em;\n",
       "  color: var(--sklearn-color-text);\n",
       "  /* unfitted */\n",
       "  background-color: var(--sklearn-color-unfitted-level-0);\n",
       "}\n",
       "\n",
       "#sk-container-id-1 div.sk-toggleable__content.fitted pre {\n",
       "  /* unfitted */\n",
       "  background-color: var(--sklearn-color-fitted-level-0);\n",
       "}\n",
       "\n",
       "#sk-container-id-1 input.sk-toggleable__control:checked~div.sk-toggleable__content {\n",
       "  /* Expand drop-down */\n",
       "  max-height: 200px;\n",
       "  max-width: 100%;\n",
       "  overflow: auto;\n",
       "}\n",
       "\n",
       "#sk-container-id-1 input.sk-toggleable__control:checked~label.sk-toggleable__label-arrow:before {\n",
       "  content: \"▾\";\n",
       "}\n",
       "\n",
       "/* Pipeline/ColumnTransformer-specific style */\n",
       "\n",
       "#sk-container-id-1 div.sk-label input.sk-toggleable__control:checked~label.sk-toggleable__label {\n",
       "  color: var(--sklearn-color-text);\n",
       "  background-color: var(--sklearn-color-unfitted-level-2);\n",
       "}\n",
       "\n",
       "#sk-container-id-1 div.sk-label.fitted input.sk-toggleable__control:checked~label.sk-toggleable__label {\n",
       "  background-color: var(--sklearn-color-fitted-level-2);\n",
       "}\n",
       "\n",
       "/* Estimator-specific style */\n",
       "\n",
       "/* Colorize estimator box */\n",
       "#sk-container-id-1 div.sk-estimator input.sk-toggleable__control:checked~label.sk-toggleable__label {\n",
       "  /* unfitted */\n",
       "  background-color: var(--sklearn-color-unfitted-level-2);\n",
       "}\n",
       "\n",
       "#sk-container-id-1 div.sk-estimator.fitted input.sk-toggleable__control:checked~label.sk-toggleable__label {\n",
       "  /* fitted */\n",
       "  background-color: var(--sklearn-color-fitted-level-2);\n",
       "}\n",
       "\n",
       "#sk-container-id-1 div.sk-label label.sk-toggleable__label,\n",
       "#sk-container-id-1 div.sk-label label {\n",
       "  /* The background is the default theme color */\n",
       "  color: var(--sklearn-color-text-on-default-background);\n",
       "}\n",
       "\n",
       "/* On hover, darken the color of the background */\n",
       "#sk-container-id-1 div.sk-label:hover label.sk-toggleable__label {\n",
       "  color: var(--sklearn-color-text);\n",
       "  background-color: var(--sklearn-color-unfitted-level-2);\n",
       "}\n",
       "\n",
       "/* Label box, darken color on hover, fitted */\n",
       "#sk-container-id-1 div.sk-label.fitted:hover label.sk-toggleable__label.fitted {\n",
       "  color: var(--sklearn-color-text);\n",
       "  background-color: var(--sklearn-color-fitted-level-2);\n",
       "}\n",
       "\n",
       "/* Estimator label */\n",
       "\n",
       "#sk-container-id-1 div.sk-label label {\n",
       "  font-family: monospace;\n",
       "  font-weight: bold;\n",
       "  display: inline-block;\n",
       "  line-height: 1.2em;\n",
       "}\n",
       "\n",
       "#sk-container-id-1 div.sk-label-container {\n",
       "  text-align: center;\n",
       "}\n",
       "\n",
       "/* Estimator-specific */\n",
       "#sk-container-id-1 div.sk-estimator {\n",
       "  font-family: monospace;\n",
       "  border: 1px dotted var(--sklearn-color-border-box);\n",
       "  border-radius: 0.25em;\n",
       "  box-sizing: border-box;\n",
       "  margin-bottom: 0.5em;\n",
       "  /* unfitted */\n",
       "  background-color: var(--sklearn-color-unfitted-level-0);\n",
       "}\n",
       "\n",
       "#sk-container-id-1 div.sk-estimator.fitted {\n",
       "  /* fitted */\n",
       "  background-color: var(--sklearn-color-fitted-level-0);\n",
       "}\n",
       "\n",
       "/* on hover */\n",
       "#sk-container-id-1 div.sk-estimator:hover {\n",
       "  /* unfitted */\n",
       "  background-color: var(--sklearn-color-unfitted-level-2);\n",
       "}\n",
       "\n",
       "#sk-container-id-1 div.sk-estimator.fitted:hover {\n",
       "  /* fitted */\n",
       "  background-color: var(--sklearn-color-fitted-level-2);\n",
       "}\n",
       "\n",
       "/* Specification for estimator info (e.g. \"i\" and \"?\") */\n",
       "\n",
       "/* Common style for \"i\" and \"?\" */\n",
       "\n",
       ".sk-estimator-doc-link,\n",
       "a:link.sk-estimator-doc-link,\n",
       "a:visited.sk-estimator-doc-link {\n",
       "  float: right;\n",
       "  font-size: smaller;\n",
       "  line-height: 1em;\n",
       "  font-family: monospace;\n",
       "  background-color: var(--sklearn-color-background);\n",
       "  border-radius: 1em;\n",
       "  height: 1em;\n",
       "  width: 1em;\n",
       "  text-decoration: none !important;\n",
       "  margin-left: 1ex;\n",
       "  /* unfitted */\n",
       "  border: var(--sklearn-color-unfitted-level-1) 1pt solid;\n",
       "  color: var(--sklearn-color-unfitted-level-1);\n",
       "}\n",
       "\n",
       ".sk-estimator-doc-link.fitted,\n",
       "a:link.sk-estimator-doc-link.fitted,\n",
       "a:visited.sk-estimator-doc-link.fitted {\n",
       "  /* fitted */\n",
       "  border: var(--sklearn-color-fitted-level-1) 1pt solid;\n",
       "  color: var(--sklearn-color-fitted-level-1);\n",
       "}\n",
       "\n",
       "/* On hover */\n",
       "div.sk-estimator:hover .sk-estimator-doc-link:hover,\n",
       ".sk-estimator-doc-link:hover,\n",
       "div.sk-label-container:hover .sk-estimator-doc-link:hover,\n",
       ".sk-estimator-doc-link:hover {\n",
       "  /* unfitted */\n",
       "  background-color: var(--sklearn-color-unfitted-level-3);\n",
       "  color: var(--sklearn-color-background);\n",
       "  text-decoration: none;\n",
       "}\n",
       "\n",
       "div.sk-estimator.fitted:hover .sk-estimator-doc-link.fitted:hover,\n",
       ".sk-estimator-doc-link.fitted:hover,\n",
       "div.sk-label-container:hover .sk-estimator-doc-link.fitted:hover,\n",
       ".sk-estimator-doc-link.fitted:hover {\n",
       "  /* fitted */\n",
       "  background-color: var(--sklearn-color-fitted-level-3);\n",
       "  color: var(--sklearn-color-background);\n",
       "  text-decoration: none;\n",
       "}\n",
       "\n",
       "/* Span, style for the box shown on hovering the info icon */\n",
       ".sk-estimator-doc-link span {\n",
       "  display: none;\n",
       "  z-index: 9999;\n",
       "  position: relative;\n",
       "  font-weight: normal;\n",
       "  right: .2ex;\n",
       "  padding: .5ex;\n",
       "  margin: .5ex;\n",
       "  width: min-content;\n",
       "  min-width: 20ex;\n",
       "  max-width: 50ex;\n",
       "  color: var(--sklearn-color-text);\n",
       "  box-shadow: 2pt 2pt 4pt #999;\n",
       "  /* unfitted */\n",
       "  background: var(--sklearn-color-unfitted-level-0);\n",
       "  border: .5pt solid var(--sklearn-color-unfitted-level-3);\n",
       "}\n",
       "\n",
       ".sk-estimator-doc-link.fitted span {\n",
       "  /* fitted */\n",
       "  background: var(--sklearn-color-fitted-level-0);\n",
       "  border: var(--sklearn-color-fitted-level-3);\n",
       "}\n",
       "\n",
       ".sk-estimator-doc-link:hover span {\n",
       "  display: block;\n",
       "}\n",
       "\n",
       "/* \"?\"-specific style due to the `<a>` HTML tag */\n",
       "\n",
       "#sk-container-id-1 a.estimator_doc_link {\n",
       "  float: right;\n",
       "  font-size: 1rem;\n",
       "  line-height: 1em;\n",
       "  font-family: monospace;\n",
       "  background-color: var(--sklearn-color-background);\n",
       "  border-radius: 1rem;\n",
       "  height: 1rem;\n",
       "  width: 1rem;\n",
       "  text-decoration: none;\n",
       "  /* unfitted */\n",
       "  color: var(--sklearn-color-unfitted-level-1);\n",
       "  border: var(--sklearn-color-unfitted-level-1) 1pt solid;\n",
       "}\n",
       "\n",
       "#sk-container-id-1 a.estimator_doc_link.fitted {\n",
       "  /* fitted */\n",
       "  border: var(--sklearn-color-fitted-level-1) 1pt solid;\n",
       "  color: var(--sklearn-color-fitted-level-1);\n",
       "}\n",
       "\n",
       "/* On hover */\n",
       "#sk-container-id-1 a.estimator_doc_link:hover {\n",
       "  /* unfitted */\n",
       "  background-color: var(--sklearn-color-unfitted-level-3);\n",
       "  color: var(--sklearn-color-background);\n",
       "  text-decoration: none;\n",
       "}\n",
       "\n",
       "#sk-container-id-1 a.estimator_doc_link.fitted:hover {\n",
       "  /* fitted */\n",
       "  background-color: var(--sklearn-color-fitted-level-3);\n",
       "}\n",
       "</style><div id=\"sk-container-id-1\" class=\"sk-top-container\"><div class=\"sk-text-repr-fallback\"><pre> ARIMA(1,1,2)(0,0,0)[0]          </pre><b>In a Jupyter environment, please rerun this cell to show the HTML representation or trust the notebook. <br />On GitHub, the HTML representation is unable to render, please try loading this page with nbviewer.org.</b></div><div class=\"sk-container\" hidden><div class=\"sk-item\"><div class=\"sk-estimator fitted sk-toggleable\"><input class=\"sk-toggleable__control sk-hidden--visually\" id=\"sk-estimator-id-1\" type=\"checkbox\" checked><label for=\"sk-estimator-id-1\" class=\"sk-toggleable__label fitted sk-toggleable__label-arrow fitted\">&nbsp;ARIMA<span class=\"sk-estimator-doc-link fitted\">i<span>Fitted</span></span></label><div class=\"sk-toggleable__content fitted\"><pre> ARIMA(1,1,2)(0,0,0)[0]          </pre></div> </div></div></div></div>"
      ],
      "text/plain": [
       "ARIMA(order=(1, 1, 2), scoring_args={}, suppress_warnings=True,\n",
       "      with_intercept=False)"
      ]
     },
     "execution_count": 51,
     "metadata": {},
     "output_type": "execute_result"
    }
   ],
   "source": [
    "model_auto"
   ]
  },
  {
   "cell_type": "code",
   "execution_count": 52,
   "id": "1890f16f-f690-40aa-81e5-3baabab8fdc5",
   "metadata": {},
   "outputs": [],
   "source": [
    "arima_auto = SARIMAX(\n",
    "    y, exog=None,\n",
    "    order=(1,1,2),\n",
    "    seasonal_order=(0, 0, 0, 0)\n",
    ").fit(maxiter=1000, disp=False)"
   ]
  },
  {
   "cell_type": "code",
   "execution_count": 53,
   "id": "bab37ed4-e866-43f8-92ac-1803a2b3d470",
   "metadata": {},
   "outputs": [
    {
     "name": "stdout",
     "output_type": "stream",
     "text": [
      "                               SARIMAX Results                                \n",
      "==============================================================================\n",
      "Dep. Variable:                      y   No. Observations:                 4464\n",
      "Model:               SARIMAX(1, 1, 2)   Log Likelihood              -33786.090\n",
      "Date:                Thu, 18 Apr 2024   AIC                          67580.181\n",
      "Time:                        10:46:44   BIC                          67605.795\n",
      "Sample:                    07-01-2017   HQIC                         67589.210\n",
      "                         - 07-31-2017                                         \n",
      "Covariance Type:                  opg                                         \n",
      "==============================================================================\n",
      "                 coef    std err          z      P>|z|      [0.025      0.975]\n",
      "------------------------------------------------------------------------------\n",
      "ar.L1          0.8373      0.010     82.181      0.000       0.817       0.857\n",
      "ma.L1         -0.2494      0.013    -19.557      0.000      -0.274      -0.224\n",
      "ma.L2         -0.1273      0.014     -9.032      0.000      -0.155      -0.100\n",
      "sigma2      2.116e+05   1562.110    135.451      0.000    2.09e+05    2.15e+05\n",
      "===================================================================================\n",
      "Ljung-Box (L1) (Q):                   8.44   Jarque-Bera (JB):             63355.98\n",
      "Prob(Q):                              0.00   Prob(JB):                         0.00\n",
      "Heteroskedasticity (H):               0.51   Skew:                             0.30\n",
      "Prob(H) (two-sided):                  0.00   Kurtosis:                        21.45\n",
      "===================================================================================\n",
      "\n",
      "Warnings:\n",
      "[1] Covariance matrix calculated using the outer product of gradients (complex-step).\n"
     ]
    }
   ],
   "source": [
    "print(model_auto.summary())"
   ]
  },
  {
   "cell_type": "code",
   "execution_count": 54,
   "id": "1595ae59-ad96-4be4-b6ae-978f83770d68",
   "metadata": {},
   "outputs": [
    {
     "data": {
      "image/png": "[encoded data removed]",
      "text/plain": [
       "<Figure size 800x250 with 1 Axes>"
      ]
     },
     "metadata": {},
     "output_type": "display_data"
    }
   ],
   "source": [
    "# should plot resid[d:], where d is d-order of ARIMA model\n",
    "plot_acf(data=model_auto.resid()[1:])"
   ]
  },
  {
   "cell_type": "code",
   "execution_count": 55,
   "id": "b598c2ae-6270-4f9a-ba99-7fa5e0c7a435",
   "metadata": {},
   "outputs": [
    {
     "name": "stdout",
     "output_type": "stream",
     "text": [
      "p-value: 0.0\n"
     ]
    }
   ],
   "source": [
    "test_LLR(arima_auto, arima412, df=2-1)"
   ]
  },
  {
   "cell_type": "code",
   "execution_count": 56,
   "id": "ccf539f8-5c6d-44f1-866f-a49aa2a1a284",
   "metadata": {},
   "outputs": [
    {
     "data": {
      "text/plain": [
       "False"
      ]
     },
     "execution_count": 56,
     "metadata": {},
     "output_type": "execute_result"
    }
   ],
   "source": [
    "arima_auto.aic < arima412.aic"
   ]
  },
  {
   "cell_type": "code",
   "execution_count": 57,
   "id": "1c0c879e-c16a-4b56-8e54-a97e99e4dfea",
   "metadata": {},
   "outputs": [
    {
     "data": {
      "text/plain": [
       "67580.18091941482"
      ]
     },
     "execution_count": 57,
     "metadata": {},
     "output_type": "execute_result"
    }
   ],
   "source": [
    "arima_auto.aic"
   ]
  },
  {
   "cell_type": "markdown",
   "id": "446d6211-3572-499a-8568-e9c12a7a637a",
   "metadata": {},
   "source": [
    "##### LLR Test"
   ]
  },
  {
   "cell_type": "code",
   "execution_count": 58,
   "id": "58d1bbf0-374d-4903-bf1c-22cd744c7978",
   "metadata": {},
   "outputs": [
    {
     "name": "stdout",
     "output_type": "stream",
     "text": [
      "p-value: 0.0\n"
     ]
    }
   ],
   "source": [
    "test_LLR(arima_auto, arima412, 3)"
   ]
  },
  {
   "cell_type": "markdown",
   "id": "27398e51-8277-4841-ae6d-caf342522786",
   "metadata": {},
   "source": [
    "#### Final ARIMA"
   ]
  },
  {
   "cell_type": "code",
   "execution_count": 59,
   "id": "b7ff23f7-bb42-43aa-81ab-f16c00d2dc70",
   "metadata": {},
   "outputs": [],
   "source": [
    "arima = arima412"
   ]
  },
  {
   "cell_type": "code",
   "execution_count": 60,
   "id": "d45af9b5-d96e-42f5-986d-764f1ad69736",
   "metadata": {},
   "outputs": [
    {
     "name": "stdout",
     "output_type": "stream",
     "text": [
      "                               SARIMAX Results                                \n",
      "==============================================================================\n",
      "Dep. Variable:                target1   No. Observations:                 4464\n",
      "Model:               SARIMAX(4, 1, 2)   Log Likelihood              -33728.293\n",
      "Date:                Thu, 18 Apr 2024   AIC                          67470.586\n",
      "Time:                        10:46:45   BIC                          67515.411\n",
      "Sample:                    07-01-2017   HQIC                         67486.388\n",
      "                         - 07-31-2017                                         \n",
      "Covariance Type:                  opg                                         \n",
      "==============================================================================\n",
      "                 coef    std err          z      P>|z|      [0.025      0.975]\n",
      "------------------------------------------------------------------------------\n",
      "ar.L1          2.2786      0.053     42.640      0.000       2.174       2.383\n",
      "ar.L2         -1.6635      0.084    -19.903      0.000      -1.827      -1.500\n",
      "ar.L3          0.4148      0.031     13.597      0.000       0.355       0.475\n",
      "ar.L4         -0.0334      0.015     -2.170      0.030      -0.064      -0.003\n",
      "ma.L1         -1.7200      0.052    -33.095      0.000      -1.822      -1.618\n",
      "ma.L2          0.7201      0.052     13.848      0.000       0.618       0.822\n",
      "sigma2      2.081e+05   1542.511    134.940      0.000    2.05e+05    2.11e+05\n",
      "===================================================================================\n",
      "Ljung-Box (L1) (Q):                   8.38   Jarque-Bera (JB):             69225.82\n",
      "Prob(Q):                              0.00   Prob(JB):                         0.00\n",
      "Heteroskedasticity (H):               0.51   Skew:                             0.35\n",
      "Prob(H) (two-sided):                  0.00   Kurtosis:                        22.28\n",
      "===================================================================================\n",
      "\n",
      "Warnings:\n",
      "[1] Covariance matrix calculated using the outer product of gradients (complex-step).\n"
     ]
    }
   ],
   "source": [
    "print(arima.summary())"
   ]
  },
  {
   "cell_type": "markdown",
   "id": "8975540b-f90b-4983-a7b0-c3e3a3e344ac",
   "metadata": {},
   "source": [
    "#### Forecast"
   ]
  },
  {
   "cell_type": "code",
   "execution_count": 61,
   "id": "cbbd8fcc-66dd-4a5e-82c9-ad8782cd05bd",
   "metadata": {},
   "outputs": [
    {
     "data": {
      "text/plain": [
       "4464"
      ]
     },
     "execution_count": 61,
     "metadata": {},
     "output_type": "execute_result"
    }
   ],
   "source": [
    "len(y_true)"
   ]
  },
  {
   "cell_type": "code",
   "execution_count": 62,
   "id": "5deafece-7d76-40ed-9ca2-a0dfe958cfe0",
   "metadata": {},
   "outputs": [],
   "source": [
    "arima_f = ts_arima_forecast(arima, steps=4464, data=y.to_frame(), ci=[80, 95])"
   ]
  },
  {
   "cell_type": "code",
   "execution_count": 63,
   "id": "073c5f32-5ba8-4960-9685-702de82bea27",
   "metadata": {},
   "outputs": [
    {
     "data": {
      "text/html": [
       "<div>\n",
       "<style scoped>\n",
       "    .dataframe tbody tr th:only-of-type {\n",
       "        vertical-align: middle;\n",
       "    }\n",
       "\n",
       "    .dataframe tbody tr th {\n",
       "        vertical-align: top;\n",
       "    }\n",
       "\n",
       "    .dataframe thead th {\n",
       "        text-align: right;\n",
       "    }\n",
       "</style>\n",
       "<table border=\"1\" class=\"dataframe\">\n",
       "  <thead>\n",
       "    <tr style=\"text-align: right;\">\n",
       "      <th></th>\n",
       "      <th>data</th>\n",
       "      <th>is_forecast</th>\n",
       "      <th>lower_ci80</th>\n",
       "      <th>upper_ci80</th>\n",
       "      <th>lower_ci95</th>\n",
       "      <th>upper_ci95</th>\n",
       "    </tr>\n",
       "  </thead>\n",
       "  <tbody>\n",
       "    <tr>\n",
       "      <th>2017-07-01 00:00:00</th>\n",
       "      <td>36384.318940</td>\n",
       "      <td>0</td>\n",
       "      <td>NaN</td>\n",
       "      <td>NaN</td>\n",
       "      <td>NaN</td>\n",
       "      <td>NaN</td>\n",
       "    </tr>\n",
       "    <tr>\n",
       "      <th>2017-07-01 00:10:00</th>\n",
       "      <td>35689.036540</td>\n",
       "      <td>0</td>\n",
       "      <td>NaN</td>\n",
       "      <td>NaN</td>\n",
       "      <td>NaN</td>\n",
       "      <td>NaN</td>\n",
       "    </tr>\n",
       "    <tr>\n",
       "      <th>2017-07-01 00:20:00</th>\n",
       "      <td>34751.362130</td>\n",
       "      <td>0</td>\n",
       "      <td>NaN</td>\n",
       "      <td>NaN</td>\n",
       "      <td>NaN</td>\n",
       "      <td>NaN</td>\n",
       "    </tr>\n",
       "    <tr>\n",
       "      <th>2017-07-01 00:30:00</th>\n",
       "      <td>33954.019930</td>\n",
       "      <td>0</td>\n",
       "      <td>NaN</td>\n",
       "      <td>NaN</td>\n",
       "      <td>NaN</td>\n",
       "      <td>NaN</td>\n",
       "    </tr>\n",
       "    <tr>\n",
       "      <th>2017-07-01 00:40:00</th>\n",
       "      <td>33411.827240</td>\n",
       "      <td>0</td>\n",
       "      <td>NaN</td>\n",
       "      <td>NaN</td>\n",
       "      <td>NaN</td>\n",
       "      <td>NaN</td>\n",
       "    </tr>\n",
       "    <tr>\n",
       "      <th>...</th>\n",
       "      <td>...</td>\n",
       "      <td>...</td>\n",
       "      <td>...</td>\n",
       "      <td>...</td>\n",
       "      <td>...</td>\n",
       "      <td>...</td>\n",
       "    </tr>\n",
       "    <tr>\n",
       "      <th>2017-08-31 23:10:00</th>\n",
       "      <td>35802.234822</td>\n",
       "      <td>1</td>\n",
       "      <td>27839.359167</td>\n",
       "      <td>43765.110476</td>\n",
       "      <td>23624.067422</td>\n",
       "      <td>47980.402221</td>\n",
       "    </tr>\n",
       "    <tr>\n",
       "      <th>2017-08-31 23:20:00</th>\n",
       "      <td>35802.234822</td>\n",
       "      <td>1</td>\n",
       "      <td>27839.356669</td>\n",
       "      <td>43765.112975</td>\n",
       "      <td>23624.063601</td>\n",
       "      <td>47980.406042</td>\n",
       "    </tr>\n",
       "    <tr>\n",
       "      <th>2017-08-31 23:30:00</th>\n",
       "      <td>35802.234822</td>\n",
       "      <td>1</td>\n",
       "      <td>27839.354171</td>\n",
       "      <td>43765.115473</td>\n",
       "      <td>23624.059780</td>\n",
       "      <td>47980.409863</td>\n",
       "    </tr>\n",
       "    <tr>\n",
       "      <th>2017-08-31 23:40:00</th>\n",
       "      <td>35802.234822</td>\n",
       "      <td>1</td>\n",
       "      <td>27839.351672</td>\n",
       "      <td>43765.117971</td>\n",
       "      <td>23624.055960</td>\n",
       "      <td>47980.413684</td>\n",
       "    </tr>\n",
       "    <tr>\n",
       "      <th>2017-08-31 23:50:00</th>\n",
       "      <td>35802.234822</td>\n",
       "      <td>1</td>\n",
       "      <td>27839.349174</td>\n",
       "      <td>43765.120469</td>\n",
       "      <td>23624.052139</td>\n",
       "      <td>47980.417504</td>\n",
       "    </tr>\n",
       "  </tbody>\n",
       "</table>\n",
       "<p>8928 rows × 6 columns</p>\n",
       "</div>"
      ],
      "text/plain": [
       "                             data  is_forecast    lower_ci80    upper_ci80  \\\n",
       "2017-07-01 00:00:00  36384.318940            0           NaN           NaN   \n",
       "2017-07-01 00:10:00  35689.036540            0           NaN           NaN   \n",
       "2017-07-01 00:20:00  34751.362130            0           NaN           NaN   \n",
       "2017-07-01 00:30:00  33954.019930            0           NaN           NaN   \n",
       "2017-07-01 00:40:00  33411.827240            0           NaN           NaN   \n",
       "...                           ...          ...           ...           ...   \n",
       "2017-08-31 23:10:00  35802.234822            1  27839.359167  43765.110476   \n",
       "2017-08-31 23:20:00  35802.234822            1  27839.356669  43765.112975   \n",
       "2017-08-31 23:30:00  35802.234822            1  27839.354171  43765.115473   \n",
       "2017-08-31 23:40:00  35802.234822            1  27839.351672  43765.117971   \n",
       "2017-08-31 23:50:00  35802.234822            1  27839.349174  43765.120469   \n",
       "\n",
       "                       lower_ci95    upper_ci95  \n",
       "2017-07-01 00:00:00           NaN           NaN  \n",
       "2017-07-01 00:10:00           NaN           NaN  \n",
       "2017-07-01 00:20:00           NaN           NaN  \n",
       "2017-07-01 00:30:00           NaN           NaN  \n",
       "2017-07-01 00:40:00           NaN           NaN  \n",
       "...                           ...           ...  \n",
       "2017-08-31 23:10:00  23624.067422  47980.402221  \n",
       "2017-08-31 23:20:00  23624.063601  47980.406042  \n",
       "2017-08-31 23:30:00  23624.059780  47980.409863  \n",
       "2017-08-31 23:40:00  23624.055960  47980.413684  \n",
       "2017-08-31 23:50:00  23624.052139  47980.417504  \n",
       "\n",
       "[8928 rows x 6 columns]"
      ]
     },
     "execution_count": 63,
     "metadata": {},
     "output_type": "execute_result"
    }
   ],
   "source": [
    "arima_f"
   ]
  },
  {
   "cell_type": "code",
   "execution_count": null,
   "id": "dd655c0c-c56e-40ee-a671-672633beb5f6",
   "metadata": {},
   "outputs": [],
   "source": [
    "plt.figure(figsize=(9, 3))\n",
    "ts_plot_arima_forecast(arima_f.iloc[-4464:, :])\n",
    "plt.plot(y_true, color=saturate_color(palette[0], 1))\n",
    "axis_rstyle()\n",
    "plt.show()\n",
    "\n",
    "savefig('auto_arima', dir_save_img)"
   ]
  },
  {
   "cell_type": "code",
   "execution_count": null,
   "id": "7d8c2ac9-3a81-4435-8cd0-96236175ce64",
   "metadata": {},
   "outputs": [],
   "source": [
    "arima_forecast = arima_f.loc[arima_f['is_forecast']==1, 'data']"
   ]
  },
  {
   "cell_type": "markdown",
   "id": "0d25a823-3e5a-47d4-872a-d68af48548ed",
   "metadata": {},
   "source": [
    "##### MAE"
   ]
  },
  {
   "cell_type": "code",
   "execution_count": null,
   "id": "776b1e54-d0d3-4a0a-a2cc-b803975f7ec4",
   "metadata": {},
   "outputs": [],
   "source": [
    "mean_absolute_error(arima_forecast, y_true)"
   ]
  },
  {
   "cell_type": "markdown",
   "id": "e781baef-bc99-4377-998a-12e97e5d5d93",
   "metadata": {},
   "source": [
    "##### MAPE"
   ]
  },
  {
   "cell_type": "code",
   "execution_count": null,
   "id": "8f9348c3-2e1d-484e-aa27-148e23483d0e",
   "metadata": {},
   "outputs": [],
   "source": [
    "mean_absolute_percentage_error(arima_forecast, y_true) * 100"
   ]
  },
  {
   "cell_type": "markdown",
   "id": "7058e6d9-dabd-437e-a3ad-747592b9fa10",
   "metadata": {},
   "source": [
    "##### RMSE"
   ]
  },
  {
   "cell_type": "code",
   "execution_count": null,
   "id": "2bf2055a-a33d-43be-8ea7-f4e55235042d",
   "metadata": {},
   "outputs": [],
   "source": [
    "root_mean_squared_error(arima_forecast, y_true)"
   ]
  },
  {
   "cell_type": "markdown",
   "id": "a2c2c479-6a82-4745-99e2-ffaa8607156f",
   "metadata": {},
   "source": [
    "## Model №2: ARIMA with seasonality"
   ]
  },
  {
   "cell_type": "markdown",
   "id": "b8b7c8f5-8111-4088-b3a7-9dc850fb68ae",
   "metadata": {},
   "source": [
    "### Fourier transform"
   ]
  },
  {
   "cell_type": "code",
   "execution_count": null,
   "id": "c3b031f6-4ee2-48f9-bc54-feb6e363c475",
   "metadata": {},
   "outputs": [],
   "source": [
    "y_values = y.values"
   ]
  },
  {
   "cell_type": "code",
   "execution_count": null,
   "id": "d5fe5781-8422-4b61-9e90-a93256e82f31",
   "metadata": {},
   "outputs": [],
   "source": [
    "y_values_trend = scipy.signal.savgol_filter(y_values, 25, 1)"
   ]
  },
  {
   "cell_type": "code",
   "execution_count": null,
   "id": "42642b9e-0fbe-46b5-8270-f1f73e1ee894",
   "metadata": {},
   "outputs": [],
   "source": [
    "y_values_detrended = y_values - y_values_trend"
   ]
  },
  {
   "cell_type": "code",
   "execution_count": null,
   "id": "f7d141bf-db6b-416b-952f-d76ca4b908cb",
   "metadata": {},
   "outputs": [],
   "source": [
    "fft_x = np.fft.fftfreq(len(y_values_detrended))\n",
    "fft_x = fft_x[:len(fft_x)//2]"
   ]
  },
  {
   "cell_type": "code",
   "execution_count": null,
   "id": "fed9f6b1-07f2-4a96-9f59-c9cd35041f9d",
   "metadata": {},
   "outputs": [],
   "source": [
    "fft_y = np.fft.fft(y_values_detrended)\n",
    "fft_y = np.abs(fft_y[:len(fft_y)//2])"
   ]
  },
  {
   "cell_type": "code",
   "execution_count": null,
   "id": "454c297d-1c96-4bdd-9147-cafbb49cca28",
   "metadata": {},
   "outputs": [],
   "source": [
    "fft_y_peaks_indices = get_peaks_indicies(fft_y, boundary=500000)"
   ]
  },
  {
   "cell_type": "code",
   "execution_count": null,
   "id": "e01a6dde-074d-4848-8871-ee7c04f5ab0f",
   "metadata": {},
   "outputs": [],
   "source": [
    "fig, ax = plt.subplots(2, 1, figsize=(9, 4))\n",
    "\n",
    "plt.subplot(2, 1, 1)\n",
    "plt.plot(fft_x, fft_y)\n",
    "for idx in fft_y_peaks_indices:\n",
    "    x_, y_ = fft_x[idx], fft_y[idx]\n",
    "    text = f'{round(1/x_)}'\n",
    "    plt.annotate(text, (x_, y_+300000), ha='center', size=8)\n",
    "    plt.scatter(\n",
    "        fft_x[idx], fft_y[idx],\n",
    "        color=saturate_color(palette[1], 1.5), marker='.', s=20, zorder=10)\n",
    "\n",
    "plt.title('Periods')\n",
    "plt.xlim(0, 0.1)\n",
    "plt.ylim(0, 3000000)\n",
    "axis_rstyle(y_axis_hide=True, y_ticklabels_hide=True, x_ticklabels_hide=True, x_ticks_hide=True)\n",
    "\n",
    "plt.subplot(2, 1, 2)\n",
    "plt.plot(fft_x, fft_y)\n",
    "for idx in fft_y_peaks_indices:\n",
    "    x_, y_ = fft_x[idx], fft_y[idx]\n",
    "    text = f'{round(1/x_/6)} h'\n",
    "    plt.annotate(text, (x_, y_+300000), ha='center', size=8)\n",
    "    plt.scatter(\n",
    "        fft_x[idx], fft_y[idx],\n",
    "        color=saturate_color(palette[1], 1.5), marker='.', s=20, zorder=10)\n",
    "\n",
    "plt.title('Hours')\n",
    "plt.xlim(0, 0.1)\n",
    "plt.ylim(0, 3000000)\n",
    "axis_rstyle(y_axis_hide=True, y_ticklabels_hide=True, x_ticklabels_hide=True, x_ticks_hide=True)\n",
    "\n",
    "plt.subplots_adjust(hspace=0.65)\n",
    "plt.show()\n",
    "\n",
    "savefig('fourier_transform', dir_save_img)"
   ]
  },
  {
   "cell_type": "code",
   "execution_count": null,
   "id": "f33fcaf9-6a88-454c-aa4b-b2bf3c6273cc",
   "metadata": {},
   "outputs": [],
   "source": [
    "arima_fourier_periods = [144, 72, 48, 36]"
   ]
  },
  {
   "cell_type": "markdown",
   "id": "fe9eb698-cf95-4008-9f7b-f814727b587c",
   "metadata": {},
   "source": [
    "### Model and Fourier order selection with CV"
   ]
  },
  {
   "cell_type": "code",
   "execution_count": null,
   "id": "cfb2553f-7b2a-4d4a-aa61-d1fd6267b177",
   "metadata": {},
   "outputs": [],
   "source": [
    "train_start = dt.datetime(2017,2,1)\n",
    "back_start = dt.datetime(2017,2,1)\n",
    "forward_finish = dt.datetime(2017,9,30)\n",
    "lw=15\n",
    "\n",
    "fig = plt.figure(figsize=(8, 3))\n",
    "ax=ax_current()\n",
    "\n",
    "for i in arange(7):\n",
    "    back_finish = train_start - dt.timedelta(days=1)\n",
    "    ev_start = dt.datetime(2017, train_start.month+1, 1)\n",
    "    forward_start = dt.datetime(2017, train_start.month+2, 1)\n",
    "    train_finish = \\\n",
    "        dt.datetime(2017, train_start.month+1, 1) - dt.timedelta(days=1)\n",
    "    ev_finish = \\\n",
    "        dt.datetime(2017, train_start.month+2, 1) - dt.timedelta(days=1)\n",
    "    \n",
    "    range_back = pd.date_range(back_start, back_finish, freq='d')\n",
    "    range_train = pd.date_range(train_start, train_finish, freq='d')\n",
    "    range_ev = pd.date_range(ev_start, ev_finish, freq='d')\n",
    "    range_forward = pd.date_range(forward_start, forward_finish, freq='d')\n",
    "\n",
    "    len_train = (train_finish - train_start).days\n",
    "    len_ev = (ev_finish - ev_start).days\n",
    "\n",
    "    color_back = color_forward = alpha_color(palette[-1], 0.4)\n",
    "    color_ev = alpha_color(palette[2], 1)\n",
    "    \n",
    "    if i == 5:\n",
    "        color_ev = palette[3]\n",
    "    if i == 6:\n",
    "        color_ev = palette[1]\n",
    "\n",
    "    ax.plot(\n",
    "        range_back,\n",
    "        [7-i]*len(range_back),\n",
    "        lw=lw,\n",
    "        solid_capstyle='butt',\n",
    "        color=color_back)\n",
    "\n",
    "    ax.plot(\n",
    "        range_train,\n",
    "        [7-i]*len(range_train),\n",
    "        lw=lw,\n",
    "        solid_capstyle='butt',\n",
    "        color=palette[0])\n",
    "\n",
    "    ax.plot(\n",
    "        range_ev,\n",
    "        [7-i]*len(range_ev),\n",
    "        lw=lw,\n",
    "        solid_capstyle='butt',\n",
    "        color=color_ev)\n",
    "\n",
    "    ax.plot(\n",
    "        range_forward,\n",
    "        [7-i]*len(range_forward),\n",
    "        lw=lw,\n",
    "        solid_capstyle='butt',\n",
    "        color=color_forward)\n",
    "    \n",
    "    ax.annotate(\n",
    "        train_start.strftime(\"%B\")[:3],\n",
    "        xy=(dt.datetime(2017, train_start.month,\n",
    "                        int(round(len_train/2))+1), 7-i-0.1),\n",
    "        ha='center',\n",
    "        color='white',\n",
    "        weight='bold',\n",
    "        size=8)\n",
    "\n",
    "    ax.annotate(\n",
    "        ev_start.strftime(\"%B\")[:3],\n",
    "        xy=(dt.datetime(2017, ev_start.month,\n",
    "                        int(round(len_ev/2))+1), 7-i-0.1),\n",
    "        ha='center',\n",
    "        color='white',\n",
    "        weight='bold',\n",
    "        size=8)\n",
    "    \n",
    "    train_start = dt.datetime(2017, train_start.month+1, 1)\n",
    "\n",
    "ax.legend(\n",
    "    **legend_create_handles(\n",
    "        n=4, kind='rect',\n",
    "        labels=['Train', 'Evaluation', 'Validation', 'Test'],\n",
    "        colors=[palette[0], alpha_color(palette[2], 1),\n",
    "                palette[3], palette[1]], alpha=1),\n",
    "    **legend_inline())\n",
    "\n",
    "axis_rstyle(\n",
    "    y_axis_hide=True, x_ticks_hide=True, offset_left=0)\n",
    "\n",
    "ax_sec = ax.secondary_xaxis('bottom')\n",
    "ax_sec.set_xticks(ax.get_xticks())\n",
    "ax_sec.spines['bottom'].set_visible(False)\n",
    "ax_sec.spines['bottom'].set_position(('outward', 13))\n",
    "ax_sec.tick_params(axis='x', labelbottom=False, size=3)\n",
    "\n",
    "ax.xaxis.set_major_formatter(mpl.dates.DateFormatter('%B'))\n",
    "ax.xaxis.set_major_locator(mpl.dates.DayLocator(bymonthday=16))\n",
    "\n",
    "ax.set_yticks(\n",
    "    ticks=arange(1, 8),\n",
    "    labels=[\n",
    "        'Test', 'Valid', 'Fold 5', 'Fold 4',\n",
    "        'Fold 3', 'Fold 2', 'Fold 1'],\n",
    "    fontsize=9,\n",
    "    weight='bold',\n",
    "    color=palette[0]\n",
    ")\n",
    "ax.tick_params(axis='y', colors='#505050')\n",
    "\n",
    "ax.set_ylim(0.5, 7.5)\n",
    "\n",
    "plt.show()\n",
    "savefig('cv_schema', dir_save_img)"
   ]
  },
  {
   "cell_type": "code",
   "execution_count": null,
   "id": "03e0302b-4bbf-4609-a18f-0f9e49934929",
   "metadata": {},
   "outputs": [],
   "source": [
    "len(train.loc['2017-03-01':]['month'].unique())"
   ]
  },
  {
   "cell_type": "code",
   "execution_count": null,
   "id": "a0416745-e660-4d95-b6ed-73b592c6ab86",
   "metadata": {},
   "outputs": [],
   "source": [
    "cv1_indexes_train, cv1_indexes_test = cv_split_indexes(\n",
    "    data=train['target1'], start='2017-03-01', train_size=1,\n",
    "    test_size=1, size_unit='months', n_splits=5, freq='10min')"
   ]
  },
  {
   "cell_type": "code",
   "execution_count": null,
   "id": "6313deff-6399-4fad-aee6-dc1231dafa72",
   "metadata": {},
   "outputs": [],
   "source": [
    "cv1_indexes_train[0]"
   ]
  },
  {
   "cell_type": "code",
   "execution_count": null,
   "id": "71fc9cf9-1f98-4687-994d-e7b6d57dcd23",
   "metadata": {},
   "outputs": [],
   "source": [
    "cv1_indexes_test[0]"
   ]
  },
  {
   "cell_type": "code",
   "execution_count": null,
   "id": "b8ecf3b0-ff09-4cad-8d86-0ff1c450213c",
   "metadata": {},
   "outputs": [],
   "source": [
    "cv1_indexes_train[-1]"
   ]
  },
  {
   "cell_type": "code",
   "execution_count": null,
   "id": "1fd4e8a2-0740-4161-a8c1-8c49aa030cdf",
   "metadata": {},
   "outputs": [],
   "source": [
    "cv1_indexes_test[-1]"
   ]
  },
  {
   "cell_type": "code",
   "execution_count": null,
   "id": "31526c28-0754-4949-bb07-9c2f6902e57e",
   "metadata": {},
   "outputs": [],
   "source": [
    "arima_fourier_periods"
   ]
  },
  {
   "cell_type": "code",
   "execution_count": null,
   "id": "c620d65c-77e1-4ec9-af49-6c1300af3c97",
   "metadata": {},
   "outputs": [],
   "source": [
    "cv1_indexes_train[1]"
   ]
  },
  {
   "cell_type": "raw",
   "id": "c3987688-ede4-4d5d-b409-57920a2159d7",
   "metadata": {},
   "source": [
    "cv1_results_month_model = cv_model_evaluation(\n",
    "        data=train['target1'], start='2017-03-01', train_size=1, test_size=1, size_unit='months', n_splits=5, freq='10min',\n",
    "        orders=[(4,1,2)], fourier_periods=[arima_fourier_periods], fourier_orders=arange(1, 4, True))"
   ]
  },
  {
   "cell_type": "code",
   "execution_count": null,
   "id": "af38d2fb-97bf-4ecb-9ed9-6287df95aad1",
   "metadata": {},
   "outputs": [],
   "source": [
    "cv1_results_month_model = loadit('month_model_cv1_results', dir_load_files)"
   ]
  },
  {
   "cell_type": "code",
   "execution_count": null,
   "id": "cbf6470f-f697-469d-98a8-589d19e03609",
   "metadata": {},
   "outputs": [],
   "source": [
    "cv1_month_models = cv1_results_month_model['models'].copy()"
   ]
  },
  {
   "cell_type": "code",
   "execution_count": null,
   "id": "2eb7fdb6-ba03-4f29-bcc5-b0aaa0d5c33f",
   "metadata": {},
   "outputs": [],
   "source": [
    "cv1_month_splits = pd.DataFrame(cv1_results_month_model['splits'])"
   ]
  },
  {
   "cell_type": "code",
   "execution_count": null,
   "id": "ae391c0e-d404-4e5d-8367-06fa0b49bcb0",
   "metadata": {},
   "outputs": [],
   "source": [
    "cv1_month_splits"
   ]
  },
  {
   "cell_type": "code",
   "execution_count": null,
   "id": "b82ae880-4522-49b2-9295-29d3f32897b0",
   "metadata": {},
   "outputs": [],
   "source": [
    "cv1_month_splits_desriptive = pd.DataFrame(index=cv1_month_splits.columns)"
   ]
  },
  {
   "cell_type": "code",
   "execution_count": null,
   "id": "af3ea0ba-17b2-4a61-b6a9-ef8ed844c121",
   "metadata": {},
   "outputs": [],
   "source": [
    "cv1_month_splits_desriptive['mean'] = cv1_month_splits.mean()\n",
    "cv1_month_splits_desriptive['std'] = cv1_month_splits.std()"
   ]
  },
  {
   "cell_type": "code",
   "execution_count": null,
   "id": "f120a613-b138-43db-829c-baec5b2bbd22",
   "metadata": {},
   "outputs": [],
   "source": [
    "cv1_month_splits_top_models = cv1_month_splits_desriptive.sort_values('mean')[:10].index"
   ]
  },
  {
   "cell_type": "code",
   "execution_count": null,
   "id": "5ac3c886-dbf3-4634-a7f8-581bb8df6bde",
   "metadata": {},
   "outputs": [],
   "source": [
    "cv1_month_splits_top_models"
   ]
  },
  {
   "cell_type": "code",
   "execution_count": null,
   "id": "71bfba9c-22ff-421c-9720-5fa5718f14be",
   "metadata": {},
   "outputs": [],
   "source": [
    "# top df without sort\n",
    "cv1_month_splits_top = \\\n",
    "    cv1_month_splits.loc[:, cv1_month_splits.columns.isin(cv1_month_splits_top_models)].copy()"
   ]
  },
  {
   "cell_type": "code",
   "execution_count": null,
   "id": "59fe9feb-1a88-4af6-aff1-09016e93b522",
   "metadata": {},
   "outputs": [],
   "source": [
    "cv1_month_splits_desriptive_top = \\\n",
    "    cv1_month_splits_desriptive.loc[cv1_month_splits_desriptive.index.isin(cv1_month_splits_top_models)].copy()"
   ]
  },
  {
   "cell_type": "code",
   "execution_count": null,
   "id": "44ad4296-33a4-4e90-851e-f58c894c2a4f",
   "metadata": {},
   "outputs": [],
   "source": [
    "cv1_month_splits_desriptive_top"
   ]
  },
  {
   "cell_type": "code",
   "execution_count": null,
   "id": "0420cb42-2109-4b10-b07f-a990719400ba",
   "metadata": {},
   "outputs": [],
   "source": [
    "cv1_month_splits_best_model = cv1_month_splits_desriptive_top.sort_values('mean').index[0]"
   ]
  },
  {
   "cell_type": "code",
   "execution_count": null,
   "id": "14a66fe3-c363-43b4-8f1e-6aa2d5e253c1",
   "metadata": {},
   "outputs": [],
   "source": [
    "for model in cv1_month_splits_desriptive_top.index:\n",
    "    cv1_month_splits_desriptive_top.loc[model, 'lower'] = \\\n",
    "        ci_bootstrap(cv1_month_splits[model])['ci_min']\n",
    "    cv1_month_splits_desriptive_top.loc[model, 'upper'] = \\\n",
    "        ci_bootstrap(cv1_month_splits[model])['ci_max']"
   ]
  },
  {
   "cell_type": "code",
   "execution_count": null,
   "id": "01f01a0e-f15b-45f4-881c-72a65b1a4679",
   "metadata": {},
   "outputs": [],
   "source": [
    "cv1_month_splits_desriptive_top"
   ]
  },
  {
   "cell_type": "code",
   "execution_count": null,
   "id": "62d93848-7463-4ef5-8d09-371aaf3de917",
   "metadata": {},
   "outputs": [],
   "source": [
    "fig, ax = plt.subplots(2, 1, figsize=(8, 3))\n",
    "\n",
    "ax[0].scatter(\n",
    "    x = cv1_month_splits_desriptive_top.index,\n",
    "    y = cv1_month_splits_desriptive_top['mean'],\n",
    "    s=10)\n",
    "\n",
    "ax[0].errorbar(\n",
    "    x = cv1_month_splits_desriptive_top.index,\n",
    "    y = cv1_month_splits_desriptive_top['mean'],\n",
    "    yerr = cv1_month_splits_desriptive_top['std'],\n",
    "    ls='none',\n",
    "    lw=0.5,\n",
    "    capsize=1,\n",
    "    alpha=0.75)\n",
    "\n",
    "# best model\n",
    "ax[0].errorbar(\n",
    "    x = cv1_month_splits_desriptive_top.loc[cv1_month_splits_best_model].name,\n",
    "    y = cv1_month_splits_desriptive_top.loc[cv1_month_splits_best_model]['mean'],\n",
    "    yerr = cv1_month_splits_desriptive_top.loc[cv1_month_splits_best_model]['std'],\n",
    "    ls='none',\n",
    "    lw=1,\n",
    "    marker='.',\n",
    "    markersize=4,\n",
    "    capsize=1.5,\n",
    "    color=saturate_color(palette[1], 1.5))\n",
    "\n",
    "axis_rstyle(ax=ax[0], yticks=[1000, 6000, 1000], ylim=[1000, 6000], offset_left=7)\n",
    "ax[0].spines['bottom'].set_visible(False)\n",
    "ax[0].tick_params(bottom=False, labelbottom=False)\n",
    "\n",
    "sns.stripplot(\n",
    "    cv1_month_splits_top,\n",
    "    s=5,\n",
    "    color=palette[-2],\n",
    "    ax=ax[1])\n",
    "\n",
    "axis_rstyle(ax=ax[1], offset_left=7)\n",
    "\n",
    "plt.xticks(rotation=90)\n",
    "plt.subplots_adjust(hspace=0.25)\n",
    "\n",
    "savefig('cv_results_plot', dir_save_img)"
   ]
  },
  {
   "cell_type": "code",
   "execution_count": null,
   "id": "c40d761b-026b-4a0d-b666-d37c81420233",
   "metadata": {},
   "outputs": [],
   "source": [
    "# top 5 model smoothed data\n",
    "cv1_month_splits_top_smoothed = smoothed(cv1_month_splits_top[cv1_month_splits_top_models], n=200)"
   ]
  },
  {
   "cell_type": "code",
   "execution_count": null,
   "id": "e8b3d335-772d-439b-9afa-7d21a6e71840",
   "metadata": {},
   "outputs": [],
   "source": [
    "cv1_month_splits_top_smoothed"
   ]
  },
  {
   "cell_type": "code",
   "execution_count": null,
   "id": "12362ee6-06f1-4fa1-9b1b-a80d4191dd66",
   "metadata": {},
   "outputs": [],
   "source": [
    "fig = plt.figure()\n",
    "\n",
    "plt.plot(\n",
    "    cv1_month_splits_top_smoothed\n",
    ")\n",
    "plt.legend(**legend_inline(), labels=cv1_month_splits_top_smoothed.columns);\n",
    "ax_current().xaxis.set_major_locator(mpl.ticker.MaxNLocator(integer=True))\n",
    "axis_rstyle(xticks=[0, 4, 1], offset_left=10)\n",
    "\n",
    "savefig('cv_models_plot', dir_save_img)"
   ]
  },
  {
   "cell_type": "code",
   "execution_count": null,
   "id": "feb3767f-fe86-4289-b5b2-911f36503e88",
   "metadata": {},
   "outputs": [],
   "source": [
    "cv1_month_period = train.loc['2017-03-01':'2017-07-30'].groupby('month').mean().copy()"
   ]
  },
  {
   "cell_type": "code",
   "execution_count": null,
   "id": "acd99482-ecb9-4606-ad5b-cef0a5519b15",
   "metadata": {},
   "outputs": [],
   "source": [
    "cv1_month_period = train.loc['2017-03-01':'2017-07-30'].groupby('month').agg({'target1': ['mean', 'std']})"
   ]
  },
  {
   "cell_type": "code",
   "execution_count": null,
   "id": "f58bda50-ee69-4a2b-a0c4-e49e580d2fdf",
   "metadata": {},
   "outputs": [],
   "source": [
    "cv1_month_period.index = cv1_month_period.index - 3"
   ]
  },
  {
   "cell_type": "code",
   "execution_count": null,
   "id": "fa1dcb0c-f059-486f-ab20-8ff2eb311d33",
   "metadata": {},
   "outputs": [],
   "source": [
    "# top model\n",
    "\n",
    "plt.figure(figsize=(8, 5))\n",
    "\n",
    "plt.subplot(3, 1, 1)\n",
    "plt.plot(\n",
    "    cv1_month_splits_top[cv1_month_splits_best_model],\n",
    "    color=palette[2],\n",
    "    label=cv1_month_splits_best_model\n",
    ")\n",
    "# ax_current().xaxis.set_major_locator(mpl.ticker.MaxNLocator(integer=True))\n",
    "axis_rstyle(xlim=[0, 4], xticks=[0, 4, 1], offset_left=10)\n",
    "plt.xticks(arange(5), months_list[2:7])\n",
    "# axis_remove_xaxis()\n",
    "plt.legend(\n",
    "    **legend_inline(3),\n",
    "    **legend_create_handles(\n",
    "        3,\n",
    "        labels=['Best weekly-model RMSE', ' Demand Mean', 'Demand Std'],\n",
    "        colors=[palette[2], palette[0], palette[1]]\n",
    "    ));\n",
    "# axis_remove_xaxis()\n",
    "\n",
    "plt.subplot(3, 1, 2)\n",
    "plt.plot(\n",
    "    cv1_month_period['target1']['mean'],\n",
    "    label='Mean'\n",
    ")\n",
    "axis_rstyle(xlim=[0, 4], xticks=[0, 4, 1], yticks=[30000, 36000, 2000], offset_left=10)\n",
    "plt.xticks(arange(5), months_list[2:7])\n",
    "# axis_remove_xaxis()\n",
    "\n",
    "plt.subplot(3, 1, 3)\n",
    "plt.plot(\n",
    "    cv1_month_period['target1']['std'],\n",
    "    color=palette[1],\n",
    "    label='Std'\n",
    ")\n",
    "# ax_current().xaxis.set_major_locator(mpl.ticker.MaxNLocator(integer=True))\n",
    "axis_rstyle(xlim=[0, 4], xticks=[0, 4, 1], yticks=[6500, 7500, 250], offset_left=10)\n",
    "\n",
    "plt.xticks(arange(5), months_list[2:7])\n",
    "plt.subplots_adjust(hspace=0.75)\n",
    "plt.show()"
   ]
  },
  {
   "cell_type": "code",
   "execution_count": null,
   "id": "06312054-a68a-4291-9869-e74405b5d426",
   "metadata": {},
   "outputs": [],
   "source": [
    "train_by_week = train.loc['2017-02-01':].groupby(['month','week'])['target1'].mean().copy()"
   ]
  },
  {
   "cell_type": "code",
   "execution_count": null,
   "id": "b9dfcf69-f569-4d03-b8d3-a3f23851c70b",
   "metadata": {},
   "outputs": [],
   "source": [
    "train_by_week = pd.DataFrame(train_by_week)"
   ]
  },
  {
   "cell_type": "code",
   "execution_count": null,
   "id": "c04d50b1-ebdd-4d18-a9d7-baa119d51332",
   "metadata": {},
   "outputs": [],
   "source": [
    "train_by_week['xticks'] = arange(len(train_by_week))"
   ]
  },
  {
   "cell_type": "code",
   "execution_count": null,
   "id": "663a1122-6047-4fea-afed-71115d1b6fb0",
   "metadata": {},
   "outputs": [],
   "source": [
    "train_by_week.head(10)"
   ]
  },
  {
   "cell_type": "code",
   "execution_count": null,
   "id": "fd6bb2f6-7859-450f-9dd6-ba8e4f742764",
   "metadata": {},
   "outputs": [],
   "source": [
    "months_list"
   ]
  },
  {
   "cell_type": "code",
   "execution_count": null,
   "id": "9d5b5b6e-ba97-4151-bae4-8b3a7b7fb06b",
   "metadata": {},
   "outputs": [],
   "source": [
    "fig, ax1 = plt.subplots()\n",
    "\n",
    "ax1.plot(train_by_week['xticks'], train_by_week['target1'])\n",
    "ax1.set_xticks([0, 5, 10, 15, 20 , 25, 30], months_list[1:8])\n",
    "ax1.set_ylabel('target1')\n",
    "axis_rstyle(offset_left=-10, ax=ax1)\n",
    "\n",
    "ax2 = ax1.twinx()\n",
    "ax2.scatter(\n",
    "    x=[5, 10, 15, 20 , 25],\n",
    "    y=cv1_month_splits_top[cv1_month_splits_best_model],\n",
    "    color=saturate_color(palette[1], 1.5),\n",
    "    s=25\n",
    ")\n",
    "months_rmse_names = [\n",
    "    'February - March', 'March - April', 'April - May', 'May - June', 'June - July'\n",
    "]\n",
    "for i, j, k in zip(\n",
    "    [5, 10, 15, 20 , 25],\n",
    "    cv1_month_splits_top[cv1_month_splits_best_model],\n",
    "    months_rmse_names):\n",
    "        ax2.annotate(text=k, xy=(i, j+990),\n",
    "                     size=8, ha='center')\n",
    "        ax2.annotate(text=int(round(j, 0)), xy=(i, j+365),\n",
    "                     size=8, ha='center')\n",
    "\n",
    "ax2.set_ylim(0, 8000)\n",
    "ax2.grid(False)\n",
    "ax2.spines['right'].set_visible(True)\n",
    "ax2.spines['right'].set_color('#AAAAAA')\n",
    "ax2.spines[['left', 'bottom']].set_visible(False)\n",
    "ax2.tick_params(axis='y', direction='out', color='#AAAAAA', size=3)\n",
    "ax2.tick_params(labelcolor='#808080')\n",
    "# ax2.spines['right'].set_bounds(0, 0.25)\n",
    "ax2.spines['right'].set_position(('outward', -10))\n",
    "ax2.set_yticks(arange(0, 8001, 2000))\n",
    "ax2.set_ylabel('RMSE')\n",
    "\n",
    "plt.show()\n",
    "\n",
    "savefig('cv_rmse_plot', dir_save_img)"
   ]
  },
  {
   "cell_type": "code",
   "execution_count": null,
   "id": "327e9e97-6483-4efb-a272-890ef581b7a9",
   "metadata": {},
   "outputs": [],
   "source": [
    "cv1_month_splits_top[cv1_month_splits_best_model].diff().round(0).fillna(0).astype(int)"
   ]
  },
  {
   "cell_type": "code",
   "execution_count": null,
   "id": "99d88cc1-dd8a-420f-bacd-e123a4e72b35",
   "metadata": {},
   "outputs": [],
   "source": [
    "cv1_month_splits_best_model"
   ]
  },
  {
   "cell_type": "code",
   "execution_count": null,
   "id": "6772c21e-8e48-4526-83a5-5417ffdae466",
   "metadata": {},
   "outputs": [],
   "source": [
    "cv1_month_models[cv1_month_splits_best_model]"
   ]
  },
  {
   "cell_type": "markdown",
   "id": "e6e206d7-5b75-42ed-b4a5-bf079ee8abf5",
   "metadata": {},
   "source": [
    "#### Check only 3 first folds\n",
    "\n",
    "Because last 2 are not relevant"
   ]
  },
  {
   "cell_type": "code",
   "execution_count": null,
   "id": "fccfe1f5-44ed-4b96-adde-861f17ce7f4c",
   "metadata": {},
   "outputs": [],
   "source": [
    "cv1_month_splits_ = cv1_month_splits.iloc[:3, :].copy()"
   ]
  },
  {
   "cell_type": "code",
   "execution_count": null,
   "id": "2d33f852-5ab5-4265-bf34-18ea6c9307d8",
   "metadata": {},
   "outputs": [],
   "source": [
    "cv1_month_splits_"
   ]
  },
  {
   "cell_type": "code",
   "execution_count": null,
   "id": "d665bbfb-e024-4090-965e-d585f30ddcf2",
   "metadata": {},
   "outputs": [],
   "source": [
    "cv1_month_splits_.mean().sort_values()"
   ]
  },
  {
   "cell_type": "code",
   "execution_count": null,
   "id": "964c13bc-eae6-4158-a54f-e770de13aecb",
   "metadata": {},
   "outputs": [],
   "source": [
    "cv1_month_splits_[cv1_month_splits_best_model].mean()"
   ]
  },
  {
   "cell_type": "code",
   "execution_count": null,
   "id": "42f8806c-fb5b-4d23-8f33-38229b1ba07b",
   "metadata": {},
   "outputs": [],
   "source": [
    "cv1_month_models[cv1_month_splits_best_model]"
   ]
  },
  {
   "cell_type": "markdown",
   "id": "5f2b5ebd-a9e9-46d4-8a45-4d6b0157fcb5",
   "metadata": {},
   "source": [
    "#### Final Model"
   ]
  },
  {
   "cell_type": "code",
   "execution_count": null,
   "id": "b4038ba0-3607-44a6-9e6a-f615354aaa3f",
   "metadata": {},
   "outputs": [],
   "source": [
    "arima1_month = cv1_month_models[cv1_month_splits_best_model]"
   ]
  },
  {
   "cell_type": "code",
   "execution_count": null,
   "id": "8bf98d5d-5b93-4a2d-8654-5cd563a3c3c8",
   "metadata": {},
   "outputs": [],
   "source": [
    "cv1_month_splits_desriptive_top.loc[cv1_month_splits_best_model]"
   ]
  },
  {
   "cell_type": "code",
   "execution_count": null,
   "id": "b8aa4efd-b9e4-47be-a736-ae0aaa5dd088",
   "metadata": {},
   "outputs": [],
   "source": [
    "cv1_month_splits['model149']"
   ]
  },
  {
   "cell_type": "code",
   "execution_count": null,
   "id": "c3d3a5ee-69d1-43d8-9ca4-7fc459ee5bf6",
   "metadata": {},
   "outputs": [],
   "source": [
    "arima1_month"
   ]
  },
  {
   "cell_type": "markdown",
   "id": "6040ccf7-1f69-4e33-a107-0b0e2d97efef",
   "metadata": {},
   "source": [
    "### ARIMA with exogs variables"
   ]
  },
  {
   "cell_type": "code",
   "execution_count": null,
   "id": "078008d3-4750-41ec-9b5e-96b5b21d7548",
   "metadata": {},
   "outputs": [],
   "source": [
    "# NULL: non-stationarity\n",
    "sm.tsa.stattools.adfuller(train.loc['2017-07-01':, 'target1_previous_month'])"
   ]
  },
  {
   "cell_type": "code",
   "execution_count": null,
   "id": "233767f5-d7d3-4f98-ae06-634984c1f49f",
   "metadata": {},
   "outputs": [],
   "source": [
    "features = [\n",
    "    'temperature', 'humidity', 'windspeed', 'minute', 'hour', 'weekday', \n",
    "    'is_Friday', 'is_Sunday', 'is_31', 'target1_previous_month', 'minute_of_day']"
   ]
  },
  {
   "cell_type": "code",
   "execution_count": null,
   "id": "b3087287-67e8-4e55-aafe-ac202f87aff0",
   "metadata": {},
   "outputs": [],
   "source": [
    "features = ['is_Friday', 'is_Sunday', 'is_31', 'target1_previous_month']"
   ]
  },
  {
   "cell_type": "markdown",
   "id": "f2c7a992-1fe6-4fa5-8e32-e4ff926cd090",
   "metadata": {},
   "source": [
    "### Forecasts"
   ]
  },
  {
   "cell_type": "code",
   "execution_count": null,
   "id": "56bf436e-c043-4dfd-aa26-aeae180ba4b7",
   "metadata": {},
   "outputs": [],
   "source": [
    "arima_month_order = arima1_month[0]\n",
    "arima_month_fourier_period = arima1_month[1]\n",
    "arima_month_fourier_order = arima1_month[2]"
   ]
  },
  {
   "cell_type": "code",
   "execution_count": null,
   "id": "39879b6a-3871-4782-9f37-a42894882abf",
   "metadata": {},
   "outputs": [],
   "source": [
    "arima_month_order, arima_month_fourier_period, arima_month_fourier_order"
   ]
  },
  {
   "cell_type": "markdown",
   "id": "ea5c1145-935c-4574-b8b0-f9a852f7b4a3",
   "metadata": {},
   "source": [
    "#### August forecast"
   ]
  },
  {
   "cell_type": "code",
   "execution_count": null,
   "id": "36d55ccb-aa43-4e34-9593-a41f4e98e17b",
   "metadata": {},
   "outputs": [],
   "source": [
    "arima_month_order = (4, 1, 2)\n",
    "arima_month_fourier_period = [144, 72, 48, 36]\n",
    "arima_month_fourier_order = [5]*len(arima_month_fourier_period)"
   ]
  },
  {
   "cell_type": "code",
   "execution_count": null,
   "id": "d6519661-94f4-43c6-aaa9-4c8aeec3fc8c",
   "metadata": {},
   "outputs": [],
   "source": [
    "train_august_month = train.loc['2017-07-01':, 'target1'].copy()"
   ]
  },
  {
   "cell_type": "code",
   "execution_count": null,
   "id": "d34d929b-21fc-4170-9295-55342b554bb9",
   "metadata": {},
   "outputs": [],
   "source": [
    "train_august_month_exogs_df = train.loc['2017-07-01':, features].copy()"
   ]
  },
  {
   "cell_type": "code",
   "execution_count": null,
   "id": "e05657e3-6166-4d98-9549-864567e035da",
   "metadata": {},
   "outputs": [],
   "source": [
    "test_august_month = valid['target1'].copy()"
   ]
  },
  {
   "cell_type": "code",
   "execution_count": null,
   "id": "99a82321-3983-43f6-ab16-d99f3faf9474",
   "metadata": {},
   "outputs": [],
   "source": [
    "test_august_month_exogs_df = valid.loc['2017-08-01':, features].copy()"
   ]
  },
  {
   "cell_type": "code",
   "execution_count": null,
   "id": "44018e3e-131c-4407-80bb-b5af9230aa00",
   "metadata": {},
   "outputs": [],
   "source": [
    "train_august_month_exogs, test_august_month_exogs = \\\n",
    "    ts_arima_fourier_get_exogs(\n",
    "        fourier_period=arima_month_fourier_period,\n",
    "        fourier_order=arima_month_fourier_order,\n",
    "        train_data=train_august_month,\n",
    "        test_data=test_august_month)"
   ]
  },
  {
   "cell_type": "code",
   "execution_count": null,
   "id": "1b97fe70-4d99-4a3d-997e-2bf2d0852c04",
   "metadata": {},
   "outputs": [],
   "source": [
    "test_august_month_exogs = test_august_month_exogs.join(\n",
    "    test_august_month_exogs_df\n",
    ")"
   ]
  },
  {
   "cell_type": "code",
   "execution_count": null,
   "id": "aa32e96c-efc0-4553-9c7f-a6176571f578",
   "metadata": {},
   "outputs": [],
   "source": [
    "%%time\n",
    "model_month = fit_model_with_fourier(\n",
    "    order=arima_month_order,\n",
    "    fourier_period=arima_month_fourier_period,\n",
    "    fourier_order=arima_month_fourier_order,\n",
    "    train_data=train_august_month,\n",
    "    exog=train_august_month_exogs_df\n",
    ")"
   ]
  },
  {
   "cell_type": "code",
   "execution_count": null,
   "id": "e9025c55-4c5a-44d6-aa4a-9f336a2b9c01",
   "metadata": {},
   "outputs": [],
   "source": [
    "forecast_month = model_month.get_forecast(steps=len(test_august_month), exog=test_august_month_exogs)"
   ]
  },
  {
   "cell_type": "code",
   "execution_count": null,
   "id": "58be209f-fdfd-4c7e-a5ff-a0eca4b32c9b",
   "metadata": {},
   "outputs": [],
   "source": [
    "y_pred = forecast_month.predicted_mean"
   ]
  },
  {
   "cell_type": "markdown",
   "id": "03c16b20-46cd-4727-9fc1-f3e0d7281b3a",
   "metadata": {},
   "source": [
    "###### MAE"
   ]
  },
  {
   "cell_type": "code",
   "execution_count": null,
   "id": "7f2feb52-ddad-41b4-8c5c-0e9139189df5",
   "metadata": {},
   "outputs": [],
   "source": [
    "mean_absolute_error(test_august_month, y_pred)"
   ]
  },
  {
   "cell_type": "markdown",
   "id": "d1f3799f-f2f2-45f3-8005-0729bcace19a",
   "metadata": {},
   "source": [
    "###### MAPE"
   ]
  },
  {
   "cell_type": "code",
   "execution_count": null,
   "id": "7d0329fe-1174-402d-9165-8e9bcdfbda17",
   "metadata": {},
   "outputs": [],
   "source": [
    "mean_absolute_percentage_error(test_august_month, y_pred) * 100"
   ]
  },
  {
   "cell_type": "markdown",
   "id": "dd9ed305-964a-496e-a9c2-bb1ea4be074a",
   "metadata": {},
   "source": [
    "###### RMSE"
   ]
  },
  {
   "cell_type": "code",
   "execution_count": null,
   "id": "9bfd88cb-4369-4293-b422-0ce8f802988f",
   "metadata": {},
   "outputs": [],
   "source": [
    "root_mean_squared_error(y_true, y_pred)"
   ]
  },
  {
   "cell_type": "code",
   "execution_count": null,
   "id": "6c8da20f-78c3-4f1a-9a5e-a55647c5488b",
   "metadata": {},
   "outputs": [],
   "source": [
    "fig = plt.figure()\n",
    "\n",
    "ts_plot_arima_forecast(\n",
    "    model=model_month, steps=len(test_august_month),\n",
    "    data=train_august_month.to_frame(), exog=test_august_month_exogs)\n",
    "plt.plot(test_august_month, color=palette[0], alpha=0.75)\n",
    "\n",
    "ax_current().set_xlim(dt.date(2017, 7, 30))\n",
    "ax_current().set_ylim(-10000, 90000)\n",
    "ax_current().set_xticks(ticks=pd.date_range(start='2017-07-29', end='2017-09-01', freq='2d'))\n",
    "ax_current().xaxis.set_major_formatter(mpl.dates.DateFormatter(fmt='%m-%d'))\n",
    "axis_rstyle(yticks=[-10000, 100000], offset_left=10)\n",
    "\n",
    "savefig('forecast_august_plot', dir_save_img)"
   ]
  },
  {
   "cell_type": "code",
   "execution_count": null,
   "id": "4eb86a52-0610-498b-bc3b-4502fdc52031",
   "metadata": {},
   "outputs": [],
   "source": [
    "plt.plot(\n",
    "    y_pred.index,\n",
    "    y_pred,\n",
    "    label='Forecast',\n",
    "    color=saturate_color(palette[1], 1.5))\n",
    "plt.plot(\n",
    "    valid['target1'],\n",
    "    label='Actual',\n",
    "    color=palette[0],\n",
    "    alpha=0.65\n",
    "    );\n",
    "\n",
    "ax_current().set_xticks(ticks=pd.date_range(start='2017-08-01', end='2017-09-01', freq='2d'))\n",
    "ax_current().xaxis.set_major_formatter(mpl.dates.DateFormatter(fmt='%m-%d'))\n",
    "axis_rstyle(ylim=[20000, 60000])\n",
    "plt.legend(**legend_inline(bbox_to_anchor=(0, 0.9)))\n",
    "plt.show()\n",
    "\n",
    "savefig('forecast_august_detailed_plot', dir_save_img)"
   ]
  },
  {
   "cell_type": "code",
   "execution_count": null,
   "id": "a7d34478-a195-4a30-ad53-53387eb34b25",
   "metadata": {},
   "outputs": [],
   "source": [
    "print(model_month.summary())"
   ]
  },
  {
   "cell_type": "markdown",
   "id": "76209b35-a0d3-476f-848a-5b516799a512",
   "metadata": {},
   "source": [
    "### Residuals research"
   ]
  },
  {
   "cell_type": "code",
   "execution_count": null,
   "id": "bc5317f6-cc6b-4c2c-a7e2-dcbfdc363b1e",
   "metadata": {},
   "outputs": [],
   "source": [
    "resid =  y_pred - y_true"
   ]
  },
  {
   "cell_type": "code",
   "execution_count": null,
   "id": "5f805a90-472e-4040-ac1c-bbcdcf549a38",
   "metadata": {},
   "outputs": [],
   "source": [
    "test_normality(resid)"
   ]
  },
  {
   "cell_type": "code",
   "execution_count": null,
   "id": "ddb70ea6-74a3-4af2-8a7f-4e3cede48767",
   "metadata": {},
   "outputs": [],
   "source": [
    "np.std(resid)"
   ]
  },
  {
   "cell_type": "code",
   "execution_count": null,
   "id": "70224bd6-49e1-4765-8e3d-71293d1128a2",
   "metadata": {},
   "outputs": [],
   "source": [
    "len(resid)"
   ]
  },
  {
   "cell_type": "code",
   "execution_count": null,
   "id": "8a6fdf1a-0d7b-404f-a859-24e53d5f05a4",
   "metadata": {},
   "outputs": [],
   "source": [
    "plt.hist(resid, bins=100);"
   ]
  },
  {
   "cell_type": "code",
   "execution_count": null,
   "id": "d5415cee-2f73-4e46-bb79-2a0d75e90264",
   "metadata": {},
   "outputs": [],
   "source": [
    "sns.kdeplot(resid, color=palette[0], label='Residuals');\n",
    "sns.kdeplot(\n",
    "    np.random.normal(0, np.std(resid), len(resid)),\n",
    "    color=palette[0], fill=True, lw=0.01, label='Normal');\n",
    "axis_rstyle()\n",
    "plt.show()\n",
    "\n",
    "savefig('residuals_distribution_plot', dir_save_img)"
   ]
  },
  {
   "cell_type": "code",
   "execution_count": null,
   "id": "91a202a6-19a3-4b75-a671-e8f72cd1fa0b",
   "metadata": {},
   "outputs": [],
   "source": [
    "plt.plot(resid);"
   ]
  },
  {
   "cell_type": "code",
   "execution_count": null,
   "id": "f284f0e5-eb99-415b-9155-2b5da71f4f97",
   "metadata": {},
   "outputs": [],
   "source": [
    "resid_mean = resid.groupby(resid.index.floor('D')).mean()"
   ]
  },
  {
   "cell_type": "code",
   "execution_count": null,
   "id": "8d428410-6386-4b13-bf49-99d4d5e9db7a",
   "metadata": {},
   "outputs": [],
   "source": [
    "resid_mean.sort_values()"
   ]
  },
  {
   "cell_type": "code",
   "execution_count": null,
   "id": "7f0a5b82-52cf-4085-ac5e-ac239fdd0a89",
   "metadata": {},
   "outputs": [],
   "source": [
    "fig, ax = plt.subplots(2, 1, figsize=(8, 4), height_ratios=[2, 1])\n",
    "\n",
    "ax[0].plot(y_pred.index, y_pred, color=palette[1], label='Forecast')\n",
    "ax[0].plot(y_true.index, y_true, color=palette[0], alpha=0.5, label='Actual')\n",
    "\n",
    "ax[0].xaxis.set_major_formatter(mpl.dates.DateFormatter(fmt='%d'))\n",
    "ax[0].xaxis.set_major_locator(mpl.dates.DayLocator())\n",
    "\n",
    "ax[0].set_xlim(y_pred.index[0]-dt.timedelta(days=0.5), y_pred.index[-1]+dt.timedelta(days=1))\n",
    "ax[0].set_ylabel('target1')\n",
    "axis_rstyle(ax=ax[0])\n",
    "ax[0].legend(**legend_inline(bbox_to_anchor=(0, 1.05)))\n",
    "\n",
    "for i in resid_mean.index:\n",
    "    ax[1].plot([i, i], [0, resid_mean[i]], color=palette[-3], lw=1)\n",
    "    ax[1].scatter(i, resid_mean[i], s=15, color=palette[-4], zorder=10)\n",
    "\n",
    "ax[1].plot(\n",
    "    [resid_mean.index[0], resid_mean.index[-1]],\n",
    "    [0, 0],\n",
    "    lw=0.5, ls=':', color=palette[-3])\n",
    "\n",
    "ax[1].xaxis.set_major_formatter(mpl.dates.DateFormatter(fmt='%d'))\n",
    "ax[1].xaxis.set_major_locator(mpl.dates.DayLocator())\n",
    "ax1_axis_sec =  ax[1].secondary_xaxis('bottom')\n",
    "ax1_axis_sec.spines['bottom'].set_visible(False)\n",
    "ax1_axis_sec.tick_params(pad=32, bottom=False, colors='#808080')\n",
    "ax1_axis_sec.xaxis.set_major_locator(mpl.dates.WeekdayLocator(mpl.dates.SU))\n",
    "ax1_axis_sec.xaxis.set_major_formatter(mpl.dates.DateFormatter(fmt='%A'))\n",
    "\n",
    "ax[1].set_xlim(y_pred.index[0]-dt.timedelta(days=1), y_pred.index[-1]+dt.timedelta(days=0.5))\n",
    "ax[1].set_ylabel('Mean residuals')\n",
    "\n",
    "axis_rstyle(xslice=[1, -1], ylim=[-4100, 4000], ax=ax[1])\n",
    "\n",
    "plt.subplots_adjust(hspace=0.5)\n",
    "plt.show()\n",
    "\n",
    "savefig('forecast_august_resid_mean_plot', dir_save_img)"
   ]
  },
  {
   "cell_type": "code",
   "execution_count": null,
   "id": "0e15bbc8-f2a5-456a-84d3-d3c965cb3dfa",
   "metadata": {},
   "outputs": [],
   "source": [
    "fig, ax = plt.subplots(2, 1, figsize=(9, 4), height_ratios=[2, 1])\n",
    "\n",
    "ax[0].plot(\n",
    "    y_pred.loc['2017-08-01':'2017-08-06'],\n",
    "    color=palette[1], label='Forecast')\n",
    "ax[0].plot(\n",
    "    y_true.loc['2017-08-01':'2017-08-06'],\n",
    "    color=palette[0], alpha=0.75, label='Actual')\n",
    "\n",
    "ax[0].xaxis.set_major_formatter(mpl.dates.DateFormatter(fmt='%H h'))\n",
    "ax[0].xaxis.set_major_locator(mpl.dates.HourLocator(byhour=[0, 6, 12, 18]))\n",
    "ax[0].tick_params(axis='x', which='minor', labelsize=7)\n",
    "ax[0].tick_params(axis='x', which='major', pad=15, labelsize=7)\n",
    "axis_sec = ax[0].secondary_xaxis('bottom')\n",
    "axis_sec.spines['bottom'].set_visible(False)\n",
    "axis_sec.tick_params(pad=30, bottom=False, colors='#808080')\n",
    "axis_sec.xaxis.set_major_formatter(mpl.dates.DateFormatter(fmt='%Y-%m-%d'))\n",
    "axis_sec.xaxis.set_major_locator(mpl.dates.HourLocator(byhour=12))\n",
    "axis_rstyle(ax=ax[0], xslice=[1, -1])\n",
    "ax[0].legend(**legend_inline())\n",
    "# ax[0].set_ylabel('target1')\n",
    "\n",
    "for i in resid.loc['2017-08-01':'2017-08-06'].index:\n",
    "    plt.plot(\n",
    "        [i, i], [0, resid[i]], color=palette[-3], lw=0.75)\n",
    "\n",
    "ax[1].xaxis.set_major_formatter(mpl.dates.DateFormatter(fmt='%H h'))\n",
    "ax[1].xaxis.set_major_locator(mpl.dates.HourLocator(byhour=[0, 6, 12, 18]))\n",
    "ax[1].tick_params(axis='x', which='minor', labelsize=7)\n",
    "ax[1].tick_params(axis='x', which='major', pad=15, labelsize=7)\n",
    "axis_sec =  ax[1].secondary_xaxis('bottom')\n",
    "axis_sec.spines['bottom'].set_visible(False)\n",
    "axis_sec.tick_params(pad=30, bottom=False, colors='#808080')\n",
    "axis_sec.xaxis.set_major_formatter(mpl.dates.DateFormatter(fmt='%Y-%m-%d'))\n",
    "axis_sec.xaxis.set_major_locator(mpl.dates.HourLocator(byhour=12))\n",
    "axis_rstyle(xslice=[1, -1], yticks=[-8000, 8000, 4000], ylim=[-8000, 8000], ax=ax[1])\n",
    "# ax[1].set_ylabel('Residuals')\n",
    "\n",
    "plt.subplots_adjust(hspace=0.65)\n",
    "plt.show()\n",
    "\n",
    "savefig('forecast_august_detail_plot_week1', dir_save_img)"
   ]
  },
  {
   "cell_type": "code",
   "execution_count": null,
   "id": "fe4d9eae-5a82-4bb1-b899-f6bc2297aa36",
   "metadata": {},
   "outputs": [],
   "source": [
    "fig, ax = plt.subplots(2, 1, figsize=(9, 4), height_ratios=[2, 1])\n",
    "\n",
    "ax[0].plot(\n",
    "    y_pred.loc['2017-08-07':'2017-08-13'],\n",
    "    color=palette[1], label='Forecast')\n",
    "ax[0].plot(\n",
    "    y_true.loc['2017-08-07':'2017-08-13'],\n",
    "    color=palette[0], alpha=0.75, label='Actual')\n",
    "\n",
    "ax[0].xaxis.set_major_formatter(mpl.dates.DateFormatter(fmt='%H h'))\n",
    "ax[0].xaxis.set_major_locator(mpl.dates.HourLocator(byhour=[0, 6, 12, 18]))\n",
    "ax[0].tick_params(axis='x', which='minor', labelsize=7)\n",
    "ax[0].tick_params(axis='x', which='major', pad=15, labelsize=7)\n",
    "axis_sec = ax[0].secondary_xaxis('bottom')\n",
    "axis_sec.spines['bottom'].set_visible(False)\n",
    "axis_sec.tick_params(pad=30, bottom=False, colors='#808080')\n",
    "axis_sec.xaxis.set_major_formatter(mpl.dates.DateFormatter(fmt='%Y-%m-%d'))\n",
    "axis_sec.xaxis.set_major_locator(mpl.dates.HourLocator(byhour=12))\n",
    "axis_rstyle(ax=ax[0], xslice=[1, -1],)\n",
    "ax[0].legend(**legend_inline())\n",
    "\n",
    "for i in resid.loc['2017-08-07':'2017-08-13'].index:\n",
    "    plt.plot(\n",
    "        [i, i], [0, resid[i]], color=palette[-3], lw=0.75)\n",
    "\n",
    "ax[1].xaxis.set_major_formatter(mpl.dates.DateFormatter(fmt='%H h'))\n",
    "ax[1].xaxis.set_major_locator(mpl.dates.HourLocator(byhour=[0, 6, 12, 18]))\n",
    "ax[1].tick_params(axis='x', which='minor', labelsize=7)\n",
    "ax[1].tick_params(axis='x', which='major', pad=15, labelsize=7)\n",
    "axis_sec =  ax[1].secondary_xaxis('bottom')\n",
    "axis_sec.spines['bottom'].set_visible(False)\n",
    "axis_sec.tick_params(pad=30, bottom=False, colors='#808080')\n",
    "axis_sec.xaxis.set_major_formatter(mpl.dates.DateFormatter(fmt='%Y-%m-%d'))\n",
    "axis_sec.xaxis.set_major_locator(mpl.dates.HourLocator(byhour=12))\n",
    "axis_rstyle(yticks=[-8000, 8000, 4000], ylim=[-8000, 8000], ax=ax[1], xslice=[1, -1])\n",
    "\n",
    "plt.subplots_adjust(hspace=0.65)\n",
    "plt.show()\n",
    "\n",
    "savefig('forecast_august_detail_plot_week2', dir_save_img)"
   ]
  },
  {
   "cell_type": "code",
   "execution_count": null,
   "id": "567007ef-f76a-4896-bf14-6016bf527c34",
   "metadata": {},
   "outputs": [],
   "source": [
    "fig, ax = plt.subplots(2, 1, figsize=(9, 4), height_ratios=[2, 1])\n",
    "\n",
    "ax[0].plot(\n",
    "    y_pred.loc['2017-08-14':'2017-08-20'],\n",
    "    color=palette[1], label='Forecast')\n",
    "ax[0].plot(\n",
    "    y_true.loc['2017-08-14':'2017-08-20'],\n",
    "    color=palette[0], alpha=0.75, label='Actual')\n",
    "\n",
    "ax[0].xaxis.set_major_formatter(mpl.dates.DateFormatter(fmt='%H h'))\n",
    "ax[0].xaxis.set_major_locator(mpl.dates.HourLocator(byhour=[0, 6, 12, 18]))\n",
    "ax[0].tick_params(axis='x', which='minor', labelsize=7)\n",
    "ax[0].tick_params(axis='x', which='major', pad=15, labelsize=7)\n",
    "axis_sec = ax[0].secondary_xaxis('bottom')\n",
    "axis_sec.spines['bottom'].set_visible(False)\n",
    "axis_sec.tick_params(pad=30, bottom=False, colors='#808080')\n",
    "axis_sec.xaxis.set_major_formatter(mpl.dates.DateFormatter(fmt='%Y-%m-%d'))\n",
    "axis_sec.xaxis.set_major_locator(mpl.dates.HourLocator(byhour=12))\n",
    "axis_rstyle(ax=ax[0], xslice=[1, -1],)\n",
    "ax[0].legend(**legend_inline())\n",
    "\n",
    "for i in resid.loc['2017-08-14':'2017-08-20'].index:\n",
    "    plt.plot(\n",
    "        [i, i], [0, resid[i]], color=palette[-3], lw=0.75)\n",
    "\n",
    "ax[1].xaxis.set_major_formatter(mpl.dates.DateFormatter(fmt='%H h'))\n",
    "ax[1].xaxis.set_major_locator(mpl.dates.HourLocator(byhour=[0, 6, 12, 18]))\n",
    "ax[1].tick_params(axis='x', which='minor', labelsize=7)\n",
    "ax[1].tick_params(axis='x', which='major', pad=15, labelsize=7)\n",
    "axis_sec =  ax[1].secondary_xaxis('bottom')\n",
    "axis_sec.spines['bottom'].set_visible(False)\n",
    "axis_sec.tick_params(pad=30, bottom=False, colors='#808080')\n",
    "axis_sec.xaxis.set_major_formatter(mpl.dates.DateFormatter(fmt='%Y-%m-%d'))\n",
    "axis_sec.xaxis.set_major_locator(mpl.dates.HourLocator(byhour=12))\n",
    "axis_rstyle(xslice=[1, -1], yticks=[-8000, 8000, 4000], ylim=[-8000, 8000], ax=ax[1])\n",
    "\n",
    "plt.subplots_adjust(hspace=0.65)\n",
    "plt.show()\n",
    "\n",
    "savefig('forecast_august_detail_plot_week3', dir_save_img)"
   ]
  },
  {
   "cell_type": "code",
   "execution_count": null,
   "id": "14024758-c12c-4c09-8ec7-92b1c38e0528",
   "metadata": {},
   "outputs": [],
   "source": [
    "fig, ax = plt.subplots(2, 1, figsize=(9, 4), height_ratios=[2, 1])\n",
    "\n",
    "ax[0].plot(\n",
    "    y_pred.loc['2017-08-21':'2017-08-27'],\n",
    "    color=palette[1], label='Forecast')\n",
    "ax[0].plot(\n",
    "    y_true.loc['2017-08-21':'2017-08-27'],\n",
    "    color=palette[0], alpha=0.75, label='Actual')\n",
    "\n",
    "ax[0].xaxis.set_major_formatter(mpl.dates.DateFormatter(fmt='%H h'))\n",
    "ax[0].xaxis.set_major_locator(mpl.dates.HourLocator(byhour=[0, 6, 12, 18]))\n",
    "ax[0].tick_params(axis='x', which='minor', labelsize=7)\n",
    "ax[0].tick_params(axis='x', which='major', pad=15, labelsize=7)\n",
    "axis_sec = ax[0].secondary_xaxis('bottom')\n",
    "axis_sec.spines['bottom'].set_visible(False)\n",
    "axis_sec.tick_params(pad=30, bottom=False, colors='#808080')\n",
    "axis_sec.xaxis.set_major_formatter(mpl.dates.DateFormatter(fmt='%Y-%m-%d'))\n",
    "axis_sec.xaxis.set_major_locator(mpl.dates.HourLocator(byhour=12))\n",
    "axis_rstyle(ax=ax[0], xslice=[1, -1],)\n",
    "ax[0].legend(**legend_inline())\n",
    "\n",
    "for i in resid.loc['2017-08-21':'2017-08-27'].index:\n",
    "    plt.plot(\n",
    "        [i, i], [0, resid[i]], color=palette[-3], lw=0.75)\n",
    "\n",
    "ax[1].xaxis.set_major_formatter(mpl.dates.DateFormatter(fmt='%H h'))\n",
    "ax[1].xaxis.set_major_locator(mpl.dates.HourLocator(byhour=[0, 6, 12, 18]))\n",
    "ax[1].tick_params(axis='x', which='minor', labelsize=7)\n",
    "ax[1].tick_params(axis='x', which='major', pad=15, labelsize=7)\n",
    "axis_sec =  ax[1].secondary_xaxis('bottom')\n",
    "axis_sec.spines['bottom'].set_visible(False)\n",
    "axis_sec.tick_params(pad=30, bottom=False, colors='#808080')\n",
    "axis_sec.xaxis.set_major_formatter(mpl.dates.DateFormatter(fmt='%Y-%m-%d'))\n",
    "axis_sec.xaxis.set_major_locator(mpl.dates.DayLocator(arange(21, 27, True)))\n",
    "axis_sec.xaxis.set_major_locator(mpl.dates.HourLocator(byhour=12))\n",
    "axis_rstyle(xslice=[1, -1],yticks=[-8000, 8000, 4000], ylim=[-8000, 8000], ax=ax[1])\n",
    "\n",
    "plt.subplots_adjust(hspace=0.65)\n",
    "plt.show()\n",
    "\n",
    "savefig('forecast_august_detail_plot_week4', dir_save_img)"
   ]
  },
  {
   "cell_type": "code",
   "execution_count": null,
   "id": "458f27dd-8a08-4f41-9943-5f42a4b03da2",
   "metadata": {},
   "outputs": [],
   "source": [
    "fig, ax = plt.subplots(2, 1, figsize=(7, 4), height_ratios=[2, 1])\n",
    "\n",
    "ax[0].plot(\n",
    "    y_pred.loc['2017-08-28':'2017-08-31'],\n",
    "    color=palette[1], label='Forecast')\n",
    "ax[0].plot(\n",
    "    y_true.loc['2017-08-28':'2017-08-31'],\n",
    "    color=palette[0], alpha=0.75, label='Actual')\n",
    "\n",
    "ax[0].xaxis.set_major_formatter(mpl.dates.DateFormatter(fmt='%H h'))\n",
    "ax[0].xaxis.set_major_locator(mpl.dates.HourLocator(byhour=[0, 6, 12, 18]))\n",
    "ax[0].tick_params(axis='x', which='minor', labelsize=7)\n",
    "ax[0].tick_params(axis='x', which='major', pad=15, labelsize=7)\n",
    "axis_sec = ax[0].secondary_xaxis('bottom')\n",
    "axis_sec.spines['bottom'].set_visible(False)\n",
    "axis_sec.tick_params(pad=30, bottom=False, colors='#808080')\n",
    "axis_sec.xaxis.set_major_formatter(mpl.dates.DateFormatter(\n",
    "    fmt='%Y-%m-%d'))\n",
    "axis_sec.xaxis.set_major_locator(mpl.dates.HourLocator(byhour=12))\n",
    "# axis_sec.xaxis.set_major_locator(mpl.dates.DayLocator(arange(28, 31, True)))\n",
    "axis_rstyle(ax=ax[0])\n",
    "ax[0].legend(**legend_inline())\n",
    "\n",
    "for i in resid.loc['2017-08-28':'2017-08-31'].index:\n",
    "    plt.plot(\n",
    "        [i, i], [0, resid[i]], color=palette[-3], lw=0.75)\n",
    "\n",
    "ax[1].xaxis.set_major_formatter(mpl.dates.DateFormatter(fmt='%H h'))\n",
    "ax[1].xaxis.set_major_locator(mpl.dates.HourLocator(byhour=[0, 6, 12, 18]))\n",
    "ax[1].tick_params(axis='x', which='minor', labelsize=7)\n",
    "ax[1].tick_params(axis='x', which='major', pad=15, labelsize=7)\n",
    "axis_sec =  ax[1].secondary_xaxis('bottom')\n",
    "axis_sec.spines['bottom'].set_visible(False)\n",
    "axis_sec.tick_params(pad=30, bottom=False, colors='#808080')\n",
    "axis_sec.xaxis.set_major_formatter(mpl.dates.DateFormatter(fmt='%Y-%m-%d'))\n",
    "axis_sec.xaxis.set_major_locator(mpl.dates.HourLocator(byhour=12))\n",
    "axis_rstyle(yticks=[-8000, 8000, 4000], ylim=[-8000, 8000], ax=ax[1])\n",
    "\n",
    "plt.subplots_adjust(hspace=0.65)\n",
    "plt.show()\n",
    "\n",
    "savefig('forecast_august_detail_plot_week5', dir_save_img)"
   ]
  },
  {
   "cell_type": "markdown",
   "id": "f2d93b24-4eec-4ba1-9389-e1e035039b1f",
   "metadata": {},
   "source": [
    "## Save Data"
   ]
  },
  {
   "cell_type": "raw",
   "id": "9cf778c8-4d7e-4287-a598-69d38c12dcfe",
   "metadata": {},
   "source": [
    "saveit(cv1_results_month_model, 'month_model_cv1_results', dir_save_files)"
   ]
  },
  {
   "cell_type": "markdown",
   "id": "23c1555f-9c9f-46e4-9952-027553fe292d",
   "metadata": {},
   "source": [
    "### Save Session"
   ]
  },
  {
   "cell_type": "code",
   "execution_count": null,
   "id": "544d8ecd-dcb0-44c4-bb5a-887cbba4e9bf",
   "metadata": {},
   "outputs": [],
   "source": [
    "save_session(session_name)"
   ]
  },
  {
   "cell_type": "markdown",
   "id": "0cc9843f-f66f-4535-8114-918e8eca9717",
   "metadata": {},
   "source": [
    "### Execution time"
   ]
  },
  {
   "cell_type": "code",
   "execution_count": null,
   "id": "7296d512-ccdf-46f2-bd89-9be792d545b6",
   "metadata": {},
   "outputs": [],
   "source": [
    "print(f'Execution time: {stopwatch.stop(start)}')"
   ]
  }
 ],
 "metadata": {
  "kernelspec": {
   "display_name": "electric-power-consumption",
   "language": "python",
   "name": "electric-power-consumption"
  },
  "language_info": {
   "codemirror_mode": {
    "name": "ipython",
    "version": 3
   },
   "file_extension": ".py",
   "mimetype": "text/x-python",
   "name": "python",
   "nbconvert_exporter": "python",
   "pygments_lexer": "ipython3",
   "version": "3.12.2"
  }
 },
 "nbformat": 4,
 "nbformat_minor": 5
}
