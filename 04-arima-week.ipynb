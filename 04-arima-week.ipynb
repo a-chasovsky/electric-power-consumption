{
 "cells": [
  {
   "cell_type": "code",
   "execution_count": 1,
   "id": "46eb9422-2fc2-4597-b362-35bd53c40076",
   "metadata": {},
   "outputs": [],
   "source": [
    "# run stopwatch\n",
    "from tools import Stopwatch\n",
    "stopwatch = Stopwatch()\n",
    "start = stopwatch.start()"
   ]
  },
  {
   "cell_type": "markdown",
   "id": "10560257-a9b7-48de-b77e-7f6d39101bff",
   "metadata": {},
   "source": [
    "### Load libraries, functions, palette, theme"
   ]
  },
  {
   "cell_type": "code",
   "execution_count": 2,
   "id": "45e63776-a22f-43f0-a45c-fbd7bdbca39f",
   "metadata": {},
   "outputs": [],
   "source": [
    "%run _libraries.ipynb"
   ]
  },
  {
   "cell_type": "code",
   "execution_count": 211,
   "id": "88e80e71-1dcd-4104-a1aa-e4ed766d9641",
   "metadata": {},
   "outputs": [],
   "source": [
    "%run _functions.ipynb"
   ]
  },
  {
   "cell_type": "code",
   "execution_count": 4,
   "id": "d98d27e8-addb-44b2-8933-5d45f862fc96",
   "metadata": {},
   "outputs": [],
   "source": [
    "current_dir = '04-arima-week'"
   ]
  },
  {
   "cell_type": "code",
   "execution_count": 5,
   "id": "a12037c0-c17f-43c4-a188-d2603584ee39",
   "metadata": {},
   "outputs": [],
   "source": [
    "load_files_dir = '02-feature-engineering'"
   ]
  },
  {
   "cell_type": "code",
   "execution_count": 6,
   "id": "183c90ea-e761-4dd9-a3ae-87612b2de077",
   "metadata": {},
   "outputs": [],
   "source": [
    "save_files = 'files/' + current_dir + '/'"
   ]
  },
  {
   "cell_type": "code",
   "execution_count": 7,
   "id": "e0106945-a3d8-4f29-ae7b-1200560965bd",
   "metadata": {},
   "outputs": [],
   "source": [
    "load_files = 'files/' + load_files_dir + '/'"
   ]
  },
  {
   "cell_type": "code",
   "execution_count": 8,
   "id": "e9ad9875-6266-4333-bbec-95bb82503f0b",
   "metadata": {},
   "outputs": [],
   "source": [
    "save_img = 'docs/img/' + current_dir + '/'"
   ]
  },
  {
   "cell_type": "code",
   "execution_count": 9,
   "id": "238dfce0-52da-4c72-9ea4-b0d7f968b493",
   "metadata": {},
   "outputs": [],
   "source": [
    "session_name = current_dir"
   ]
  },
  {
   "cell_type": "markdown",
   "id": "a1831e13-6c7e-421d-b6d4-7954c50f6d87",
   "metadata": {},
   "source": [
    "# Section III. ARIMA"
   ]
  },
  {
   "cell_type": "markdown",
   "id": "5b10116f-4c0b-4ad7-9179-d457a947f5c9",
   "metadata": {},
   "source": [
    "## Load Saved Section if exists"
   ]
  },
  {
   "cell_type": "raw",
   "id": "a945bf32-3f90-4ed5-89f6-54620a868074",
   "metadata": {},
   "source": [
    "if os.path.exists(f'sessions/{dir_save}'):\n",
    "    load_session(dir_save)\n",
    "else:\n",
    "    print(f\"No such session: 'sessions/{dir_save}'\")"
   ]
  },
  {
   "cell_type": "markdown",
   "id": "ffd71273-a9dc-4ed4-a8dc-9db8bb378dea",
   "metadata": {},
   "source": [
    "## Load Data"
   ]
  },
  {
   "cell_type": "code",
   "execution_count": 10,
   "id": "502ece2c-04fd-4b65-9cd6-778e400e5d29",
   "metadata": {},
   "outputs": [],
   "source": [
    "train = datasets_dict = loadit(\n",
    "    'train', dir=load_files)"
   ]
  },
  {
   "cell_type": "code",
   "execution_count": 11,
   "id": "48cd59dc-9d17-4b5e-86f0-b248513278d9",
   "metadata": {},
   "outputs": [],
   "source": [
    "valid = datasets_dict = loadit(\n",
    "    'valid', dir=load_files)"
   ]
  },
  {
   "cell_type": "code",
   "execution_count": 12,
   "id": "ac02e11f-abe0-4bb3-bbee-d88c4bfb7459",
   "metadata": {},
   "outputs": [],
   "source": [
    "test = datasets_dict = loadit(\n",
    "    'test', dir=load_files)"
   ]
  },
  {
   "cell_type": "markdown",
   "id": "f4190c35-088f-4e1c-bc38-8aceb9ebcbb7",
   "metadata": {},
   "source": [
    "## Model 2: Weekly model"
   ]
  },
  {
   "cell_type": "markdown",
   "id": "c8b7ffcc-6f4b-4a1a-a5a9-03df40b85f33",
   "metadata": {},
   "source": [
    "### ARIMA without exogs variables"
   ]
  },
  {
   "cell_type": "code",
   "execution_count": 25,
   "id": "03e0302b-4bbf-4609-a18f-0f9e49934929",
   "metadata": {},
   "outputs": [
    {
     "data": {
      "text/plain": [
       "11"
      ]
     },
     "execution_count": 25,
     "metadata": {},
     "output_type": "execute_result"
    }
   ],
   "source": [
    "len(train.loc['2017-05-22':]['week'].unique())"
   ]
  },
  {
   "cell_type": "code",
   "execution_count": 26,
   "id": "a0416745-e660-4d95-b6ed-73b592c6ab86",
   "metadata": {},
   "outputs": [],
   "source": [
    "cv1_indexes_train, cv1_indexes_test = cv_split_indexes(\n",
    "    data=train['target1'], start='2017-05-22', train_size=2, test_size=1, size_unit='weeks', n_splits=10, freq='10min')"
   ]
  },
  {
   "cell_type": "code",
   "execution_count": 29,
   "id": "6313deff-6399-4fad-aee6-dc1231dafa72",
   "metadata": {},
   "outputs": [
    {
     "data": {
      "text/plain": [
       "DatetimeIndex(['2017-05-08 00:00:00', '2017-05-08 00:10:00',\n",
       "               '2017-05-08 00:20:00', '2017-05-08 00:30:00',\n",
       "               '2017-05-08 00:40:00', '2017-05-08 00:50:00',\n",
       "               '2017-05-08 01:00:00', '2017-05-08 01:10:00',\n",
       "               '2017-05-08 01:20:00', '2017-05-08 01:30:00',\n",
       "               ...\n",
       "               '2017-05-21 22:20:00', '2017-05-21 22:30:00',\n",
       "               '2017-05-21 22:40:00', '2017-05-21 22:50:00',\n",
       "               '2017-05-21 23:00:00', '2017-05-21 23:10:00',\n",
       "               '2017-05-21 23:20:00', '2017-05-21 23:30:00',\n",
       "               '2017-05-21 23:40:00', '2017-05-21 23:50:00'],\n",
       "              dtype='datetime64[ns]', length=2016, freq='10min')"
      ]
     },
     "execution_count": 29,
     "metadata": {},
     "output_type": "execute_result"
    }
   ],
   "source": [
    "cv1_indexes_train[0]"
   ]
  },
  {
   "cell_type": "code",
   "execution_count": 30,
   "id": "1fd4e8a2-0740-4161-a8c1-8c49aa030cdf",
   "metadata": {},
   "outputs": [
    {
     "data": {
      "text/plain": [
       "DatetimeIndex(['2017-05-22 00:00:00', '2017-05-22 00:10:00',\n",
       "               '2017-05-22 00:20:00', '2017-05-22 00:30:00',\n",
       "               '2017-05-22 00:40:00', '2017-05-22 00:50:00',\n",
       "               '2017-05-22 01:00:00', '2017-05-22 01:10:00',\n",
       "               '2017-05-22 01:20:00', '2017-05-22 01:30:00',\n",
       "               ...\n",
       "               '2017-05-28 22:20:00', '2017-05-28 22:30:00',\n",
       "               '2017-05-28 22:40:00', '2017-05-28 22:50:00',\n",
       "               '2017-05-28 23:00:00', '2017-05-28 23:10:00',\n",
       "               '2017-05-28 23:20:00', '2017-05-28 23:30:00',\n",
       "               '2017-05-28 23:40:00', '2017-05-28 23:50:00'],\n",
       "              dtype='datetime64[ns]', length=1008, freq='10min')"
      ]
     },
     "execution_count": 30,
     "metadata": {},
     "output_type": "execute_result"
    }
   ],
   "source": [
    "cv1_indexes_test[0]"
   ]
  },
  {
   "cell_type": "code",
   "execution_count": 31,
   "id": "bc7b8725-6ce3-45fd-a0ea-1a904ca94d7e",
   "metadata": {},
   "outputs": [
    {
     "data": {
      "text/plain": [
       "DatetimeIndex(['2017-07-10 00:00:00', '2017-07-10 00:10:00',\n",
       "               '2017-07-10 00:20:00', '2017-07-10 00:30:00',\n",
       "               '2017-07-10 00:40:00', '2017-07-10 00:50:00',\n",
       "               '2017-07-10 01:00:00', '2017-07-10 01:10:00',\n",
       "               '2017-07-10 01:20:00', '2017-07-10 01:30:00',\n",
       "               ...\n",
       "               '2017-07-23 22:20:00', '2017-07-23 22:30:00',\n",
       "               '2017-07-23 22:40:00', '2017-07-23 22:50:00',\n",
       "               '2017-07-23 23:00:00', '2017-07-23 23:10:00',\n",
       "               '2017-07-23 23:20:00', '2017-07-23 23:30:00',\n",
       "               '2017-07-23 23:40:00', '2017-07-23 23:50:00'],\n",
       "              dtype='datetime64[ns]', length=2016, freq='10min')"
      ]
     },
     "execution_count": 31,
     "metadata": {},
     "output_type": "execute_result"
    }
   ],
   "source": [
    "cv1_indexes_train[-1]"
   ]
  },
  {
   "cell_type": "code",
   "execution_count": 32,
   "id": "9ed1ac96-fb73-4ab6-b1cf-713dc32b8a24",
   "metadata": {},
   "outputs": [
    {
     "data": {
      "text/plain": [
       "DatetimeIndex(['2017-07-24 00:00:00', '2017-07-24 00:10:00',\n",
       "               '2017-07-24 00:20:00', '2017-07-24 00:30:00',\n",
       "               '2017-07-24 00:40:00', '2017-07-24 00:50:00',\n",
       "               '2017-07-24 01:00:00', '2017-07-24 01:10:00',\n",
       "               '2017-07-24 01:20:00', '2017-07-24 01:30:00',\n",
       "               ...\n",
       "               '2017-07-30 22:20:00', '2017-07-30 22:30:00',\n",
       "               '2017-07-30 22:40:00', '2017-07-30 22:50:00',\n",
       "               '2017-07-30 23:00:00', '2017-07-30 23:10:00',\n",
       "               '2017-07-30 23:20:00', '2017-07-30 23:30:00',\n",
       "               '2017-07-30 23:40:00', '2017-07-30 23:50:00'],\n",
       "              dtype='datetime64[ns]', length=1008, freq='10min')"
      ]
     },
     "execution_count": 32,
     "metadata": {},
     "output_type": "execute_result"
    }
   ],
   "source": [
    "cv1_indexes_test[-1]"
   ]
  },
  {
   "cell_type": "code",
   "execution_count": 34,
   "id": "e454c055-fb59-48ce-b907-72a4d23c3d42",
   "metadata": {},
   "outputs": [
    {
     "name": "stdout",
     "output_type": "stream",
     "text": [
      "Execution time: 0:53:01\n"
     ]
    }
   ],
   "source": [
    "cv1_results_week_model = cv_model_evaluation(\n",
    "    data=train['target1'], start='2017-05-22', train_size=2, test_size=1, size_unit='weeks', n_splits=10, freq='10min',\n",
    "    orders=[(1,1,2), (3,1,1)], fourier_periods=[[144], [144, 72]], fourier_orders=arange(1, 6, True))"
   ]
  },
  {
   "cell_type": "code",
   "execution_count": 97,
   "id": "cbf6470f-f697-469d-98a8-589d19e03609",
   "metadata": {},
   "outputs": [],
   "source": [
    "cv1_week_models = cv1_results_week_model['models'].copy()"
   ]
  },
  {
   "cell_type": "code",
   "execution_count": 98,
   "id": "2eb7fdb6-ba03-4f29-bcc5-b0aaa0d5c33f",
   "metadata": {},
   "outputs": [],
   "source": [
    "cv1_week_splits = pd.DataFrame(cv1_results_week_model['splits'])"
   ]
  },
  {
   "cell_type": "code",
   "execution_count": 99,
   "id": "ae391c0e-d404-4e5d-8367-06fa0b49bcb0",
   "metadata": {},
   "outputs": [
    {
     "data": {
      "text/html": [
       "<div>\n",
       "<style scoped>\n",
       "    .dataframe tbody tr th:only-of-type {\n",
       "        vertical-align: middle;\n",
       "    }\n",
       "\n",
       "    .dataframe tbody tr th {\n",
       "        vertical-align: top;\n",
       "    }\n",
       "\n",
       "    .dataframe thead th {\n",
       "        text-align: right;\n",
       "    }\n",
       "</style>\n",
       "<table border=\"1\" class=\"dataframe\">\n",
       "  <thead>\n",
       "    <tr style=\"text-align: right;\">\n",
       "      <th></th>\n",
       "      <th>model0</th>\n",
       "      <th>model1</th>\n",
       "      <th>model2</th>\n",
       "      <th>model3</th>\n",
       "      <th>model4</th>\n",
       "      <th>model5</th>\n",
       "      <th>model6</th>\n",
       "      <th>model7</th>\n",
       "      <th>model8</th>\n",
       "      <th>model9</th>\n",
       "      <th>...</th>\n",
       "      <th>model74</th>\n",
       "      <th>model75</th>\n",
       "      <th>model76</th>\n",
       "      <th>model77</th>\n",
       "      <th>model78</th>\n",
       "      <th>model79</th>\n",
       "      <th>model80</th>\n",
       "      <th>model81</th>\n",
       "      <th>model82</th>\n",
       "      <th>model83</th>\n",
       "    </tr>\n",
       "  </thead>\n",
       "  <tbody>\n",
       "    <tr>\n",
       "      <th>0</th>\n",
       "      <td>0.146836</td>\n",
       "      <td>0.170845</td>\n",
       "      <td>0.110812</td>\n",
       "      <td>0.095812</td>\n",
       "      <td>0.097985</td>\n",
       "      <td>0.103619</td>\n",
       "      <td>0.170845</td>\n",
       "      <td>0.119474</td>\n",
       "      <td>0.131224</td>\n",
       "      <td>0.124150</td>\n",
       "      <td>...</td>\n",
       "      <td>0.094090</td>\n",
       "      <td>0.093841</td>\n",
       "      <td>0.093877</td>\n",
       "      <td>0.094151</td>\n",
       "      <td>0.094090</td>\n",
       "      <td>0.094090</td>\n",
       "      <td>0.094090</td>\n",
       "      <td>0.093841</td>\n",
       "      <td>0.093877</td>\n",
       "      <td>0.094151</td>\n",
       "    </tr>\n",
       "    <tr>\n",
       "      <th>1</th>\n",
       "      <td>0.147520</td>\n",
       "      <td>0.138376</td>\n",
       "      <td>0.141517</td>\n",
       "      <td>0.157638</td>\n",
       "      <td>0.163665</td>\n",
       "      <td>0.153576</td>\n",
       "      <td>0.138376</td>\n",
       "      <td>0.137659</td>\n",
       "      <td>0.134051</td>\n",
       "      <td>0.135476</td>\n",
       "      <td>...</td>\n",
       "      <td>0.153345</td>\n",
       "      <td>0.156301</td>\n",
       "      <td>0.157578</td>\n",
       "      <td>0.154574</td>\n",
       "      <td>0.153345</td>\n",
       "      <td>0.153345</td>\n",
       "      <td>0.153345</td>\n",
       "      <td>0.156301</td>\n",
       "      <td>0.157578</td>\n",
       "      <td>0.154574</td>\n",
       "    </tr>\n",
       "    <tr>\n",
       "      <th>2</th>\n",
       "      <td>0.119014</td>\n",
       "      <td>0.095487</td>\n",
       "      <td>0.081481</td>\n",
       "      <td>0.095207</td>\n",
       "      <td>0.101589</td>\n",
       "      <td>0.093943</td>\n",
       "      <td>0.095487</td>\n",
       "      <td>0.081231</td>\n",
       "      <td>0.079736</td>\n",
       "      <td>0.079649</td>\n",
       "      <td>...</td>\n",
       "      <td>0.093308</td>\n",
       "      <td>0.094505</td>\n",
       "      <td>0.092977</td>\n",
       "      <td>0.093876</td>\n",
       "      <td>0.093308</td>\n",
       "      <td>0.093308</td>\n",
       "      <td>0.093308</td>\n",
       "      <td>0.094505</td>\n",
       "      <td>0.092977</td>\n",
       "      <td>0.093876</td>\n",
       "    </tr>\n",
       "    <tr>\n",
       "      <th>3</th>\n",
       "      <td>0.102957</td>\n",
       "      <td>0.120887</td>\n",
       "      <td>0.072598</td>\n",
       "      <td>0.044606</td>\n",
       "      <td>0.043625</td>\n",
       "      <td>0.053574</td>\n",
       "      <td>0.120887</td>\n",
       "      <td>0.080563</td>\n",
       "      <td>0.084116</td>\n",
       "      <td>0.085030</td>\n",
       "      <td>...</td>\n",
       "      <td>0.048699</td>\n",
       "      <td>0.048808</td>\n",
       "      <td>0.049485</td>\n",
       "      <td>0.048686</td>\n",
       "      <td>0.048699</td>\n",
       "      <td>0.048699</td>\n",
       "      <td>0.048699</td>\n",
       "      <td>0.048808</td>\n",
       "      <td>0.049485</td>\n",
       "      <td>0.048686</td>\n",
       "    </tr>\n",
       "    <tr>\n",
       "      <th>4</th>\n",
       "      <td>0.108758</td>\n",
       "      <td>0.123939</td>\n",
       "      <td>0.082222</td>\n",
       "      <td>0.049116</td>\n",
       "      <td>0.077922</td>\n",
       "      <td>0.073566</td>\n",
       "      <td>0.123939</td>\n",
       "      <td>0.084252</td>\n",
       "      <td>0.088505</td>\n",
       "      <td>0.089303</td>\n",
       "      <td>...</td>\n",
       "      <td>0.065906</td>\n",
       "      <td>0.065404</td>\n",
       "      <td>0.066638</td>\n",
       "      <td>0.066365</td>\n",
       "      <td>0.065906</td>\n",
       "      <td>0.065906</td>\n",
       "      <td>0.065906</td>\n",
       "      <td>0.065404</td>\n",
       "      <td>0.066638</td>\n",
       "      <td>0.066365</td>\n",
       "    </tr>\n",
       "    <tr>\n",
       "      <th>5</th>\n",
       "      <td>0.260960</td>\n",
       "      <td>0.150429</td>\n",
       "      <td>0.182743</td>\n",
       "      <td>0.212203</td>\n",
       "      <td>0.222378</td>\n",
       "      <td>0.193224</td>\n",
       "      <td>0.150429</td>\n",
       "      <td>0.178954</td>\n",
       "      <td>0.175628</td>\n",
       "      <td>0.175159</td>\n",
       "      <td>...</td>\n",
       "      <td>0.205296</td>\n",
       "      <td>0.206134</td>\n",
       "      <td>0.205009</td>\n",
       "      <td>0.205009</td>\n",
       "      <td>0.205295</td>\n",
       "      <td>0.205296</td>\n",
       "      <td>0.205296</td>\n",
       "      <td>0.206135</td>\n",
       "      <td>0.205013</td>\n",
       "      <td>0.205009</td>\n",
       "    </tr>\n",
       "    <tr>\n",
       "      <th>6</th>\n",
       "      <td>0.186066</td>\n",
       "      <td>0.273986</td>\n",
       "      <td>0.231958</td>\n",
       "      <td>0.183380</td>\n",
       "      <td>0.170493</td>\n",
       "      <td>0.179758</td>\n",
       "      <td>0.273986</td>\n",
       "      <td>0.220321</td>\n",
       "      <td>0.230890</td>\n",
       "      <td>0.230729</td>\n",
       "      <td>...</td>\n",
       "      <td>0.179819</td>\n",
       "      <td>0.180293</td>\n",
       "      <td>0.179538</td>\n",
       "      <td>0.182876</td>\n",
       "      <td>0.179819</td>\n",
       "      <td>0.179819</td>\n",
       "      <td>0.179819</td>\n",
       "      <td>0.180293</td>\n",
       "      <td>0.179538</td>\n",
       "      <td>0.182876</td>\n",
       "    </tr>\n",
       "    <tr>\n",
       "      <th>7</th>\n",
       "      <td>0.165648</td>\n",
       "      <td>0.252116</td>\n",
       "      <td>0.205345</td>\n",
       "      <td>0.154250</td>\n",
       "      <td>0.143204</td>\n",
       "      <td>0.156920</td>\n",
       "      <td>0.252116</td>\n",
       "      <td>0.194763</td>\n",
       "      <td>0.210945</td>\n",
       "      <td>0.208983</td>\n",
       "      <td>...</td>\n",
       "      <td>0.156504</td>\n",
       "      <td>0.155194</td>\n",
       "      <td>0.147600</td>\n",
       "      <td>0.151605</td>\n",
       "      <td>0.156502</td>\n",
       "      <td>0.156503</td>\n",
       "      <td>0.156501</td>\n",
       "      <td>0.155193</td>\n",
       "      <td>0.147601</td>\n",
       "      <td>0.151606</td>\n",
       "    </tr>\n",
       "    <tr>\n",
       "      <th>8</th>\n",
       "      <td>0.117039</td>\n",
       "      <td>0.123558</td>\n",
       "      <td>0.080882</td>\n",
       "      <td>0.052375</td>\n",
       "      <td>0.053841</td>\n",
       "      <td>0.057550</td>\n",
       "      <td>0.123558</td>\n",
       "      <td>0.075910</td>\n",
       "      <td>0.085753</td>\n",
       "      <td>0.083864</td>\n",
       "      <td>...</td>\n",
       "      <td>0.052043</td>\n",
       "      <td>0.051840</td>\n",
       "      <td>0.051640</td>\n",
       "      <td>0.053587</td>\n",
       "      <td>0.052043</td>\n",
       "      <td>0.052043</td>\n",
       "      <td>0.052043</td>\n",
       "      <td>0.051839</td>\n",
       "      <td>0.051639</td>\n",
       "      <td>0.053601</td>\n",
       "    </tr>\n",
       "    <tr>\n",
       "      <th>9</th>\n",
       "      <td>0.115853</td>\n",
       "      <td>0.147388</td>\n",
       "      <td>0.090255</td>\n",
       "      <td>0.046321</td>\n",
       "      <td>0.042499</td>\n",
       "      <td>0.050033</td>\n",
       "      <td>0.147388</td>\n",
       "      <td>0.090033</td>\n",
       "      <td>0.106789</td>\n",
       "      <td>0.103776</td>\n",
       "      <td>...</td>\n",
       "      <td>0.056095</td>\n",
       "      <td>0.055748</td>\n",
       "      <td>0.054037</td>\n",
       "      <td>0.055650</td>\n",
       "      <td>0.056095</td>\n",
       "      <td>0.056095</td>\n",
       "      <td>0.056104</td>\n",
       "      <td>0.055749</td>\n",
       "      <td>0.054037</td>\n",
       "      <td>0.055651</td>\n",
       "    </tr>\n",
       "  </tbody>\n",
       "</table>\n",
       "<p>10 rows × 84 columns</p>\n",
       "</div>"
      ],
      "text/plain": [
       "     model0    model1    model2    model3    model4    model5    model6  \\\n",
       "0  0.146836  0.170845  0.110812  0.095812  0.097985  0.103619  0.170845   \n",
       "1  0.147520  0.138376  0.141517  0.157638  0.163665  0.153576  0.138376   \n",
       "2  0.119014  0.095487  0.081481  0.095207  0.101589  0.093943  0.095487   \n",
       "3  0.102957  0.120887  0.072598  0.044606  0.043625  0.053574  0.120887   \n",
       "4  0.108758  0.123939  0.082222  0.049116  0.077922  0.073566  0.123939   \n",
       "5  0.260960  0.150429  0.182743  0.212203  0.222378  0.193224  0.150429   \n",
       "6  0.186066  0.273986  0.231958  0.183380  0.170493  0.179758  0.273986   \n",
       "7  0.165648  0.252116  0.205345  0.154250  0.143204  0.156920  0.252116   \n",
       "8  0.117039  0.123558  0.080882  0.052375  0.053841  0.057550  0.123558   \n",
       "9  0.115853  0.147388  0.090255  0.046321  0.042499  0.050033  0.147388   \n",
       "\n",
       "     model7    model8    model9  ...   model74   model75   model76   model77  \\\n",
       "0  0.119474  0.131224  0.124150  ...  0.094090  0.093841  0.093877  0.094151   \n",
       "1  0.137659  0.134051  0.135476  ...  0.153345  0.156301  0.157578  0.154574   \n",
       "2  0.081231  0.079736  0.079649  ...  0.093308  0.094505  0.092977  0.093876   \n",
       "3  0.080563  0.084116  0.085030  ...  0.048699  0.048808  0.049485  0.048686   \n",
       "4  0.084252  0.088505  0.089303  ...  0.065906  0.065404  0.066638  0.066365   \n",
       "5  0.178954  0.175628  0.175159  ...  0.205296  0.206134  0.205009  0.205009   \n",
       "6  0.220321  0.230890  0.230729  ...  0.179819  0.180293  0.179538  0.182876   \n",
       "7  0.194763  0.210945  0.208983  ...  0.156504  0.155194  0.147600  0.151605   \n",
       "8  0.075910  0.085753  0.083864  ...  0.052043  0.051840  0.051640  0.053587   \n",
       "9  0.090033  0.106789  0.103776  ...  0.056095  0.055748  0.054037  0.055650   \n",
       "\n",
       "    model78   model79   model80   model81   model82   model83  \n",
       "0  0.094090  0.094090  0.094090  0.093841  0.093877  0.094151  \n",
       "1  0.153345  0.153345  0.153345  0.156301  0.157578  0.154574  \n",
       "2  0.093308  0.093308  0.093308  0.094505  0.092977  0.093876  \n",
       "3  0.048699  0.048699  0.048699  0.048808  0.049485  0.048686  \n",
       "4  0.065906  0.065906  0.065906  0.065404  0.066638  0.066365  \n",
       "5  0.205295  0.205296  0.205296  0.206135  0.205013  0.205009  \n",
       "6  0.179819  0.179819  0.179819  0.180293  0.179538  0.182876  \n",
       "7  0.156502  0.156503  0.156501  0.155193  0.147601  0.151606  \n",
       "8  0.052043  0.052043  0.052043  0.051839  0.051639  0.053601  \n",
       "9  0.056095  0.056095  0.056104  0.055749  0.054037  0.055651  \n",
       "\n",
       "[10 rows x 84 columns]"
      ]
     },
     "execution_count": 99,
     "metadata": {},
     "output_type": "execute_result"
    }
   ],
   "source": [
    "cv1_week_splits"
   ]
  },
  {
   "cell_type": "code",
   "execution_count": 100,
   "id": "b82ae880-4522-49b2-9295-29d3f32897b0",
   "metadata": {},
   "outputs": [],
   "source": [
    "cv1_week_splits_desriptive = pd.DataFrame(index=cv1_week_splits.columns)"
   ]
  },
  {
   "cell_type": "code",
   "execution_count": 101,
   "id": "af3ea0ba-17b2-4a61-b6a9-ef8ed844c121",
   "metadata": {},
   "outputs": [],
   "source": [
    "cv1_week_splits_desriptive['mean'] = cv1_week_splits.mean()\n",
    "cv1_week_splits_desriptive['std'] = cv1_week_splits.std()\n",
    "# cv1_week_splits_desriptive['margin_up'] = \\\n",
    "#     cv1_week_splits_desriptive['mean'] + 1.96*cv1_week_splits_desriptive['std']/np.sqrt(5)\n",
    "# cv1_week_splits_desriptive['margin_low'] = \\\n",
    "#     cv1_week_splits_desriptive['mean'] - 1.96*cv1_week_splits_desriptive['std']/np.sqrt(5)"
   ]
  },
  {
   "cell_type": "code",
   "execution_count": 102,
   "id": "f120a613-b138-43db-829c-baec5b2bbd22",
   "metadata": {},
   "outputs": [],
   "source": [
    "cv1_week_splits_top_models = cv1_week_splits_desriptive.sort_values('mean')[:10].index"
   ]
  },
  {
   "cell_type": "code",
   "execution_count": 103,
   "id": "5ac3c886-dbf3-4634-a7f8-581bb8df6bde",
   "metadata": {},
   "outputs": [
    {
     "data": {
      "text/plain": [
       "Index(['model25', 'model19', 'model24', 'model3', 'model76', 'model82',\n",
       "       'model46', 'model73', 'model72', 'model47'],\n",
       "      dtype='object')"
      ]
     },
     "execution_count": 103,
     "metadata": {},
     "output_type": "execute_result"
    }
   ],
   "source": [
    "cv1_week_splits_top_models"
   ]
  },
  {
   "cell_type": "code",
   "execution_count": 104,
   "id": "71bfba9c-22ff-421c-9720-5fa5718f14be",
   "metadata": {},
   "outputs": [],
   "source": [
    "# top df without sort\n",
    "cv1_week_splits_top = \\\n",
    "    cv1_week_splits.loc[:, cv1_week_splits.columns.isin(cv1_week_splits_top_models)].copy()"
   ]
  },
  {
   "cell_type": "code",
   "execution_count": 105,
   "id": "59fe9feb-1a88-4af6-aff1-09016e93b522",
   "metadata": {},
   "outputs": [],
   "source": [
    "cv1_week_splits_desriptive_top = \\\n",
    "    cv1_week_splits_desriptive.loc[cv1_week_splits_desriptive.index.isin(cv1_week_splits_top_models)].copy()"
   ]
  },
  {
   "cell_type": "code",
   "execution_count": 106,
   "id": "44ad4296-33a4-4e90-851e-f58c894c2a4f",
   "metadata": {},
   "outputs": [
    {
     "data": {
      "text/html": [
       "<div>\n",
       "<style scoped>\n",
       "    .dataframe tbody tr th:only-of-type {\n",
       "        vertical-align: middle;\n",
       "    }\n",
       "\n",
       "    .dataframe tbody tr th {\n",
       "        vertical-align: top;\n",
       "    }\n",
       "\n",
       "    .dataframe thead th {\n",
       "        text-align: right;\n",
       "    }\n",
       "</style>\n",
       "<table border=\"1\" class=\"dataframe\">\n",
       "  <thead>\n",
       "    <tr style=\"text-align: right;\">\n",
       "      <th></th>\n",
       "      <th>mean</th>\n",
       "      <th>std</th>\n",
       "    </tr>\n",
       "  </thead>\n",
       "  <tbody>\n",
       "    <tr>\n",
       "      <th>model3</th>\n",
       "      <td>0.109091</td>\n",
       "      <td>0.063095</td>\n",
       "    </tr>\n",
       "    <tr>\n",
       "      <th>model19</th>\n",
       "      <td>0.109091</td>\n",
       "      <td>0.063094</td>\n",
       "    </tr>\n",
       "    <tr>\n",
       "      <th>model24</th>\n",
       "      <td>0.109091</td>\n",
       "      <td>0.063094</td>\n",
       "    </tr>\n",
       "    <tr>\n",
       "      <th>model25</th>\n",
       "      <td>0.109091</td>\n",
       "      <td>0.063094</td>\n",
       "    </tr>\n",
       "    <tr>\n",
       "      <th>model46</th>\n",
       "      <td>0.109897</td>\n",
       "      <td>0.055427</td>\n",
       "    </tr>\n",
       "    <tr>\n",
       "      <th>model47</th>\n",
       "      <td>0.110510</td>\n",
       "      <td>0.058207</td>\n",
       "    </tr>\n",
       "    <tr>\n",
       "      <th>model72</th>\n",
       "      <td>0.109899</td>\n",
       "      <td>0.055430</td>\n",
       "    </tr>\n",
       "    <tr>\n",
       "      <th>model73</th>\n",
       "      <td>0.109899</td>\n",
       "      <td>0.055428</td>\n",
       "    </tr>\n",
       "    <tr>\n",
       "      <th>model76</th>\n",
       "      <td>0.109838</td>\n",
       "      <td>0.057898</td>\n",
       "    </tr>\n",
       "    <tr>\n",
       "      <th>model82</th>\n",
       "      <td>0.109838</td>\n",
       "      <td>0.057899</td>\n",
       "    </tr>\n",
       "  </tbody>\n",
       "</table>\n",
       "</div>"
      ],
      "text/plain": [
       "             mean       std\n",
       "model3   0.109091  0.063095\n",
       "model19  0.109091  0.063094\n",
       "model24  0.109091  0.063094\n",
       "model25  0.109091  0.063094\n",
       "model46  0.109897  0.055427\n",
       "model47  0.110510  0.058207\n",
       "model72  0.109899  0.055430\n",
       "model73  0.109899  0.055428\n",
       "model76  0.109838  0.057898\n",
       "model82  0.109838  0.057899"
      ]
     },
     "execution_count": 106,
     "metadata": {},
     "output_type": "execute_result"
    }
   ],
   "source": [
    "cv1_week_splits_desriptive_top"
   ]
  },
  {
   "cell_type": "code",
   "execution_count": 107,
   "id": "0420cb42-2109-4b10-b07f-a990719400ba",
   "metadata": {},
   "outputs": [],
   "source": [
    "cv1_week_splits_best_model = cv1_week_splits_desriptive_top.sort_values('mean').index[0]"
   ]
  },
  {
   "cell_type": "code",
   "execution_count": 108,
   "id": "99d88cc1-dd8a-420f-bacd-e123a4e72b35",
   "metadata": {},
   "outputs": [
    {
     "data": {
      "text/plain": [
       "'model25'"
      ]
     },
     "execution_count": 108,
     "metadata": {},
     "output_type": "execute_result"
    }
   ],
   "source": [
    "cv1_week_splits_best_model"
   ]
  },
  {
   "cell_type": "code",
   "execution_count": 109,
   "id": "14a66fe3-c363-43b4-8f1e-6aa2d5e253c1",
   "metadata": {},
   "outputs": [],
   "source": [
    "for model in cv1_week_splits_desriptive_top.index:\n",
    "    cv1_week_splits_desriptive_top.loc[model, 'lower'] = \\\n",
    "        ci_bootstrap(cv1_week_splits[model])['ci_min']\n",
    "    cv1_week_splits_desriptive_top.loc[model, 'upper'] = \\\n",
    "        ci_bootstrap(cv1_week_splits[model])['ci_max']"
   ]
  },
  {
   "cell_type": "code",
   "execution_count": 110,
   "id": "01f01a0e-f15b-45f4-881c-72a65b1a4679",
   "metadata": {},
   "outputs": [
    {
     "data": {
      "text/html": [
       "<div>\n",
       "<style scoped>\n",
       "    .dataframe tbody tr th:only-of-type {\n",
       "        vertical-align: middle;\n",
       "    }\n",
       "\n",
       "    .dataframe tbody tr th {\n",
       "        vertical-align: top;\n",
       "    }\n",
       "\n",
       "    .dataframe thead th {\n",
       "        text-align: right;\n",
       "    }\n",
       "</style>\n",
       "<table border=\"1\" class=\"dataframe\">\n",
       "  <thead>\n",
       "    <tr style=\"text-align: right;\">\n",
       "      <th></th>\n",
       "      <th>mean</th>\n",
       "      <th>std</th>\n",
       "      <th>lower</th>\n",
       "      <th>upper</th>\n",
       "    </tr>\n",
       "  </thead>\n",
       "  <tbody>\n",
       "    <tr>\n",
       "      <th>model3</th>\n",
       "      <td>0.109091</td>\n",
       "      <td>0.063095</td>\n",
       "      <td>0.077107</td>\n",
       "      <td>0.152340</td>\n",
       "    </tr>\n",
       "    <tr>\n",
       "      <th>model19</th>\n",
       "      <td>0.109091</td>\n",
       "      <td>0.063094</td>\n",
       "      <td>0.077107</td>\n",
       "      <td>0.152340</td>\n",
       "    </tr>\n",
       "    <tr>\n",
       "      <th>model24</th>\n",
       "      <td>0.109091</td>\n",
       "      <td>0.063094</td>\n",
       "      <td>0.077107</td>\n",
       "      <td>0.152340</td>\n",
       "    </tr>\n",
       "    <tr>\n",
       "      <th>model25</th>\n",
       "      <td>0.109091</td>\n",
       "      <td>0.063094</td>\n",
       "      <td>0.077107</td>\n",
       "      <td>0.152339</td>\n",
       "    </tr>\n",
       "    <tr>\n",
       "      <th>model46</th>\n",
       "      <td>0.109897</td>\n",
       "      <td>0.055427</td>\n",
       "      <td>0.081333</td>\n",
       "      <td>0.147108</td>\n",
       "    </tr>\n",
       "    <tr>\n",
       "      <th>model47</th>\n",
       "      <td>0.110510</td>\n",
       "      <td>0.058207</td>\n",
       "      <td>0.080148</td>\n",
       "      <td>0.150232</td>\n",
       "    </tr>\n",
       "    <tr>\n",
       "      <th>model72</th>\n",
       "      <td>0.109899</td>\n",
       "      <td>0.055430</td>\n",
       "      <td>0.081333</td>\n",
       "      <td>0.147113</td>\n",
       "    </tr>\n",
       "    <tr>\n",
       "      <th>model73</th>\n",
       "      <td>0.109899</td>\n",
       "      <td>0.055428</td>\n",
       "      <td>0.081333</td>\n",
       "      <td>0.147111</td>\n",
       "    </tr>\n",
       "    <tr>\n",
       "      <th>model76</th>\n",
       "      <td>0.109838</td>\n",
       "      <td>0.057898</td>\n",
       "      <td>0.080005</td>\n",
       "      <td>0.148502</td>\n",
       "    </tr>\n",
       "    <tr>\n",
       "      <th>model82</th>\n",
       "      <td>0.109838</td>\n",
       "      <td>0.057899</td>\n",
       "      <td>0.080005</td>\n",
       "      <td>0.148504</td>\n",
       "    </tr>\n",
       "  </tbody>\n",
       "</table>\n",
       "</div>"
      ],
      "text/plain": [
       "             mean       std     lower     upper\n",
       "model3   0.109091  0.063095  0.077107  0.152340\n",
       "model19  0.109091  0.063094  0.077107  0.152340\n",
       "model24  0.109091  0.063094  0.077107  0.152340\n",
       "model25  0.109091  0.063094  0.077107  0.152339\n",
       "model46  0.109897  0.055427  0.081333  0.147108\n",
       "model47  0.110510  0.058207  0.080148  0.150232\n",
       "model72  0.109899  0.055430  0.081333  0.147113\n",
       "model73  0.109899  0.055428  0.081333  0.147111\n",
       "model76  0.109838  0.057898  0.080005  0.148502\n",
       "model82  0.109838  0.057899  0.080005  0.148504"
      ]
     },
     "execution_count": 110,
     "metadata": {},
     "output_type": "execute_result"
    }
   ],
   "source": [
    "cv1_week_splits_desriptive_top"
   ]
  },
  {
   "cell_type": "code",
   "execution_count": 111,
   "id": "62d93848-7463-4ef5-8d09-371aaf3de917",
   "metadata": {},
   "outputs": [
    {
     "data": {
      "image/png": "[encoded data removed]",
      "text/plain": [
       "<Figure size 800x400 with 2 Axes>"
      ]
     },
     "metadata": {},
     "output_type": "display_data"
    }
   ],
   "source": [
    "fig, ax = plt.subplots(2, 1, figsize=(8, 4))\n",
    "\n",
    "ax[0].scatter(\n",
    "    x = cv1_week_splits_desriptive_top.index,\n",
    "    y = cv1_week_splits_desriptive_top['mean'],\n",
    "    s=10)\n",
    "\n",
    "ax[0].errorbar(\n",
    "    x = cv1_week_splits_desriptive_top.index,\n",
    "    y = cv1_week_splits_desriptive_top['mean'],\n",
    "    yerr = cv1_week_splits_desriptive_top['std'],\n",
    "    ls='none',\n",
    "    lw=0.5,\n",
    "    capsize=1,\n",
    "    alpha=0.75)\n",
    "\n",
    "# best model\n",
    "ax[0].errorbar(\n",
    "    x = cv1_week_splits_desriptive_top.loc[cv1_week_splits_best_model].name,\n",
    "    y = cv1_week_splits_desriptive_top.loc[cv1_week_splits_best_model]['mean'],\n",
    "    yerr = cv1_week_splits_desriptive_top.loc[cv1_week_splits_best_model]['std'],\n",
    "    ls='none',\n",
    "    lw=1,\n",
    "    marker='.',\n",
    "    markersize=4,\n",
    "    capsize=1.5,\n",
    "    color=saturate_color(palette[1], 1.5))\n",
    "\n",
    "axis_rstyle(ax=ax[0], yticks=[0, 0.20, 0.05], ylim=[0, 0.20])\n",
    "ax[0].spines['bottom'].set_visible(False)\n",
    "ax[0].tick_params(bottom=False, labelbottom=False)\n",
    "\n",
    "sns.stripplot(\n",
    "    cv1_week_splits_top,\n",
    "    s=5,\n",
    "    color=palette[-2],\n",
    "    ax=ax[1])\n",
    "\n",
    "axis_rstyle(ax=ax[1])\n",
    "\n",
    "plt.xticks(rotation=90)\n",
    "plt.subplots_adjust(hspace=0.25)"
   ]
  },
  {
   "cell_type": "code",
   "execution_count": 112,
   "id": "c40d761b-026b-4a0d-b666-d37c81420233",
   "metadata": {},
   "outputs": [],
   "source": [
    "# top 5 model smoothed data\n",
    "cv1_week_splits_top_smoothed = smoothed(cv1_week_splits_top[cv1_week_splits_top_models], n=200)"
   ]
  },
  {
   "cell_type": "code",
   "execution_count": 113,
   "id": "e8b3d335-772d-439b-9afa-7d21a6e71840",
   "metadata": {},
   "outputs": [
    {
     "data": {
      "text/html": [
       "<div>\n",
       "<style scoped>\n",
       "    .dataframe tbody tr th:only-of-type {\n",
       "        vertical-align: middle;\n",
       "    }\n",
       "\n",
       "    .dataframe tbody tr th {\n",
       "        vertical-align: top;\n",
       "    }\n",
       "\n",
       "    .dataframe thead th {\n",
       "        text-align: right;\n",
       "    }\n",
       "</style>\n",
       "<table border=\"1\" class=\"dataframe\">\n",
       "  <thead>\n",
       "    <tr style=\"text-align: right;\">\n",
       "      <th></th>\n",
       "      <th>model25</th>\n",
       "      <th>model19</th>\n",
       "      <th>model24</th>\n",
       "      <th>model3</th>\n",
       "      <th>model76</th>\n",
       "      <th>model82</th>\n",
       "      <th>model46</th>\n",
       "      <th>model73</th>\n",
       "      <th>model72</th>\n",
       "      <th>model47</th>\n",
       "    </tr>\n",
       "  </thead>\n",
       "  <tbody>\n",
       "    <tr>\n",
       "      <th>0.000000</th>\n",
       "      <td>0.095812</td>\n",
       "      <td>0.095812</td>\n",
       "      <td>0.095812</td>\n",
       "      <td>0.095812</td>\n",
       "      <td>0.093877</td>\n",
       "      <td>0.093877</td>\n",
       "      <td>0.097005</td>\n",
       "      <td>0.097009</td>\n",
       "      <td>0.097006</td>\n",
       "      <td>0.094090</td>\n",
       "    </tr>\n",
       "    <tr>\n",
       "      <th>0.045226</th>\n",
       "      <td>0.103785</td>\n",
       "      <td>0.103785</td>\n",
       "      <td>0.103785</td>\n",
       "      <td>0.103785</td>\n",
       "      <td>0.102197</td>\n",
       "      <td>0.102196</td>\n",
       "      <td>0.105310</td>\n",
       "      <td>0.105314</td>\n",
       "      <td>0.105311</td>\n",
       "      <td>0.101721</td>\n",
       "    </tr>\n",
       "    <tr>\n",
       "      <th>0.090452</th>\n",
       "      <td>0.111157</td>\n",
       "      <td>0.111157</td>\n",
       "      <td>0.111157</td>\n",
       "      <td>0.111157</td>\n",
       "      <td>0.109883</td>\n",
       "      <td>0.109883</td>\n",
       "      <td>0.113002</td>\n",
       "      <td>0.113006</td>\n",
       "      <td>0.113003</td>\n",
       "      <td>0.108778</td>\n",
       "    </tr>\n",
       "    <tr>\n",
       "      <th>0.135678</th>\n",
       "      <td>0.117945</td>\n",
       "      <td>0.117945</td>\n",
       "      <td>0.117945</td>\n",
       "      <td>0.117945</td>\n",
       "      <td>0.116954</td>\n",
       "      <td>0.116954</td>\n",
       "      <td>0.120097</td>\n",
       "      <td>0.120101</td>\n",
       "      <td>0.120098</td>\n",
       "      <td>0.115277</td>\n",
       "    </tr>\n",
       "    <tr>\n",
       "      <th>0.180905</th>\n",
       "      <td>0.124166</td>\n",
       "      <td>0.124166</td>\n",
       "      <td>0.124166</td>\n",
       "      <td>0.124166</td>\n",
       "      <td>0.123428</td>\n",
       "      <td>0.123428</td>\n",
       "      <td>0.126612</td>\n",
       "      <td>0.126616</td>\n",
       "      <td>0.126613</td>\n",
       "      <td>0.121233</td>\n",
       "    </tr>\n",
       "    <tr>\n",
       "      <th>...</th>\n",
       "      <td>...</td>\n",
       "      <td>...</td>\n",
       "      <td>...</td>\n",
       "      <td>...</td>\n",
       "      <td>...</td>\n",
       "      <td>...</td>\n",
       "      <td>...</td>\n",
       "      <td>...</td>\n",
       "      <td>...</td>\n",
       "      <td>...</td>\n",
       "    </tr>\n",
       "    <tr>\n",
       "      <th>8.819095</th>\n",
       "      <td>0.028413</td>\n",
       "      <td>0.028412</td>\n",
       "      <td>0.028412</td>\n",
       "      <td>0.028412</td>\n",
       "      <td>0.035215</td>\n",
       "      <td>0.035214</td>\n",
       "      <td>0.029050</td>\n",
       "      <td>0.029050</td>\n",
       "      <td>0.029050</td>\n",
       "      <td>0.034235</td>\n",
       "    </tr>\n",
       "    <tr>\n",
       "      <th>8.864322</th>\n",
       "      <td>0.031869</td>\n",
       "      <td>0.031868</td>\n",
       "      <td>0.031868</td>\n",
       "      <td>0.031868</td>\n",
       "      <td>0.038941</td>\n",
       "      <td>0.038940</td>\n",
       "      <td>0.031585</td>\n",
       "      <td>0.031585</td>\n",
       "      <td>0.031585</td>\n",
       "      <td>0.038568</td>\n",
       "    </tr>\n",
       "    <tr>\n",
       "      <th>8.909548</th>\n",
       "      <td>0.035989</td>\n",
       "      <td>0.035989</td>\n",
       "      <td>0.035989</td>\n",
       "      <td>0.035988</td>\n",
       "      <td>0.043304</td>\n",
       "      <td>0.043303</td>\n",
       "      <td>0.034663</td>\n",
       "      <td>0.034663</td>\n",
       "      <td>0.034663</td>\n",
       "      <td>0.043637</td>\n",
       "    </tr>\n",
       "    <tr>\n",
       "      <th>8.954774</th>\n",
       "      <td>0.040799</td>\n",
       "      <td>0.040798</td>\n",
       "      <td>0.040798</td>\n",
       "      <td>0.040798</td>\n",
       "      <td>0.048329</td>\n",
       "      <td>0.048328</td>\n",
       "      <td>0.038304</td>\n",
       "      <td>0.038304</td>\n",
       "      <td>0.038304</td>\n",
       "      <td>0.049471</td>\n",
       "    </tr>\n",
       "    <tr>\n",
       "      <th>9.000000</th>\n",
       "      <td>0.046322</td>\n",
       "      <td>0.046321</td>\n",
       "      <td>0.046321</td>\n",
       "      <td>0.046321</td>\n",
       "      <td>0.054037</td>\n",
       "      <td>0.054037</td>\n",
       "      <td>0.042529</td>\n",
       "      <td>0.042529</td>\n",
       "      <td>0.042529</td>\n",
       "      <td>0.056095</td>\n",
       "    </tr>\n",
       "  </tbody>\n",
       "</table>\n",
       "<p>200 rows × 10 columns</p>\n",
       "</div>"
      ],
      "text/plain": [
       "           model25   model19   model24    model3   model76   model82  \\\n",
       "0.000000  0.095812  0.095812  0.095812  0.095812  0.093877  0.093877   \n",
       "0.045226  0.103785  0.103785  0.103785  0.103785  0.102197  0.102196   \n",
       "0.090452  0.111157  0.111157  0.111157  0.111157  0.109883  0.109883   \n",
       "0.135678  0.117945  0.117945  0.117945  0.117945  0.116954  0.116954   \n",
       "0.180905  0.124166  0.124166  0.124166  0.124166  0.123428  0.123428   \n",
       "...            ...       ...       ...       ...       ...       ...   \n",
       "8.819095  0.028413  0.028412  0.028412  0.028412  0.035215  0.035214   \n",
       "8.864322  0.031869  0.031868  0.031868  0.031868  0.038941  0.038940   \n",
       "8.909548  0.035989  0.035989  0.035989  0.035988  0.043304  0.043303   \n",
       "8.954774  0.040799  0.040798  0.040798  0.040798  0.048329  0.048328   \n",
       "9.000000  0.046322  0.046321  0.046321  0.046321  0.054037  0.054037   \n",
       "\n",
       "           model46   model73   model72   model47  \n",
       "0.000000  0.097005  0.097009  0.097006  0.094090  \n",
       "0.045226  0.105310  0.105314  0.105311  0.101721  \n",
       "0.090452  0.113002  0.113006  0.113003  0.108778  \n",
       "0.135678  0.120097  0.120101  0.120098  0.115277  \n",
       "0.180905  0.126612  0.126616  0.126613  0.121233  \n",
       "...            ...       ...       ...       ...  \n",
       "8.819095  0.029050  0.029050  0.029050  0.034235  \n",
       "8.864322  0.031585  0.031585  0.031585  0.038568  \n",
       "8.909548  0.034663  0.034663  0.034663  0.043637  \n",
       "8.954774  0.038304  0.038304  0.038304  0.049471  \n",
       "9.000000  0.042529  0.042529  0.042529  0.056095  \n",
       "\n",
       "[200 rows x 10 columns]"
      ]
     },
     "execution_count": 113,
     "metadata": {},
     "output_type": "execute_result"
    }
   ],
   "source": [
    "cv1_week_splits_top_smoothed"
   ]
  },
  {
   "cell_type": "code",
   "execution_count": 114,
   "id": "12362ee6-06f1-4fa1-9b1b-a80d4191dd66",
   "metadata": {},
   "outputs": [
    {
     "data": {
      "image/png": "[encoded data removed]",
      "text/plain": [
       "<Figure size 800x250 with 1 Axes>"
      ]
     },
     "metadata": {},
     "output_type": "display_data"
    }
   ],
   "source": [
    "plt.plot(\n",
    "    cv1_week_splits_top_smoothed\n",
    ")\n",
    "plt.legend(**legend_inline(), labels=cv1_week_splits_top_smoothed.columns);\n",
    "ax_current().xaxis.set_major_locator(mpl.ticker.MaxNLocator(integer=True))\n",
    "axis_rstyle(xticks=[0, 9, 1], offset_left=10)"
   ]
  },
  {
   "cell_type": "code",
   "execution_count": 115,
   "id": "feb3767f-fe86-4289-b5b2-911f36503e88",
   "metadata": {},
   "outputs": [],
   "source": [
    "cv1_week_period = train.loc['2017-05-22':'2017-07-30'].groupby('week').mean().copy()"
   ]
  },
  {
   "cell_type": "code",
   "execution_count": 116,
   "id": "acd99482-ecb9-4606-ad5b-cef0a5519b15",
   "metadata": {},
   "outputs": [],
   "source": [
    "cv1_week_period = train.loc['2017-05-22':'2017-07-30'].groupby('week').agg({'target1': ['mean', 'std']})"
   ]
  },
  {
   "cell_type": "code",
   "execution_count": 117,
   "id": "58d3a06d-6888-4b75-9951-6c5ba27d2ede",
   "metadata": {},
   "outputs": [
    {
     "data": {
      "text/html": [
       "<div>\n",
       "<style scoped>\n",
       "    .dataframe tbody tr th:only-of-type {\n",
       "        vertical-align: middle;\n",
       "    }\n",
       "\n",
       "    .dataframe tbody tr th {\n",
       "        vertical-align: top;\n",
       "    }\n",
       "\n",
       "    .dataframe thead tr th {\n",
       "        text-align: left;\n",
       "    }\n",
       "\n",
       "    .dataframe thead tr:last-of-type th {\n",
       "        text-align: right;\n",
       "    }\n",
       "</style>\n",
       "<table border=\"1\" class=\"dataframe\">\n",
       "  <thead>\n",
       "    <tr>\n",
       "      <th></th>\n",
       "      <th colspan=\"2\" halign=\"left\">target1</th>\n",
       "    </tr>\n",
       "    <tr>\n",
       "      <th></th>\n",
       "      <th>mean</th>\n",
       "      <th>std</th>\n",
       "    </tr>\n",
       "    <tr>\n",
       "      <th>week</th>\n",
       "      <th></th>\n",
       "      <th></th>\n",
       "    </tr>\n",
       "  </thead>\n",
       "  <tbody>\n",
       "    <tr>\n",
       "      <th>21</th>\n",
       "      <td>33421.514442</td>\n",
       "      <td>7224.772556</td>\n",
       "    </tr>\n",
       "    <tr>\n",
       "      <th>22</th>\n",
       "      <td>34221.089650</td>\n",
       "      <td>7133.985678</td>\n",
       "    </tr>\n",
       "    <tr>\n",
       "      <th>23</th>\n",
       "      <td>34499.918007</td>\n",
       "      <td>7145.742065</td>\n",
       "    </tr>\n",
       "    <tr>\n",
       "      <th>24</th>\n",
       "      <td>35152.570167</td>\n",
       "      <td>7199.793188</td>\n",
       "    </tr>\n",
       "    <tr>\n",
       "      <th>25</th>\n",
       "      <td>36620.107222</td>\n",
       "      <td>7489.886715</td>\n",
       "    </tr>\n",
       "    <tr>\n",
       "      <th>26</th>\n",
       "      <td>31517.131081</td>\n",
       "      <td>6324.227582</td>\n",
       "    </tr>\n",
       "    <tr>\n",
       "      <th>27</th>\n",
       "      <td>34202.385698</td>\n",
       "      <td>6739.189730</td>\n",
       "    </tr>\n",
       "    <tr>\n",
       "      <th>28</th>\n",
       "      <td>35866.413542</td>\n",
       "      <td>6585.599871</td>\n",
       "    </tr>\n",
       "    <tr>\n",
       "      <th>29</th>\n",
       "      <td>36166.998893</td>\n",
       "      <td>6954.952223</td>\n",
       "    </tr>\n",
       "    <tr>\n",
       "      <th>30</th>\n",
       "      <td>37816.149344</td>\n",
       "      <td>6916.816790</td>\n",
       "    </tr>\n",
       "  </tbody>\n",
       "</table>\n",
       "</div>"
      ],
      "text/plain": [
       "           target1             \n",
       "              mean          std\n",
       "week                           \n",
       "21    33421.514442  7224.772556\n",
       "22    34221.089650  7133.985678\n",
       "23    34499.918007  7145.742065\n",
       "24    35152.570167  7199.793188\n",
       "25    36620.107222  7489.886715\n",
       "26    31517.131081  6324.227582\n",
       "27    34202.385698  6739.189730\n",
       "28    35866.413542  6585.599871\n",
       "29    36166.998893  6954.952223\n",
       "30    37816.149344  6916.816790"
      ]
     },
     "execution_count": 117,
     "metadata": {},
     "output_type": "execute_result"
    }
   ],
   "source": [
    "cv1_week_period"
   ]
  },
  {
   "cell_type": "code",
   "execution_count": 120,
   "id": "59b075e6-a4c4-472d-a9e2-9fe169221958",
   "metadata": {},
   "outputs": [],
   "source": [
    "cv1_week_period_best_model = cv1_week_splits_top[cv1_week_splits_best_model].copy()"
   ]
  },
  {
   "cell_type": "code",
   "execution_count": 121,
   "id": "5e5fe880-b393-48b2-93c0-7164f1bc868b",
   "metadata": {},
   "outputs": [],
   "source": [
    "cv1_week_period_best_model.index = cv1_week_period_best_model.index + 21"
   ]
  },
  {
   "cell_type": "code",
   "execution_count": 128,
   "id": "fa1dcb0c-f059-486f-ab20-8ff2eb311d33",
   "metadata": {},
   "outputs": [
    {
     "data": {
      "image/png": "[encoded data removed]",
      "text/plain": [
       "<Figure size 800x500 with 3 Axes>"
      ]
     },
     "metadata": {},
     "output_type": "display_data"
    }
   ],
   "source": [
    "# top model\n",
    "\n",
    "plt.figure(figsize=(8, 5))\n",
    "\n",
    "plt.subplot(3, 1, 1)\n",
    "plt.plot(\n",
    "    smoothed(cv1_week_period_best_model),\n",
    "    color=palette[2],\n",
    "    label=cv1_week_splits_best_model\n",
    ")\n",
    "# ax_current().xaxis.set_major_locator(mpl.ticker.MaxNLocator(integer=True))\n",
    "axis_rstyle(xlim=[21, 30], xticks=[21, 30, 1], offset_left=10)\n",
    "# plt.xticks(arange(10))\n",
    "# axis_remove_xaxis()\n",
    "plt.legend(\n",
    "    **legend_inline(3, bbox_to_anchor=(0, 1.1)),\n",
    "    **legend_create_handles(\n",
    "        3,\n",
    "        labels=['Best weekly-model RMSE', ' Demand Mean', 'Demand Std'],\n",
    "        colors=[palette[2], palette[0], palette[1]]\n",
    "    ));\n",
    "# axis_remove_xaxis()\n",
    "\n",
    "plt.subplot(3, 1, 2)\n",
    "plt.plot(\n",
    "    smoothed(cv1_week_period['target1']['mean']),\n",
    ")\n",
    "axis_rstyle(xlim=[21, 30], xticks=[21, 30, 1], yticks=[30000, 40000, 2500], offset_left=10)\n",
    "# plt.xticks(arange(10))\n",
    "# axis_remove_xaxis()\n",
    "\n",
    "plt.subplot(3, 1, 3)\n",
    "plt.plot(\n",
    "    smoothed(cv1_week_period['target1']['std']),\n",
    "    color=palette[1],\n",
    ")\n",
    "# ax_current().xaxis.set_major_locator(mpl.ticker.MaxNLocator(integer=True))\n",
    "axis_rstyle(xlim=[21, 30], xticks=[21, 30, 1], yticks=[6000, 8000, 500], offset_left=10)\n",
    "\n",
    "# plt.xticks(arange(10))\n",
    "plt.subplots_adjust(hspace=0.75)\n",
    "plt.show()"
   ]
  },
  {
   "cell_type": "code",
   "execution_count": 168,
   "id": "6772c21e-8e48-4526-83a5-5417ffdae466",
   "metadata": {},
   "outputs": [],
   "source": [
    "arima1_week = cv1_week_models[cv1_week_splits_best_model]"
   ]
  },
  {
   "cell_type": "code",
   "execution_count": 169,
   "id": "4c1aaa95-1489-4e48-94e7-c954fc7efb0c",
   "metadata": {},
   "outputs": [
    {
     "data": {
      "text/plain": [
       "((1, 1, 2), [144, 72], [4, 2])"
      ]
     },
     "execution_count": 169,
     "metadata": {},
     "output_type": "execute_result"
    }
   ],
   "source": [
    "arima1_week"
   ]
  },
  {
   "cell_type": "code",
   "execution_count": 170,
   "id": "8bf98d5d-5b93-4a2d-8654-5cd563a3c3c8",
   "metadata": {},
   "outputs": [
    {
     "data": {
      "text/plain": [
       "mean     0.109091\n",
       "std      0.063094\n",
       "lower    0.077107\n",
       "upper    0.152339\n",
       "Name: model25, dtype: float64"
      ]
     },
     "execution_count": 170,
     "metadata": {},
     "output_type": "execute_result"
    }
   ],
   "source": [
    "cv1_week_splits_desriptive_top.loc[cv1_week_splits_best_model]"
   ]
  },
  {
   "cell_type": "code",
   "execution_count": 171,
   "id": "b8aa4efd-b9e4-47be-a736-ae0aaa5dd088",
   "metadata": {},
   "outputs": [
    {
     "data": {
      "text/plain": [
       "0    0.095812\n",
       "1    0.157638\n",
       "2    0.095207\n",
       "3    0.044606\n",
       "4    0.049116\n",
       "5    0.212201\n",
       "6    0.183380\n",
       "7    0.154250\n",
       "8    0.052375\n",
       "9    0.046322\n",
       "Name: model25, dtype: float64"
      ]
     },
     "execution_count": 171,
     "metadata": {},
     "output_type": "execute_result"
    }
   ],
   "source": [
    "cv1_week_splits[cv1_week_splits_best_model]"
   ]
  },
  {
   "cell_type": "markdown",
   "id": "e51e64ae-2c2a-4800-aa21-65dda1a7f418",
   "metadata": {},
   "source": [
    "### ARIMA with exogs variables"
   ]
  },
  {
   "cell_type": "code",
   "execution_count": 133,
   "id": "4a8066aa-8a3f-4952-9c81-b6b9381063d1",
   "metadata": {},
   "outputs": [],
   "source": [
    "exog_vars = ['temperature', 'target1_by_minutes', 'is_Friday', 'is_Sunday', 'is_31']"
   ]
  },
  {
   "cell_type": "code",
   "execution_count": 137,
   "id": "be1fd14f-31d8-49f5-b4e0-62beb3430f6d",
   "metadata": {},
   "outputs": [],
   "source": [
    "exogs_df = train.loc['2017-05-08':, exog_vars].copy()"
   ]
  },
  {
   "cell_type": "code",
   "execution_count": 138,
   "id": "6d30dd89-a334-450d-a5fb-4d0578fee27a",
   "metadata": {},
   "outputs": [
    {
     "name": "stdout",
     "output_type": "stream",
     "text": [
      "Execution time: 1:17:18\n"
     ]
    }
   ],
   "source": [
    "cv2_results_week_model = cv_model_evaluation(\n",
    "    data=train['target1'], start='2017-05-22', train_size=2, test_size=1, size_unit='weeks', n_splits=10, freq='10min',\n",
    "    orders=[(1,1,2), (3,1,1)], fourier_periods=[[144], [144, 72]], fourier_orders=arange(1, 6, True),\n",
    "    exog_variables=exogs_df\n",
    ")"
   ]
  },
  {
   "cell_type": "code",
   "execution_count": 139,
   "id": "bfa48736-7611-42c2-869b-0f2823249f90",
   "metadata": {},
   "outputs": [],
   "source": [
    "cv2_week_models = cv2_results_week_model['models'].copy()"
   ]
  },
  {
   "cell_type": "code",
   "execution_count": 140,
   "id": "7a890236-cec6-4731-92bc-93b3c31b0949",
   "metadata": {},
   "outputs": [],
   "source": [
    "cv2_week_splits = pd.DataFrame(cv2_results_week_model['splits'])"
   ]
  },
  {
   "cell_type": "code",
   "execution_count": 141,
   "id": "f70bba6d-f36d-4ae3-ab5b-626ce32e8aec",
   "metadata": {},
   "outputs": [
    {
     "data": {
      "text/html": [
       "<div>\n",
       "<style scoped>\n",
       "    .dataframe tbody tr th:only-of-type {\n",
       "        vertical-align: middle;\n",
       "    }\n",
       "\n",
       "    .dataframe tbody tr th {\n",
       "        vertical-align: top;\n",
       "    }\n",
       "\n",
       "    .dataframe thead th {\n",
       "        text-align: right;\n",
       "    }\n",
       "</style>\n",
       "<table border=\"1\" class=\"dataframe\">\n",
       "  <thead>\n",
       "    <tr style=\"text-align: right;\">\n",
       "      <th></th>\n",
       "      <th>model0</th>\n",
       "      <th>model1</th>\n",
       "      <th>model2</th>\n",
       "      <th>model3</th>\n",
       "      <th>model4</th>\n",
       "      <th>model5</th>\n",
       "      <th>model6</th>\n",
       "      <th>model7</th>\n",
       "      <th>model8</th>\n",
       "      <th>model9</th>\n",
       "      <th>...</th>\n",
       "      <th>model74</th>\n",
       "      <th>model75</th>\n",
       "      <th>model76</th>\n",
       "      <th>model77</th>\n",
       "      <th>model78</th>\n",
       "      <th>model79</th>\n",
       "      <th>model80</th>\n",
       "      <th>model81</th>\n",
       "      <th>model82</th>\n",
       "      <th>model83</th>\n",
       "    </tr>\n",
       "  </thead>\n",
       "  <tbody>\n",
       "    <tr>\n",
       "      <th>0</th>\n",
       "      <td>0.139721</td>\n",
       "      <td>0.142153</td>\n",
       "      <td>0.107023</td>\n",
       "      <td>0.097345</td>\n",
       "      <td>0.100543</td>\n",
       "      <td>0.101065</td>\n",
       "      <td>0.142153</td>\n",
       "      <td>0.109105</td>\n",
       "      <td>0.115594</td>\n",
       "      <td>0.112558</td>\n",
       "      <td>...</td>\n",
       "      <td>0.093831</td>\n",
       "      <td>0.093623</td>\n",
       "      <td>0.093754</td>\n",
       "      <td>0.093701</td>\n",
       "      <td>0.093831</td>\n",
       "      <td>0.093831</td>\n",
       "      <td>0.093830</td>\n",
       "      <td>0.093623</td>\n",
       "      <td>0.093755</td>\n",
       "      <td>0.093701</td>\n",
       "    </tr>\n",
       "    <tr>\n",
       "      <th>1</th>\n",
       "      <td>0.158451</td>\n",
       "      <td>0.131473</td>\n",
       "      <td>0.142550</td>\n",
       "      <td>0.160275</td>\n",
       "      <td>0.165895</td>\n",
       "      <td>0.155102</td>\n",
       "      <td>0.131473</td>\n",
       "      <td>0.138777</td>\n",
       "      <td>0.132855</td>\n",
       "      <td>0.134137</td>\n",
       "      <td>...</td>\n",
       "      <td>0.154942</td>\n",
       "      <td>0.157302</td>\n",
       "      <td>0.158616</td>\n",
       "      <td>0.155644</td>\n",
       "      <td>0.154942</td>\n",
       "      <td>0.154942</td>\n",
       "      <td>0.154941</td>\n",
       "      <td>0.157302</td>\n",
       "      <td>0.158616</td>\n",
       "      <td>0.155644</td>\n",
       "    </tr>\n",
       "    <tr>\n",
       "      <th>2</th>\n",
       "      <td>0.125281</td>\n",
       "      <td>0.079343</td>\n",
       "      <td>0.081834</td>\n",
       "      <td>0.097390</td>\n",
       "      <td>0.103663</td>\n",
       "      <td>0.097541</td>\n",
       "      <td>0.079343</td>\n",
       "      <td>0.082527</td>\n",
       "      <td>0.079115</td>\n",
       "      <td>0.078355</td>\n",
       "      <td>...</td>\n",
       "      <td>0.096901</td>\n",
       "      <td>0.096241</td>\n",
       "      <td>0.095298</td>\n",
       "      <td>0.096768</td>\n",
       "      <td>0.096901</td>\n",
       "      <td>0.096901</td>\n",
       "      <td>0.096901</td>\n",
       "      <td>0.096240</td>\n",
       "      <td>0.095298</td>\n",
       "      <td>0.096768</td>\n",
       "    </tr>\n",
       "    <tr>\n",
       "      <th>3</th>\n",
       "      <td>0.092734</td>\n",
       "      <td>0.080572</td>\n",
       "      <td>0.058372</td>\n",
       "      <td>0.043839</td>\n",
       "      <td>0.044729</td>\n",
       "      <td>0.050307</td>\n",
       "      <td>0.080572</td>\n",
       "      <td>0.060574</td>\n",
       "      <td>0.061186</td>\n",
       "      <td>0.063289</td>\n",
       "      <td>...</td>\n",
       "      <td>0.045510</td>\n",
       "      <td>0.045912</td>\n",
       "      <td>0.046388</td>\n",
       "      <td>0.045371</td>\n",
       "      <td>0.045507</td>\n",
       "      <td>0.045506</td>\n",
       "      <td>0.045509</td>\n",
       "      <td>0.045912</td>\n",
       "      <td>0.046388</td>\n",
       "      <td>0.045371</td>\n",
       "    </tr>\n",
       "    <tr>\n",
       "      <th>4</th>\n",
       "      <td>0.095504</td>\n",
       "      <td>0.096877</td>\n",
       "      <td>0.073646</td>\n",
       "      <td>0.050112</td>\n",
       "      <td>0.045565</td>\n",
       "      <td>0.078465</td>\n",
       "      <td>0.096877</td>\n",
       "      <td>0.074377</td>\n",
       "      <td>0.075853</td>\n",
       "      <td>0.078983</td>\n",
       "      <td>...</td>\n",
       "      <td>0.069233</td>\n",
       "      <td>0.069373</td>\n",
       "      <td>0.071233</td>\n",
       "      <td>0.070731</td>\n",
       "      <td>0.069234</td>\n",
       "      <td>0.069233</td>\n",
       "      <td>0.069234</td>\n",
       "      <td>0.069373</td>\n",
       "      <td>0.071236</td>\n",
       "      <td>0.070731</td>\n",
       "    </tr>\n",
       "    <tr>\n",
       "      <th>5</th>\n",
       "      <td>0.253117</td>\n",
       "      <td>0.170955</td>\n",
       "      <td>0.188492</td>\n",
       "      <td>0.207535</td>\n",
       "      <td>0.215756</td>\n",
       "      <td>0.193230</td>\n",
       "      <td>0.170955</td>\n",
       "      <td>0.185619</td>\n",
       "      <td>0.185944</td>\n",
       "      <td>0.183004</td>\n",
       "      <td>...</td>\n",
       "      <td>0.203798</td>\n",
       "      <td>0.203115</td>\n",
       "      <td>0.201526</td>\n",
       "      <td>0.201864</td>\n",
       "      <td>0.203796</td>\n",
       "      <td>0.203799</td>\n",
       "      <td>0.203798</td>\n",
       "      <td>0.203115</td>\n",
       "      <td>0.201526</td>\n",
       "      <td>0.201864</td>\n",
       "    </tr>\n",
       "    <tr>\n",
       "      <th>6</th>\n",
       "      <td>0.176822</td>\n",
       "      <td>0.261144</td>\n",
       "      <td>0.232946</td>\n",
       "      <td>0.185434</td>\n",
       "      <td>0.170591</td>\n",
       "      <td>0.178987</td>\n",
       "      <td>0.261144</td>\n",
       "      <td>0.222238</td>\n",
       "      <td>0.234129</td>\n",
       "      <td>0.235187</td>\n",
       "      <td>...</td>\n",
       "      <td>0.179051</td>\n",
       "      <td>0.178380</td>\n",
       "      <td>0.177537</td>\n",
       "      <td>0.179788</td>\n",
       "      <td>0.179051</td>\n",
       "      <td>0.179051</td>\n",
       "      <td>0.179051</td>\n",
       "      <td>0.178380</td>\n",
       "      <td>0.177537</td>\n",
       "      <td>0.179788</td>\n",
       "    </tr>\n",
       "    <tr>\n",
       "      <th>7</th>\n",
       "      <td>0.147760</td>\n",
       "      <td>0.243675</td>\n",
       "      <td>0.203029</td>\n",
       "      <td>0.157354</td>\n",
       "      <td>0.145147</td>\n",
       "      <td>0.157782</td>\n",
       "      <td>0.243675</td>\n",
       "      <td>0.199537</td>\n",
       "      <td>0.213320</td>\n",
       "      <td>0.212644</td>\n",
       "      <td>...</td>\n",
       "      <td>0.157834</td>\n",
       "      <td>0.157379</td>\n",
       "      <td>0.149200</td>\n",
       "      <td>0.151626</td>\n",
       "      <td>0.157857</td>\n",
       "      <td>0.157858</td>\n",
       "      <td>0.157856</td>\n",
       "      <td>0.157379</td>\n",
       "      <td>0.149200</td>\n",
       "      <td>0.151625</td>\n",
       "    </tr>\n",
       "    <tr>\n",
       "      <th>8</th>\n",
       "      <td>0.121550</td>\n",
       "      <td>0.118643</td>\n",
       "      <td>0.081072</td>\n",
       "      <td>0.051661</td>\n",
       "      <td>0.050923</td>\n",
       "      <td>0.061811</td>\n",
       "      <td>0.118643</td>\n",
       "      <td>0.080692</td>\n",
       "      <td>0.090714</td>\n",
       "      <td>0.089532</td>\n",
       "      <td>...</td>\n",
       "      <td>0.049517</td>\n",
       "      <td>0.049126</td>\n",
       "      <td>0.048650</td>\n",
       "      <td>0.048620</td>\n",
       "      <td>0.049517</td>\n",
       "      <td>0.049519</td>\n",
       "      <td>0.049517</td>\n",
       "      <td>0.049127</td>\n",
       "      <td>0.048650</td>\n",
       "      <td>0.048620</td>\n",
       "    </tr>\n",
       "    <tr>\n",
       "      <th>9</th>\n",
       "      <td>0.111024</td>\n",
       "      <td>0.133944</td>\n",
       "      <td>0.086520</td>\n",
       "      <td>0.049215</td>\n",
       "      <td>0.043803</td>\n",
       "      <td>0.049809</td>\n",
       "      <td>0.133944</td>\n",
       "      <td>0.094211</td>\n",
       "      <td>0.108696</td>\n",
       "      <td>0.107618</td>\n",
       "      <td>...</td>\n",
       "      <td>0.053891</td>\n",
       "      <td>0.053725</td>\n",
       "      <td>0.052418</td>\n",
       "      <td>0.053346</td>\n",
       "      <td>0.053887</td>\n",
       "      <td>0.053891</td>\n",
       "      <td>0.053888</td>\n",
       "      <td>0.053725</td>\n",
       "      <td>0.052417</td>\n",
       "      <td>0.053355</td>\n",
       "    </tr>\n",
       "  </tbody>\n",
       "</table>\n",
       "<p>10 rows × 84 columns</p>\n",
       "</div>"
      ],
      "text/plain": [
       "     model0    model1    model2    model3    model4    model5    model6  \\\n",
       "0  0.139721  0.142153  0.107023  0.097345  0.100543  0.101065  0.142153   \n",
       "1  0.158451  0.131473  0.142550  0.160275  0.165895  0.155102  0.131473   \n",
       "2  0.125281  0.079343  0.081834  0.097390  0.103663  0.097541  0.079343   \n",
       "3  0.092734  0.080572  0.058372  0.043839  0.044729  0.050307  0.080572   \n",
       "4  0.095504  0.096877  0.073646  0.050112  0.045565  0.078465  0.096877   \n",
       "5  0.253117  0.170955  0.188492  0.207535  0.215756  0.193230  0.170955   \n",
       "6  0.176822  0.261144  0.232946  0.185434  0.170591  0.178987  0.261144   \n",
       "7  0.147760  0.243675  0.203029  0.157354  0.145147  0.157782  0.243675   \n",
       "8  0.121550  0.118643  0.081072  0.051661  0.050923  0.061811  0.118643   \n",
       "9  0.111024  0.133944  0.086520  0.049215  0.043803  0.049809  0.133944   \n",
       "\n",
       "     model7    model8    model9  ...   model74   model75   model76   model77  \\\n",
       "0  0.109105  0.115594  0.112558  ...  0.093831  0.093623  0.093754  0.093701   \n",
       "1  0.138777  0.132855  0.134137  ...  0.154942  0.157302  0.158616  0.155644   \n",
       "2  0.082527  0.079115  0.078355  ...  0.096901  0.096241  0.095298  0.096768   \n",
       "3  0.060574  0.061186  0.063289  ...  0.045510  0.045912  0.046388  0.045371   \n",
       "4  0.074377  0.075853  0.078983  ...  0.069233  0.069373  0.071233  0.070731   \n",
       "5  0.185619  0.185944  0.183004  ...  0.203798  0.203115  0.201526  0.201864   \n",
       "6  0.222238  0.234129  0.235187  ...  0.179051  0.178380  0.177537  0.179788   \n",
       "7  0.199537  0.213320  0.212644  ...  0.157834  0.157379  0.149200  0.151626   \n",
       "8  0.080692  0.090714  0.089532  ...  0.049517  0.049126  0.048650  0.048620   \n",
       "9  0.094211  0.108696  0.107618  ...  0.053891  0.053725  0.052418  0.053346   \n",
       "\n",
       "    model78   model79   model80   model81   model82   model83  \n",
       "0  0.093831  0.093831  0.093830  0.093623  0.093755  0.093701  \n",
       "1  0.154942  0.154942  0.154941  0.157302  0.158616  0.155644  \n",
       "2  0.096901  0.096901  0.096901  0.096240  0.095298  0.096768  \n",
       "3  0.045507  0.045506  0.045509  0.045912  0.046388  0.045371  \n",
       "4  0.069234  0.069233  0.069234  0.069373  0.071236  0.070731  \n",
       "5  0.203796  0.203799  0.203798  0.203115  0.201526  0.201864  \n",
       "6  0.179051  0.179051  0.179051  0.178380  0.177537  0.179788  \n",
       "7  0.157857  0.157858  0.157856  0.157379  0.149200  0.151625  \n",
       "8  0.049517  0.049519  0.049517  0.049127  0.048650  0.048620  \n",
       "9  0.053887  0.053891  0.053888  0.053725  0.052417  0.053355  \n",
       "\n",
       "[10 rows x 84 columns]"
      ]
     },
     "execution_count": 141,
     "metadata": {},
     "output_type": "execute_result"
    }
   ],
   "source": [
    "cv2_week_splits"
   ]
  },
  {
   "cell_type": "code",
   "execution_count": 142,
   "id": "6af8ed06-788c-47e6-9c6c-e55c5216ae22",
   "metadata": {},
   "outputs": [],
   "source": [
    "cv2_week_splits_desriptive = pd.DataFrame(index=cv2_week_splits.columns)"
   ]
  },
  {
   "cell_type": "code",
   "execution_count": 143,
   "id": "ad8e7932-bbe3-4219-ac33-776047fad0c4",
   "metadata": {},
   "outputs": [],
   "source": [
    "cv2_week_splits_desriptive['mean'] = cv2_week_splits.mean()\n",
    "cv2_week_splits_desriptive['std'] = cv2_week_splits.std()\n",
    "# cv2_week_splits_desriptive['margin_up'] = \\\n",
    "#     cv2_week_splits_desriptive['mean'] + 1.96*cv2_week_splits_desriptive['std']/np.sqrt(5)\n",
    "# cv2_week_splits_desriptive['margin_low'] = \\\n",
    "#     cv2_week_splits_desriptive['mean'] - 1.96*cv2_week_splits_desriptive['std']/np.sqrt(5)"
   ]
  },
  {
   "cell_type": "code",
   "execution_count": 144,
   "id": "d64d0f91-0ef8-4d83-96a2-84acde3d56e6",
   "metadata": {},
   "outputs": [],
   "source": [
    "cv2_week_splits_top_models = cv2_week_splits_desriptive.sort_values('mean')[:10].index"
   ]
  },
  {
   "cell_type": "code",
   "execution_count": 145,
   "id": "bf5b43a8-83f8-4bac-ba6e-6e5f9b9159bf",
   "metadata": {},
   "outputs": [
    {
     "data": {
      "text/plain": [
       "Index(['model31', 'model30', 'model4', 'model76', 'model82', 'model77',\n",
       "       'model83', 'model25', 'model24', 'model19'],\n",
       "      dtype='object')"
      ]
     },
     "execution_count": 145,
     "metadata": {},
     "output_type": "execute_result"
    }
   ],
   "source": [
    "cv2_week_splits_top_models"
   ]
  },
  {
   "cell_type": "code",
   "execution_count": 146,
   "id": "9ae46f57-fa13-48f4-a4bb-1eb509311912",
   "metadata": {},
   "outputs": [],
   "source": [
    "# top df without sort\n",
    "cv2_week_splits_top = \\\n",
    "    cv2_week_splits.loc[:, cv2_week_splits.columns.isin(cv2_week_splits_top_models)].copy()"
   ]
  },
  {
   "cell_type": "code",
   "execution_count": 147,
   "id": "2d76fdcc-2032-4234-a93e-82b63a1c75c8",
   "metadata": {},
   "outputs": [],
   "source": [
    "cv2_week_splits_desriptive_top = \\\n",
    "    cv2_week_splits_desriptive.loc[cv2_week_splits_desriptive.index.isin(cv2_week_splits_top_models)].copy()"
   ]
  },
  {
   "cell_type": "code",
   "execution_count": 148,
   "id": "17115572-6307-4de6-bf88-8207903f8e62",
   "metadata": {},
   "outputs": [
    {
     "data": {
      "text/html": [
       "<div>\n",
       "<style scoped>\n",
       "    .dataframe tbody tr th:only-of-type {\n",
       "        vertical-align: middle;\n",
       "    }\n",
       "\n",
       "    .dataframe tbody tr th {\n",
       "        vertical-align: top;\n",
       "    }\n",
       "\n",
       "    .dataframe thead th {\n",
       "        text-align: right;\n",
       "    }\n",
       "</style>\n",
       "<table border=\"1\" class=\"dataframe\">\n",
       "  <thead>\n",
       "    <tr style=\"text-align: right;\">\n",
       "      <th></th>\n",
       "      <th>mean</th>\n",
       "      <th>std</th>\n",
       "    </tr>\n",
       "  </thead>\n",
       "  <tbody>\n",
       "    <tr>\n",
       "      <th>model4</th>\n",
       "      <td>0.108662</td>\n",
       "      <td>0.062903</td>\n",
       "    </tr>\n",
       "    <tr>\n",
       "      <th>model19</th>\n",
       "      <td>0.110016</td>\n",
       "      <td>0.062676</td>\n",
       "    </tr>\n",
       "    <tr>\n",
       "      <th>model24</th>\n",
       "      <td>0.110016</td>\n",
       "      <td>0.062676</td>\n",
       "    </tr>\n",
       "    <tr>\n",
       "      <th>model25</th>\n",
       "      <td>0.110016</td>\n",
       "      <td>0.062676</td>\n",
       "    </tr>\n",
       "    <tr>\n",
       "      <th>model30</th>\n",
       "      <td>0.108662</td>\n",
       "      <td>0.062903</td>\n",
       "    </tr>\n",
       "    <tr>\n",
       "      <th>model31</th>\n",
       "      <td>0.108662</td>\n",
       "      <td>0.062903</td>\n",
       "    </tr>\n",
       "    <tr>\n",
       "      <th>model76</th>\n",
       "      <td>0.109462</td>\n",
       "      <td>0.057682</td>\n",
       "    </tr>\n",
       "    <tr>\n",
       "      <th>model77</th>\n",
       "      <td>0.109746</td>\n",
       "      <td>0.057986</td>\n",
       "    </tr>\n",
       "    <tr>\n",
       "      <th>model82</th>\n",
       "      <td>0.109462</td>\n",
       "      <td>0.057682</td>\n",
       "    </tr>\n",
       "    <tr>\n",
       "      <th>model83</th>\n",
       "      <td>0.109747</td>\n",
       "      <td>0.057985</td>\n",
       "    </tr>\n",
       "  </tbody>\n",
       "</table>\n",
       "</div>"
      ],
      "text/plain": [
       "             mean       std\n",
       "model4   0.108662  0.062903\n",
       "model19  0.110016  0.062676\n",
       "model24  0.110016  0.062676\n",
       "model25  0.110016  0.062676\n",
       "model30  0.108662  0.062903\n",
       "model31  0.108662  0.062903\n",
       "model76  0.109462  0.057682\n",
       "model77  0.109746  0.057986\n",
       "model82  0.109462  0.057682\n",
       "model83  0.109747  0.057985"
      ]
     },
     "execution_count": 148,
     "metadata": {},
     "output_type": "execute_result"
    }
   ],
   "source": [
    "cv2_week_splits_desriptive_top"
   ]
  },
  {
   "cell_type": "code",
   "execution_count": 149,
   "id": "141fc8f4-e604-4d10-bb6a-86747358e266",
   "metadata": {},
   "outputs": [],
   "source": [
    "cv2_week_splits_best_model = cv2_week_splits_desriptive_top.sort_values('mean').index[0]"
   ]
  },
  {
   "cell_type": "code",
   "execution_count": 150,
   "id": "f85a22f0-d03b-4bda-8e6f-4449d76535fd",
   "metadata": {},
   "outputs": [
    {
     "data": {
      "text/plain": [
       "'model31'"
      ]
     },
     "execution_count": 150,
     "metadata": {},
     "output_type": "execute_result"
    }
   ],
   "source": [
    "cv2_week_splits_best_model"
   ]
  },
  {
   "cell_type": "code",
   "execution_count": 151,
   "id": "9a92218b-f30d-4521-ba30-36b50343c154",
   "metadata": {},
   "outputs": [],
   "source": [
    "for model in cv2_week_splits_desriptive_top.index:\n",
    "    cv2_week_splits_desriptive_top.loc[model, 'lower'] = \\\n",
    "        ci_bootstrap(cv2_week_splits[model])['ci_min']\n",
    "    cv2_week_splits_desriptive_top.loc[model, 'upper'] = \\\n",
    "        ci_bootstrap(cv2_week_splits[model])['ci_max']"
   ]
  },
  {
   "cell_type": "code",
   "execution_count": 152,
   "id": "1c77583b-65b2-414e-9d44-e6d65e75152c",
   "metadata": {},
   "outputs": [
    {
     "data": {
      "text/html": [
       "<div>\n",
       "<style scoped>\n",
       "    .dataframe tbody tr th:only-of-type {\n",
       "        vertical-align: middle;\n",
       "    }\n",
       "\n",
       "    .dataframe tbody tr th {\n",
       "        vertical-align: top;\n",
       "    }\n",
       "\n",
       "    .dataframe thead th {\n",
       "        text-align: right;\n",
       "    }\n",
       "</style>\n",
       "<table border=\"1\" class=\"dataframe\">\n",
       "  <thead>\n",
       "    <tr style=\"text-align: right;\">\n",
       "      <th></th>\n",
       "      <th>mean</th>\n",
       "      <th>std</th>\n",
       "      <th>lower</th>\n",
       "      <th>upper</th>\n",
       "    </tr>\n",
       "  </thead>\n",
       "  <tbody>\n",
       "    <tr>\n",
       "      <th>model4</th>\n",
       "      <td>0.108662</td>\n",
       "      <td>0.062903</td>\n",
       "      <td>0.075686</td>\n",
       "      <td>0.150790</td>\n",
       "    </tr>\n",
       "    <tr>\n",
       "      <th>model19</th>\n",
       "      <td>0.110016</td>\n",
       "      <td>0.062676</td>\n",
       "      <td>0.077244</td>\n",
       "      <td>0.151952</td>\n",
       "    </tr>\n",
       "    <tr>\n",
       "      <th>model24</th>\n",
       "      <td>0.110016</td>\n",
       "      <td>0.062676</td>\n",
       "      <td>0.077244</td>\n",
       "      <td>0.151952</td>\n",
       "    </tr>\n",
       "    <tr>\n",
       "      <th>model25</th>\n",
       "      <td>0.110016</td>\n",
       "      <td>0.062676</td>\n",
       "      <td>0.077244</td>\n",
       "      <td>0.151952</td>\n",
       "    </tr>\n",
       "    <tr>\n",
       "      <th>model30</th>\n",
       "      <td>0.108662</td>\n",
       "      <td>0.062903</td>\n",
       "      <td>0.075686</td>\n",
       "      <td>0.150790</td>\n",
       "    </tr>\n",
       "    <tr>\n",
       "      <th>model31</th>\n",
       "      <td>0.108662</td>\n",
       "      <td>0.062903</td>\n",
       "      <td>0.075686</td>\n",
       "      <td>0.150790</td>\n",
       "    </tr>\n",
       "    <tr>\n",
       "      <th>model76</th>\n",
       "      <td>0.109462</td>\n",
       "      <td>0.057682</td>\n",
       "      <td>0.080008</td>\n",
       "      <td>0.148371</td>\n",
       "    </tr>\n",
       "    <tr>\n",
       "      <th>model77</th>\n",
       "      <td>0.109746</td>\n",
       "      <td>0.057986</td>\n",
       "      <td>0.079819</td>\n",
       "      <td>0.148327</td>\n",
       "    </tr>\n",
       "    <tr>\n",
       "      <th>model82</th>\n",
       "      <td>0.109462</td>\n",
       "      <td>0.057682</td>\n",
       "      <td>0.080009</td>\n",
       "      <td>0.148371</td>\n",
       "    </tr>\n",
       "    <tr>\n",
       "      <th>model83</th>\n",
       "      <td>0.109747</td>\n",
       "      <td>0.057985</td>\n",
       "      <td>0.079822</td>\n",
       "      <td>0.148327</td>\n",
       "    </tr>\n",
       "  </tbody>\n",
       "</table>\n",
       "</div>"
      ],
      "text/plain": [
       "             mean       std     lower     upper\n",
       "model4   0.108662  0.062903  0.075686  0.150790\n",
       "model19  0.110016  0.062676  0.077244  0.151952\n",
       "model24  0.110016  0.062676  0.077244  0.151952\n",
       "model25  0.110016  0.062676  0.077244  0.151952\n",
       "model30  0.108662  0.062903  0.075686  0.150790\n",
       "model31  0.108662  0.062903  0.075686  0.150790\n",
       "model76  0.109462  0.057682  0.080008  0.148371\n",
       "model77  0.109746  0.057986  0.079819  0.148327\n",
       "model82  0.109462  0.057682  0.080009  0.148371\n",
       "model83  0.109747  0.057985  0.079822  0.148327"
      ]
     },
     "execution_count": 152,
     "metadata": {},
     "output_type": "execute_result"
    }
   ],
   "source": [
    "cv2_week_splits_desriptive_top"
   ]
  },
  {
   "cell_type": "code",
   "execution_count": 153,
   "id": "94587616-b3ff-484c-a4d2-2c48cad5088f",
   "metadata": {},
   "outputs": [
    {
     "data": {
      "image/png": "[encoded data removed]",
      "text/plain": [
       "<Figure size 800x400 with 2 Axes>"
      ]
     },
     "metadata": {},
     "output_type": "display_data"
    }
   ],
   "source": [
    "fig, ax = plt.subplots(2, 1, figsize=(8, 4))\n",
    "\n",
    "ax[0].scatter(\n",
    "    x = cv2_week_splits_desriptive_top.index,\n",
    "    y = cv2_week_splits_desriptive_top['mean'],\n",
    "    s=10)\n",
    "\n",
    "ax[0].errorbar(\n",
    "    x = cv2_week_splits_desriptive_top.index,\n",
    "    y = cv2_week_splits_desriptive_top['mean'],\n",
    "    yerr = cv2_week_splits_desriptive_top['std'],\n",
    "    ls='none',\n",
    "    lw=0.5,\n",
    "    capsize=1,\n",
    "    alpha=0.75)\n",
    "\n",
    "# best model\n",
    "ax[0].errorbar(\n",
    "    x = cv2_week_splits_desriptive_top.loc[cv2_week_splits_best_model].name,\n",
    "    y = cv2_week_splits_desriptive_top.loc[cv2_week_splits_best_model]['mean'],\n",
    "    yerr = cv2_week_splits_desriptive_top.loc[cv2_week_splits_best_model]['std'],\n",
    "    ls='none',\n",
    "    lw=1,\n",
    "    marker='.',\n",
    "    markersize=4,\n",
    "    capsize=1.5,\n",
    "    color=saturate_color(palette[1], 1.5))\n",
    "\n",
    "axis_rstyle(ax=ax[0], yticks=[0, 0.20, 0.05], ylim=[0, 0.20])\n",
    "ax[0].spines['bottom'].set_visible(False)\n",
    "ax[0].tick_params(bottom=False, labelbottom=False)\n",
    "\n",
    "sns.stripplot(\n",
    "    cv2_week_splits_top,\n",
    "    s=5,\n",
    "    color=palette[-2],\n",
    "    ax=ax[1])\n",
    "\n",
    "axis_rstyle(ax=ax[1])\n",
    "\n",
    "plt.xticks(rotation=90)\n",
    "plt.subplots_adjust(hspace=0.25)"
   ]
  },
  {
   "cell_type": "code",
   "execution_count": 154,
   "id": "4d7db87d-7ed8-4e86-81db-cf17787f7324",
   "metadata": {},
   "outputs": [],
   "source": [
    "# top 5 model smoothed data\n",
    "cv2_week_splits_top_smoothed = smoothed(cv2_week_splits_top[cv2_week_splits_top_models], n=200)"
   ]
  },
  {
   "cell_type": "code",
   "execution_count": 155,
   "id": "7e7fda62-b8a0-47c7-ac12-b77d67d19d1c",
   "metadata": {},
   "outputs": [
    {
     "data": {
      "text/html": [
       "<div>\n",
       "<style scoped>\n",
       "    .dataframe tbody tr th:only-of-type {\n",
       "        vertical-align: middle;\n",
       "    }\n",
       "\n",
       "    .dataframe tbody tr th {\n",
       "        vertical-align: top;\n",
       "    }\n",
       "\n",
       "    .dataframe thead th {\n",
       "        text-align: right;\n",
       "    }\n",
       "</style>\n",
       "<table border=\"1\" class=\"dataframe\">\n",
       "  <thead>\n",
       "    <tr style=\"text-align: right;\">\n",
       "      <th></th>\n",
       "      <th>model31</th>\n",
       "      <th>model30</th>\n",
       "      <th>model4</th>\n",
       "      <th>model76</th>\n",
       "      <th>model82</th>\n",
       "      <th>model77</th>\n",
       "      <th>model83</th>\n",
       "      <th>model25</th>\n",
       "      <th>model24</th>\n",
       "      <th>model19</th>\n",
       "    </tr>\n",
       "  </thead>\n",
       "  <tbody>\n",
       "    <tr>\n",
       "      <th>0.000000</th>\n",
       "      <td>0.100543</td>\n",
       "      <td>0.100543</td>\n",
       "      <td>0.100543</td>\n",
       "      <td>0.093754</td>\n",
       "      <td>0.093755</td>\n",
       "      <td>0.093701</td>\n",
       "      <td>0.093701</td>\n",
       "      <td>0.097345</td>\n",
       "      <td>0.097345</td>\n",
       "      <td>0.097345</td>\n",
       "    </tr>\n",
       "    <tr>\n",
       "      <th>0.045226</th>\n",
       "      <td>0.108615</td>\n",
       "      <td>0.108615</td>\n",
       "      <td>0.108615</td>\n",
       "      <td>0.101860</td>\n",
       "      <td>0.101861</td>\n",
       "      <td>0.101211</td>\n",
       "      <td>0.101210</td>\n",
       "      <td>0.105326</td>\n",
       "      <td>0.105326</td>\n",
       "      <td>0.105326</td>\n",
       "    </tr>\n",
       "    <tr>\n",
       "      <th>0.090452</th>\n",
       "      <td>0.116098</td>\n",
       "      <td>0.116098</td>\n",
       "      <td>0.116098</td>\n",
       "      <td>0.109371</td>\n",
       "      <td>0.109372</td>\n",
       "      <td>0.108181</td>\n",
       "      <td>0.108181</td>\n",
       "      <td>0.112714</td>\n",
       "      <td>0.112714</td>\n",
       "      <td>0.112714</td>\n",
       "    </tr>\n",
       "    <tr>\n",
       "      <th>0.135678</th>\n",
       "      <td>0.123008</td>\n",
       "      <td>0.123008</td>\n",
       "      <td>0.123008</td>\n",
       "      <td>0.116301</td>\n",
       "      <td>0.116302</td>\n",
       "      <td>0.114628</td>\n",
       "      <td>0.114627</td>\n",
       "      <td>0.119524</td>\n",
       "      <td>0.119524</td>\n",
       "      <td>0.119524</td>\n",
       "    </tr>\n",
       "    <tr>\n",
       "      <th>0.180905</th>\n",
       "      <td>0.129360</td>\n",
       "      <td>0.129360</td>\n",
       "      <td>0.129360</td>\n",
       "      <td>0.122667</td>\n",
       "      <td>0.122667</td>\n",
       "      <td>0.120563</td>\n",
       "      <td>0.120563</td>\n",
       "      <td>0.125774</td>\n",
       "      <td>0.125774</td>\n",
       "      <td>0.125774</td>\n",
       "    </tr>\n",
       "    <tr>\n",
       "      <th>...</th>\n",
       "      <td>...</td>\n",
       "      <td>...</td>\n",
       "      <td>...</td>\n",
       "      <td>...</td>\n",
       "      <td>...</td>\n",
       "      <td>...</td>\n",
       "      <td>...</td>\n",
       "      <td>...</td>\n",
       "      <td>...</td>\n",
       "      <td>...</td>\n",
       "    </tr>\n",
       "    <tr>\n",
       "      <th>8.819095</th>\n",
       "      <td>0.026995</td>\n",
       "      <td>0.026995</td>\n",
       "      <td>0.026995</td>\n",
       "      <td>0.032011</td>\n",
       "      <td>0.032011</td>\n",
       "      <td>0.032169</td>\n",
       "      <td>0.032176</td>\n",
       "      <td>0.029515</td>\n",
       "      <td>0.029515</td>\n",
       "      <td>0.029515</td>\n",
       "    </tr>\n",
       "    <tr>\n",
       "      <th>8.864322</th>\n",
       "      <td>0.030218</td>\n",
       "      <td>0.030218</td>\n",
       "      <td>0.030218</td>\n",
       "      <td>0.036060</td>\n",
       "      <td>0.036059</td>\n",
       "      <td>0.036379</td>\n",
       "      <td>0.036386</td>\n",
       "      <td>0.033360</td>\n",
       "      <td>0.033360</td>\n",
       "      <td>0.033360</td>\n",
       "    </tr>\n",
       "    <tr>\n",
       "      <th>8.909548</th>\n",
       "      <td>0.034078</td>\n",
       "      <td>0.034078</td>\n",
       "      <td>0.034078</td>\n",
       "      <td>0.040794</td>\n",
       "      <td>0.040794</td>\n",
       "      <td>0.041295</td>\n",
       "      <td>0.041302</td>\n",
       "      <td>0.037908</td>\n",
       "      <td>0.037908</td>\n",
       "      <td>0.037908</td>\n",
       "    </tr>\n",
       "    <tr>\n",
       "      <th>8.954774</th>\n",
       "      <td>0.038599</td>\n",
       "      <td>0.038599</td>\n",
       "      <td>0.038599</td>\n",
       "      <td>0.046239</td>\n",
       "      <td>0.046238</td>\n",
       "      <td>0.046942</td>\n",
       "      <td>0.046950</td>\n",
       "      <td>0.043184</td>\n",
       "      <td>0.043184</td>\n",
       "      <td>0.043184</td>\n",
       "    </tr>\n",
       "    <tr>\n",
       "      <th>9.000000</th>\n",
       "      <td>0.043803</td>\n",
       "      <td>0.043803</td>\n",
       "      <td>0.043803</td>\n",
       "      <td>0.052418</td>\n",
       "      <td>0.052417</td>\n",
       "      <td>0.053346</td>\n",
       "      <td>0.053355</td>\n",
       "      <td>0.049215</td>\n",
       "      <td>0.049215</td>\n",
       "      <td>0.049215</td>\n",
       "    </tr>\n",
       "  </tbody>\n",
       "</table>\n",
       "<p>200 rows × 10 columns</p>\n",
       "</div>"
      ],
      "text/plain": [
       "           model31   model30    model4   model76   model82   model77  \\\n",
       "0.000000  0.100543  0.100543  0.100543  0.093754  0.093755  0.093701   \n",
       "0.045226  0.108615  0.108615  0.108615  0.101860  0.101861  0.101211   \n",
       "0.090452  0.116098  0.116098  0.116098  0.109371  0.109372  0.108181   \n",
       "0.135678  0.123008  0.123008  0.123008  0.116301  0.116302  0.114628   \n",
       "0.180905  0.129360  0.129360  0.129360  0.122667  0.122667  0.120563   \n",
       "...            ...       ...       ...       ...       ...       ...   \n",
       "8.819095  0.026995  0.026995  0.026995  0.032011  0.032011  0.032169   \n",
       "8.864322  0.030218  0.030218  0.030218  0.036060  0.036059  0.036379   \n",
       "8.909548  0.034078  0.034078  0.034078  0.040794  0.040794  0.041295   \n",
       "8.954774  0.038599  0.038599  0.038599  0.046239  0.046238  0.046942   \n",
       "9.000000  0.043803  0.043803  0.043803  0.052418  0.052417  0.053346   \n",
       "\n",
       "           model83   model25   model24   model19  \n",
       "0.000000  0.093701  0.097345  0.097345  0.097345  \n",
       "0.045226  0.101210  0.105326  0.105326  0.105326  \n",
       "0.090452  0.108181  0.112714  0.112714  0.112714  \n",
       "0.135678  0.114627  0.119524  0.119524  0.119524  \n",
       "0.180905  0.120563  0.125774  0.125774  0.125774  \n",
       "...            ...       ...       ...       ...  \n",
       "8.819095  0.032176  0.029515  0.029515  0.029515  \n",
       "8.864322  0.036386  0.033360  0.033360  0.033360  \n",
       "8.909548  0.041302  0.037908  0.037908  0.037908  \n",
       "8.954774  0.046950  0.043184  0.043184  0.043184  \n",
       "9.000000  0.053355  0.049215  0.049215  0.049215  \n",
       "\n",
       "[200 rows x 10 columns]"
      ]
     },
     "execution_count": 155,
     "metadata": {},
     "output_type": "execute_result"
    }
   ],
   "source": [
    "cv2_week_splits_top_smoothed"
   ]
  },
  {
   "cell_type": "code",
   "execution_count": 156,
   "id": "c3a5d082-080c-462e-a27d-e90a331f6f82",
   "metadata": {},
   "outputs": [
    {
     "data": {
      "image/png": "[encoded data removed]",
      "text/plain": [
       "<Figure size 800x250 with 1 Axes>"
      ]
     },
     "metadata": {},
     "output_type": "display_data"
    }
   ],
   "source": [
    "plt.plot(\n",
    "    cv2_week_splits_top_smoothed\n",
    ")\n",
    "plt.legend(**legend_inline(), labels=cv2_week_splits_top_smoothed.columns);\n",
    "ax_current().xaxis.set_major_locator(mpl.ticker.MaxNLocator(integer=True))\n",
    "axis_rstyle(xticks=[0, 9, 1], offset_left=10)"
   ]
  },
  {
   "cell_type": "code",
   "execution_count": 157,
   "id": "9b92ae5d-6448-459d-9dc1-1b18146a2e39",
   "metadata": {},
   "outputs": [],
   "source": [
    "cv2_week_period = train.loc['2017-05-22':'2017-07-30'].groupby('week').mean().copy()"
   ]
  },
  {
   "cell_type": "code",
   "execution_count": 158,
   "id": "fedb618e-7fa0-48d6-814a-e6d39d76f030",
   "metadata": {},
   "outputs": [],
   "source": [
    "cv2_week_period = train.loc['2017-05-22':'2017-07-30'].groupby('week').agg({'target1': ['mean', 'std']})"
   ]
  },
  {
   "cell_type": "code",
   "execution_count": 159,
   "id": "3ef54ec1-9309-4224-920f-bcd1d5e1c4c8",
   "metadata": {},
   "outputs": [
    {
     "data": {
      "text/html": [
       "<div>\n",
       "<style scoped>\n",
       "    .dataframe tbody tr th:only-of-type {\n",
       "        vertical-align: middle;\n",
       "    }\n",
       "\n",
       "    .dataframe tbody tr th {\n",
       "        vertical-align: top;\n",
       "    }\n",
       "\n",
       "    .dataframe thead tr th {\n",
       "        text-align: left;\n",
       "    }\n",
       "\n",
       "    .dataframe thead tr:last-of-type th {\n",
       "        text-align: right;\n",
       "    }\n",
       "</style>\n",
       "<table border=\"1\" class=\"dataframe\">\n",
       "  <thead>\n",
       "    <tr>\n",
       "      <th></th>\n",
       "      <th colspan=\"2\" halign=\"left\">target1</th>\n",
       "    </tr>\n",
       "    <tr>\n",
       "      <th></th>\n",
       "      <th>mean</th>\n",
       "      <th>std</th>\n",
       "    </tr>\n",
       "    <tr>\n",
       "      <th>week</th>\n",
       "      <th></th>\n",
       "      <th></th>\n",
       "    </tr>\n",
       "  </thead>\n",
       "  <tbody>\n",
       "    <tr>\n",
       "      <th>21</th>\n",
       "      <td>33421.514442</td>\n",
       "      <td>7224.772556</td>\n",
       "    </tr>\n",
       "    <tr>\n",
       "      <th>22</th>\n",
       "      <td>34221.089650</td>\n",
       "      <td>7133.985678</td>\n",
       "    </tr>\n",
       "    <tr>\n",
       "      <th>23</th>\n",
       "      <td>34499.918007</td>\n",
       "      <td>7145.742065</td>\n",
       "    </tr>\n",
       "    <tr>\n",
       "      <th>24</th>\n",
       "      <td>35152.570167</td>\n",
       "      <td>7199.793188</td>\n",
       "    </tr>\n",
       "    <tr>\n",
       "      <th>25</th>\n",
       "      <td>36620.107222</td>\n",
       "      <td>7489.886715</td>\n",
       "    </tr>\n",
       "    <tr>\n",
       "      <th>26</th>\n",
       "      <td>31517.131081</td>\n",
       "      <td>6324.227582</td>\n",
       "    </tr>\n",
       "    <tr>\n",
       "      <th>27</th>\n",
       "      <td>34202.385698</td>\n",
       "      <td>6739.189730</td>\n",
       "    </tr>\n",
       "    <tr>\n",
       "      <th>28</th>\n",
       "      <td>35866.413542</td>\n",
       "      <td>6585.599871</td>\n",
       "    </tr>\n",
       "    <tr>\n",
       "      <th>29</th>\n",
       "      <td>36166.998893</td>\n",
       "      <td>6954.952223</td>\n",
       "    </tr>\n",
       "    <tr>\n",
       "      <th>30</th>\n",
       "      <td>37816.149344</td>\n",
       "      <td>6916.816790</td>\n",
       "    </tr>\n",
       "  </tbody>\n",
       "</table>\n",
       "</div>"
      ],
      "text/plain": [
       "           target1             \n",
       "              mean          std\n",
       "week                           \n",
       "21    33421.514442  7224.772556\n",
       "22    34221.089650  7133.985678\n",
       "23    34499.918007  7145.742065\n",
       "24    35152.570167  7199.793188\n",
       "25    36620.107222  7489.886715\n",
       "26    31517.131081  6324.227582\n",
       "27    34202.385698  6739.189730\n",
       "28    35866.413542  6585.599871\n",
       "29    36166.998893  6954.952223\n",
       "30    37816.149344  6916.816790"
      ]
     },
     "execution_count": 159,
     "metadata": {},
     "output_type": "execute_result"
    }
   ],
   "source": [
    "cv2_week_period"
   ]
  },
  {
   "cell_type": "code",
   "execution_count": 160,
   "id": "73edabd1-5798-4ee1-ad73-1b67b30755f8",
   "metadata": {},
   "outputs": [],
   "source": [
    "cv2_week_period_best_model = cv2_week_splits_top[cv2_week_splits_best_model].copy()"
   ]
  },
  {
   "cell_type": "code",
   "execution_count": 161,
   "id": "fa1b1118-003a-48a5-b5a6-15b185f73465",
   "metadata": {},
   "outputs": [],
   "source": [
    "cv2_week_period_best_model.index = cv2_week_period_best_model.index + 21"
   ]
  },
  {
   "cell_type": "code",
   "execution_count": 162,
   "id": "c0e3c25c-53b2-450e-a9ad-bf8b51a25add",
   "metadata": {},
   "outputs": [
    {
     "data": {
      "image/png": "[encoded data removed]",
      "text/plain": [
       "<Figure size 800x500 with 3 Axes>"
      ]
     },
     "metadata": {},
     "output_type": "display_data"
    }
   ],
   "source": [
    "# top model\n",
    "\n",
    "plt.figure(figsize=(8, 5))\n",
    "\n",
    "plt.subplot(3, 1, 1)\n",
    "plt.plot(\n",
    "    smoothed(cv2_week_period_best_model),\n",
    "    color=palette[2],\n",
    "    label=cv2_week_splits_best_model\n",
    ")\n",
    "# ax_current().xaxis.set_major_locator(mpl.ticker.MaxNLocator(integer=True))\n",
    "axis_rstyle(xlim=[21, 30], xticks=[21, 30, 1], offset_left=10)\n",
    "# plt.xticks(arange(10))\n",
    "# axis_remove_xaxis()\n",
    "plt.legend(\n",
    "    **legend_inline(3, bbox_to_anchor=(0, 1.1)),\n",
    "    **legend_create_handles(\n",
    "        3,\n",
    "        labels=['Best weekly-model RMSE', ' Demand Mean', 'Demand Std'],\n",
    "        colors=[palette[2], palette[0], palette[1]]\n",
    "    ));\n",
    "# axis_remove_xaxis()\n",
    "\n",
    "plt.subplot(3, 1, 2)\n",
    "plt.plot(\n",
    "    smoothed(cv2_week_period['target1']['mean']),\n",
    ")\n",
    "axis_rstyle(xlim=[21, 30], xticks=[21, 30, 1], yticks=[30000, 40000, 2500], offset_left=10)\n",
    "# plt.xticks(arange(10))\n",
    "# axis_remove_xaxis()\n",
    "\n",
    "plt.subplot(3, 1, 3)\n",
    "plt.plot(\n",
    "    smoothed(cv2_week_period['target1']['std']),\n",
    "    color=palette[1],\n",
    ")\n",
    "# ax_current().xaxis.set_major_locator(mpl.ticker.MaxNLocator(integer=True))\n",
    "axis_rstyle(xlim=[21, 30], xticks=[21, 30, 1], yticks=[6000, 8000, 500], offset_left=10)\n",
    "\n",
    "# plt.xticks(arange(10))\n",
    "plt.subplots_adjust(hspace=0.75)\n",
    "plt.show()"
   ]
  },
  {
   "cell_type": "code",
   "execution_count": 172,
   "id": "dd152c60-e539-4857-909b-41a47f7a4650",
   "metadata": {},
   "outputs": [],
   "source": [
    "arima2_week = cv2_week_models[cv2_week_splits_best_model]"
   ]
  },
  {
   "cell_type": "code",
   "execution_count": 173,
   "id": "672296de-b430-46e6-824e-7de53f211303",
   "metadata": {},
   "outputs": [
    {
     "data": {
      "text/plain": [
       "((1, 1, 2), [144, 72], [5, 2])"
      ]
     },
     "execution_count": 173,
     "metadata": {},
     "output_type": "execute_result"
    }
   ],
   "source": [
    "arima2_week"
   ]
  },
  {
   "cell_type": "code",
   "execution_count": 174,
   "id": "63fb47a5-576b-4bce-96a9-0c3b8a3050f2",
   "metadata": {},
   "outputs": [
    {
     "data": {
      "text/plain": [
       "mean     0.108662\n",
       "std      0.062903\n",
       "lower    0.075686\n",
       "upper    0.150790\n",
       "Name: model31, dtype: float64"
      ]
     },
     "execution_count": 174,
     "metadata": {},
     "output_type": "execute_result"
    }
   ],
   "source": [
    "cv2_week_splits_desriptive_top.loc[cv2_week_splits_best_model]"
   ]
  },
  {
   "cell_type": "code",
   "execution_count": 175,
   "id": "4d9bc7d0-219c-4ae8-a5ab-07a226139f46",
   "metadata": {},
   "outputs": [
    {
     "data": {
      "text/plain": [
       "0    0.100543\n",
       "1    0.165895\n",
       "2    0.103663\n",
       "3    0.044729\n",
       "4    0.045565\n",
       "5    0.215756\n",
       "6    0.170591\n",
       "7    0.145147\n",
       "8    0.050923\n",
       "9    0.043803\n",
       "Name: model31, dtype: float64"
      ]
     },
     "execution_count": 175,
     "metadata": {},
     "output_type": "execute_result"
    }
   ],
   "source": [
    "cv2_week_splits[cv2_week_splits_best_model]"
   ]
  },
  {
   "cell_type": "code",
   "execution_count": 176,
   "id": "3a23354e-80ca-486f-b968-878a517d0564",
   "metadata": {},
   "outputs": [],
   "source": [
    "arima_week = arima2_week"
   ]
  },
  {
   "cell_type": "markdown",
   "id": "66f5a540-5950-405a-bf26-d43d46a80cd0",
   "metadata": {},
   "source": [
    "### Forecasts"
   ]
  },
  {
   "cell_type": "code",
   "execution_count": 177,
   "id": "65ed94f1-225f-4a95-b689-cc980bb90419",
   "metadata": {},
   "outputs": [],
   "source": [
    "arima_week_order = arima_week[0]\n",
    "arima_week_fourier_period = arima_week[1]\n",
    "arima_week_fourier_order = arima_week[2]"
   ]
  },
  {
   "cell_type": "code",
   "execution_count": 178,
   "id": "49f1af69-7f58-42c9-b6ae-d601eb831663",
   "metadata": {},
   "outputs": [
    {
     "data": {
      "text/plain": [
       "((1, 1, 2), [144, 72], [5, 2])"
      ]
     },
     "execution_count": 178,
     "metadata": {},
     "output_type": "execute_result"
    }
   ],
   "source": [
    "arima_week_order, arima_week_fourier_period, arima_week_fourier_order"
   ]
  },
  {
   "cell_type": "markdown",
   "id": "f1675077-043f-47b5-801a-02a87de6fc63",
   "metadata": {},
   "source": [
    "#### August forecast"
   ]
  },
  {
   "cell_type": "code",
   "execution_count": 205,
   "id": "3f5c8b0f-14f5-4a76-8e0d-1227e47a3820",
   "metadata": {},
   "outputs": [],
   "source": [
    "data_august = pd.concat([train, valid], axis=0)"
   ]
  },
  {
   "cell_type": "code",
   "execution_count": 206,
   "id": "97d81949-a8db-4c50-9879-ad48e5e66ee2",
   "metadata": {},
   "outputs": [],
   "source": [
    "data_august = data_august[['target1', *exog_vars]].copy()"
   ]
  },
  {
   "cell_type": "code",
   "execution_count": 207,
   "id": "e1ac62a6-2a1c-4a48-8808-d515b18c9dc0",
   "metadata": {},
   "outputs": [],
   "source": [
    "data_august = data_august['2017-02-01':].copy()"
   ]
  },
  {
   "cell_type": "code",
   "execution_count": 208,
   "id": "2b3c3f5c-c2d8-412d-a921-894bd4a5a697",
   "metadata": {},
   "outputs": [
    {
     "name": "stdout",
     "output_type": "stream",
     "text": [
      "No NaN values in DataFrame\n"
     ]
    }
   ],
   "source": [
    "is_nan(data_august)"
   ]
  },
  {
   "cell_type": "code",
   "execution_count": 209,
   "id": "81d3c590-498c-4c27-99a1-8508fbd13755",
   "metadata": {},
   "outputs": [
    {
     "data": {
      "text/html": [
       "<div>\n",
       "<style scoped>\n",
       "    .dataframe tbody tr th:only-of-type {\n",
       "        vertical-align: middle;\n",
       "    }\n",
       "\n",
       "    .dataframe tbody tr th {\n",
       "        vertical-align: top;\n",
       "    }\n",
       "\n",
       "    .dataframe thead th {\n",
       "        text-align: right;\n",
       "    }\n",
       "</style>\n",
       "<table border=\"1\" class=\"dataframe\">\n",
       "  <thead>\n",
       "    <tr style=\"text-align: right;\">\n",
       "      <th></th>\n",
       "      <th>target1</th>\n",
       "      <th>temperature</th>\n",
       "      <th>target1_by_minutes</th>\n",
       "      <th>is_Friday</th>\n",
       "      <th>is_Sunday</th>\n",
       "      <th>is_31</th>\n",
       "    </tr>\n",
       "  </thead>\n",
       "  <tbody>\n",
       "    <tr>\n",
       "      <th>2017-02-01 00:00:00</th>\n",
       "      <td>29892.20339</td>\n",
       "      <td>11.57</td>\n",
       "      <td>34055.69620</td>\n",
       "      <td>0</td>\n",
       "      <td>0</td>\n",
       "      <td>0</td>\n",
       "    </tr>\n",
       "    <tr>\n",
       "      <th>2017-02-01 00:10:00</th>\n",
       "      <td>29086.77966</td>\n",
       "      <td>11.48</td>\n",
       "      <td>29814.68354</td>\n",
       "      <td>0</td>\n",
       "      <td>0</td>\n",
       "      <td>0</td>\n",
       "    </tr>\n",
       "    <tr>\n",
       "      <th>2017-02-01 00:20:00</th>\n",
       "      <td>28244.74576</td>\n",
       "      <td>11.43</td>\n",
       "      <td>29128.10127</td>\n",
       "      <td>0</td>\n",
       "      <td>0</td>\n",
       "      <td>0</td>\n",
       "    </tr>\n",
       "    <tr>\n",
       "      <th>2017-02-01 00:30:00</th>\n",
       "      <td>27793.22034</td>\n",
       "      <td>11.42</td>\n",
       "      <td>28228.86076</td>\n",
       "      <td>0</td>\n",
       "      <td>0</td>\n",
       "      <td>0</td>\n",
       "    </tr>\n",
       "    <tr>\n",
       "      <th>2017-02-01 00:40:00</th>\n",
       "      <td>27286.77966</td>\n",
       "      <td>11.30</td>\n",
       "      <td>27335.69620</td>\n",
       "      <td>0</td>\n",
       "      <td>0</td>\n",
       "      <td>0</td>\n",
       "    </tr>\n",
       "    <tr>\n",
       "      <th>...</th>\n",
       "      <td>...</td>\n",
       "      <td>...</td>\n",
       "      <td>...</td>\n",
       "      <td>...</td>\n",
       "      <td>...</td>\n",
       "      <td>...</td>\n",
       "    </tr>\n",
       "    <tr>\n",
       "      <th>2017-08-31 23:10:00</th>\n",
       "      <td>38619.48946</td>\n",
       "      <td>22.31</td>\n",
       "      <td>43407.30897</td>\n",
       "      <td>0</td>\n",
       "      <td>0</td>\n",
       "      <td>1</td>\n",
       "    </tr>\n",
       "    <tr>\n",
       "      <th>2017-08-31 23:20:00</th>\n",
       "      <td>38370.16648</td>\n",
       "      <td>22.36</td>\n",
       "      <td>42507.90698</td>\n",
       "      <td>0</td>\n",
       "      <td>0</td>\n",
       "      <td>1</td>\n",
       "    </tr>\n",
       "    <tr>\n",
       "      <th>2017-08-31 23:30:00</th>\n",
       "      <td>37724.48391</td>\n",
       "      <td>22.34</td>\n",
       "      <td>41659.53488</td>\n",
       "      <td>0</td>\n",
       "      <td>0</td>\n",
       "      <td>1</td>\n",
       "    </tr>\n",
       "    <tr>\n",
       "      <th>2017-08-31 23:40:00</th>\n",
       "      <td>36874.22863</td>\n",
       "      <td>22.26</td>\n",
       "      <td>40843.05648</td>\n",
       "      <td>0</td>\n",
       "      <td>0</td>\n",
       "      <td>1</td>\n",
       "    </tr>\n",
       "    <tr>\n",
       "      <th>2017-08-31 23:50:00</th>\n",
       "      <td>36215.76027</td>\n",
       "      <td>22.11</td>\n",
       "      <td>39631.09635</td>\n",
       "      <td>0</td>\n",
       "      <td>0</td>\n",
       "      <td>1</td>\n",
       "    </tr>\n",
       "  </tbody>\n",
       "</table>\n",
       "<p>30528 rows × 6 columns</p>\n",
       "</div>"
      ],
      "text/plain": [
       "                         target1  temperature  target1_by_minutes  is_Friday  \\\n",
       "2017-02-01 00:00:00  29892.20339        11.57         34055.69620          0   \n",
       "2017-02-01 00:10:00  29086.77966        11.48         29814.68354          0   \n",
       "2017-02-01 00:20:00  28244.74576        11.43         29128.10127          0   \n",
       "2017-02-01 00:30:00  27793.22034        11.42         28228.86076          0   \n",
       "2017-02-01 00:40:00  27286.77966        11.30         27335.69620          0   \n",
       "...                          ...          ...                 ...        ...   \n",
       "2017-08-31 23:10:00  38619.48946        22.31         43407.30897          0   \n",
       "2017-08-31 23:20:00  38370.16648        22.36         42507.90698          0   \n",
       "2017-08-31 23:30:00  37724.48391        22.34         41659.53488          0   \n",
       "2017-08-31 23:40:00  36874.22863        22.26         40843.05648          0   \n",
       "2017-08-31 23:50:00  36215.76027        22.11         39631.09635          0   \n",
       "\n",
       "                     is_Sunday  is_31  \n",
       "2017-02-01 00:00:00          0      0  \n",
       "2017-02-01 00:10:00          0      0  \n",
       "2017-02-01 00:20:00          0      0  \n",
       "2017-02-01 00:30:00          0      0  \n",
       "2017-02-01 00:40:00          0      0  \n",
       "...                        ...    ...  \n",
       "2017-08-31 23:10:00          0      1  \n",
       "2017-08-31 23:20:00          0      1  \n",
       "2017-08-31 23:30:00          0      1  \n",
       "2017-08-31 23:40:00          0      1  \n",
       "2017-08-31 23:50:00          0      1  \n",
       "\n",
       "[30528 rows x 6 columns]"
      ]
     },
     "execution_count": 209,
     "metadata": {},
     "output_type": "execute_result"
    }
   ],
   "source": [
    "data_august"
   ]
  },
  {
   "cell_type": "code",
   "execution_count": 220,
   "id": "b86c3f5b-e026-454c-88b2-cd542eab86f0",
   "metadata": {},
   "outputs": [],
   "source": [
    "august_week_forecasts = week_model_forecasts(\n",
    "    arima_week_order, arima_week_fourier_period, arima_week_fourier_order,\n",
    "    data=data_august['target1'], exog=data_august[exog_vars],\n",
    "    start='2017-08-01', end='2017-08-31', periods=5)"
   ]
  },
  {
   "cell_type": "code",
   "execution_count": 221,
   "id": "29f4a9a1-0685-4a04-85c6-bdc28971066b",
   "metadata": {},
   "outputs": [
    {
     "data": {
      "image/png": "[encoded data removed]",
      "text/plain": [
       "<Figure size 800x250 with 1 Axes>"
      ]
     },
     "metadata": {},
     "output_type": "display_data"
    }
   ],
   "source": [
    "plt.plot(\n",
    "    valid['target1'],\n",
    "    label='Actual',\n",
    "    color=palette[1]);\n",
    "plt.plot(\n",
    "    august_week_forecasts.index,\n",
    "    august_week_forecasts['forecast'],\n",
    "    label='Forecast',\n",
    "    color=palette[2])\n",
    "plt.fill_between(\n",
    "    x=august_week_forecasts.index,\n",
    "    y1=august_week_forecasts['lower80'],\n",
    "    y2=august_week_forecasts['upper80'],\n",
    "    label='Level 80%',\n",
    "    color=palette[2],\n",
    "    lw=0,\n",
    "    alpha=0.15)\n",
    "plt.fill_between(\n",
    "    x=august_week_forecasts.index,\n",
    "    y1=august_week_forecasts['lower95'],\n",
    "    y2=august_week_forecasts['upper95'],\n",
    "    label='Level 95%',\n",
    "    color=palette[2],\n",
    "    lw=0,\n",
    "    alpha=0.05)\n",
    "\n",
    "ax_current().set_xticks(ticks=pd.date_range(start='2017-08-01', end='2017-09-02', freq='2d'))\n",
    "ax_current().xaxis.set_major_formatter(mpl.dates.DateFormatter(fmt='%m-%d'))\n",
    "axis_rstyle(ylim=[-20000, 100000])\n",
    "plt.legend(**legend_inline())\n",
    "plt.show()"
   ]
  },
  {
   "cell_type": "code",
   "execution_count": 222,
   "id": "6dd66a59-e70e-400d-8ac0-3ffada7ed7ca",
   "metadata": {},
   "outputs": [
    {
     "data": {
      "text/plain": [
       "0.07009593495091912"
      ]
     },
     "execution_count": 222,
     "metadata": {},
     "output_type": "execute_result"
    }
   ],
   "source": [
    "root_mean_squared_log_error(august_week_forecasts['forecast'], valid['target1'])"
   ]
  },
  {
   "cell_type": "code",
   "execution_count": 227,
   "id": "4eb86a52-0610-498b-bc3b-4502fdc52031",
   "metadata": {},
   "outputs": [
    {
     "data": {
      "image/png": "[encoded data removed]",
      "text/plain": [
       "<Figure size 800x250 with 1 Axes>"
      ]
     },
     "metadata": {},
     "output_type": "display_data"
    }
   ],
   "source": [
    "plt.plot(\n",
    "    august_week_forecasts.index,\n",
    "    august_week_forecasts['forecast'],\n",
    "    label='Forecast',\n",
    "    color=palette[2], zorder=100)\n",
    "plt.plot(\n",
    "    valid['target1'],\n",
    "    label='Actual',\n",
    "    color=palette[1]);\n",
    "\n",
    "ax_current().set_xticks(ticks=pd.date_range(start='2017-08-01', end='2017-09-02', freq='2d'))\n",
    "ax_current().xaxis.set_major_formatter(mpl.dates.DateFormatter(fmt='%m-%d'))\n",
    "axis_rstyle(ylim=[20000, 60000])\n",
    "plt.legend(**legend_inline(bbox_to_anchor=(0, 0.9)))\n",
    "plt.show()"
   ]
  },
  {
   "cell_type": "markdown",
   "id": "915efb7b-cf01-4c90-94d2-188f8b030492",
   "metadata": {},
   "source": [
    "## Save Data"
   ]
  },
  {
   "cell_type": "code",
   "execution_count": null,
   "id": "4bf4681e-1072-482c-a0e7-a73f15b19540",
   "metadata": {},
   "outputs": [],
   "source": [
    "saveit(train, 'train', save_files)"
   ]
  },
  {
   "cell_type": "code",
   "execution_count": null,
   "id": "7c832df3-6d1c-477c-8d8c-c3fe83cdfaab",
   "metadata": {},
   "outputs": [],
   "source": [
    "saveit(valid, 'valid', save_files)"
   ]
  },
  {
   "cell_type": "code",
   "execution_count": null,
   "id": "6fdb87ab-1a45-48c6-a61f-fc8c63c0a4e9",
   "metadata": {},
   "outputs": [],
   "source": [
    "saveit(test, 'test', save_files)"
   ]
  },
  {
   "cell_type": "markdown",
   "id": "2f6d0a5d-d431-4f29-8565-b29753458d16",
   "metadata": {},
   "source": [
    "### Save Session"
   ]
  },
  {
   "cell_type": "code",
   "execution_count": null,
   "id": "8ab08731-3f55-453f-a724-7aa94c54d22a",
   "metadata": {},
   "outputs": [],
   "source": [
    "save_session(session_name)"
   ]
  },
  {
   "cell_type": "markdown",
   "id": "444d7865-009d-4458-a9a5-d82d0fd7608d",
   "metadata": {},
   "source": [
    "### Execution time"
   ]
  },
  {
   "cell_type": "code",
   "execution_count": null,
   "id": "08eda46b-1cb5-425e-875e-e2310a1eff12",
   "metadata": {},
   "outputs": [],
   "source": [
    "print(f'Execution time: {stopwatch.stop(start)}')"
   ]
  }
 ],
 "metadata": {
  "kernelspec": {
   "display_name": "electric-power-consumption",
   "language": "python",
   "name": "electric-power-consumption"
  },
  "language_info": {
   "codemirror_mode": {
    "name": "ipython",
    "version": 3
   },
   "file_extension": ".py",
   "mimetype": "text/x-python",
   "name": "python",
   "nbconvert_exporter": "python",
   "pygments_lexer": "ipython3",
   "version": "3.12.2"
  }
 },
 "nbformat": 4,
 "nbformat_minor": 5
}
