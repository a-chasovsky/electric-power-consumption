{
 "cells": [
  {
   "cell_type": "markdown",
   "id": "bfd95488-1653-48ef-a55f-4bf85a3d4355",
   "metadata": {},
   "source": [
    "### Load libraries, functions, palette, theme, etc."
   ]
  },
  {
   "cell_type": "code",
   "execution_count": 1,
   "id": "f82a597c-2f80-4ac5-af13-d61a91585574",
   "metadata": {},
   "outputs": [],
   "source": [
    "# load libraries\n",
    "%run _libraries.ipynb"
   ]
  },
  {
   "cell_type": "code",
   "execution_count": 2,
   "id": "31d55bbb-0194-4a2f-a58b-501bccc1ab97",
   "metadata": {},
   "outputs": [],
   "source": [
    "# load functions\n",
    "%run _functions_load.ipynb"
   ]
  },
  {
   "cell_type": "code",
   "execution_count": 3,
   "id": "cdaab8d1-f070-4712-af69-ec3b03fb30b7",
   "metadata": {},
   "outputs": [],
   "source": [
    "# start stopwatch\n",
    "start = stopwatch_start()"
   ]
  },
  {
   "cell_type": "code",
   "execution_count": 4,
   "id": "87b1ccff-0a28-400e-a86b-b2077106a841",
   "metadata": {},
   "outputs": [],
   "source": [
    "dir_current = '04-ml-model'"
   ]
  },
  {
   "cell_type": "code",
   "execution_count": 5,
   "id": "accbe79b-ed3a-42d0-aef3-d96a5f4fbfda",
   "metadata": {},
   "outputs": [],
   "source": [
    "dir_save_files = 'files/'"
   ]
  },
  {
   "cell_type": "code",
   "execution_count": 6,
   "id": "46e86c17-79c4-4a65-92a9-97bd76f361bd",
   "metadata": {},
   "outputs": [],
   "source": [
    "dir_load_files = 'files/'"
   ]
  },
  {
   "cell_type": "code",
   "execution_count": 7,
   "id": "7f1a62a6-680e-478d-b399-9325af77c4f3",
   "metadata": {},
   "outputs": [],
   "source": [
    "dir_save_img = 'docs/img/'"
   ]
  },
  {
   "cell_type": "code",
   "execution_count": 8,
   "id": "ec909319-b903-4280-aee3-3a386e29143f",
   "metadata": {},
   "outputs": [],
   "source": [
    "session_name = dir_current"
   ]
  },
  {
   "cell_type": "markdown",
   "id": "2fd7595e-1d6b-4c35-ab7b-31492ce1d829",
   "metadata": {},
   "source": [
    "# Section IV. ML-model"
   ]
  },
  {
   "cell_type": "markdown",
   "id": "581d8a03-f949-462c-8c3a-a326ba5f3349",
   "metadata": {},
   "source": [
    "## Load Saved Section if exists"
   ]
  },
  {
   "cell_type": "raw",
   "id": "e1b81604-d238-498c-8af9-0be6087170fc",
   "metadata": {},
   "source": [
    "if os.path.exists(f'sessions/{dir_save}'):\n",
    "    load_session(dir_save)\n",
    "else:\n",
    "    print(f\"No such session: 'sessions/{dir_save}'\")"
   ]
  },
  {
   "cell_type": "markdown",
   "id": "762f883a-25d8-4187-bea2-1b7bc5953d93",
   "metadata": {},
   "source": [
    "## Load Data"
   ]
  },
  {
   "cell_type": "markdown",
   "id": "8f9fe8e0-8ca9-4265-bf0b-0ce3128b2441",
   "metadata": {},
   "source": [
    "##### Dictionaries"
   ]
  },
  {
   "cell_type": "code",
   "execution_count": 9,
   "id": "9473bd44-2c56-4741-9031-883e58efeaf9",
   "metadata": {},
   "outputs": [],
   "source": [
    "datasets = loadit('datasets', dir=dir_load_files)"
   ]
  },
  {
   "cell_type": "code",
   "execution_count": 10,
   "id": "7af86880-85d6-4a7c-87b3-865e363c29d0",
   "metadata": {},
   "outputs": [],
   "source": [
    "variables = loadit('variables', dir=dir_load_files, create_empty_dict=True)"
   ]
  },
  {
   "cell_type": "code",
   "execution_count": 11,
   "id": "d110beca-97b7-4b31-b9d3-3762a3a96013",
   "metadata": {},
   "outputs": [],
   "source": [
    "cv = loadit('cv', dir=dir_load_files, create_empty_dict=True)"
   ]
  },
  {
   "cell_type": "markdown",
   "id": "4a6b5e63-38e0-4740-8c11-1beb02b554f4",
   "metadata": {},
   "source": [
    "##### Datasets"
   ]
  },
  {
   "cell_type": "code",
   "execution_count": 12,
   "id": "1b7e718d-9dff-4aec-b18a-fcadd29e77cc",
   "metadata": {},
   "outputs": [],
   "source": [
    "train = extract_variable('train_preprocessed', datasets)"
   ]
  },
  {
   "cell_type": "code",
   "execution_count": 13,
   "id": "7326f5d7-c66c-4bf3-83cd-b0ba8cf07c1d",
   "metadata": {},
   "outputs": [],
   "source": [
    "valid = extract_variable('valid_preprocessed', datasets)"
   ]
  },
  {
   "cell_type": "code",
   "execution_count": 14,
   "id": "929aa84d-03a6-40ce-a41d-e6f9efbf1c93",
   "metadata": {},
   "outputs": [
    {
     "name": "stdout",
     "output_type": "stream",
     "text": [
      "Variable test_preprocessed not found\n"
     ]
    }
   ],
   "source": [
    "test = extract_variable('test_preprocessed', datasets)"
   ]
  },
  {
   "cell_type": "markdown",
   "id": "8b381267-37a7-4e79-acf1-4e7ef947a7b1",
   "metadata": {},
   "source": [
    "##### CV results"
   ]
  },
  {
   "cell_type": "code",
   "execution_count": 15,
   "id": "d941fffb-54a6-4abc-96b9-dd52cb132ad0",
   "metadata": {},
   "outputs": [],
   "source": [
    "cv0 = extract_variable('cv0', cv)"
   ]
  },
  {
   "cell_type": "code",
   "execution_count": 16,
   "id": "cd0f054f-4b9c-469e-913e-0631b750556a",
   "metadata": {},
   "outputs": [],
   "source": [
    "cv1 = extract_variable('cv1', cv)"
   ]
  },
  {
   "cell_type": "code",
   "execution_count": 17,
   "id": "5ae9b7d5-6255-494d-8945-c1b881a0f5e5",
   "metadata": {},
   "outputs": [],
   "source": [
    "cv2 = extract_variable('cv2', cv)"
   ]
  },
  {
   "cell_type": "code",
   "execution_count": 18,
   "id": "ff175c58-1b5b-444a-87a7-1464abc928c3",
   "metadata": {},
   "outputs": [],
   "source": [
    "cv3 = extract_variable('cv3', cv)"
   ]
  },
  {
   "cell_type": "markdown",
   "id": "513a649c-2d3b-4be2-b3d7-b2b2df5ea3d3",
   "metadata": {},
   "source": [
    "## Features "
   ]
  },
  {
   "cell_type": "code",
   "execution_count": null,
   "id": "e30acf9b-c950-4bd3-ad99-a83d03c3c7f6",
   "metadata": {},
   "outputs": [],
   "source": []
  },
  {
   "cell_type": "code",
   "execution_count": null,
   "id": "81601383-0e52-4456-bc59-532d2a45c9ba",
   "metadata": {},
   "outputs": [],
   "source": []
  },
  {
   "cell_type": "code",
   "execution_count": null,
   "id": "5fdcd29f-c043-4420-b658-f7bf6af4014b",
   "metadata": {},
   "outputs": [],
   "source": []
  },
  {
   "cell_type": "code",
   "execution_count": null,
   "id": "e4dd67ed-c709-47e0-a918-5fcb442d3e06",
   "metadata": {},
   "outputs": [],
   "source": []
  },
  {
   "cell_type": "code",
   "execution_count": null,
   "id": "f42d0e70-41ff-4c71-bd15-c9a5c05a446d",
   "metadata": {},
   "outputs": [],
   "source": []
  },
  {
   "cell_type": "code",
   "execution_count": null,
   "id": "cae5c080-234b-474f-ab82-48c6fd728329",
   "metadata": {},
   "outputs": [],
   "source": []
  },
  {
   "cell_type": "code",
   "execution_count": null,
   "id": "694bbcf9-9ec1-4cb1-83f9-5c7a31c91c44",
   "metadata": {},
   "outputs": [],
   "source": []
  },
  {
   "cell_type": "code",
   "execution_count": null,
   "id": "df28cc35-a02d-4ee3-be2c-b61121d1c0e2",
   "metadata": {},
   "outputs": [],
   "source": []
  },
  {
   "cell_type": "markdown",
   "id": "141f4ff4-2132-4ea8-bf25-6dc6a8ea57f5",
   "metadata": {},
   "source": [
    "## Save Data"
   ]
  },
  {
   "cell_type": "code",
   "execution_count": null,
   "id": "609e74e0-cee0-4ac3-a51f-a6ddb7e25a38",
   "metadata": {},
   "outputs": [],
   "source": []
  },
  {
   "cell_type": "markdown",
   "id": "19db2316-0b0b-4cc5-8948-e1716acc21c2",
   "metadata": {},
   "source": [
    "### Execution time"
   ]
  },
  {
   "cell_type": "code",
   "execution_count": 153,
   "id": "d881449f-ea7a-4006-8501-9d615048035f",
   "metadata": {},
   "outputs": [
    {
     "name": "stdout",
     "output_type": "stream",
     "text": [
      "Execution time: 0:01:15\n"
     ]
    }
   ],
   "source": [
    "stopwatch_stop(start)"
   ]
  }
 ],
 "metadata": {
  "kernelspec": {
   "display_name": "autoregression-boosting",
   "language": "python",
   "name": "autoregression-boosting"
  },
  "language_info": {
   "codemirror_mode": {
    "name": "ipython",
    "version": 3
   },
   "file_extension": ".py",
   "mimetype": "text/x-python",
   "name": "python",
   "nbconvert_exporter": "python",
   "pygments_lexer": "ipython3",
   "version": "3.12.3"
  }
 },
 "nbformat": 4,
 "nbformat_minor": 5
}
