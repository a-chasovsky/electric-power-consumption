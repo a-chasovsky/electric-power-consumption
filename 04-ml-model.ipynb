{
 "cells": [
  {
   "cell_type": "markdown",
   "id": "20098d93-58c2-4d25-b2e9-add0972229f7",
   "metadata": {},
   "source": [
    "# Section IV. ML-model"
   ]
  },
  {
   "cell_type": "markdown",
   "id": "bfd95488-1653-48ef-a55f-4bf85a3d4355",
   "metadata": {},
   "source": [
    "### Load libraries, functions, palette, theme, etc."
   ]
  },
  {
   "cell_type": "code",
   "execution_count": 1,
   "id": "f82a597c-2f80-4ac5-af13-d61a91585574",
   "metadata": {},
   "outputs": [],
   "source": [
    "# load libraries\n",
    "%run libraries.ipynb"
   ]
  },
  {
   "cell_type": "code",
   "execution_count": 2,
   "id": "31d55bbb-0194-4a2f-a58b-501bccc1ab97",
   "metadata": {},
   "outputs": [],
   "source": [
    "# load functions\n",
    "%run functions.ipynb"
   ]
  },
  {
   "cell_type": "code",
   "execution_count": 3,
   "id": "cdaab8d1-f070-4712-af69-ec3b03fb30b7",
   "metadata": {},
   "outputs": [],
   "source": [
    "# start stopwatch\n",
    "start = stopwatch_start()"
   ]
  },
  {
   "cell_type": "code",
   "execution_count": 4,
   "id": "87b1ccff-0a28-400e-a86b-b2077106a841",
   "metadata": {},
   "outputs": [],
   "source": [
    "dir_current = '04-ml-model'"
   ]
  },
  {
   "cell_type": "code",
   "execution_count": 5,
   "id": "accbe79b-ed3a-42d0-aef3-d96a5f4fbfda",
   "metadata": {},
   "outputs": [],
   "source": [
    "dir_save_files = 'files/'"
   ]
  },
  {
   "cell_type": "code",
   "execution_count": 6,
   "id": "46e86c17-79c4-4a65-92a9-97bd76f361bd",
   "metadata": {},
   "outputs": [],
   "source": [
    "dir_load_files = 'files/'"
   ]
  },
  {
   "cell_type": "code",
   "execution_count": 7,
   "id": "7f1a62a6-680e-478d-b399-9325af77c4f3",
   "metadata": {},
   "outputs": [],
   "source": [
    "dir_save_img = 'docs/img/'"
   ]
  },
  {
   "cell_type": "code",
   "execution_count": 8,
   "id": "ec909319-b903-4280-aee3-3a386e29143f",
   "metadata": {},
   "outputs": [],
   "source": [
    "session_name = dir_current"
   ]
  },
  {
   "cell_type": "code",
   "execution_count": null,
   "id": "93b7eefe-6c30-45bb-be16-87d2ce104b57",
   "metadata": {},
   "outputs": [],
   "source": []
  },
  {
   "cell_type": "code",
   "execution_count": null,
   "id": "09cb31a7-cb06-44bd-8f3d-662afda59f07",
   "metadata": {},
   "outputs": [],
   "source": []
  },
  {
   "cell_type": "code",
   "execution_count": null,
   "id": "dbd8ec6c-f3e2-4231-9174-fccbd7f77169",
   "metadata": {},
   "outputs": [],
   "source": []
  },
  {
   "cell_type": "markdown",
   "id": "0d92383b-795a-49c9-93f5-c1e8bd0f73a2",
   "metadata": {},
   "source": [
    "### Load libraries, functions, palette, theme"
   ]
  },
  {
   "cell_type": "code",
   "execution_count": 1,
   "id": "81997122-5e93-4d6d-9b27-84c6c825359b",
   "metadata": {},
   "outputs": [],
   "source": [
    "import os\n",
    "from pathlib import Path"
   ]
  },
  {
   "cell_type": "code",
   "execution_count": 2,
   "id": "e5c47a04-e7df-44da-abd4-d86733495d77",
   "metadata": {},
   "outputs": [],
   "source": [
    "# load functions\n",
    "from __functions import *"
   ]
  },
  {
   "cell_type": "code",
   "execution_count": 3,
   "id": "3a8f3ea8-4809-40c6-a1ab-a7719120c779",
   "metadata": {},
   "outputs": [],
   "source": [
    "# load libraries and palette\n",
    "%run __libraries.ipynb"
   ]
  },
  {
   "cell_type": "code",
   "execution_count": 4,
   "id": "b30e4490-d81e-4e8c-9077-58ea68e28eee",
   "metadata": {},
   "outputs": [],
   "source": [
    "# start stopwatch\n",
    "start = stopwatch_start()"
   ]
  },
  {
   "cell_type": "markdown",
   "id": "7f27b393-3655-4d97-a73b-87501ecbb537",
   "metadata": {},
   "source": [
    "### Variables"
   ]
  },
  {
   "cell_type": "code",
   "execution_count": 4,
   "id": "2b6f51a8-96a7-4e92-a4ee-f491772927b7",
   "metadata": {},
   "outputs": [],
   "source": [
    "dir_current = '04-ml-model'"
   ]
  },
  {
   "cell_type": "code",
   "execution_count": 5,
   "id": "a5dfad50-2132-46f0-82de-9d712b45cb5c",
   "metadata": {},
   "outputs": [],
   "source": [
    "dir_save_files = 'files/'"
   ]
  },
  {
   "cell_type": "code",
   "execution_count": 6,
   "id": "43a9921a-680f-4a64-89b1-1d91713c792c",
   "metadata": {},
   "outputs": [],
   "source": [
    "dir_load_files = 'files/'"
   ]
  },
  {
   "cell_type": "code",
   "execution_count": 7,
   "id": "0270ad22-fbd9-4763-804a-9f79ed59aa40",
   "metadata": {},
   "outputs": [],
   "source": [
    "dir_save_img = 'docs/img/'"
   ]
  },
  {
   "cell_type": "markdown",
   "id": "2d4b5b83-400d-45b1-9c17-e4ba4ddbb4cc",
   "metadata": {},
   "source": [
    "### Load Files"
   ]
  },
  {
   "cell_type": "markdown",
   "id": "a9cfab59-618c-4fce-a651-a0becc3aa2af",
   "metadata": {},
   "source": [
    "##### Dictionaries"
   ]
  },
  {
   "cell_type": "code",
   "execution_count": 9,
   "id": "9473bd44-2c56-4741-9031-883e58efeaf9",
   "metadata": {},
   "outputs": [],
   "source": [
    "datasets = loadit('datasets', dir=dir_load_files)"
   ]
  },
  {
   "cell_type": "code",
   "execution_count": 10,
   "id": "7af86880-85d6-4a7c-87b3-865e363c29d0",
   "metadata": {},
   "outputs": [],
   "source": [
    "variables = loadit('variables', dir=dir_load_files, create_empty_dict=True)"
   ]
  },
  {
   "cell_type": "code",
   "execution_count": 11,
   "id": "d110beca-97b7-4b31-b9d3-3762a3a96013",
   "metadata": {},
   "outputs": [],
   "source": [
    "cv = loadit('cv', dir=dir_load_files, create_empty_dict=True)"
   ]
  },
  {
   "cell_type": "markdown",
   "id": "63424138-348d-488d-a643-0b0faf332a99",
   "metadata": {},
   "source": [
    "##### Datasets"
   ]
  },
  {
   "cell_type": "code",
   "execution_count": 12,
   "id": "1b7e718d-9dff-4aec-b18a-fcadd29e77cc",
   "metadata": {},
   "outputs": [],
   "source": [
    "train = extract_variable('train_preprocessed', datasets)"
   ]
  },
  {
   "cell_type": "code",
   "execution_count": 13,
   "id": "7326f5d7-c66c-4bf3-83cd-b0ba8cf07c1d",
   "metadata": {},
   "outputs": [],
   "source": [
    "valid = extract_variable('valid_preprocessed', datasets)"
   ]
  },
  {
   "cell_type": "code",
   "execution_count": 14,
   "id": "929aa84d-03a6-40ce-a41d-e6f9efbf1c93",
   "metadata": {},
   "outputs": [
    {
     "name": "stdout",
     "output_type": "stream",
     "text": [
      "Variable test_preprocessed not found\n"
     ]
    }
   ],
   "source": [
    "test = extract_variable('test_preprocessed', datasets)"
   ]
  },
  {
   "cell_type": "markdown",
   "id": "8762f1cb-25c7-4404-b856-b427dd1cb433",
   "metadata": {},
   "source": [
    "##### CV results"
   ]
  },
  {
   "cell_type": "code",
   "execution_count": 15,
   "id": "d941fffb-54a6-4abc-96b9-dd52cb132ad0",
   "metadata": {},
   "outputs": [],
   "source": [
    "cv0 = extract_variable('cv0', cv)"
   ]
  },
  {
   "cell_type": "code",
   "execution_count": 16,
   "id": "cd0f054f-4b9c-469e-913e-0631b750556a",
   "metadata": {},
   "outputs": [],
   "source": [
    "cv1 = extract_variable('cv1', cv)"
   ]
  },
  {
   "cell_type": "code",
   "execution_count": 17,
   "id": "5ae9b7d5-6255-494d-8945-c1b881a0f5e5",
   "metadata": {},
   "outputs": [],
   "source": [
    "cv2 = extract_variable('cv2', cv)"
   ]
  },
  {
   "cell_type": "code",
   "execution_count": 18,
   "id": "ff175c58-1b5b-444a-87a7-1464abc928c3",
   "metadata": {},
   "outputs": [],
   "source": [
    "cv3 = extract_variable('cv3', cv)"
   ]
  },
  {
   "cell_type": "markdown",
   "id": "1d6fb360-f44e-477f-9211-d42d1fde2df1",
   "metadata": {},
   "source": [
    "### Features "
   ]
  },
  {
   "cell_type": "code",
   "execution_count": null,
   "id": "850b9984-b606-472e-9947-8c981ec960c2",
   "metadata": {},
   "outputs": [],
   "source": []
  },
  {
   "cell_type": "code",
   "execution_count": null,
   "id": "9dfba843-e4eb-403e-b1e6-dcd2ed2e8c8a",
   "metadata": {},
   "outputs": [],
   "source": []
  },
  {
   "cell_type": "code",
   "execution_count": null,
   "id": "0cc9fc6e-f5ed-4c7a-8624-5f82a876da02",
   "metadata": {},
   "outputs": [],
   "source": []
  },
  {
   "cell_type": "code",
   "execution_count": null,
   "id": "7de9296b-26a6-4192-84f5-db41618591bb",
   "metadata": {},
   "outputs": [],
   "source": []
  },
  {
   "cell_type": "code",
   "execution_count": null,
   "id": "df28cc35-a02d-4ee3-be2c-b61121d1c0e2",
   "metadata": {},
   "outputs": [],
   "source": []
  },
  {
   "cell_type": "markdown",
   "id": "141f4ff4-2132-4ea8-bf25-6dc6a8ea57f5",
   "metadata": {},
   "source": [
    "## Save Data"
   ]
  },
  {
   "cell_type": "code",
   "execution_count": null,
   "id": "609e74e0-cee0-4ac3-a51f-a6ddb7e25a38",
   "metadata": {},
   "outputs": [],
   "source": []
  },
  {
   "cell_type": "markdown",
   "id": "19db2316-0b0b-4cc5-8948-e1716acc21c2",
   "metadata": {},
   "source": [
    "### Execution time"
   ]
  },
  {
   "cell_type": "code",
   "execution_count": 19,
   "id": "d881449f-ea7a-4006-8501-9d615048035f",
   "metadata": {},
   "outputs": [
    {
     "name": "stdout",
     "output_type": "stream",
     "text": [
      "Execution time: 0:00:00\n"
     ]
    }
   ],
   "source": [
    "stopwatch_stop(start)"
   ]
  }
 ],
 "metadata": {
  "kernelspec": {
   "display_name": "autoregression-boosting",
   "language": "python",
   "name": "autoregression-boosting"
  },
  "language_info": {
   "codemirror_mode": {
    "name": "ipython",
    "version": 3
   },
   "file_extension": ".py",
   "mimetype": "text/x-python",
   "name": "python",
   "nbconvert_exporter": "python",
   "pygments_lexer": "ipython3",
   "version": "3.12.3"
  }
 },
 "nbformat": 4,
 "nbformat_minor": 5
}
