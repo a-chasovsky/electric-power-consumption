{
 "cells": [
  {
   "cell_type": "markdown",
   "id": "7a31aa38-c220-44ad-b63f-5ea7d9433608",
   "metadata": {},
   "source": [
    "# Section II. Feature Engineering"
   ]
  },
  {
   "cell_type": "markdown",
   "id": "4c748348-2de2-4b9d-94f0-e3622b10ab51",
   "metadata": {},
   "source": [
    "### Load libraries, functions, palette, theme"
   ]
  },
  {
   "cell_type": "code",
   "execution_count": 1,
   "id": "d2329824-fdd4-4eeb-96c0-a6d4e102708a",
   "metadata": {},
   "outputs": [],
   "source": [
    "import os\n",
    "from pathlib import Path"
   ]
  },
  {
   "cell_type": "code",
   "execution_count": null,
   "id": "4820ad6d-103c-4bc8-b642-fed90d7c2354",
   "metadata": {},
   "outputs": [],
   "source": [
    "# load functions\n",
    "from __functions import *"
   ]
  },
  {
   "cell_type": "code",
   "execution_count": null,
   "id": "51e5354b-d524-4794-85b0-e1b106cbbdf7",
   "metadata": {},
   "outputs": [],
   "source": [
    "# load libraries and palette\n",
    "%run __libraries.ipynb"
   ]
  },
  {
   "cell_type": "code",
   "execution_count": null,
   "id": "172c7c71-09fd-4777-9fbe-f2a0ddae7751",
   "metadata": {},
   "outputs": [],
   "source": [
    "# start stopwatch\n",
    "start = stopwatch_start()"
   ]
  },
  {
   "cell_type": "markdown",
   "id": "ded363b3-16c1-44cc-97f5-224dc90823d5",
   "metadata": {},
   "source": [
    "### Variables"
   ]
  },
  {
   "cell_type": "code",
   "execution_count": null,
   "id": "6065d91f-3aae-46a5-9007-d10f5e93cec9",
   "metadata": {},
   "outputs": [],
   "source": [
    "dir_current = '02-feature-engineering'"
   ]
  },
  {
   "cell_type": "code",
   "execution_count": null,
   "id": "d5eb0b21-3004-4cdc-b8c7-15367a580cdd",
   "metadata": {},
   "outputs": [],
   "source": [
    "dir_load_files = 'files/'"
   ]
  },
  {
   "cell_type": "code",
   "execution_count": null,
   "id": "f3778bfd-e6a2-4471-8f17-e5729b4f3f81",
   "metadata": {},
   "outputs": [],
   "source": [
    "dir_save_files = 'files/'"
   ]
  },
  {
   "cell_type": "code",
   "execution_count": null,
   "id": "1c12fc15-6e67-4269-81d8-c5398d7f4e5a",
   "metadata": {},
   "outputs": [],
   "source": [
    "dir_save_img = 'docs/img/'"
   ]
  },
  {
   "cell_type": "markdown",
   "id": "f7902168-e7cc-49c1-a649-699cf33a199c",
   "metadata": {},
   "source": [
    "### Load Files"
   ]
  },
  {
   "cell_type": "markdown",
   "id": "f4665739-80d3-44b8-ba59-99a33fd444f5",
   "metadata": {},
   "source": [
    "##### Dictionaries"
   ]
  },
  {
   "cell_type": "code",
   "execution_count": null,
   "id": "9c7a6b12-d996-4f89-a4ae-6bc0ea2fdac5",
   "metadata": {},
   "outputs": [],
   "source": [
    "datasets = loadit('datasets', dir=dir_load_files)"
   ]
  },
  {
   "cell_type": "markdown",
   "id": "7e45b1f7-5dcd-4e9e-90a4-27faa72650ac",
   "metadata": {},
   "source": [
    "##### Datasets"
   ]
  },
  {
   "cell_type": "code",
   "execution_count": null,
   "id": "e40f6653-0fa6-4030-a270-7c90c8ac8f72",
   "metadata": {},
   "outputs": [],
   "source": [
    "train = extract_variable('train_raw', datasets)"
   ]
  },
  {
   "cell_type": "code",
   "execution_count": null,
   "id": "a885a1bf-36ff-46bd-aa88-0603dc2b2524",
   "metadata": {},
   "outputs": [],
   "source": [
    "valid = extract_variable('valid_raw', datasets)"
   ]
  },
  {
   "cell_type": "code",
   "execution_count": null,
   "id": "01e172e2-df6c-41e1-952b-8d1d9789ac96",
   "metadata": {},
   "outputs": [],
   "source": [
    "test = extract_variable('test_raw', datasets)"
   ]
  },
  {
   "cell_type": "markdown",
   "id": "61064da2-9812-4565-9eae-05a83b322117",
   "metadata": {},
   "source": [
    "## Feature Engineering"
   ]
  },
  {
   "cell_type": "code",
   "execution_count": null,
   "id": "528f2523-1ea7-4f01-b155-b5cd320801d7",
   "metadata": {},
   "outputs": [],
   "source": [
    "train.head(3)"
   ]
  },
  {
   "cell_type": "markdown",
   "id": "2a544e71-8dba-4317-ac95-bfae64016c1a",
   "metadata": {},
   "source": [
    "#### Minute of day"
   ]
  },
  {
   "cell_type": "code",
   "execution_count": null,
   "id": "9159e300-29a3-4429-b00b-61e6c635713e",
   "metadata": {},
   "outputs": [],
   "source": [
    "%%time\n",
    "for i in train['day_of_year']:\n",
    "    leng_i = len(train[train['day_of_year']==i])\n",
    "    values_ = arange(0, leng_i*10, 10)\n",
    "    train.loc[train['day_of_year']==i, 'minute_of_day'] = values_"
   ]
  },
  {
   "cell_type": "code",
   "execution_count": null,
   "id": "dab787be-479c-426e-9aa1-3c89e1118fa3",
   "metadata": {},
   "outputs": [],
   "source": [
    "%%time\n",
    "for i in valid['day_of_year']:\n",
    "    leng_i = len(valid[valid['day_of_year']==i])\n",
    "    values_ = arange(0, leng_i*10, 10)\n",
    "    valid.loc[valid['day_of_year']==i, 'minute_of_day'] = values_"
   ]
  },
  {
   "cell_type": "code",
   "execution_count": null,
   "id": "d508c701-99f4-4dce-bd0f-d3c6214b43ad",
   "metadata": {},
   "outputs": [],
   "source": [
    "train['minute_of_day']"
   ]
  },
  {
   "cell_type": "code",
   "execution_count": null,
   "id": "01cd498b-d412-47ea-bf1d-c71ed93e39f6",
   "metadata": {},
   "outputs": [],
   "source": [
    "valid['minute_of_day']"
   ]
  },
  {
   "cell_type": "code",
   "execution_count": null,
   "id": "74a285a6-6a66-4e40-ab78-7f4509b33df7",
   "metadata": {},
   "outputs": [],
   "source": [
    "sns.lineplot(\n",
    "    data=train,\n",
    "    x='minute_of_day',\n",
    "    y='target'\n",
    ")"
   ]
  },
  {
   "cell_type": "markdown",
   "id": "a9270f4f-cc8c-4485-8faf-befc4ce8e2b8",
   "metadata": {},
   "source": [
    "#### Features 'is_Friday' and 'is_Sunday'"
   ]
  },
  {
   "cell_type": "code",
   "execution_count": null,
   "id": "aa6feb6e-13e3-4c7a-91d0-ec51dcf5e033",
   "metadata": {},
   "outputs": [],
   "source": [
    "train['is_Friday'] = (train['weekday']==4).astype(int)"
   ]
  },
  {
   "cell_type": "code",
   "execution_count": null,
   "id": "cbbafda3-3d63-46a6-ad1a-fc44f639f34a",
   "metadata": {},
   "outputs": [],
   "source": [
    "train['is_Sunday'] = (train['weekday']==6).astype(int)"
   ]
  },
  {
   "cell_type": "code",
   "execution_count": null,
   "id": "3df133a1-c717-4afb-bf0e-1283eda3796b",
   "metadata": {},
   "outputs": [],
   "source": [
    "valid['is_Friday'] = (valid['weekday']==4).astype(int)"
   ]
  },
  {
   "cell_type": "code",
   "execution_count": null,
   "id": "367eb555-ac09-4820-8f8a-29d9763bbedf",
   "metadata": {},
   "outputs": [],
   "source": [
    "valid['is_Sunday'] = (valid['weekday']==6).astype(int)"
   ]
  },
  {
   "cell_type": "markdown",
   "id": "7d147efc-2845-4f2d-a365-586dd4f78059",
   "metadata": {},
   "source": [
    "#### Feature 'diff_Sunday'\n",
    "\n",
    "If Sunday:  \n",
    "- 'diff_Sunday' == difference between mean of target value during ordinary days and mean of target value during sundays for previous month\n",
    "\n",
    "else:  \n",
    "- 0"
   ]
  },
  {
   "cell_type": "code",
   "execution_count": null,
   "id": "c4cafd42-d840-4d36-a063-4eeee5024ce5",
   "metadata": {},
   "outputs": [],
   "source": [
    "train = generate_feature_diff_sunday(train, 'target')"
   ]
  },
  {
   "cell_type": "code",
   "execution_count": null,
   "id": "afa9f81a-14b8-489d-85f6-474b771e6fb5",
   "metadata": {},
   "outputs": [],
   "source": [
    "train_nos = train.loc['2017-07'].loc[train['weekday'] != 6].copy()"
   ]
  },
  {
   "cell_type": "code",
   "execution_count": null,
   "id": "9baa2287-4c8e-4988-87a9-bc5bb8af386a",
   "metadata": {},
   "outputs": [],
   "source": [
    "train_s = train.loc['2017-07'].loc[train['weekday'] == 6].copy()"
   ]
  },
  {
   "cell_type": "code",
   "execution_count": null,
   "id": "16fcd7a1-8824-40b2-9e39-36bff497018b",
   "metadata": {},
   "outputs": [],
   "source": [
    "diff_Sunday_valid = \\\n",
    "    train_nos.groupby(['hour', 'minute']).mean()['target'] \\\n",
    "    - train_s.groupby(['hour', 'minute']).mean()['target']"
   ]
  },
  {
   "cell_type": "code",
   "execution_count": null,
   "id": "885ebe32-4460-48ab-8007-cd0f83599da0",
   "metadata": {},
   "outputs": [],
   "source": [
    "valid['diff_Sunday'] = np.NaN"
   ]
  },
  {
   "cell_type": "code",
   "execution_count": null,
   "id": "77bc9f42-882d-4b4c-b57a-0024699faa28",
   "metadata": {},
   "outputs": [],
   "source": [
    "valid_s_number = int(len(valid[valid['weekday']==6]) / 144)        "
   ]
  },
  {
   "cell_type": "code",
   "execution_count": null,
   "id": "d263a55a-3f20-4990-9439-0f6fa788f9a5",
   "metadata": {},
   "outputs": [],
   "source": [
    "diff_Sunday_valid = list(diff_Sunday_valid) * valid_s_number"
   ]
  },
  {
   "cell_type": "code",
   "execution_count": null,
   "id": "9d73f785-d0c3-4a49-9da5-b7db125d0fde",
   "metadata": {},
   "outputs": [],
   "source": [
    "valid.loc[valid['weekday'] == 6, 'diff_Sunday'] = diff_Sunday_valid"
   ]
  },
  {
   "cell_type": "code",
   "execution_count": null,
   "id": "419d7582-8b8c-43a2-aff1-770dace6810c",
   "metadata": {},
   "outputs": [],
   "source": [
    "valid['diff_Sunday'] = valid['diff_Sunday'].fillna(0)"
   ]
  },
  {
   "cell_type": "markdown",
   "id": "adb513bc-c27b-4e73-b764-9a7094af8127",
   "metadata": {},
   "source": [
    "#### Features 'is_Day'"
   ]
  },
  {
   "cell_type": "code",
   "execution_count": null,
   "id": "26207b83-b82a-42c0-9b45-194b9ebe55b2",
   "metadata": {},
   "outputs": [],
   "source": [
    "train['is_Day'] = ((5 < train['hour']) & (train['hour'] < 21)).astype(int)"
   ]
  },
  {
   "cell_type": "code",
   "execution_count": null,
   "id": "6576421b-2a31-40ba-85dd-6c1999e43624",
   "metadata": {},
   "outputs": [],
   "source": [
    "valid['is_Day'] = ((5 < valid['hour']) & (valid['hour'] < 21)).astype(int)"
   ]
  },
  {
   "cell_type": "markdown",
   "id": "1f26d515-bf89-4172-aa42-470128300e71",
   "metadata": {},
   "source": [
    "#### Feature 'is_31'"
   ]
  },
  {
   "cell_type": "code",
   "execution_count": null,
   "id": "daeda5b2-d98d-4008-9b14-901cb7ef7669",
   "metadata": {},
   "outputs": [],
   "source": [
    "train['is_31'] = (train['day']==31).astype(int)"
   ]
  },
  {
   "cell_type": "code",
   "execution_count": null,
   "id": "cc6caf03-7c90-42c8-a4f9-8cb0d4bbf08c",
   "metadata": {},
   "outputs": [],
   "source": [
    "valid['is_31'] = (valid['day']==31).astype(int)"
   ]
  },
  {
   "cell_type": "markdown",
   "id": "1bb85a8d-1321-4fde-b6c3-b871111441ba",
   "metadata": {},
   "source": [
    "#### Feature 'is_20hours'"
   ]
  },
  {
   "cell_type": "code",
   "execution_count": null,
   "id": "80a845a5-d6fe-4cd3-ad83-fe3d6898af61",
   "metadata": {},
   "outputs": [],
   "source": [
    "train['is_20hours'] = (train['hour']==19).astype(int)"
   ]
  },
  {
   "cell_type": "code",
   "execution_count": null,
   "id": "01a15ca9-b107-47fb-88b2-b6e7e3ff1ae5",
   "metadata": {},
   "outputs": [],
   "source": [
    "valid['is_20hours'] = (valid['hour']==19).astype(int)"
   ]
  },
  {
   "cell_type": "markdown",
   "id": "fcd94e92-1178-443e-b42c-680e7ec8529c",
   "metadata": {},
   "source": [
    "#### Cumulative average of Target"
   ]
  },
  {
   "cell_type": "code",
   "execution_count": null,
   "id": "e6e37dc5-13bf-4302-bea8-5afb52c04eae",
   "metadata": {},
   "outputs": [],
   "source": [
    "train['target_cum_avg'] = \\\n",
    "    (train.groupby('day_of_year')['target'].cumsum().values\n",
    "     / train['count_elmnts_by_day'].values)"
   ]
  },
  {
   "cell_type": "code",
   "execution_count": null,
   "id": "da40f5e7-cbec-418b-9a6f-d4f3370f0b7b",
   "metadata": {},
   "outputs": [],
   "source": [
    "plt.plot(train['target_cum_avg'][:143*10]);"
   ]
  },
  {
   "cell_type": "code",
   "execution_count": null,
   "id": "1a7e7bdd-b000-41bc-8e7e-666e3d07bb82",
   "metadata": {},
   "outputs": [],
   "source": [
    "train['target_cum_avg'] = train['target_cum_avg'].shift(1)"
   ]
  },
  {
   "cell_type": "code",
   "execution_count": null,
   "id": "1705df9f-03d8-4e82-ba60-afb570fbf1d2",
   "metadata": {},
   "outputs": [],
   "source": [
    "train[['target', 'target_cum_avg']]"
   ]
  },
  {
   "cell_type": "code",
   "execution_count": null,
   "id": "2afdd685-e9e3-40ee-b836-da5b709f8dd1",
   "metadata": {},
   "outputs": [],
   "source": [
    "scipy.stats.pearsonr(\n",
    "    train['target_cum_avg'][1:],\n",
    "    train['target'][1:]\n",
    ")"
   ]
  },
  {
   "cell_type": "code",
   "execution_count": null,
   "id": "3a8334a0-83eb-47af-99ee-56a2046d0337",
   "metadata": {},
   "outputs": [],
   "source": [
    "scipy.stats.pearsonr(\n",
    "    train['target_cum_avg'].shift()[2:],\n",
    "    train['target_cum_avg'][2:]\n",
    ")"
   ]
  },
  {
   "cell_type": "markdown",
   "id": "a023f219-fabd-492a-ab38-059fabe963f0",
   "metadata": {},
   "source": [
    "#### Value in previous month\n",
    "\n",
    "Value of 'target' from previous month minute-by-minute"
   ]
  },
  {
   "cell_type": "code",
   "execution_count": null,
   "id": "56d9fe29-d7c0-4d07-a8f3-82fe117da8c4",
   "metadata": {},
   "outputs": [],
   "source": [
    "train['target_previous_month'] = generate_feature_previous_month(train, 'target')"
   ]
  },
  {
   "cell_type": "code",
   "execution_count": null,
   "id": "c8a6179a-39c7-4fef-9009-038d35e27c73",
   "metadata": {},
   "outputs": [],
   "source": [
    "train['target_previous_month']"
   ]
  },
  {
   "cell_type": "code",
   "execution_count": null,
   "id": "80a0a3dc-d3c0-4dd4-a879-646e4270984f",
   "metadata": {},
   "outputs": [],
   "source": [
    "plt.plot(train.loc['2017-03-05', 'target'], color=palette[1])\n",
    "plt.plot(train.loc['2017-03-05', 'target_previous_month'], color=palette[2])"
   ]
  },
  {
   "cell_type": "code",
   "execution_count": null,
   "id": "c98b81d0-c049-40a0-8da6-fc15c33f4d4d",
   "metadata": {},
   "outputs": [],
   "source": [
    "plt.plot(train.loc['2017-07-05', 'target'], color=palette[1])\n",
    "plt.plot(train.loc['2017-07-05', 'target_previous_month'], color=palette[2])"
   ]
  },
  {
   "cell_type": "code",
   "execution_count": null,
   "id": "ee6b5900-cb8b-4bef-bf96-89228528219c",
   "metadata": {},
   "outputs": [],
   "source": [
    "valid['target_previous_month'] = train.loc['2017-07-01':, 'target'].values"
   ]
  },
  {
   "cell_type": "markdown",
   "id": "71fa33e4-4949-4777-a62c-ebc8c874ee47",
   "metadata": {},
   "source": [
    "## Save Data"
   ]
  },
  {
   "cell_type": "code",
   "execution_count": null,
   "id": "9812fcaa-21a5-4ced-81ad-1679aa41efad",
   "metadata": {},
   "outputs": [],
   "source": [
    "datasets['train_preprocessed'] = train"
   ]
  },
  {
   "cell_type": "code",
   "execution_count": null,
   "id": "0e9e1ef8-3a4a-427e-a069-3c82c00e29e2",
   "metadata": {},
   "outputs": [],
   "source": [
    "datasets['valid_preprocessed'] = valid"
   ]
  },
  {
   "cell_type": "code",
   "execution_count": null,
   "id": "82ba30fe-d19e-4f21-bc2c-f302aba92233",
   "metadata": {},
   "outputs": [],
   "source": [
    "saveit(datasets, 'datasets', dir_save_files)"
   ]
  },
  {
   "cell_type": "markdown",
   "id": "84799af8-587b-4a03-aa59-7647087191b5",
   "metadata": {},
   "source": [
    "### Execution time"
   ]
  },
  {
   "cell_type": "code",
   "execution_count": null,
   "id": "f9aa45c6-e653-4b65-9349-af30e6963a2c",
   "metadata": {},
   "outputs": [],
   "source": [
    "stopwatch_stop(start)"
   ]
  }
 ],
 "metadata": {
  "kernelspec": {
   "display_name": "autoregression-boosting",
   "language": "python",
   "name": "autoregression-boosting"
  },
  "language_info": {
   "codemirror_mode": {
    "name": "ipython",
    "version": 3
   },
   "file_extension": ".py",
   "mimetype": "text/x-python",
   "name": "python",
   "nbconvert_exporter": "python",
   "pygments_lexer": "ipython3",
   "version": "3.12.3"
  }
 },
 "nbformat": 4,
 "nbformat_minor": 5
}
