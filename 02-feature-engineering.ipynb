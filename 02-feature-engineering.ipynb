{
 "cells": [
  {
   "cell_type": "markdown",
   "id": "7a31aa38-c220-44ad-b63f-5ea7d9433608",
   "metadata": {},
   "source": [
    "# Section II. Feature Engineering"
   ]
  },
  {
   "cell_type": "markdown",
   "id": "4c748348-2de2-4b9d-94f0-e3622b10ab51",
   "metadata": {},
   "source": [
    "### Load libraries, functions, palette, theme"
   ]
  },
  {
   "cell_type": "code",
   "execution_count": 1,
   "id": "d2329824-fdd4-4eeb-96c0-a6d4e102708a",
   "metadata": {},
   "outputs": [],
   "source": [
    "import os\n",
    "from pathlib import Path"
   ]
  },
  {
   "cell_type": "code",
   "execution_count": 2,
   "id": "51e5354b-d524-4794-85b0-e1b106cbbdf7",
   "metadata": {},
   "outputs": [],
   "source": [
    "# load libraries and palette\n",
    "%run __libraries.ipynb"
   ]
  },
  {
   "cell_type": "code",
   "execution_count": 3,
   "id": "4820ad6d-103c-4bc8-b642-fed90d7c2354",
   "metadata": {},
   "outputs": [],
   "source": [
    "# load functions\n",
    "# from __functions import *\n",
    "%run __functions.ipynb"
   ]
  },
  {
   "cell_type": "code",
   "execution_count": 4,
   "id": "172c7c71-09fd-4777-9fbe-f2a0ddae7751",
   "metadata": {},
   "outputs": [],
   "source": [
    "# start stopwatch\n",
    "start = stopwatch_start()"
   ]
  },
  {
   "cell_type": "markdown",
   "id": "ded363b3-16c1-44cc-97f5-224dc90823d5",
   "metadata": {},
   "source": [
    "### Variables"
   ]
  },
  {
   "cell_type": "code",
   "execution_count": 5,
   "id": "6065d91f-3aae-46a5-9007-d10f5e93cec9",
   "metadata": {},
   "outputs": [],
   "source": [
    "dir_current = '02-feature-engineering'"
   ]
  },
  {
   "cell_type": "code",
   "execution_count": 6,
   "id": "d5eb0b21-3004-4cdc-b8c7-15367a580cdd",
   "metadata": {},
   "outputs": [],
   "source": [
    "dir_load_files = 'files/'"
   ]
  },
  {
   "cell_type": "code",
   "execution_count": 7,
   "id": "f3778bfd-e6a2-4471-8f17-e5729b4f3f81",
   "metadata": {},
   "outputs": [],
   "source": [
    "dir_save_files = 'files/'"
   ]
  },
  {
   "cell_type": "code",
   "execution_count": 8,
   "id": "1c12fc15-6e67-4269-81d8-c5398d7f4e5a",
   "metadata": {},
   "outputs": [],
   "source": [
    "dir_save_img = 'docs/img/'"
   ]
  },
  {
   "cell_type": "markdown",
   "id": "f7902168-e7cc-49c1-a649-699cf33a199c",
   "metadata": {},
   "source": [
    "### Load Files"
   ]
  },
  {
   "cell_type": "markdown",
   "id": "f4665739-80d3-44b8-ba59-99a33fd444f5",
   "metadata": {},
   "source": [
    "##### Dictionaries"
   ]
  },
  {
   "cell_type": "code",
   "execution_count": 9,
   "id": "9c7a6b12-d996-4f89-a4ae-6bc0ea2fdac5",
   "metadata": {},
   "outputs": [],
   "source": [
    "datasets = loadit('datasets', path=dir_load_files)"
   ]
  },
  {
   "cell_type": "markdown",
   "id": "7e45b1f7-5dcd-4e9e-90a4-27faa72650ac",
   "metadata": {},
   "source": [
    "##### Datasets"
   ]
  },
  {
   "cell_type": "code",
   "execution_count": 10,
   "id": "e40f6653-0fa6-4030-a270-7c90c8ac8f72",
   "metadata": {},
   "outputs": [],
   "source": [
    "train = extract_variable('train_raw', datasets)"
   ]
  },
  {
   "cell_type": "code",
   "execution_count": 11,
   "id": "a885a1bf-36ff-46bd-aa88-0603dc2b2524",
   "metadata": {},
   "outputs": [],
   "source": [
    "valid = extract_variable('valid_raw', datasets)"
   ]
  },
  {
   "cell_type": "code",
   "execution_count": 12,
   "id": "01e172e2-df6c-41e1-952b-8d1d9789ac96",
   "metadata": {},
   "outputs": [],
   "source": [
    "test = extract_variable('test_raw', datasets)"
   ]
  },
  {
   "cell_type": "markdown",
   "id": "61064da2-9812-4565-9eae-05a83b322117",
   "metadata": {},
   "source": [
    "## Feature Engineering"
   ]
  },
  {
   "cell_type": "code",
   "execution_count": 13,
   "id": "528f2523-1ea7-4f01-b155-b5cd320801d7",
   "metadata": {},
   "outputs": [
    {
     "data": {
      "text/html": [
       "<div>\n",
       "<style scoped>\n",
       "    .dataframe tbody tr th:only-of-type {\n",
       "        vertical-align: middle;\n",
       "    }\n",
       "\n",
       "    .dataframe tbody tr th {\n",
       "        vertical-align: top;\n",
       "    }\n",
       "\n",
       "    .dataframe thead th {\n",
       "        text-align: right;\n",
       "    }\n",
       "</style>\n",
       "<table border=\"1\" class=\"dataframe\">\n",
       "  <thead>\n",
       "    <tr style=\"text-align: right;\">\n",
       "      <th></th>\n",
       "      <th>temperature</th>\n",
       "      <th>humidity</th>\n",
       "      <th>windspeed</th>\n",
       "      <th>generaldiffuseflows</th>\n",
       "      <th>diffuseflows</th>\n",
       "      <th>target</th>\n",
       "      <th>target2</th>\n",
       "      <th>target3</th>\n",
       "      <th>minute</th>\n",
       "      <th>hour</th>\n",
       "      <th>...</th>\n",
       "      <th>week</th>\n",
       "      <th>month</th>\n",
       "      <th>year_month</th>\n",
       "      <th>year_day</th>\n",
       "      <th>element_number_daily</th>\n",
       "      <th>minute_of_day</th>\n",
       "      <th>target_diff</th>\n",
       "      <th>target_returns</th>\n",
       "      <th>target_volatility</th>\n",
       "      <th>p</th>\n",
       "    </tr>\n",
       "  </thead>\n",
       "  <tbody>\n",
       "    <tr>\n",
       "      <th>2017-01-01 00:00:00</th>\n",
       "      <td>6.559</td>\n",
       "      <td>73.8</td>\n",
       "      <td>0.083</td>\n",
       "      <td>0.051</td>\n",
       "      <td>0.119</td>\n",
       "      <td>34055.69620</td>\n",
       "      <td>16128.87538</td>\n",
       "      <td>20240.96386</td>\n",
       "      <td>0</td>\n",
       "      <td>0</td>\n",
       "      <td>...</td>\n",
       "      <td>52</td>\n",
       "      <td>1</td>\n",
       "      <td>2017-01</td>\n",
       "      <td>2017-01-01</td>\n",
       "      <td>1</td>\n",
       "      <td>0</td>\n",
       "      <td>NaN</td>\n",
       "      <td>NaN</td>\n",
       "      <td>NaN</td>\n",
       "      <td>NaN</td>\n",
       "    </tr>\n",
       "    <tr>\n",
       "      <th>2017-01-01 00:10:00</th>\n",
       "      <td>6.414</td>\n",
       "      <td>74.5</td>\n",
       "      <td>0.083</td>\n",
       "      <td>0.070</td>\n",
       "      <td>0.085</td>\n",
       "      <td>29814.68354</td>\n",
       "      <td>19375.07599</td>\n",
       "      <td>20131.08434</td>\n",
       "      <td>10</td>\n",
       "      <td>0</td>\n",
       "      <td>...</td>\n",
       "      <td>52</td>\n",
       "      <td>1</td>\n",
       "      <td>2017-01</td>\n",
       "      <td>2017-01-01</td>\n",
       "      <td>2</td>\n",
       "      <td>10</td>\n",
       "      <td>-4241.01266</td>\n",
       "      <td>-12.453167</td>\n",
       "      <td>0.015508</td>\n",
       "      <td>-0.124532</td>\n",
       "    </tr>\n",
       "    <tr>\n",
       "      <th>2017-01-01 00:20:00</th>\n",
       "      <td>6.313</td>\n",
       "      <td>74.5</td>\n",
       "      <td>0.080</td>\n",
       "      <td>0.062</td>\n",
       "      <td>0.100</td>\n",
       "      <td>29128.10127</td>\n",
       "      <td>19006.68693</td>\n",
       "      <td>19668.43373</td>\n",
       "      <td>20</td>\n",
       "      <td>0</td>\n",
       "      <td>...</td>\n",
       "      <td>52</td>\n",
       "      <td>1</td>\n",
       "      <td>2017-01</td>\n",
       "      <td>2017-01-01</td>\n",
       "      <td>3</td>\n",
       "      <td>20</td>\n",
       "      <td>-686.58227</td>\n",
       "      <td>-2.302833</td>\n",
       "      <td>0.000530</td>\n",
       "      <td>-0.023028</td>\n",
       "    </tr>\n",
       "  </tbody>\n",
       "</table>\n",
       "<p>3 rows × 24 columns</p>\n",
       "</div>"
      ],
      "text/plain": [
       "                     temperature  humidity  windspeed  generaldiffuseflows  \\\n",
       "2017-01-01 00:00:00        6.559      73.8      0.083                0.051   \n",
       "2017-01-01 00:10:00        6.414      74.5      0.083                0.070   \n",
       "2017-01-01 00:20:00        6.313      74.5      0.080                0.062   \n",
       "\n",
       "                     diffuseflows       target      target2      target3  \\\n",
       "2017-01-01 00:00:00         0.119  34055.69620  16128.87538  20240.96386   \n",
       "2017-01-01 00:10:00         0.085  29814.68354  19375.07599  20131.08434   \n",
       "2017-01-01 00:20:00         0.100  29128.10127  19006.68693  19668.43373   \n",
       "\n",
       "                     minute  hour  ...  week  month  year_month    year_day  \\\n",
       "2017-01-01 00:00:00       0     0  ...    52      1     2017-01  2017-01-01   \n",
       "2017-01-01 00:10:00      10     0  ...    52      1     2017-01  2017-01-01   \n",
       "2017-01-01 00:20:00      20     0  ...    52      1     2017-01  2017-01-01   \n",
       "\n",
       "                     element_number_daily  minute_of_day target_diff  \\\n",
       "2017-01-01 00:00:00                     1              0         NaN   \n",
       "2017-01-01 00:10:00                     2             10 -4241.01266   \n",
       "2017-01-01 00:20:00                     3             20  -686.58227   \n",
       "\n",
       "                    target_returns  target_volatility         p  \n",
       "2017-01-01 00:00:00            NaN                NaN       NaN  \n",
       "2017-01-01 00:10:00     -12.453167           0.015508 -0.124532  \n",
       "2017-01-01 00:20:00      -2.302833           0.000530 -0.023028  \n",
       "\n",
       "[3 rows x 24 columns]"
      ]
     },
     "execution_count": 13,
     "metadata": {},
     "output_type": "execute_result"
    }
   ],
   "source": [
    "train.head(3)"
   ]
  },
  {
   "cell_type": "markdown",
   "id": "2a544e71-8dba-4317-ac95-bfae64016c1a",
   "metadata": {},
   "source": [
    "#### Minute of day"
   ]
  },
  {
   "cell_type": "code",
   "execution_count": 14,
   "id": "9159e300-29a3-4429-b00b-61e6c635713e",
   "metadata": {},
   "outputs": [
    {
     "name": "stdout",
     "output_type": "stream",
     "text": [
      "CPU times: user 1min 21s, sys: 7.22 s, total: 1min 29s\n",
      "Wall time: 1min 56s\n"
     ]
    }
   ],
   "source": [
    "%%time\n",
    "for i in train['day_of_year']:\n",
    "    leng_i = len(train[train['day_of_year']==i])\n",
    "    values_ = arange(0, leng_i*10, 10)\n",
    "    train.loc[train['day_of_year']==i, 'minute_of_day'] = values_"
   ]
  },
  {
   "cell_type": "code",
   "execution_count": 15,
   "id": "dab787be-479c-426e-9aa1-3c89e1118fa3",
   "metadata": {},
   "outputs": [
    {
     "name": "stdout",
     "output_type": "stream",
     "text": [
      "CPU times: user 10.7 s, sys: 913 ms, total: 11.6 s\n",
      "Wall time: 12.9 s\n"
     ]
    }
   ],
   "source": [
    "%%time\n",
    "for i in valid['day_of_year']:\n",
    "    leng_i = len(valid[valid['day_of_year']==i])\n",
    "    values_ = arange(0, leng_i*10, 10)\n",
    "    valid.loc[valid['day_of_year']==i, 'minute_of_day'] = values_"
   ]
  },
  {
   "cell_type": "code",
   "execution_count": 16,
   "id": "d508c701-99f4-4dce-bd0f-d3c6214b43ad",
   "metadata": {},
   "outputs": [
    {
     "data": {
      "text/plain": [
       "2017-01-01 00:00:00       0\n",
       "2017-01-01 00:10:00      10\n",
       "2017-01-01 00:20:00      20\n",
       "2017-01-01 00:30:00      30\n",
       "2017-01-01 00:40:00      40\n",
       "                       ... \n",
       "2017-07-31 23:10:00    1390\n",
       "2017-07-31 23:20:00    1400\n",
       "2017-07-31 23:30:00    1410\n",
       "2017-07-31 23:40:00    1420\n",
       "2017-07-31 23:50:00    1430\n",
       "Freq: 10min, Name: minute_of_day, Length: 30528, dtype: int64"
      ]
     },
     "execution_count": 16,
     "metadata": {},
     "output_type": "execute_result"
    }
   ],
   "source": [
    "train['minute_of_day']"
   ]
  },
  {
   "cell_type": "code",
   "execution_count": 17,
   "id": "01cd498b-d412-47ea-bf1d-c71ed93e39f6",
   "metadata": {},
   "outputs": [
    {
     "data": {
      "text/plain": [
       "2017-08-01 00:00:00       0\n",
       "2017-08-01 00:10:00      10\n",
       "2017-08-01 00:20:00      20\n",
       "2017-08-01 00:30:00      30\n",
       "2017-08-01 00:40:00      40\n",
       "                       ... \n",
       "2017-08-31 23:10:00    1390\n",
       "2017-08-31 23:20:00    1400\n",
       "2017-08-31 23:30:00    1410\n",
       "2017-08-31 23:40:00    1420\n",
       "2017-08-31 23:50:00    1430\n",
       "Freq: 10min, Name: minute_of_day, Length: 4464, dtype: int64"
      ]
     },
     "execution_count": 17,
     "metadata": {},
     "output_type": "execute_result"
    }
   ],
   "source": [
    "valid['minute_of_day']"
   ]
  },
  {
   "cell_type": "code",
   "execution_count": 18,
   "id": "74a285a6-6a66-4e40-ab78-7f4509b33df7",
   "metadata": {},
   "outputs": [
    {
     "data": {
      "text/plain": [
       "<Axes: xlabel='minute_of_day', ylabel='target'>"
      ]
     },
     "execution_count": 18,
     "metadata": {},
     "output_type": "execute_result"
    },
    {
     "data": {
      "image/png": "[encoded data removed]",
      "text/plain": [
       "<Figure size 800x250 with 1 Axes>"
      ]
     },
     "metadata": {},
     "output_type": "display_data"
    }
   ],
   "source": [
    "sns.lineplot(\n",
    "    data=train,\n",
    "    x='minute_of_day',\n",
    "    y='target'\n",
    ")"
   ]
  },
  {
   "cell_type": "markdown",
   "id": "a9270f4f-cc8c-4485-8faf-befc4ce8e2b8",
   "metadata": {},
   "source": [
    "#### Features 'is_Friday' and 'is_Sunday'"
   ]
  },
  {
   "cell_type": "code",
   "execution_count": 19,
   "id": "aa6feb6e-13e3-4c7a-91d0-ec51dcf5e033",
   "metadata": {},
   "outputs": [],
   "source": [
    "train['is_Friday'] = (train['weekday']==4).astype(int)"
   ]
  },
  {
   "cell_type": "code",
   "execution_count": 20,
   "id": "cbbafda3-3d63-46a6-ad1a-fc44f639f34a",
   "metadata": {},
   "outputs": [],
   "source": [
    "train['is_Sunday'] = (train['weekday']==6).astype(int)"
   ]
  },
  {
   "cell_type": "code",
   "execution_count": 21,
   "id": "3df133a1-c717-4afb-bf0e-1283eda3796b",
   "metadata": {},
   "outputs": [],
   "source": [
    "valid['is_Friday'] = (valid['weekday']==4).astype(int)"
   ]
  },
  {
   "cell_type": "code",
   "execution_count": 22,
   "id": "367eb555-ac09-4820-8f8a-29d9763bbedf",
   "metadata": {},
   "outputs": [],
   "source": [
    "valid['is_Sunday'] = (valid['weekday']==6).astype(int)"
   ]
  },
  {
   "cell_type": "markdown",
   "id": "7d147efc-2845-4f2d-a365-586dd4f78059",
   "metadata": {},
   "source": [
    "#### Feature 'diff_Sunday'\n",
    "\n",
    "If Sunday:  \n",
    "- 'diff_Sunday' == difference between mean of target value during ordinary days and mean of target value during sundays for previous month\n",
    "\n",
    "else:  \n",
    "- 0"
   ]
  },
  {
   "cell_type": "code",
   "execution_count": 23,
   "id": "c4cafd42-d840-4d36-a063-4eeee5024ce5",
   "metadata": {},
   "outputs": [],
   "source": [
    "train = generate_feature_diff_sunday(train, 'target')"
   ]
  },
  {
   "cell_type": "code",
   "execution_count": 24,
   "id": "afa9f81a-14b8-489d-85f6-474b771e6fb5",
   "metadata": {},
   "outputs": [],
   "source": [
    "train_nos = train.loc['2017-07'].loc[train['weekday'] != 6].copy()"
   ]
  },
  {
   "cell_type": "code",
   "execution_count": 25,
   "id": "9baa2287-4c8e-4988-87a9-bc5bb8af386a",
   "metadata": {},
   "outputs": [],
   "source": [
    "train_s = train.loc['2017-07'].loc[train['weekday'] == 6].copy()"
   ]
  },
  {
   "cell_type": "code",
   "execution_count": 26,
   "id": "16fcd7a1-8824-40b2-9e39-36bff497018b",
   "metadata": {},
   "outputs": [],
   "source": [
    "diff_Sunday_valid = \\\n",
    "    train_nos.groupby(['hour', 'minute']).mean()['target'] \\\n",
    "    - train_s.groupby(['hour', 'minute']).mean()['target']"
   ]
  },
  {
   "cell_type": "code",
   "execution_count": 27,
   "id": "885ebe32-4460-48ab-8007-cd0f83599da0",
   "metadata": {},
   "outputs": [],
   "source": [
    "valid['diff_Sunday'] = np.NaN"
   ]
  },
  {
   "cell_type": "code",
   "execution_count": 28,
   "id": "77bc9f42-882d-4b4c-b57a-0024699faa28",
   "metadata": {},
   "outputs": [],
   "source": [
    "valid_s_number = int(len(valid[valid['weekday']==6]) / 144)        "
   ]
  },
  {
   "cell_type": "code",
   "execution_count": 29,
   "id": "d263a55a-3f20-4990-9439-0f6fa788f9a5",
   "metadata": {},
   "outputs": [],
   "source": [
    "diff_Sunday_valid = list(diff_Sunday_valid) * valid_s_number"
   ]
  },
  {
   "cell_type": "code",
   "execution_count": 30,
   "id": "9d73f785-d0c3-4a49-9da5-b7db125d0fde",
   "metadata": {},
   "outputs": [],
   "source": [
    "valid.loc[valid['weekday'] == 6, 'diff_Sunday'] = diff_Sunday_valid"
   ]
  },
  {
   "cell_type": "code",
   "execution_count": 31,
   "id": "419d7582-8b8c-43a2-aff1-770dace6810c",
   "metadata": {},
   "outputs": [],
   "source": [
    "valid['diff_Sunday'] = valid['diff_Sunday'].fillna(0)"
   ]
  },
  {
   "cell_type": "markdown",
   "id": "adb513bc-c27b-4e73-b764-9a7094af8127",
   "metadata": {},
   "source": [
    "#### Features 'is_Day'"
   ]
  },
  {
   "cell_type": "code",
   "execution_count": 32,
   "id": "26207b83-b82a-42c0-9b45-194b9ebe55b2",
   "metadata": {},
   "outputs": [],
   "source": [
    "train['is_Day'] = ((5 < train['hour']) & (train['hour'] < 21)).astype(int)"
   ]
  },
  {
   "cell_type": "code",
   "execution_count": 33,
   "id": "6576421b-2a31-40ba-85dd-6c1999e43624",
   "metadata": {},
   "outputs": [],
   "source": [
    "valid['is_Day'] = ((5 < valid['hour']) & (valid['hour'] < 21)).astype(int)"
   ]
  },
  {
   "cell_type": "markdown",
   "id": "1f26d515-bf89-4172-aa42-470128300e71",
   "metadata": {},
   "source": [
    "#### Feature 'is_31'"
   ]
  },
  {
   "cell_type": "code",
   "execution_count": 34,
   "id": "daeda5b2-d98d-4008-9b14-901cb7ef7669",
   "metadata": {},
   "outputs": [],
   "source": [
    "train['is_31'] = (train['day']==31).astype(int)"
   ]
  },
  {
   "cell_type": "code",
   "execution_count": 35,
   "id": "cc6caf03-7c90-42c8-a4f9-8cb0d4bbf08c",
   "metadata": {},
   "outputs": [],
   "source": [
    "valid['is_31'] = (valid['day']==31).astype(int)"
   ]
  },
  {
   "cell_type": "markdown",
   "id": "1bb85a8d-1321-4fde-b6c3-b871111441ba",
   "metadata": {},
   "source": [
    "#### Feature 'is_20hours'"
   ]
  },
  {
   "cell_type": "code",
   "execution_count": 36,
   "id": "80a845a5-d6fe-4cd3-ad83-fe3d6898af61",
   "metadata": {},
   "outputs": [],
   "source": [
    "train['is_20hours'] = (train['hour']==19).astype(int)"
   ]
  },
  {
   "cell_type": "code",
   "execution_count": 37,
   "id": "01a15ca9-b107-47fb-88b2-b6e7e3ff1ae5",
   "metadata": {},
   "outputs": [],
   "source": [
    "valid['is_20hours'] = (valid['hour']==19).astype(int)"
   ]
  },
  {
   "cell_type": "markdown",
   "id": "fcd94e92-1178-443e-b42c-680e7ec8529c",
   "metadata": {},
   "source": [
    "#### Cumulative average of Target"
   ]
  },
  {
   "cell_type": "code",
   "execution_count": 38,
   "id": "e6e37dc5-13bf-4302-bea8-5afb52c04eae",
   "metadata": {},
   "outputs": [],
   "source": [
    "train['target_cum_avg'] = \\\n",
    "    (train.groupby('day_of_year')['target'].cumsum().values\n",
    "     / train['element_number_daily'].values)"
   ]
  },
  {
   "cell_type": "code",
   "execution_count": 39,
   "id": "da40f5e7-cbec-418b-9a6f-d4f3370f0b7b",
   "metadata": {},
   "outputs": [
    {
     "data": {
      "image/png": "[encoded data removed]",
      "text/plain": [
       "<Figure size 800x250 with 1 Axes>"
      ]
     },
     "metadata": {},
     "output_type": "display_data"
    }
   ],
   "source": [
    "plt.plot(train['target_cum_avg'][:143*10]);"
   ]
  },
  {
   "cell_type": "code",
   "execution_count": 40,
   "id": "1a7e7bdd-b000-41bc-8e7e-666e3d07bb82",
   "metadata": {},
   "outputs": [],
   "source": [
    "train['target_cum_avg'] = train['target_cum_avg'].shift(1)"
   ]
  },
  {
   "cell_type": "code",
   "execution_count": 41,
   "id": "1705df9f-03d8-4e82-ba60-afb570fbf1d2",
   "metadata": {},
   "outputs": [
    {
     "data": {
      "text/html": [
       "<div>\n",
       "<style scoped>\n",
       "    .dataframe tbody tr th:only-of-type {\n",
       "        vertical-align: middle;\n",
       "    }\n",
       "\n",
       "    .dataframe tbody tr th {\n",
       "        vertical-align: top;\n",
       "    }\n",
       "\n",
       "    .dataframe thead th {\n",
       "        text-align: right;\n",
       "    }\n",
       "</style>\n",
       "<table border=\"1\" class=\"dataframe\">\n",
       "  <thead>\n",
       "    <tr style=\"text-align: right;\">\n",
       "      <th></th>\n",
       "      <th>target</th>\n",
       "      <th>target_cum_avg</th>\n",
       "    </tr>\n",
       "  </thead>\n",
       "  <tbody>\n",
       "    <tr>\n",
       "      <th>2017-01-01 00:00:00</th>\n",
       "      <td>34055.69620</td>\n",
       "      <td>NaN</td>\n",
       "    </tr>\n",
       "    <tr>\n",
       "      <th>2017-01-01 00:10:00</th>\n",
       "      <td>29814.68354</td>\n",
       "      <td>34055.696200</td>\n",
       "    </tr>\n",
       "    <tr>\n",
       "      <th>2017-01-01 00:20:00</th>\n",
       "      <td>29128.10127</td>\n",
       "      <td>31935.189870</td>\n",
       "    </tr>\n",
       "    <tr>\n",
       "      <th>2017-01-01 00:30:00</th>\n",
       "      <td>28228.86076</td>\n",
       "      <td>30999.493670</td>\n",
       "    </tr>\n",
       "    <tr>\n",
       "      <th>2017-01-01 00:40:00</th>\n",
       "      <td>27335.69620</td>\n",
       "      <td>30306.835442</td>\n",
       "    </tr>\n",
       "    <tr>\n",
       "      <th>...</th>\n",
       "      <td>...</td>\n",
       "      <td>...</td>\n",
       "    </tr>\n",
       "    <tr>\n",
       "      <th>2017-07-31 23:10:00</th>\n",
       "      <td>43407.30897</td>\n",
       "      <td>38477.324984</td>\n",
       "    </tr>\n",
       "    <tr>\n",
       "      <th>2017-07-31 23:20:00</th>\n",
       "      <td>42507.90698</td>\n",
       "      <td>38512.539156</td>\n",
       "    </tr>\n",
       "    <tr>\n",
       "      <th>2017-07-31 23:30:00</th>\n",
       "      <td>41659.53488</td>\n",
       "      <td>38540.875098</td>\n",
       "    </tr>\n",
       "    <tr>\n",
       "      <th>2017-07-31 23:40:00</th>\n",
       "      <td>40843.05648</td>\n",
       "      <td>38562.837490</td>\n",
       "    </tr>\n",
       "    <tr>\n",
       "      <th>2017-07-31 23:50:00</th>\n",
       "      <td>39631.09635</td>\n",
       "      <td>38578.783078</td>\n",
       "    </tr>\n",
       "  </tbody>\n",
       "</table>\n",
       "<p>30528 rows × 2 columns</p>\n",
       "</div>"
      ],
      "text/plain": [
       "                          target  target_cum_avg\n",
       "2017-01-01 00:00:00  34055.69620             NaN\n",
       "2017-01-01 00:10:00  29814.68354    34055.696200\n",
       "2017-01-01 00:20:00  29128.10127    31935.189870\n",
       "2017-01-01 00:30:00  28228.86076    30999.493670\n",
       "2017-01-01 00:40:00  27335.69620    30306.835442\n",
       "...                          ...             ...\n",
       "2017-07-31 23:10:00  43407.30897    38477.324984\n",
       "2017-07-31 23:20:00  42507.90698    38512.539156\n",
       "2017-07-31 23:30:00  41659.53488    38540.875098\n",
       "2017-07-31 23:40:00  40843.05648    38562.837490\n",
       "2017-07-31 23:50:00  39631.09635    38578.783078\n",
       "\n",
       "[30528 rows x 2 columns]"
      ]
     },
     "execution_count": 41,
     "metadata": {},
     "output_type": "execute_result"
    }
   ],
   "source": [
    "train[['target', 'target_cum_avg']]"
   ]
  },
  {
   "cell_type": "code",
   "execution_count": 42,
   "id": "2afdd685-e9e3-40ee-b836-da5b709f8dd1",
   "metadata": {},
   "outputs": [
    {
     "data": {
      "text/plain": [
       "PearsonRResult(statistic=0.5919214986544622, pvalue=0.0)"
      ]
     },
     "execution_count": 42,
     "metadata": {},
     "output_type": "execute_result"
    }
   ],
   "source": [
    "scipy.stats.pearsonr(\n",
    "    train['target_cum_avg'][1:],\n",
    "    train['target'][1:]\n",
    ")"
   ]
  },
  {
   "cell_type": "code",
   "execution_count": 43,
   "id": "3a8334a0-83eb-47af-99ee-56a2046d0337",
   "metadata": {},
   "outputs": [
    {
     "data": {
      "text/plain": [
       "PearsonRResult(statistic=0.997255936836215, pvalue=0.0)"
      ]
     },
     "execution_count": 43,
     "metadata": {},
     "output_type": "execute_result"
    }
   ],
   "source": [
    "scipy.stats.pearsonr(\n",
    "    train['target_cum_avg'].shift()[2:],\n",
    "    train['target_cum_avg'][2:]\n",
    ")"
   ]
  },
  {
   "cell_type": "markdown",
   "id": "a023f219-fabd-492a-ab38-059fabe963f0",
   "metadata": {},
   "source": [
    "#### Value in previous month\n",
    "\n",
    "Value of 'target' from previous month minute-by-minute"
   ]
  },
  {
   "cell_type": "code",
   "execution_count": 44,
   "id": "56d9fe29-d7c0-4d07-a8f3-82fe117da8c4",
   "metadata": {},
   "outputs": [],
   "source": [
    "train['target_previous_month'] = generate_feature_previous_month(train, 'target')"
   ]
  },
  {
   "cell_type": "code",
   "execution_count": 45,
   "id": "c8a6179a-39c7-4fef-9009-038d35e27c73",
   "metadata": {},
   "outputs": [
    {
     "data": {
      "text/plain": [
       "2017-01-01 00:00:00            NaN\n",
       "2017-01-01 00:10:00            NaN\n",
       "2017-01-01 00:20:00            NaN\n",
       "2017-01-01 00:30:00            NaN\n",
       "2017-01-01 00:40:00            NaN\n",
       "                          ...     \n",
       "2017-07-31 23:10:00    40205.56291\n",
       "2017-07-31 23:20:00    39423.57616\n",
       "2017-07-31 23:30:00    38883.17881\n",
       "2017-07-31 23:40:00    38107.54967\n",
       "2017-07-31 23:50:00    37312.84768\n",
       "Freq: 10min, Name: target_previous_month, Length: 30528, dtype: float64"
      ]
     },
     "execution_count": 45,
     "metadata": {},
     "output_type": "execute_result"
    }
   ],
   "source": [
    "train['target_previous_month']"
   ]
  },
  {
   "cell_type": "code",
   "execution_count": 46,
   "id": "80a0a3dc-d3c0-4dd4-a879-646e4270984f",
   "metadata": {},
   "outputs": [
    {
     "data": {
      "text/plain": [
       "[<matplotlib.lines.Line2D at 0x12c730890>]"
      ]
     },
     "execution_count": 46,
     "metadata": {},
     "output_type": "execute_result"
    },
    {
     "data": {
      "image/png": "[encoded data removed]",
      "text/plain": [
       "<Figure size 800x250 with 1 Axes>"
      ]
     },
     "metadata": {},
     "output_type": "display_data"
    }
   ],
   "source": [
    "plt.plot(train.loc['2017-03-05', 'target'], color=palette[1])\n",
    "plt.plot(train.loc['2017-03-05', 'target_previous_month'], color=palette[2])"
   ]
  },
  {
   "cell_type": "code",
   "execution_count": 47,
   "id": "c98b81d0-c049-40a0-8da6-fc15c33f4d4d",
   "metadata": {},
   "outputs": [
    {
     "data": {
      "text/plain": [
       "[<matplotlib.lines.Line2D at 0x12c43fbc0>]"
      ]
     },
     "execution_count": 47,
     "metadata": {},
     "output_type": "execute_result"
    },
    {
     "data": {
      "image/png": "[encoded data removed]",
      "text/plain": [
       "<Figure size 800x250 with 1 Axes>"
      ]
     },
     "metadata": {},
     "output_type": "display_data"
    }
   ],
   "source": [
    "plt.plot(train.loc['2017-07-05', 'target'], color=palette[1])\n",
    "plt.plot(train.loc['2017-07-05', 'target_previous_month'], color=palette[2])"
   ]
  },
  {
   "cell_type": "code",
   "execution_count": 48,
   "id": "ee6b5900-cb8b-4bef-bf96-89228528219c",
   "metadata": {},
   "outputs": [],
   "source": [
    "valid['target_previous_month'] = train.loc['2017-07-01':, 'target'].values"
   ]
  },
  {
   "cell_type": "markdown",
   "id": "71fa33e4-4949-4777-a62c-ebc8c874ee47",
   "metadata": {},
   "source": [
    "## Save Data"
   ]
  },
  {
   "cell_type": "code",
   "execution_count": 49,
   "id": "9812fcaa-21a5-4ced-81ad-1679aa41efad",
   "metadata": {},
   "outputs": [],
   "source": [
    "datasets['train_preprocessed'] = train"
   ]
  },
  {
   "cell_type": "code",
   "execution_count": 50,
   "id": "0e9e1ef8-3a4a-427e-a069-3c82c00e29e2",
   "metadata": {},
   "outputs": [],
   "source": [
    "datasets['valid_preprocessed'] = valid"
   ]
  },
  {
   "cell_type": "code",
   "execution_count": 51,
   "id": "82ba30fe-d19e-4f21-bc2c-f302aba92233",
   "metadata": {},
   "outputs": [
    {
     "name": "stdout",
     "output_type": "stream",
     "text": [
      "File 'datasets.pkl' saved\n"
     ]
    }
   ],
   "source": [
    "saveit(datasets, 'datasets', dir_save_files)"
   ]
  },
  {
   "cell_type": "markdown",
   "id": "84799af8-587b-4a03-aa59-7647087191b5",
   "metadata": {},
   "source": [
    "### Execution time"
   ]
  },
  {
   "cell_type": "code",
   "execution_count": 52,
   "id": "f9aa45c6-e653-4b65-9349-af30e6963a2c",
   "metadata": {},
   "outputs": [
    {
     "name": "stdout",
     "output_type": "stream",
     "text": [
      "Execution time: 0:02:28\n"
     ]
    }
   ],
   "source": [
    "stopwatch_stop(start)"
   ]
  }
 ],
 "metadata": {
  "kernelspec": {
   "display_name": "autoregression-boosting",
   "language": "python",
   "name": "autoregression-boosting"
  },
  "language_info": {
   "codemirror_mode": {
    "name": "ipython",
    "version": 3
   },
   "file_extension": ".py",
   "mimetype": "text/x-python",
   "name": "python",
   "nbconvert_exporter": "python",
   "pygments_lexer": "ipython3",
   "version": "3.12.4"
  }
 },
 "nbformat": 4,
 "nbformat_minor": 5
}
