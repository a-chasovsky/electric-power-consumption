{
 "cells": [
  {
   "cell_type": "code",
   "execution_count": 1,
   "id": "2c96e30b-7490-4414-9a12-16f87a915173",
   "metadata": {},
   "outputs": [],
   "source": [
    "# run stopwatch\n",
    "from tools import Stopwatch\n",
    "stopwatch = Stopwatch()\n",
    "start = stopwatch.start()"
   ]
  },
  {
   "cell_type": "markdown",
   "id": "871f1a3f-3f92-49ed-934d-0f5ab214b4f5",
   "metadata": {},
   "source": [
    "### Load libraries, functions, palette, theme"
   ]
  },
  {
   "cell_type": "code",
   "execution_count": 2,
   "id": "4a4f4d91-cee1-4203-a4af-c2eead65faff",
   "metadata": {},
   "outputs": [],
   "source": [
    "%run _libraries.ipynb"
   ]
  },
  {
   "cell_type": "code",
   "execution_count": 3,
   "id": "e57644a1-2b95-4f55-a8db-a251f21cf6aa",
   "metadata": {},
   "outputs": [],
   "source": [
    "%run _functions.ipynb"
   ]
  },
  {
   "cell_type": "code",
   "execution_count": 4,
   "id": "bdf872cc-90e3-4f56-95d9-02a0e994ee83",
   "metadata": {},
   "outputs": [],
   "source": [
    "current_dir = '02-feature-engineering'"
   ]
  },
  {
   "cell_type": "code",
   "execution_count": 5,
   "id": "0e9ab167-8271-46cf-b1cd-70d85aaa3556",
   "metadata": {},
   "outputs": [],
   "source": [
    "previous_dir = '01-explore'"
   ]
  },
  {
   "cell_type": "code",
   "execution_count": 6,
   "id": "db16a030-455b-4859-8648-ae76e940954c",
   "metadata": {},
   "outputs": [],
   "source": [
    "save_files = 'files/' + current_dir + '/'"
   ]
  },
  {
   "cell_type": "code",
   "execution_count": 7,
   "id": "d211a8da-be2e-4600-8126-a61847995b7b",
   "metadata": {},
   "outputs": [],
   "source": [
    "load_files = 'files/' + previous_dir + '/'"
   ]
  },
  {
   "cell_type": "code",
   "execution_count": 8,
   "id": "d85e517e-37f3-4401-87e4-8634211faea0",
   "metadata": {},
   "outputs": [],
   "source": [
    "save_img = 'docs/img/' + current_dir + '/'"
   ]
  },
  {
   "cell_type": "code",
   "execution_count": 9,
   "id": "9d456a95-1308-4a67-bae1-b76346cea9b7",
   "metadata": {},
   "outputs": [],
   "source": [
    "session_name = current_dir"
   ]
  },
  {
   "cell_type": "markdown",
   "id": "3c0dcd35-1312-4114-8f25-a13564e0d40b",
   "metadata": {},
   "source": [
    "# Section II. Feature Engineering"
   ]
  },
  {
   "cell_type": "markdown",
   "id": "32124e9a-dad9-4645-b401-d10f81ead20a",
   "metadata": {},
   "source": [
    "## Load Saved Section if exists"
   ]
  },
  {
   "cell_type": "raw",
   "id": "25178a1a-7689-41d5-ba41-9033fdb2f628",
   "metadata": {},
   "source": [
    "if os.path.exists(f'sessions/{dir_save}'):\n",
    "    load_session(dir_save)\n",
    "else:\n",
    "    print(f\"No such session: 'sessions/{dir_save}'\")"
   ]
  },
  {
   "cell_type": "markdown",
   "id": "bf625eeb-ce55-41cd-8b92-b8e1fff5a094",
   "metadata": {},
   "source": [
    "## Load Data"
   ]
  },
  {
   "cell_type": "code",
   "execution_count": 10,
   "id": "14bcf123-3d20-4ae6-bf14-85515713d744",
   "metadata": {},
   "outputs": [],
   "source": [
    "train = datasets_dict = loadit(\n",
    "    'train', dir=load_files)"
   ]
  },
  {
   "cell_type": "code",
   "execution_count": 11,
   "id": "8ce696a6-b9af-4a10-b2e2-dc014dbbd2ff",
   "metadata": {},
   "outputs": [],
   "source": [
    "valid = datasets_dict = loadit(\n",
    "    'valid', dir=load_files)"
   ]
  },
  {
   "cell_type": "code",
   "execution_count": 12,
   "id": "1e5012fc-46ce-484e-a47d-b51468db1c21",
   "metadata": {},
   "outputs": [],
   "source": [
    "test = datasets_dict = loadit(\n",
    "    'test', dir=load_files)"
   ]
  },
  {
   "cell_type": "markdown",
   "id": "61064da2-9812-4565-9eae-05a83b322117",
   "metadata": {},
   "source": [
    "## Feature Engineering"
   ]
  },
  {
   "cell_type": "code",
   "execution_count": 13,
   "id": "528f2523-1ea7-4f01-b155-b5cd320801d7",
   "metadata": {},
   "outputs": [
    {
     "data": {
      "text/html": [
       "<div>\n",
       "<style scoped>\n",
       "    .dataframe tbody tr th:only-of-type {\n",
       "        vertical-align: middle;\n",
       "    }\n",
       "\n",
       "    .dataframe tbody tr th {\n",
       "        vertical-align: top;\n",
       "    }\n",
       "\n",
       "    .dataframe thead th {\n",
       "        text-align: right;\n",
       "    }\n",
       "</style>\n",
       "<table border=\"1\" class=\"dataframe\">\n",
       "  <thead>\n",
       "    <tr style=\"text-align: right;\">\n",
       "      <th></th>\n",
       "      <th>temperature</th>\n",
       "      <th>humidity</th>\n",
       "      <th>windspeed</th>\n",
       "      <th>generaldiffuseflows</th>\n",
       "      <th>diffuseflows</th>\n",
       "      <th>target1</th>\n",
       "      <th>target2</th>\n",
       "      <th>target3</th>\n",
       "      <th>minute</th>\n",
       "      <th>hour</th>\n",
       "      <th>...</th>\n",
       "      <th>weekday</th>\n",
       "      <th>week</th>\n",
       "      <th>month</th>\n",
       "      <th>year_month</th>\n",
       "      <th>year_day</th>\n",
       "      <th>count_elmnts_by_day</th>\n",
       "      <th>target1_diff</th>\n",
       "      <th>target1_returns</th>\n",
       "      <th>target1_volatility</th>\n",
       "      <th>p</th>\n",
       "    </tr>\n",
       "  </thead>\n",
       "  <tbody>\n",
       "    <tr>\n",
       "      <th>2017-01-01 00:00:00</th>\n",
       "      <td>6.559</td>\n",
       "      <td>73.8</td>\n",
       "      <td>0.083</td>\n",
       "      <td>0.051</td>\n",
       "      <td>0.119</td>\n",
       "      <td>34055.69620</td>\n",
       "      <td>16128.87538</td>\n",
       "      <td>20240.96386</td>\n",
       "      <td>0</td>\n",
       "      <td>0</td>\n",
       "      <td>...</td>\n",
       "      <td>6</td>\n",
       "      <td>52</td>\n",
       "      <td>1</td>\n",
       "      <td>2017-01</td>\n",
       "      <td>2017-01-01</td>\n",
       "      <td>1</td>\n",
       "      <td>NaN</td>\n",
       "      <td>NaN</td>\n",
       "      <td>NaN</td>\n",
       "      <td>NaN</td>\n",
       "    </tr>\n",
       "    <tr>\n",
       "      <th>2017-01-01 00:10:00</th>\n",
       "      <td>6.414</td>\n",
       "      <td>74.5</td>\n",
       "      <td>0.083</td>\n",
       "      <td>0.070</td>\n",
       "      <td>0.085</td>\n",
       "      <td>29814.68354</td>\n",
       "      <td>19375.07599</td>\n",
       "      <td>20131.08434</td>\n",
       "      <td>10</td>\n",
       "      <td>0</td>\n",
       "      <td>...</td>\n",
       "      <td>6</td>\n",
       "      <td>52</td>\n",
       "      <td>1</td>\n",
       "      <td>2017-01</td>\n",
       "      <td>2017-01-01</td>\n",
       "      <td>2</td>\n",
       "      <td>-4241.01266</td>\n",
       "      <td>-12.453167</td>\n",
       "      <td>155.081364</td>\n",
       "      <td>-0.124532</td>\n",
       "    </tr>\n",
       "    <tr>\n",
       "      <th>2017-01-01 00:20:00</th>\n",
       "      <td>6.313</td>\n",
       "      <td>74.5</td>\n",
       "      <td>0.080</td>\n",
       "      <td>0.062</td>\n",
       "      <td>0.100</td>\n",
       "      <td>29128.10127</td>\n",
       "      <td>19006.68693</td>\n",
       "      <td>19668.43373</td>\n",
       "      <td>20</td>\n",
       "      <td>0</td>\n",
       "      <td>...</td>\n",
       "      <td>6</td>\n",
       "      <td>52</td>\n",
       "      <td>1</td>\n",
       "      <td>2017-01</td>\n",
       "      <td>2017-01-01</td>\n",
       "      <td>3</td>\n",
       "      <td>-686.58227</td>\n",
       "      <td>-2.302833</td>\n",
       "      <td>5.303038</td>\n",
       "      <td>-0.023028</td>\n",
       "    </tr>\n",
       "  </tbody>\n",
       "</table>\n",
       "<p>3 rows × 23 columns</p>\n",
       "</div>"
      ],
      "text/plain": [
       "                     temperature  humidity  windspeed  generaldiffuseflows  \\\n",
       "2017-01-01 00:00:00        6.559      73.8      0.083                0.051   \n",
       "2017-01-01 00:10:00        6.414      74.5      0.083                0.070   \n",
       "2017-01-01 00:20:00        6.313      74.5      0.080                0.062   \n",
       "\n",
       "                     diffuseflows      target1      target2      target3  \\\n",
       "2017-01-01 00:00:00         0.119  34055.69620  16128.87538  20240.96386   \n",
       "2017-01-01 00:10:00         0.085  29814.68354  19375.07599  20131.08434   \n",
       "2017-01-01 00:20:00         0.100  29128.10127  19006.68693  19668.43373   \n",
       "\n",
       "                     minute  hour  ...  weekday  week  month  year_month  \\\n",
       "2017-01-01 00:00:00       0     0  ...        6    52      1     2017-01   \n",
       "2017-01-01 00:10:00      10     0  ...        6    52      1     2017-01   \n",
       "2017-01-01 00:20:00      20     0  ...        6    52      1     2017-01   \n",
       "\n",
       "                       year_day  count_elmnts_by_day target1_diff  \\\n",
       "2017-01-01 00:00:00  2017-01-01                    1          NaN   \n",
       "2017-01-01 00:10:00  2017-01-01                    2  -4241.01266   \n",
       "2017-01-01 00:20:00  2017-01-01                    3   -686.58227   \n",
       "\n",
       "                    target1_returns  target1_volatility         p  \n",
       "2017-01-01 00:00:00             NaN                 NaN       NaN  \n",
       "2017-01-01 00:10:00      -12.453167          155.081364 -0.124532  \n",
       "2017-01-01 00:20:00       -2.302833            5.303038 -0.023028  \n",
       "\n",
       "[3 rows x 23 columns]"
      ]
     },
     "execution_count": 13,
     "metadata": {},
     "output_type": "execute_result"
    }
   ],
   "source": [
    "train.head(3)"
   ]
  },
  {
   "cell_type": "markdown",
   "id": "a9270f4f-cc8c-4485-8faf-befc4ce8e2b8",
   "metadata": {},
   "source": [
    "#### Features 'is_Friday' and 'is_Sunday'"
   ]
  },
  {
   "cell_type": "code",
   "execution_count": 14,
   "id": "aa6feb6e-13e3-4c7a-91d0-ec51dcf5e033",
   "metadata": {},
   "outputs": [],
   "source": [
    "train['is_Friday'] = (train['weekday']==4).astype(int)"
   ]
  },
  {
   "cell_type": "code",
   "execution_count": 15,
   "id": "cbbafda3-3d63-46a6-ad1a-fc44f639f34a",
   "metadata": {},
   "outputs": [],
   "source": [
    "train['is_Sunday'] = (train['weekday']==6).astype(int)"
   ]
  },
  {
   "cell_type": "code",
   "execution_count": 16,
   "id": "3df133a1-c717-4afb-bf0e-1283eda3796b",
   "metadata": {},
   "outputs": [],
   "source": [
    "valid['is_Friday'] = (valid['weekday']==4).astype(int)"
   ]
  },
  {
   "cell_type": "code",
   "execution_count": 17,
   "id": "367eb555-ac09-4820-8f8a-29d9763bbedf",
   "metadata": {},
   "outputs": [],
   "source": [
    "valid['is_Sunday'] = (valid['weekday']==6).astype(int)"
   ]
  },
  {
   "cell_type": "markdown",
   "id": "1f26d515-bf89-4172-aa42-470128300e71",
   "metadata": {},
   "source": [
    "#### Feature 'is_31'"
   ]
  },
  {
   "cell_type": "code",
   "execution_count": 18,
   "id": "daeda5b2-d98d-4008-9b14-901cb7ef7669",
   "metadata": {},
   "outputs": [],
   "source": [
    "train['is_31'] = (train['day']==31).astype(int)"
   ]
  },
  {
   "cell_type": "code",
   "execution_count": 19,
   "id": "cc6caf03-7c90-42c8-a4f9-8cb0d4bbf08c",
   "metadata": {},
   "outputs": [],
   "source": [
    "valid['is_31'] = (valid['day']==31).astype(int)"
   ]
  },
  {
   "cell_type": "markdown",
   "id": "fcd94e92-1178-443e-b42c-680e7ec8529c",
   "metadata": {},
   "source": [
    "#### Cumulative average of Target1"
   ]
  },
  {
   "cell_type": "code",
   "execution_count": 20,
   "id": "e6e37dc5-13bf-4302-bea8-5afb52c04eae",
   "metadata": {},
   "outputs": [],
   "source": [
    "train['target1_cum_avg'] = \\\n",
    "    (train.groupby('day_of_year')['target1'].cumsum().values\n",
    "     / train['count_elmnts_by_day'].values)"
   ]
  },
  {
   "cell_type": "code",
   "execution_count": 21,
   "id": "da40f5e7-cbec-418b-9a6f-d4f3370f0b7b",
   "metadata": {},
   "outputs": [
    {
     "data": {
      "image/png": "[encoded data removed]",
      "text/plain": [
       "<Figure size 800x250 with 1 Axes>"
      ]
     },
     "metadata": {},
     "output_type": "display_data"
    }
   ],
   "source": [
    "plt.plot(train['target1_cum_avg'][:143*10]);"
   ]
  },
  {
   "cell_type": "code",
   "execution_count": 22,
   "id": "1a7e7bdd-b000-41bc-8e7e-666e3d07bb82",
   "metadata": {},
   "outputs": [],
   "source": [
    "train['target1_cum_avg'] = train['target1_cum_avg'].shift(1)"
   ]
  },
  {
   "cell_type": "code",
   "execution_count": 23,
   "id": "1705df9f-03d8-4e82-ba60-afb570fbf1d2",
   "metadata": {},
   "outputs": [
    {
     "data": {
      "text/html": [
       "<div>\n",
       "<style scoped>\n",
       "    .dataframe tbody tr th:only-of-type {\n",
       "        vertical-align: middle;\n",
       "    }\n",
       "\n",
       "    .dataframe tbody tr th {\n",
       "        vertical-align: top;\n",
       "    }\n",
       "\n",
       "    .dataframe thead th {\n",
       "        text-align: right;\n",
       "    }\n",
       "</style>\n",
       "<table border=\"1\" class=\"dataframe\">\n",
       "  <thead>\n",
       "    <tr style=\"text-align: right;\">\n",
       "      <th></th>\n",
       "      <th>target1</th>\n",
       "      <th>target1_cum_avg</th>\n",
       "    </tr>\n",
       "  </thead>\n",
       "  <tbody>\n",
       "    <tr>\n",
       "      <th>2017-01-01 00:00:00</th>\n",
       "      <td>34055.69620</td>\n",
       "      <td>NaN</td>\n",
       "    </tr>\n",
       "    <tr>\n",
       "      <th>2017-01-01 00:10:00</th>\n",
       "      <td>29814.68354</td>\n",
       "      <td>34055.696200</td>\n",
       "    </tr>\n",
       "    <tr>\n",
       "      <th>2017-01-01 00:20:00</th>\n",
       "      <td>29128.10127</td>\n",
       "      <td>31935.189870</td>\n",
       "    </tr>\n",
       "    <tr>\n",
       "      <th>2017-01-01 00:30:00</th>\n",
       "      <td>28228.86076</td>\n",
       "      <td>30999.493670</td>\n",
       "    </tr>\n",
       "    <tr>\n",
       "      <th>2017-01-01 00:40:00</th>\n",
       "      <td>27335.69620</td>\n",
       "      <td>30306.835442</td>\n",
       "    </tr>\n",
       "    <tr>\n",
       "      <th>...</th>\n",
       "      <td>...</td>\n",
       "      <td>...</td>\n",
       "    </tr>\n",
       "    <tr>\n",
       "      <th>2017-07-31 23:10:00</th>\n",
       "      <td>43407.30897</td>\n",
       "      <td>38477.324984</td>\n",
       "    </tr>\n",
       "    <tr>\n",
       "      <th>2017-07-31 23:20:00</th>\n",
       "      <td>42507.90698</td>\n",
       "      <td>38512.539156</td>\n",
       "    </tr>\n",
       "    <tr>\n",
       "      <th>2017-07-31 23:30:00</th>\n",
       "      <td>41659.53488</td>\n",
       "      <td>38540.875098</td>\n",
       "    </tr>\n",
       "    <tr>\n",
       "      <th>2017-07-31 23:40:00</th>\n",
       "      <td>40843.05648</td>\n",
       "      <td>38562.837490</td>\n",
       "    </tr>\n",
       "    <tr>\n",
       "      <th>2017-07-31 23:50:00</th>\n",
       "      <td>39631.09635</td>\n",
       "      <td>38578.783078</td>\n",
       "    </tr>\n",
       "  </tbody>\n",
       "</table>\n",
       "<p>30528 rows × 2 columns</p>\n",
       "</div>"
      ],
      "text/plain": [
       "                         target1  target1_cum_avg\n",
       "2017-01-01 00:00:00  34055.69620              NaN\n",
       "2017-01-01 00:10:00  29814.68354     34055.696200\n",
       "2017-01-01 00:20:00  29128.10127     31935.189870\n",
       "2017-01-01 00:30:00  28228.86076     30999.493670\n",
       "2017-01-01 00:40:00  27335.69620     30306.835442\n",
       "...                          ...              ...\n",
       "2017-07-31 23:10:00  43407.30897     38477.324984\n",
       "2017-07-31 23:20:00  42507.90698     38512.539156\n",
       "2017-07-31 23:30:00  41659.53488     38540.875098\n",
       "2017-07-31 23:40:00  40843.05648     38562.837490\n",
       "2017-07-31 23:50:00  39631.09635     38578.783078\n",
       "\n",
       "[30528 rows x 2 columns]"
      ]
     },
     "execution_count": 23,
     "metadata": {},
     "output_type": "execute_result"
    }
   ],
   "source": [
    "train[['target1', 'target1_cum_avg']]"
   ]
  },
  {
   "cell_type": "code",
   "execution_count": 24,
   "id": "2afdd685-e9e3-40ee-b836-da5b709f8dd1",
   "metadata": {},
   "outputs": [
    {
     "data": {
      "text/plain": [
       "PearsonRResult(statistic=0.5919214986544622, pvalue=0.0)"
      ]
     },
     "execution_count": 24,
     "metadata": {},
     "output_type": "execute_result"
    }
   ],
   "source": [
    "scipy.stats.pearsonr(\n",
    "    train['target1_cum_avg'][1:],\n",
    "    train['target1'][1:]\n",
    ")"
   ]
  },
  {
   "cell_type": "code",
   "execution_count": 25,
   "id": "3a8334a0-83eb-47af-99ee-56a2046d0337",
   "metadata": {},
   "outputs": [
    {
     "data": {
      "text/plain": [
       "PearsonRResult(statistic=0.997255936836215, pvalue=0.0)"
      ]
     },
     "execution_count": 25,
     "metadata": {},
     "output_type": "execute_result"
    }
   ],
   "source": [
    "scipy.stats.pearsonr(\n",
    "    train['target1_cum_avg'].shift()[2:],\n",
    "    train['target1_cum_avg'][2:]\n",
    ")"
   ]
  },
  {
   "cell_type": "markdown",
   "id": "cc7f8591-f7c5-4af9-8b81-14a6028f6bb3",
   "metadata": {},
   "source": [
    "#### Median for previous dayweeks"
   ]
  },
  {
   "cell_type": "code",
   "execution_count": 26,
   "id": "44009d6e-4a7b-4c08-9542-a2c3e8192fae",
   "metadata": {},
   "outputs": [],
   "source": [
    "train = train.join(train.groupby('weekday')['target1'].median(), on='weekday', rsuffix='_by_weekday')"
   ]
  },
  {
   "cell_type": "markdown",
   "id": "a023f219-fabd-492a-ab38-059fabe963f0",
   "metadata": {},
   "source": [
    "#### Median for previous minutes\n",
    "\n",
    "Value of 'target1' from previous month day-by-day"
   ]
  },
  {
   "cell_type": "code",
   "execution_count": 27,
   "id": "f95c57dc-0854-454c-b39b-d7df611b245d",
   "metadata": {},
   "outputs": [],
   "source": [
    "train['target1_by_minutes'] = generate_feature_by_minutes(train, 'target1', '2017-01')"
   ]
  },
  {
   "cell_type": "code",
   "execution_count": 28,
   "id": "54dcc477-87a7-452d-8c8c-4827daf48f95",
   "metadata": {},
   "outputs": [
    {
     "data": {
      "text/plain": [
       "2017-01-01 00:00:00            NaN\n",
       "2017-01-01 00:10:00            NaN\n",
       "2017-01-01 00:20:00            NaN\n",
       "2017-01-01 00:30:00            NaN\n",
       "2017-01-01 00:40:00            NaN\n",
       "                          ...     \n",
       "2017-07-31 23:10:00    40205.56291\n",
       "2017-07-31 23:20:00    39423.57616\n",
       "2017-07-31 23:30:00    38883.17881\n",
       "2017-07-31 23:40:00    38107.54967\n",
       "2017-07-31 23:50:00    37312.84768\n",
       "Freq: 10min, Name: target1_by_minutes, Length: 30528, dtype: float64"
      ]
     },
     "execution_count": 28,
     "metadata": {},
     "output_type": "execute_result"
    }
   ],
   "source": [
    "train['target1_by_minutes']"
   ]
  },
  {
   "cell_type": "code",
   "execution_count": 29,
   "id": "d9ce1b81-a033-4f4f-a451-649141e991dc",
   "metadata": {},
   "outputs": [],
   "source": [
    "len_values_of_the_first_month = len(train.loc['2017-01'])"
   ]
  },
  {
   "cell_type": "code",
   "execution_count": 30,
   "id": "052de992-91a6-44a4-9417-30a3c6284220",
   "metadata": {},
   "outputs": [
    {
     "data": {
      "text/plain": [
       "4464"
      ]
     },
     "execution_count": 30,
     "metadata": {},
     "output_type": "execute_result"
    }
   ],
   "source": [
    "len_values_of_the_first_month"
   ]
  },
  {
   "cell_type": "code",
   "execution_count": 31,
   "id": "2e141260-67db-4f6d-977d-759d4bfc5f1b",
   "metadata": {},
   "outputs": [
    {
     "data": {
      "text/plain": [
       "2017-01-31 23:50:00            NaN\n",
       "2017-02-01 00:00:00    34055.69620\n",
       "2017-02-01 00:10:00    29814.68354\n",
       "2017-02-01 00:20:00    29128.10127\n",
       "2017-02-01 00:30:00    28228.86076\n",
       "                          ...     \n",
       "2017-07-31 23:10:00    40205.56291\n",
       "2017-07-31 23:20:00    39423.57616\n",
       "2017-07-31 23:30:00    38883.17881\n",
       "2017-07-31 23:40:00    38107.54967\n",
       "2017-07-31 23:50:00    37312.84768\n",
       "Freq: 10min, Name: target1_by_minutes, Length: 26065, dtype: float64"
      ]
     },
     "execution_count": 31,
     "metadata": {},
     "output_type": "execute_result"
    }
   ],
   "source": [
    "train['target1_by_minutes'][len_values_of_the_first_month-1:]"
   ]
  },
  {
   "cell_type": "code",
   "execution_count": 32,
   "id": "c98b81d0-c049-40a0-8da6-fc15c33f4d4d",
   "metadata": {},
   "outputs": [
    {
     "data": {
      "text/plain": [
       "[<matplotlib.lines.Line2D at 0x1276b8680>]"
      ]
     },
     "execution_count": 32,
     "metadata": {},
     "output_type": "execute_result"
    },
    {
     "data": {
      "image/png": "[encoded data removed]",
      "text/plain": [
       "<Figure size 800x250 with 1 Axes>"
      ]
     },
     "metadata": {},
     "output_type": "display_data"
    }
   ],
   "source": [
    "plt.plot(train.loc['2017-05-05', 'target1'], color=palette[1])\n",
    "plt.plot(train.loc['2017-05-05', 'target1_by_minutes'], color=palette[2])"
   ]
  },
  {
   "cell_type": "code",
   "execution_count": 33,
   "id": "ee6b5900-cb8b-4bef-bf96-89228528219c",
   "metadata": {},
   "outputs": [],
   "source": [
    "valid['target1_by_minutes'] = train.loc['2017-07-01':, 'target1'].values"
   ]
  },
  {
   "cell_type": "code",
   "execution_count": 34,
   "id": "c51e244e-2130-4bd5-a43e-975058892d03",
   "metadata": {},
   "outputs": [
    {
     "data": {
      "text/html": [
       "<div>\n",
       "<style scoped>\n",
       "    .dataframe tbody tr th:only-of-type {\n",
       "        vertical-align: middle;\n",
       "    }\n",
       "\n",
       "    .dataframe tbody tr th {\n",
       "        vertical-align: top;\n",
       "    }\n",
       "\n",
       "    .dataframe thead th {\n",
       "        text-align: right;\n",
       "    }\n",
       "</style>\n",
       "<table border=\"1\" class=\"dataframe\">\n",
       "  <thead>\n",
       "    <tr style=\"text-align: right;\">\n",
       "      <th></th>\n",
       "      <th>temperature</th>\n",
       "      <th>humidity</th>\n",
       "      <th>windspeed</th>\n",
       "      <th>generaldiffuseflows</th>\n",
       "      <th>diffuseflows</th>\n",
       "      <th>target1</th>\n",
       "      <th>target2</th>\n",
       "      <th>target3</th>\n",
       "      <th>minute</th>\n",
       "      <th>hour</th>\n",
       "      <th>...</th>\n",
       "      <th>weekday</th>\n",
       "      <th>week</th>\n",
       "      <th>month</th>\n",
       "      <th>year_month</th>\n",
       "      <th>year_day</th>\n",
       "      <th>count_elmnts_by_day</th>\n",
       "      <th>is_Friday</th>\n",
       "      <th>is_Sunday</th>\n",
       "      <th>is_31</th>\n",
       "      <th>target1_by_minutes</th>\n",
       "    </tr>\n",
       "  </thead>\n",
       "  <tbody>\n",
       "    <tr>\n",
       "      <th>2017-08-01 00:00:00</th>\n",
       "      <td>24.82</td>\n",
       "      <td>77.2</td>\n",
       "      <td>4.903</td>\n",
       "      <td>0.099</td>\n",
       "      <td>0.082</td>\n",
       "      <td>38517.20311</td>\n",
       "      <td>26979.09187</td>\n",
       "      <td>31008.90282</td>\n",
       "      <td>0</td>\n",
       "      <td>0</td>\n",
       "      <td>...</td>\n",
       "      <td>1</td>\n",
       "      <td>31</td>\n",
       "      <td>8</td>\n",
       "      <td>2017-08</td>\n",
       "      <td>2017-08-01</td>\n",
       "      <td>1</td>\n",
       "      <td>0</td>\n",
       "      <td>0</td>\n",
       "      <td>0</td>\n",
       "      <td>36384.31894</td>\n",
       "    </tr>\n",
       "    <tr>\n",
       "      <th>2017-08-01 00:10:00</th>\n",
       "      <td>24.72</td>\n",
       "      <td>77.7</td>\n",
       "      <td>4.906</td>\n",
       "      <td>0.059</td>\n",
       "      <td>0.141</td>\n",
       "      <td>37973.80688</td>\n",
       "      <td>26416.47307</td>\n",
       "      <td>30713.98119</td>\n",
       "      <td>10</td>\n",
       "      <td>0</td>\n",
       "      <td>...</td>\n",
       "      <td>1</td>\n",
       "      <td>31</td>\n",
       "      <td>8</td>\n",
       "      <td>2017-08</td>\n",
       "      <td>2017-08-01</td>\n",
       "      <td>2</td>\n",
       "      <td>0</td>\n",
       "      <td>0</td>\n",
       "      <td>0</td>\n",
       "      <td>35689.03654</td>\n",
       "    </tr>\n",
       "    <tr>\n",
       "      <th>2017-08-01 00:20:00</th>\n",
       "      <td>24.64</td>\n",
       "      <td>77.7</td>\n",
       "      <td>4.904</td>\n",
       "      <td>0.062</td>\n",
       "      <td>0.156</td>\n",
       "      <td>37308.94562</td>\n",
       "      <td>26192.18585</td>\n",
       "      <td>30178.30721</td>\n",
       "      <td>20</td>\n",
       "      <td>0</td>\n",
       "      <td>...</td>\n",
       "      <td>1</td>\n",
       "      <td>31</td>\n",
       "      <td>8</td>\n",
       "      <td>2017-08</td>\n",
       "      <td>2017-08-01</td>\n",
       "      <td>3</td>\n",
       "      <td>0</td>\n",
       "      <td>0</td>\n",
       "      <td>0</td>\n",
       "      <td>34751.36213</td>\n",
       "    </tr>\n",
       "    <tr>\n",
       "      <th>2017-08-01 00:30:00</th>\n",
       "      <td>24.62</td>\n",
       "      <td>77.6</td>\n",
       "      <td>4.904</td>\n",
       "      <td>0.062</td>\n",
       "      <td>0.130</td>\n",
       "      <td>36164.61709</td>\n",
       "      <td>25599.15523</td>\n",
       "      <td>29666.70846</td>\n",
       "      <td>30</td>\n",
       "      <td>0</td>\n",
       "      <td>...</td>\n",
       "      <td>1</td>\n",
       "      <td>31</td>\n",
       "      <td>8</td>\n",
       "      <td>2017-08</td>\n",
       "      <td>2017-08-01</td>\n",
       "      <td>4</td>\n",
       "      <td>0</td>\n",
       "      <td>0</td>\n",
       "      <td>0</td>\n",
       "      <td>33954.01993</td>\n",
       "    </tr>\n",
       "    <tr>\n",
       "      <th>2017-08-01 00:40:00</th>\n",
       "      <td>24.59</td>\n",
       "      <td>77.7</td>\n",
       "      <td>4.907</td>\n",
       "      <td>0.073</td>\n",
       "      <td>0.144</td>\n",
       "      <td>35678.75694</td>\n",
       "      <td>25344.45618</td>\n",
       "      <td>29413.91850</td>\n",
       "      <td>40</td>\n",
       "      <td>0</td>\n",
       "      <td>...</td>\n",
       "      <td>1</td>\n",
       "      <td>31</td>\n",
       "      <td>8</td>\n",
       "      <td>2017-08</td>\n",
       "      <td>2017-08-01</td>\n",
       "      <td>5</td>\n",
       "      <td>0</td>\n",
       "      <td>0</td>\n",
       "      <td>0</td>\n",
       "      <td>33411.82724</td>\n",
       "    </tr>\n",
       "    <tr>\n",
       "      <th>...</th>\n",
       "      <td>...</td>\n",
       "      <td>...</td>\n",
       "      <td>...</td>\n",
       "      <td>...</td>\n",
       "      <td>...</td>\n",
       "      <td>...</td>\n",
       "      <td>...</td>\n",
       "      <td>...</td>\n",
       "      <td>...</td>\n",
       "      <td>...</td>\n",
       "      <td>...</td>\n",
       "      <td>...</td>\n",
       "      <td>...</td>\n",
       "      <td>...</td>\n",
       "      <td>...</td>\n",
       "      <td>...</td>\n",
       "      <td>...</td>\n",
       "      <td>...</td>\n",
       "      <td>...</td>\n",
       "      <td>...</td>\n",
       "      <td>...</td>\n",
       "    </tr>\n",
       "    <tr>\n",
       "      <th>2017-08-31 23:10:00</th>\n",
       "      <td>22.31</td>\n",
       "      <td>72.6</td>\n",
       "      <td>4.920</td>\n",
       "      <td>0.095</td>\n",
       "      <td>0.078</td>\n",
       "      <td>38619.48946</td>\n",
       "      <td>22713.83316</td>\n",
       "      <td>19976.42633</td>\n",
       "      <td>10</td>\n",
       "      <td>23</td>\n",
       "      <td>...</td>\n",
       "      <td>3</td>\n",
       "      <td>35</td>\n",
       "      <td>8</td>\n",
       "      <td>2017-08</td>\n",
       "      <td>2017-08-31</td>\n",
       "      <td>140</td>\n",
       "      <td>0</td>\n",
       "      <td>0</td>\n",
       "      <td>1</td>\n",
       "      <td>43407.30897</td>\n",
       "    </tr>\n",
       "    <tr>\n",
       "      <th>2017-08-31 23:20:00</th>\n",
       "      <td>22.36</td>\n",
       "      <td>72.4</td>\n",
       "      <td>4.919</td>\n",
       "      <td>0.080</td>\n",
       "      <td>0.122</td>\n",
       "      <td>38370.16648</td>\n",
       "      <td>22006.75818</td>\n",
       "      <td>19476.86520</td>\n",
       "      <td>20</td>\n",
       "      <td>23</td>\n",
       "      <td>...</td>\n",
       "      <td>3</td>\n",
       "      <td>35</td>\n",
       "      <td>8</td>\n",
       "      <td>2017-08</td>\n",
       "      <td>2017-08-31</td>\n",
       "      <td>141</td>\n",
       "      <td>0</td>\n",
       "      <td>0</td>\n",
       "      <td>1</td>\n",
       "      <td>42507.90698</td>\n",
       "    </tr>\n",
       "    <tr>\n",
       "      <th>2017-08-31 23:30:00</th>\n",
       "      <td>22.34</td>\n",
       "      <td>72.1</td>\n",
       "      <td>4.920</td>\n",
       "      <td>0.102</td>\n",
       "      <td>0.122</td>\n",
       "      <td>37724.48391</td>\n",
       "      <td>21790.07392</td>\n",
       "      <td>19320.37618</td>\n",
       "      <td>30</td>\n",
       "      <td>23</td>\n",
       "      <td>...</td>\n",
       "      <td>3</td>\n",
       "      <td>35</td>\n",
       "      <td>8</td>\n",
       "      <td>2017-08</td>\n",
       "      <td>2017-08-31</td>\n",
       "      <td>142</td>\n",
       "      <td>0</td>\n",
       "      <td>0</td>\n",
       "      <td>1</td>\n",
       "      <td>41659.53488</td>\n",
       "    </tr>\n",
       "    <tr>\n",
       "      <th>2017-08-31 23:40:00</th>\n",
       "      <td>22.26</td>\n",
       "      <td>73.0</td>\n",
       "      <td>4.922</td>\n",
       "      <td>0.058</td>\n",
       "      <td>0.130</td>\n",
       "      <td>36874.22863</td>\n",
       "      <td>21265.46990</td>\n",
       "      <td>19133.79310</td>\n",
       "      <td>40</td>\n",
       "      <td>23</td>\n",
       "      <td>...</td>\n",
       "      <td>3</td>\n",
       "      <td>35</td>\n",
       "      <td>8</td>\n",
       "      <td>2017-08</td>\n",
       "      <td>2017-08-31</td>\n",
       "      <td>143</td>\n",
       "      <td>0</td>\n",
       "      <td>0</td>\n",
       "      <td>1</td>\n",
       "      <td>40843.05648</td>\n",
       "    </tr>\n",
       "    <tr>\n",
       "      <th>2017-08-31 23:50:00</th>\n",
       "      <td>22.11</td>\n",
       "      <td>73.5</td>\n",
       "      <td>4.917</td>\n",
       "      <td>0.084</td>\n",
       "      <td>0.152</td>\n",
       "      <td>36215.76027</td>\n",
       "      <td>20953.74868</td>\n",
       "      <td>18814.79624</td>\n",
       "      <td>50</td>\n",
       "      <td>23</td>\n",
       "      <td>...</td>\n",
       "      <td>3</td>\n",
       "      <td>35</td>\n",
       "      <td>8</td>\n",
       "      <td>2017-08</td>\n",
       "      <td>2017-08-31</td>\n",
       "      <td>144</td>\n",
       "      <td>0</td>\n",
       "      <td>0</td>\n",
       "      <td>1</td>\n",
       "      <td>39631.09635</td>\n",
       "    </tr>\n",
       "  </tbody>\n",
       "</table>\n",
       "<p>4464 rows × 23 columns</p>\n",
       "</div>"
      ],
      "text/plain": [
       "                     temperature  humidity  windspeed  generaldiffuseflows  \\\n",
       "2017-08-01 00:00:00        24.82      77.2      4.903                0.099   \n",
       "2017-08-01 00:10:00        24.72      77.7      4.906                0.059   \n",
       "2017-08-01 00:20:00        24.64      77.7      4.904                0.062   \n",
       "2017-08-01 00:30:00        24.62      77.6      4.904                0.062   \n",
       "2017-08-01 00:40:00        24.59      77.7      4.907                0.073   \n",
       "...                          ...       ...        ...                  ...   \n",
       "2017-08-31 23:10:00        22.31      72.6      4.920                0.095   \n",
       "2017-08-31 23:20:00        22.36      72.4      4.919                0.080   \n",
       "2017-08-31 23:30:00        22.34      72.1      4.920                0.102   \n",
       "2017-08-31 23:40:00        22.26      73.0      4.922                0.058   \n",
       "2017-08-31 23:50:00        22.11      73.5      4.917                0.084   \n",
       "\n",
       "                     diffuseflows      target1      target2      target3  \\\n",
       "2017-08-01 00:00:00         0.082  38517.20311  26979.09187  31008.90282   \n",
       "2017-08-01 00:10:00         0.141  37973.80688  26416.47307  30713.98119   \n",
       "2017-08-01 00:20:00         0.156  37308.94562  26192.18585  30178.30721   \n",
       "2017-08-01 00:30:00         0.130  36164.61709  25599.15523  29666.70846   \n",
       "2017-08-01 00:40:00         0.144  35678.75694  25344.45618  29413.91850   \n",
       "...                           ...          ...          ...          ...   \n",
       "2017-08-31 23:10:00         0.078  38619.48946  22713.83316  19976.42633   \n",
       "2017-08-31 23:20:00         0.122  38370.16648  22006.75818  19476.86520   \n",
       "2017-08-31 23:30:00         0.122  37724.48391  21790.07392  19320.37618   \n",
       "2017-08-31 23:40:00         0.130  36874.22863  21265.46990  19133.79310   \n",
       "2017-08-31 23:50:00         0.152  36215.76027  20953.74868  18814.79624   \n",
       "\n",
       "                     minute  hour  ...  weekday  week  month  year_month  \\\n",
       "2017-08-01 00:00:00       0     0  ...        1    31      8     2017-08   \n",
       "2017-08-01 00:10:00      10     0  ...        1    31      8     2017-08   \n",
       "2017-08-01 00:20:00      20     0  ...        1    31      8     2017-08   \n",
       "2017-08-01 00:30:00      30     0  ...        1    31      8     2017-08   \n",
       "2017-08-01 00:40:00      40     0  ...        1    31      8     2017-08   \n",
       "...                     ...   ...  ...      ...   ...    ...         ...   \n",
       "2017-08-31 23:10:00      10    23  ...        3    35      8     2017-08   \n",
       "2017-08-31 23:20:00      20    23  ...        3    35      8     2017-08   \n",
       "2017-08-31 23:30:00      30    23  ...        3    35      8     2017-08   \n",
       "2017-08-31 23:40:00      40    23  ...        3    35      8     2017-08   \n",
       "2017-08-31 23:50:00      50    23  ...        3    35      8     2017-08   \n",
       "\n",
       "                       year_day  count_elmnts_by_day is_Friday is_Sunday  \\\n",
       "2017-08-01 00:00:00  2017-08-01                    1         0         0   \n",
       "2017-08-01 00:10:00  2017-08-01                    2         0         0   \n",
       "2017-08-01 00:20:00  2017-08-01                    3         0         0   \n",
       "2017-08-01 00:30:00  2017-08-01                    4         0         0   \n",
       "2017-08-01 00:40:00  2017-08-01                    5         0         0   \n",
       "...                         ...                  ...       ...       ...   \n",
       "2017-08-31 23:10:00  2017-08-31                  140         0         0   \n",
       "2017-08-31 23:20:00  2017-08-31                  141         0         0   \n",
       "2017-08-31 23:30:00  2017-08-31                  142         0         0   \n",
       "2017-08-31 23:40:00  2017-08-31                  143         0         0   \n",
       "2017-08-31 23:50:00  2017-08-31                  144         0         0   \n",
       "\n",
       "                     is_31  target1_by_minutes  \n",
       "2017-08-01 00:00:00      0         36384.31894  \n",
       "2017-08-01 00:10:00      0         35689.03654  \n",
       "2017-08-01 00:20:00      0         34751.36213  \n",
       "2017-08-01 00:30:00      0         33954.01993  \n",
       "2017-08-01 00:40:00      0         33411.82724  \n",
       "...                    ...                 ...  \n",
       "2017-08-31 23:10:00      1         43407.30897  \n",
       "2017-08-31 23:20:00      1         42507.90698  \n",
       "2017-08-31 23:30:00      1         41659.53488  \n",
       "2017-08-31 23:40:00      1         40843.05648  \n",
       "2017-08-31 23:50:00      1         39631.09635  \n",
       "\n",
       "[4464 rows x 23 columns]"
      ]
     },
     "execution_count": 34,
     "metadata": {},
     "output_type": "execute_result"
    }
   ],
   "source": [
    "valid"
   ]
  },
  {
   "cell_type": "markdown",
   "id": "71fa33e4-4949-4777-a62c-ebc8c874ee47",
   "metadata": {},
   "source": [
    "## Save Data"
   ]
  },
  {
   "cell_type": "code",
   "execution_count": 35,
   "id": "90079c2d-6f49-4745-a91d-aeff3e2e3849",
   "metadata": {},
   "outputs": [
    {
     "name": "stdout",
     "output_type": "stream",
     "text": [
      "File 'train.pkl' saved in directory 'files/02-feature-engineering/'\n"
     ]
    }
   ],
   "source": [
    "saveit(train, 'train', save_files)"
   ]
  },
  {
   "cell_type": "code",
   "execution_count": 36,
   "id": "4d461689-7cdc-4568-8149-4ccbbda1eadb",
   "metadata": {},
   "outputs": [
    {
     "name": "stdout",
     "output_type": "stream",
     "text": [
      "File 'valid.pkl' saved in directory 'files/02-feature-engineering/'\n"
     ]
    }
   ],
   "source": [
    "saveit(valid, 'valid', save_files)"
   ]
  },
  {
   "cell_type": "code",
   "execution_count": 37,
   "id": "2dcc5b68-990d-44e5-817e-d6376bfa4cbc",
   "metadata": {},
   "outputs": [
    {
     "name": "stdout",
     "output_type": "stream",
     "text": [
      "File 'test.pkl' saved in directory 'files/02-feature-engineering/'\n"
     ]
    }
   ],
   "source": [
    "saveit(test, 'test', save_files)"
   ]
  },
  {
   "cell_type": "markdown",
   "id": "f621cc43-1df4-4708-9824-b394eaa63579",
   "metadata": {},
   "source": [
    "### Save Session"
   ]
  },
  {
   "cell_type": "code",
   "execution_count": 38,
   "id": "0452da45-689b-41ba-8782-4ae26cfd59f6",
   "metadata": {},
   "outputs": [],
   "source": [
    "save_session(session_name)"
   ]
  },
  {
   "cell_type": "markdown",
   "id": "84799af8-587b-4a03-aa59-7647087191b5",
   "metadata": {},
   "source": [
    "### Execution time"
   ]
  },
  {
   "cell_type": "code",
   "execution_count": 39,
   "id": "06ba2871-bf7b-405e-a3f4-eeda2f5c61e3",
   "metadata": {},
   "outputs": [
    {
     "name": "stdout",
     "output_type": "stream",
     "text": [
      "Execution time: 0:00:14\n"
     ]
    }
   ],
   "source": [
    "print(f'Execution time: {stopwatch.stop(start)}')"
   ]
  }
 ],
 "metadata": {
  "kernelspec": {
   "display_name": "electric-power-consumption",
   "language": "python",
   "name": "electric-power-consumption"
  },
  "language_info": {
   "codemirror_mode": {
    "name": "ipython",
    "version": 3
   },
   "file_extension": ".py",
   "mimetype": "text/x-python",
   "name": "python",
   "nbconvert_exporter": "python",
   "pygments_lexer": "ipython3",
   "version": "3.12.2"
  }
 },
 "nbformat": 4,
 "nbformat_minor": 5
}
