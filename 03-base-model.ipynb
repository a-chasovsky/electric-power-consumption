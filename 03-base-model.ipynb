{
 "cells": [
  {
   "cell_type": "code",
   "execution_count": 1,
   "id": "2e1e3b63-5b9c-464b-9beb-d9a38a44e22d",
   "metadata": {},
   "outputs": [],
   "source": [
    "# run stopwatch\n",
    "from tools import Stopwatch\n",
    "stopwatch = Stopwatch()\n",
    "start = stopwatch.start()"
   ]
  },
  {
   "cell_type": "markdown",
   "id": "8a5f52fd-7477-4e52-b560-977bf3bb88a7",
   "metadata": {},
   "source": [
    "### Load libraries, functions, palette, theme"
   ]
  },
  {
   "cell_type": "code",
   "execution_count": 2,
   "id": "5f9b63c8-50a4-4a00-9832-429b38b4f296",
   "metadata": {},
   "outputs": [],
   "source": [
    "%run _libraries.ipynb"
   ]
  },
  {
   "cell_type": "code",
   "execution_count": 3,
   "id": "d59d91f0-c577-4e62-90b9-43557d4fef7b",
   "metadata": {},
   "outputs": [],
   "source": [
    "%run _functions.ipynb"
   ]
  },
  {
   "cell_type": "code",
   "execution_count": 4,
   "id": "bdf872cc-90e3-4f56-95d9-02a0e994ee83",
   "metadata": {},
   "outputs": [],
   "source": [
    "dir_current = '03-base-model'"
   ]
  },
  {
   "cell_type": "code",
   "execution_count": 5,
   "id": "db16a030-455b-4859-8648-ae76e940954c",
   "metadata": {},
   "outputs": [],
   "source": [
    "dir_save_files = 'files/'"
   ]
  },
  {
   "cell_type": "code",
   "execution_count": 6,
   "id": "d211a8da-be2e-4600-8126-a61847995b7b",
   "metadata": {},
   "outputs": [],
   "source": [
    "dir_load_files = 'files/'"
   ]
  },
  {
   "cell_type": "code",
   "execution_count": 7,
   "id": "d85e517e-37f3-4401-87e4-8634211faea0",
   "metadata": {},
   "outputs": [],
   "source": [
    "dir_save_img = 'docs/img/'"
   ]
  },
  {
   "cell_type": "code",
   "execution_count": 8,
   "id": "9d456a95-1308-4a67-bae1-b76346cea9b7",
   "metadata": {},
   "outputs": [],
   "source": [
    "session_name = dir_current"
   ]
  },
  {
   "cell_type": "markdown",
   "id": "dcd731b8-b85b-45fd-a03d-b548cb6e336a",
   "metadata": {},
   "source": [
    "# Section III. Base Model"
   ]
  },
  {
   "cell_type": "markdown",
   "id": "2c2ccbc8-9b8e-4b6b-a6b1-b5fcb2962b01",
   "metadata": {},
   "source": [
    "## Load Saved Section if exists"
   ]
  },
  {
   "cell_type": "raw",
   "id": "53ead796-d77c-49a0-9fed-49fded9be347",
   "metadata": {},
   "source": [
    "if os.path.exists(f'sessions/{dir_save}'):\n",
    "    load_session(dir_save)\n",
    "else:\n",
    "    print(f\"No such session: 'sessions/{dir_save}'\")"
   ]
  },
  {
   "cell_type": "markdown",
   "id": "3cb709b2-c84e-4533-be0d-a1b6c52fd6f5",
   "metadata": {},
   "source": [
    "## Load Data"
   ]
  },
  {
   "cell_type": "code",
   "execution_count": 9,
   "id": "0cfdf001-ac4c-414c-b2bf-8428e1d3cb17",
   "metadata": {},
   "outputs": [],
   "source": [
    "train = loadit('train_preprocessed', dir=dir_load_files)"
   ]
  },
  {
   "cell_type": "code",
   "execution_count": 10,
   "id": "e7c904b3-cd9c-485b-a7ed-00b825eb7ad9",
   "metadata": {},
   "outputs": [],
   "source": [
    "valid = loadit('valid_preprocessed', dir=dir_load_files)"
   ]
  },
  {
   "cell_type": "code",
   "execution_count": 11,
   "id": "5663f2ca-6f27-45e6-93a0-e3c6ebf5cdee",
   "metadata": {},
   "outputs": [],
   "source": [
    "test = loadit('test_preprocessed', dir=dir_load_files)"
   ]
  },
  {
   "cell_type": "code",
   "execution_count": 12,
   "id": "7c3f037c-a2f5-4e53-a423-fe307543d1b2",
   "metadata": {},
   "outputs": [],
   "source": [
    "cv0 = loadit('cv0', dir=dir_load_files)"
   ]
  },
  {
   "cell_type": "code",
   "execution_count": 13,
   "id": "db7c2f5f-cdd9-4ed0-bcf3-4f7fdad0e60e",
   "metadata": {},
   "outputs": [],
   "source": [
    "cv1 = loadit('cv1', dir=dir_load_files)"
   ]
  },
  {
   "cell_type": "code",
   "execution_count": 14,
   "id": "62f4010a-5dcc-4044-ae5d-49a701bea9f6",
   "metadata": {},
   "outputs": [],
   "source": [
    "cv2 = loadit('cv2', dir=dir_load_files)"
   ]
  },
  {
   "cell_type": "code",
   "execution_count": 15,
   "id": "96cd01a6-7e44-46f7-ad22-f4953acd2bcc",
   "metadata": {},
   "outputs": [
    {
     "name": "stdout",
     "output_type": "stream",
     "text": [
      "File 'cv3' not found\n"
     ]
    }
   ],
   "source": [
    "cv3 = loadit('cv3', dir=dir_load_files)"
   ]
  },
  {
   "cell_type": "markdown",
   "id": "c07afd88-86ad-4c78-8745-c94138cc82b7",
   "metadata": {},
   "source": [
    "## Features "
   ]
  },
  {
   "cell_type": "code",
   "execution_count": 16,
   "id": "18fb6f9a-6206-43c1-8e99-1129eaf0f3d8",
   "metadata": {},
   "outputs": [],
   "source": [
    "target = 'target1'"
   ]
  },
  {
   "cell_type": "code",
   "execution_count": 17,
   "id": "b3087287-67e8-4e55-aafe-ac202f87aff0",
   "metadata": {},
   "outputs": [],
   "source": [
    "features = ['is_Friday', 'is_Sunday', 'is_31', 'target1_previous_month']"
   ]
  },
  {
   "cell_type": "markdown",
   "id": "33adc9b3-4fab-4ad9-bdec-94a28aeb5c6a",
   "metadata": {},
   "source": [
    "## Naive Models"
   ]
  },
  {
   "cell_type": "markdown",
   "id": "c3b4e8a9-71a8-408c-be96-d69478a3e07c",
   "metadata": {},
   "source": [
    "### First Naive Model"
   ]
  },
  {
   "cell_type": "markdown",
   "id": "a7a4fd4f-2e5b-4c54-895f-6b4a740b1f71",
   "metadata": {},
   "source": [
    "##### Predictions"
   ]
  },
  {
   "cell_type": "code",
   "execution_count": 18,
   "id": "90f91781-7201-4e6d-8a8c-79ba5fec943c",
   "metadata": {},
   "outputs": [],
   "source": [
    "y_pred_naive_first = valid[target].shift(1)[1:].copy()"
   ]
  },
  {
   "cell_type": "code",
   "execution_count": 19,
   "id": "022b11e7-7ecc-47fd-a4b8-752a1ab742d6",
   "metadata": {},
   "outputs": [],
   "source": [
    "y_true_naive_first = valid[target][1:].copy()"
   ]
  },
  {
   "cell_type": "markdown",
   "id": "54932366-9dc4-44db-8676-e2217c5f2e16",
   "metadata": {},
   "source": [
    "##### R-squared"
   ]
  },
  {
   "cell_type": "code",
   "execution_count": 20,
   "id": "4ef89cfd-9d5d-4540-b0e7-bcf69aed6ea2",
   "metadata": {},
   "outputs": [
    {
     "data": {
      "text/plain": [
       "0.99"
      ]
     },
     "execution_count": 20,
     "metadata": {},
     "output_type": "execute_result"
    }
   ],
   "source": [
    "round(r2_score(y_true_naive_first, y_pred_naive_first), 3)"
   ]
  },
  {
   "cell_type": "markdown",
   "id": "a42065bf-506f-4666-9e9b-a4a104a55d07",
   "metadata": {},
   "source": [
    "##### MAE"
   ]
  },
  {
   "cell_type": "code",
   "execution_count": 21,
   "id": "1a18c183-4c2d-4aa2-99a2-3fe565b0db7d",
   "metadata": {},
   "outputs": [
    {
     "data": {
      "text/plain": [
       "468"
      ]
     },
     "execution_count": 21,
     "metadata": {},
     "output_type": "execute_result"
    }
   ],
   "source": [
    "math.ceil(mean_absolute_error(y_true_naive_first, y_pred_naive_first))"
   ]
  },
  {
   "cell_type": "markdown",
   "id": "fc99a0ae-0572-4935-a34e-8d4acbaea822",
   "metadata": {},
   "source": [
    "##### MAPE"
   ]
  },
  {
   "cell_type": "code",
   "execution_count": 22,
   "id": "a0235d3c-e750-4d83-b70e-f4e44e1f13c1",
   "metadata": {},
   "outputs": [
    {
     "data": {
      "text/plain": [
       "1.33"
      ]
     },
     "execution_count": 22,
     "metadata": {},
     "output_type": "execute_result"
    }
   ],
   "source": [
    "round(mean_absolute_percentage_error(y_true_naive_first, y_pred_naive_first) * 100, 2)"
   ]
  },
  {
   "cell_type": "markdown",
   "id": "e3099361-29c0-4182-9bd0-b3e81b61c05c",
   "metadata": {},
   "source": [
    "##### RMSE"
   ]
  },
  {
   "cell_type": "code",
   "execution_count": 23,
   "id": "e6f8c956-89f3-40e3-ad8f-1969fb522201",
   "metadata": {},
   "outputs": [
    {
     "data": {
      "text/plain": [
       "697"
      ]
     },
     "execution_count": 23,
     "metadata": {},
     "output_type": "execute_result"
    }
   ],
   "source": [
    "math.ceil(root_mean_squared_error(y_true_naive_first, y_pred_naive_first))"
   ]
  },
  {
   "cell_type": "markdown",
   "id": "fcad656a-b880-4104-bba7-c906029dc54d",
   "metadata": {},
   "source": [
    "### Second Naive Model"
   ]
  },
  {
   "cell_type": "markdown",
   "id": "bdc68e62-b164-4932-a63a-8dbc5a1c4c68",
   "metadata": {},
   "source": [
    "##### Predictions"
   ]
  },
  {
   "cell_type": "code",
   "execution_count": 24,
   "id": "ad419a22-dbea-463b-ab5b-636a4abf9e03",
   "metadata": {},
   "outputs": [],
   "source": [
    "y_pred_naive_second = valid['target1_previous_month'].copy()"
   ]
  },
  {
   "cell_type": "code",
   "execution_count": 25,
   "id": "548a0f20-599f-4527-b5e1-a6a7d25dd845",
   "metadata": {},
   "outputs": [],
   "source": [
    "y_true_naive_second = valid[target].copy()"
   ]
  },
  {
   "cell_type": "markdown",
   "id": "2268e3d9-279c-44d7-88a3-96ea998084fc",
   "metadata": {},
   "source": [
    "##### R-squared"
   ]
  },
  {
   "cell_type": "code",
   "execution_count": 26,
   "id": "c479fb0b-4540-42a2-94ce-1db124f533af",
   "metadata": {},
   "outputs": [
    {
     "data": {
      "text/plain": [
       "0.746"
      ]
     },
     "execution_count": 26,
     "metadata": {},
     "output_type": "execute_result"
    }
   ],
   "source": [
    "round(r2_score(y_true_naive_second, y_pred_naive_second), 3)"
   ]
  },
  {
   "cell_type": "markdown",
   "id": "cdfb3c92-ae79-4791-90c9-73e276e42ef9",
   "metadata": {},
   "source": [
    "##### MAE"
   ]
  },
  {
   "cell_type": "code",
   "execution_count": 27,
   "id": "139cb275-b433-43fe-a831-452a45db392e",
   "metadata": {},
   "outputs": [
    {
     "data": {
      "text/plain": [
       "2763"
      ]
     },
     "execution_count": 27,
     "metadata": {},
     "output_type": "execute_result"
    }
   ],
   "source": [
    "math.ceil(mean_absolute_error(y_true_naive_second, y_pred_naive_second))"
   ]
  },
  {
   "cell_type": "markdown",
   "id": "4e27a4e1-0bee-4e6e-ae31-89701911554a",
   "metadata": {},
   "source": [
    "##### MAPE"
   ]
  },
  {
   "cell_type": "code",
   "execution_count": 28,
   "id": "c9f5fb8b-2cdf-43cd-baa3-4bf64c603ecb",
   "metadata": {},
   "outputs": [
    {
     "data": {
      "text/plain": [
       "7.68"
      ]
     },
     "execution_count": 28,
     "metadata": {},
     "output_type": "execute_result"
    }
   ],
   "source": [
    "round(mean_absolute_percentage_error(y_true_naive_second, y_pred_naive_second) * 100, 2)"
   ]
  },
  {
   "cell_type": "markdown",
   "id": "f9f49893-490b-4a84-9311-25d3d2ae06d4",
   "metadata": {},
   "source": [
    "##### RMSE"
   ]
  },
  {
   "cell_type": "code",
   "execution_count": 29,
   "id": "d9b6b8d9-2933-4c6f-99e1-2d4d06113b59",
   "metadata": {},
   "outputs": [
    {
     "data": {
      "text/plain": [
       "3558"
      ]
     },
     "execution_count": 29,
     "metadata": {},
     "output_type": "execute_result"
    }
   ],
   "source": [
    "math.ceil(root_mean_squared_error(y_true_naive_second, y_pred_naive_second))"
   ]
  },
  {
   "cell_type": "markdown",
   "id": "027092ac-ac4a-4065-8a19-3ee3e321101f",
   "metadata": {},
   "source": [
    "## Stationarity\n",
    "\n",
    "p< 0.05: Enough evidence to say, that process is stationarity"
   ]
  },
  {
   "cell_type": "code",
   "execution_count": 30,
   "id": "e7b0e19c-bd75-421b-8782-21f9267abd9c",
   "metadata": {},
   "outputs": [
    {
     "data": {
      "text/plain": [
       "(-28.686047970170506,\n",
       " 0.0,\n",
       " 47,\n",
       " 30480,\n",
       " {'1%': -3.4305645620343594,\n",
       "  '5%': -2.8616348306743395,\n",
       "  '10%': -2.566820475464527},\n",
       " 460471.5647015386)"
      ]
     },
     "execution_count": 30,
     "metadata": {},
     "output_type": "execute_result"
    }
   ],
   "source": [
    "# NULL: non-stationarity\n",
    "sm.tsa.stattools.adfuller(train[target])"
   ]
  },
  {
   "cell_type": "code",
   "execution_count": 31,
   "id": "0c1ff75e-85de-48df-9498-25c7e0425bf8",
   "metadata": {},
   "outputs": [
    {
     "data": {
      "text/plain": [
       "array([1, 2, 3, 4, 5, 6, 7], dtype=int32)"
      ]
     },
     "execution_count": 31,
     "metadata": {},
     "output_type": "execute_result"
    }
   ],
   "source": [
    "train['month'].unique()"
   ]
  },
  {
   "cell_type": "code",
   "execution_count": 32,
   "id": "d71f45a9-d057-40b3-93ca-5a363d8a5865",
   "metadata": {},
   "outputs": [
    {
     "name": "stdout",
     "output_type": "stream",
     "text": [
      "January data stationarity: True\n",
      "p-value: 1.0644033759839667e-22\n",
      "\n",
      "February data stationarity: True\n",
      "p-value: 3.732657699349194e-20\n",
      "\n",
      "March data stationarity: True\n",
      "p-value: 7.432116387741869e-24\n",
      "\n",
      "April data stationarity: True\n",
      "p-value: 1.7428395333340719e-23\n",
      "\n",
      "May data stationarity: True\n",
      "p-value: 2.955844723407367e-22\n",
      "\n",
      "June data stationarity: True\n",
      "p-value: 4.44900636796093e-19\n",
      "\n",
      "July data stationarity: True\n",
      "p-value: 8.442519583711138e-20\n",
      "\n"
     ]
    }
   ],
   "source": [
    "for i in train['month'].unique():\n",
    "    df_test_pvalue = sm.tsa.stattools.adfuller(train.loc[train['month']==i, target])[1]\n",
    "    print('{} data stationarity: {}'.format(months_list[i-1], df_test_pvalue < 0.05))\n",
    "    print(f'p-value: {df_test_pvalue}')"
   ]
  },
  {
   "cell_type": "markdown",
   "id": "39d62d8c-27e6-467a-801f-f8fc61b92e66",
   "metadata": {},
   "source": [
    "## Autocorrelation"
   ]
  },
  {
   "cell_type": "markdown",
   "id": "e13aa172-2889-450c-a43a-755c2e0ad0e9",
   "metadata": {},
   "source": [
    "### Datasets\n",
    "\n",
    "Train: July data;  \n",
    "Validation: August data."
   ]
  },
  {
   "cell_type": "code",
   "execution_count": 33,
   "id": "d8333806-52f4-48e7-9e52-1275ae533083",
   "metadata": {},
   "outputs": [],
   "source": [
    "y = train.loc['2017-03', target].copy()"
   ]
  },
  {
   "cell_type": "code",
   "execution_count": 34,
   "id": "0a3d9e44-9238-4052-9f56-5c42edee4df0",
   "metadata": {},
   "outputs": [
    {
     "data": {
      "text/plain": [
       "2017-03-01 00:00:00    29069.61702\n",
       "2017-03-01 00:10:00    28579.40426\n",
       "2017-03-01 00:20:00    27844.08511\n",
       "2017-03-01 00:30:00    27237.44681\n",
       "2017-03-01 00:40:00    26882.04255\n",
       "                          ...     \n",
       "2017-03-31 23:10:00    33052.59574\n",
       "2017-03-31 23:20:00    32292.76596\n",
       "2017-03-31 23:30:00    31042.72340\n",
       "2017-03-31 23:40:00    30025.53191\n",
       "2017-03-31 23:50:00    29339.23404\n",
       "Freq: 10min, Name: target1, Length: 4464, dtype: float64"
      ]
     },
     "execution_count": 34,
     "metadata": {},
     "output_type": "execute_result"
    }
   ],
   "source": [
    "y"
   ]
  },
  {
   "cell_type": "raw",
   "id": "9cb6e207-2e30-4ab6-89c4-e373d6d4a718",
   "metadata": {},
   "source": [
    "y_true = valid[target].copy()"
   ]
  },
  {
   "cell_type": "raw",
   "id": "53d1c040-d807-4db3-b1e5-0f7479c75cb9",
   "metadata": {},
   "source": [
    "y_true"
   ]
  },
  {
   "cell_type": "markdown",
   "id": "ddbdb136-bd0d-4c31-b54c-03b20c13b23c",
   "metadata": {},
   "source": [
    "#### ACF - 40 period"
   ]
  },
  {
   "cell_type": "code",
   "execution_count": 35,
   "id": "ba917453-5f39-4982-826f-dd3182687527",
   "metadata": {},
   "outputs": [
    {
     "data": {
      "image/png": "[encoded data removed]",
      "text/plain": [
       "<Figure size 800x250 with 1 Axes>"
      ]
     },
     "metadata": {},
     "output_type": "display_data"
    }
   ],
   "source": [
    "fig = plt.figure()\n",
    "plot_acf(data=y, lags=40)"
   ]
  },
  {
   "cell_type": "code",
   "execution_count": 36,
   "id": "0d9c0038-44a3-4dfc-a10f-2ef143a7f4e0",
   "metadata": {},
   "outputs": [
    {
     "data": {
      "text/plain": [
       "24"
      ]
     },
     "execution_count": 36,
     "metadata": {},
     "output_type": "execute_result"
    }
   ],
   "source": [
    "ts_acf_last_significant_index(y)"
   ]
  },
  {
   "cell_type": "markdown",
   "id": "db776f18-8fcf-4607-8d56-fd8653cf1bee",
   "metadata": {},
   "source": [
    "#### ACF - 300 period"
   ]
  },
  {
   "cell_type": "code",
   "execution_count": 37,
   "id": "9a7ad78b-cd28-476c-9209-48755445a43e",
   "metadata": {},
   "outputs": [
    {
     "data": {
      "image/png": "[encoded data removed]",
      "text/plain": [
       "<Figure size 800x250 with 1 Axes>"
      ]
     },
     "metadata": {},
     "output_type": "display_data"
    },
    {
     "name": "stdout",
     "output_type": "stream",
     "text": [
      "Images 'ACF_300.png' and 'ACF_300.svg' successfully saved into 'docs/img/' directory\n"
     ]
    }
   ],
   "source": [
    "fig = plt.figure()\n",
    "plot_acf(data=y, lags=300, transparency_lines=0.25, show_last_significant=False)\n",
    "plt.show()\n",
    "savefig('ACF_300', dir_save_img)"
   ]
  },
  {
   "cell_type": "markdown",
   "id": "3f8f94ac-c196-4ca4-9401-5cce10550781",
   "metadata": {},
   "source": [
    "#### PACF - 36 period"
   ]
  },
  {
   "cell_type": "code",
   "execution_count": 38,
   "id": "31f7aa4f-a341-4038-ad2c-615f716f447a",
   "metadata": {},
   "outputs": [],
   "source": [
    "pacf = ts_acf_calculate(y, lags=36, partial=True)"
   ]
  },
  {
   "cell_type": "code",
   "execution_count": 39,
   "id": "507ccaf6-f794-4d10-9e5f-7e9354c3c900",
   "metadata": {},
   "outputs": [
    {
     "data": {
      "image/png": "[encoded data removed]",
      "text/plain": [
       "<Figure size 800x250 with 1 Axes>"
      ]
     },
     "metadata": {},
     "output_type": "display_data"
    },
    {
     "name": "stdout",
     "output_type": "stream",
     "text": [
      "Images 'PACF.png' and 'PACF.svg' successfully saved into 'docs/img/' directory\n"
     ]
    }
   ],
   "source": [
    "fig = plt.figure()\n",
    "plot_acf(data=y, lags=36, last_significant_delta=0.175, partial=True)\n",
    "plt.show()\n",
    "savefig('PACF', dir_save_img)"
   ]
  },
  {
   "cell_type": "markdown",
   "id": "cdee3267-40bb-40af-8aa1-ae0a3c2aa231",
   "metadata": {},
   "source": [
    "## Cross-validation Schema"
   ]
  },
  {
   "cell_type": "code",
   "execution_count": 40,
   "id": "cfb2553f-7b2a-4d4a-aa61-d1fd6267b177",
   "metadata": {},
   "outputs": [
    {
     "data": {
      "image/png": "[encoded data removed]",
      "text/plain": [
       "<Figure size 800x300 with 1 Axes>"
      ]
     },
     "metadata": {},
     "output_type": "display_data"
    },
    {
     "name": "stdout",
     "output_type": "stream",
     "text": [
      "Images 'cv_schema.png' and 'cv_schema.svg' successfully saved into 'docs/img/' directory\n"
     ]
    }
   ],
   "source": [
    "train_start = dt.datetime(2017,2,1)\n",
    "back_start = dt.datetime(2017,2,1)\n",
    "forward_finish = dt.datetime(2017,9,30)\n",
    "lw=15\n",
    "k_ = 0\n",
    "\n",
    "fig = plt.figure(figsize=(8, 3))\n",
    "ax=ax_current()\n",
    "\n",
    "for i in arange(7):\n",
    "    back_finish = train_start - dt.timedelta(days=1)\n",
    "    ev_start = dt.datetime(2017, train_start.month+1, 1)\n",
    "    forward_start = dt.datetime(2017, train_start.month+2, 1)\n",
    "    train_finish = \\\n",
    "        dt.datetime(2017, train_start.month+1, 1) - dt.timedelta(days=1)\n",
    "    ev_finish = \\\n",
    "        dt.datetime(2017, train_start.month+2, 1) - dt.timedelta(days=1)\n",
    "    \n",
    "    range_back = pd.date_range(back_start, back_finish, freq='d')\n",
    "    range_train = pd.date_range(train_start, train_finish, freq='d')\n",
    "    range_ev = pd.date_range(ev_start, ev_finish, freq='d')\n",
    "    range_forward = pd.date_range(forward_start, forward_finish, freq='d')\n",
    "\n",
    "    len_train = (train_finish - train_start).days\n",
    "    len_ev = (ev_finish - ev_start).days\n",
    "\n",
    "    color_back = color_forward = alpha_color(palette[-1], 0.4)\n",
    "    color_ev = alpha_color(palette[2], 1)\n",
    "    \n",
    "    if i == 5:\n",
    "        color_ev = palette[3]\n",
    "    if i == 6:\n",
    "        color_ev = palette[1]\n",
    "\n",
    "    ax.plot(\n",
    "        range_back,\n",
    "        [7-i]*len(range_back),\n",
    "        lw=lw,\n",
    "        solid_capstyle='butt',\n",
    "        color=color_back)\n",
    "\n",
    "    ax.plot(\n",
    "        range_train,\n",
    "        [7-i]*len(range_train),\n",
    "        lw=lw,\n",
    "        solid_capstyle='butt',\n",
    "        color=palette[0])\n",
    "\n",
    "    ax.plot(\n",
    "        range_ev,\n",
    "        [7-i]*len(range_ev),\n",
    "        lw=lw,\n",
    "        solid_capstyle='butt',\n",
    "        color=color_ev)\n",
    "\n",
    "    ax.plot(\n",
    "        range_forward,\n",
    "        [7-i]*len(range_forward),\n",
    "        lw=lw,\n",
    "        solid_capstyle='butt',\n",
    "        color=color_forward)\n",
    "    \n",
    "    ax.annotate(\n",
    "        train_start.strftime(\"%B\")[:3],\n",
    "        xy=(dt.datetime(2017, train_start.month,\n",
    "                        int(round(len_train/2))+1), 7-i-0.1),\n",
    "        ha='center',\n",
    "        color='white',\n",
    "        weight='bold',\n",
    "        size=8)\n",
    "\n",
    "    ax.annotate(\n",
    "        ev_start.strftime(\"%B\")[:3],\n",
    "        xy=(dt.datetime(2017, ev_start.month,\n",
    "                        int(round(len_ev/2))+1), 7-i-0.1),\n",
    "        ha='center',\n",
    "        color='white',\n",
    "        weight='bold',\n",
    "        size=8)\n",
    "    \n",
    "    train_start = dt.datetime(2017, train_start.month+1, 1)\n",
    "\n",
    "ax.legend(\n",
    "    **legend_create_handles(\n",
    "        n=4, kind='rect',\n",
    "        labels=['Train', 'Evaluation', 'Validation', 'Test'],\n",
    "        colors=[palette[0], alpha_color(palette[2], 1),\n",
    "                palette[3], palette[1]],\n",
    "        alphas=1),\n",
    "    **legend_inline())\n",
    "\n",
    "axis_rstyle(\n",
    "    y_axis_hide=True, x_ticks_hide=True, offset_left=0)\n",
    "\n",
    "ax_sec = ax.secondary_xaxis('bottom')\n",
    "ax_sec.set_xticks(ax.get_xticks())\n",
    "ax_sec.spines['bottom'].set_visible(False)\n",
    "ax_sec.spines['bottom'].set_position(('outward', 13))\n",
    "ax_sec.tick_params(axis='x', labelbottom=False, size=3)\n",
    "\n",
    "ax.xaxis.set_major_formatter(mpl.dates.DateFormatter('%B'))\n",
    "ax.xaxis.set_major_locator(mpl.dates.DayLocator(bymonthday=16))\n",
    "\n",
    "ax.set_yticks(\n",
    "    ticks=arange(1, 8),\n",
    "    labels=[\n",
    "        'Test', 'Valid', 'Fold 5', 'Fold 4',\n",
    "        'Fold 3', 'Fold 2', 'Fold 1'],\n",
    "    fontsize=9,\n",
    "    weight='bold',\n",
    "    color=palette[0]\n",
    ")\n",
    "ax.tick_params(axis='y', colors='#505050')\n",
    "\n",
    "ax.set_ylim(0.5, 7.5)\n",
    "\n",
    "plt.show()\n",
    "savefig('cv_schema', dir_save_img)"
   ]
  },
  {
   "cell_type": "code",
   "execution_count": 41,
   "id": "03e0302b-4bbf-4609-a18f-0f9e49934929",
   "metadata": {},
   "outputs": [
    {
     "data": {
      "text/plain": [
       "5"
      ]
     },
     "execution_count": 41,
     "metadata": {},
     "output_type": "execute_result"
    }
   ],
   "source": [
    "len(train.loc['2017-03-01':]['month'].unique())"
   ]
  },
  {
   "cell_type": "code",
   "execution_count": 42,
   "id": "9ef726c6-8a14-4fec-83be-6b0cbee9e039",
   "metadata": {},
   "outputs": [],
   "source": [
    "cv_indexes_train, cv_indexes_eval = cv_split_indexes(\n",
    "    data=train['target1'], start='2017-03-01', train_size=1,\n",
    "    test_size=1, size_unit='months', n_splits=5, freq='10min')"
   ]
  },
  {
   "cell_type": "code",
   "execution_count": 43,
   "id": "76df5127-9142-4253-b009-fa8967536e60",
   "metadata": {},
   "outputs": [
    {
     "data": {
      "text/plain": [
       "DatetimeIndex(['2017-02-01 00:00:00', '2017-02-01 00:10:00',\n",
       "               '2017-02-01 00:20:00', '2017-02-01 00:30:00',\n",
       "               '2017-02-01 00:40:00', '2017-02-01 00:50:00',\n",
       "               '2017-02-01 01:00:00', '2017-02-01 01:10:00',\n",
       "               '2017-02-01 01:20:00', '2017-02-01 01:30:00',\n",
       "               ...\n",
       "               '2017-02-28 22:20:00', '2017-02-28 22:30:00',\n",
       "               '2017-02-28 22:40:00', '2017-02-28 22:50:00',\n",
       "               '2017-02-28 23:00:00', '2017-02-28 23:10:00',\n",
       "               '2017-02-28 23:20:00', '2017-02-28 23:30:00',\n",
       "               '2017-02-28 23:40:00', '2017-02-28 23:50:00'],\n",
       "              dtype='datetime64[ns]', length=4032, freq='10min')"
      ]
     },
     "execution_count": 43,
     "metadata": {},
     "output_type": "execute_result"
    }
   ],
   "source": [
    "cv_indexes_train[0]"
   ]
  },
  {
   "cell_type": "code",
   "execution_count": 44,
   "id": "b29b8d2c-b557-4397-a8b5-87c257c57fca",
   "metadata": {},
   "outputs": [
    {
     "data": {
      "text/plain": [
       "DatetimeIndex(['2017-03-01 00:00:00', '2017-03-01 00:10:00',\n",
       "               '2017-03-01 00:20:00', '2017-03-01 00:30:00',\n",
       "               '2017-03-01 00:40:00', '2017-03-01 00:50:00',\n",
       "               '2017-03-01 01:00:00', '2017-03-01 01:10:00',\n",
       "               '2017-03-01 01:20:00', '2017-03-01 01:30:00',\n",
       "               ...\n",
       "               '2017-03-31 22:20:00', '2017-03-31 22:30:00',\n",
       "               '2017-03-31 22:40:00', '2017-03-31 22:50:00',\n",
       "               '2017-03-31 23:00:00', '2017-03-31 23:10:00',\n",
       "               '2017-03-31 23:20:00', '2017-03-31 23:30:00',\n",
       "               '2017-03-31 23:40:00', '2017-03-31 23:50:00'],\n",
       "              dtype='datetime64[ns]', length=4464, freq='10min')"
      ]
     },
     "execution_count": 44,
     "metadata": {},
     "output_type": "execute_result"
    }
   ],
   "source": [
    "cv_indexes_eval[0]"
   ]
  },
  {
   "cell_type": "code",
   "execution_count": 45,
   "id": "b1d19698-75c3-4b5b-b3cc-39fcf4ad93e9",
   "metadata": {},
   "outputs": [
    {
     "data": {
      "text/plain": [
       "DatetimeIndex(['2017-06-01 00:00:00', '2017-06-01 00:10:00',\n",
       "               '2017-06-01 00:20:00', '2017-06-01 00:30:00',\n",
       "               '2017-06-01 00:40:00', '2017-06-01 00:50:00',\n",
       "               '2017-06-01 01:00:00', '2017-06-01 01:10:00',\n",
       "               '2017-06-01 01:20:00', '2017-06-01 01:30:00',\n",
       "               ...\n",
       "               '2017-06-30 22:20:00', '2017-06-30 22:30:00',\n",
       "               '2017-06-30 22:40:00', '2017-06-30 22:50:00',\n",
       "               '2017-06-30 23:00:00', '2017-06-30 23:10:00',\n",
       "               '2017-06-30 23:20:00', '2017-06-30 23:30:00',\n",
       "               '2017-06-30 23:40:00', '2017-06-30 23:50:00'],\n",
       "              dtype='datetime64[ns]', length=4320, freq='10min')"
      ]
     },
     "execution_count": 45,
     "metadata": {},
     "output_type": "execute_result"
    }
   ],
   "source": [
    "cv_indexes_train[-1]"
   ]
  },
  {
   "cell_type": "code",
   "execution_count": 46,
   "id": "15a52b61-fdea-470b-98b4-d870c9ec2de3",
   "metadata": {},
   "outputs": [
    {
     "data": {
      "text/plain": [
       "DatetimeIndex(['2017-07-01 00:00:00', '2017-07-01 00:10:00',\n",
       "               '2017-07-01 00:20:00', '2017-07-01 00:30:00',\n",
       "               '2017-07-01 00:40:00', '2017-07-01 00:50:00',\n",
       "               '2017-07-01 01:00:00', '2017-07-01 01:10:00',\n",
       "               '2017-07-01 01:20:00', '2017-07-01 01:30:00',\n",
       "               ...\n",
       "               '2017-07-31 22:20:00', '2017-07-31 22:30:00',\n",
       "               '2017-07-31 22:40:00', '2017-07-31 22:50:00',\n",
       "               '2017-07-31 23:00:00', '2017-07-31 23:10:00',\n",
       "               '2017-07-31 23:20:00', '2017-07-31 23:30:00',\n",
       "               '2017-07-31 23:40:00', '2017-07-31 23:50:00'],\n",
       "              dtype='datetime64[ns]', length=4464, freq='10min')"
      ]
     },
     "execution_count": 46,
     "metadata": {},
     "output_type": "execute_result"
    }
   ],
   "source": [
    "cv_indexes_eval[-1]"
   ]
  },
  {
   "cell_type": "markdown",
   "id": "0440a58e-c1aa-4c2a-854e-f6fdbd424581",
   "metadata": {},
   "source": [
    "## Choose AR, I, MA parameters"
   ]
  },
  {
   "cell_type": "markdown",
   "id": "37073d37-32a5-452c-8e62-1358e91a01f6",
   "metadata": {},
   "source": [
    "### Cross-validation 0: AR, I, MA parameters\n",
    "\n",
    "5-Fold CV:\n",
    "\n",
    "- All combinations from 1 to 6 for AR and MA parameters  \n",
    "- 0 and 1 for I parameter"
   ]
  },
  {
   "cell_type": "code",
   "execution_count": 47,
   "id": "52d5fb76-a263-4170-8fbe-8ec357b5228f",
   "metadata": {},
   "outputs": [
    {
     "name": "stdout",
     "output_type": "stream",
     "text": [
      "CPU times: user 16 µs, sys: 2 µs, total: 18 µs\n",
      "Wall time: 34.1 µs\n"
     ]
    }
   ],
   "source": [
    "%%time\n",
    "if cv0:\n",
    "    cv0_results_dict=cv0.copy()  \n",
    "else:\n",
    "    cv0_results_dict = {}\n",
    "    # for all combinations of (1,1), (1,2), (1,3) ... (6,6)\n",
    "    for i in [0, 1]:\n",
    "        for arma in itertools.product(arange(1,6,True), repeat=2):\n",
    "            \n",
    "            order = (arma[0], i, arma[1])\n",
    "            model_name = f'ARIMA {order}'\n",
    "            rmse0_list = []\n",
    "            \n",
    "            for idx_train, idx_eval in zip(cv_indexes_train, cv_indexes_eval):\n",
    "                \n",
    "                rmse0_local = cv_arima_evaluation_error(\n",
    "                    data_train=train.loc[idx_train, target],\n",
    "                    data_eval=train.loc[idx_eval, target],\n",
    "                    order=order,\n",
    "                    metric=root_mean_squared_error,\n",
    "                    exec_time=False,\n",
    "                    clear_output_include=False)\n",
    "                \n",
    "                rmse0_list.append(rmse0_local)\n",
    "                \n",
    "            cv0_results_dict[model_name] = rmse0_list\n",
    "            print(f'Evaluation of model ARIMA ({order}) is finished')\n",
    "        \n",
    "    clear_output()"
   ]
  },
  {
   "cell_type": "code",
   "execution_count": 48,
   "id": "74fe8d30-1a08-4e6c-9167-3ee5b24d4149",
   "metadata": {},
   "outputs": [],
   "source": [
    "cv0_results_df = pd.DataFrame(cv0_results_dict)"
   ]
  },
  {
   "cell_type": "code",
   "execution_count": 49,
   "id": "213f516e-10b8-41e2-9d10-868d45f5e9ac",
   "metadata": {},
   "outputs": [
    {
     "data": {
      "text/plain": [
       "ARIMA (4, 1, 5)     7303.664716\n",
       "ARIMA (2, 1, 1)     7519.199170\n",
       "ARIMA (4, 1, 6)     7570.347830\n",
       "ARIMA (5, 1, 6)     7707.666256\n",
       "ARIMA (5, 1, 5)     7751.246581\n",
       "ARIMA (6, 1, 5)     7798.087172\n",
       "ARIMA (1, 1, 1)     7843.911236\n",
       "ARIMA (6, 1, 6)     8024.138951\n",
       "ARIMA (4, 1, 2)     8102.384545\n",
       "ARIMA (3, 1, 3)     8118.864223\n",
       "ARIMA (6, 1, 3)     8119.212355\n",
       "ARIMA (3, 1, 2)     8123.920693\n",
       "ARIMA (3, 1, 1)     8165.402681\n",
       "ARIMA (1, 1, 4)     8168.211294\n",
       "ARIMA (5, 1, 1)     8181.729952\n",
       "ARIMA (5, 1, 4)     8198.211110\n",
       "ARIMA (6, 1, 2)     8211.205565\n",
       "ARIMA (4, 1, 1)     8211.803555\n",
       "ARIMA (2, 1, 4)     8221.469344\n",
       "ARIMA (5, 1, 2)     8234.295762\n",
       "ARIMA (2, 1, 3)     8235.210637\n",
       "ARIMA (6, 1, 1)     8241.793791\n",
       "ARIMA (1, 1, 3)     8266.221352\n",
       "ARIMA (1, 1, 5)     8280.978882\n",
       "ARIMA (3, 1, 4)     8295.432572\n",
       "ARIMA (4, 1, 3)     8310.366350\n",
       "ARIMA (2, 1, 5)     8332.085230\n",
       "ARIMA (2, 1, 6)     8338.724990\n",
       "ARIMA (1, 1, 6)     8353.053542\n",
       "ARIMA (2, 1, 2)     8356.150081\n",
       "ARIMA (6, 1, 4)     8380.419346\n",
       "ARIMA (5, 1, 3)     8394.890796\n",
       "ARIMA (4, 1, 4)     8395.693565\n",
       "ARIMA (1, 1, 2)     8397.701166\n",
       "ARIMA (3, 1, 6)     8432.359407\n",
       "ARIMA (3, 1, 5)     8518.015026\n",
       "ARIMA (1, 0, 1)    18149.994509\n",
       "ARIMA (5, 0, 4)    20109.784092\n",
       "ARIMA (1, 0, 2)    21122.159959\n",
       "ARIMA (4, 0, 5)    21336.595689\n",
       "dtype: float64"
      ]
     },
     "execution_count": 49,
     "metadata": {},
     "output_type": "execute_result"
    }
   ],
   "source": [
    "cv0_results_df.mean().sort_values().head(40)"
   ]
  },
  {
   "cell_type": "code",
   "execution_count": 50,
   "id": "bd3c1d42-1936-474e-8866-7327b25673a7",
   "metadata": {},
   "outputs": [],
   "source": [
    "arima415 = SARIMAX(\n",
    "    endog=y, exog=None,\n",
    "    order=(4,1,5),\n",
    "    seasonal_order=(0, 0, 0, 0)\n",
    ").fit(maxiter=1000, disp=False)"
   ]
  },
  {
   "cell_type": "code",
   "execution_count": 51,
   "id": "e8091662-844a-4576-9b16-4ff844e33095",
   "metadata": {},
   "outputs": [
    {
     "name": "stdout",
     "output_type": "stream",
     "text": [
      "                               SARIMAX Results                                \n",
      "==============================================================================\n",
      "Dep. Variable:                target1   No. Observations:                 4464\n",
      "Model:               SARIMAX(4, 1, 5)   Log Likelihood              -33588.460\n",
      "Date:                Thu, 25 Apr 2024   AIC                          67196.919\n",
      "Time:                        10:21:14   BIC                          67260.955\n",
      "Sample:                    03-01-2017   HQIC                         67219.492\n",
      "                         - 03-31-2017                                         \n",
      "Covariance Type:                  opg                                         \n",
      "==============================================================================\n",
      "                 coef    std err          z      P>|z|      [0.025      0.975]\n",
      "------------------------------------------------------------------------------\n",
      "ar.L1          1.2747      1.681      0.758      0.448      -2.021       4.570\n",
      "ar.L2         -1.0380      0.850     -1.221      0.222      -2.704       0.628\n",
      "ar.L3          1.2676      1.114      1.138      0.255      -0.915       3.450\n",
      "ar.L4         -0.5893      1.284     -0.459      0.646      -3.106       1.928\n",
      "ma.L1         -0.6863      1.682     -0.408      0.683      -3.982       2.609\n",
      "ma.L2          0.7011      0.152      4.599      0.000       0.402       1.000\n",
      "ma.L3         -0.8179      1.306     -0.626      0.531      -3.377       1.741\n",
      "ma.L4          0.1095      0.364      0.301      0.764      -0.605       0.824\n",
      "ma.L5          0.0384      0.099      0.386      0.699      -0.156       0.233\n",
      "sigma2      1.972e+05   1695.183    116.310      0.000    1.94e+05       2e+05\n",
      "===================================================================================\n",
      "Ljung-Box (L1) (Q):                   4.34   Jarque-Bera (JB):             30182.23\n",
      "Prob(Q):                              0.04   Prob(JB):                         0.00\n",
      "Heteroskedasticity (H):               1.03   Skew:                             0.11\n",
      "Prob(H) (two-sided):                  0.56   Kurtosis:                        15.74\n",
      "===================================================================================\n",
      "\n",
      "Warnings:\n",
      "[1] Covariance matrix calculated using the outer product of gradients (complex-step).\n"
     ]
    }
   ],
   "source": [
    "print(arima415.summary())"
   ]
  },
  {
   "cell_type": "code",
   "execution_count": 52,
   "id": "e52ab0ab-67dc-42e6-b535-c985e391f7bd",
   "metadata": {},
   "outputs": [],
   "source": [
    "arima211 = SARIMAX(\n",
    "    endog=y, exog=None,\n",
    "    order=(2,1,1),\n",
    "    seasonal_order=(0, 0, 0, 0)\n",
    ").fit(maxiter=1000, disp=False)"
   ]
  },
  {
   "cell_type": "code",
   "execution_count": 53,
   "id": "559b9df8-8aec-47aa-ac04-15a7a371f525",
   "metadata": {},
   "outputs": [
    {
     "name": "stdout",
     "output_type": "stream",
     "text": [
      "                               SARIMAX Results                                \n",
      "==============================================================================\n",
      "Dep. Variable:                target1   No. Observations:                 4464\n",
      "Model:               SARIMAX(2, 1, 1)   Log Likelihood              -33599.766\n",
      "Date:                Thu, 25 Apr 2024   AIC                          67207.533\n",
      "Time:                        10:21:15   BIC                          67233.147\n",
      "Sample:                    03-01-2017   HQIC                         67216.562\n",
      "                         - 03-31-2017                                         \n",
      "Covariance Type:                  opg                                         \n",
      "==============================================================================\n",
      "                 coef    std err          z      P>|z|      [0.025      0.975]\n",
      "------------------------------------------------------------------------------\n",
      "ar.L1          1.0840      0.062     17.546      0.000       0.963       1.205\n",
      "ar.L2         -0.2069      0.044     -4.701      0.000      -0.293      -0.121\n",
      "ma.L1         -0.4988      0.061     -8.200      0.000      -0.618      -0.380\n",
      "sigma2      1.972e+05   1639.559    120.258      0.000    1.94e+05       2e+05\n",
      "===================================================================================\n",
      "Ljung-Box (L1) (Q):                   4.96   Jarque-Bera (JB):             29746.56\n",
      "Prob(Q):                              0.03   Prob(JB):                         0.00\n",
      "Heteroskedasticity (H):               1.03   Skew:                             0.13\n",
      "Prob(H) (two-sided):                  0.56   Kurtosis:                        15.65\n",
      "===================================================================================\n",
      "\n",
      "Warnings:\n",
      "[1] Covariance matrix calculated using the outer product of gradients (complex-step).\n"
     ]
    }
   ],
   "source": [
    "print(arima211.summary())"
   ]
  },
  {
   "cell_type": "code",
   "execution_count": 54,
   "id": "1803518b-0522-49e9-9d30-ebfaa3098038",
   "metadata": {},
   "outputs": [
    {
     "data": {
      "image/png": "[encoded data removed]",
      "text/plain": [
       "<Figure size 800x250 with 1 Axes>"
      ]
     },
     "metadata": {},
     "output_type": "display_data"
    },
    {
     "name": "stdout",
     "output_type": "stream",
     "text": [
      "Images 'cv0_best_plot.png' and 'cv0_best_plot.svg' successfully saved into 'docs/img/' directory\n"
     ]
    }
   ],
   "source": [
    "fig = plt.figure()\n",
    "\n",
    "plt.scatter(\n",
    "    x=cv0_results_df['ARIMA (4, 1, 5)'].index,\n",
    "    y=cv0_results_df['ARIMA (4, 1, 5)'],\n",
    "    s=50,\n",
    "    zorder=10,\n",
    "    lw=0.5)\n",
    "plt.plot(\n",
    "    smoothed(cv0_results_df['ARIMA (4, 1, 5)'], n=50, k=2), label='ARIMA (4,1,5)')\n",
    "plt.scatter(\n",
    "    x=cv0_results_df['ARIMA (2, 1, 1)'].index,\n",
    "    y=cv0_results_df['ARIMA (2, 1, 1)'],\n",
    "    s=50,\n",
    "    lw=0.5)\n",
    "plt.plot(\n",
    "    smoothed(cv0_results_df['ARIMA (2, 1, 1)'], n=50, k=2), label='ARIMA (2,1,1)')\n",
    "\n",
    "axis_rstyle(xticks=[0,4,1], yticks=[6500, 8500, 500], ylim=[6500, 8600])\n",
    "plt.legend(**legend_inline())\n",
    "plt.xlabel('Folds \\nEvaluation month', labelpad=20)\n",
    "plt.ylabel('RMSE')\n",
    "\n",
    "ax_sec = axis_secondary(ax=ax_current(), pad=30)\n",
    "ax_sec.set_xticks(arange(5), months_list[2:7])\n",
    "\n",
    "plt.show()\n",
    "\n",
    "savefig('cv0_best_plot', dir_save_img)"
   ]
  },
  {
   "cell_type": "code",
   "execution_count": 55,
   "id": "55b542d0-1d90-4459-a0c7-7a8893084a14",
   "metadata": {},
   "outputs": [
    {
     "data": {
      "image/png": "[encoded data removed]",
      "text/plain": [
       "<Figure size 800x250 with 1 Axes>"
      ]
     },
     "metadata": {},
     "output_type": "display_data"
    }
   ],
   "source": [
    "# should plot resid[d:], where d is d-order of ARIMA model\n",
    "plot_acf(data=arima415.resid[1:])"
   ]
  },
  {
   "cell_type": "markdown",
   "id": "a2c2c479-6a82-4745-99e2-ffaa8607156f",
   "metadata": {},
   "source": [
    "## Managing seasonality and adding features"
   ]
  },
  {
   "cell_type": "markdown",
   "id": "76c6d685-63ca-4e69-bc69-8e2ffa2b3acf",
   "metadata": {},
   "source": [
    "### Stationarity of covariates"
   ]
  },
  {
   "cell_type": "code",
   "execution_count": 56,
   "id": "078008d3-4750-41ec-9b5e-96b5b21d7548",
   "metadata": {},
   "outputs": [
    {
     "data": {
      "text/plain": [
       "(-10.780262352765597,\n",
       " 2.264652307844371e-19,\n",
       " 25,\n",
       " 4438,\n",
       " {'1%': -3.4318243322143682,\n",
       "  '5%': -2.8621914772569323,\n",
       "  '10%': -2.567116785250736},\n",
       " 67265.01178270859)"
      ]
     },
     "execution_count": 56,
     "metadata": {},
     "output_type": "execute_result"
    }
   ],
   "source": [
    "# NULL: non-stationarity\n",
    "sm.tsa.stattools.adfuller(train.loc['2017-07-01':, 'target1_previous_month'])"
   ]
  },
  {
   "cell_type": "markdown",
   "id": "b8b7c8f5-8111-4088-b3a7-9dc850fb68ae",
   "metadata": {},
   "source": [
    "### Fourier transform for seasonal patterns"
   ]
  },
  {
   "cell_type": "code",
   "execution_count": 57,
   "id": "c3b031f6-4ee2-48f9-bc54-feb6e363c475",
   "metadata": {},
   "outputs": [],
   "source": [
    "y_values = train.loc['2017-05', target].values"
   ]
  },
  {
   "cell_type": "code",
   "execution_count": 58,
   "id": "d5fe5781-8422-4b61-9e90-a93256e82f31",
   "metadata": {},
   "outputs": [],
   "source": [
    "y_values_trend = scipy.signal.savgol_filter(y_values, 25, 1)"
   ]
  },
  {
   "cell_type": "code",
   "execution_count": 59,
   "id": "42642b9e-0fbe-46b5-8270-f1f73e1ee894",
   "metadata": {},
   "outputs": [],
   "source": [
    "y_values_detrended = y_values - y_values_trend"
   ]
  },
  {
   "cell_type": "code",
   "execution_count": 60,
   "id": "f7d141bf-db6b-416b-952f-d76ca4b908cb",
   "metadata": {},
   "outputs": [],
   "source": [
    "fft_x = np.fft.fftfreq(len(y_values_detrended))\n",
    "fft_x = fft_x[:len(fft_x)//2]"
   ]
  },
  {
   "cell_type": "code",
   "execution_count": 61,
   "id": "fed9f6b1-07f2-4a96-9f59-c9cd35041f9d",
   "metadata": {},
   "outputs": [],
   "source": [
    "fft_y = np.fft.fft(y_values_detrended)\n",
    "fft_y = np.abs(fft_y[:len(fft_y)//2])"
   ]
  },
  {
   "cell_type": "code",
   "execution_count": 62,
   "id": "454c297d-1c96-4bdd-9147-cafbb49cca28",
   "metadata": {},
   "outputs": [],
   "source": [
    "fft_y_peaks_indices = get_peaks_indicies(fft_y, boundary=500000)"
   ]
  },
  {
   "cell_type": "code",
   "execution_count": 63,
   "id": "e01a6dde-074d-4848-8871-ee7c04f5ab0f",
   "metadata": {},
   "outputs": [
    {
     "data": {
      "image/png": "[encoded data removed]",
      "text/plain": [
       "<Figure size 900x400 with 2 Axes>"
      ]
     },
     "metadata": {},
     "output_type": "display_data"
    },
    {
     "name": "stdout",
     "output_type": "stream",
     "text": [
      "Images 'fourier_transform.png' and 'fourier_transform.svg' successfully saved into 'docs/img/' directory\n"
     ]
    }
   ],
   "source": [
    "fig, ax = plt.subplots(2, 1, figsize=(9, 4))\n",
    "\n",
    "plt.subplot(2, 1, 1)\n",
    "plt.plot(fft_x, fft_y)\n",
    "for idx in fft_y_peaks_indices:\n",
    "    x_, y_ = fft_x[idx], fft_y[idx]\n",
    "    text = f'{round(1/x_)}'\n",
    "    plt.annotate(text, (x_, y_+300000), ha='center', size=8)\n",
    "    plt.scatter(\n",
    "        fft_x[idx], fft_y[idx],\n",
    "        color=saturate_color(palette[1], 1.5), marker='.', s=20, zorder=10)\n",
    "\n",
    "plt.title('Periods')\n",
    "plt.xlim(0, 0.1)\n",
    "plt.ylim(0, 3000000)\n",
    "axis_rstyle(y_axis_hide=True, y_ticklabels_hide=True, x_ticklabels_hide=True, x_ticks_hide=True)\n",
    "\n",
    "plt.subplot(2, 1, 2)\n",
    "plt.plot(fft_x, fft_y)\n",
    "for idx in fft_y_peaks_indices:\n",
    "    x_, y_ = fft_x[idx], fft_y[idx]\n",
    "    text = f'{round(1/x_/6)} h'\n",
    "    plt.annotate(text, (x_, y_+300000), ha='center', size=8)\n",
    "    plt.scatter(\n",
    "        fft_x[idx], fft_y[idx],\n",
    "        color=saturate_color(palette[1], 1.5), marker='.', s=20, zorder=10)\n",
    "\n",
    "plt.title('Hours')\n",
    "plt.xlim(0, 0.1)\n",
    "plt.ylim(0, 3000000)\n",
    "axis_rstyle(y_axis_hide=True, y_ticklabels_hide=True, x_ticklabels_hide=True, x_ticks_hide=True)\n",
    "\n",
    "plt.subplots_adjust(hspace=0.65)\n",
    "plt.show()\n",
    "\n",
    "savefig('fourier_transform', dir_save_img)"
   ]
  },
  {
   "cell_type": "markdown",
   "id": "5773b021-1521-4946-a3b0-2b0c8b394bbb",
   "metadata": {},
   "source": [
    "### Cross-validation 1: Fourier period and order\n",
    "\n",
    "5-Fold CV:\n",
    "\n",
    "- Models: ARIMA (4,1,5), ARIMA (2,1,1)\n",
    "- Periods: all combinations from 144 to (144, 72, 48, 36)\n",
    "- Orders: 2 to 4 (equal orders, without conbinations)\n",
    "\n",
    "Explore optimal Fourier period and order"
   ]
  },
  {
   "cell_type": "code",
   "execution_count": 64,
   "id": "6313deff-6399-4fad-aee6-dc1231dafa72",
   "metadata": {},
   "outputs": [
    {
     "data": {
      "text/plain": [
       "DatetimeIndex(['2017-02-01 00:00:00', '2017-02-01 00:10:00',\n",
       "               '2017-02-01 00:20:00', '2017-02-01 00:30:00',\n",
       "               '2017-02-01 00:40:00', '2017-02-01 00:50:00',\n",
       "               '2017-02-01 01:00:00', '2017-02-01 01:10:00',\n",
       "               '2017-02-01 01:20:00', '2017-02-01 01:30:00',\n",
       "               ...\n",
       "               '2017-02-28 22:20:00', '2017-02-28 22:30:00',\n",
       "               '2017-02-28 22:40:00', '2017-02-28 22:50:00',\n",
       "               '2017-02-28 23:00:00', '2017-02-28 23:10:00',\n",
       "               '2017-02-28 23:20:00', '2017-02-28 23:30:00',\n",
       "               '2017-02-28 23:40:00', '2017-02-28 23:50:00'],\n",
       "              dtype='datetime64[ns]', length=4032, freq='10min')"
      ]
     },
     "execution_count": 64,
     "metadata": {},
     "output_type": "execute_result"
    }
   ],
   "source": [
    "cv_indexes_train[0]"
   ]
  },
  {
   "cell_type": "code",
   "execution_count": 65,
   "id": "71fc9cf9-1f98-4687-994d-e7b6d57dcd23",
   "metadata": {},
   "outputs": [
    {
     "data": {
      "text/plain": [
       "DatetimeIndex(['2017-03-01 00:00:00', '2017-03-01 00:10:00',\n",
       "               '2017-03-01 00:20:00', '2017-03-01 00:30:00',\n",
       "               '2017-03-01 00:40:00', '2017-03-01 00:50:00',\n",
       "               '2017-03-01 01:00:00', '2017-03-01 01:10:00',\n",
       "               '2017-03-01 01:20:00', '2017-03-01 01:30:00',\n",
       "               ...\n",
       "               '2017-03-31 22:20:00', '2017-03-31 22:30:00',\n",
       "               '2017-03-31 22:40:00', '2017-03-31 22:50:00',\n",
       "               '2017-03-31 23:00:00', '2017-03-31 23:10:00',\n",
       "               '2017-03-31 23:20:00', '2017-03-31 23:30:00',\n",
       "               '2017-03-31 23:40:00', '2017-03-31 23:50:00'],\n",
       "              dtype='datetime64[ns]', length=4464, freq='10min')"
      ]
     },
     "execution_count": 65,
     "metadata": {},
     "output_type": "execute_result"
    }
   ],
   "source": [
    "cv_indexes_eval[0]"
   ]
  },
  {
   "cell_type": "code",
   "execution_count": 66,
   "id": "b8ecf3b0-ff09-4cad-8d86-0ff1c450213c",
   "metadata": {},
   "outputs": [
    {
     "data": {
      "text/plain": [
       "DatetimeIndex(['2017-06-01 00:00:00', '2017-06-01 00:10:00',\n",
       "               '2017-06-01 00:20:00', '2017-06-01 00:30:00',\n",
       "               '2017-06-01 00:40:00', '2017-06-01 00:50:00',\n",
       "               '2017-06-01 01:00:00', '2017-06-01 01:10:00',\n",
       "               '2017-06-01 01:20:00', '2017-06-01 01:30:00',\n",
       "               ...\n",
       "               '2017-06-30 22:20:00', '2017-06-30 22:30:00',\n",
       "               '2017-06-30 22:40:00', '2017-06-30 22:50:00',\n",
       "               '2017-06-30 23:00:00', '2017-06-30 23:10:00',\n",
       "               '2017-06-30 23:20:00', '2017-06-30 23:30:00',\n",
       "               '2017-06-30 23:40:00', '2017-06-30 23:50:00'],\n",
       "              dtype='datetime64[ns]', length=4320, freq='10min')"
      ]
     },
     "execution_count": 66,
     "metadata": {},
     "output_type": "execute_result"
    }
   ],
   "source": [
    "cv_indexes_train[-1]"
   ]
  },
  {
   "cell_type": "code",
   "execution_count": 67,
   "id": "1fd4e8a2-0740-4161-a8c1-8c49aa030cdf",
   "metadata": {},
   "outputs": [
    {
     "data": {
      "text/plain": [
       "DatetimeIndex(['2017-07-01 00:00:00', '2017-07-01 00:10:00',\n",
       "               '2017-07-01 00:20:00', '2017-07-01 00:30:00',\n",
       "               '2017-07-01 00:40:00', '2017-07-01 00:50:00',\n",
       "               '2017-07-01 01:00:00', '2017-07-01 01:10:00',\n",
       "               '2017-07-01 01:20:00', '2017-07-01 01:30:00',\n",
       "               ...\n",
       "               '2017-07-31 22:20:00', '2017-07-31 22:30:00',\n",
       "               '2017-07-31 22:40:00', '2017-07-31 22:50:00',\n",
       "               '2017-07-31 23:00:00', '2017-07-31 23:10:00',\n",
       "               '2017-07-31 23:20:00', '2017-07-31 23:30:00',\n",
       "               '2017-07-31 23:40:00', '2017-07-31 23:50:00'],\n",
       "              dtype='datetime64[ns]', length=4464, freq='10min')"
      ]
     },
     "execution_count": 67,
     "metadata": {},
     "output_type": "execute_result"
    }
   ],
   "source": [
    "cv_indexes_eval[-1]"
   ]
  },
  {
   "cell_type": "code",
   "execution_count": 68,
   "id": "40e8b2e6-c43d-46c2-ab0a-73bf9c1da2c3",
   "metadata": {},
   "outputs": [],
   "source": [
    "fourier_periods = [\n",
    "    [144],\n",
    "    [144, 72],\n",
    "    [144, 72, 48],\n",
    "    [144, 72, 48, 36]\n",
    "]"
   ]
  },
  {
   "cell_type": "code",
   "execution_count": 69,
   "id": "0b280fe8-fced-4e43-b62b-81640b230f21",
   "metadata": {},
   "outputs": [],
   "source": [
    "fourier_orders = [2, 3, 4]"
   ]
  },
  {
   "cell_type": "code",
   "execution_count": 70,
   "id": "f7d58645-f434-4d67-a37d-bb470ed28e80",
   "metadata": {},
   "outputs": [],
   "source": [
    "model_orders = [\n",
    "    (2, 1, 1),\n",
    "    (4, 1, 5)\n",
    "]"
   ]
  },
  {
   "cell_type": "code",
   "execution_count": 71,
   "id": "a5045359-f1de-4b27-be9c-d5f36ac60d1f",
   "metadata": {},
   "outputs": [
    {
     "name": "stdout",
     "output_type": "stream",
     "text": [
      "CPU times: user 9 µs, sys: 1 µs, total: 10 µs\n",
      "Wall time: 14.1 µs\n"
     ]
    }
   ],
   "source": [
    "%%time\n",
    "\n",
    "if cv1:\n",
    "    cv1_results_dict=cv1.copy()\n",
    "else:\n",
    "    cv1_results_dict = {}\n",
    "    for order in model_orders:\n",
    "        for f_period in fourier_periods:\n",
    "            for fourier_order in fourier_orders:\n",
    "                f_order = [fourier_order] * len(f_period)\n",
    "                model_name = f'ARIMA {order} {tuple(f_period)} {tuple(f_order)}'\n",
    "                rmse1_list = []\n",
    "                \n",
    "                for idx_train, idx_eval in zip(cv_indexes_train, cv_indexes_eval):\n",
    "    \n",
    "                    train_data = train.loc[idx_train, target]\n",
    "                    eval_data = train.loc[idx_eval, target]\n",
    "    \n",
    "                    train_w_exogs, eval_w_exogs = \\\n",
    "                        datasets_w_fourier(\n",
    "                            fourier_period=f_period,\n",
    "                            fourier_order=f_order,\n",
    "                            train_data=train_data,\n",
    "                            eval_data=eval_data,\n",
    "                            train_exog=train.loc[idx_train, features],\n",
    "                            eval_exog=train.loc[idx_eval, features])      \n",
    "    \n",
    "                    rmse1_local = cv_arima_evaluation_error(\n",
    "                        data_train=train_data,\n",
    "                        data_eval=eval_data,\n",
    "                        order=order,\n",
    "                        exog_train=train_w_exogs,\n",
    "                        exog_eval=eval_w_exogs,\n",
    "                        metric=root_mean_squared_error,\n",
    "                        exec_time=False,\n",
    "                        clear_output_include=False)\n",
    "    \n",
    "                    rmse1_list.append(rmse1_local)\n",
    "    \n",
    "                cv1_results_dict[model_name] = rmse1_list\n",
    "                print(f'Evaluation of model {model_name} is finished')\n",
    "                \n",
    "    clear_output()"
   ]
  },
  {
   "cell_type": "code",
   "execution_count": 72,
   "id": "4b0269f5-d7a2-4b55-8cc9-b79442527189",
   "metadata": {},
   "outputs": [],
   "source": [
    "cv1_results_df = pd.DataFrame(cv1_results_dict)"
   ]
  },
  {
   "cell_type": "code",
   "execution_count": 73,
   "id": "b66f1965-0c4e-426e-ad46-f8bad0b1d6ed",
   "metadata": {},
   "outputs": [
    {
     "data": {
      "text/html": [
       "<div>\n",
       "<style scoped>\n",
       "    .dataframe tbody tr th:only-of-type {\n",
       "        vertical-align: middle;\n",
       "    }\n",
       "\n",
       "    .dataframe tbody tr th {\n",
       "        vertical-align: top;\n",
       "    }\n",
       "\n",
       "    .dataframe thead th {\n",
       "        text-align: right;\n",
       "    }\n",
       "</style>\n",
       "<table border=\"1\" class=\"dataframe\">\n",
       "  <thead>\n",
       "    <tr style=\"text-align: right;\">\n",
       "      <th></th>\n",
       "      <th>ARIMA (2, 1, 1) (144,) (2,)</th>\n",
       "      <th>ARIMA (2, 1, 1) (144,) (3,)</th>\n",
       "      <th>ARIMA (2, 1, 1) (144,) (4,)</th>\n",
       "      <th>ARIMA (2, 1, 1) (144, 72) (2, 2)</th>\n",
       "      <th>ARIMA (2, 1, 1) (144, 72) (3, 3)</th>\n",
       "      <th>ARIMA (2, 1, 1) (144, 72) (4, 4)</th>\n",
       "      <th>ARIMA (2, 1, 1) (144, 72, 48) (2, 2, 2)</th>\n",
       "      <th>ARIMA (2, 1, 1) (144, 72, 48) (3, 3, 3)</th>\n",
       "      <th>ARIMA (2, 1, 1) (144, 72, 48) (4, 4, 4)</th>\n",
       "      <th>ARIMA (2, 1, 1) (144, 72, 48, 36) (2, 2, 2, 2)</th>\n",
       "      <th>...</th>\n",
       "      <th>ARIMA (4, 1, 5) (144,) (4,)</th>\n",
       "      <th>ARIMA (4, 1, 5) (144, 72) (2, 2)</th>\n",
       "      <th>ARIMA (4, 1, 5) (144, 72) (3, 3)</th>\n",
       "      <th>ARIMA (4, 1, 5) (144, 72) (4, 4)</th>\n",
       "      <th>ARIMA (4, 1, 5) (144, 72, 48) (2, 2, 2)</th>\n",
       "      <th>ARIMA (4, 1, 5) (144, 72, 48) (3, 3, 3)</th>\n",
       "      <th>ARIMA (4, 1, 5) (144, 72, 48) (4, 4, 4)</th>\n",
       "      <th>ARIMA (4, 1, 5) (144, 72, 48, 36) (2, 2, 2, 2)</th>\n",
       "      <th>ARIMA (4, 1, 5) (144, 72, 48, 36) (3, 3, 3, 3)</th>\n",
       "      <th>ARIMA (4, 1, 5) (144, 72, 48, 36) (4, 4, 4, 4)</th>\n",
       "    </tr>\n",
       "  </thead>\n",
       "  <tbody>\n",
       "    <tr>\n",
       "      <th>0</th>\n",
       "      <td>4176.918575</td>\n",
       "      <td>1817.035010</td>\n",
       "      <td>1826.037357</td>\n",
       "      <td>4162.986029</td>\n",
       "      <td>1876.286358</td>\n",
       "      <td>1924.621139</td>\n",
       "      <td>1876.284607</td>\n",
       "      <td>1855.921664</td>\n",
       "      <td>1931.100256</td>\n",
       "      <td>1924.602562</td>\n",
       "      <td>...</td>\n",
       "      <td>1870.328233</td>\n",
       "      <td>4213.261630</td>\n",
       "      <td>1896.888398</td>\n",
       "      <td>1957.870881</td>\n",
       "      <td>1903.135835</td>\n",
       "      <td>1913.802095</td>\n",
       "      <td>1926.762063</td>\n",
       "      <td>1957.885326</td>\n",
       "      <td>1929.778687</td>\n",
       "      <td>1935.495340</td>\n",
       "    </tr>\n",
       "    <tr>\n",
       "      <th>1</th>\n",
       "      <td>4254.743914</td>\n",
       "      <td>2545.759263</td>\n",
       "      <td>1992.133181</td>\n",
       "      <td>3771.786591</td>\n",
       "      <td>2025.458528</td>\n",
       "      <td>1988.731085</td>\n",
       "      <td>2025.459911</td>\n",
       "      <td>2018.516579</td>\n",
       "      <td>1981.578932</td>\n",
       "      <td>1988.728625</td>\n",
       "      <td>...</td>\n",
       "      <td>2128.610178</td>\n",
       "      <td>2660.552437</td>\n",
       "      <td>2139.368140</td>\n",
       "      <td>2095.024460</td>\n",
       "      <td>2139.380041</td>\n",
       "      <td>2141.638688</td>\n",
       "      <td>1989.425842</td>\n",
       "      <td>2094.979521</td>\n",
       "      <td>1989.425405</td>\n",
       "      <td>2003.245692</td>\n",
       "    </tr>\n",
       "    <tr>\n",
       "      <th>2</th>\n",
       "      <td>4776.777352</td>\n",
       "      <td>3409.871276</td>\n",
       "      <td>2742.756733</td>\n",
       "      <td>3939.394613</td>\n",
       "      <td>2884.106786</td>\n",
       "      <td>2726.233169</td>\n",
       "      <td>2884.106786</td>\n",
       "      <td>2794.979486</td>\n",
       "      <td>2676.781127</td>\n",
       "      <td>2726.233170</td>\n",
       "      <td>...</td>\n",
       "      <td>2684.060932</td>\n",
       "      <td>4073.094246</td>\n",
       "      <td>2944.388971</td>\n",
       "      <td>2953.631391</td>\n",
       "      <td>2944.389215</td>\n",
       "      <td>2688.719061</td>\n",
       "      <td>2919.061875</td>\n",
       "      <td>2953.631067</td>\n",
       "      <td>2919.060702</td>\n",
       "      <td>2956.736273</td>\n",
       "    </tr>\n",
       "    <tr>\n",
       "      <th>3</th>\n",
       "      <td>4616.359183</td>\n",
       "      <td>4642.470249</td>\n",
       "      <td>4658.809261</td>\n",
       "      <td>4930.712563</td>\n",
       "      <td>4698.025080</td>\n",
       "      <td>4734.542189</td>\n",
       "      <td>4698.084804</td>\n",
       "      <td>4722.398160</td>\n",
       "      <td>4759.396635</td>\n",
       "      <td>4734.543977</td>\n",
       "      <td>...</td>\n",
       "      <td>4660.732979</td>\n",
       "      <td>4535.828748</td>\n",
       "      <td>4698.621966</td>\n",
       "      <td>4735.712295</td>\n",
       "      <td>4699.228311</td>\n",
       "      <td>4724.682890</td>\n",
       "      <td>4760.651859</td>\n",
       "      <td>4735.548684</td>\n",
       "      <td>4762.431028</td>\n",
       "      <td>4763.528557</td>\n",
       "    </tr>\n",
       "    <tr>\n",
       "      <th>4</th>\n",
       "      <td>9273.729030</td>\n",
       "      <td>8427.225561</td>\n",
       "      <td>6019.664304</td>\n",
       "      <td>6261.578982</td>\n",
       "      <td>6063.449183</td>\n",
       "      <td>6052.972046</td>\n",
       "      <td>6063.449235</td>\n",
       "      <td>6056.539454</td>\n",
       "      <td>6038.589031</td>\n",
       "      <td>6052.977901</td>\n",
       "      <td>...</td>\n",
       "      <td>6001.224409</td>\n",
       "      <td>6251.847948</td>\n",
       "      <td>6025.424724</td>\n",
       "      <td>6028.473222</td>\n",
       "      <td>6022.760043</td>\n",
       "      <td>6029.169054</td>\n",
       "      <td>6012.129428</td>\n",
       "      <td>6023.234976</td>\n",
       "      <td>6024.416903</td>\n",
       "      <td>6006.542797</td>\n",
       "    </tr>\n",
       "  </tbody>\n",
       "</table>\n",
       "<p>5 rows × 24 columns</p>\n",
       "</div>"
      ],
      "text/plain": [
       "   ARIMA (2, 1, 1) (144,) (2,)  ARIMA (2, 1, 1) (144,) (3,)  \\\n",
       "0                  4176.918575                  1817.035010   \n",
       "1                  4254.743914                  2545.759263   \n",
       "2                  4776.777352                  3409.871276   \n",
       "3                  4616.359183                  4642.470249   \n",
       "4                  9273.729030                  8427.225561   \n",
       "\n",
       "   ARIMA (2, 1, 1) (144,) (4,)  ARIMA (2, 1, 1) (144, 72) (2, 2)  \\\n",
       "0                  1826.037357                       4162.986029   \n",
       "1                  1992.133181                       3771.786591   \n",
       "2                  2742.756733                       3939.394613   \n",
       "3                  4658.809261                       4930.712563   \n",
       "4                  6019.664304                       6261.578982   \n",
       "\n",
       "   ARIMA (2, 1, 1) (144, 72) (3, 3)  ARIMA (2, 1, 1) (144, 72) (4, 4)  \\\n",
       "0                       1876.286358                       1924.621139   \n",
       "1                       2025.458528                       1988.731085   \n",
       "2                       2884.106786                       2726.233169   \n",
       "3                       4698.025080                       4734.542189   \n",
       "4                       6063.449183                       6052.972046   \n",
       "\n",
       "   ARIMA (2, 1, 1) (144, 72, 48) (2, 2, 2)  \\\n",
       "0                              1876.284607   \n",
       "1                              2025.459911   \n",
       "2                              2884.106786   \n",
       "3                              4698.084804   \n",
       "4                              6063.449235   \n",
       "\n",
       "   ARIMA (2, 1, 1) (144, 72, 48) (3, 3, 3)  \\\n",
       "0                              1855.921664   \n",
       "1                              2018.516579   \n",
       "2                              2794.979486   \n",
       "3                              4722.398160   \n",
       "4                              6056.539454   \n",
       "\n",
       "   ARIMA (2, 1, 1) (144, 72, 48) (4, 4, 4)  \\\n",
       "0                              1931.100256   \n",
       "1                              1981.578932   \n",
       "2                              2676.781127   \n",
       "3                              4759.396635   \n",
       "4                              6038.589031   \n",
       "\n",
       "   ARIMA (2, 1, 1) (144, 72, 48, 36) (2, 2, 2, 2)  ...  \\\n",
       "0                                     1924.602562  ...   \n",
       "1                                     1988.728625  ...   \n",
       "2                                     2726.233170  ...   \n",
       "3                                     4734.543977  ...   \n",
       "4                                     6052.977901  ...   \n",
       "\n",
       "   ARIMA (4, 1, 5) (144,) (4,)  ARIMA (4, 1, 5) (144, 72) (2, 2)  \\\n",
       "0                  1870.328233                       4213.261630   \n",
       "1                  2128.610178                       2660.552437   \n",
       "2                  2684.060932                       4073.094246   \n",
       "3                  4660.732979                       4535.828748   \n",
       "4                  6001.224409                       6251.847948   \n",
       "\n",
       "   ARIMA (4, 1, 5) (144, 72) (3, 3)  ARIMA (4, 1, 5) (144, 72) (4, 4)  \\\n",
       "0                       1896.888398                       1957.870881   \n",
       "1                       2139.368140                       2095.024460   \n",
       "2                       2944.388971                       2953.631391   \n",
       "3                       4698.621966                       4735.712295   \n",
       "4                       6025.424724                       6028.473222   \n",
       "\n",
       "   ARIMA (4, 1, 5) (144, 72, 48) (2, 2, 2)  \\\n",
       "0                              1903.135835   \n",
       "1                              2139.380041   \n",
       "2                              2944.389215   \n",
       "3                              4699.228311   \n",
       "4                              6022.760043   \n",
       "\n",
       "   ARIMA (4, 1, 5) (144, 72, 48) (3, 3, 3)  \\\n",
       "0                              1913.802095   \n",
       "1                              2141.638688   \n",
       "2                              2688.719061   \n",
       "3                              4724.682890   \n",
       "4                              6029.169054   \n",
       "\n",
       "   ARIMA (4, 1, 5) (144, 72, 48) (4, 4, 4)  \\\n",
       "0                              1926.762063   \n",
       "1                              1989.425842   \n",
       "2                              2919.061875   \n",
       "3                              4760.651859   \n",
       "4                              6012.129428   \n",
       "\n",
       "   ARIMA (4, 1, 5) (144, 72, 48, 36) (2, 2, 2, 2)  \\\n",
       "0                                     1957.885326   \n",
       "1                                     2094.979521   \n",
       "2                                     2953.631067   \n",
       "3                                     4735.548684   \n",
       "4                                     6023.234976   \n",
       "\n",
       "   ARIMA (4, 1, 5) (144, 72, 48, 36) (3, 3, 3, 3)  \\\n",
       "0                                     1929.778687   \n",
       "1                                     1989.425405   \n",
       "2                                     2919.060702   \n",
       "3                                     4762.431028   \n",
       "4                                     6024.416903   \n",
       "\n",
       "   ARIMA (4, 1, 5) (144, 72, 48, 36) (4, 4, 4, 4)  \n",
       "0                                     1935.495340  \n",
       "1                                     2003.245692  \n",
       "2                                     2956.736273  \n",
       "3                                     4763.528557  \n",
       "4                                     6006.542797  \n",
       "\n",
       "[5 rows x 24 columns]"
      ]
     },
     "execution_count": 73,
     "metadata": {},
     "output_type": "execute_result"
    }
   ],
   "source": [
    "cv1_results_df"
   ]
  },
  {
   "cell_type": "code",
   "execution_count": 74,
   "id": "a1ea1467-7536-4e9c-92c5-9f0fdb11113f",
   "metadata": {},
   "outputs": [],
   "source": [
    "cv1_results_mean = cv1_results_df.mean(axis=0)"
   ]
  },
  {
   "cell_type": "code",
   "execution_count": 75,
   "id": "f7bd0255-32a3-49d5-ac01-b60da5437462",
   "metadata": {},
   "outputs": [],
   "source": [
    "cv1_results_mean_std = cv1_results_df.std()"
   ]
  },
  {
   "cell_type": "code",
   "execution_count": 76,
   "id": "edd86896-b5ce-4bad-ab62-969df790f5ae",
   "metadata": {},
   "outputs": [
    {
     "data": {
      "text/plain": [
       "ARIMA (2, 1, 1) (144,) (4,)                       3447.880167\n",
       "ARIMA (4, 1, 5) (144,) (4,)                       3468.991346\n",
       "ARIMA (2, 1, 1) (144, 72, 48, 36) (3, 3, 3, 3)    3477.486594\n",
       "ARIMA (2, 1, 1) (144, 72, 48) (4, 4, 4)           3477.489196\n",
       "ARIMA (2, 1, 1) (144, 72, 48, 36) (4, 4, 4, 4)    3481.697761\n",
       "ARIMA (2, 1, 1) (144, 72, 48, 36) (2, 2, 2, 2)    3485.417247\n",
       "ARIMA (2, 1, 1) (144, 72) (4, 4)                  3485.419926\n",
       "ARIMA (2, 1, 1) (144, 72, 48) (3, 3, 3)           3489.671068\n",
       "ARIMA (4, 1, 5) (144, 72, 48) (3, 3, 3)           3499.602358\n",
       "ARIMA (2, 1, 1) (144, 72) (3, 3)                  3509.465187\n",
       "ARIMA (2, 1, 1) (144, 72, 48) (2, 2, 2)           3509.477069\n",
       "ARIMA (4, 1, 5) (144, 72, 48) (4, 4, 4)           3521.606213\n",
       "ARIMA (4, 1, 5) (144, 72, 48, 36) (3, 3, 3, 3)    3525.022545\n",
       "ARIMA (4, 1, 5) (144, 72, 48, 36) (4, 4, 4, 4)    3533.109732\n",
       "ARIMA (4, 1, 5) (144, 72) (3, 3)                  3540.938440\n",
       "ARIMA (4, 1, 5) (144, 72, 48) (2, 2, 2)           3541.778689\n",
       "ARIMA (4, 1, 5) (144, 72, 48, 36) (2, 2, 2, 2)    3553.055915\n",
       "ARIMA (4, 1, 5) (144, 72) (4, 4)                  3554.142450\n",
       "ARIMA (4, 1, 5) (144,) (3,)                       3701.135328\n",
       "ARIMA (2, 1, 1) (144,) (3,)                       4168.472272\n",
       "ARIMA (4, 1, 5) (144, 72) (2, 2)                  4346.917002\n",
       "ARIMA (2, 1, 1) (144, 72) (2, 2)                  4613.291756\n",
       "ARIMA (4, 1, 5) (144,) (2,)                       4634.052365\n",
       "ARIMA (2, 1, 1) (144,) (2,)                       5419.705611\n",
       "dtype: float64"
      ]
     },
     "execution_count": 76,
     "metadata": {},
     "output_type": "execute_result"
    }
   ],
   "source": [
    "cv1_results_mean.sort_values()"
   ]
  },
  {
   "cell_type": "code",
   "execution_count": 77,
   "id": "60eca4e3-6e9d-45f0-9300-45b4c1bb149a",
   "metadata": {},
   "outputs": [],
   "source": [
    "cv1_results_plot_labels = [i[16:] for i in cv1_results_mean.index]"
   ]
  },
  {
   "cell_type": "code",
   "execution_count": 78,
   "id": "e25576cd-2b43-4557-8ca7-31cdd52b3c22",
   "metadata": {},
   "outputs": [],
   "source": [
    "cv1_results_best_model = cv1_results_mean.sort_values().index[0]\n",
    "cv1_results_best_model_index = \\\n",
    "    list(cv1_results_mean.index).index(cv1_results_best_model)"
   ]
  },
  {
   "cell_type": "code",
   "execution_count": 79,
   "id": "5af58ea4-c0b1-4fd4-ab9e-272a22bb6735",
   "metadata": {},
   "outputs": [],
   "source": [
    "cv1_results_second_best_model = cv1_results_mean.sort_values().index[1]\n",
    "cv1_results_second_best_model_index = \\\n",
    "    list(cv1_results_mean.index).index(cv1_results_second_best_model)"
   ]
  },
  {
   "cell_type": "code",
   "execution_count": 80,
   "id": "2315af26-d14f-46ec-afd7-16617408196e",
   "metadata": {},
   "outputs": [],
   "source": [
    "cv1_results_stable_model = cv1_results_mean_std.sort_values().index[0]\n",
    "cv1_results_stable_model_index = \\\n",
    "    list(cv1_results_mean.index).index(cv1_results_stable_model)"
   ]
  },
  {
   "cell_type": "code",
   "execution_count": null,
   "id": "082ceacd-d698-4141-8873-5ce1f2fbcc88",
   "metadata": {},
   "outputs": [],
   "source": [
    "cv1_results_complicated_model = cv1_results_mean_std.sort_values().index[2]\n",
    "cv1_results_complicated_model_index = \\\n",
    "    list(cv1_results_mean.index).index(cv1_results_complicated_model)"
   ]
  },
  {
   "cell_type": "code",
   "execution_count": 81,
   "id": "603531b1-18da-4c90-971e-bb707aa25df6",
   "metadata": {},
   "outputs": [
    {
     "data": {
      "image/png": "[encoded data removed]",
      "text/plain": [
       "<Figure size 900x250 with 1 Axes>"
      ]
     },
     "metadata": {},
     "output_type": "display_data"
    },
    {
     "name": "stdout",
     "output_type": "stream",
     "text": [
      "Images 'cv1_results_plot.png' and 'cv1_results_plot.svg' successfully saved into 'docs/img/' directory\n"
     ]
    }
   ],
   "source": [
    "fig = plt.figure(figsize=(9, 2.5))\n",
    "ax = ax_current()\n",
    "\n",
    "plt.plot(smoothed(cv1_results_mean.values), lw=0.75, alpha=0.25)\n",
    "plt.scatter(\n",
    "    x=arange(len(cv1_results_mean)),\n",
    "    y=cv1_results_mean, s=95, lw=1.5, clip_on=False, zorder=10)\n",
    "\n",
    "plt.scatter(\n",
    "    cv1_results_best_model_index,\n",
    "    cv1_results_mean[cv1_results_best_model],\n",
    "    s=40, color=palette[1],\n",
    "    label=f'Best model : {cv1_results_best_model}',\n",
    "    clip_on=False, zorder=100)\n",
    "\n",
    "plt.scatter(\n",
    "    cv1_results_second_best_model_index,\n",
    "    cv1_results_mean[cv1_results_second_best_model],\n",
    "    s=40, color=palette[3],\n",
    "    label=f'Second best model : {cv1_results_second_best_model}',\n",
    "    clip_on=False, zorder=100)\n",
    "\n",
    "plt.scatter(\n",
    "    cv1_results_stable_model_index,\n",
    "    cv1_results_mean[cv1_results_stable_model],\n",
    "    s=40, color=palette[2],\n",
    "    label=f'Most stable model : {cv1_results_stable_model}',\n",
    "    clip_on=False, zorder=100)\n",
    "\n",
    "plt.errorbar(\n",
    "    x=arange(len(cv1_results_mean)),\n",
    "    y=cv1_results_mean,\n",
    "    yerr=cv1_results_mean_std,\n",
    "    c=palette[-1],\n",
    "    linestyle='none',\n",
    "    elinewidth=0.75,\n",
    "    capsize=1,\n",
    "    ecolor=palette[-3],\n",
    "    # alpha=0.75,\n",
    "    clip_on=False,\n",
    "    zorder=1,\n",
    "    label='Standard deviation')\n",
    "\n",
    "plt.errorbar(\n",
    "    x=cv1_results_best_model_index,\n",
    "    y=cv1_results_mean.loc[cv1_results_best_model],\n",
    "    yerr=cv1_results_mean_std.loc[cv1_results_best_model],\n",
    "    c=palette[1],\n",
    "    linestyle='none',\n",
    "    elinewidth=1,\n",
    "    capsize=1.2,\n",
    "    ecolor=palette[1],\n",
    "    clip_on=False,\n",
    "    # alpha=0.75,\n",
    "    zorder=12)\n",
    "\n",
    "plt.errorbar(\n",
    "    x=cv1_results_second_best_model_index,\n",
    "    y=cv1_results_mean.loc[cv1_results_second_best_model],\n",
    "    yerr=cv1_results_mean_std.loc[cv1_results_second_best_model],\n",
    "    c=palette[1],\n",
    "    linestyle='none',\n",
    "    elinewidth=1,\n",
    "    capsize=1.2,\n",
    "    ecolor=palette[3],\n",
    "    clip_on=False,\n",
    "    # alpha=0.75,\n",
    "    zorder=12)\n",
    "\n",
    "plt.errorbar(\n",
    "    x=cv1_results_stable_model_index,\n",
    "    y=cv1_results_mean.loc[cv1_results_stable_model],\n",
    "    yerr=cv1_results_mean_std.loc[cv1_results_stable_model],\n",
    "    c=palette[1],\n",
    "    linestyle='none',\n",
    "    elinewidth=1,\n",
    "    capsize=1.2,\n",
    "    ecolor=palette[2],\n",
    "    clip_on=False,\n",
    "    # alpha=0.75,\n",
    "    zorder=12)\n",
    "\n",
    "axis_rstyle(\n",
    "    offset_left=10,\n",
    "    ylim=[0, 10000],\n",
    "    yticks=[0, 10000, 2000],\n",
    "    xlim=[0, len(cv1_results_mean)],\n",
    "    x_spine_lim=[0, len(cv1_results_mean)-1])\n",
    "\n",
    "plt.xticks(\n",
    "    ticks=arange(len(cv1_results_mean)),\n",
    "    labels=cv1_results_plot_labels, rotation=30, ha='center')\n",
    "\n",
    "ax.tick_params(axis='x', labelbottom=False)\n",
    "\n",
    "ax0 = axis_secondary(pad=18)\n",
    "ax0_xticklabels = ['2', '3', '4']\n",
    "# for i in arange(1, 4):\n",
    "    # ax0_xticklabels.extend([j+f', {j[-1]}' for j in ax0_xticklabels[-3:]])\n",
    "    # ax0_xticklabels.extend([j+f',{j[-1]}' for j in ax0_xticklabels[-3:]])\n",
    "# ax0_xticklabels = ax0_xticklabels*2\n",
    "ax0_xticklabels = ax0_xticklabels*8\n",
    "# ax0.set_xticks(ax.get_xticks()[::2], ax0_xticklabels[::2])\n",
    "ax0.set_xticks(ax.get_xticks(), ax0_xticklabels)\n",
    "ax0.tick_params(labelsize=7, labelcolor='#707070')\n",
    "\n",
    "# ax1 = axis_secondary(pad=25)\n",
    "# ax1.set_xticks(ax.get_xticks()[1::2], ax0_xticklabels[1::2])\n",
    "# ax1.tick_params(labelsize=7, labelcolor='#707070')\n",
    "\n",
    "ax2 = axis_secondary(pad=36)\n",
    "ax2.set_xticks(ax.get_xticks()[1::3])\n",
    "ax2_xticklabels = ['144', '144, 72', '144, 72, 48', '144, 72, 48, 36']*2\n",
    "ax2.set_xticklabels(labels=ax2_xticklabels, size=8, color='#707070')\n",
    "\n",
    "ax22 = axis_secondary()\n",
    "ax22.spines['bottom'].set_position(('outward', 42.5))\n",
    "ax22.tick_params(bottom=True, labelbottom=False, size=6, pad=0, color='#AAAAAA')\n",
    "ax22.set_xticks(np.linspace(ax.get_xticks()[0], ax.get_xticks()[-1], 2*len(ax.get_xticks())-1)[5::6])\n",
    "\n",
    "ax3 = axis_secondary(pad=0)\n",
    "ax3.spines['bottom'].set_position(('outward', 62.75))\n",
    "ax3.tick_params(bottom=True, labelbottom=False, size=8, pad=0, color='#AAAAAA')\n",
    "ax3.set_xticks(np.linspace(ax.get_xticks()[0], ax.get_xticks()[-1], 5))\n",
    "for i in ax3.xaxis.get_major_ticks()[1:-1][::2]:\n",
    "    i.set_visible(False)\n",
    "ax3.xaxis.get_major_ticks()[0].set_visible(False)\n",
    "ax3.xaxis.get_major_ticks()[-1].set_visible(False)\n",
    "\n",
    "ax4 = axis_secondary(pad=0)\n",
    "ax4.spines['bottom'].set_position(('outward', 55))\n",
    "ax4.set_xticks(np.linspace(ax.get_xticks()[0], ax.get_xticks()[-1], 5))\n",
    "ax4.set_xticklabels(\n",
    "    labels=['', 'ARIMA (2, 1, 1)', '' , 'ARIMA (4, 1, 5)', ''],\n",
    "    weight='bold', color='#505050', size=9)\n",
    "\n",
    "plt.legend(\n",
    "    **legend_inline(2),\n",
    "    **legend_create_handles(\n",
    "        4, kind=['point', 'point', 'point', 'line'],\n",
    "        colors=[palette[1], palette[3], palette[2], palette[0]],\n",
    "        linewidth=0.75, linelength=1))\n",
    "\n",
    "plt.show()\n",
    "\n",
    "savefig('cv1_results_plot', dir_save_img)"
   ]
  },
  {
   "cell_type": "code",
   "execution_count": null,
   "id": "e6e5a40b-0297-45ed-a885-a89b440b8ed8",
   "metadata": {},
   "outputs": [],
   "source": [
    "fig = plt.figure()\n",
    "\n",
    "plt.plot(\n",
    "    smoothed(cv1_results_df[cv1_results_best_model]),\n",
    "    lw=0.5, color=palette[0], alpha=0.25)\n",
    "plt.scatter(\n",
    "    x=cv1_results_df.index,\n",
    "    y=cv1_results_df[cv1_results_best_model],\n",
    "    s=25, color=palette[1], zorder=10,\n",
    "    label=f'Best and simple model: {cv1_results_best_model}',)\n",
    "\n",
    "plt.plot(\n",
    "    smoothed(cv1_results_df[cv1_results_complicated_model]),\n",
    "    lw=0.5, color=palette[0], alpha=0.25)\n",
    "plt.scatter(\n",
    "    x=cv1_results_df.index,\n",
    "    y=cv1_results_df[cv1_results_complicated_model],\n",
    "    s=25, color=saturate_color(palette[3], 1.5), zorder=9,\n",
    "    label=f'Complicated model: {cv1_results_complicated_model}')\n",
    "\n",
    "plt.plot(\n",
    "    smoothed(cv1_results_df[cv1_results_stable_model]),\n",
    "    lw=0.5, color=palette[0], alpha=0.25)\n",
    "plt.scatter(\n",
    "    x=cv1_results_df.index,\n",
    "    y=cv1_results_df[cv1_results_stable_model],\n",
    "    s=25, color=saturate_color(palette[2], 1.5), zorder=11,\n",
    "    label=f'Most stable model: {cv1_results_stable_model}')\n",
    "\n",
    "axis_rstyle(xticks=[0,4,1])\n",
    "ax_sec = axis_secondary(ax=ax_current(), pad=30)\n",
    "ax_sec.set_xticks(arange(5), months_list[2:7])\n",
    "\n",
    "plt.legend(**legend_inline(2, bbox_to_anchor=(0, 1.05)), handletextpad=0.25)\n",
    "\n",
    "plt.show()\n",
    "\n",
    "savefig('cv1_results_plot1', dir_save_img)"
   ]
  },
  {
   "cell_type": "markdown",
   "id": "9ec7ddeb-dc36-4ae6-8cd3-137f3ccfc5f9",
   "metadata": {},
   "source": [
    "### Cross-validation 2: Fourier orders for best model\n",
    "\n",
    "5-Fold CV:\n",
    "\n",
    "- Model: ARIMA (2,1,1)(144)\n",
    "- Orders: 4 to 8 (equal orders, without comvinations)\n",
    "\n",
    "Explore the effect of larger Fourier order on best model"
   ]
  },
  {
   "cell_type": "code",
   "execution_count": 83,
   "id": "3c80ad38-5eef-45b2-8ad2-a783be87d241",
   "metadata": {},
   "outputs": [
    {
     "data": {
      "text/plain": [
       "'ARIMA (2, 1, 1) (144,) (4,)'"
      ]
     },
     "execution_count": 83,
     "metadata": {},
     "output_type": "execute_result"
    }
   ],
   "source": [
    "cv1_results_best_model"
   ]
  },
  {
   "cell_type": "code",
   "execution_count": 84,
   "id": "f9893996-087e-42a6-a3b9-c08ed705b9dd",
   "metadata": {},
   "outputs": [],
   "source": [
    "cv1_results_best_model_order_str = \\\n",
    "    cv1_results_best_model[\n",
    "        index_for_occurrence(cv1_results_best_model, '(', 1): \\\n",
    "        index_for_occurrence(cv1_results_best_model, ')', 1)+1\n",
    "    ]"
   ]
  },
  {
   "cell_type": "code",
   "execution_count": 85,
   "id": "66e0ba72-9cea-4fbd-aa37-dc24888b7494",
   "metadata": {},
   "outputs": [],
   "source": [
    "cv1_results_best_model_order = (\n",
    "    int(cv1_results_best_model_order_str[1]), \n",
    "    int(cv1_results_best_model_order_str[4]), \n",
    "    int(cv1_results_best_model_order_str[7])\n",
    ")"
   ]
  },
  {
   "cell_type": "code",
   "execution_count": 86,
   "id": "cd44d5c0-01cf-4d96-86cf-a364ecb2aca3",
   "metadata": {},
   "outputs": [],
   "source": [
    "cv1_results_best_model_f_period_str = \\\n",
    "    cv1_results_best_model[\n",
    "        index_for_occurrence(cv1_results_best_model, '(', 2)+1: \\\n",
    "        index_for_occurrence(cv1_results_best_model, ')', 2)\n",
    "    ]"
   ]
  },
  {
   "cell_type": "code",
   "execution_count": 87,
   "id": "6deccf93-0993-4f27-b218-e3199d128f3c",
   "metadata": {},
   "outputs": [],
   "source": [
    "if cv1_results_best_model_f_period_str[-1] == ',':\n",
    "    cv1_results_best_model_f_period = [int(cv1_results_best_model_f_period_str[:-1])]\n",
    "else:\n",
    "    cv1_results_best_model_f_period = \\\n",
    "        [int(i) for i in cv1_results_best_model_f_period_str.split(',')]"
   ]
  },
  {
   "cell_type": "code",
   "execution_count": 88,
   "id": "1786a79d-bd95-4fc1-af8a-eff50a3c9966",
   "metadata": {},
   "outputs": [],
   "source": [
    "cv1_results_best_model_f_order_str = \\\n",
    "    cv1_results_best_model[\n",
    "        index_for_occurrence(cv1_results_best_model, '(', 3)+1: \\\n",
    "        index_for_occurrence(cv1_results_best_model, ')', 3)\n",
    "    ]"
   ]
  },
  {
   "cell_type": "code",
   "execution_count": 89,
   "id": "76b2ba85-4407-4e3a-9fd9-63a67c249460",
   "metadata": {},
   "outputs": [],
   "source": [
    "if cv1_results_best_model_f_order_str[-1] == ',':\n",
    "    cv1_results_best_model_f_order = [int(cv1_results_best_model_f_order_str[:-1])]\n",
    "else:\n",
    "    cv1_results_best_model_f_order = \\\n",
    "        [int(i) for i in cv1_results_best_model_f_order_str.split(',')]"
   ]
  },
  {
   "cell_type": "code",
   "execution_count": 90,
   "id": "76c71dbd-8c30-4049-a6ce-aeaad69c0668",
   "metadata": {},
   "outputs": [
    {
     "name": "stdout",
     "output_type": "stream",
     "text": [
      "CPU times: user 8 µs, sys: 1 µs, total: 9 µs\n",
      "Wall time: 11.9 µs\n"
     ]
    }
   ],
   "source": [
    "%%time\n",
    "if cv2:\n",
    "    cv2_results_dict = cv2.copy()\n",
    "else:\n",
    "    if len(cv1_results_best_model_f_order) == 1:\n",
    "        \n",
    "        cv1_results_best_model_f_order_fin = cv1_results_best_model_f_order[0] + 5\n",
    "        cv2_fourier_orders = \\\n",
    "            arange(cv1_results_best_model_f_order[0], cv1_results_best_model_f_order_fin)\n",
    "    \n",
    "        cv2_results_dict = {}\n",
    "        for fourier_order in cv2_fourier_orders:\n",
    "            \n",
    "            f_order = [fourier_order]\n",
    "            model_name_1 = cv1_results_best_model_order\n",
    "            model_name_2 = tuple(cv1_results_best_model_f_period)\n",
    "            model_name_3 = tuple(f_order)\n",
    "            model_name = f'ARIMA {model_name_1} ({model_name_2}) {model_name_3}'\n",
    "            rmse2_list = []\n",
    "            \n",
    "            for idx_train, idx_eval in zip(cv_indexes_train, cv_indexes_eval):\n",
    "        \n",
    "                train_data = train.loc[idx_train, target]\n",
    "                eval_data = train.loc[idx_eval, target]\n",
    "    \n",
    "                train_w_exogs, eval_w_exogs = \\\n",
    "                    datasets_w_fourier(\n",
    "                        fourier_period=cv1_results_best_model_f_period,\n",
    "                        fourier_order=f_order,\n",
    "                        train_data=train_data,\n",
    "                        eval_data=eval_data,\n",
    "                        train_exog=train.loc[idx_train, features],\n",
    "                        eval_exog=train.loc[idx_eval, features])            \n",
    "        \n",
    "                rmse2_local = cv_arima_evaluation_error(\n",
    "                    data_train=train_data,\n",
    "                    data_eval=eval_data,\n",
    "                    order=cv1_results_best_model_order,\n",
    "                    exog_train=train_w_exogs,\n",
    "                    exog_eval=eval_w_exogs,\n",
    "                    metric=root_mean_squared_error,\n",
    "                    exec_time=False,\n",
    "                    clear_output_include=False)\n",
    "                \n",
    "                rmse2_list.append(rmse2_local)\n",
    "        \n",
    "            cv2_results_dict[model_name] = rmse2_list\n",
    "            print(f'Evaluation of model {model_name} is finished')\n",
    "\n",
    "        clear_output()"
   ]
  },
  {
   "cell_type": "code",
   "execution_count": 91,
   "id": "eb3f12f8-f826-43c9-9ca4-544966ccf7fc",
   "metadata": {},
   "outputs": [],
   "source": [
    "cv2_results_df = pd.DataFrame(cv2_results_dict)  "
   ]
  },
  {
   "cell_type": "code",
   "execution_count": 92,
   "id": "fdf85042-2b06-46ca-b673-281e2110c141",
   "metadata": {},
   "outputs": [
    {
     "data": {
      "text/html": [
       "<div>\n",
       "<style scoped>\n",
       "    .dataframe tbody tr th:only-of-type {\n",
       "        vertical-align: middle;\n",
       "    }\n",
       "\n",
       "    .dataframe tbody tr th {\n",
       "        vertical-align: top;\n",
       "    }\n",
       "\n",
       "    .dataframe thead th {\n",
       "        text-align: right;\n",
       "    }\n",
       "</style>\n",
       "<table border=\"1\" class=\"dataframe\">\n",
       "  <thead>\n",
       "    <tr style=\"text-align: right;\">\n",
       "      <th></th>\n",
       "      <th>ARIMA (2, 1, 1) ((144,)) (4,)</th>\n",
       "      <th>ARIMA (2, 1, 1) ((144,)) (5,)</th>\n",
       "      <th>ARIMA (2, 1, 1) ((144,)) (6,)</th>\n",
       "      <th>ARIMA (2, 1, 1) ((144,)) (7,)</th>\n",
       "      <th>ARIMA (2, 1, 1) ((144,)) (8,)</th>\n",
       "    </tr>\n",
       "  </thead>\n",
       "  <tbody>\n",
       "    <tr>\n",
       "      <th>0</th>\n",
       "      <td>1826.037357</td>\n",
       "      <td>1797.371590</td>\n",
       "      <td>1876.925024</td>\n",
       "      <td>1844.795731</td>\n",
       "      <td>1900.428397</td>\n",
       "    </tr>\n",
       "    <tr>\n",
       "      <th>1</th>\n",
       "      <td>1992.133181</td>\n",
       "      <td>2138.149095</td>\n",
       "      <td>2163.436139</td>\n",
       "      <td>2270.809231</td>\n",
       "      <td>2207.034016</td>\n",
       "    </tr>\n",
       "    <tr>\n",
       "      <th>2</th>\n",
       "      <td>2742.756733</td>\n",
       "      <td>2834.565329</td>\n",
       "      <td>3023.323730</td>\n",
       "      <td>3006.584011</td>\n",
       "      <td>2825.232366</td>\n",
       "    </tr>\n",
       "    <tr>\n",
       "      <th>3</th>\n",
       "      <td>4658.809261</td>\n",
       "      <td>4646.086744</td>\n",
       "      <td>4685.676447</td>\n",
       "      <td>4686.697705</td>\n",
       "      <td>4723.435547</td>\n",
       "    </tr>\n",
       "    <tr>\n",
       "      <th>4</th>\n",
       "      <td>6019.664304</td>\n",
       "      <td>5969.214151</td>\n",
       "      <td>6026.828291</td>\n",
       "      <td>6649.764510</td>\n",
       "      <td>6703.785799</td>\n",
       "    </tr>\n",
       "  </tbody>\n",
       "</table>\n",
       "</div>"
      ],
      "text/plain": [
       "   ARIMA (2, 1, 1) ((144,)) (4,)  ARIMA (2, 1, 1) ((144,)) (5,)  \\\n",
       "0                    1826.037357                    1797.371590   \n",
       "1                    1992.133181                    2138.149095   \n",
       "2                    2742.756733                    2834.565329   \n",
       "3                    4658.809261                    4646.086744   \n",
       "4                    6019.664304                    5969.214151   \n",
       "\n",
       "   ARIMA (2, 1, 1) ((144,)) (6,)  ARIMA (2, 1, 1) ((144,)) (7,)  \\\n",
       "0                    1876.925024                    1844.795731   \n",
       "1                    2163.436139                    2270.809231   \n",
       "2                    3023.323730                    3006.584011   \n",
       "3                    4685.676447                    4686.697705   \n",
       "4                    6026.828291                    6649.764510   \n",
       "\n",
       "   ARIMA (2, 1, 1) ((144,)) (8,)  \n",
       "0                    1900.428397  \n",
       "1                    2207.034016  \n",
       "2                    2825.232366  \n",
       "3                    4723.435547  \n",
       "4                    6703.785799  "
      ]
     },
     "execution_count": 92,
     "metadata": {},
     "output_type": "execute_result"
    }
   ],
   "source": [
    "cv2_results_df"
   ]
  },
  {
   "cell_type": "code",
   "execution_count": 93,
   "id": "550d0f56-7d38-4c31-b018-a643cda457b4",
   "metadata": {},
   "outputs": [
    {
     "data": {
      "text/plain": [
       "ARIMA (2, 1, 1) ((144,)) (4,)    3447.880167\n",
       "ARIMA (2, 1, 1) ((144,)) (5,)    3477.077382\n",
       "ARIMA (2, 1, 1) ((144,)) (6,)    3555.237926\n",
       "ARIMA (2, 1, 1) ((144,)) (8,)    3671.983225\n",
       "ARIMA (2, 1, 1) ((144,)) (7,)    3691.730237\n",
       "dtype: float64"
      ]
     },
     "execution_count": 93,
     "metadata": {},
     "output_type": "execute_result"
    }
   ],
   "source": [
    "cv2_results_df.mean().sort_values()"
   ]
  },
  {
   "cell_type": "markdown",
   "id": "8fb658b5-4901-48e8-8730-b2ca6ff4d877",
   "metadata": {},
   "source": [
    "### Cross-validation 3: Fourier period increase and orders research\n",
    "\n",
    "5-Fold CV:\n",
    "\n",
    "- Model: ARIMA (2,1,1)\n",
    "- Fourier periods: [144], [144, 72], [144, 72, 48],\n",
    "- Orders: 4 to 6 (all conbinations)\n",
    "\n",
    "Explore the effect of combinations Fourier order on best model"
   ]
  },
  {
   "cell_type": "code",
   "execution_count": 94,
   "id": "a5d3b462-7518-40db-bb5a-884abb020ef8",
   "metadata": {},
   "outputs": [],
   "source": [
    "model_orders = [(2,1,1)]"
   ]
  },
  {
   "cell_type": "code",
   "execution_count": 95,
   "id": "cc5d62e5-66aa-43ac-89b5-a6a4cab55e64",
   "metadata": {},
   "outputs": [],
   "source": [
    "fourier_periods = [\n",
    "    [144, 72, 48],\n",
    "    [144, 72],\n",
    "    [144]\n",
    "]"
   ]
  },
  {
   "cell_type": "code",
   "execution_count": 96,
   "id": "4cb96c95-6199-4360-acb5-8c6ae6e56a0f",
   "metadata": {},
   "outputs": [],
   "source": [
    "fourier_orders = arange(4,6,True)"
   ]
  },
  {
   "cell_type": "code",
   "execution_count": null,
   "id": "3b7bce44-9354-4653-a080-a0e626328abc",
   "metadata": {},
   "outputs": [
    {
     "name": "stdout",
     "output_type": "stream",
     "text": [
      "Evaluation of model ARIMA (2, 1, 1) (144, 72, 48) (4, 4, 4) is finished\n",
      "Evaluation of model ARIMA (2, 1, 1) (144, 72, 48) (4, 4, 5) is finished\n",
      "Evaluation of model ARIMA (2, 1, 1) (144, 72, 48) (4, 4, 6) is finished\n",
      "Evaluation of model ARIMA (2, 1, 1) (144, 72, 48) (4, 5, 4) is finished\n",
      "Evaluation of model ARIMA (2, 1, 1) (144, 72, 48) (4, 5, 5) is finished\n",
      "Evaluation of model ARIMA (2, 1, 1) (144, 72, 48) (4, 5, 6) is finished\n",
      "Evaluation of model ARIMA (2, 1, 1) (144, 72, 48) (4, 6, 4) is finished\n",
      "Evaluation of model ARIMA (2, 1, 1) (144, 72, 48) (4, 6, 5) is finished\n",
      "Evaluation of model ARIMA (2, 1, 1) (144, 72, 48) (4, 6, 6) is finished\n",
      "Evaluation of model ARIMA (2, 1, 1) (144, 72, 48) (5, 4, 4) is finished\n",
      "Evaluation of model ARIMA (2, 1, 1) (144, 72, 48) (5, 4, 5) is finished\n",
      "Evaluation of model ARIMA (2, 1, 1) (144, 72, 48) (5, 4, 6) is finished\n",
      "Evaluation of model ARIMA (2, 1, 1) (144, 72, 48) (5, 5, 4) is finished\n"
     ]
    }
   ],
   "source": [
    "%%time\n",
    "\n",
    "if cv3:\n",
    "    cv3_results_dict = cv3.copy()\n",
    "else:\n",
    "\n",
    "    cv3_results_dict = {}\n",
    "    for order in model_orders:\n",
    "        for f_period in fourier_periods:\n",
    "            for f_order in itertools.product(fourier_orders, repeat=len(f_period)):\n",
    "                \n",
    "                model_name = f'ARIMA {order} {tuple(f_period)} {tuple(f_order)}'\n",
    "                rmse3_list = []\n",
    "                \n",
    "                for idx_train, idx_eval in zip(cv_indexes_train, cv_indexes_eval):\n",
    "    \n",
    "                    train_data = train.loc[idx_train, target]\n",
    "                    eval_data = train.loc[idx_eval, target]\n",
    "    \n",
    "                    train_w_exogs, eval_w_exogs = \\\n",
    "                        datasets_w_fourier(\n",
    "                            fourier_period=f_period,\n",
    "                            fourier_order=f_order,\n",
    "                            train_data=train_data,\n",
    "                            eval_data=eval_data,\n",
    "                            train_exog=train.loc[idx_train, features],\n",
    "                            eval_exog=train.loc[idx_eval, features])\n",
    "    \n",
    "                    rmse3_local = cv_arima_evaluation_error(\n",
    "                        data_train=train_data,\n",
    "                        data_eval=eval_data,\n",
    "                        order=order,\n",
    "                        exog_train=train_w_exogs,\n",
    "                        exog_eval=eval_w_exogs,\n",
    "                        metric=root_mean_squared_error,\n",
    "                        exec_time=False,\n",
    "                        clear_output_include=False)\n",
    "    \n",
    "                    rmse3_list.append(rmse3_local)\n",
    "    \n",
    "                cv3_results_dict[model_name] = rmse3_list\n",
    "                print(f'Evaluation of model {model_name} is finished')\n",
    "    \n",
    "    clear_output()"
   ]
  },
  {
   "cell_type": "code",
   "execution_count": null,
   "id": "433bc449-80c4-48ca-ab90-9574afb99f64",
   "metadata": {},
   "outputs": [],
   "source": [
    "cv3_results_df = pd.DataFrame(cv3_results_dict)"
   ]
  },
  {
   "cell_type": "code",
   "execution_count": null,
   "id": "10da5968-8e06-4863-bbba-34f77bb6d5c9",
   "metadata": {},
   "outputs": [],
   "source": [
    "cv3_results_df"
   ]
  },
  {
   "cell_type": "code",
   "execution_count": null,
   "id": "63288e8b-5071-45a9-8ada-d07179aaae46",
   "metadata": {},
   "outputs": [],
   "source": [
    "cv3_results_df['ARIMA (2, 1, 1) (144,) (4,)']"
   ]
  },
  {
   "cell_type": "code",
   "execution_count": null,
   "id": "5469923a-843d-4705-9339-5ac5e3bfc95b",
   "metadata": {},
   "outputs": [],
   "source": [
    "cv3_results_df.iloc[:, :50].mean().sort_values().head()"
   ]
  },
  {
   "cell_type": "code",
   "execution_count": null,
   "id": "c7770321-9791-44e1-8628-4c1cd8d31f06",
   "metadata": {},
   "outputs": [],
   "source": [
    "cv3_results_df['ARIMA (2, 1, 1) (1008, 144, 72, 48) (4, 5, 4, 6)']"
   ]
  },
  {
   "cell_type": "code",
   "execution_count": null,
   "id": "a7ec0d42-427c-4063-8ab1-91fe8b6ba377",
   "metadata": {},
   "outputs": [],
   "source": [
    "plt.scatter(\n",
    "    arange(5),\n",
    "    cv3_results_df['ARIMA (2, 1, 1) (144,) (4,)'], s=70\n",
    ")\n",
    "plt.scatter(\n",
    "    arange(5),\n",
    "    cv3_results_df['ARIMA (2, 1, 1) (1008, 144, 72, 48) (4, 5, 4, 6)'], s=70\n",
    ")"
   ]
  },
  {
   "cell_type": "code",
   "execution_count": null,
   "id": "b1177832-02ee-4d93-83b3-6f7f90de4881",
   "metadata": {},
   "outputs": [],
   "source": [
    "cv3_results_mean = cv3_results_df.mean(axis=0)"
   ]
  },
  {
   "cell_type": "code",
   "execution_count": null,
   "id": "763f4f83-7243-4026-beba-e385777c4c07",
   "metadata": {},
   "outputs": [],
   "source": [
    "cv3_results_mean.sort_values()[:30]"
   ]
  },
  {
   "cell_type": "code",
   "execution_count": null,
   "id": "06312054-a68a-4291-9869-e74405b5d426",
   "metadata": {},
   "outputs": [],
   "source": [
    "train_by_week = train.loc['2017-02-01':].groupby(['month','week'])['target1'].mean().copy()"
   ]
  },
  {
   "cell_type": "code",
   "execution_count": null,
   "id": "b9dfcf69-f569-4d03-b8d3-a3f23851c70b",
   "metadata": {},
   "outputs": [],
   "source": [
    "train_by_week = pd.DataFrame(train_by_week)"
   ]
  },
  {
   "cell_type": "code",
   "execution_count": null,
   "id": "c04d50b1-ebdd-4d18-a9d7-baa119d51332",
   "metadata": {},
   "outputs": [],
   "source": [
    "train_by_week['xticks'] = arange(len(train_by_week))"
   ]
  },
  {
   "cell_type": "code",
   "execution_count": null,
   "id": "663a1122-6047-4fea-afed-71115d1b6fb0",
   "metadata": {},
   "outputs": [],
   "source": [
    "train_by_week.head(10)"
   ]
  },
  {
   "cell_type": "code",
   "execution_count": null,
   "id": "65e7764f-341a-4ad6-9645-da91e06ece3d",
   "metadata": {},
   "outputs": [],
   "source": [
    "cv1_results_df[cv1_results_best_model]"
   ]
  },
  {
   "cell_type": "code",
   "execution_count": null,
   "id": "a981e880-e103-41e2-a61b-e0545bb4935c",
   "metadata": {},
   "outputs": [],
   "source": [
    "cv1_results_best_model_pct_change = \\\n",
    "    (cv1_results_df[cv1_results_best_model]\n",
    "     / (cv1_results_df[cv1_results_best_model].iat[0] - 1) * 100)"
   ]
  },
  {
   "cell_type": "code",
   "execution_count": null,
   "id": "2d0c3bb0-eb31-4831-9577-94fa7d68b6c7",
   "metadata": {},
   "outputs": [],
   "source": [
    "cv1_results_best_model_pct_change"
   ]
  },
  {
   "cell_type": "code",
   "execution_count": null,
   "id": "b87e2c56-a0d2-4eac-904c-57d0803c42f6",
   "metadata": {},
   "outputs": [],
   "source": [
    "fig, ax1 = plt.subplots()\n",
    "\n",
    "# ax1.plot(train_by_week['xticks'], train_by_week['target1'])\n",
    "ax1.plot(smoothed(train_by_week['target1'].values))\n",
    "ax1.set_xticks([0, 5, 10, 15, 20 , 25, 30], months_list[1:8])\n",
    "ax1.set_ylabel('Target')\n",
    "axis_rstyle(offset_left=-10, ax=ax1)\n",
    "\n",
    "ax2 = ax1.twinx()\n",
    "ax2.scatter(\n",
    "    x=[5, 10, 15, 20 , 25],\n",
    "    y=cv1_results_df[cv1_results_best_model],\n",
    "    # color=saturate_color(palette[1], 1.5),\n",
    "    color=palette_bright[1],\n",
    "    s=25\n",
    ")\n",
    "months_rmse_names = [\n",
    "    'February - March', 'March - April', 'April - May', 'May - June', 'June - July'\n",
    "]\n",
    "for i, j, k, v in zip(\n",
    "    [5, 10, 15, 20 , 25],\n",
    "    cv1_results_df[cv1_results_best_model],\n",
    "    months_rmse_names,\n",
    "    cv1_results_best_model_pct_change.index):\n",
    "        if v > 0:\n",
    "            delta_v = \\\n",
    "                cv1_results_best_model_pct_change.values[v]\n",
    "            value_text = f'{int(round(j, 0))}'\n",
    "            value_delta_text = f'(+{round(delta_v)}%)'\n",
    "            \n",
    "            ax2.text(s=value_text, x=i-1, y=j+450,\n",
    "                 size=8, ha='center', color='#4B4B4B')\n",
    "            ax2.text(s=value_delta_text, x=i+1, y=j+475,\n",
    "                 size=7.5, ha='center', color=saturate_color(palette[1], 1.5))\n",
    "        else:\n",
    "            value_text = f'{int(round(j, 0))}'\n",
    "            ax2.text(s=value_text, x=i, y=j+450,\n",
    "                 size=8, ha='center', color='#4B4B4B')\n",
    "            \n",
    "        ax2.annotate(text=k, xy=(i, j+1100),\n",
    "                     size=8, ha='center')\n",
    "\n",
    "ax2.set_ylim(0, 8000)\n",
    "ax2.grid(False)\n",
    "ax2.spines['right'].set_visible(True)\n",
    "ax2.spines['right'].set_color('#CCCCCC')\n",
    "ax2.spines[['left', 'bottom']].set_visible(False)\n",
    "ax2.tick_params(axis='y', direction='out', color='#CCCCCC', size=3)\n",
    "ax2.tick_params(labelcolor='#808080')\n",
    "# ax2.spines['right'].set_bounds(0, 0.25)\n",
    "ax2.spines['right'].set_position(('outward', -10))\n",
    "ax2.set_yticks(arange(0, 8001, 2000))\n",
    "ax2.set_ylabel('RMSE')\n",
    "\n",
    "plt.show()\n",
    "\n",
    "savefig('cv_rmse_plot', dir_save_img)"
   ]
  },
  {
   "cell_type": "markdown",
   "id": "f2c7a992-1fe6-4fa5-8e32-e4ff926cd090",
   "metadata": {},
   "source": [
    "## Validation Forecast : Base Model"
   ]
  },
  {
   "cell_type": "code",
   "execution_count": null,
   "id": "0fc2ccea-1ec6-4202-a70b-7de370af7715",
   "metadata": {},
   "outputs": [],
   "source": [
    "cv1_results_best_model"
   ]
  },
  {
   "cell_type": "code",
   "execution_count": null,
   "id": "9d6dc9e1-f7dd-45d1-aa29-9a4625b1c5cb",
   "metadata": {},
   "outputs": [],
   "source": [
    "order = cv1_results_best_model_order\n",
    "fourier_period = cv1_results_best_model_f_period\n",
    "fourier_order = cv1_results_best_model_f_order"
   ]
  },
  {
   "cell_type": "code",
   "execution_count": null,
   "id": "39879b6a-3871-4782-9f37-a42894882abf",
   "metadata": {},
   "outputs": [],
   "source": [
    "print(order, fourier_period, fourier_order)"
   ]
  },
  {
   "cell_type": "markdown",
   "id": "ea5c1145-935c-4574-b8b0-f9a852f7b4a3",
   "metadata": {},
   "source": [
    "#### August forecast"
   ]
  },
  {
   "cell_type": "code",
   "execution_count": null,
   "id": "f28c129b-bfb6-4644-890a-ac607e9b8233",
   "metadata": {},
   "outputs": [],
   "source": [
    "train_data = train.loc['2017-07', target]\n",
    "valid_data = valid.loc[:, target]\n",
    "\n",
    "train_features = train.loc['2017-07', features]\n",
    "valid_features = valid.loc[:, features]"
   ]
  },
  {
   "cell_type": "code",
   "execution_count": null,
   "id": "7f913d7c-da50-455d-a252-7fd7a3b8aefd",
   "metadata": {},
   "outputs": [],
   "source": [
    "train_exogs, valid_exogs = \\\n",
    "    datasets_w_fourier(\n",
    "        fourier_period=fourier_period,\n",
    "        fourier_order=fourier_order,\n",
    "        train_data=train_data,\n",
    "        eval_data=valid_data,\n",
    "        train_exog=train_features,\n",
    "        eval_exog=valid_features)"
   ]
  },
  {
   "cell_type": "code",
   "execution_count": null,
   "id": "1401c759-f694-4c2f-93cb-bba9cd5ac839",
   "metadata": {},
   "outputs": [],
   "source": [
    "train_data"
   ]
  },
  {
   "cell_type": "code",
   "execution_count": null,
   "id": "74a99df9-b6b1-4ba0-9181-737a7931e30e",
   "metadata": {},
   "outputs": [],
   "source": [
    "train_exogs.head()"
   ]
  },
  {
   "cell_type": "code",
   "execution_count": null,
   "id": "1f9ee1b9-33b0-4a4e-955a-a49565eb05ad",
   "metadata": {},
   "outputs": [],
   "source": [
    "valid_data"
   ]
  },
  {
   "cell_type": "code",
   "execution_count": null,
   "id": "0e2af33e-7c52-4bcd-a933-0d634fc83081",
   "metadata": {},
   "outputs": [],
   "source": [
    "valid_exogs.head()"
   ]
  },
  {
   "cell_type": "code",
   "execution_count": null,
   "id": "d0508910-2e92-4819-b448-34f5ef45900a",
   "metadata": {},
   "outputs": [],
   "source": [
    "model = SARIMAX(\n",
    "    endog=train_data,\n",
    "    exog=train_exogs,\n",
    "    order=order,\n",
    "    seasonal_order=(0, 0, 0, 0),\n",
    ").fit(maxiter=1000, disp=False)"
   ]
  },
  {
   "cell_type": "code",
   "execution_count": null,
   "id": "189e6c45-fe65-43cd-bc5d-df63972f93f7",
   "metadata": {},
   "outputs": [],
   "source": [
    "print(model.summary())"
   ]
  },
  {
   "cell_type": "code",
   "execution_count": null,
   "id": "fd8d37e3-27a5-46b6-94a3-8e22e7c1d9b2",
   "metadata": {},
   "outputs": [],
   "source": [
    "forecast = model.get_forecast(steps=len(valid_data), exog=valid_exogs)"
   ]
  },
  {
   "cell_type": "code",
   "execution_count": null,
   "id": "5bd2107a-4d5d-4ab6-98df-3cb5f0e9f012",
   "metadata": {},
   "outputs": [],
   "source": [
    "y_pred = forecast.predicted_mean"
   ]
  },
  {
   "cell_type": "code",
   "execution_count": null,
   "id": "87d2cf8b-619f-40f5-9651-589df28d5b60",
   "metadata": {},
   "outputs": [],
   "source": [
    "y_true = valid_data"
   ]
  },
  {
   "cell_type": "markdown",
   "id": "21c41f5d-0581-468e-8e33-4084ab85f8be",
   "metadata": {},
   "source": [
    "###### MAE"
   ]
  },
  {
   "cell_type": "code",
   "execution_count": null,
   "id": "f0638277-f621-41c2-9b19-548e3bf3af11",
   "metadata": {},
   "outputs": [],
   "source": [
    "mean_absolute_error(y_true, y_pred)"
   ]
  },
  {
   "cell_type": "markdown",
   "id": "ea7a6c5e-ef80-473c-a2bb-371205ab0817",
   "metadata": {},
   "source": [
    "###### MAPE"
   ]
  },
  {
   "cell_type": "code",
   "execution_count": null,
   "id": "b3981d87-c3e8-4efe-bb58-bfb371e3aabc",
   "metadata": {},
   "outputs": [],
   "source": [
    "mean_absolute_percentage_error(y_true, y_pred) * 100"
   ]
  },
  {
   "cell_type": "markdown",
   "id": "1ce54705-2204-4277-92a1-f8e0c7585225",
   "metadata": {},
   "source": [
    "###### RMSE"
   ]
  },
  {
   "cell_type": "code",
   "execution_count": null,
   "id": "2fd68575-57d1-4854-a70e-37afc28e92db",
   "metadata": {},
   "outputs": [],
   "source": [
    "root_mean_squared_error(y_true, y_pred)"
   ]
  },
  {
   "cell_type": "code",
   "execution_count": null,
   "id": "600ec20d-f67c-410d-b6ee-c23b42fd815c",
   "metadata": {},
   "outputs": [],
   "source": [
    "fig = plt.figure(figsize=(9, 2.5))\n",
    "ax=ax_current()\n",
    "\n",
    "plt.plot(train.loc['2017-07-29':, target], color=palette[0])\n",
    "\n",
    "plot_forecast(\n",
    "    y_true, y_pred, forecast, ci=[80, 95],\n",
    "    palette=[palette[0], palette[1], palette[2]])\n",
    "\n",
    "ax.set_xticks(\n",
    "    ticks=pd.date_range(start='2017-07-29', end='2017-09-01', freq='1d'))\n",
    "ax.xaxis.set_major_formatter(mpl.dates.DateFormatter(fmt='%d'))\n",
    "# ax.xaxis.set_major_locator(mpl.dates.DayLocator())\n",
    "\n",
    "ax2 = axis_secondary()\n",
    "ax2.xaxis.set_major_formatter(mpl.dates.DateFormatter(fmt='%B'))\n",
    "ax2.xaxis.set_major_locator(mpl.dates.MonthLocator(bymonth=[8, 9]))\n",
    "\n",
    "ax3 = axis_secondary()\n",
    "ax3.xaxis.set_major_formatter(mpl.dates.DateFormatter(fmt='%B'))\n",
    "ax3.xaxis.set_major_locator(mpl.dates.MonthLocator(bymonth=[7], bymonthday=29))\n",
    "\n",
    "axis_rstyle(ylim=[0, 80000], yticks=[0, 80000, 10000])\n",
    "\n",
    "savefig('forecast_august_plot', dir_save_img)"
   ]
  },
  {
   "cell_type": "markdown",
   "id": "76209b35-a0d3-476f-848a-5b516799a512",
   "metadata": {},
   "source": [
    "## Residuals research"
   ]
  },
  {
   "cell_type": "code",
   "execution_count": null,
   "id": "bc5317f6-cc6b-4c2c-a7e2-dcbfdc363b1e",
   "metadata": {},
   "outputs": [],
   "source": [
    "resid =  y_pred - y_true"
   ]
  },
  {
   "cell_type": "code",
   "execution_count": null,
   "id": "5f805a90-472e-4040-ac1c-bbcdcf549a38",
   "metadata": {},
   "outputs": [],
   "source": [
    "test_normality(resid)"
   ]
  },
  {
   "cell_type": "code",
   "execution_count": null,
   "id": "ddb70ea6-74a3-4af2-8a7f-4e3cede48767",
   "metadata": {},
   "outputs": [],
   "source": [
    "np.std(resid)"
   ]
  },
  {
   "cell_type": "code",
   "execution_count": null,
   "id": "70224bd6-49e1-4765-8e3d-71293d1128a2",
   "metadata": {},
   "outputs": [],
   "source": [
    "len(resid)"
   ]
  },
  {
   "cell_type": "code",
   "execution_count": null,
   "id": "8a6fdf1a-0d7b-404f-a859-24e53d5f05a4",
   "metadata": {},
   "outputs": [],
   "source": [
    "plt.hist(resid, bins=100);"
   ]
  },
  {
   "cell_type": "code",
   "execution_count": null,
   "id": "d5415cee-2f73-4e46-bb79-2a0d75e90264",
   "metadata": {},
   "outputs": [],
   "source": [
    "fig = plt.figure(figsize=(8, 2))\n",
    "\n",
    "sns.kdeplot(resid, color=palette[0], label='Residuals');\n",
    "sns.kdeplot(\n",
    "    np.random.normal(0, np.std(resid), len(resid)),\n",
    "    color=palette[0], fill=True, lw=0.01, label='Normal');\n",
    "axis_rstyle()\n",
    "\n",
    "plt.legend(**legend_inline())\n",
    "plt.show()\n",
    "\n",
    "savefig('residuals_distribution_plot', dir_save_img)"
   ]
  },
  {
   "cell_type": "code",
   "execution_count": null,
   "id": "91a202a6-19a3-4b75-a671-e8f72cd1fa0b",
   "metadata": {},
   "outputs": [],
   "source": [
    "fig = plt.figure(figsize=(8, 2))\n",
    "\n",
    "plt.plot(resid, alpha=0.9);\n",
    "plt.ylabel('Residuals')\n",
    "axis_rstyle()\n",
    "ticklabels_f_remove(-1)\n",
    "\n",
    "savefig('residuals_plot', dir_save_img)"
   ]
  },
  {
   "cell_type": "code",
   "execution_count": null,
   "id": "7f0a5b82-52cf-4085-ac5e-ac239fdd0a89",
   "metadata": {},
   "outputs": [],
   "source": [
    "resid_mean = resid.groupby(resid.index.floor('D')).mean()\n",
    "\n",
    "fig, ax = plt.subplots(2, 1, figsize=(8, 4), height_ratios=[2, 1])\n",
    "\n",
    "ax[0].plot(y_pred.index, y_pred, color=palette[1], label='Forecast')\n",
    "ax[0].plot(y_true.index, y_true, color=palette[0], alpha=0.5, label='Actual')\n",
    "\n",
    "ax[0].xaxis.set_major_formatter(mpl.dates.DateFormatter(fmt='%d'))\n",
    "ax[0].xaxis.set_major_locator(mpl.dates.DayLocator())\n",
    "\n",
    "ax[0].set_xlim(y_pred.index[0]-dt.timedelta(days=0.5), y_pred.index[-1]+dt.timedelta(days=1))\n",
    "ax[0].set_ylabel('Target')\n",
    "axis_rstyle(ax=ax[0])\n",
    "ax[0].legend(**legend_inline(bbox_to_anchor=(0, 1.05)))\n",
    "ticklabels_f_remove(-1, ax[0])\n",
    "\n",
    "for i in resid_mean.index:\n",
    "    ax[1].plot([i, i], [0, resid_mean[i]], color=palette[-1], lw=1)\n",
    "    ax[1].scatter(i, resid_mean[i], s=15, color=palette[-4], zorder=10)\n",
    "\n",
    "ax[1].plot(\n",
    "    [resid_mean.index[0], resid_mean.index[-1]],\n",
    "    [0, 0],\n",
    "    lw=0.5, ls=':', color=palette[-2])\n",
    "\n",
    "ax[1].xaxis.set_major_formatter(mpl.dates.DateFormatter(fmt='%d'))\n",
    "ax[1].xaxis.set_major_locator(mpl.dates.DayLocator())\n",
    "ax1_axis_sec =  ax[1].secondary_xaxis('bottom')\n",
    "ax1_axis_sec.spines['bottom'].set_visible(False)\n",
    "ax1_axis_sec.tick_params(pad=32, bottom=False, colors='#808080')\n",
    "ax1_axis_sec.xaxis.set_major_locator(mpl.dates.WeekdayLocator(mpl.dates.SU))\n",
    "ax1_axis_sec.xaxis.set_major_formatter(mpl.dates.DateFormatter(fmt='%A'))\n",
    "\n",
    "ax[1].set_xlim(y_pred.index[0]-dt.timedelta(days=1), y_pred.index[-1]+dt.timedelta(days=0.5))\n",
    "ax[1].set_ylabel('Resid. mean')\n",
    "\n",
    "axis_rstyle(xslice=[1, -1], yticks=[-5000, 5000, 2500], ylim=[-5100, 5000], ax=ax[1])\n",
    "\n",
    "plt.subplots_adjust(hspace=0.5)\n",
    "plt.show()\n",
    "\n",
    "savefig('forecast_august_resid_mean_plot', dir_save_img)"
   ]
  },
  {
   "cell_type": "code",
   "execution_count": null,
   "id": "0e15bbc8-f2a5-456a-84d3-d3c965cb3dfa",
   "metadata": {},
   "outputs": [],
   "source": [
    "fig, ax = plt.subplots(2, 1, figsize=(9, 4), height_ratios=[2, 1])\n",
    "\n",
    "ax[0].plot(\n",
    "    y_pred.loc['2017-08-01':'2017-08-06'],\n",
    "    color=palette[1], label='Forecast')\n",
    "ax[0].plot(\n",
    "    y_true.loc['2017-08-01':'2017-08-06'],\n",
    "    color=palette[0], alpha=0.75, label='Actual')\n",
    "\n",
    "ax[0].legend(**legend_inline())\n",
    "ax[0].xaxis.set_major_formatter(mpl.dates.DateFormatter(fmt='%H h'))\n",
    "ax[0].xaxis.set_major_locator(mpl.dates.HourLocator(byhour=[0, 6, 12, 18]))\n",
    "ax[0].tick_params(axis='x', which='minor', labelsize=7)\n",
    "ax[0].tick_params(axis='x', which='major', pad=15, labelsize=7)\n",
    "axis_sec = ax[0].secondary_xaxis('bottom')\n",
    "axis_sec.spines['bottom'].set_visible(False)\n",
    "axis_sec.tick_params(pad=30, bottom=False, colors='#808080')\n",
    "axis_sec.xaxis.set_major_formatter(mpl.dates.DateFormatter(fmt='%Y-%m-%d'))\n",
    "axis_sec.xaxis.set_major_locator(mpl.dates.HourLocator(byhour=12))\n",
    "axis_rstyle(ax=ax[0], xslice=[1, -1])\n",
    "\n",
    "\n",
    "ax[1].plot(resid.loc['2017-08-01':'2017-08-06'])\n",
    "ax[1].axhline(0, lw=0.5, ls=':')\n",
    "\n",
    "ax[1].xaxis.set_major_formatter(mpl.dates.DateFormatter(fmt='%H h'))\n",
    "ax[1].xaxis.set_major_locator(mpl.dates.HourLocator(byhour=[0, 6, 12, 18]))\n",
    "ax[1].tick_params(axis='x', which='minor', labelsize=7)\n",
    "ax[1].tick_params(axis='x', which='major', pad=15, labelsize=7)\n",
    "axis_sec =  ax[1].secondary_xaxis('bottom')\n",
    "axis_sec.spines['bottom'].set_visible(False)\n",
    "axis_sec.tick_params(pad=30, bottom=False, colors='#808080')\n",
    "axis_sec.xaxis.set_major_formatter(mpl.dates.DateFormatter(fmt='%Y-%m-%d'))\n",
    "axis_sec.xaxis.set_major_locator(mpl.dates.HourLocator(byhour=12))\n",
    "axis_th = axis_secondary(ax=ax[1], pad=42)\n",
    "axis_th.xaxis.set_major_formatter(mpl.dates.DateFormatter(fmt='%A'))\n",
    "axis_th.xaxis.set_major_locator(mpl.dates.HourLocator(byhour=12))\n",
    "axis_rstyle(xslice=[1, -1], yticks=[-8000, 8000, 4000], ylim=[-8000, 8000], ax=ax[1])\n",
    "\n",
    "plt.subplots_adjust(hspace=0.65)\n",
    "plt.show()\n",
    "\n",
    "savefig('forecast_august_detail_plot_week1', dir_save_img)"
   ]
  },
  {
   "cell_type": "code",
   "execution_count": null,
   "id": "e92d24c9-f57f-4bda-b5a0-f3e2d41b25bc",
   "metadata": {},
   "outputs": [],
   "source": [
    "fig, ax = plt.subplots(2, 1, figsize=(9, 4), height_ratios=[2, 1])\n",
    "\n",
    "ax[0].plot(\n",
    "    y_pred.loc['2017-08-07':'2017-08-13'],\n",
    "    color=palette[1], label='Forecast')\n",
    "ax[0].plot(\n",
    "    y_true.loc['2017-08-07':'2017-08-13'],\n",
    "    color=palette[0], alpha=0.75, label='Actual')\n",
    "\n",
    "ax[0].legend(**legend_inline())\n",
    "ax[0].xaxis.set_major_formatter(mpl.dates.DateFormatter(fmt='%H h'))\n",
    "ax[0].xaxis.set_major_locator(mpl.dates.HourLocator(byhour=[0, 6, 12, 18]))\n",
    "ax[0].tick_params(axis='x', which='minor', labelsize=7)\n",
    "ax[0].tick_params(axis='x', which='major', pad=15, labelsize=7)\n",
    "axis_sec = ax[0].secondary_xaxis('bottom')\n",
    "axis_sec.spines['bottom'].set_visible(False)\n",
    "axis_sec.tick_params(pad=30, bottom=False, colors='#808080')\n",
    "axis_sec.xaxis.set_major_formatter(mpl.dates.DateFormatter(fmt='%Y-%m-%d'))\n",
    "axis_sec.xaxis.set_major_locator(mpl.dates.HourLocator(byhour=12))\n",
    "axis_rstyle(ax=ax[0], xslice=[1, -1])\n",
    "\n",
    "\n",
    "ax[1].plot(resid.loc['2017-08-07':'2017-08-13'])\n",
    "ax[1].axhline(0, lw=0.5, ls=':')\n",
    "\n",
    "ax[1].xaxis.set_major_formatter(mpl.dates.DateFormatter(fmt='%H h'))\n",
    "ax[1].xaxis.set_major_locator(mpl.dates.HourLocator(byhour=[0, 6, 12, 18]))\n",
    "ax[1].tick_params(axis='x', which='minor', labelsize=7)\n",
    "ax[1].tick_params(axis='x', which='major', pad=15, labelsize=7)\n",
    "axis_sec =  ax[1].secondary_xaxis('bottom')\n",
    "axis_sec.spines['bottom'].set_visible(False)\n",
    "axis_sec.tick_params(pad=30, bottom=False, colors='#808080')\n",
    "axis_sec.xaxis.set_major_formatter(mpl.dates.DateFormatter(fmt='%Y-%m-%d'))\n",
    "axis_sec.xaxis.set_major_locator(mpl.dates.HourLocator(byhour=12))\n",
    "axis_th = axis_secondary(ax=ax[1], pad=42)\n",
    "axis_th.xaxis.set_major_formatter(mpl.dates.DateFormatter(fmt='%A'))\n",
    "axis_th.xaxis.set_major_locator(mpl.dates.HourLocator(byhour=12))\n",
    "axis_rstyle(xslice=[1, -1], yticks=[-8000, 8000, 4000], ylim=[-8000, 8000], ax=ax[1])\n",
    "\n",
    "plt.subplots_adjust(hspace=0.65)\n",
    "plt.show()\n",
    "\n",
    "savefig('forecast_august_detail_plot_week2', dir_save_img)"
   ]
  },
  {
   "cell_type": "code",
   "execution_count": null,
   "id": "cf49da44-763f-4eb3-9b7c-fff6c88c9b88",
   "metadata": {},
   "outputs": [],
   "source": [
    "fig, ax = plt.subplots(2, 1, figsize=(9, 4), height_ratios=[2, 1])\n",
    "\n",
    "ax[0].plot(\n",
    "    y_pred.loc['2017-08-14':'2017-08-20'],\n",
    "    color=palette[1], label='Forecast')\n",
    "ax[0].plot(\n",
    "    y_true.loc['2017-08-14':'2017-08-20'],\n",
    "    color=palette[0], alpha=0.75, label='Actual')\n",
    "\n",
    "ax[0].legend(**legend_inline())\n",
    "ax[0].xaxis.set_major_formatter(mpl.dates.DateFormatter(fmt='%H h'))\n",
    "ax[0].xaxis.set_major_locator(mpl.dates.HourLocator(byhour=[0, 6, 12, 18]))\n",
    "ax[0].tick_params(axis='x', which='minor', labelsize=7)\n",
    "ax[0].tick_params(axis='x', which='major', pad=15, labelsize=7)\n",
    "axis_sec = ax[0].secondary_xaxis('bottom')\n",
    "axis_sec.spines['bottom'].set_visible(False)\n",
    "axis_sec.tick_params(pad=30, bottom=False, colors='#808080')\n",
    "axis_sec.xaxis.set_major_formatter(mpl.dates.DateFormatter(fmt='%Y-%m-%d'))\n",
    "axis_sec.xaxis.set_major_locator(mpl.dates.HourLocator(byhour=12))\n",
    "axis_rstyle(ax=ax[0], xslice=[1, -1])\n",
    "\n",
    "\n",
    "ax[1].plot(resid.loc['2017-08-14':'2017-08-20'])\n",
    "ax[1].axhline(0, lw=0.5, ls=':')\n",
    "\n",
    "ax[1].xaxis.set_major_formatter(mpl.dates.DateFormatter(fmt='%H h'))\n",
    "ax[1].xaxis.set_major_locator(mpl.dates.HourLocator(byhour=[0, 6, 12, 18]))\n",
    "ax[1].tick_params(axis='x', which='minor', labelsize=7)\n",
    "ax[1].tick_params(axis='x', which='major', pad=15, labelsize=7)\n",
    "axis_sec =  ax[1].secondary_xaxis('bottom')\n",
    "axis_sec.spines['bottom'].set_visible(False)\n",
    "axis_sec.tick_params(pad=30, bottom=False, colors='#808080')\n",
    "axis_sec.xaxis.set_major_formatter(mpl.dates.DateFormatter(fmt='%Y-%m-%d'))\n",
    "axis_sec.xaxis.set_major_locator(mpl.dates.HourLocator(byhour=12))\n",
    "axis_th = axis_secondary(ax=ax[1], pad=42)\n",
    "axis_th.xaxis.set_major_formatter(mpl.dates.DateFormatter(fmt='%A'))\n",
    "axis_th.xaxis.set_major_locator(mpl.dates.HourLocator(byhour=12))\n",
    "axis_rstyle(xslice=[1, -1], yticks=[-8000, 8000, 4000], ylim=[-8000, 8000], ax=ax[1])\n",
    "\n",
    "plt.subplots_adjust(hspace=0.65)\n",
    "plt.show()\n",
    "\n",
    "savefig('forecast_august_detail_plot_week3', dir_save_img)"
   ]
  },
  {
   "cell_type": "code",
   "execution_count": null,
   "id": "c63776ca-adbd-42f8-ab70-fb84b9109215",
   "metadata": {},
   "outputs": [],
   "source": [
    "fig, ax = plt.subplots(2, 1, figsize=(9, 4), height_ratios=[2, 1])\n",
    "\n",
    "ax[0].plot(\n",
    "    y_pred.loc['2017-08-21':'2017-08-27'],\n",
    "    color=palette[1], label='Forecast')\n",
    "ax[0].plot(\n",
    "    y_true.loc['2017-08-21':'2017-08-27'],\n",
    "    color=palette[0], alpha=0.75, label='Actual')\n",
    "\n",
    "ax[0].legend(**legend_inline())\n",
    "ax[0].xaxis.set_major_formatter(mpl.dates.DateFormatter(fmt='%H h'))\n",
    "ax[0].xaxis.set_major_locator(mpl.dates.HourLocator(byhour=[0, 6, 12, 18]))\n",
    "ax[0].tick_params(axis='x', which='minor', labelsize=7)\n",
    "ax[0].tick_params(axis='x', which='major', pad=15, labelsize=7)\n",
    "axis_sec = ax[0].secondary_xaxis('bottom')\n",
    "axis_sec.spines['bottom'].set_visible(False)\n",
    "axis_sec.tick_params(pad=30, bottom=False, colors='#808080')\n",
    "axis_sec.xaxis.set_major_formatter(mpl.dates.DateFormatter(fmt='%Y-%m-%d'))\n",
    "axis_sec.xaxis.set_major_locator(mpl.dates.HourLocator(byhour=12))\n",
    "axis_rstyle(ax=ax[0], xslice=[1, -1])\n",
    "\n",
    "\n",
    "ax[1].plot(resid.loc['2017-08-21':'2017-08-27'])\n",
    "ax[1].axhline(0, lw=0.5, ls=':')\n",
    "\n",
    "ax[1].xaxis.set_major_formatter(mpl.dates.DateFormatter(fmt='%H h'))\n",
    "ax[1].xaxis.set_major_locator(mpl.dates.HourLocator(byhour=[0, 6, 12, 18]))\n",
    "ax[1].tick_params(axis='x', which='minor', labelsize=7)\n",
    "ax[1].tick_params(axis='x', which='major', pad=15, labelsize=7)\n",
    "axis_sec =  ax[1].secondary_xaxis('bottom')\n",
    "axis_sec.spines['bottom'].set_visible(False)\n",
    "axis_sec.tick_params(pad=30, bottom=False, colors='#808080')\n",
    "axis_sec.xaxis.set_major_formatter(mpl.dates.DateFormatter(fmt='%Y-%m-%d'))\n",
    "axis_sec.xaxis.set_major_locator(mpl.dates.HourLocator(byhour=12))\n",
    "axis_th = axis_secondary(ax=ax[1], pad=42)\n",
    "axis_th.xaxis.set_major_formatter(mpl.dates.DateFormatter(fmt='%A'))\n",
    "axis_th.xaxis.set_major_locator(mpl.dates.HourLocator(byhour=12))\n",
    "axis_rstyle(xslice=[1, -1], yticks=[-8000, 8000, 4000], ylim=[-8000, 8000], ax=ax[1])\n",
    "\n",
    "plt.subplots_adjust(hspace=0.65)\n",
    "plt.show()\n",
    "\n",
    "savefig('forecast_august_detail_plot_week4', dir_save_img)"
   ]
  },
  {
   "cell_type": "code",
   "execution_count": null,
   "id": "4e27a318-3291-4ddd-bb90-cea2dab9e834",
   "metadata": {},
   "outputs": [],
   "source": [
    "fig, ax = plt.subplots(2, 1, figsize=(7, 4), height_ratios=[2, 1])\n",
    "\n",
    "ax[0].plot(\n",
    "    y_pred.loc['2017-08-28':'2017-08-31'],\n",
    "    color=palette[1], label='Forecast')\n",
    "ax[0].plot(\n",
    "    y_true.loc['2017-08-28':'2017-08-31'],\n",
    "    color=palette[0], alpha=0.75, label='Actual')\n",
    "\n",
    "ax[0].legend(**legend_inline())\n",
    "ax[0].xaxis.set_major_formatter(mpl.dates.DateFormatter(fmt='%H h'))\n",
    "ax[0].xaxis.set_major_locator(mpl.dates.HourLocator(byhour=[0, 6, 12, 18]))\n",
    "ax[0].tick_params(axis='x', which='minor', labelsize=7)\n",
    "ax[0].tick_params(axis='x', which='major', pad=15, labelsize=7)\n",
    "axis_sec = ax[0].secondary_xaxis('bottom')\n",
    "axis_sec.spines['bottom'].set_visible(False)\n",
    "axis_sec.tick_params(pad=30, bottom=False, colors='#808080')\n",
    "axis_sec.xaxis.set_major_formatter(mpl.dates.DateFormatter(fmt='%Y-%m-%d'))\n",
    "axis_sec.xaxis.set_major_locator(mpl.dates.HourLocator(byhour=12))\n",
    "axis_rstyle(ax=ax[0], xslice=[1, -1])\n",
    "\n",
    "\n",
    "ax[1].plot(resid.loc['2017-08-28':'2017-08-31'])\n",
    "ax[1].axhline(0, lw=0.5, ls=':')\n",
    "\n",
    "ax[1].xaxis.set_major_formatter(mpl.dates.DateFormatter(fmt='%H h'))\n",
    "ax[1].xaxis.set_major_locator(mpl.dates.HourLocator(byhour=[0, 6, 12, 18]))\n",
    "ax[1].tick_params(axis='x', which='minor', labelsize=7)\n",
    "ax[1].tick_params(axis='x', which='major', pad=15, labelsize=7)\n",
    "axis_sec =  ax[1].secondary_xaxis('bottom')\n",
    "axis_sec.spines['bottom'].set_visible(False)\n",
    "axis_sec.tick_params(pad=30, bottom=False, colors='#808080')\n",
    "axis_sec.xaxis.set_major_formatter(mpl.dates.DateFormatter(fmt='%Y-%m-%d'))\n",
    "axis_sec.xaxis.set_major_locator(mpl.dates.HourLocator(byhour=12))\n",
    "axis_th = axis_secondary(ax=ax[1], pad=42)\n",
    "axis_th.xaxis.set_major_formatter(mpl.dates.DateFormatter(fmt='%A'))\n",
    "axis_th.xaxis.set_major_locator(mpl.dates.HourLocator(byhour=12))\n",
    "axis_rstyle(xslice=[1, -1], yticks=[-8000, 8000, 4000], ylim=[-8000, 8000], ax=ax[1])\n",
    "\n",
    "plt.subplots_adjust(hspace=0.65)\n",
    "plt.show()\n",
    "\n",
    "savefig('forecast_august_detail_plot_week5', dir_save_img)"
   ]
  },
  {
   "cell_type": "markdown",
   "id": "f2d93b24-4eec-4ba1-9389-e1e035039b1f",
   "metadata": {},
   "source": [
    "## Save Data"
   ]
  },
  {
   "cell_type": "code",
   "execution_count": null,
   "id": "d54932b0-4abf-4f2f-b241-34cd32bf6d10",
   "metadata": {},
   "outputs": [],
   "source": [
    "saveit(cv0_results_dict, 'cv0', dir_save_files)"
   ]
  },
  {
   "cell_type": "code",
   "execution_count": null,
   "id": "29ca0bfa-5650-479b-acf5-17c1eeb5d1c8",
   "metadata": {},
   "outputs": [],
   "source": [
    "saveit(cv1_results_dict, 'cv1', dir_save_files)"
   ]
  },
  {
   "cell_type": "code",
   "execution_count": null,
   "id": "127996d0-0522-4181-9078-9cc0b2e8243a",
   "metadata": {},
   "outputs": [],
   "source": [
    "saveit(cv2_results_dict, 'cv2', dir_save_files)"
   ]
  },
  {
   "cell_type": "code",
   "execution_count": null,
   "id": "6e5b7ab7-0949-49e6-8a9f-30081c27d47c",
   "metadata": {},
   "outputs": [],
   "source": [
    "saveit(cv3_results_dict, 'cv3', dir_save_files)"
   ]
  },
  {
   "cell_type": "code",
   "execution_count": null,
   "id": "d9c0e8b6-84cc-4a2e-8d1f-e7eddb5b5717",
   "metadata": {},
   "outputs": [],
   "source": [
    "variables_dict = {\n",
    "    'target': target,\n",
    "    'features': features,\n",
    "    'order': (2, 1, 1),\n",
    "    'fourier_period': [144],\n",
    "    'fourier_order': [4],\n",
    "    'cv_indexes_train': cv_indexes_train,\n",
    "    'cv_indexes_eval': cv_indexes_eval\n",
    "}"
   ]
  },
  {
   "cell_type": "code",
   "execution_count": null,
   "id": "be3c7415-accd-41c4-9726-820759eb8c3e",
   "metadata": {},
   "outputs": [],
   "source": [
    "saveit(variables_dict, 'variables_dict', dir_save_files)"
   ]
  },
  {
   "cell_type": "markdown",
   "id": "0cc9843f-f66f-4535-8114-918e8eca9717",
   "metadata": {},
   "source": [
    "### Execution time"
   ]
  },
  {
   "cell_type": "code",
   "execution_count": null,
   "id": "7296d512-ccdf-46f2-bd89-9be792d545b6",
   "metadata": {},
   "outputs": [],
   "source": [
    "print(f'Execution time: {stopwatch.stop(start)}')"
   ]
  }
 ],
 "metadata": {
  "kernelspec": {
   "display_name": "electric-power-consumption",
   "language": "python",
   "name": "electric-power-consumption"
  },
  "language_info": {
   "codemirror_mode": {
    "name": "ipython",
    "version": 3
   },
   "file_extension": ".py",
   "mimetype": "text/x-python",
   "name": "python",
   "nbconvert_exporter": "python",
   "pygments_lexer": "ipython3",
   "version": "3.12.2"
  }
 },
 "nbformat": 4,
 "nbformat_minor": 5
}
