{
 "cells": [
  {
   "cell_type": "code",
   "execution_count": 154,
   "id": "558e201e-d7f1-4fcc-be02-e674951491fb",
   "metadata": {},
   "outputs": [],
   "source": [
    "# run stopwatch\n",
    "from tools import Stopwatch\n",
    "stopwatch = Stopwatch()\n",
    "start = stopwatch.start()"
   ]
  },
  {
   "cell_type": "markdown",
   "id": "a263cdcf-2c8a-432d-b9a9-9f225bb61ddd",
   "metadata": {},
   "source": [
    "### Load libraries, functions, palette, theme"
   ]
  },
  {
   "cell_type": "code",
   "execution_count": 155,
   "id": "dac00212-4d8f-42aa-825b-ed3f6754c3a7",
   "metadata": {},
   "outputs": [],
   "source": [
    "%run _libraries.ipynb"
   ]
  },
  {
   "cell_type": "code",
   "execution_count": 156,
   "id": "1617635d-0034-43b2-a560-25984499e847",
   "metadata": {},
   "outputs": [],
   "source": [
    "%run _functions.ipynb"
   ]
  },
  {
   "cell_type": "raw",
   "id": "f1fde4c4-237b-406c-8ab4-627617692bb1",
   "metadata": {},
   "source": [
    "dir_save = ''"
   ]
  },
  {
   "cell_type": "markdown",
   "id": "29beaf88-707a-4d9b-be4b-4885dd752ce7",
   "metadata": {},
   "source": [
    "# Section I. Overview"
   ]
  },
  {
   "cell_type": "markdown",
   "id": "6a0e3259-ebaf-4e9c-be3e-125a948e27ca",
   "metadata": {},
   "source": [
    "## Load Saved Section if exists"
   ]
  },
  {
   "cell_type": "raw",
   "id": "8117fd61-1e0a-4994-97b7-315e1631f953",
   "metadata": {},
   "source": [
    "if os.path.exists(f'sessions/{dir_save}'):\n",
    "    load_session(dir_save)\n",
    "else:\n",
    "    print(f\"No such session: 'sessions/{dir_save}'\")"
   ]
  },
  {
   "cell_type": "markdown",
   "id": "73b7edbb-d5f0-49fd-9963-16de3da0285a",
   "metadata": {
    "id": "c7980b49-f759-4a9d-bf5e-0eb93a75615a",
    "tags": []
   },
   "source": [
    "## Load Data"
   ]
  },
  {
   "cell_type": "code",
   "execution_count": 157,
   "id": "467632f1-371f-41be-a881-7cf19f0ea23f",
   "metadata": {},
   "outputs": [],
   "source": [
    "data_raw = pd.read_csv('data/powerconsumption.csv')"
   ]
  },
  {
   "cell_type": "code",
   "execution_count": 158,
   "id": "7ffd736d-8a96-41d4-895c-94a1494812bb",
   "metadata": {},
   "outputs": [
    {
     "data": {
      "text/html": [
       "<div>\n",
       "<style scoped>\n",
       "    .dataframe tbody tr th:only-of-type {\n",
       "        vertical-align: middle;\n",
       "    }\n",
       "\n",
       "    .dataframe tbody tr th {\n",
       "        vertical-align: top;\n",
       "    }\n",
       "\n",
       "    .dataframe thead th {\n",
       "        text-align: right;\n",
       "    }\n",
       "</style>\n",
       "<table border=\"1\" class=\"dataframe\">\n",
       "  <thead>\n",
       "    <tr style=\"text-align: right;\">\n",
       "      <th></th>\n",
       "      <th>Datetime</th>\n",
       "      <th>Temperature</th>\n",
       "      <th>Humidity</th>\n",
       "      <th>WindSpeed</th>\n",
       "      <th>GeneralDiffuseFlows</th>\n",
       "      <th>DiffuseFlows</th>\n",
       "      <th>PowerConsumption_Zone1</th>\n",
       "      <th>PowerConsumption_Zone2</th>\n",
       "      <th>PowerConsumption_Zone3</th>\n",
       "    </tr>\n",
       "  </thead>\n",
       "  <tbody>\n",
       "    <tr>\n",
       "      <th>0</th>\n",
       "      <td>1/1/2017 0:00</td>\n",
       "      <td>6.559</td>\n",
       "      <td>73.8</td>\n",
       "      <td>0.083</td>\n",
       "      <td>0.051</td>\n",
       "      <td>0.119</td>\n",
       "      <td>34055.69620</td>\n",
       "      <td>16128.87538</td>\n",
       "      <td>20240.96386</td>\n",
       "    </tr>\n",
       "    <tr>\n",
       "      <th>1</th>\n",
       "      <td>1/1/2017 0:10</td>\n",
       "      <td>6.414</td>\n",
       "      <td>74.5</td>\n",
       "      <td>0.083</td>\n",
       "      <td>0.070</td>\n",
       "      <td>0.085</td>\n",
       "      <td>29814.68354</td>\n",
       "      <td>19375.07599</td>\n",
       "      <td>20131.08434</td>\n",
       "    </tr>\n",
       "    <tr>\n",
       "      <th>2</th>\n",
       "      <td>1/1/2017 0:20</td>\n",
       "      <td>6.313</td>\n",
       "      <td>74.5</td>\n",
       "      <td>0.080</td>\n",
       "      <td>0.062</td>\n",
       "      <td>0.100</td>\n",
       "      <td>29128.10127</td>\n",
       "      <td>19006.68693</td>\n",
       "      <td>19668.43373</td>\n",
       "    </tr>\n",
       "    <tr>\n",
       "      <th>3</th>\n",
       "      <td>1/1/2017 0:30</td>\n",
       "      <td>6.121</td>\n",
       "      <td>75.0</td>\n",
       "      <td>0.083</td>\n",
       "      <td>0.091</td>\n",
       "      <td>0.096</td>\n",
       "      <td>28228.86076</td>\n",
       "      <td>18361.09422</td>\n",
       "      <td>18899.27711</td>\n",
       "    </tr>\n",
       "    <tr>\n",
       "      <th>4</th>\n",
       "      <td>1/1/2017 0:40</td>\n",
       "      <td>5.921</td>\n",
       "      <td>75.7</td>\n",
       "      <td>0.081</td>\n",
       "      <td>0.048</td>\n",
       "      <td>0.085</td>\n",
       "      <td>27335.69620</td>\n",
       "      <td>17872.34043</td>\n",
       "      <td>18442.40964</td>\n",
       "    </tr>\n",
       "  </tbody>\n",
       "</table>\n",
       "</div>"
      ],
      "text/plain": [
       "        Datetime  Temperature  Humidity  WindSpeed  GeneralDiffuseFlows  \\\n",
       "0  1/1/2017 0:00        6.559      73.8      0.083                0.051   \n",
       "1  1/1/2017 0:10        6.414      74.5      0.083                0.070   \n",
       "2  1/1/2017 0:20        6.313      74.5      0.080                0.062   \n",
       "3  1/1/2017 0:30        6.121      75.0      0.083                0.091   \n",
       "4  1/1/2017 0:40        5.921      75.7      0.081                0.048   \n",
       "\n",
       "   DiffuseFlows  PowerConsumption_Zone1  PowerConsumption_Zone2  \\\n",
       "0         0.119             34055.69620             16128.87538   \n",
       "1         0.085             29814.68354             19375.07599   \n",
       "2         0.100             29128.10127             19006.68693   \n",
       "3         0.096             28228.86076             18361.09422   \n",
       "4         0.085             27335.69620             17872.34043   \n",
       "\n",
       "   PowerConsumption_Zone3  \n",
       "0             20240.96386  \n",
       "1             20131.08434  \n",
       "2             19668.43373  \n",
       "3             18899.27711  \n",
       "4             18442.40964  "
      ]
     },
     "execution_count": 158,
     "metadata": {},
     "output_type": "execute_result"
    }
   ],
   "source": [
    "data_raw.head()"
   ]
  },
  {
   "cell_type": "markdown",
   "id": "0493603e-f23b-4a69-941d-dfe134d551b2",
   "metadata": {},
   "source": [
    "#### Transform names"
   ]
  },
  {
   "cell_type": "code",
   "execution_count": 159,
   "id": "e413f9ef-52e8-4484-b31f-022ec1ec4ea8",
   "metadata": {},
   "outputs": [],
   "source": [
    "data_raw = data_raw.rename(columns={\n",
    "    'PowerConsumption_Zone1': 'target1',\n",
    "    'PowerConsumption_Zone2': 'target2',\n",
    "    'PowerConsumption_Zone3': 'target3'\n",
    "})"
   ]
  },
  {
   "cell_type": "code",
   "execution_count": 160,
   "id": "6bc090ed-3f80-4d06-af61-41b7bfc89250",
   "metadata": {},
   "outputs": [],
   "source": [
    "data_raw.columns = map(str.lower, data_raw.columns)"
   ]
  },
  {
   "cell_type": "markdown",
   "id": "c7919cd2-1ad9-4da6-bab4-daa914d186c2",
   "metadata": {},
   "source": [
    "#### Date to index"
   ]
  },
  {
   "cell_type": "code",
   "execution_count": 161,
   "id": "835cd2a8-450b-447b-837e-345688e731fe",
   "metadata": {},
   "outputs": [],
   "source": [
    "data_raw['datetime'] = pd.to_datetime(data_raw['datetime'])"
   ]
  },
  {
   "cell_type": "code",
   "execution_count": 162,
   "id": "14020b18-ed62-47de-ae02-65055d0d8ff4",
   "metadata": {},
   "outputs": [],
   "source": [
    "data_raw = data_raw.set_index(data_raw['datetime'], drop=True)"
   ]
  },
  {
   "cell_type": "code",
   "execution_count": 163,
   "id": "b99d3eb6-0473-4619-9a8f-2a4d7b67b5a3",
   "metadata": {},
   "outputs": [],
   "source": [
    "data_raw.index.name = None"
   ]
  },
  {
   "cell_type": "code",
   "execution_count": 164,
   "id": "7af03831-f57e-4d6a-8ac4-7661384ffde2",
   "metadata": {},
   "outputs": [],
   "source": [
    "data_raw = data_raw.drop(columns='datetime')"
   ]
  },
  {
   "cell_type": "markdown",
   "id": "dba62e2e-398f-429e-8ad1-633524acae2e",
   "metadata": {},
   "source": [
    "#### Check duplicates"
   ]
  },
  {
   "cell_type": "code",
   "execution_count": 165,
   "id": "ad946766-29a3-4519-a79e-a60ccf57877e",
   "metadata": {},
   "outputs": [
    {
     "data": {
      "text/html": [
       "<div>\n",
       "<style scoped>\n",
       "    .dataframe tbody tr th:only-of-type {\n",
       "        vertical-align: middle;\n",
       "    }\n",
       "\n",
       "    .dataframe tbody tr th {\n",
       "        vertical-align: top;\n",
       "    }\n",
       "\n",
       "    .dataframe thead th {\n",
       "        text-align: right;\n",
       "    }\n",
       "</style>\n",
       "<table border=\"1\" class=\"dataframe\">\n",
       "  <thead>\n",
       "    <tr style=\"text-align: right;\">\n",
       "      <th></th>\n",
       "      <th>temperature</th>\n",
       "      <th>humidity</th>\n",
       "      <th>windspeed</th>\n",
       "      <th>generaldiffuseflows</th>\n",
       "      <th>diffuseflows</th>\n",
       "      <th>target1</th>\n",
       "      <th>target2</th>\n",
       "      <th>target3</th>\n",
       "    </tr>\n",
       "  </thead>\n",
       "  <tbody>\n",
       "  </tbody>\n",
       "</table>\n",
       "</div>"
      ],
      "text/plain": [
       "Empty DataFrame\n",
       "Columns: [temperature, humidity, windspeed, generaldiffuseflows, diffuseflows, target1, target2, target3]\n",
       "Index: []"
      ]
     },
     "execution_count": 165,
     "metadata": {},
     "output_type": "execute_result"
    }
   ],
   "source": [
    "data_raw[data_raw.duplicated()]"
   ]
  },
  {
   "cell_type": "markdown",
   "id": "2e49827a-13ea-4193-a1c6-b099be45eb2d",
   "metadata": {
    "id": "1bb693df-937d-4f1e-ac18-9207d45acfab"
   },
   "source": [
    "## Data Split"
   ]
  },
  {
   "cell_type": "code",
   "execution_count": 166,
   "id": "3ca350c6-33f4-4aaa-8593-9ab9f0efcf92",
   "metadata": {},
   "outputs": [
    {
     "data": {
      "text/plain": [
       "(52416, 8)"
      ]
     },
     "execution_count": 166,
     "metadata": {},
     "output_type": "execute_result"
    }
   ],
   "source": [
    "data_raw.shape"
   ]
  },
  {
   "cell_type": "code",
   "execution_count": 167,
   "id": "5c46c404-beeb-45ac-976e-dfe6883aec53",
   "metadata": {},
   "outputs": [],
   "source": [
    "train = data_raw.loc['2017-04': '2017-07'].copy()"
   ]
  },
  {
   "cell_type": "code",
   "execution_count": 168,
   "id": "a7826f41-4e67-4acc-83c2-9fca9dd4718d",
   "metadata": {},
   "outputs": [],
   "source": [
    "valid = data_raw.loc['2017-08'].copy()"
   ]
  },
  {
   "cell_type": "code",
   "execution_count": 169,
   "id": "476ee239-082a-49a1-a75d-9c2fd19a3fc0",
   "metadata": {},
   "outputs": [],
   "source": [
    "test = data_raw.loc['2017-09'].copy()"
   ]
  },
  {
   "cell_type": "code",
   "execution_count": 170,
   "id": "de982ab5-ad70-4445-93a2-fd801d5cd540",
   "metadata": {},
   "outputs": [
    {
     "data": {
      "text/plain": [
       "(17568, 8)"
      ]
     },
     "execution_count": 170,
     "metadata": {},
     "output_type": "execute_result"
    }
   ],
   "source": [
    "train.shape"
   ]
  },
  {
   "cell_type": "code",
   "execution_count": 171,
   "id": "c058471b-2c85-40d9-90e0-d888f8b29c4c",
   "metadata": {},
   "outputs": [
    {
     "data": {
      "text/plain": [
       "(4464, 8)"
      ]
     },
     "execution_count": 171,
     "metadata": {},
     "output_type": "execute_result"
    }
   ],
   "source": [
    "valid.shape"
   ]
  },
  {
   "cell_type": "code",
   "execution_count": 172,
   "id": "8c492445-cdb1-4e63-b600-102514265b59",
   "metadata": {},
   "outputs": [
    {
     "data": {
      "text/plain": [
       "(4320, 8)"
      ]
     },
     "execution_count": 172,
     "metadata": {},
     "output_type": "execute_result"
    }
   ],
   "source": [
    "test.shape"
   ]
  },
  {
   "cell_type": "markdown",
   "id": "dcdf22ec-c658-40ab-b589-ab11b6951352",
   "metadata": {},
   "source": [
    "## Explore"
   ]
  },
  {
   "cell_type": "code",
   "execution_count": 173,
   "id": "2d993da1-2dcf-447d-b8bc-04d4f44f7a5f",
   "metadata": {},
   "outputs": [
    {
     "name": "stdout",
     "output_type": "stream",
     "text": [
      "<class 'pandas.core.frame.DataFrame'>\n",
      "DatetimeIndex: 17568 entries, 2017-04-01 00:00:00 to 2017-07-31 23:50:00\n",
      "Data columns (total 8 columns):\n",
      " #   Column               Non-Null Count  Dtype  \n",
      "---  ------               --------------  -----  \n",
      " 0   temperature          17568 non-null  float64\n",
      " 1   humidity             17568 non-null  float64\n",
      " 2   windspeed            17568 non-null  float64\n",
      " 3   generaldiffuseflows  17568 non-null  float64\n",
      " 4   diffuseflows         17568 non-null  float64\n",
      " 5   target1              17568 non-null  float64\n",
      " 6   target2              17568 non-null  float64\n",
      " 7   target3              17568 non-null  float64\n",
      "dtypes: float64(8)\n",
      "memory usage: 1.2 MB\n"
     ]
    }
   ],
   "source": [
    "train.info()"
   ]
  },
  {
   "cell_type": "code",
   "execution_count": 174,
   "id": "4b042454-3d1c-4792-b64b-6e7cce1301ae",
   "metadata": {},
   "outputs": [
    {
     "data": {
      "text/html": [
       "<div>\n",
       "<style scoped>\n",
       "    .dataframe tbody tr th:only-of-type {\n",
       "        vertical-align: middle;\n",
       "    }\n",
       "\n",
       "    .dataframe tbody tr th {\n",
       "        vertical-align: top;\n",
       "    }\n",
       "\n",
       "    .dataframe thead th {\n",
       "        text-align: right;\n",
       "    }\n",
       "</style>\n",
       "<table border=\"1\" class=\"dataframe\">\n",
       "  <thead>\n",
       "    <tr style=\"text-align: right;\">\n",
       "      <th></th>\n",
       "      <th>Type</th>\n",
       "      <th>Count</th>\n",
       "      <th>Unique</th>\n",
       "      <th>NaN</th>\n",
       "      <th>Percentages</th>\n",
       "    </tr>\n",
       "  </thead>\n",
       "  <tbody>\n",
       "    <tr>\n",
       "      <th>temperature</th>\n",
       "      <td>float64</td>\n",
       "      <td>17568</td>\n",
       "      <td>2389</td>\n",
       "      <td>0</td>\n",
       "      <td>0</td>\n",
       "    </tr>\n",
       "    <tr>\n",
       "      <th>humidity</th>\n",
       "      <td>float64</td>\n",
       "      <td>17568</td>\n",
       "      <td>3732</td>\n",
       "      <td>0</td>\n",
       "      <td>0</td>\n",
       "    </tr>\n",
       "    <tr>\n",
       "      <th>windspeed</th>\n",
       "      <td>float64</td>\n",
       "      <td>17568</td>\n",
       "      <td>174</td>\n",
       "      <td>0</td>\n",
       "      <td>0</td>\n",
       "    </tr>\n",
       "    <tr>\n",
       "      <th>generaldiffuseflows</th>\n",
       "      <td>float64</td>\n",
       "      <td>17568</td>\n",
       "      <td>5910</td>\n",
       "      <td>0</td>\n",
       "      <td>0</td>\n",
       "    </tr>\n",
       "    <tr>\n",
       "      <th>diffuseflows</th>\n",
       "      <td>float64</td>\n",
       "      <td>17568</td>\n",
       "      <td>6093</td>\n",
       "      <td>0</td>\n",
       "      <td>0</td>\n",
       "    </tr>\n",
       "    <tr>\n",
       "      <th>target1</th>\n",
       "      <td>float64</td>\n",
       "      <td>17568</td>\n",
       "      <td>8645</td>\n",
       "      <td>0</td>\n",
       "      <td>0</td>\n",
       "    </tr>\n",
       "    <tr>\n",
       "      <th>target2</th>\n",
       "      <td>float64</td>\n",
       "      <td>17568</td>\n",
       "      <td>10894</td>\n",
       "      <td>0</td>\n",
       "      <td>0</td>\n",
       "    </tr>\n",
       "    <tr>\n",
       "      <th>target3</th>\n",
       "      <td>float64</td>\n",
       "      <td>17568</td>\n",
       "      <td>9052</td>\n",
       "      <td>0</td>\n",
       "      <td>0</td>\n",
       "    </tr>\n",
       "  </tbody>\n",
       "</table>\n",
       "</div>"
      ],
      "text/plain": [
       "                        Type  Count  Unique  NaN  Percentages\n",
       "temperature          float64  17568    2389    0            0\n",
       "humidity             float64  17568    3732    0            0\n",
       "windspeed            float64  17568     174    0            0\n",
       "generaldiffuseflows  float64  17568    5910    0            0\n",
       "diffuseflows         float64  17568    6093    0            0\n",
       "target1              float64  17568    8645    0            0\n",
       "target2              float64  17568   10894    0            0\n",
       "target3              float64  17568    9052    0            0"
      ]
     },
     "execution_count": 174,
     "metadata": {},
     "output_type": "execute_result"
    }
   ],
   "source": [
    "data_describe(train)"
   ]
  },
  {
   "cell_type": "code",
   "execution_count": 175,
   "id": "5295c030-89d0-47f9-b6a8-0158593218eb",
   "metadata": {},
   "outputs": [
    {
     "data": {
      "text/html": [
       "<div>\n",
       "<style scoped>\n",
       "    .dataframe tbody tr th:only-of-type {\n",
       "        vertical-align: middle;\n",
       "    }\n",
       "\n",
       "    .dataframe tbody tr th {\n",
       "        vertical-align: top;\n",
       "    }\n",
       "\n",
       "    .dataframe thead th {\n",
       "        text-align: right;\n",
       "    }\n",
       "</style>\n",
       "<table border=\"1\" class=\"dataframe\">\n",
       "  <thead>\n",
       "    <tr style=\"text-align: right;\">\n",
       "      <th></th>\n",
       "      <th>temperature</th>\n",
       "      <th>humidity</th>\n",
       "      <th>windspeed</th>\n",
       "      <th>generaldiffuseflows</th>\n",
       "      <th>diffuseflows</th>\n",
       "      <th>target1</th>\n",
       "      <th>target2</th>\n",
       "      <th>target3</th>\n",
       "    </tr>\n",
       "  </thead>\n",
       "  <tbody>\n",
       "    <tr>\n",
       "      <th>count</th>\n",
       "      <td>17568.000000</td>\n",
       "      <td>17568.000000</td>\n",
       "      <td>17568.000000</td>\n",
       "      <td>17568.000000</td>\n",
       "      <td>17568.000000</td>\n",
       "      <td>17568.000000</td>\n",
       "      <td>17568.000000</td>\n",
       "      <td>17568.000000</td>\n",
       "    </tr>\n",
       "    <tr>\n",
       "      <th>mean</th>\n",
       "      <td>21.557630</td>\n",
       "      <td>67.454427</td>\n",
       "      <td>2.201019</td>\n",
       "      <td>252.164427</td>\n",
       "      <td>96.620113</td>\n",
       "      <td>33510.768175</td>\n",
       "      <td>20631.371047</td>\n",
       "      <td>21237.662735</td>\n",
       "    </tr>\n",
       "    <tr>\n",
       "      <th>std</th>\n",
       "      <td>5.027176</td>\n",
       "      <td>17.464730</td>\n",
       "      <td>2.399470</td>\n",
       "      <td>316.968276</td>\n",
       "      <td>138.072108</td>\n",
       "      <td>7138.352746</td>\n",
       "      <td>4966.213004</td>\n",
       "      <td>6880.889438</td>\n",
       "    </tr>\n",
       "    <tr>\n",
       "      <th>min</th>\n",
       "      <td>10.250000</td>\n",
       "      <td>11.340000</td>\n",
       "      <td>0.050000</td>\n",
       "      <td>0.004000</td>\n",
       "      <td>0.037000</td>\n",
       "      <td>16814.983850</td>\n",
       "      <td>8560.081466</td>\n",
       "      <td>9840.971660</td>\n",
       "    </tr>\n",
       "    <tr>\n",
       "      <th>25%</th>\n",
       "      <td>17.817500</td>\n",
       "      <td>56.200000</td>\n",
       "      <td>0.072000</td>\n",
       "      <td>0.070000</td>\n",
       "      <td>0.133000</td>\n",
       "      <td>27638.154787</td>\n",
       "      <td>16742.933362</td>\n",
       "      <td>16294.736840</td>\n",
       "    </tr>\n",
       "    <tr>\n",
       "      <th>50%</th>\n",
       "      <td>21.090000</td>\n",
       "      <td>70.400000</td>\n",
       "      <td>0.083000</td>\n",
       "      <td>61.150000</td>\n",
       "      <td>42.410000</td>\n",
       "      <td>33711.099210</td>\n",
       "      <td>20690.835030</td>\n",
       "      <td>19223.272730</td>\n",
       "    </tr>\n",
       "    <tr>\n",
       "      <th>75%</th>\n",
       "      <td>24.700000</td>\n",
       "      <td>82.600000</td>\n",
       "      <td>4.916000</td>\n",
       "      <td>506.675000</td>\n",
       "      <td>138.600000</td>\n",
       "      <td>38501.721850</td>\n",
       "      <td>23895.175070</td>\n",
       "      <td>25995.674638</td>\n",
       "    </tr>\n",
       "    <tr>\n",
       "      <th>max</th>\n",
       "      <td>40.010000</td>\n",
       "      <td>93.100000</td>\n",
       "      <td>4.937000</td>\n",
       "      <td>1163.000000</td>\n",
       "      <td>909.000000</td>\n",
       "      <td>51540.199340</td>\n",
       "      <td>37408.860760</td>\n",
       "      <td>47598.326360</td>\n",
       "    </tr>\n",
       "  </tbody>\n",
       "</table>\n",
       "</div>"
      ],
      "text/plain": [
       "        temperature      humidity     windspeed  generaldiffuseflows  \\\n",
       "count  17568.000000  17568.000000  17568.000000         17568.000000   \n",
       "mean      21.557630     67.454427      2.201019           252.164427   \n",
       "std        5.027176     17.464730      2.399470           316.968276   \n",
       "min       10.250000     11.340000      0.050000             0.004000   \n",
       "25%       17.817500     56.200000      0.072000             0.070000   \n",
       "50%       21.090000     70.400000      0.083000            61.150000   \n",
       "75%       24.700000     82.600000      4.916000           506.675000   \n",
       "max       40.010000     93.100000      4.937000          1163.000000   \n",
       "\n",
       "       diffuseflows       target1       target2       target3  \n",
       "count  17568.000000  17568.000000  17568.000000  17568.000000  \n",
       "mean      96.620113  33510.768175  20631.371047  21237.662735  \n",
       "std      138.072108   7138.352746   4966.213004   6880.889438  \n",
       "min        0.037000  16814.983850   8560.081466   9840.971660  \n",
       "25%        0.133000  27638.154787  16742.933362  16294.736840  \n",
       "50%       42.410000  33711.099210  20690.835030  19223.272730  \n",
       "75%      138.600000  38501.721850  23895.175070  25995.674638  \n",
       "max      909.000000  51540.199340  37408.860760  47598.326360  "
      ]
     },
     "execution_count": 175,
     "metadata": {},
     "output_type": "execute_result"
    }
   ],
   "source": [
    "train.describe()"
   ]
  },
  {
   "cell_type": "code",
   "execution_count": null,
   "id": "af0f2c75-7f73-45fc-9e00-a53b8e69cc42",
   "metadata": {},
   "outputs": [],
   "source": [
    "f = plot_gridplot(\n",
    "    data=train,\n",
    "    features=train.columns,\n",
    "    figsize=(10,6),\n",
    "    ncols=3,\n",
    "    kind='hist',\n",
    "    plot_shape='rectangle',\n",
    "    hscale=1.6,\n",
    "    histplot_kwargs={'bins': 50})"
   ]
  },
  {
   "cell_type": "markdown",
   "id": "a3be2c2b-8bc9-4a32-842d-635a37e3c591",
   "metadata": {},
   "source": [
    "### Variables lists"
   ]
  },
  {
   "cell_type": "code",
   "execution_count": null,
   "id": "ee1a49ee-222d-41fd-af93-ba9b0d5a367f",
   "metadata": {},
   "outputs": [],
   "source": [
    "features = [\n",
    "    'temperature', 'humidity', 'windspeed',\n",
    "    'generaldiffuseflows', 'diffuseflows'\n",
    "]"
   ]
  },
  {
   "cell_type": "code",
   "execution_count": null,
   "id": "c98dc496-7f9b-4046-b195-cc21df0d9abe",
   "metadata": {},
   "outputs": [],
   "source": [
    "months_list = ['April', 'May', 'June', 'July']"
   ]
  },
  {
   "cell_type": "markdown",
   "id": "6d14e7ae-863a-472c-bb4e-e738d2113d08",
   "metadata": {},
   "source": [
    "### Datetime features"
   ]
  },
  {
   "cell_type": "code",
   "execution_count": null,
   "id": "53d6e362-d790-46c8-94d6-7cb759bd52ca",
   "metadata": {},
   "outputs": [],
   "source": [
    "train['minute'] = train.index.minute"
   ]
  },
  {
   "cell_type": "code",
   "execution_count": null,
   "id": "ac4f4dfb-ec2e-4182-9b0c-374830b790f2",
   "metadata": {},
   "outputs": [],
   "source": [
    "train['hour'] = train.index.hour"
   ]
  },
  {
   "cell_type": "code",
   "execution_count": null,
   "id": "2b0faddf-a605-4167-96ac-2a2829149d93",
   "metadata": {},
   "outputs": [],
   "source": [
    "train['day'] = train.index.day"
   ]
  },
  {
   "cell_type": "code",
   "execution_count": null,
   "id": "2a7f6cb3-5aee-4611-b289-5ff19e1e17cd",
   "metadata": {},
   "outputs": [],
   "source": [
    "# day numbers since beginning of dataset\n",
    "train['day_number'] = train.index.day_of_year - train.index.day_of_year.min() + 1"
   ]
  },
  {
   "cell_type": "code",
   "execution_count": null,
   "id": "59d83cfb-3058-4b41-8d97-2494b8d95515",
   "metadata": {},
   "outputs": [],
   "source": [
    "train['day_of_year'] = train.index.day_of_year"
   ]
  },
  {
   "cell_type": "code",
   "execution_count": null,
   "id": "48f577f2-3b0f-4a20-b7fd-3392df800c3c",
   "metadata": {},
   "outputs": [],
   "source": [
    "train['weekday'] = train.index.weekday"
   ]
  },
  {
   "cell_type": "code",
   "execution_count": null,
   "id": "c148345e-8945-4e49-86e4-7aa51aae9556",
   "metadata": {},
   "outputs": [],
   "source": [
    "train['week'] = train.index.isocalendar().week"
   ]
  },
  {
   "cell_type": "code",
   "execution_count": null,
   "id": "22907a52-bac0-4ab2-9169-8c3f8a819f77",
   "metadata": {},
   "outputs": [],
   "source": [
    "train['month'] = train.index.month"
   ]
  },
  {
   "cell_type": "code",
   "execution_count": null,
   "id": "16176ba1-70b9-4589-bd2d-d04b30f68a1a",
   "metadata": {},
   "outputs": [],
   "source": [
    "train[\"year_month\"] = train.index.to_period('M')"
   ]
  },
  {
   "cell_type": "code",
   "execution_count": null,
   "id": "ecbc229f-686d-4f6e-bb86-84f5e81ebf29",
   "metadata": {},
   "outputs": [],
   "source": [
    "train[\"year_day\"] = train.index.to_period('d')"
   ]
  },
  {
   "cell_type": "code",
   "execution_count": null,
   "id": "e605d092-5465-4041-a6e6-af719d3a9ad0",
   "metadata": {},
   "outputs": [],
   "source": [
    "train['count_elmnts_by_day'] = train.groupby('day_of_year').cumcount() + 1"
   ]
  },
  {
   "cell_type": "code",
   "execution_count": null,
   "id": "e114ca45-dd86-4ae4-b793-f6650699f32a",
   "metadata": {},
   "outputs": [],
   "source": [
    "train.head()"
   ]
  },
  {
   "cell_type": "markdown",
   "id": "e0f78a81-1275-4527-9924-4392f5726cc3",
   "metadata": {},
   "source": [
    "### Measurements frequencies check"
   ]
  },
  {
   "cell_type": "code",
   "execution_count": null,
   "id": "79caa8c1-4d4e-4649-b298-70dbd95dbfb0",
   "metadata": {},
   "outputs": [],
   "source": [
    "train.groupby('day_number').size().sort_values()"
   ]
  },
  {
   "cell_type": "code",
   "execution_count": null,
   "id": "247c92e4-46f3-4157-8766-955691d2961d",
   "metadata": {},
   "outputs": [],
   "source": [
    "# assert if daily measurements frequencies not equals\n",
    "assert (train.groupby('day_number').size().sort_values().min() ==\n",
    "        train.groupby('day_number').size().sort_values().max())"
   ]
  },
  {
   "cell_type": "markdown",
   "id": "b3037168-dd95-4958-9203-f478266137b6",
   "metadata": {},
   "source": [
    "### Target Variable"
   ]
  },
  {
   "cell_type": "code",
   "execution_count": null,
   "id": "56b0c261-8a8e-4f56-867b-3a2b08c34cae",
   "metadata": {},
   "outputs": [],
   "source": [
    "plt.hist(train['target1'], bins=100);"
   ]
  },
  {
   "cell_type": "code",
   "execution_count": null,
   "id": "b678d078-ca30-4230-8f6d-e5447a77f4f5",
   "metadata": {},
   "outputs": [],
   "source": [
    "for i, m in zip(train['month'].unique(), months_list):\n",
    "    sns.histplot(\n",
    "        data=train[train['month']==i],\n",
    "        x='target1',\n",
    "        bins=100,\n",
    "        alpha=1\n",
    "    );\n",
    "    plt.title(m)\n",
    "    plt.show()"
   ]
  },
  {
   "cell_type": "code",
   "execution_count": null,
   "id": "753babe9-ff54-4851-8c15-c1d4dcd3ecec",
   "metadata": {},
   "outputs": [],
   "source": [
    "plt.hist(train['target1'].diff(), bins=100);"
   ]
  },
  {
   "cell_type": "markdown",
   "id": "a70e51f2-226a-4044-89e0-48b549d8cc66",
   "metadata": {},
   "source": [
    "## Naive Model"
   ]
  },
  {
   "cell_type": "markdown",
   "id": "eee5d8c6-ca7c-4c06-b2ab-dcec97979c62",
   "metadata": {},
   "source": [
    "##### Predictions"
   ]
  },
  {
   "cell_type": "code",
   "execution_count": null,
   "id": "95ef182c-b0ed-4dba-9dd0-d2bd1b2089fc",
   "metadata": {},
   "outputs": [],
   "source": [
    "y_pred_naive = train['target1'].shift(1).copy()"
   ]
  },
  {
   "cell_type": "markdown",
   "id": "27a3252d-0a38-4c0b-be17-03e0b4fd9ef5",
   "metadata": {},
   "source": [
    "##### MAE"
   ]
  },
  {
   "cell_type": "code",
   "execution_count": null,
   "id": "776b1e54-d0d3-4a0a-a2cc-b803975f7ec4",
   "metadata": {},
   "outputs": [],
   "source": [
    "mean_absolute_error(train['target1'][1:], y_pred_naive[1:])"
   ]
  },
  {
   "cell_type": "markdown",
   "id": "7e09b9b4-9ce4-4e81-b5b7-39ef1844b6a0",
   "metadata": {},
   "source": [
    "##### MAPE"
   ]
  },
  {
   "cell_type": "code",
   "execution_count": null,
   "id": "8f9348c3-2e1d-484e-aa27-148e23483d0e",
   "metadata": {},
   "outputs": [],
   "source": [
    "mean_absolute_percentage_error(train['target1'][1:], y_pred_naive[1:]) * 100"
   ]
  },
  {
   "cell_type": "markdown",
   "id": "30789b05-d4fb-40d1-a156-d4510c0f97b2",
   "metadata": {},
   "source": [
    "##### RMSE"
   ]
  },
  {
   "cell_type": "code",
   "execution_count": null,
   "id": "2bf2055a-a33d-43be-8ea7-f4e55235042d",
   "metadata": {},
   "outputs": [],
   "source": [
    "root_mean_squared_log_error(train['target1'][1:], y_pred_naive[1:])"
   ]
  },
  {
   "cell_type": "markdown",
   "id": "ebe09454-021d-4ee1-9a82-9e669c38bd73",
   "metadata": {},
   "source": [
    "## Target1: Discretization and Visualization"
   ]
  },
  {
   "cell_type": "markdown",
   "id": "5a1e2454-bb11-4f7b-8d66-0ab98f9b9c91",
   "metadata": {},
   "source": [
    "### Full Distance with Monthly mean"
   ]
  },
  {
   "cell_type": "code",
   "execution_count": null,
   "id": "eee87d68-da73-4896-97ea-2e159f121f74",
   "metadata": {},
   "outputs": [],
   "source": [
    "fig = plt.figure(figsize=(6, 2.5))\n",
    "# sns.pointplot(\n",
    "#     data=train,\n",
    "#     x='month',\n",
    "#     y='target1',\n",
    "#     errorbar=('ci'),\n",
    "#     ls='none',\n",
    "#     lw=1,\n",
    "#     markersize=3\n",
    "# );\n",
    "sns.barplot(\n",
    "    data=train,\n",
    "    x='month',\n",
    "    y='target1',\n",
    "    errorbar=('ci'),\n",
    "    width=0.5,\n",
    "    color=palette[-3],\n",
    "    err_kws=dict(color=palette[-4])\n",
    ");\n",
    "plt.xticks(arange(4), months_list)\n",
    "axis_rstyle(\n",
    "    offset_bottom=15,\n",
    "    x_lim=[-0.5, 4],\n",
    "    y_lim=[27500, 37500], y_ticks=[27500, 37500, 2500]\n",
    ")\n",
    "\n",
    "plt.xlabel(None)\n",
    "plt.ylabel(None)\n",
    "plt.show()"
   ]
  },
  {
   "cell_type": "markdown",
   "id": "0bf993c4-7197-49c6-bf10-1b6f37f0b912",
   "metadata": {},
   "source": [
    "### Full Distance with Weekly mean"
   ]
  },
  {
   "cell_type": "code",
   "execution_count": null,
   "id": "fa79d344-a51b-4e05-a147-c34c3c530491",
   "metadata": {},
   "outputs": [],
   "source": [
    "sns.lineplot(\n",
    "    data=train,\n",
    "    x='week',\n",
    "    y='target1',\n",
    "    hue='month',\n",
    "    errorbar=('ci'),\n",
    "    palette=palette[:4]\n",
    ");\n",
    "maxnloc = mpl.ticker.MaxNLocator(nbins=len(train['week'].unique())+1, integer=True)\n",
    "ax_current().xaxis.set_major_locator(maxnloc)\n",
    "axis_rstyle(x_slice=[1,-1], grid=False)\n",
    "plt.legend(**legend_inline(), **legend_create_handles(labels=months_list))\n",
    "\n",
    "plt.xlabel(None)\n",
    "plt.ylabel(None)\n",
    "plt.show()"
   ]
  },
  {
   "cell_type": "markdown",
   "id": "32ff7ac8-24f9-4304-84e1-8a6f7363639e",
   "metadata": {},
   "source": [
    "### Full Distance with Daily mean"
   ]
  },
  {
   "cell_type": "code",
   "execution_count": null,
   "id": "44c1ce70-983b-4660-ba17-5eab7d6d2019",
   "metadata": {},
   "outputs": [],
   "source": [
    "fig = plt.figure()\n",
    "\n",
    "sns.lineplot(\n",
    "    data=train,\n",
    "    x=train.index.to_period('d').to_timestamp(),\n",
    "    y='target1',\n",
    "    hue='month',\n",
    "    palette=[palette[0], palette[1], palette[2], palette[3]],\n",
    ")\n",
    "\n",
    "ax = ax_current()\n",
    "ax.xaxis.set_major_formatter(mpl.dates.DateFormatter(fmt='%d'))\n",
    "ax.xaxis.set_major_locator(mpl.dates.WeekdayLocator(byweekday=mpl.dates.SU, interval=1))\n",
    "\n",
    "ax1 = ax.secondary_xaxis('bottom')\n",
    "ax1.spines['bottom'].set_position(('outward', 20))\n",
    "ax1.spines['bottom'].set_visible(False)\n",
    "ax1.tick_params(bottom=False, labelcolor='#909090')\n",
    "ax1.xaxis.set_major_formatter(mpl.dates.DateFormatter(fmt='%B'))\n",
    "ax1.xaxis.set_major_locator(mpl.dates.MonthLocator([4, 5, 6, 7]))\n",
    "\n",
    "axis_rstyle(x_slice=[1,-1], grid=False)\n",
    "\n",
    "plt.legend(**legend_inline(), **legend_create_handles(labels=months_list))\n",
    "plt.xlabel(None)\n",
    "plt.ylabel(None)\n",
    "\n",
    "plt.show()"
   ]
  },
  {
   "cell_type": "markdown",
   "id": "49b5b87b-00bf-4bae-af91-064d901d66e7",
   "metadata": {},
   "source": [
    "##### Anomaly #1\n",
    "2017-06-25 : 2017-07-02\n",
    "\n",
    "Diif in 'diffuseflows' first looks suspicious, but after detail check the decision is - it's not the reason of animaly."
   ]
  },
  {
   "cell_type": "code",
   "execution_count": null,
   "id": "d7deb417-df37-44a3-a1ab-031b7ea85e18",
   "metadata": {},
   "outputs": [],
   "source": [
    "plt.plot(\n",
    "    train.loc['2017-06-25': '2017-07-02'].groupby('year_day').mean().to_timestamp().index,\n",
    "    train.loc['2017-06-25': '2017-07-02'].groupby('year_day').mean()['target1']\n",
    ");"
   ]
  },
  {
   "cell_type": "code",
   "execution_count": null,
   "id": "be170278-b084-4022-b8fb-8cb47c6c3f96",
   "metadata": {},
   "outputs": [],
   "source": [
    "plt.plot(\n",
    "    train.loc['2017-06-24': '2017-06-30'].index,\n",
    "    train.loc['2017-06-24': '2017-06-30']['target1']\n",
    ");"
   ]
  },
  {
   "cell_type": "code",
   "execution_count": null,
   "id": "9a043dad-c9fc-4403-a4cf-887cf0e123da",
   "metadata": {},
   "outputs": [],
   "source": [
    "train.loc['2017-06-25': '2017-07-02'].groupby('year_day').mean()"
   ]
  },
  {
   "cell_type": "code",
   "execution_count": null,
   "id": "eabde23e-812e-4289-8512-eaad41c5db42",
   "metadata": {},
   "outputs": [],
   "source": [
    "fig = plt.figure(figsize=(10, 5))\n",
    "\n",
    "maxticks = 200\n",
    "dateslice = slice('2017-06-20', '2017-06-30')\n",
    "byhour = [6, 12]\n",
    "fmttime = '%H'\n",
    "\n",
    "plt.subplot(2, 1, 1)\n",
    "plt.plot(\n",
    "    train.loc[dateslice].index,\n",
    "    train.loc[dateslice]['target1']\n",
    ");\n",
    "\n",
    "ax = ax_current()\n",
    "ax.xaxis.set_major_formatter(mpl.dates.DateFormatter(fmt=fmttime))\n",
    "# ax.xaxis.set_major_locator(mpl.dates.AutoDateLocator(maxticks=maxticks))\n",
    "ax.xaxis.set_major_locator(mpl.dates.HourLocator(byhour=byhour))\n",
    "\n",
    "axis_rstyle(offset_left=15)\n",
    "\n",
    "plt.subplot(2, 1, 2)\n",
    "plt.plot(\n",
    "    train.loc[dateslice]['diffuseflows'].diff()\n",
    ")\n",
    "\n",
    "ax = ax_current()\n",
    "ax.xaxis.set_major_formatter(mpl.dates.DateFormatter(fmt=fmttime))\n",
    "# ax.xaxis.set_major_locator(mpl.dates.AutoDateLocator(maxticks=maxticks))\n",
    "ax.xaxis.set_major_locator(mpl.dates.HourLocator(byhour=byhour))\n",
    "\n",
    "ax1 = ax.secondary_xaxis('bottom')\n",
    "ax1.spines['bottom'].set_position(('outward', 18))\n",
    "ax1.spines['bottom'].set_visible(False)\n",
    "ax1.xaxis.set_major_formatter(mpl.dates.DateFormatter('%d %b'))\n",
    "ax1.xaxis.set_major_locator(mpl.dates.DayLocator())\n",
    "ax1.tick_params(axis='x', bottom=False, labelcolor='#909090')\n",
    "\n",
    "axis_rstyle(offset_left=15)"
   ]
  },
  {
   "cell_type": "code",
   "execution_count": null,
   "id": "4ae1f60b-789f-4e64-a7d9-374f2d2950e1",
   "metadata": {},
   "outputs": [],
   "source": [
    "plt.plot(\n",
    "    train.index,\n",
    "    train['diffuseflows'].diff()\n",
    ");"
   ]
  },
  {
   "cell_type": "markdown",
   "id": "8ef8a49c-1304-480f-8b7d-9e247138212d",
   "metadata": {},
   "source": [
    "### By Months with Daily mean"
   ]
  },
  {
   "cell_type": "markdown",
   "id": "79506527-5458-4304-b500-3572450e2ba4",
   "metadata": {},
   "source": [
    "#### April"
   ]
  },
  {
   "cell_type": "code",
   "execution_count": null,
   "id": "57c31220-b980-47ba-9584-c137f1e0171d",
   "metadata": {},
   "outputs": [],
   "source": [
    "fig, ax = plt.subplots(2,1, figsize=(10, 4), sharex=False)\n",
    "\n",
    "# plt.subplot(2, 1, 1)\n",
    "ax[0].plot(train[train['month']==4].index,\n",
    "    train[train['month']==4]['target1'],\n",
    "    color=palette[0]\n",
    ");\n",
    "fmt = mpl.dates.DateFormatter('%m-%d')\n",
    "ax[0].xaxis.set_major_formatter(fmt)\n",
    "\n",
    "axis_rstyle(\n",
    "    offset_bottom=15, offset_left=10,\n",
    "    y_ticks=[20000, 50000, 10000], y_lim=[18000, 50000],\n",
    "    grid=False, ax=ax[0]\n",
    ")\n",
    "    \n",
    "sns.lineplot(\n",
    "    data=train[train['month']==4],\n",
    "    x='day',\n",
    "    y='target1',\n",
    "    color=palette[0],\n",
    "    ax=ax[1]\n",
    ");\n",
    "\n",
    "ax[1].set_xticks(arange(2, 30, 7, True), labels=['Sunday']*5)\n",
    "ax[1].set_xticks(arange(2, 30, 7, True))\n",
    "\n",
    "axis_rstyle(\n",
    "    ax=ax[1], offset_bottom=15, offset_left=10, \n",
    "    y_ticks=[28000, 36000, 2000], y_lim=[28000, 36000],\n",
    "    grid=False, x_spine_hide=True\n",
    ")\n",
    "\n",
    "plt.xlabel(None)\n",
    "plt.ylabel(None)\n",
    "\n",
    "plt.subplots_adjust(hspace=0.5)\n",
    "plt.show()"
   ]
  },
  {
   "cell_type": "markdown",
   "id": "c8ca7c86-b42e-4e6d-a70c-35ae945156d0",
   "metadata": {},
   "source": [
    "#### May"
   ]
  },
  {
   "cell_type": "code",
   "execution_count": null,
   "id": "1a12c8ec-4061-4335-ad3f-81819d86a386",
   "metadata": {},
   "outputs": [],
   "source": [
    "fig, ax = plt.subplots(2,1, figsize=(10, 4), sharex=False)\n",
    "\n",
    "# plt.subplot(2, 1, 1)\n",
    "ax[0].plot(train[train['month']==5].index,\n",
    "    train[train['month']==5]['target1'],\n",
    "    color=palette[1]\n",
    ");\n",
    "fmt = mpl.dates.DateFormatter('%m-%d')\n",
    "ax[0].xaxis.set_major_formatter(fmt)\n",
    "\n",
    "axis_rstyle(\n",
    "    offset_bottom=15, offset_left=10,\n",
    "    y_ticks=[20000, 50000, 10000], y_lim=[18000, 50000],\n",
    "    grid=False, ax=ax[0]\n",
    ")\n",
    "    \n",
    "sns.lineplot(\n",
    "    data=train[train['month']==5],\n",
    "    x='day',\n",
    "    y='target1',\n",
    "    color=palette[1],\n",
    "    ax=ax[1]\n",
    ");\n",
    "multloc = mpl.ticker.MultipleLocator(base=7, offset=0)\n",
    "ax[1].xaxis.set_major_locator(multloc)\n",
    "ax[1].set_xticks(arange(7, 31, 7, True), labels=['Sunday']*4)\n",
    "\n",
    "axis_rstyle(\n",
    "    ax=ax[1], offset_bottom=15, offset_left=10, \n",
    "    y_ticks=[28000, 36000, 2000], y_lim=[28000, 36000],\n",
    "    grid=False, x_spine_hide=True\n",
    ")\n",
    "\n",
    "plt.xlabel(None)\n",
    "plt.ylabel(None)\n",
    "\n",
    "plt.subplots_adjust(hspace=0.5)\n",
    "plt.show()"
   ]
  },
  {
   "cell_type": "markdown",
   "id": "dce90f41-3ff8-47a9-994a-aa5940b63fdf",
   "metadata": {},
   "source": [
    "#### June"
   ]
  },
  {
   "cell_type": "code",
   "execution_count": null,
   "id": "f28e483e-8016-4618-9fd6-eaa5f004c299",
   "metadata": {},
   "outputs": [],
   "source": [
    "fig, ax = plt.subplots(2,1, figsize=(10, 4), sharex=False)\n",
    "\n",
    "# plt.subplot(2, 1, 1)\n",
    "ax[0].plot(train[train['month']==6].index,\n",
    "    train[train['month']==6]['target1'],\n",
    "    color=palette[2]\n",
    ");\n",
    "fmt = mpl.dates.DateFormatter('%m-%d')\n",
    "ax[0].xaxis.set_major_formatter(fmt)\n",
    "\n",
    "axis_rstyle(\n",
    "    offset_bottom=15, offset_left=10,\n",
    "    y_ticks=[20000, 50000, 10000], y_lim=[20000, 50000],\n",
    "    grid=False, ax=ax[0]\n",
    ")\n",
    "    \n",
    "sns.lineplot(\n",
    "    data=train[train['month']==6],\n",
    "    x='day',\n",
    "    y='target1',\n",
    "    color=palette[2],\n",
    "    ax=ax[1]\n",
    ");\n",
    "multloc = mpl.ticker.MultipleLocator(base=7, offset=0)\n",
    "ax[1].xaxis.set_major_locator(multloc)\n",
    "ax[1].set_xticks(arange(4, 30, 7, True), labels=['Sunday']*4)\n",
    "\n",
    "axis_rstyle(\n",
    "    ax=ax[1], offset_bottom=15, offset_left=10, \n",
    "    y_ticks=[28000, 40000, 4000], y_lim=[28000, 40000],\n",
    "    grid=False, x_spine_hide=True\n",
    ")\n",
    "\n",
    "plt.xlabel(None)\n",
    "plt.ylabel(None)\n",
    "\n",
    "plt.subplots_adjust(hspace=0.5)\n",
    "plt.show()"
   ]
  },
  {
   "cell_type": "markdown",
   "id": "2166ca3f-9142-4a49-a97d-ad57730c0457",
   "metadata": {},
   "source": [
    "#### July"
   ]
  },
  {
   "cell_type": "code",
   "execution_count": null,
   "id": "4deeb0e2-1ace-47a4-a372-0d241a9e7208",
   "metadata": {},
   "outputs": [],
   "source": [
    "fig, ax = plt.subplots(2,1, figsize=(10, 4), sharex=False)\n",
    "\n",
    "# plt.subplot(2, 1, 1)\n",
    "ax[0].plot(train[train['month']==7].index,\n",
    "    train[train['month']==7]['target1'],\n",
    "    color=palette[3]\n",
    ");\n",
    "fmt = mpl.dates.DateFormatter('%m-%d')\n",
    "ax[0].xaxis.set_major_formatter(fmt)\n",
    "\n",
    "axis_rstyle(\n",
    "    offset_bottom=15, offset_left=10,\n",
    "    y_ticks=[20000, 50000, 10000], y_lim=[20000, 50000],\n",
    "    grid=False, ax=ax[0]\n",
    ")\n",
    "\n",
    "sns.lineplot(\n",
    "    data=train[train['month']==7],\n",
    "    x='day',\n",
    "    y='target1',\n",
    "    color=palette[3],\n",
    "    ax=ax[1]\n",
    ");\n",
    "multloc = mpl.ticker.MultipleLocator(base=7, offset=0)\n",
    "ax[1].xaxis.set_major_locator(multloc)\n",
    "ax[1].set_xticks(arange(2, 30, 7, True), labels=['Sunday']*5)\n",
    "\n",
    "axis_rstyle(\n",
    "    ax=ax[1], offset_bottom=15, offset_left=10, \n",
    "    y_ticks=[30000, 40000, 2500], y_lim=[30000, 40000],\n",
    "    grid=False, x_spine_hide=True\n",
    ")\n",
    "\n",
    "plt.xlabel(None)\n",
    "plt.ylabel(None)\n",
    "\n",
    "plt.subplots_adjust(hspace=0.5)\n",
    "plt.show()"
   ]
  },
  {
   "cell_type": "markdown",
   "id": "62e16cc8-4cb2-4812-b8b0-0f03a7df8973",
   "metadata": {},
   "source": [
    "### Weekdays mean\n",
    "\n",
    "Create additional features: is_Friday and is_Sunday"
   ]
  },
  {
   "cell_type": "code",
   "execution_count": null,
   "id": "9a55866f-ca16-4160-9601-5ccd324de698",
   "metadata": {},
   "outputs": [],
   "source": [
    "sns.lineplot(\n",
    "    x=train['weekday'],\n",
    "    y=train['target1']\n",
    ");"
   ]
  },
  {
   "cell_type": "code",
   "execution_count": null,
   "id": "3cef55dc-c39d-40b9-b815-3a3ea67460df",
   "metadata": {},
   "outputs": [],
   "source": [
    "weekdays = np.sort(train['weekday'].unique())"
   ]
  },
  {
   "cell_type": "code",
   "execution_count": null,
   "id": "a2f95a2b-970c-4887-a0d0-7b2b91ed7ec1",
   "metadata": {},
   "outputs": [],
   "source": [
    "ncols = 2\n",
    "nrows = math.ceil(len(weekdays)/ncols)"
   ]
  },
  {
   "cell_type": "code",
   "execution_count": null,
   "id": "5df99ca8-861e-43db-9381-0d1072cac2ed",
   "metadata": {},
   "outputs": [],
   "source": [
    "fig = plt.figure()\n",
    "for i, v in enumerate(weekdays):\n",
    "    plt.plot(\n",
    "        train[train['weekday']==v].groupby('hour').mean().index,\n",
    "        train[train['weekday']==v].groupby('hour').mean()['target1'],\n",
    "        color=palette[v], lw=1, label=weekday_names_dict[v]\n",
    "    )\n",
    "leg = plt.legend(**legend_inline())\n",
    "for l in leg.legend_handles:\n",
    "    l.set_linewidth(1.5)\n",
    "axis_rstyle(x_ticks=[0, 24, 1])"
   ]
  },
  {
   "cell_type": "markdown",
   "id": "73561d4e-ab14-4732-8098-3ba089293671",
   "metadata": {},
   "source": [
    "#### Features 'is_Friday' and 'is_Sunday'"
   ]
  },
  {
   "cell_type": "code",
   "execution_count": null,
   "id": "a05fdf1b-45a9-4fa9-a886-e9adee2de8de",
   "metadata": {},
   "outputs": [],
   "source": [
    "train['is_Friday'] = (train['weekday']==4).astype(int)"
   ]
  },
  {
   "cell_type": "code",
   "execution_count": null,
   "id": "64bd5743-4ea5-44e2-9fe5-937220baad6c",
   "metadata": {},
   "outputs": [],
   "source": [
    "train['is_Sunday'] = (train['weekday']==6).astype(int)"
   ]
  },
  {
   "cell_type": "markdown",
   "id": "78ed421b-cec0-431f-9710-8fe1d515ac3c",
   "metadata": {},
   "source": [
    "### Days mean\n",
    "\n",
    "- Create additional feature: is_31  \n",
    "- Anomaly suspect near 2017-06-25"
   ]
  },
  {
   "cell_type": "code",
   "execution_count": null,
   "id": "3f912bac-0e48-425d-893a-246159992b74",
   "metadata": {},
   "outputs": [],
   "source": [
    "sns.lineplot(\n",
    "    x=train['day'],\n",
    "    y=train['target1'],\n",
    "    )\n",
    "plt.xticks(train.groupby('day').mean().index)\n",
    "plt.xlabel(None)\n",
    "plt.ylabel(None)\n",
    "axis_rstyle()\n",
    "\n",
    "plt.show()"
   ]
  },
  {
   "cell_type": "code",
   "execution_count": null,
   "id": "8a2c33dc-1ff5-4172-971c-90091e8b4821",
   "metadata": {},
   "outputs": [],
   "source": [
    "sns.barplot(\n",
    "    data=train,\n",
    "    x='day',\n",
    "    y='target1',\n",
    "    color=palette[-3],\n",
    "    err_kws={'color': palette[-4]}\n",
    ")\n",
    "ax = plt.gca()\n",
    "ax.set_ylim(30000, 38000)\n",
    "ax.set_xlabel(None)\n",
    "ax.set_ylabel(None)\n",
    "\n",
    "els_count = train.groupby('day').count().iloc[:, 0]\n",
    "for bar, count in zip(ax.patches, els_count):\n",
    "    ax.text(\n",
    "        bar.get_x()+bar.get_width()/1.75, 30250, count,\n",
    "        size=8,  color='#FEFEFE', weight='bold',\n",
    "        ha='center', va='bottom', rotation=90) \n",
    "\n",
    "axis_rstyle()"
   ]
  },
  {
   "cell_type": "markdown",
   "id": "341c8344-e9b3-46a9-96c4-50078b379233",
   "metadata": {},
   "source": [
    "#### Feature 'is_31'"
   ]
  },
  {
   "cell_type": "code",
   "execution_count": null,
   "id": "daeda5b2-d98d-4008-9b14-901cb7ef7669",
   "metadata": {},
   "outputs": [],
   "source": [
    "train['is_31'] = (train['day']==31).astype(int)"
   ]
  },
  {
   "cell_type": "raw",
   "id": "5e48d499-536a-4762-9123-4dda6879d2ac",
   "metadata": {},
   "source": [
    "train_agg_by_day = train.groupby('day_of_year').mean().copy()"
   ]
  },
  {
   "cell_type": "raw",
   "id": "dc92a386-1aac-4cac-8887-4a37c7177595",
   "metadata": {},
   "source": [
    "train_agg_by_day_sunday = train_agg_by_day.loc[train_agg_by_day['weekday']==7, 'year_day']"
   ]
  },
  {
   "cell_type": "markdown",
   "id": "cd9b295c-0937-4b1d-a858-dd37d2089102",
   "metadata": {},
   "source": [
    "#### Daily"
   ]
  },
  {
   "cell_type": "code",
   "execution_count": null,
   "id": "c61d12f5-e7bd-4e11-9e61-5d64a8fb927a",
   "metadata": {},
   "outputs": [],
   "source": [
    "fig, ax = plt.subplots(2, 1, figsize=(10, 5))\n",
    "\n",
    "ax[0].errorbar(\n",
    "    range(len(train[train['weekday']==3].groupby('hour').mean())),\n",
    "    train[train['weekday']==3].groupby('hour').mean()['target1'],\n",
    "    train[train['weekday']==3].groupby('hour')['target1'].std(),\n",
    "    ls='none',\n",
    "    marker='o',\n",
    "    markersize=2.5,\n",
    "    lw=1,\n",
    "    capsize=1.5\n",
    ");\n",
    "axis_rstyle(\n",
    "    ax=ax[0], x_ticks=[0, 23, 1], y_ticks=[10000, 60000, 10000],\n",
    "    margin=True)\n",
    "ax[0].set_ylim(10000, 60000)\n",
    "\n",
    "sns.boxplot(\n",
    "    y=train['target1'],\n",
    "    x=train['hour'],\n",
    "    width=0.25,\n",
    "    fill=False,\n",
    "    linewidth=1,\n",
    "    color=palette[-3],\n",
    "    flierprops=dict(markersize=1.5),\n",
    "    ax=ax[1]\n",
    ")\n",
    "axis_rstyle(\n",
    "    ax=ax[1], x_ticks=[0, 23, 1], y_ticks=[10000, 60000, 10000],\n",
    "    margin=True)\n",
    "ax[1].set_xlabel(None)\n",
    "ax[1].set_ylabel(None)\n",
    "ax[1].set_ylim(10000, 60000)\n",
    "\n",
    "plt.show()"
   ]
  },
  {
   "cell_type": "code",
   "execution_count": null,
   "id": "f2a0b1e7-648b-4f21-81e9-d994187f2c43",
   "metadata": {},
   "outputs": [],
   "source": [
    "fig = plt.figure()\n",
    "for i in arange(4,7, True):\n",
    "    sns.lineplot(\n",
    "        x=train.loc[f'2017-{str(i).zfill(2)}']['hour'],\n",
    "        y=train.loc[f'2017-{str(i).zfill(2)}']['target1'],\n",
    "        color=palette[i-4],\n",
    "        label=i\n",
    "    )\n",
    "    plt.axhline(\n",
    "        train.loc[f'2017-{str(i).zfill(2)}']['target1'].mean(),\n",
    "        0.01, 0.99, ls='--', alpha=0.75, color=palette[i-5])\n",
    "    \n",
    "plt.xticks(range(24))\n",
    "plt.legend(**legend_create_handles(labels=months_list), **legend_inline())\n",
    "axis_rstyle()\n",
    "\n",
    "plt.xlabel(None)\n",
    "plt.ylabel(None)\n",
    "\n",
    "plt.show()"
   ]
  },
  {
   "cell_type": "code",
   "execution_count": null,
   "id": "0338df04-6b5a-4d24-a57f-99693dda1ad4",
   "metadata": {},
   "outputs": [],
   "source": [
    "sns.histplot(\n",
    "    x=train[train['hour']==2]['target1'],\n",
    "    hue=train[train['hour']==2]['year_month'],\n",
    "    bins=100\n",
    ")\n",
    "plt.legend(\n",
    "    **legend_create_handles(\n",
    "        4, kind='rect', alpha=0.5, labels=months_list),\n",
    "    **legend_inline(4))\n",
    "axis_rstyle()\n",
    "\n",
    "plt.xlabel(None)\n",
    "plt.ylabel(None)\n",
    "\n",
    "plt.show()"
   ]
  },
  {
   "cell_type": "markdown",
   "id": "b3ad8330-01c7-41ac-aadb-cbeba7b3ba3f",
   "metadata": {},
   "source": [
    "## Stationarity\n",
    "\n",
    "p< 0.05: Enough evidence to say, that process is stationarity"
   ]
  },
  {
   "cell_type": "code",
   "execution_count": null,
   "id": "e7b0e19c-bd75-421b-8782-21f9267abd9c",
   "metadata": {},
   "outputs": [],
   "source": [
    "# NULL: non-stationarity\n",
    "sm.tsa.stattools.adfuller(train['target1'])"
   ]
  },
  {
   "cell_type": "markdown",
   "id": "069a328e-fb90-4e1e-afc1-d21b48f90d31",
   "metadata": {},
   "source": [
    "## Trend and Seasonality of aggregated by Day data"
   ]
  },
  {
   "cell_type": "code",
   "execution_count": null,
   "id": "ea9a20a1-9b3f-41ec-a8d1-b1374565b78d",
   "metadata": {},
   "outputs": [],
   "source": [
    "stl_day = statsmodels.tsa.seasonal.STL(train.resample('d').mean()['target1']).fit()"
   ]
  },
  {
   "cell_type": "code",
   "execution_count": null,
   "id": "ef86b61a-d8c8-4f31-b84a-2bde4f7f1fa5",
   "metadata": {},
   "outputs": [],
   "source": [
    "fig = plt.figure(figsize=(10, 8))\n",
    "\n",
    "plt.subplot(4,1,1)\n",
    "plt.plot(stl_day.observed)\n",
    "\n",
    "plt.subplot(4,1,2)\n",
    "plt.plot(stl_day.trend)\n",
    "\n",
    "plt.subplot(4,1,3)\n",
    "plt.plot(stl_day.seasonal)\n",
    "\n",
    "plt.subplot(4,1,4)\n",
    "plt.bar(x=train.resample('D').mean().index, height=stl_day.resid, width=0.5)\n",
    "\n",
    "plt.show()"
   ]
  },
  {
   "cell_type": "markdown",
   "id": "b1cc193b-0a00-4b26-abaa-c79fefa2a401",
   "metadata": {},
   "source": [
    "#### Detrending"
   ]
  },
  {
   "cell_type": "markdown",
   "id": "b91e9bdd-56d8-4c9a-93d8-97dada57742f",
   "metadata": {},
   "source": [
    "##### Differencing"
   ]
  },
  {
   "cell_type": "code",
   "execution_count": null,
   "id": "9022fcc5-c4d6-4832-83f0-98cfa06df1fa",
   "metadata": {},
   "outputs": [],
   "source": [
    "train['target1_diff'] = train['target1'].diff().copy()"
   ]
  },
  {
   "cell_type": "code",
   "execution_count": null,
   "id": "d50c72b0-d99a-4366-8210-46070a94b339",
   "metadata": {},
   "outputs": [],
   "source": [
    "fig = plt.figure(figsize=(10, 5))\n",
    "\n",
    "plt.subplot(2,1,1)\n",
    "plt.plot(\n",
    "    train.index,\n",
    "    train['target1_diff']\n",
    ");\n",
    "plt.subplot(2,1,2)\n",
    "plt.plot(\n",
    "    train.index,\n",
    "    train['target1']\n",
    ");"
   ]
  },
  {
   "cell_type": "markdown",
   "id": "be2622f4-2f60-454b-a714-2f5e57e20382",
   "metadata": {},
   "source": [
    "##### Returns"
   ]
  },
  {
   "cell_type": "code",
   "execution_count": null,
   "id": "a2c6bedb-b70a-4591-92c5-2e9048106019",
   "metadata": {},
   "outputs": [],
   "source": [
    "train['target1_returns'] = train['target1'].pct_change(1).mul(100)"
   ]
  },
  {
   "cell_type": "code",
   "execution_count": null,
   "id": "a11931fb-461d-4723-86dd-112e15efce54",
   "metadata": {},
   "outputs": [],
   "source": [
    "fig = plt.figure(figsize=(10, 5))\n",
    "\n",
    "plt.subplot(2,1,1)\n",
    "plt.plot(\n",
    "    train.index,\n",
    "    train['target1_returns']\n",
    ");\n",
    "plt.subplot(2,1,2)\n",
    "plt.plot(\n",
    "    train.index,\n",
    "    train['target1']\n",
    ");"
   ]
  },
  {
   "cell_type": "markdown",
   "id": "0cd89075-2089-48ba-8c13-017f265faab3",
   "metadata": {},
   "source": [
    "##### Volatility"
   ]
  },
  {
   "cell_type": "code",
   "execution_count": null,
   "id": "39c1d721-387f-402a-9a94-ab8501c36fc4",
   "metadata": {},
   "outputs": [],
   "source": [
    "train['target1_volatility'] = (train['target1_returns']**2).copy()"
   ]
  },
  {
   "cell_type": "code",
   "execution_count": null,
   "id": "a97d87eb-4e27-4ddd-87a0-c24428cb3cee",
   "metadata": {},
   "outputs": [],
   "source": [
    "fig = plt.figure(figsize=(10, 5))\n",
    "\n",
    "plt.subplot(2,1,1)\n",
    "plt.plot(\n",
    "    train.index,\n",
    "    train['target1_volatility']\n",
    ");\n",
    "plt.subplot(2,1,2)\n",
    "plt.plot(\n",
    "    train.index,\n",
    "    train['target1']\n",
    ");"
   ]
  },
  {
   "cell_type": "markdown",
   "id": "b568cdbe-a322-4866-98d1-c34cf9cae0f6",
   "metadata": {},
   "source": [
    "##### Anomaly #2\n",
    "\n",
    "index: 2017-04-20 12:10:00  \n",
    "volatility: 2862.029840"
   ]
  },
  {
   "cell_type": "code",
   "execution_count": null,
   "id": "2a3c9c58-d912-4abd-aba8-031da9499c01",
   "metadata": {},
   "outputs": [],
   "source": [
    "train['target1_volatility'].sort_values()"
   ]
  },
  {
   "cell_type": "code",
   "execution_count": null,
   "id": "c28a352b-f4ee-4057-802d-2d33f75113ce",
   "metadata": {},
   "outputs": [],
   "source": [
    "train.loc['2017-04-20 11:40':'2017-04-20 13:0']"
   ]
  },
  {
   "cell_type": "code",
   "execution_count": null,
   "id": "11ecc5d7-dfff-484c-a756-387559fa94ec",
   "metadata": {},
   "outputs": [],
   "source": [
    "plt.plot(\n",
    "    train.loc['2017-04-20 11:40:00':'2017-04-20 13:00:00'].index,\n",
    "    train.loc['2017-04-20 11:40:00':'2017-04-20 13:00:00']['target1']\n",
    ");"
   ]
  },
  {
   "cell_type": "code",
   "execution_count": null,
   "id": "9b40508b-dd05-4f3d-a27e-8400d0094fa4",
   "metadata": {},
   "outputs": [],
   "source": [
    "fig, ax = plt.subplots(3,1, figsize=(10, 7.5))\n",
    "\n",
    "for i, v in enumerate(['target1', 'target2', 'target3']):\n",
    "    ax[i].plot(\n",
    "        train.loc['2017-04-17':'2017-04-23'].index,\n",
    "        train.loc['2017-04-17':'2017-04-23'][v]\n",
    "    );"
   ]
  },
  {
   "cell_type": "code",
   "execution_count": null,
   "id": "613bdc39-55d4-43e7-9c92-546454381b6f",
   "metadata": {},
   "outputs": [],
   "source": [
    "train.loc['2017-04-20'].index.day_name()[0]"
   ]
  },
  {
   "cell_type": "markdown",
   "id": "5f1ab939-f622-4689-9213-3fe4e4a5f312",
   "metadata": {},
   "source": [
    "##### Anomaly #3\n",
    "\n",
    "index: 2017-05-31 11:30:00  \n",
    "volatility: 438.955206"
   ]
  },
  {
   "cell_type": "code",
   "execution_count": null,
   "id": "1d74fc66-2d1b-4ec0-9cb2-83918f48e3d5",
   "metadata": {},
   "outputs": [],
   "source": [
    "train['target1_volatility'].sort_values()"
   ]
  },
  {
   "cell_type": "code",
   "execution_count": null,
   "id": "99f70923-f834-41a5-89c1-59b22c6bdca0",
   "metadata": {},
   "outputs": [],
   "source": [
    "train.loc['2017-05-31 11:15':'2017-05-31 11:55']"
   ]
  },
  {
   "cell_type": "code",
   "execution_count": null,
   "id": "ae682382-ecf7-4a25-bfba-25fc034cbcca",
   "metadata": {},
   "outputs": [],
   "source": [
    "plt.plot(\n",
    "    train.loc['2017-05-31 11:00':'2017-05-31 12:30'].index,\n",
    "    train.loc['2017-05-31 11:00':'2017-05-31 12:30']['target1']\n",
    ");"
   ]
  },
  {
   "cell_type": "code",
   "execution_count": null,
   "id": "4cfc8287-f9b8-4519-bdd4-f349f4658992",
   "metadata": {},
   "outputs": [],
   "source": [
    "fig, ax = plt.subplots(3,1, figsize=(10, 7.5))\n",
    "\n",
    "for i, v in enumerate(['target1', 'target2', 'target3']):\n",
    "    ax[i].plot(\n",
    "        train.loc['2017-05-30':'2017-06-02'].index,\n",
    "        train.loc['2017-05-30':'2017-06-02'][v]\n",
    "    );"
   ]
  },
  {
   "cell_type": "markdown",
   "id": "55c8cf41-b2de-4e6d-86e9-4349ffa5594b",
   "metadata": {},
   "source": [
    "## Autocorrelation"
   ]
  },
  {
   "cell_type": "markdown",
   "id": "6f86c73f-9f48-4f57-9712-3c5824f2889c",
   "metadata": {},
   "source": [
    "#### ACF - 40 period"
   ]
  },
  {
   "cell_type": "code",
   "execution_count": null,
   "id": "945364a6-8b96-47f3-9636-403e0891a924",
   "metadata": {},
   "outputs": [],
   "source": [
    "acf40 = ts_acf_calculate(train['target1'], lags=40)"
   ]
  },
  {
   "cell_type": "code",
   "execution_count": null,
   "id": "ba917453-5f39-4982-826f-dd3182687527",
   "metadata": {},
   "outputs": [],
   "source": [
    "plot_acf(acf40)"
   ]
  },
  {
   "cell_type": "code",
   "execution_count": null,
   "id": "0d9c0038-44a3-4dfc-a10f-2ef143a7f4e0",
   "metadata": {},
   "outputs": [],
   "source": [
    "ts_acf_last_significant_index(acf40[:, 1:])"
   ]
  },
  {
   "cell_type": "markdown",
   "id": "2b7f7520-7c89-4855-80eb-9ae105856472",
   "metadata": {},
   "source": [
    "#### ACF - 300 period"
   ]
  },
  {
   "cell_type": "code",
   "execution_count": null,
   "id": "a5f9d559-2110-48f2-9a27-8a3884faed0c",
   "metadata": {},
   "outputs": [],
   "source": [
    "acf300 = ts_acf_calculate(train['target1'], lags=300)"
   ]
  },
  {
   "cell_type": "code",
   "execution_count": null,
   "id": "9a7ad78b-cd28-476c-9209-48755445a43e",
   "metadata": {},
   "outputs": [],
   "source": [
    "plot_acf(acf300, transparency_lines=0.25)"
   ]
  },
  {
   "cell_type": "markdown",
   "id": "660289d0-ef2c-41a7-a5bd-5f274a8260d4",
   "metadata": {},
   "source": [
    "#### PACF - 40 period"
   ]
  },
  {
   "cell_type": "code",
   "execution_count": null,
   "id": "47e565a6-0ec6-4bbb-b6d4-bbb1053b3cc6",
   "metadata": {},
   "outputs": [],
   "source": [
    "pacf40 = ts_acf_calculate(train['target1'], lags=40, partial=True)"
   ]
  },
  {
   "cell_type": "code",
   "execution_count": null,
   "id": "507ccaf6-f794-4d10-9e5f-7e9354c3c900",
   "metadata": {},
   "outputs": [],
   "source": [
    "plot_acf(pacf40, scatter=True)"
   ]
  },
  {
   "cell_type": "code",
   "execution_count": null,
   "id": "b52de8f3-0d29-485f-8c2d-ae1293858e3d",
   "metadata": {},
   "outputs": [],
   "source": [
    "ts_acf_last_significant_index(pacf40[:, 1:])"
   ]
  },
  {
   "cell_type": "markdown",
   "id": "4179a15c-1cc1-4dc2-9cc1-b19cda30594b",
   "metadata": {},
   "source": [
    "### Scatterplots Matrix\n",
    "\n",
    "No non-linear relationships"
   ]
  },
  {
   "cell_type": "code",
   "execution_count": null,
   "id": "e0d2018a-5a2e-42e3-9c34-dd604153bd26",
   "metadata": {},
   "outputs": [],
   "source": [
    "ts_scatterplot_matrix(\n",
    "    train['target1'],\n",
    "    lags=12, ncols=3, s=0.5, figsize=(9, 7))"
   ]
  },
  {
   "cell_type": "code",
   "execution_count": null,
   "id": "f3e17a04-9e25-4340-8547-9b7bc905dae5",
   "metadata": {},
   "outputs": [],
   "source": [
    "scipy.stats.pearsonr(\n",
    "    train['target1_diff'][2:],\n",
    "    train['target1_diff'].shift(1)[2:]\n",
    ")"
   ]
  },
  {
   "cell_type": "code",
   "execution_count": null,
   "id": "e6ae3350-0d5f-4526-ae14-2515328c6955",
   "metadata": {},
   "outputs": [],
   "source": [
    "scipy.stats.pearsonr(\n",
    "    train['target1_returns'][2:],\n",
    "    train['target1_returns'].shift(1)[2:]\n",
    ")"
   ]
  },
  {
   "cell_type": "code",
   "execution_count": null,
   "id": "479e6ed9-5fd2-4d6f-ab68-7ab8cc12ddf4",
   "metadata": {},
   "outputs": [],
   "source": [
    "scipy.stats.pearsonr(\n",
    "    train['target1_volatility'][2:],\n",
    "    train['target1_volatility'].shift(1)[2:]\n",
    ")"
   ]
  },
  {
   "cell_type": "markdown",
   "id": "8146e9cd-46cd-47d6-b3bd-6d613b634538",
   "metadata": {},
   "source": [
    "#### Predictors"
   ]
  },
  {
   "cell_type": "raw",
   "id": "19abcfe3-0c29-424a-95f2-76c52b2e88d5",
   "metadata": {},
   "source": [
    "ts_scatterplot_matrix(\n",
    "    x=train['temperature'], y=train['target1'],\n",
    "    figtitle='Target1 vs Temperature', lowess=True,\n",
    "    lags=12, ncols=3, s=0.5, figsize=(9, 12), constrained_layout=True)"
   ]
  },
  {
   "cell_type": "raw",
   "id": "26065606-6369-446f-886d-85dbeb5b251a",
   "metadata": {},
   "source": [
    "ts_scatterplot_matrix(\n",
    "    x=train['diffuseflows'], y=train['target1'],\n",
    "    figtitle='Target1 vs Вiffuseflows', lowess=True,\n",
    "    lags=12, ncols=3, s=0.5, figsize=(9, 12), constrained_layout=True)"
   ]
  },
  {
   "cell_type": "raw",
   "id": "bb57fc96-99e7-45a6-bad5-2f382d191f67",
   "metadata": {},
   "source": [
    "ts_scatterplot_matrix(\n",
    "    x=train['generaldiffuseflows'], y=train['target1'],\n",
    "    figtitle='Target1 vs Generaldiffuseflows', lowess=True,\n",
    "    lags=12, ncols=3, s=0.5, figsize=(9, 12), constrained_layout=True)"
   ]
  },
  {
   "cell_type": "markdown",
   "id": "269879b0-78e2-496d-9960-6fffa10eb2c8",
   "metadata": {},
   "source": [
    "### P\n",
    "\n",
    "xt = (1 + pt)xt−1"
   ]
  },
  {
   "cell_type": "code",
   "execution_count": null,
   "id": "ea311641-d746-47e8-8971-fdc45d6e7643",
   "metadata": {},
   "outputs": [],
   "source": [
    "train['p'] = train['target1'] / train['target1'].shift(1) - 1"
   ]
  },
  {
   "cell_type": "code",
   "execution_count": null,
   "id": "020be36e-149e-4387-84cd-01c6bb06d562",
   "metadata": {},
   "outputs": [],
   "source": [
    "plt.hist(train['p'], bins=150);"
   ]
  },
  {
   "cell_type": "code",
   "execution_count": null,
   "id": "b0cd0ca6-0e4f-4581-9517-94ca41e5d2b3",
   "metadata": {},
   "outputs": [],
   "source": [
    "plt.hist(train.loc[train['p']<-0.05, 'p'], bins=100);"
   ]
  },
  {
   "cell_type": "code",
   "execution_count": null,
   "id": "f18c9c25-2d5f-4879-a1f8-77886a949f33",
   "metadata": {},
   "outputs": [],
   "source": [
    "plt.hist(train.loc[train['p']>0.05, 'p'], bins=100);"
   ]
  },
  {
   "cell_type": "markdown",
   "id": "e7bf31b9-27ea-4e8d-bd25-aaeb6f1799f5",
   "metadata": {},
   "source": [
    "## Feature Engineering"
   ]
  },
  {
   "cell_type": "code",
   "execution_count": null,
   "id": "528f2523-1ea7-4f01-b155-b5cd320801d7",
   "metadata": {},
   "outputs": [],
   "source": [
    "train.head(3)"
   ]
  },
  {
   "cell_type": "markdown",
   "id": "7dafce62-1492-47dc-a313-f5b3c6fa417e",
   "metadata": {},
   "source": [
    "#### Cumulative average of Target1"
   ]
  },
  {
   "cell_type": "code",
   "execution_count": null,
   "id": "e6e37dc5-13bf-4302-bea8-5afb52c04eae",
   "metadata": {},
   "outputs": [],
   "source": [
    "train['target1_cum_avg'] = \\\n",
    "    (train.groupby('day_of_year')['target1'].cumsum().values\n",
    "     / train['count_elmnts_by_day'].values)"
   ]
  },
  {
   "cell_type": "code",
   "execution_count": null,
   "id": "da40f5e7-cbec-418b-9a6f-d4f3370f0b7b",
   "metadata": {},
   "outputs": [],
   "source": [
    "plt.plot(train['target1_cum_avg'][:143*10]);"
   ]
  },
  {
   "cell_type": "code",
   "execution_count": null,
   "id": "2afdd685-e9e3-40ee-b836-da5b709f8dd1",
   "metadata": {},
   "outputs": [],
   "source": [
    "scipy.stats.pearsonr(\n",
    "    train['target1_cum_avg'].shift()[1:],\n",
    "    train['target1'][1:]\n",
    ")"
   ]
  },
  {
   "cell_type": "code",
   "execution_count": null,
   "id": "3a8334a0-83eb-47af-99ee-56a2046d0337",
   "metadata": {},
   "outputs": [],
   "source": [
    "scipy.stats.pearsonr(\n",
    "    train['target1_cum_avg'].shift()[1:],\n",
    "    train['target1_cum_avg'][1:]\n",
    ")"
   ]
  },
  {
   "cell_type": "markdown",
   "id": "77a3871e-54b3-4be4-9369-9ec4a74c32f7",
   "metadata": {},
   "source": [
    "### Save Session"
   ]
  },
  {
   "cell_type": "raw",
   "id": "c72b2db9-b708-4622-ad34-9a51c154efab",
   "metadata": {},
   "source": [
    "save_session(dir_save)"
   ]
  },
  {
   "cell_type": "markdown",
   "id": "bd74c7d1-8998-4567-ad7b-63bbb7a7f71a",
   "metadata": {},
   "source": [
    "### Execution time"
   ]
  },
  {
   "cell_type": "code",
   "execution_count": null,
   "id": "7296d512-ccdf-46f2-bd89-9be792d545b6",
   "metadata": {},
   "outputs": [],
   "source": [
    "print(f'Execution time: {stopwatch.stop(start)}')"
   ]
  }
 ],
 "metadata": {
  "kernelspec": {
   "display_name": "electric_power_consumption",
   "language": "python",
   "name": "electric_power_consumption"
  },
  "language_info": {
   "codemirror_mode": {
    "name": "ipython",
    "version": 3
   },
   "file_extension": ".py",
   "mimetype": "text/x-python",
   "name": "python",
   "nbconvert_exporter": "python",
   "pygments_lexer": "ipython3",
   "version": "3.12.2"
  }
 },
 "nbformat": 4,
 "nbformat_minor": 5
}
