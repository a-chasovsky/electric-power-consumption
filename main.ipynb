{
 "cells": [
  {
   "cell_type": "code",
   "execution_count": 48,
   "id": "558e201e-d7f1-4fcc-be02-e674951491fb",
   "metadata": {},
   "outputs": [],
   "source": [
    "# run stopwatch\n",
    "from tools import Stopwatch\n",
    "stopwatch = Stopwatch()\n",
    "start = stopwatch.start()"
   ]
  },
  {
   "cell_type": "markdown",
   "id": "a263cdcf-2c8a-432d-b9a9-9f225bb61ddd",
   "metadata": {},
   "source": [
    "### Load libraries, functions, palette, theme"
   ]
  },
  {
   "cell_type": "code",
   "execution_count": 49,
   "id": "dac00212-4d8f-42aa-825b-ed3f6754c3a7",
   "metadata": {},
   "outputs": [],
   "source": [
    "%run _libraries.ipynb"
   ]
  },
  {
   "cell_type": "code",
   "execution_count": 50,
   "id": "1617635d-0034-43b2-a560-25984499e847",
   "metadata": {},
   "outputs": [],
   "source": [
    "%run _functions.ipynb"
   ]
  },
  {
   "cell_type": "raw",
   "id": "f1fde4c4-237b-406c-8ab4-627617692bb1",
   "metadata": {},
   "source": [
    "dir_save = ''"
   ]
  },
  {
   "cell_type": "markdown",
   "id": "29beaf88-707a-4d9b-be4b-4885dd752ce7",
   "metadata": {},
   "source": [
    "# Section I. Overview"
   ]
  },
  {
   "cell_type": "markdown",
   "id": "6a0e3259-ebaf-4e9c-be3e-125a948e27ca",
   "metadata": {},
   "source": [
    "## Load Saved Section if exists"
   ]
  },
  {
   "cell_type": "raw",
   "id": "8117fd61-1e0a-4994-97b7-315e1631f953",
   "metadata": {},
   "source": [
    "if os.path.exists(f'sessions/{dir_save}'):\n",
    "    load_session(dir_save)\n",
    "else:\n",
    "    print(f\"No such session: 'sessions/{dir_save}'\")"
   ]
  },
  {
   "cell_type": "markdown",
   "id": "73b7edbb-d5f0-49fd-9963-16de3da0285a",
   "metadata": {
    "id": "c7980b49-f759-4a9d-bf5e-0eb93a75615a",
    "tags": []
   },
   "source": [
    "## Load Data"
   ]
  },
  {
   "cell_type": "code",
   "execution_count": 51,
   "id": "467632f1-371f-41be-a881-7cf19f0ea23f",
   "metadata": {},
   "outputs": [],
   "source": [
    "data_raw = pd.read_csv('data/powerconsumption.csv')"
   ]
  },
  {
   "cell_type": "code",
   "execution_count": 52,
   "id": "7ffd736d-8a96-41d4-895c-94a1494812bb",
   "metadata": {},
   "outputs": [
    {
     "data": {
      "text/html": [
       "<div>\n",
       "<style scoped>\n",
       "    .dataframe tbody tr th:only-of-type {\n",
       "        vertical-align: middle;\n",
       "    }\n",
       "\n",
       "    .dataframe tbody tr th {\n",
       "        vertical-align: top;\n",
       "    }\n",
       "\n",
       "    .dataframe thead th {\n",
       "        text-align: right;\n",
       "    }\n",
       "</style>\n",
       "<table border=\"1\" class=\"dataframe\">\n",
       "  <thead>\n",
       "    <tr style=\"text-align: right;\">\n",
       "      <th></th>\n",
       "      <th>Datetime</th>\n",
       "      <th>Temperature</th>\n",
       "      <th>Humidity</th>\n",
       "      <th>WindSpeed</th>\n",
       "      <th>GeneralDiffuseFlows</th>\n",
       "      <th>DiffuseFlows</th>\n",
       "      <th>PowerConsumption_Zone1</th>\n",
       "      <th>PowerConsumption_Zone2</th>\n",
       "      <th>PowerConsumption_Zone3</th>\n",
       "    </tr>\n",
       "  </thead>\n",
       "  <tbody>\n",
       "    <tr>\n",
       "      <th>0</th>\n",
       "      <td>1/1/2017 0:00</td>\n",
       "      <td>6.559</td>\n",
       "      <td>73.8</td>\n",
       "      <td>0.083</td>\n",
       "      <td>0.051</td>\n",
       "      <td>0.119</td>\n",
       "      <td>34055.69620</td>\n",
       "      <td>16128.87538</td>\n",
       "      <td>20240.96386</td>\n",
       "    </tr>\n",
       "    <tr>\n",
       "      <th>1</th>\n",
       "      <td>1/1/2017 0:10</td>\n",
       "      <td>6.414</td>\n",
       "      <td>74.5</td>\n",
       "      <td>0.083</td>\n",
       "      <td>0.070</td>\n",
       "      <td>0.085</td>\n",
       "      <td>29814.68354</td>\n",
       "      <td>19375.07599</td>\n",
       "      <td>20131.08434</td>\n",
       "    </tr>\n",
       "    <tr>\n",
       "      <th>2</th>\n",
       "      <td>1/1/2017 0:20</td>\n",
       "      <td>6.313</td>\n",
       "      <td>74.5</td>\n",
       "      <td>0.080</td>\n",
       "      <td>0.062</td>\n",
       "      <td>0.100</td>\n",
       "      <td>29128.10127</td>\n",
       "      <td>19006.68693</td>\n",
       "      <td>19668.43373</td>\n",
       "    </tr>\n",
       "    <tr>\n",
       "      <th>3</th>\n",
       "      <td>1/1/2017 0:30</td>\n",
       "      <td>6.121</td>\n",
       "      <td>75.0</td>\n",
       "      <td>0.083</td>\n",
       "      <td>0.091</td>\n",
       "      <td>0.096</td>\n",
       "      <td>28228.86076</td>\n",
       "      <td>18361.09422</td>\n",
       "      <td>18899.27711</td>\n",
       "    </tr>\n",
       "    <tr>\n",
       "      <th>4</th>\n",
       "      <td>1/1/2017 0:40</td>\n",
       "      <td>5.921</td>\n",
       "      <td>75.7</td>\n",
       "      <td>0.081</td>\n",
       "      <td>0.048</td>\n",
       "      <td>0.085</td>\n",
       "      <td>27335.69620</td>\n",
       "      <td>17872.34043</td>\n",
       "      <td>18442.40964</td>\n",
       "    </tr>\n",
       "  </tbody>\n",
       "</table>\n",
       "</div>"
      ],
      "text/plain": [
       "        Datetime  Temperature  Humidity  WindSpeed  GeneralDiffuseFlows  \\\n",
       "0  1/1/2017 0:00        6.559      73.8      0.083                0.051   \n",
       "1  1/1/2017 0:10        6.414      74.5      0.083                0.070   \n",
       "2  1/1/2017 0:20        6.313      74.5      0.080                0.062   \n",
       "3  1/1/2017 0:30        6.121      75.0      0.083                0.091   \n",
       "4  1/1/2017 0:40        5.921      75.7      0.081                0.048   \n",
       "\n",
       "   DiffuseFlows  PowerConsumption_Zone1  PowerConsumption_Zone2  \\\n",
       "0         0.119             34055.69620             16128.87538   \n",
       "1         0.085             29814.68354             19375.07599   \n",
       "2         0.100             29128.10127             19006.68693   \n",
       "3         0.096             28228.86076             18361.09422   \n",
       "4         0.085             27335.69620             17872.34043   \n",
       "\n",
       "   PowerConsumption_Zone3  \n",
       "0             20240.96386  \n",
       "1             20131.08434  \n",
       "2             19668.43373  \n",
       "3             18899.27711  \n",
       "4             18442.40964  "
      ]
     },
     "execution_count": 52,
     "metadata": {},
     "output_type": "execute_result"
    }
   ],
   "source": [
    "data_raw.head()"
   ]
  },
  {
   "cell_type": "markdown",
   "id": "0493603e-f23b-4a69-941d-dfe134d551b2",
   "metadata": {},
   "source": [
    "#### Transform names"
   ]
  },
  {
   "cell_type": "code",
   "execution_count": 53,
   "id": "e413f9ef-52e8-4484-b31f-022ec1ec4ea8",
   "metadata": {},
   "outputs": [],
   "source": [
    "data_raw = data_raw.rename(columns={\n",
    "    'PowerConsumption_Zone1': 'target1',\n",
    "    'PowerConsumption_Zone2': 'target2',\n",
    "    'PowerConsumption_Zone3': 'target3'\n",
    "})"
   ]
  },
  {
   "cell_type": "code",
   "execution_count": 54,
   "id": "6bc090ed-3f80-4d06-af61-41b7bfc89250",
   "metadata": {},
   "outputs": [],
   "source": [
    "data_raw.columns = map(str.lower, data_raw.columns)"
   ]
  },
  {
   "cell_type": "markdown",
   "id": "c7919cd2-1ad9-4da6-bab4-daa914d186c2",
   "metadata": {},
   "source": [
    "#### Date to index"
   ]
  },
  {
   "cell_type": "code",
   "execution_count": 55,
   "id": "835cd2a8-450b-447b-837e-345688e731fe",
   "metadata": {},
   "outputs": [],
   "source": [
    "data_raw['datetime'] = pd.to_datetime(data_raw['datetime'])"
   ]
  },
  {
   "cell_type": "code",
   "execution_count": 56,
   "id": "14020b18-ed62-47de-ae02-65055d0d8ff4",
   "metadata": {},
   "outputs": [],
   "source": [
    "data_raw = data_raw.set_index(data_raw['datetime'], drop=True)"
   ]
  },
  {
   "cell_type": "code",
   "execution_count": 57,
   "id": "b99d3eb6-0473-4619-9a8f-2a4d7b67b5a3",
   "metadata": {},
   "outputs": [],
   "source": [
    "data_raw.index.name = None"
   ]
  },
  {
   "cell_type": "code",
   "execution_count": 58,
   "id": "7af03831-f57e-4d6a-8ac4-7661384ffde2",
   "metadata": {},
   "outputs": [],
   "source": [
    "data_raw = data_raw.drop(columns='datetime')"
   ]
  },
  {
   "cell_type": "markdown",
   "id": "dba62e2e-398f-429e-8ad1-633524acae2e",
   "metadata": {},
   "source": [
    "#### Check duplicates"
   ]
  },
  {
   "cell_type": "code",
   "execution_count": 59,
   "id": "ad946766-29a3-4519-a79e-a60ccf57877e",
   "metadata": {},
   "outputs": [
    {
     "data": {
      "text/html": [
       "<div>\n",
       "<style scoped>\n",
       "    .dataframe tbody tr th:only-of-type {\n",
       "        vertical-align: middle;\n",
       "    }\n",
       "\n",
       "    .dataframe tbody tr th {\n",
       "        vertical-align: top;\n",
       "    }\n",
       "\n",
       "    .dataframe thead th {\n",
       "        text-align: right;\n",
       "    }\n",
       "</style>\n",
       "<table border=\"1\" class=\"dataframe\">\n",
       "  <thead>\n",
       "    <tr style=\"text-align: right;\">\n",
       "      <th></th>\n",
       "      <th>temperature</th>\n",
       "      <th>humidity</th>\n",
       "      <th>windspeed</th>\n",
       "      <th>generaldiffuseflows</th>\n",
       "      <th>diffuseflows</th>\n",
       "      <th>target1</th>\n",
       "      <th>target2</th>\n",
       "      <th>target3</th>\n",
       "    </tr>\n",
       "  </thead>\n",
       "  <tbody>\n",
       "  </tbody>\n",
       "</table>\n",
       "</div>"
      ],
      "text/plain": [
       "Empty DataFrame\n",
       "Columns: [temperature, humidity, windspeed, generaldiffuseflows, diffuseflows, target1, target2, target3]\n",
       "Index: []"
      ]
     },
     "execution_count": 59,
     "metadata": {},
     "output_type": "execute_result"
    }
   ],
   "source": [
    "data_raw[data_raw.duplicated()]"
   ]
  },
  {
   "cell_type": "markdown",
   "id": "2e49827a-13ea-4193-a1c6-b099be45eb2d",
   "metadata": {
    "id": "1bb693df-937d-4f1e-ac18-9207d45acfab"
   },
   "source": [
    "## Data Split"
   ]
  },
  {
   "cell_type": "code",
   "execution_count": 60,
   "id": "3ca350c6-33f4-4aaa-8593-9ab9f0efcf92",
   "metadata": {},
   "outputs": [
    {
     "data": {
      "text/plain": [
       "(52416, 8)"
      ]
     },
     "execution_count": 60,
     "metadata": {},
     "output_type": "execute_result"
    }
   ],
   "source": [
    "data_raw.shape"
   ]
  },
  {
   "cell_type": "code",
   "execution_count": 61,
   "id": "5c46c404-beeb-45ac-976e-dfe6883aec53",
   "metadata": {},
   "outputs": [],
   "source": [
    "train = data_raw.loc['2017-05': '2017-07'].copy()"
   ]
  },
  {
   "cell_type": "code",
   "execution_count": 62,
   "id": "a7826f41-4e67-4acc-83c2-9fca9dd4718d",
   "metadata": {},
   "outputs": [],
   "source": [
    "test = data_raw.loc['2017-08'].copy()"
   ]
  },
  {
   "cell_type": "code",
   "execution_count": 63,
   "id": "de982ab5-ad70-4445-93a2-fd801d5cd540",
   "metadata": {},
   "outputs": [
    {
     "data": {
      "text/plain": [
       "(13248, 8)"
      ]
     },
     "execution_count": 63,
     "metadata": {},
     "output_type": "execute_result"
    }
   ],
   "source": [
    "train.shape"
   ]
  },
  {
   "cell_type": "code",
   "execution_count": 64,
   "id": "8c492445-cdb1-4e63-b600-102514265b59",
   "metadata": {},
   "outputs": [
    {
     "data": {
      "text/plain": [
       "(4464, 8)"
      ]
     },
     "execution_count": 64,
     "metadata": {},
     "output_type": "execute_result"
    }
   ],
   "source": [
    "test.shape"
   ]
  },
  {
   "cell_type": "markdown",
   "id": "dcdf22ec-c658-40ab-b589-ab11b6951352",
   "metadata": {},
   "source": [
    "## Explore"
   ]
  },
  {
   "cell_type": "code",
   "execution_count": 65,
   "id": "2d993da1-2dcf-447d-b8bc-04d4f44f7a5f",
   "metadata": {},
   "outputs": [
    {
     "name": "stdout",
     "output_type": "stream",
     "text": [
      "<class 'pandas.core.frame.DataFrame'>\n",
      "DatetimeIndex: 13248 entries, 2017-05-01 00:00:00 to 2017-07-31 23:50:00\n",
      "Data columns (total 8 columns):\n",
      " #   Column               Non-Null Count  Dtype  \n",
      "---  ------               --------------  -----  \n",
      " 0   temperature          13248 non-null  float64\n",
      " 1   humidity             13248 non-null  float64\n",
      " 2   windspeed            13248 non-null  float64\n",
      " 3   generaldiffuseflows  13248 non-null  float64\n",
      " 4   diffuseflows         13248 non-null  float64\n",
      " 5   target1              13248 non-null  float64\n",
      " 6   target2              13248 non-null  float64\n",
      " 7   target3              13248 non-null  float64\n",
      "dtypes: float64(8)\n",
      "memory usage: 931.5 KB\n"
     ]
    }
   ],
   "source": [
    "train.info()"
   ]
  },
  {
   "cell_type": "code",
   "execution_count": 66,
   "id": "4b042454-3d1c-4792-b64b-6e7cce1301ae",
   "metadata": {},
   "outputs": [
    {
     "data": {
      "text/html": [
       "<div>\n",
       "<style scoped>\n",
       "    .dataframe tbody tr th:only-of-type {\n",
       "        vertical-align: middle;\n",
       "    }\n",
       "\n",
       "    .dataframe tbody tr th {\n",
       "        vertical-align: top;\n",
       "    }\n",
       "\n",
       "    .dataframe thead th {\n",
       "        text-align: right;\n",
       "    }\n",
       "</style>\n",
       "<table border=\"1\" class=\"dataframe\">\n",
       "  <thead>\n",
       "    <tr style=\"text-align: right;\">\n",
       "      <th></th>\n",
       "      <th>Type</th>\n",
       "      <th>Count</th>\n",
       "      <th>Unique</th>\n",
       "      <th>NaN</th>\n",
       "      <th>Percentages</th>\n",
       "    </tr>\n",
       "  </thead>\n",
       "  <tbody>\n",
       "    <tr>\n",
       "      <th>temperature</th>\n",
       "      <td>float64</td>\n",
       "      <td>13248</td>\n",
       "      <td>2079</td>\n",
       "      <td>0</td>\n",
       "      <td>0</td>\n",
       "    </tr>\n",
       "    <tr>\n",
       "      <th>humidity</th>\n",
       "      <td>float64</td>\n",
       "      <td>13248</td>\n",
       "      <td>3572</td>\n",
       "      <td>0</td>\n",
       "      <td>0</td>\n",
       "    </tr>\n",
       "    <tr>\n",
       "      <th>windspeed</th>\n",
       "      <td>float64</td>\n",
       "      <td>13248</td>\n",
       "      <td>143</td>\n",
       "      <td>0</td>\n",
       "      <td>0</td>\n",
       "    </tr>\n",
       "    <tr>\n",
       "      <th>generaldiffuseflows</th>\n",
       "      <td>float64</td>\n",
       "      <td>13248</td>\n",
       "      <td>4719</td>\n",
       "      <td>0</td>\n",
       "      <td>0</td>\n",
       "    </tr>\n",
       "    <tr>\n",
       "      <th>diffuseflows</th>\n",
       "      <td>float64</td>\n",
       "      <td>13248</td>\n",
       "      <td>5113</td>\n",
       "      <td>0</td>\n",
       "      <td>0</td>\n",
       "    </tr>\n",
       "    <tr>\n",
       "      <th>target1</th>\n",
       "      <td>float64</td>\n",
       "      <td>13248</td>\n",
       "      <td>6462</td>\n",
       "      <td>0</td>\n",
       "      <td>0</td>\n",
       "    </tr>\n",
       "    <tr>\n",
       "      <th>target2</th>\n",
       "      <td>float64</td>\n",
       "      <td>13248</td>\n",
       "      <td>8307</td>\n",
       "      <td>0</td>\n",
       "      <td>0</td>\n",
       "    </tr>\n",
       "    <tr>\n",
       "      <th>target3</th>\n",
       "      <td>float64</td>\n",
       "      <td>13248</td>\n",
       "      <td>7126</td>\n",
       "      <td>0</td>\n",
       "      <td>0</td>\n",
       "    </tr>\n",
       "  </tbody>\n",
       "</table>\n",
       "</div>"
      ],
      "text/plain": [
       "                        Type  Count  Unique  NaN  Percentages\n",
       "temperature          float64  13248    2079    0            0\n",
       "humidity             float64  13248    3572    0            0\n",
       "windspeed            float64  13248     143    0            0\n",
       "generaldiffuseflows  float64  13248    4719    0            0\n",
       "diffuseflows         float64  13248    5113    0            0\n",
       "target1              float64  13248    6462    0            0\n",
       "target2              float64  13248    8307    0            0\n",
       "target3              float64  13248    7126    0            0"
      ]
     },
     "execution_count": 66,
     "metadata": {},
     "output_type": "execute_result"
    }
   ],
   "source": [
    "data_describe(train)"
   ]
  },
  {
   "cell_type": "code",
   "execution_count": 67,
   "id": "5295c030-89d0-47f9-b6a8-0158593218eb",
   "metadata": {},
   "outputs": [
    {
     "data": {
      "text/html": [
       "<div>\n",
       "<style scoped>\n",
       "    .dataframe tbody tr th:only-of-type {\n",
       "        vertical-align: middle;\n",
       "    }\n",
       "\n",
       "    .dataframe tbody tr th {\n",
       "        vertical-align: top;\n",
       "    }\n",
       "\n",
       "    .dataframe thead th {\n",
       "        text-align: right;\n",
       "    }\n",
       "</style>\n",
       "<table border=\"1\" class=\"dataframe\">\n",
       "  <thead>\n",
       "    <tr style=\"text-align: right;\">\n",
       "      <th></th>\n",
       "      <th>temperature</th>\n",
       "      <th>humidity</th>\n",
       "      <th>windspeed</th>\n",
       "      <th>generaldiffuseflows</th>\n",
       "      <th>diffuseflows</th>\n",
       "      <th>target1</th>\n",
       "      <th>target2</th>\n",
       "      <th>target3</th>\n",
       "    </tr>\n",
       "  </thead>\n",
       "  <tbody>\n",
       "    <tr>\n",
       "      <th>count</th>\n",
       "      <td>13248.000000</td>\n",
       "      <td>13248.000000</td>\n",
       "      <td>13248.000000</td>\n",
       "      <td>13248.000000</td>\n",
       "      <td>13248.000000</td>\n",
       "      <td>13248.000000</td>\n",
       "      <td>13248.000000</td>\n",
       "      <td>13248.000000</td>\n",
       "    </tr>\n",
       "    <tr>\n",
       "      <th>mean</th>\n",
       "      <td>23.224967</td>\n",
       "      <td>64.914832</td>\n",
       "      <td>2.845611</td>\n",
       "      <td>282.413994</td>\n",
       "      <td>100.636626</td>\n",
       "      <td>34274.137728</td>\n",
       "      <td>21608.785608</td>\n",
       "      <td>22099.998080</td>\n",
       "    </tr>\n",
       "    <tr>\n",
       "      <th>std</th>\n",
       "      <td>4.425689</td>\n",
       "      <td>17.619843</td>\n",
       "      <td>2.392439</td>\n",
       "      <td>331.084088</td>\n",
       "      <td>141.983792</td>\n",
       "      <td>7175.595682</td>\n",
       "      <td>4901.894408</td>\n",
       "      <td>7282.050917</td>\n",
       "    </tr>\n",
       "    <tr>\n",
       "      <th>min</th>\n",
       "      <td>13.400000</td>\n",
       "      <td>11.340000</td>\n",
       "      <td>0.050000</td>\n",
       "      <td>0.011000</td>\n",
       "      <td>0.037000</td>\n",
       "      <td>17689.180330</td>\n",
       "      <td>9365.944272</td>\n",
       "      <td>9840.971660</td>\n",
       "    </tr>\n",
       "    <tr>\n",
       "      <th>25%</th>\n",
       "      <td>20.090000</td>\n",
       "      <td>53.447500</td>\n",
       "      <td>0.074000</td>\n",
       "      <td>0.077000</td>\n",
       "      <td>0.133000</td>\n",
       "      <td>28667.803280</td>\n",
       "      <td>17999.071208</td>\n",
       "      <td>16743.332790</td>\n",
       "    </tr>\n",
       "    <tr>\n",
       "      <th>50%</th>\n",
       "      <td>22.525000</td>\n",
       "      <td>67.690000</td>\n",
       "      <td>4.908000</td>\n",
       "      <td>93.300000</td>\n",
       "      <td>47.725000</td>\n",
       "      <td>34712.582780</td>\n",
       "      <td>21760.914760</td>\n",
       "      <td>21031.384620</td>\n",
       "    </tr>\n",
       "    <tr>\n",
       "      <th>75%</th>\n",
       "      <td>25.840000</td>\n",
       "      <td>79.900000</td>\n",
       "      <td>4.918000</td>\n",
       "      <td>590.500000</td>\n",
       "      <td>140.225000</td>\n",
       "      <td>39429.933770</td>\n",
       "      <td>25146.835440</td>\n",
       "      <td>26642.939373</td>\n",
       "    </tr>\n",
       "    <tr>\n",
       "      <th>max</th>\n",
       "      <td>40.010000</td>\n",
       "      <td>92.100000</td>\n",
       "      <td>4.937000</td>\n",
       "      <td>1163.000000</td>\n",
       "      <td>762.000000</td>\n",
       "      <td>51540.199340</td>\n",
       "      <td>37408.860760</td>\n",
       "      <td>47598.326360</td>\n",
       "    </tr>\n",
       "  </tbody>\n",
       "</table>\n",
       "</div>"
      ],
      "text/plain": [
       "        temperature      humidity     windspeed  generaldiffuseflows  \\\n",
       "count  13248.000000  13248.000000  13248.000000         13248.000000   \n",
       "mean      23.224967     64.914832      2.845611           282.413994   \n",
       "std        4.425689     17.619843      2.392439           331.084088   \n",
       "min       13.400000     11.340000      0.050000             0.011000   \n",
       "25%       20.090000     53.447500      0.074000             0.077000   \n",
       "50%       22.525000     67.690000      4.908000            93.300000   \n",
       "75%       25.840000     79.900000      4.918000           590.500000   \n",
       "max       40.010000     92.100000      4.937000          1163.000000   \n",
       "\n",
       "       diffuseflows       target1       target2       target3  \n",
       "count  13248.000000  13248.000000  13248.000000  13248.000000  \n",
       "mean     100.636626  34274.137728  21608.785608  22099.998080  \n",
       "std      141.983792   7175.595682   4901.894408   7282.050917  \n",
       "min        0.037000  17689.180330   9365.944272   9840.971660  \n",
       "25%        0.133000  28667.803280  17999.071208  16743.332790  \n",
       "50%       47.725000  34712.582780  21760.914760  21031.384620  \n",
       "75%      140.225000  39429.933770  25146.835440  26642.939373  \n",
       "max      762.000000  51540.199340  37408.860760  47598.326360  "
      ]
     },
     "execution_count": 67,
     "metadata": {},
     "output_type": "execute_result"
    }
   ],
   "source": [
    "train.describe()"
   ]
  },
  {
   "cell_type": "code",
   "execution_count": 68,
   "id": "af0f2c75-7f73-45fc-9e00-a53b8e69cc42",
   "metadata": {},
   "outputs": [
    {
     "data": {
      "image/png": "[encoded data removed]",
      "text/plain": [
       "<Figure size 1000x600 with 8 Axes>"
      ]
     },
     "metadata": {},
     "output_type": "display_data"
    }
   ],
   "source": [
    "f = plot_gridplot(\n",
    "    data=train,\n",
    "    features=train.columns,\n",
    "    figsize=(10,6),\n",
    "    ncols=3,\n",
    "    kind='hist',\n",
    "    plot_shape='rectangle',\n",
    "    hscale=1.6,\n",
    "    histplot_kwargs={'bins': 50})"
   ]
  },
  {
   "cell_type": "markdown",
   "id": "a3be2c2b-8bc9-4a32-842d-635a37e3c591",
   "metadata": {},
   "source": [
    "#### Variables lists"
   ]
  },
  {
   "cell_type": "code",
   "execution_count": 69,
   "id": "ee1a49ee-222d-41fd-af93-ba9b0d5a367f",
   "metadata": {},
   "outputs": [],
   "source": [
    "features = [\n",
    "    'temperature', 'humidity', 'windspeed',\n",
    "    'generaldiffuseflows', 'diffuseflows'\n",
    "]"
   ]
  },
  {
   "cell_type": "markdown",
   "id": "6d14e7ae-863a-472c-bb4e-e738d2113d08",
   "metadata": {},
   "source": [
    "### Create datetime features"
   ]
  },
  {
   "cell_type": "code",
   "execution_count": 70,
   "id": "0974e2c3-1bbd-48a3-b90f-408181f2d63b",
   "metadata": {},
   "outputs": [],
   "source": [
    "train['minutes_fr_bgn'] = 0 + np.arange(0, len(train)) * 10"
   ]
  },
  {
   "cell_type": "code",
   "execution_count": 71,
   "id": "53d6e362-d790-46c8-94d6-7cb759bd52ca",
   "metadata": {},
   "outputs": [],
   "source": [
    "train['minute'] = train.index.minute"
   ]
  },
  {
   "cell_type": "code",
   "execution_count": 72,
   "id": "ac4f4dfb-ec2e-4182-9b0c-374830b790f2",
   "metadata": {},
   "outputs": [],
   "source": [
    "train['hour'] = train.index.hour"
   ]
  },
  {
   "cell_type": "code",
   "execution_count": 73,
   "id": "2b0faddf-a605-4167-96ac-2a2829149d93",
   "metadata": {},
   "outputs": [],
   "source": [
    "train['day'] = train.index.day"
   ]
  },
  {
   "cell_type": "code",
   "execution_count": 74,
   "id": "48f577f2-3b0f-4a20-b7fd-3392df800c3c",
   "metadata": {},
   "outputs": [],
   "source": [
    "train['weekday'] = train.index.weekday + 1"
   ]
  },
  {
   "cell_type": "code",
   "execution_count": 75,
   "id": "22907a52-bac0-4ab2-9169-8c3f8a819f77",
   "metadata": {},
   "outputs": [],
   "source": [
    "train['month'] = train.index.month"
   ]
  },
  {
   "cell_type": "code",
   "execution_count": 76,
   "id": "16176ba1-70b9-4589-bd2d-d04b30f68a1a",
   "metadata": {},
   "outputs": [],
   "source": [
    "train[\"year_month\"] = train.index.to_period('M')"
   ]
  },
  {
   "cell_type": "code",
   "execution_count": 77,
   "id": "ecbc229f-686d-4f6e-bb86-84f5e81ebf29",
   "metadata": {},
   "outputs": [],
   "source": [
    "train[\"year_day\"] = train.index.to_period('d')"
   ]
  },
  {
   "cell_type": "code",
   "execution_count": 78,
   "id": "e114ca45-dd86-4ae4-b793-f6650699f32a",
   "metadata": {},
   "outputs": [
    {
     "data": {
      "text/html": [
       "<div>\n",
       "<style scoped>\n",
       "    .dataframe tbody tr th:only-of-type {\n",
       "        vertical-align: middle;\n",
       "    }\n",
       "\n",
       "    .dataframe tbody tr th {\n",
       "        vertical-align: top;\n",
       "    }\n",
       "\n",
       "    .dataframe thead th {\n",
       "        text-align: right;\n",
       "    }\n",
       "</style>\n",
       "<table border=\"1\" class=\"dataframe\">\n",
       "  <thead>\n",
       "    <tr style=\"text-align: right;\">\n",
       "      <th></th>\n",
       "      <th>temperature</th>\n",
       "      <th>humidity</th>\n",
       "      <th>windspeed</th>\n",
       "      <th>generaldiffuseflows</th>\n",
       "      <th>diffuseflows</th>\n",
       "      <th>target1</th>\n",
       "      <th>target2</th>\n",
       "      <th>target3</th>\n",
       "      <th>minutes_fr_bgn</th>\n",
       "      <th>minute</th>\n",
       "      <th>hour</th>\n",
       "      <th>day</th>\n",
       "      <th>weekday</th>\n",
       "      <th>month</th>\n",
       "      <th>year_month</th>\n",
       "      <th>year_day</th>\n",
       "    </tr>\n",
       "  </thead>\n",
       "  <tbody>\n",
       "    <tr>\n",
       "      <th>2017-05-01 00:00:00</th>\n",
       "      <td>19.63</td>\n",
       "      <td>59.85</td>\n",
       "      <td>0.080</td>\n",
       "      <td>0.088</td>\n",
       "      <td>0.100</td>\n",
       "      <td>29398.03279</td>\n",
       "      <td>18130.03096</td>\n",
       "      <td>19349.63563</td>\n",
       "      <td>0</td>\n",
       "      <td>0</td>\n",
       "      <td>0</td>\n",
       "      <td>1</td>\n",
       "      <td>1</td>\n",
       "      <td>5</td>\n",
       "      <td>2017-05</td>\n",
       "      <td>2017-05-01</td>\n",
       "    </tr>\n",
       "    <tr>\n",
       "      <th>2017-05-01 00:10:00</th>\n",
       "      <td>19.24</td>\n",
       "      <td>61.05</td>\n",
       "      <td>0.080</td>\n",
       "      <td>0.110</td>\n",
       "      <td>0.093</td>\n",
       "      <td>28692.98361</td>\n",
       "      <td>17728.79257</td>\n",
       "      <td>19075.62753</td>\n",
       "      <td>10</td>\n",
       "      <td>10</td>\n",
       "      <td>0</td>\n",
       "      <td>1</td>\n",
       "      <td>1</td>\n",
       "      <td>5</td>\n",
       "      <td>2017-05</td>\n",
       "      <td>2017-05-01</td>\n",
       "    </tr>\n",
       "    <tr>\n",
       "      <th>2017-05-01 00:20:00</th>\n",
       "      <td>19.23</td>\n",
       "      <td>61.15</td>\n",
       "      <td>0.079</td>\n",
       "      <td>0.073</td>\n",
       "      <td>0.122</td>\n",
       "      <td>28088.65574</td>\n",
       "      <td>17171.51703</td>\n",
       "      <td>18655.87045</td>\n",
       "      <td>20</td>\n",
       "      <td>20</td>\n",
       "      <td>0</td>\n",
       "      <td>1</td>\n",
       "      <td>1</td>\n",
       "      <td>5</td>\n",
       "      <td>2017-05</td>\n",
       "      <td>2017-05-01</td>\n",
       "    </tr>\n",
       "    <tr>\n",
       "      <th>2017-05-01 00:30:00</th>\n",
       "      <td>19.28</td>\n",
       "      <td>60.98</td>\n",
       "      <td>0.082</td>\n",
       "      <td>0.055</td>\n",
       "      <td>0.122</td>\n",
       "      <td>27446.55738</td>\n",
       "      <td>16892.87926</td>\n",
       "      <td>18300.24291</td>\n",
       "      <td>30</td>\n",
       "      <td>30</td>\n",
       "      <td>0</td>\n",
       "      <td>1</td>\n",
       "      <td>1</td>\n",
       "      <td>5</td>\n",
       "      <td>2017-05</td>\n",
       "      <td>2017-05-01</td>\n",
       "    </tr>\n",
       "    <tr>\n",
       "      <th>2017-05-01 00:40:00</th>\n",
       "      <td>19.24</td>\n",
       "      <td>61.12</td>\n",
       "      <td>0.081</td>\n",
       "      <td>0.088</td>\n",
       "      <td>0.133</td>\n",
       "      <td>26955.54098</td>\n",
       "      <td>16235.29412</td>\n",
       "      <td>17967.93522</td>\n",
       "      <td>40</td>\n",
       "      <td>40</td>\n",
       "      <td>0</td>\n",
       "      <td>1</td>\n",
       "      <td>1</td>\n",
       "      <td>5</td>\n",
       "      <td>2017-05</td>\n",
       "      <td>2017-05-01</td>\n",
       "    </tr>\n",
       "    <tr>\n",
       "      <th>...</th>\n",
       "      <td>...</td>\n",
       "      <td>...</td>\n",
       "      <td>...</td>\n",
       "      <td>...</td>\n",
       "      <td>...</td>\n",
       "      <td>...</td>\n",
       "      <td>...</td>\n",
       "      <td>...</td>\n",
       "      <td>...</td>\n",
       "      <td>...</td>\n",
       "      <td>...</td>\n",
       "      <td>...</td>\n",
       "      <td>...</td>\n",
       "      <td>...</td>\n",
       "      <td>...</td>\n",
       "      <td>...</td>\n",
       "    </tr>\n",
       "    <tr>\n",
       "      <th>2017-07-31 23:10:00</th>\n",
       "      <td>25.10</td>\n",
       "      <td>69.09</td>\n",
       "      <td>4.901</td>\n",
       "      <td>0.084</td>\n",
       "      <td>0.111</td>\n",
       "      <td>43407.30897</td>\n",
       "      <td>29608.86076</td>\n",
       "      <td>34294.89540</td>\n",
       "      <td>132430</td>\n",
       "      <td>10</td>\n",
       "      <td>23</td>\n",
       "      <td>31</td>\n",
       "      <td>1</td>\n",
       "      <td>7</td>\n",
       "      <td>2017-07</td>\n",
       "      <td>2017-07-31</td>\n",
       "    </tr>\n",
       "    <tr>\n",
       "      <th>2017-07-31 23:20:00</th>\n",
       "      <td>25.15</td>\n",
       "      <td>68.72</td>\n",
       "      <td>4.904</td>\n",
       "      <td>0.099</td>\n",
       "      <td>0.107</td>\n",
       "      <td>42507.90698</td>\n",
       "      <td>28955.69620</td>\n",
       "      <td>33939.41423</td>\n",
       "      <td>132440</td>\n",
       "      <td>20</td>\n",
       "      <td>23</td>\n",
       "      <td>31</td>\n",
       "      <td>1</td>\n",
       "      <td>7</td>\n",
       "      <td>2017-07</td>\n",
       "      <td>2017-07-31</td>\n",
       "    </tr>\n",
       "    <tr>\n",
       "      <th>2017-07-31 23:30:00</th>\n",
       "      <td>25.22</td>\n",
       "      <td>71.60</td>\n",
       "      <td>4.905</td>\n",
       "      <td>0.080</td>\n",
       "      <td>0.107</td>\n",
       "      <td>41659.53488</td>\n",
       "      <td>28378.48101</td>\n",
       "      <td>33385.10460</td>\n",
       "      <td>132450</td>\n",
       "      <td>30</td>\n",
       "      <td>23</td>\n",
       "      <td>31</td>\n",
       "      <td>1</td>\n",
       "      <td>7</td>\n",
       "      <td>2017-07</td>\n",
       "      <td>2017-07-31</td>\n",
       "    </tr>\n",
       "    <tr>\n",
       "      <th>2017-07-31 23:40:00</th>\n",
       "      <td>25.10</td>\n",
       "      <td>74.70</td>\n",
       "      <td>4.907</td>\n",
       "      <td>0.080</td>\n",
       "      <td>0.119</td>\n",
       "      <td>40843.05648</td>\n",
       "      <td>28070.88608</td>\n",
       "      <td>32806.69456</td>\n",
       "      <td>132460</td>\n",
       "      <td>40</td>\n",
       "      <td>23</td>\n",
       "      <td>31</td>\n",
       "      <td>1</td>\n",
       "      <td>7</td>\n",
       "      <td>2017-07</td>\n",
       "      <td>2017-07-31</td>\n",
       "    </tr>\n",
       "    <tr>\n",
       "      <th>2017-07-31 23:50:00</th>\n",
       "      <td>24.95</td>\n",
       "      <td>76.40</td>\n",
       "      <td>4.910</td>\n",
       "      <td>0.051</td>\n",
       "      <td>0.130</td>\n",
       "      <td>39631.09635</td>\n",
       "      <td>27618.98734</td>\n",
       "      <td>32113.80753</td>\n",
       "      <td>132470</td>\n",
       "      <td>50</td>\n",
       "      <td>23</td>\n",
       "      <td>31</td>\n",
       "      <td>1</td>\n",
       "      <td>7</td>\n",
       "      <td>2017-07</td>\n",
       "      <td>2017-07-31</td>\n",
       "    </tr>\n",
       "  </tbody>\n",
       "</table>\n",
       "<p>13248 rows × 16 columns</p>\n",
       "</div>"
      ],
      "text/plain": [
       "                     temperature  humidity  windspeed  generaldiffuseflows  \\\n",
       "2017-05-01 00:00:00        19.63     59.85      0.080                0.088   \n",
       "2017-05-01 00:10:00        19.24     61.05      0.080                0.110   \n",
       "2017-05-01 00:20:00        19.23     61.15      0.079                0.073   \n",
       "2017-05-01 00:30:00        19.28     60.98      0.082                0.055   \n",
       "2017-05-01 00:40:00        19.24     61.12      0.081                0.088   \n",
       "...                          ...       ...        ...                  ...   \n",
       "2017-07-31 23:10:00        25.10     69.09      4.901                0.084   \n",
       "2017-07-31 23:20:00        25.15     68.72      4.904                0.099   \n",
       "2017-07-31 23:30:00        25.22     71.60      4.905                0.080   \n",
       "2017-07-31 23:40:00        25.10     74.70      4.907                0.080   \n",
       "2017-07-31 23:50:00        24.95     76.40      4.910                0.051   \n",
       "\n",
       "                     diffuseflows      target1      target2      target3  \\\n",
       "2017-05-01 00:00:00         0.100  29398.03279  18130.03096  19349.63563   \n",
       "2017-05-01 00:10:00         0.093  28692.98361  17728.79257  19075.62753   \n",
       "2017-05-01 00:20:00         0.122  28088.65574  17171.51703  18655.87045   \n",
       "2017-05-01 00:30:00         0.122  27446.55738  16892.87926  18300.24291   \n",
       "2017-05-01 00:40:00         0.133  26955.54098  16235.29412  17967.93522   \n",
       "...                           ...          ...          ...          ...   \n",
       "2017-07-31 23:10:00         0.111  43407.30897  29608.86076  34294.89540   \n",
       "2017-07-31 23:20:00         0.107  42507.90698  28955.69620  33939.41423   \n",
       "2017-07-31 23:30:00         0.107  41659.53488  28378.48101  33385.10460   \n",
       "2017-07-31 23:40:00         0.119  40843.05648  28070.88608  32806.69456   \n",
       "2017-07-31 23:50:00         0.130  39631.09635  27618.98734  32113.80753   \n",
       "\n",
       "                     minutes_fr_bgn  minute  hour  day  weekday  month  \\\n",
       "2017-05-01 00:00:00               0       0     0    1        1      5   \n",
       "2017-05-01 00:10:00              10      10     0    1        1      5   \n",
       "2017-05-01 00:20:00              20      20     0    1        1      5   \n",
       "2017-05-01 00:30:00              30      30     0    1        1      5   \n",
       "2017-05-01 00:40:00              40      40     0    1        1      5   \n",
       "...                             ...     ...   ...  ...      ...    ...   \n",
       "2017-07-31 23:10:00          132430      10    23   31        1      7   \n",
       "2017-07-31 23:20:00          132440      20    23   31        1      7   \n",
       "2017-07-31 23:30:00          132450      30    23   31        1      7   \n",
       "2017-07-31 23:40:00          132460      40    23   31        1      7   \n",
       "2017-07-31 23:50:00          132470      50    23   31        1      7   \n",
       "\n",
       "                    year_month    year_day  \n",
       "2017-05-01 00:00:00    2017-05  2017-05-01  \n",
       "2017-05-01 00:10:00    2017-05  2017-05-01  \n",
       "2017-05-01 00:20:00    2017-05  2017-05-01  \n",
       "2017-05-01 00:30:00    2017-05  2017-05-01  \n",
       "2017-05-01 00:40:00    2017-05  2017-05-01  \n",
       "...                        ...         ...  \n",
       "2017-07-31 23:10:00    2017-07  2017-07-31  \n",
       "2017-07-31 23:20:00    2017-07  2017-07-31  \n",
       "2017-07-31 23:30:00    2017-07  2017-07-31  \n",
       "2017-07-31 23:40:00    2017-07  2017-07-31  \n",
       "2017-07-31 23:50:00    2017-07  2017-07-31  \n",
       "\n",
       "[13248 rows x 16 columns]"
      ]
     },
     "execution_count": 78,
     "metadata": {},
     "output_type": "execute_result"
    }
   ],
   "source": [
    "train"
   ]
  },
  {
   "cell_type": "markdown",
   "id": "ebe09454-021d-4ee1-9a82-9e669c38bd73",
   "metadata": {},
   "source": [
    "### Explore data"
   ]
  },
  {
   "cell_type": "markdown",
   "id": "ed308e58-6367-4776-a8fc-f43174ff9caa",
   "metadata": {},
   "source": [
    "#### Weeks"
   ]
  },
  {
   "cell_type": "code",
   "execution_count": 79,
   "id": "a6096ddf-b06b-4e16-b8f5-c416ce3c5e8f",
   "metadata": {},
   "outputs": [
    {
     "data": {
      "image/png": "[encoded data removed]",
      "text/plain": [
       "<Figure size 1000x250 with 1 Axes>"
      ]
     },
     "metadata": {},
     "output_type": "display_data"
    }
   ],
   "source": [
    "plt.errorbar(\n",
    "    range(1, len(train.groupby(train.index.to_period('W')).mean())+1),\n",
    "    train.groupby(train.index.to_period('W')).mean()['target1'],\n",
    "    train.groupby(train.index.to_period('W'))['target1'].std(),\n",
    "    ls='none',\n",
    "    marker='o',\n",
    "    lw=1,\n",
    "    capsize=1.5\n",
    ");"
   ]
  },
  {
   "cell_type": "markdown",
   "id": "62e16cc8-4cb2-4812-b8b0-0f03a7df8973",
   "metadata": {},
   "source": [
    "#### Weekdays"
   ]
  },
  {
   "cell_type": "code",
   "execution_count": 80,
   "id": "46e78d98-6acd-4c51-b5ac-de3a2c7bb108",
   "metadata": {},
   "outputs": [
    {
     "data": {
      "image/png": "[encoded data removed]",
      "text/plain": [
       "<Figure size 1000x250 with 1 Axes>"
      ]
     },
     "metadata": {},
     "output_type": "display_data"
    }
   ],
   "source": [
    "plt.errorbar(\n",
    "    range(1, len(train.groupby('weekday').mean()['target1'])+1),\n",
    "    train.groupby('weekday').mean()['target1'],\n",
    "    train.groupby('weekday')['target1'].std(),\n",
    "    ls='none',\n",
    "    marker='o',\n",
    "    lw=1,\n",
    "    capsize=1.5\n",
    ");"
   ]
  },
  {
   "cell_type": "code",
   "execution_count": 81,
   "id": "3cef55dc-c39d-40b9-b815-3a3ea67460df",
   "metadata": {},
   "outputs": [],
   "source": [
    "weekdays = np.sort(train['weekday'].unique())"
   ]
  },
  {
   "cell_type": "code",
   "execution_count": 82,
   "id": "a2f95a2b-970c-4887-a0d0-7b2b91ed7ec1",
   "metadata": {},
   "outputs": [],
   "source": [
    "ncols = 2\n",
    "nrows = math.ceil(len(weekdays)/ncols)"
   ]
  },
  {
   "cell_type": "code",
   "execution_count": 83,
   "id": "5df99ca8-861e-43db-9381-0d1072cac2ed",
   "metadata": {},
   "outputs": [
    {
     "data": {
      "image/png": "[encoded data removed]",
      "text/plain": [
       "<Figure size 1000x250 with 1 Axes>"
      ]
     },
     "metadata": {},
     "output_type": "display_data"
    }
   ],
   "source": [
    "fig = plt.figure()\n",
    "for i, j in enumerate(weekdays):\n",
    "    plt.plot(\n",
    "        train[train['weekday']==j].groupby('hour').mean().index,\n",
    "        train[train['weekday']==j].groupby('hour').mean()['target1'],\n",
    "        color=palette[i],\n",
    "        lw=1,\n",
    "        label=j\n",
    "    )\n",
    "plt.legend(**legend_inline(len(weekdays)))\n",
    "axis_rstyle(x_ticks=[0, 24, 1])"
   ]
  },
  {
   "cell_type": "markdown",
   "id": "cd9b295c-0937-4b1d-a858-dd37d2089102",
   "metadata": {},
   "source": [
    "#### Daily"
   ]
  },
  {
   "cell_type": "code",
   "execution_count": 84,
   "id": "c61d12f5-e7bd-4e11-9e61-5d64a8fb927a",
   "metadata": {},
   "outputs": [
    {
     "data": {
      "image/png": "[encoded data removed]",
      "text/plain": [
       "<Figure size 1000x500 with 2 Axes>"
      ]
     },
     "metadata": {},
     "output_type": "display_data"
    }
   ],
   "source": [
    "fig, ax = plt.subplots(2, 1, figsize=(10, 5))\n",
    "\n",
    "ax[0].errorbar(\n",
    "    range(len(train[train['weekday']==j].groupby('hour').mean())),\n",
    "    train[train['weekday']==3].groupby('hour').mean()['target1'],\n",
    "    train[train['weekday']==3].groupby('hour')['target1'].std(),\n",
    "    ls='none',\n",
    "    marker='o',\n",
    "    markersize=2.5,\n",
    "    lw=1,\n",
    "    capsize=1.5\n",
    ");\n",
    "axis_rstyle(\n",
    "    ax=ax[0], x_ticks=[0, 23, 1], y_ticks=[10000, 60000, 10000],\n",
    "    margin=True)\n",
    "ax[0].set_ylim(10000, 60000)\n",
    "\n",
    "sns.boxplot(\n",
    "    y=train['target1'],\n",
    "    x=train['hour'],\n",
    "    width=0.25,\n",
    "    fill=False,\n",
    "    linewidth=1,\n",
    "    color=palette[-3],\n",
    "    flierprops=dict(markersize=1.5),\n",
    "    ax=ax[1]\n",
    ")\n",
    "axis_rstyle(\n",
    "    ax=ax[1], x_ticks=[0, 23, 1], y_ticks=[10000, 60000, 10000],\n",
    "    margin=True)\n",
    "ax[1].set_xlabel(None)\n",
    "ax[1].set_ylabel(None)\n",
    "ax[1].set_ylim(10000, 60000)\n",
    "\n",
    "plt.show()"
   ]
  },
  {
   "cell_type": "code",
   "execution_count": 85,
   "id": "44028cdb-fc42-4143-a1ae-543459d4986f",
   "metadata": {},
   "outputs": [
    {
     "data": {
      "text/plain": [
       "<Axes: xlabel='target1', ylabel='Count'>"
      ]
     },
     "execution_count": 85,
     "metadata": {},
     "output_type": "execute_result"
    },
    {
     "data": {
      "image/png": "[encoded data removed]",
      "text/plain": [
       "<Figure size 1000x250 with 1 Axes>"
      ]
     },
     "metadata": {},
     "output_type": "display_data"
    }
   ],
   "source": [
    "sns.histplot(\n",
    "    x=train[train['hour']==2]['target1'],\n",
    "    hue=train[train['hour']==2]['year_month'],\n",
    "    bins=100\n",
    ")"
   ]
  },
  {
   "cell_type": "code",
   "execution_count": 86,
   "id": "f2a0b1e7-648b-4f21-81e9-d994187f2c43",
   "metadata": {},
   "outputs": [
    {
     "data": {
      "image/png": "[encoded data removed]",
      "text/plain": [
       "<Figure size 1000x250 with 1 Axes>"
      ]
     },
     "metadata": {},
     "output_type": "display_data"
    }
   ],
   "source": [
    "fig = plt.figure()\n",
    "for i in arange(5,7, True):\n",
    "    sns.lineplot(\n",
    "        x=train.loc[f'2017-{str(i).zfill(2)}']['hour'],\n",
    "        y=train.loc[f'2017-{str(i).zfill(2)}']['target1'],\n",
    "        color=palette[i-5],\n",
    "        label=i\n",
    "    )\n",
    "    plt.axhline(\n",
    "        train.loc[f'2017-{str(i).zfill(2)}']['target1'].mean(),\n",
    "        0.025, 0.975, lw=1, ls='--', alpha=0.75, color=palette[i-5])\n",
    "plt.legend(**legend_inline(len(arange(5,7, True))))\n",
    "plt.show()"
   ]
  },
  {
   "cell_type": "code",
   "execution_count": null,
   "id": "2bc8bb50-6088-455e-bdd8-29cf71299c78",
   "metadata": {},
   "outputs": [],
   "source": []
  },
  {
   "cell_type": "code",
   "execution_count": null,
   "id": "f0339be6-6698-436c-a3d1-7cb58bf38466",
   "metadata": {},
   "outputs": [],
   "source": []
  },
  {
   "cell_type": "code",
   "execution_count": null,
   "id": "919acb0a-72b3-49c8-8014-67530a1be327",
   "metadata": {},
   "outputs": [],
   "source": []
  },
  {
   "cell_type": "code",
   "execution_count": null,
   "id": "82fb460e-91f8-4df1-b258-d41ffce9c97d",
   "metadata": {},
   "outputs": [],
   "source": []
  },
  {
   "cell_type": "code",
   "execution_count": null,
   "id": "fe2f7e48-bb52-4c6d-9ed7-51c56d4089be",
   "metadata": {},
   "outputs": [],
   "source": []
  },
  {
   "cell_type": "code",
   "execution_count": null,
   "id": "679028a1-1fd3-46f6-a1f2-fd5ca26418ce",
   "metadata": {},
   "outputs": [],
   "source": []
  },
  {
   "cell_type": "code",
   "execution_count": null,
   "id": "4596b2a4-0f42-4894-8bf6-8e015348371f",
   "metadata": {},
   "outputs": [],
   "source": []
  },
  {
   "cell_type": "code",
   "execution_count": null,
   "id": "e4559a83-097c-4580-8db5-c0fcab9e7457",
   "metadata": {},
   "outputs": [],
   "source": []
  },
  {
   "cell_type": "code",
   "execution_count": null,
   "id": "7b6af5fd-d091-4eec-83fa-ce8d306ea410",
   "metadata": {},
   "outputs": [],
   "source": []
  },
  {
   "cell_type": "markdown",
   "id": "77a3871e-54b3-4be4-9369-9ec4a74c32f7",
   "metadata": {},
   "source": [
    "### Save Session"
   ]
  },
  {
   "cell_type": "raw",
   "id": "c72b2db9-b708-4622-ad34-9a51c154efab",
   "metadata": {},
   "source": [
    "save_session(dir_save)"
   ]
  },
  {
   "cell_type": "markdown",
   "id": "bd74c7d1-8998-4567-ad7b-63bbb7a7f71a",
   "metadata": {},
   "source": [
    "### Execution time"
   ]
  },
  {
   "cell_type": "code",
   "execution_count": 87,
   "id": "7296d512-ccdf-46f2-bd89-9be792d545b6",
   "metadata": {},
   "outputs": [
    {
     "name": "stdout",
     "output_type": "stream",
     "text": [
      "Execution time: 0:00:13\n"
     ]
    }
   ],
   "source": [
    "print(f'Execution time: {stopwatch.stop(start)}')"
   ]
  }
 ],
 "metadata": {
  "kernelspec": {
   "display_name": "Python 3 (ipykernel)",
   "language": "python",
   "name": "python3"
  },
  "language_info": {
   "codemirror_mode": {
    "name": "ipython",
    "version": 3
   },
   "file_extension": ".py",
   "mimetype": "text/x-python",
   "name": "python",
   "nbconvert_exporter": "python",
   "pygments_lexer": "ipython3",
   "version": "3.12.2"
  }
 },
 "nbformat": 4,
 "nbformat_minor": 5
}
