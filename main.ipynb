{
 "cells": [
  {
   "cell_type": "code",
   "execution_count": 4,
   "id": "558e201e-d7f1-4fcc-be02-e674951491fb",
   "metadata": {},
   "outputs": [],
   "source": [
    "# run stopwatch\n",
    "from __stopwatch import Stopwatch\n",
    "stopwatch = Stopwatch()\n",
    "start = stopwatch.start()"
   ]
  },
  {
   "cell_type": "markdown",
   "id": "a263cdcf-2c8a-432d-b9a9-9f225bb61ddd",
   "metadata": {},
   "source": [
    "### Load libraries, functions, palette, theme"
   ]
  },
  {
   "cell_type": "code",
   "execution_count": 5,
   "id": "dac00212-4d8f-42aa-825b-ed3f6754c3a7",
   "metadata": {},
   "outputs": [],
   "source": [
    "%run __libraries_kgl_electric_power_consumption.ipynb"
   ]
  },
  {
   "cell_type": "code",
   "execution_count": 6,
   "id": "1617635d-0034-43b2-a560-25984499e847",
   "metadata": {},
   "outputs": [],
   "source": [
    "%run __functions_kgl_electric_power_consumption.ipynb"
   ]
  },
  {
   "cell_type": "raw",
   "id": "f1fde4c4-237b-406c-8ab4-627617692bb1",
   "metadata": {},
   "source": [
    "dir_save = ''"
   ]
  },
  {
   "cell_type": "markdown",
   "id": "29beaf88-707a-4d9b-be4b-4885dd752ce7",
   "metadata": {},
   "source": [
    "# Section I. Overview"
   ]
  },
  {
   "cell_type": "markdown",
   "id": "6a0e3259-ebaf-4e9c-be3e-125a948e27ca",
   "metadata": {},
   "source": [
    "## Load Saved Section if exists"
   ]
  },
  {
   "cell_type": "raw",
   "id": "8117fd61-1e0a-4994-97b7-315e1631f953",
   "metadata": {},
   "source": [
    "if os.path.exists(f'sessions/{dir_save}'):\n",
    "    load_session(dir_save)\n",
    "else:\n",
    "    print(f\"No such session: 'sessions/{dir_save}'\")"
   ]
  },
  {
   "cell_type": "markdown",
   "id": "73b7edbb-d5f0-49fd-9963-16de3da0285a",
   "metadata": {
    "id": "c7980b49-f759-4a9d-bf5e-0eb93a75615a",
    "tags": []
   },
   "source": [
    "## Load Data"
   ]
  },
  {
   "cell_type": "code",
   "execution_count": 7,
   "id": "467632f1-371f-41be-a881-7cf19f0ea23f",
   "metadata": {},
   "outputs": [],
   "source": [
    "data = pd.read_csv('data/powerconsumption.csv')"
   ]
  },
  {
   "cell_type": "code",
   "execution_count": 8,
   "id": "7ffd736d-8a96-41d4-895c-94a1494812bb",
   "metadata": {},
   "outputs": [
    {
     "data": {
      "text/html": [
       "<div>\n",
       "<style scoped>\n",
       "    .dataframe tbody tr th:only-of-type {\n",
       "        vertical-align: middle;\n",
       "    }\n",
       "\n",
       "    .dataframe tbody tr th {\n",
       "        vertical-align: top;\n",
       "    }\n",
       "\n",
       "    .dataframe thead th {\n",
       "        text-align: right;\n",
       "    }\n",
       "</style>\n",
       "<table border=\"1\" class=\"dataframe\">\n",
       "  <thead>\n",
       "    <tr style=\"text-align: right;\">\n",
       "      <th></th>\n",
       "      <th>Datetime</th>\n",
       "      <th>Temperature</th>\n",
       "      <th>Humidity</th>\n",
       "      <th>WindSpeed</th>\n",
       "      <th>GeneralDiffuseFlows</th>\n",
       "      <th>DiffuseFlows</th>\n",
       "      <th>PowerConsumption_Zone1</th>\n",
       "      <th>PowerConsumption_Zone2</th>\n",
       "      <th>PowerConsumption_Zone3</th>\n",
       "    </tr>\n",
       "  </thead>\n",
       "  <tbody>\n",
       "    <tr>\n",
       "      <th>0</th>\n",
       "      <td>1/1/2017 0:00</td>\n",
       "      <td>6.559</td>\n",
       "      <td>73.8</td>\n",
       "      <td>0.083</td>\n",
       "      <td>0.051</td>\n",
       "      <td>0.119</td>\n",
       "      <td>34055.69620</td>\n",
       "      <td>16128.87538</td>\n",
       "      <td>20240.96386</td>\n",
       "    </tr>\n",
       "    <tr>\n",
       "      <th>1</th>\n",
       "      <td>1/1/2017 0:10</td>\n",
       "      <td>6.414</td>\n",
       "      <td>74.5</td>\n",
       "      <td>0.083</td>\n",
       "      <td>0.070</td>\n",
       "      <td>0.085</td>\n",
       "      <td>29814.68354</td>\n",
       "      <td>19375.07599</td>\n",
       "      <td>20131.08434</td>\n",
       "    </tr>\n",
       "    <tr>\n",
       "      <th>2</th>\n",
       "      <td>1/1/2017 0:20</td>\n",
       "      <td>6.313</td>\n",
       "      <td>74.5</td>\n",
       "      <td>0.080</td>\n",
       "      <td>0.062</td>\n",
       "      <td>0.100</td>\n",
       "      <td>29128.10127</td>\n",
       "      <td>19006.68693</td>\n",
       "      <td>19668.43373</td>\n",
       "    </tr>\n",
       "    <tr>\n",
       "      <th>3</th>\n",
       "      <td>1/1/2017 0:30</td>\n",
       "      <td>6.121</td>\n",
       "      <td>75.0</td>\n",
       "      <td>0.083</td>\n",
       "      <td>0.091</td>\n",
       "      <td>0.096</td>\n",
       "      <td>28228.86076</td>\n",
       "      <td>18361.09422</td>\n",
       "      <td>18899.27711</td>\n",
       "    </tr>\n",
       "    <tr>\n",
       "      <th>4</th>\n",
       "      <td>1/1/2017 0:40</td>\n",
       "      <td>5.921</td>\n",
       "      <td>75.7</td>\n",
       "      <td>0.081</td>\n",
       "      <td>0.048</td>\n",
       "      <td>0.085</td>\n",
       "      <td>27335.69620</td>\n",
       "      <td>17872.34043</td>\n",
       "      <td>18442.40964</td>\n",
       "    </tr>\n",
       "    <tr>\n",
       "      <th>...</th>\n",
       "      <td>...</td>\n",
       "      <td>...</td>\n",
       "      <td>...</td>\n",
       "      <td>...</td>\n",
       "      <td>...</td>\n",
       "      <td>...</td>\n",
       "      <td>...</td>\n",
       "      <td>...</td>\n",
       "      <td>...</td>\n",
       "    </tr>\n",
       "    <tr>\n",
       "      <th>52411</th>\n",
       "      <td>12/30/2017 23:10</td>\n",
       "      <td>7.010</td>\n",
       "      <td>72.4</td>\n",
       "      <td>0.080</td>\n",
       "      <td>0.040</td>\n",
       "      <td>0.096</td>\n",
       "      <td>31160.45627</td>\n",
       "      <td>26857.31820</td>\n",
       "      <td>14780.31212</td>\n",
       "    </tr>\n",
       "    <tr>\n",
       "      <th>52412</th>\n",
       "      <td>12/30/2017 23:20</td>\n",
       "      <td>6.947</td>\n",
       "      <td>72.6</td>\n",
       "      <td>0.082</td>\n",
       "      <td>0.051</td>\n",
       "      <td>0.093</td>\n",
       "      <td>30430.41825</td>\n",
       "      <td>26124.57809</td>\n",
       "      <td>14428.81152</td>\n",
       "    </tr>\n",
       "    <tr>\n",
       "      <th>52413</th>\n",
       "      <td>12/30/2017 23:30</td>\n",
       "      <td>6.900</td>\n",
       "      <td>72.8</td>\n",
       "      <td>0.086</td>\n",
       "      <td>0.084</td>\n",
       "      <td>0.074</td>\n",
       "      <td>29590.87452</td>\n",
       "      <td>25277.69254</td>\n",
       "      <td>13806.48259</td>\n",
       "    </tr>\n",
       "    <tr>\n",
       "      <th>52414</th>\n",
       "      <td>12/30/2017 23:40</td>\n",
       "      <td>6.758</td>\n",
       "      <td>73.0</td>\n",
       "      <td>0.080</td>\n",
       "      <td>0.066</td>\n",
       "      <td>0.089</td>\n",
       "      <td>28958.17490</td>\n",
       "      <td>24692.23688</td>\n",
       "      <td>13512.60504</td>\n",
       "    </tr>\n",
       "    <tr>\n",
       "      <th>52415</th>\n",
       "      <td>12/30/2017 23:50</td>\n",
       "      <td>6.580</td>\n",
       "      <td>74.1</td>\n",
       "      <td>0.081</td>\n",
       "      <td>0.062</td>\n",
       "      <td>0.111</td>\n",
       "      <td>28349.80989</td>\n",
       "      <td>24055.23167</td>\n",
       "      <td>13345.49820</td>\n",
       "    </tr>\n",
       "  </tbody>\n",
       "</table>\n",
       "<p>52416 rows × 9 columns</p>\n",
       "</div>"
      ],
      "text/plain": [
       "               Datetime  Temperature  Humidity  WindSpeed  \\\n",
       "0         1/1/2017 0:00        6.559      73.8      0.083   \n",
       "1         1/1/2017 0:10        6.414      74.5      0.083   \n",
       "2         1/1/2017 0:20        6.313      74.5      0.080   \n",
       "3         1/1/2017 0:30        6.121      75.0      0.083   \n",
       "4         1/1/2017 0:40        5.921      75.7      0.081   \n",
       "...                 ...          ...       ...        ...   \n",
       "52411  12/30/2017 23:10        7.010      72.4      0.080   \n",
       "52412  12/30/2017 23:20        6.947      72.6      0.082   \n",
       "52413  12/30/2017 23:30        6.900      72.8      0.086   \n",
       "52414  12/30/2017 23:40        6.758      73.0      0.080   \n",
       "52415  12/30/2017 23:50        6.580      74.1      0.081   \n",
       "\n",
       "       GeneralDiffuseFlows  DiffuseFlows  PowerConsumption_Zone1  \\\n",
       "0                    0.051         0.119             34055.69620   \n",
       "1                    0.070         0.085             29814.68354   \n",
       "2                    0.062         0.100             29128.10127   \n",
       "3                    0.091         0.096             28228.86076   \n",
       "4                    0.048         0.085             27335.69620   \n",
       "...                    ...           ...                     ...   \n",
       "52411                0.040         0.096             31160.45627   \n",
       "52412                0.051         0.093             30430.41825   \n",
       "52413                0.084         0.074             29590.87452   \n",
       "52414                0.066         0.089             28958.17490   \n",
       "52415                0.062         0.111             28349.80989   \n",
       "\n",
       "       PowerConsumption_Zone2  PowerConsumption_Zone3  \n",
       "0                 16128.87538             20240.96386  \n",
       "1                 19375.07599             20131.08434  \n",
       "2                 19006.68693             19668.43373  \n",
       "3                 18361.09422             18899.27711  \n",
       "4                 17872.34043             18442.40964  \n",
       "...                       ...                     ...  \n",
       "52411             26857.31820             14780.31212  \n",
       "52412             26124.57809             14428.81152  \n",
       "52413             25277.69254             13806.48259  \n",
       "52414             24692.23688             13512.60504  \n",
       "52415             24055.23167             13345.49820  \n",
       "\n",
       "[52416 rows x 9 columns]"
      ]
     },
     "execution_count": 8,
     "metadata": {},
     "output_type": "execute_result"
    }
   ],
   "source": [
    "data"
   ]
  },
  {
   "cell_type": "code",
   "execution_count": null,
   "id": "7dcefdf9-9d18-429f-91f6-e1e7ad252818",
   "metadata": {},
   "outputs": [],
   "source": []
  },
  {
   "cell_type": "code",
   "execution_count": null,
   "id": "7b6af5fd-d091-4eec-83fa-ce8d306ea410",
   "metadata": {},
   "outputs": [],
   "source": []
  },
  {
   "cell_type": "markdown",
   "id": "77a3871e-54b3-4be4-9369-9ec4a74c32f7",
   "metadata": {},
   "source": [
    "### Save Session"
   ]
  },
  {
   "cell_type": "raw",
   "id": "c72b2db9-b708-4622-ad34-9a51c154efab",
   "metadata": {},
   "source": [
    "save_session(dir_save)"
   ]
  },
  {
   "cell_type": "markdown",
   "id": "bd74c7d1-8998-4567-ad7b-63bbb7a7f71a",
   "metadata": {},
   "source": [
    "### Execution time"
   ]
  },
  {
   "cell_type": "code",
   "execution_count": 9,
   "id": "7296d512-ccdf-46f2-bd89-9be792d545b6",
   "metadata": {},
   "outputs": [
    {
     "name": "stdout",
     "output_type": "stream",
     "text": [
      "Execution time: 0:00:01\n"
     ]
    }
   ],
   "source": [
    "print(f'Execution time: {stopwatch.stop(start)}')"
   ]
  }
 ],
 "metadata": {
  "kernelspec": {
   "display_name": "venv_kgl_electric_power_consumption",
   "language": "python",
   "name": "venv_kgl_electric_power_consumption"
  },
  "language_info": {
   "codemirror_mode": {
    "name": "ipython",
    "version": 3
   },
   "file_extension": ".py",
   "mimetype": "text/x-python",
   "name": "python",
   "nbconvert_exporter": "python",
   "pygments_lexer": "ipython3",
   "version": "3.12.2"
  }
 },
 "nbformat": 4,
 "nbformat_minor": 5
}
