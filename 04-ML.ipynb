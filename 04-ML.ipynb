{
 "cells": [
  {
   "cell_type": "code",
   "execution_count": 1,
   "id": "badee116-82df-48b9-b3b1-bff9b6357e90",
   "metadata": {},
   "outputs": [],
   "source": [
    "# run stopwatch\n",
    "from tools import Stopwatch\n",
    "stopwatch = Stopwatch()\n",
    "start = stopwatch.start()"
   ]
  },
  {
   "cell_type": "markdown",
   "id": "2f07e3e6-2456-4732-b362-ff9e14261aea",
   "metadata": {},
   "source": [
    "### Load libraries, functions, palette, theme"
   ]
  },
  {
   "cell_type": "code",
   "execution_count": 2,
   "id": "776fa683-d4bd-4f3f-963f-2d982e55d484",
   "metadata": {},
   "outputs": [],
   "source": [
    "%run _libraries.ipynb"
   ]
  },
  {
   "cell_type": "code",
   "execution_count": 3,
   "id": "7784fcf0-9dd5-4c6f-b943-40eadbfb263a",
   "metadata": {},
   "outputs": [],
   "source": [
    "%run _functions.ipynb"
   ]
  },
  {
   "cell_type": "code",
   "execution_count": 4,
   "id": "af0a0a68-923c-4531-89eb-ca8e97daf0a0",
   "metadata": {},
   "outputs": [],
   "source": [
    "save_files = 'files/'"
   ]
  },
  {
   "cell_type": "code",
   "execution_count": 5,
   "id": "42a26504-2bed-450e-bcfd-e2e6e8cc620d",
   "metadata": {},
   "outputs": [],
   "source": [
    "save_img = 'docs/img/'"
   ]
  },
  {
   "cell_type": "code",
   "execution_count": 6,
   "id": "9ac67122-3ca9-4e87-9ee8-adc84531715d",
   "metadata": {},
   "outputs": [],
   "source": [
    "session_name = 'research'"
   ]
  },
  {
   "cell_type": "markdown",
   "id": "bbc26849-7fde-4a76-a626-2a7dd8e86a3d",
   "metadata": {},
   "source": [
    "# Section IV. ML"
   ]
  },
  {
   "cell_type": "markdown",
   "id": "55bab1a0-0a5a-4777-940d-c7d296c0f89f",
   "metadata": {},
   "source": [
    "## Load Saved Section if exists"
   ]
  },
  {
   "cell_type": "raw",
   "id": "e45bc891-c222-493d-9668-b3aee2c0848f",
   "metadata": {},
   "source": [
    "if os.path.exists(f'sessions/{dir_save}'):\n",
    "    load_session(dir_save)\n",
    "else:\n",
    "    print(f\"No such session: 'sessions/{dir_save}'\")"
   ]
  },
  {
   "cell_type": "markdown",
   "id": "5af94061-d272-4f07-92a9-f8e517ec300b",
   "metadata": {},
   "source": [
    "## Load Data"
   ]
  },
  {
   "cell_type": "code",
   "execution_count": 7,
   "id": "229c7c9c-e3c2-4e5b-b967-488eecaeeec8",
   "metadata": {},
   "outputs": [],
   "source": [
    "train = datasets_dict = loadit(\n",
    "    'train', dir=save_files)"
   ]
  },
  {
   "cell_type": "code",
   "execution_count": 8,
   "id": "d39307c3-eba5-4a64-8fea-34528ca36b84",
   "metadata": {},
   "outputs": [],
   "source": [
    "valid = datasets_dict = loadit(\n",
    "    'valid', dir=save_files)"
   ]
  },
  {
   "cell_type": "code",
   "execution_count": 9,
   "id": "a369d34a-1376-4ced-b48f-ed729805efa0",
   "metadata": {},
   "outputs": [],
   "source": [
    "test = datasets_dict = loadit(\n",
    "    'test', dir=save_files)"
   ]
  }
 ],
 "metadata": {
  "kernelspec": {
   "display_name": "electric-power-consumption",
   "language": "python",
   "name": "electric-power-consumption"
  },
  "language_info": {
   "codemirror_mode": {
    "name": "ipython",
    "version": 3
   },
   "file_extension": ".py",
   "mimetype": "text/x-python",
   "name": "python",
   "nbconvert_exporter": "python",
   "pygments_lexer": "ipython3",
   "version": "3.12.2"
  }
 },
 "nbformat": 4,
 "nbformat_minor": 5
}
