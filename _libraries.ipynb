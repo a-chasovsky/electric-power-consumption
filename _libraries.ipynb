{
 "cells": [
  {
   "cell_type": "code",
   "execution_count": 2,
   "id": "3be19eb1-c82e-48a6-aef0-b71665da38a5",
   "metadata": {},
   "outputs": [],
   "source": [
    "import numpy as np\n",
    "import pandas as pd\n",
    "import sklearn as sk\n",
    "# import lightgbm as lgb\n",
    "# import xgboost as xgb\n",
    "import scipy\n",
    "from scipy import stats\n",
    "import statsmodels\n",
    "import statsmodels.api as sm\n",
    "import statsmodels.stats.api as sms\n",
    "# import statsmodels.formula.api as smf\n",
    "import matplotlib as mpl\n",
    "import matplotlib.pyplot as plt\n",
    "# from matplotlib.patches import Rectangle\n",
    "from matplotlib.lines import Line2D\n",
    "import seaborn as sns\n",
    "# import dill\n",
    "import datetime as dt\n",
    "# import pickle\n",
    "# import random\n",
    "# import math\n",
    "# import time\n",
    "# import os\n",
    "# import re\n",
    "import colorsys\n",
    "import math\n",
    "import collections\n",
    "# from statsmodels.nonparametric.smoothers_lowess import lowess\n",
    "\n",
    "from sklearn.metrics import root_mean_squared_log_error\n",
    "from sklearn.metrics import mean_absolute_percentage_error\n",
    "from sklearn.metrics import mean_absolute_error"
   ]
  },
  {
   "cell_type": "code",
   "execution_count": 3,
   "id": "cd7f30d1-1818-4f59-ad31-d2b6d4309a0c",
   "metadata": {},
   "outputs": [],
   "source": [
    "def saturate_color(color_rgb, saturation=0.75):\n",
    "    color_hls = colorsys.rgb_to_hls(\n",
    "        color_rgb[0], color_rgb[1], color_rgb[2])\n",
    "    color_hls_saturated = (\n",
    "        color_hls[0], color_hls[1], saturation*color_hls[2])\n",
    "    color_rgb_saturated = colorsys.hls_to_rgb(\n",
    "        color_hls_saturated[0], color_hls_saturated[1], color_hls_saturated[2])\n",
    "    return color_rgb_saturated\n",
    "\n",
    "\n",
    "def saturate_palette(palette, saturation=0.75):\n",
    "    palette_saturated = [saturate_color(i, saturation=saturation) for i in palette]\n",
    "    return palette_saturated"
   ]
  },
  {
   "cell_type": "code",
   "execution_count": 4,
   "id": "37b6a0b3-32ea-4a60-9a60-be0460270652",
   "metadata": {},
   "outputs": [],
   "source": [
    "def alpha_color(color, alpha=0.75):\n",
    "    new_color = tuple (x + (1 - x) * (1 - alpha) for x in color)\n",
    "    return new_color\n",
    "\n",
    "\n",
    "def alpha_palette(palette, alpha=0.75):\n",
    "    palette_alphed = [alpha_color(i, alpha=alpha) for i in palette]\n",
    "    return palette_alphed"
   ]
  },
  {
   "cell_type": "code",
   "execution_count": 5,
   "id": "6f264889-0a69-4a08-b3a1-8e0a83b47d91",
   "metadata": {},
   "outputs": [],
   "source": [
    "theme = 'light'\n",
    "# theme = 'dark'\n",
    "\n",
    "scatter = {\n",
    "    'lw': 0.15\n",
    "}\n",
    "point = {\n",
    "    'linestyle': 'none',\n",
    "    'markersize': 3,\n",
    "    'err_kws': {'lw': 1.2},\n",
    "    'capsize': 0.03\n",
    "}\n",
    "hist = {\n",
    "    'alpha': 1\n",
    "}\n",
    "title_inline = {\n",
    "    'pad': 25\n",
    "}\n",
    "custom_params = {\n",
    "    'figure.figsize': (10, 2.5), # ширина и высота в дюймах\n",
    "    'figure.titlesize': 12,\n",
    "    'figure.titleweight': 'bold',\n",
    "    'figure.labelsize': 9,\n",
    "    'figure.labelweight': 'bold',\n",
    "    'axes.axisbelow': True,\n",
    "    'axes.spines.bottom': True, # ось X\n",
    "    'axes.spines.left': True, # ось Y\n",
    "    'axes.spines.right': False, # не отображать правую рамку \n",
    "    'axes.spines.top': False, # не отображать верхнюю рамку\n",
    "    'axes.linewidth': 1.2, # 1.2\n",
    "    'axes.titlelocation': 'left', # расположение заголовка\n",
    "    'axes.titlepad': 15.0, # расстояние между заголовком и графиком\n",
    "    'axes.titlesize': 10.0, # заголовок\n",
    "    'axes.titleweight': 'bold', # заголовок\n",
    "    'axes.labelpad': 8.0, # расстояние между подписью оси и осью\n",
    "    'axes.labelsize': 9.0, # оси\n",
    "    'axes.labelweight': 'bold', # подписи осей\n",
    "    'xaxis.labellocation': 'left', # положение подписи\n",
    "    'yaxis.labellocation': 'top', # положение подписи\n",
    "    # 'axes.xmargin': 0.025, # отстутпы по оси X\n",
    "    # 'axes.ymargin': 0.085, # отстутпы по оси Y\n",
    "    'axes.grid': True,\n",
    "    'axes.grid.axis': 'both', # какую разметку отображать\n",
    "    'grid.linestyle': ':',\n",
    "    'grid.linewidth': 0.5,\n",
    "    'lines.linewidth': 1,\n",
    "    'lines.markersize': 3.5,\n",
    "    'xtick.bottom': False,\n",
    "    'xtick.direction': 'in',\n",
    "    'xtick.major.bottom': True,\n",
    "    'xtick.major.pad': 8,\n",
    "    'xtick.major.size': 1.5,\n",
    "    'xtick.major.top': True,\n",
    "    'xtick.major.width': 0.75,\n",
    "    'xtick.labelsize': 8.0, # деления оси X\n",
    "    'ytick.left': False,\n",
    "    'ytick.direction': 'in',\n",
    "    'ytick.major.left': True,\n",
    "    'ytick.major.pad': 8,\n",
    "    'ytick.major.size': 1.5,\n",
    "    'ytick.major.left': True,\n",
    "    'ytick.major.width': 0.75,\n",
    "    'ytick.labelsize': 8.0, # деления оси Y\n",
    "    'legend.title_fontsize': 8.0,\n",
    "    'legend.fontsize': 8.0,\n",
    "    'legend.framealpha': 0.75,\n",
    "    'font.family': 'Ubuntu',\n",
    "    'scatter.marker': '.'\n",
    "}\n",
    "custom_params_light = {\n",
    "    'figure.facecolor': '#FEFEFE', # FEFEFE\n",
    "    'figure.edgecolor': '#FEFEFE',\n",
    "    'axes.facecolor': '#FEFEFE',\n",
    "    'axes.titlecolor': '#606060',\n",
    "    'axes.labelcolor': '#505050',\n",
    "    'axes.edgecolor': '#DDDDDD', # цвет осей\n",
    "    'grid.color': '#D9D9D9',  \n",
    "    'xtick.color': '#BBBBBB', # 0.90, BBBBBB\n",
    "    'xtick.labelcolor': '#9F9F9F',\n",
    "    'ytick.color': '#BBBBBB', # 0.90\n",
    "    'ytick.labelcolor': '#9F9F9F',\n",
    "    'legend.labelcolor': '#4B4B4B',\n",
    "    'legend.edgecolor': '#A6A6A6',\n",
    "    'legend.facecolor': '#FEFEFE',\n",
    "    'text.color': '#4B4B4B',\n",
    "    'patch.edgecolor': '#FEFEFE', # цвет границы стобцов, \n",
    "    'patch.force_edgecolor': True,\n",
    "    'scatter.edgecolors': 'face'\n",
    "}\n",
    "custom_params_dark = {\n",
    "    'figure.facecolor': '#383838',\n",
    "    'axes.facecolor': '#383838',\n",
    "    'axes.edgecolor': '#555555',\n",
    "    'axes.titlecolor': '#AAAAAA',\n",
    "    'axes.labelcolor': '#AAAAAA',\n",
    "    'grid.color': '#CCCCCC', # CCCCCC\n",
    "    'grid.linewidth': 0.1,\n",
    "    'xtick.color': '#858585',\n",
    "    'ytick.color': '#858585',\n",
    "    'lines.markersize': 3.5,\n",
    "    'legend.edgecolor': '#555555',\n",
    "    'legend.facecolor': '#383838',\n",
    "    'legend.labelcolor': '#858585',\n",
    "    'legend.framealpha': 0.5,\n",
    "    'text.color': '#AAAAAA',\n",
    "    'patch.edgecolor': '#383838'\n",
    "}\n",
    "if theme == 'light':\n",
    "    # 4E77AD\n",
    "    palette_bright = sns.color_palette([\n",
    "    #    0 grey     1 red      2 blue     3 green    4 yellow   \n",
    "        '#4B4B4B', '#AF4035', '#4E77AD', '#00937F', '#FFA500',  \n",
    "    #    5 purple   6 khaki    7 blue     8 pink     9 orange\n",
    "        '#704A99', '#AF966D', '#124089', '#D07190', '#DE6535',\n",
    "    #   -10 dark   -9 blue    -8 blue    -7 blue    -6 ligt\n",
    "        '#304E68', '#3D6384', '#4D7DA8', '#6D9BC3', '#A7CBE8',\n",
    "    #   -5 dark    -4 grey    -3 grey    -2 grey    -1 light\n",
    "        '#303030', '#505050', '#707070', '#909090', '#BBBBBB'\n",
    "    ])\n",
    "    palette = saturate_palette(palette_bright, saturation=0.85)\n",
    "    palette = alpha_palette(palette, alpha=0.90)\n",
    "    # add palette to custom parameters dictionary for light theme\n",
    "    custom_params_light.update({'axes.prop_cycle': plt.cycler(color=palette)})\n",
    "\n",
    "    corr_matrix = sns.color_palette(\n",
    "        'blend:#255986,#FFFFFF,#933737', as_cmap=True)\n",
    "    report = sns.color_palette(\n",
    "        'blend:#E6E9EC,#FFFFFF,#9E2A2B', as_cmap=True)\n",
    "    gradient = sns.color_palette(\n",
    "        'blend:#FFFFFF,#3D6384', as_cmap=True)\n",
    "    pairplot = sns.color_palette(['#8DB4D7', '#AF4035'])\n",
    "\n",
    "    # add custom parameters of light theme to parameters dictionary\n",
    "    custom_params.update(custom_params_light)\n",
    "    # update rcParams \n",
    "    plt.rcParams.update(custom_params)\n",
    "\n",
    "if theme == 'dark':\n",
    "    \n",
    "    palette = sns.color_palette([\n",
    "    #    1 blue     2 red      3 green    4 yellow  5 seal\n",
    "        '#7390B6', '#CB6F6F', '#5DA167', '#FFFF88', '#2BAFA2',\n",
    "        '#9A6484', '#5B3256', '#6C4839', '#5C8DA0', '#847637',\n",
    "        '#304E68', '#3D6384', '#4D7DA8', '#6D9BC3', '#A7CBE8',\n",
    "        '#505050', '#606060', '#707070', '#808080', '#AAAAAA',\n",
    "    ])\n",
    "    palette = saturate_palette(palette, saturation=0.85)\n",
    "    # add palette to custom parameters dictionary for dark theme\n",
    "    custom_params_dark.update({'axes.prop_cycle': plt.cycler(color=palette)})\n",
    "    \n",
    "    corr_matrix = sns.color_palette(\n",
    "        'blend:#285780,#909090,#8D3131', as_cmap=True)\n",
    "    report = sns.color_palette(\n",
    "        'blend:#E6E9EC,#CCCCCC,#9E2A2B', as_cmap=True)\n",
    "    gradient = sns.color_palette(\n",
    "        'blend:#FFFFFF,#3D6384', as_cmap=True)\n",
    "    pairplot = sns.color_palette(['#8DB4D7', '#AF4035'])\n",
    "\n",
    "    # add custom parameters of dark theme to parameters dictionary\n",
    "    custom_params.update(custom_params_dark)\n",
    "    # update rcParams \n",
    "    plt.rcParams.update(custom_params)\n",
    "\n",
    "%matplotlib inline\n",
    "\n",
    "seed = 42"
   ]
  },
  {
   "cell_type": "code",
   "execution_count": 6,
   "id": "3acf69be-15b8-46fd-a732-15186bfe02af",
   "metadata": {},
   "outputs": [
    {
     "data": {
      "text/html": [
       "<svg  width=\"275\" height=\"55\"><rect x=\"0\" y=\"0\" width=\"55\" height=\"55\" style=\"fill:#5d5d5d;stroke-width:2;stroke:rgb(255,255,255)\"/><rect x=\"55\" y=\"0\" width=\"55\" height=\"55\" style=\"fill:#af5a51;stroke-width:2;stroke:rgb(255,255,255)\"/><rect x=\"110\" y=\"0\" width=\"55\" height=\"55\" style=\"fill:#6685af;stroke-width:2;stroke:rgb(255,255,255)\"/><rect x=\"165\" y=\"0\" width=\"55\" height=\"55\" style=\"fill:#239485;stroke-width:2;stroke:rgb(255,255,255)\"/><rect x=\"220\" y=\"0\" width=\"55\" height=\"55\" style=\"fill:#eea92b;stroke-width:2;stroke:rgb(255,255,255)\"/></svg>"
      ],
      "text/plain": [
       "[(0.36470588235294116, 0.36470588235294116, 0.36470588235294116),\n",
       " (0.6853529411764706, 0.3523529411764706, 0.3193529411764706),\n",
       " (0.40044117647058824, 0.5234411764705883, 0.6854411764705882),\n",
       " (0.13891176470588232, 0.5799117647058823, 0.5199117647058825),\n",
       " (0.9325, 0.6625, 0.16749999999999993)]"
      ]
     },
     "execution_count": 6,
     "metadata": {},
     "output_type": "execute_result"
    }
   ],
   "source": [
    "sns.color_palette(palette[:5])"
   ]
  },
  {
   "cell_type": "code",
   "execution_count": 7,
   "id": "f08e406a-3c81-4a03-b833-a39bb2b67087",
   "metadata": {},
   "outputs": [
    {
     "data": {
      "text/html": [
       "<svg  width=\"275\" height=\"55\"><rect x=\"0\" y=\"0\" width=\"55\" height=\"55\" style=\"fill:#7f619e;stroke-width:2;stroke:rgb(255,255,255)\"/><rect x=\"55\" y=\"0\" width=\"55\" height=\"55\" style=\"fill:#b39f80;stroke-width:2;stroke:rgb(255,255,255)\"/><rect x=\"110\" y=\"0\" width=\"55\" height=\"55\" style=\"fill:#32558d;stroke-width:2;stroke:rgb(255,255,255)\"/><rect x=\"165\" y=\"0\" width=\"55\" height=\"55\" style=\"fill:#ce869d;stroke-width:2;stroke:rgb(255,255,255)\"/><rect x=\"220\" y=\"0\" width=\"55\" height=\"55\" style=\"fill:#d67955;stroke-width:2;stroke:rgb(255,255,255)\"/></svg>"
      ],
      "text/plain": [
       "[(0.4960882352941175, 0.38208823529411756, 0.6190882352941176),\n",
       " (0.7001764705882353, 0.6251764705882352, 0.5021764705882353),\n",
       " (0.19502941176470587, 0.33302941176470585, 0.5520294117647058),\n",
       " (0.808970588235294, 0.5239705882352942, 0.6169705882352938),\n",
       " (0.8387941176470588, 0.47579411764705876, 0.3317941176470588)]"
      ]
     },
     "execution_count": 7,
     "metadata": {},
     "output_type": "execute_result"
    }
   ],
   "source": [
    "sns.color_palette(palette[5:10])"
   ]
  },
  {
   "cell_type": "code",
   "execution_count": 8,
   "id": "fe507898-898c-4c43-aa6f-1f11ac1f4fd1",
   "metadata": {},
   "outputs": [
    {
     "data": {
      "text/html": [
       "<svg  width=\"275\" height=\"55\"><rect x=\"0\" y=\"0\" width=\"55\" height=\"55\" style=\"fill:#485f73;stroke-width:2;stroke:rgb(255,255,255)\"/><rect x=\"55\" y=\"0\" width=\"55\" height=\"55\" style=\"fill:#55728c;stroke-width:2;stroke:rgb(255,255,255)\"/><rect x=\"110\" y=\"0\" width=\"55\" height=\"55\" style=\"fill:#658aab;stroke-width:2;stroke:rgb(255,255,255)\"/><rect x=\"165\" y=\"0\" width=\"55\" height=\"55\" style=\"fill:#81a5c3;stroke-width:2;stroke:rgb(255,255,255)\"/><rect x=\"220\" y=\"0\" width=\"55\" height=\"55\" style=\"fill:#b4d0e6;stroke-width:2;stroke:rgb(255,255,255)\"/></svg>"
      ],
      "text/plain": [
       "[(0.28423529411764703, 0.37423529411764694, 0.452235294117647),\n",
       " (0.3340882352941177, 0.44808823529411757, 0.5470882352941177),\n",
       " (0.39585294117647046, 0.5398529411764704, 0.6688529411764705),\n",
       " (0.507470588235294, 0.645470588235294, 0.7654705882352942),\n",
       " (0.7066176470588236, 0.8146176470588233, 0.9016176470588235)]"
      ]
     },
     "execution_count": 8,
     "metadata": {},
     "output_type": "execute_result"
    }
   ],
   "source": [
    "sns.color_palette(palette[10:15])"
   ]
  },
  {
   "cell_type": "code",
   "execution_count": 9,
   "id": "9089353e-396f-41d0-8ee5-a9ddac0678ba",
   "metadata": {},
   "outputs": [
    {
     "data": {
      "text/html": [
       "<svg  width=\"275\" height=\"55\"><rect x=\"0\" y=\"0\" width=\"55\" height=\"55\" style=\"fill:#454545;stroke-width:2;stroke:rgb(255,255,255)\"/><rect x=\"55\" y=\"0\" width=\"55\" height=\"55\" style=\"fill:#626262;stroke-width:2;stroke:rgb(255,255,255)\"/><rect x=\"110\" y=\"0\" width=\"55\" height=\"55\" style=\"fill:#7e7e7e;stroke-width:2;stroke:rgb(255,255,255)\"/><rect x=\"165\" y=\"0\" width=\"55\" height=\"55\" style=\"fill:#9b9b9b;stroke-width:2;stroke:rgb(255,255,255)\"/><rect x=\"220\" y=\"0\" width=\"55\" height=\"55\" style=\"fill:#c2c2c2;stroke-width:2;stroke:rgb(255,255,255)\"/></svg>"
      ],
      "text/plain": [
       "[(0.26941176470588235, 0.26941176470588235, 0.26941176470588235),\n",
       " (0.38235294117647056, 0.38235294117647056, 0.38235294117647056),\n",
       " (0.49529411764705883, 0.49529411764705883, 0.49529411764705883),\n",
       " (0.608235294117647, 0.608235294117647, 0.608235294117647),\n",
       " (0.7599999999999999, 0.7599999999999999, 0.7599999999999999)]"
      ]
     },
     "execution_count": 9,
     "metadata": {},
     "output_type": "execute_result"
    }
   ],
   "source": [
    "sns.color_palette(palette[15:])"
   ]
  },
  {
   "cell_type": "raw",
   "id": "47bb915d-6f62-4822-83ba-d66d87c1e306",
   "metadata": {},
   "source": [
    "plt.rcParams.keys()"
   ]
  },
  {
   "cell_type": "markdown",
   "id": "f3b52f23-ded1-4bce-80e9-6db5c6609e45",
   "metadata": {},
   "source": [
    "### Additional elements"
   ]
  },
  {
   "cell_type": "code",
   "execution_count": 10,
   "id": "eab034de-afaf-45f9-a348-af0f1bcde5fa",
   "metadata": {},
   "outputs": [],
   "source": [
    "handle_april = Line2D(\n",
    "    [], [], label='April', lw=1, color=palette[0], alpha=0.75)\n",
    "handle_may = Line2D(\n",
    "    [], [], label='May', lw=1, color=palette[1], alpha=0.75)\n",
    "handle_june = Line2D(\n",
    "    [], [], label='June', lw=1, color=palette[2], alpha=0.75)\n",
    "handle_july = Line2D(\n",
    "    [], [], label='July', lw=1, color=palette[3], alpha=0.75)\n",
    "\n",
    "handles_4_months = [handle_april, handle_may, handle_june, handle_july]"
   ]
  },
  {
   "cell_type": "code",
   "execution_count": 14,
   "id": "28f3d3e2-dcb4-4357-a8ba-e343bd6e267c",
   "metadata": {},
   "outputs": [],
   "source": [
    "weekday_names_dict = {\n",
    "    0: 'Monday',\n",
    "    1: 'Tuesday',\n",
    "    2: 'Wednesday',\n",
    "    3: 'Thursday',\n",
    "    4: 'Friday',\n",
    "    5: 'Saturday',\n",
    "    6: 'Sunday',\n",
    "}"
   ]
  },
  {
   "cell_type": "code",
   "execution_count": null,
   "id": "ec0f8059-56ec-412c-ae79-105097309ee4",
   "metadata": {},
   "outputs": [],
   "source": []
  }
 ],
 "metadata": {
  "kernelspec": {
   "display_name": "electric_power_consumption",
   "language": "python",
   "name": "electric_power_consumption"
  },
  "language_info": {
   "codemirror_mode": {
    "name": "ipython",
    "version": 3
   },
   "file_extension": ".py",
   "mimetype": "text/x-python",
   "name": "python",
   "nbconvert_exporter": "python",
   "pygments_lexer": "ipython3",
   "version": "3.12.2"
  }
 },
 "nbformat": 4,
 "nbformat_minor": 5
}
