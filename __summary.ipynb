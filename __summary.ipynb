{
 "cells": [
  {
   "cell_type": "markdown",
   "id": "67c2c449-1484-40c4-9ae0-6b1dba85f547",
   "metadata": {},
   "source": [
    "# Electric Power Consumption\n",
    "\n",
    "https://www.kaggle.com/datasets/fedesoriano/electric-power-consumption/data\n",
    "\n",
    "<img src='img/header.png'>\n",
    "\n",
    "\n",
    "- Date Time: Time window of ten minutes.  \n",
    "- Temperature: Weather Temperature.  \n",
    "- Humidity: Weather Humidity.  \n",
    "- Wind Speed: Wind Speed.  \n",
    "- General Diffuse Flows: “Diffuse flow” is a catchall term to describe low-temperature (< 0.2° to ~ 100°C) fluids that slowly discharge through sulfide mounds, fractured lava flows, and assemblages of bacterial mats and macrofauna.  \n",
    "- Diffuse Flows  \n",
    "- Zone 1 Power Consumption  \n",
    "- Zone 2 Power Consumption  \n",
    "- Zone 3 Power Consumption\n",
    "\n",
    "## Дизайн\n",
    "\n",
    "Базовая секция: поверхностное исследование данных, построение трёх моделей: линейная, ML, GAM, нейронная сеть. \n",
    "Продвинутая секция: читать материалы и что-то улучшать.\n",
    "\n",
    "\n",
    "## Коменатрии\n",
    "В пятницу в течение дня проходят молитвы  \n",
    "В воскресение потребление заметно меньше, чем в остальные дни\n",
    "\n",
    "Если выбирать модель по AIC и по LL, то получается неадекватная модель с RMSE боле чем в 3 раза выше\n",
    "\n",
    "\n",
    "## Предложения\n",
    "\n",
    "- Если предиктор А с лагом хорошо прогнозирует целевую переменную, то проверить, можно ли с помощью имеющихся предикторов спрогнозировать значение предиктора А, и далее уже делать на основании значения А прогнозы по целевой переменной.\n",
    "- Исключить из обучения аномальные периода (конец июня) и посмотреть, как это скажется на эффективности прогнозирования. Сначала сравнить разные модели и выбрать лучшую. А затем дополнительная секция - для этой модели исключить аномалии и сравнить.\n",
    "- Дополнительный предиктор - разница между предыдущим значением y и пред-предыдущим - покажет краткосрочный тренд\n",
    "\n",
    "## Дополнительные предикторы\n",
    "\n",
    "- Дневная волатильность: максимальное значение волатильности за день - минимальное значение волатильности за день\n",
    "- Дневная разность: максимальное значение потребления за день - минимальное значение потребления за день\n",
    "\n",
    "## Стратегии бустинга\n",
    "\n",
    "- По ошибам предыдущего периода предсказывать оишбки будущего периода\n",
    "- Средняя ошибка для каждой даты для каждого fold'a\n",
    "- Предсказывать остатки в зависимости от разницы между знаением таргета в данный момент времени с предыдущим месяцем\n",
    "- Предсказывать остатки в зависимости от разницы разниц между значением таргета в (этом и предыдущем) и (предыдущим и пре-предыдущем)\n",
    "- Разложить ошибки на трендовую и сезонную составляющую и использовать их как предикторы\n",
    "- Предикторы:  \n",
    "    Текущие: день недели, минута с начала дня, час с начала дня  \n",
    "    Предыдущие:\n",
    "- Заполнение аномальных остатков. Считаются дельты между предыдущими остатками и пре-предыдущими. Считается медиана этих дельт. Для аномального периода берутся остатки из предыдущего месяца и прибавляется посчитанная медианная дельта.\n",
    "- "
   ]
  },
  {
   "cell_type": "markdown",
   "id": "615e1c55-e186-4d1f-a888-1beb823bb197",
   "metadata": {},
   "source": [
    "## Boosting Strategies"
   ]
  },
  {
   "cell_type": "markdown",
   "id": "654936bc-906b-4bec-bcdf-21987980f81a",
   "metadata": {},
   "source": [
    "Predict sepaartely:\n",
    "- Predict: Residuals\n",
    "- Predict: First Residual and then Residuals Diff (and after that predict all residuals series)\n",
    "- Predict: Residuals rolling window\n",
    "\n",
    "Crate ensemble of boosters."
   ]
  },
  {
   "cell_type": "code",
   "execution_count": null,
   "id": "bbe9aa58-7a02-4eaa-acbe-179894eb41f1",
   "metadata": {},
   "outputs": [],
   "source": []
  },
  {
   "cell_type": "code",
   "execution_count": null,
   "id": "e0e9fc42-5592-4957-bcd8-887ded44aa6f",
   "metadata": {},
   "outputs": [],
   "source": []
  },
  {
   "cell_type": "code",
   "execution_count": null,
   "id": "780a12a2-72a4-4275-96c9-babf45fe396b",
   "metadata": {},
   "outputs": [],
   "source": []
  }
 ],
 "metadata": {
  "kernelspec": {
   "display_name": "Python 3 (ipykernel)",
   "language": "python",
   "name": "python3"
  },
  "language_info": {
   "codemirror_mode": {
    "name": "ipython",
    "version": 3
   },
   "file_extension": ".py",
   "mimetype": "text/x-python",
   "name": "python",
   "nbconvert_exporter": "python",
   "pygments_lexer": "ipython3",
   "version": "3.12.2"
  }
 },
 "nbformat": 4,
 "nbformat_minor": 5
}
