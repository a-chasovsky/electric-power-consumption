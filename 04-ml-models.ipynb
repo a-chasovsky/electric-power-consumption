{
 "cells": [
  {
   "cell_type": "markdown",
   "id": "20098d93-58c2-4d25-b2e9-add0972229f7",
   "metadata": {},
   "source": [
    "# Section IV. ML-model"
   ]
  },
  {
   "cell_type": "markdown",
   "id": "bfd95488-1653-48ef-a55f-4bf85a3d4355",
   "metadata": {},
   "source": [
    "### Load libraries, functions, palette, theme, etc."
   ]
  },
  {
   "cell_type": "code",
   "execution_count": 462,
   "id": "d53e89c5-eb17-4920-94b3-74ddc0b9eafe",
   "metadata": {},
   "outputs": [],
   "source": [
    "# load libraries\n",
    "%run __theme.ipynb"
   ]
  },
  {
   "cell_type": "code",
   "execution_count": 463,
   "id": "31d55bbb-0194-4a2f-a58b-501bccc1ab97",
   "metadata": {},
   "outputs": [],
   "source": [
    "# load functions\n",
    "%run __functions.ipynb"
   ]
  },
  {
   "cell_type": "code",
   "execution_count": 464,
   "id": "cdaab8d1-f070-4712-af69-ec3b03fb30b7",
   "metadata": {},
   "outputs": [],
   "source": [
    "# start stopwatch\n",
    "start = stopwatch_start()"
   ]
  },
  {
   "cell_type": "code",
   "execution_count": 465,
   "id": "87b1ccff-0a28-400e-a86b-b2077106a841",
   "metadata": {},
   "outputs": [],
   "source": [
    "dir_current = '04-ml-model'"
   ]
  },
  {
   "cell_type": "code",
   "execution_count": 466,
   "id": "accbe79b-ed3a-42d0-aef3-d96a5f4fbfda",
   "metadata": {},
   "outputs": [],
   "source": [
    "dir_save_files = 'files/'"
   ]
  },
  {
   "cell_type": "code",
   "execution_count": 467,
   "id": "46e86c17-79c4-4a65-92a9-97bd76f361bd",
   "metadata": {},
   "outputs": [],
   "source": [
    "dir_load_files = 'files/'"
   ]
  },
  {
   "cell_type": "code",
   "execution_count": 468,
   "id": "7f1a62a6-680e-478d-b399-9325af77c4f3",
   "metadata": {},
   "outputs": [],
   "source": [
    "dir_save_img = 'docs/img/'"
   ]
  },
  {
   "cell_type": "code",
   "execution_count": 469,
   "id": "ec909319-b903-4280-aee3-3a386e29143f",
   "metadata": {},
   "outputs": [],
   "source": [
    "session_name = dir_current"
   ]
  },
  {
   "cell_type": "markdown",
   "id": "0d92383b-795a-49c9-93f5-c1e8bd0f73a2",
   "metadata": {},
   "source": [
    "### Load libraries, functions, palette, theme"
   ]
  },
  {
   "cell_type": "code",
   "execution_count": 470,
   "id": "81997122-5e93-4d6d-9b27-84c6c825359b",
   "metadata": {},
   "outputs": [],
   "source": [
    "import os\n",
    "from pathlib import Path"
   ]
  },
  {
   "cell_type": "code",
   "execution_count": 471,
   "id": "e5c47a04-e7df-44da-abd4-d86733495d77",
   "metadata": {},
   "outputs": [],
   "source": [
    "# load functions\n",
    "from __functions import *"
   ]
  },
  {
   "cell_type": "code",
   "execution_count": 472,
   "id": "3a8f3ea8-4809-40c6-a1ab-a7719120c779",
   "metadata": {},
   "outputs": [],
   "source": [
    "# load libraries and palette\n",
    "%run __libraries.ipynb"
   ]
  },
  {
   "cell_type": "code",
   "execution_count": 473,
   "id": "b30e4490-d81e-4e8c-9077-58ea68e28eee",
   "metadata": {},
   "outputs": [],
   "source": [
    "# start stopwatch\n",
    "start = stopwatch_start()"
   ]
  },
  {
   "cell_type": "markdown",
   "id": "7f27b393-3655-4d97-a73b-87501ecbb537",
   "metadata": {},
   "source": [
    "### Variables"
   ]
  },
  {
   "cell_type": "code",
   "execution_count": 474,
   "id": "2b6f51a8-96a7-4e92-a4ee-f491772927b7",
   "metadata": {},
   "outputs": [],
   "source": [
    "dir_current = '04-ml-model'"
   ]
  },
  {
   "cell_type": "code",
   "execution_count": 475,
   "id": "a5dfad50-2132-46f0-82de-9d712b45cb5c",
   "metadata": {},
   "outputs": [],
   "source": [
    "dir_save_files = 'files/'"
   ]
  },
  {
   "cell_type": "code",
   "execution_count": 476,
   "id": "43a9921a-680f-4a64-89b1-1d91713c792c",
   "metadata": {},
   "outputs": [],
   "source": [
    "dir_load_files = 'files/'"
   ]
  },
  {
   "cell_type": "code",
   "execution_count": 477,
   "id": "0270ad22-fbd9-4763-804a-9f79ed59aa40",
   "metadata": {},
   "outputs": [],
   "source": [
    "dir_save_img = 'docs/img/'"
   ]
  },
  {
   "cell_type": "markdown",
   "id": "2d4b5b83-400d-45b1-9c17-e4ba4ddbb4cc",
   "metadata": {},
   "source": [
    "### Load Files"
   ]
  },
  {
   "cell_type": "markdown",
   "id": "a9cfab59-618c-4fce-a651-a0becc3aa2af",
   "metadata": {},
   "source": [
    "##### Dictionaries"
   ]
  },
  {
   "cell_type": "code",
   "execution_count": 478,
   "id": "9473bd44-2c56-4741-9031-883e58efeaf9",
   "metadata": {},
   "outputs": [],
   "source": [
    "datasets = loadit('datasets', path=dir_load_files)"
   ]
  },
  {
   "cell_type": "code",
   "execution_count": 479,
   "id": "7af86880-85d6-4a7c-87b3-865e363c29d0",
   "metadata": {},
   "outputs": [],
   "source": [
    "variables = loadit('variables', path=dir_load_files, create_empty_dict=True)"
   ]
  },
  {
   "cell_type": "code",
   "execution_count": 480,
   "id": "d110beca-97b7-4b31-b9d3-3762a3a96013",
   "metadata": {},
   "outputs": [],
   "source": [
    "cv = loadit('cv', path=dir_load_files, create_empty_dict=True)"
   ]
  },
  {
   "cell_type": "markdown",
   "id": "63424138-348d-488d-a643-0b0faf332a99",
   "metadata": {},
   "source": [
    "##### Datasets"
   ]
  },
  {
   "cell_type": "code",
   "execution_count": 481,
   "id": "1b7e718d-9dff-4aec-b18a-fcadd29e77cc",
   "metadata": {},
   "outputs": [],
   "source": [
    "train = extract_variable('train_preprocessed', datasets)"
   ]
  },
  {
   "cell_type": "code",
   "execution_count": 482,
   "id": "7326f5d7-c66c-4bf3-83cd-b0ba8cf07c1d",
   "metadata": {},
   "outputs": [],
   "source": [
    "valid = extract_variable('valid_preprocessed', datasets)"
   ]
  },
  {
   "cell_type": "code",
   "execution_count": 483,
   "id": "929aa84d-03a6-40ce-a41d-e6f9efbf1c93",
   "metadata": {},
   "outputs": [
    {
     "name": "stdout",
     "output_type": "stream",
     "text": [
      "Variable test_preprocessed not found\n"
     ]
    }
   ],
   "source": [
    "test = extract_variable('test_preprocessed', datasets)"
   ]
  },
  {
   "cell_type": "markdown",
   "id": "8762f1cb-25c7-4404-b856-b427dd1cb433",
   "metadata": {},
   "source": [
    "##### CV results"
   ]
  },
  {
   "cell_type": "code",
   "execution_count": 484,
   "id": "d941fffb-54a6-4abc-96b9-dd52cb132ad0",
   "metadata": {},
   "outputs": [],
   "source": [
    "cv0 = extract_variable('cv0', cv)"
   ]
  },
  {
   "cell_type": "code",
   "execution_count": 485,
   "id": "cd0f054f-4b9c-469e-913e-0631b750556a",
   "metadata": {},
   "outputs": [],
   "source": [
    "cv1 = extract_variable('cv1', cv)"
   ]
  },
  {
   "cell_type": "code",
   "execution_count": 486,
   "id": "5ae9b7d5-6255-494d-8945-c1b881a0f5e5",
   "metadata": {},
   "outputs": [],
   "source": [
    "cv2 = extract_variable('cv2', cv)"
   ]
  },
  {
   "cell_type": "code",
   "execution_count": 487,
   "id": "ff175c58-1b5b-444a-87a7-1464abc928c3",
   "metadata": {},
   "outputs": [],
   "source": [
    "cv3 = extract_variable('cv3', cv)"
   ]
  },
  {
   "cell_type": "markdown",
   "id": "1d6fb360-f44e-477f-9211-d42d1fde2df1",
   "metadata": {},
   "source": [
    "## Base ML-model"
   ]
  },
  {
   "cell_type": "markdown",
   "id": "579f32d0-3dce-42c5-9d78-aed7191ec307",
   "metadata": {},
   "source": [
    "### Datasets and Variables"
   ]
  },
  {
   "cell_type": "code",
   "execution_count": 488,
   "id": "f0644c70-bcbe-458f-913a-f71363b0b7d9",
   "metadata": {},
   "outputs": [],
   "source": [
    "features = [\n",
    "    'temperature', 'humidity', 'windspeed', 'generaldiffuseflows',\n",
    "    'diffuseflows', 'minute', 'hour', 'day',\n",
    "    'day_number', 'day_of_year', 'weekday', 'week', 'month',\n",
    "    'target_diff', 'target_returns',\n",
    "    'target_volatility', 'p', 'minute_of_day', 'is_Friday', 'is_Sunday',\n",
    "    'diff_Sunday', 'is_Day', 'is_31', 'is_20hours', 'target_previous_month'\n",
    "]"
   ]
  },
  {
   "cell_type": "code",
   "execution_count": 489,
   "id": "1076d1ee-e6b6-44da-9ac9-c9c40b64e8ce",
   "metadata": {},
   "outputs": [],
   "source": [
    "target = train['target'].copy()"
   ]
  },
  {
   "cell_type": "code",
   "execution_count": 490,
   "id": "dcd2732e-43ba-41a0-b055-ab51a180ed7c",
   "metadata": {},
   "outputs": [],
   "source": [
    "train_ml = train[features].copy()"
   ]
  },
  {
   "cell_type": "code",
   "execution_count": 491,
   "id": "83f12b22-afd7-4985-82da-21b3d5cf20e2",
   "metadata": {},
   "outputs": [],
   "source": [
    "train_ml = train_ml.reset_index(names='datetime')"
   ]
  },
  {
   "cell_type": "code",
   "execution_count": 492,
   "id": "f843bc9c-4618-4aa8-bea9-a72709f4bf2f",
   "metadata": {},
   "outputs": [],
   "source": [
    "test_df = train_ml.copy()"
   ]
  },
  {
   "cell_type": "code",
   "execution_count": 493,
   "id": "105b28c8-fae1-4d28-ba99-63cc3ea6c561",
   "metadata": {},
   "outputs": [],
   "source": [
    "cv_indexes_train, cv_indexes_eval = cv_split_indexes(\n",
    "    data=train['target'], start='2017-03-01', train_size=1,\n",
    "    test_size=1, size_unit='months', n_splits=5, freq='10min')"
   ]
  },
  {
   "cell_type": "code",
   "execution_count": 494,
   "id": "71c28a50-77c4-47d0-9261-c4228887318f",
   "metadata": {},
   "outputs": [],
   "source": [
    "cv_indexes_gs_base = []\n",
    "for trn, evl in zip(cv_indexes_train, cv_indexes_eval):\n",
    "    trn_df = train_ml[train_ml['datetime'].isin(trn)].copy()\n",
    "    trn_ev = train_ml[train_ml['datetime'].isin(evl)].copy()\n",
    "    cv_indexes_gs_base.append((trn_df.index, trn_ev.index))"
   ]
  },
  {
   "cell_type": "code",
   "execution_count": 495,
   "id": "5f63576a-d378-4d07-bfb3-bd0d59d03aa0",
   "metadata": {},
   "outputs": [],
   "source": [
    "train_ml = train_ml.drop('datetime', axis=1)"
   ]
  },
  {
   "cell_type": "code",
   "execution_count": 496,
   "id": "a31aaa41-18e5-4cf7-ab9c-7c0270f51c06",
   "metadata": {},
   "outputs": [
    {
     "data": {
      "text/html": [
       "<div>\n",
       "<style scoped>\n",
       "    .dataframe tbody tr th:only-of-type {\n",
       "        vertical-align: middle;\n",
       "    }\n",
       "\n",
       "    .dataframe tbody tr th {\n",
       "        vertical-align: top;\n",
       "    }\n",
       "\n",
       "    .dataframe thead th {\n",
       "        text-align: right;\n",
       "    }\n",
       "</style>\n",
       "<table border=\"1\" class=\"dataframe\">\n",
       "  <thead>\n",
       "    <tr style=\"text-align: right;\">\n",
       "      <th></th>\n",
       "      <th>temperature</th>\n",
       "      <th>humidity</th>\n",
       "      <th>windspeed</th>\n",
       "      <th>generaldiffuseflows</th>\n",
       "      <th>diffuseflows</th>\n",
       "      <th>minute</th>\n",
       "      <th>hour</th>\n",
       "      <th>day</th>\n",
       "      <th>day_number</th>\n",
       "      <th>day_of_year</th>\n",
       "      <th>...</th>\n",
       "      <th>target_volatility</th>\n",
       "      <th>p</th>\n",
       "      <th>minute_of_day</th>\n",
       "      <th>is_Friday</th>\n",
       "      <th>is_Sunday</th>\n",
       "      <th>diff_Sunday</th>\n",
       "      <th>is_Day</th>\n",
       "      <th>is_31</th>\n",
       "      <th>is_20hours</th>\n",
       "      <th>target_previous_month</th>\n",
       "    </tr>\n",
       "  </thead>\n",
       "  <tbody>\n",
       "    <tr>\n",
       "      <th>0</th>\n",
       "      <td>6.559</td>\n",
       "      <td>73.8</td>\n",
       "      <td>0.083</td>\n",
       "      <td>0.051</td>\n",
       "      <td>0.119</td>\n",
       "      <td>0</td>\n",
       "      <td>0</td>\n",
       "      <td>1</td>\n",
       "      <td>1</td>\n",
       "      <td>1</td>\n",
       "      <td>...</td>\n",
       "      <td>NaN</td>\n",
       "      <td>NaN</td>\n",
       "      <td>0</td>\n",
       "      <td>0</td>\n",
       "      <td>1</td>\n",
       "      <td>0.0</td>\n",
       "      <td>0</td>\n",
       "      <td>0</td>\n",
       "      <td>0</td>\n",
       "      <td>NaN</td>\n",
       "    </tr>\n",
       "    <tr>\n",
       "      <th>1</th>\n",
       "      <td>6.414</td>\n",
       "      <td>74.5</td>\n",
       "      <td>0.083</td>\n",
       "      <td>0.070</td>\n",
       "      <td>0.085</td>\n",
       "      <td>10</td>\n",
       "      <td>0</td>\n",
       "      <td>1</td>\n",
       "      <td>1</td>\n",
       "      <td>1</td>\n",
       "      <td>...</td>\n",
       "      <td>0.015508</td>\n",
       "      <td>-0.124532</td>\n",
       "      <td>10</td>\n",
       "      <td>0</td>\n",
       "      <td>1</td>\n",
       "      <td>0.0</td>\n",
       "      <td>0</td>\n",
       "      <td>0</td>\n",
       "      <td>0</td>\n",
       "      <td>NaN</td>\n",
       "    </tr>\n",
       "    <tr>\n",
       "      <th>2</th>\n",
       "      <td>6.313</td>\n",
       "      <td>74.5</td>\n",
       "      <td>0.080</td>\n",
       "      <td>0.062</td>\n",
       "      <td>0.100</td>\n",
       "      <td>20</td>\n",
       "      <td>0</td>\n",
       "      <td>1</td>\n",
       "      <td>1</td>\n",
       "      <td>1</td>\n",
       "      <td>...</td>\n",
       "      <td>0.000530</td>\n",
       "      <td>-0.023028</td>\n",
       "      <td>20</td>\n",
       "      <td>0</td>\n",
       "      <td>1</td>\n",
       "      <td>0.0</td>\n",
       "      <td>0</td>\n",
       "      <td>0</td>\n",
       "      <td>0</td>\n",
       "      <td>NaN</td>\n",
       "    </tr>\n",
       "    <tr>\n",
       "      <th>3</th>\n",
       "      <td>6.121</td>\n",
       "      <td>75.0</td>\n",
       "      <td>0.083</td>\n",
       "      <td>0.091</td>\n",
       "      <td>0.096</td>\n",
       "      <td>30</td>\n",
       "      <td>0</td>\n",
       "      <td>1</td>\n",
       "      <td>1</td>\n",
       "      <td>1</td>\n",
       "      <td>...</td>\n",
       "      <td>0.000953</td>\n",
       "      <td>-0.030872</td>\n",
       "      <td>30</td>\n",
       "      <td>0</td>\n",
       "      <td>1</td>\n",
       "      <td>0.0</td>\n",
       "      <td>0</td>\n",
       "      <td>0</td>\n",
       "      <td>0</td>\n",
       "      <td>NaN</td>\n",
       "    </tr>\n",
       "    <tr>\n",
       "      <th>4</th>\n",
       "      <td>5.921</td>\n",
       "      <td>75.7</td>\n",
       "      <td>0.081</td>\n",
       "      <td>0.048</td>\n",
       "      <td>0.085</td>\n",
       "      <td>40</td>\n",
       "      <td>0</td>\n",
       "      <td>1</td>\n",
       "      <td>1</td>\n",
       "      <td>1</td>\n",
       "      <td>...</td>\n",
       "      <td>0.001001</td>\n",
       "      <td>-0.031640</td>\n",
       "      <td>40</td>\n",
       "      <td>0</td>\n",
       "      <td>1</td>\n",
       "      <td>0.0</td>\n",
       "      <td>0</td>\n",
       "      <td>0</td>\n",
       "      <td>0</td>\n",
       "      <td>NaN</td>\n",
       "    </tr>\n",
       "  </tbody>\n",
       "</table>\n",
       "<p>5 rows × 25 columns</p>\n",
       "</div>"
      ],
      "text/plain": [
       "   temperature  humidity  windspeed  generaldiffuseflows  diffuseflows  \\\n",
       "0        6.559      73.8      0.083                0.051         0.119   \n",
       "1        6.414      74.5      0.083                0.070         0.085   \n",
       "2        6.313      74.5      0.080                0.062         0.100   \n",
       "3        6.121      75.0      0.083                0.091         0.096   \n",
       "4        5.921      75.7      0.081                0.048         0.085   \n",
       "\n",
       "   minute  hour  day  day_number  day_of_year  ...  target_volatility  \\\n",
       "0       0     0    1           1            1  ...                NaN   \n",
       "1      10     0    1           1            1  ...           0.015508   \n",
       "2      20     0    1           1            1  ...           0.000530   \n",
       "3      30     0    1           1            1  ...           0.000953   \n",
       "4      40     0    1           1            1  ...           0.001001   \n",
       "\n",
       "          p  minute_of_day  is_Friday  is_Sunday  diff_Sunday  is_Day  is_31  \\\n",
       "0       NaN              0          0          1          0.0       0      0   \n",
       "1 -0.124532             10          0          1          0.0       0      0   \n",
       "2 -0.023028             20          0          1          0.0       0      0   \n",
       "3 -0.030872             30          0          1          0.0       0      0   \n",
       "4 -0.031640             40          0          1          0.0       0      0   \n",
       "\n",
       "   is_20hours  target_previous_month  \n",
       "0           0                    NaN  \n",
       "1           0                    NaN  \n",
       "2           0                    NaN  \n",
       "3           0                    NaN  \n",
       "4           0                    NaN  \n",
       "\n",
       "[5 rows x 25 columns]"
      ]
     },
     "execution_count": 496,
     "metadata": {},
     "output_type": "execute_result"
    }
   ],
   "source": [
    "train_ml.head()"
   ]
  },
  {
   "cell_type": "markdown",
   "id": "13dc724c-2eee-457d-962b-8ca5b64eae99",
   "metadata": {},
   "source": [
    "### Model"
   ]
  },
  {
   "cell_type": "code",
   "execution_count": 497,
   "id": "850b9984-b606-472e-9947-8c981ec960c2",
   "metadata": {},
   "outputs": [],
   "source": [
    "lgb_base = LGBMRegressor()"
   ]
  },
  {
   "cell_type": "code",
   "execution_count": 498,
   "id": "c8950aaa-1626-4f00-9d0b-4e1dc27c0c7d",
   "metadata": {},
   "outputs": [],
   "source": [
    "params_base = {\n",
    "    'n_estimators': [50, 75, 100, 150],\n",
    "    'max_depth': [3, 6, 9, 12, 24, 48],\n",
    "    'learning_rate': [0.1, 0.3],\n",
    "    'random_state': [seed],\n",
    "    'verbose': [-1]\n",
    "}"
   ]
  },
  {
   "cell_type": "code",
   "execution_count": 499,
   "id": "195ef2df-429b-4163-8889-cdc84e27ecc4",
   "metadata": {},
   "outputs": [],
   "source": [
    "gs_base = GridSearchCV(\n",
    "    estimator=lgb_base,\n",
    "    param_grid=params_base,\n",
    "    scoring='neg_root_mean_squared_error',\n",
    "    cv=cv_indexes_gs_base\n",
    ")"
   ]
  },
  {
   "cell_type": "code",
   "execution_count": 500,
   "id": "393a2022-7a16-428a-831b-95c94458f972",
   "metadata": {},
   "outputs": [
    {
     "name": "stdout",
     "output_type": "stream",
     "text": [
      "Execution time: 0:00:37\n"
     ]
    }
   ],
   "source": [
    "start_gs_base = stopwatch_start()\n",
    "gs_base.fit(train_ml, target)\n",
    "stopwatch_stop(start_gs_base)"
   ]
  },
  {
   "cell_type": "code",
   "execution_count": 501,
   "id": "c26a6fe5-989f-4dbc-b217-858b13f773e9",
   "metadata": {},
   "outputs": [
    {
     "data": {
      "text/html": [
       "<style>#sk-container-id-11 {\n",
       "  /* Definition of color scheme common for light and dark mode */\n",
       "  --sklearn-color-text: black;\n",
       "  --sklearn-color-line: gray;\n",
       "  /* Definition of color scheme for unfitted estimators */\n",
       "  --sklearn-color-unfitted-level-0: #fff5e6;\n",
       "  --sklearn-color-unfitted-level-1: #f6e4d2;\n",
       "  --sklearn-color-unfitted-level-2: #ffe0b3;\n",
       "  --sklearn-color-unfitted-level-3: chocolate;\n",
       "  /* Definition of color scheme for fitted estimators */\n",
       "  --sklearn-color-fitted-level-0: #f0f8ff;\n",
       "  --sklearn-color-fitted-level-1: #d4ebff;\n",
       "  --sklearn-color-fitted-level-2: #b3dbfd;\n",
       "  --sklearn-color-fitted-level-3: cornflowerblue;\n",
       "\n",
       "  /* Specific color for light theme */\n",
       "  --sklearn-color-text-on-default-background: var(--sg-text-color, var(--theme-code-foreground, var(--jp-content-font-color1, black)));\n",
       "  --sklearn-color-background: var(--sg-background-color, var(--theme-background, var(--jp-layout-color0, white)));\n",
       "  --sklearn-color-border-box: var(--sg-text-color, var(--theme-code-foreground, var(--jp-content-font-color1, black)));\n",
       "  --sklearn-color-icon: #696969;\n",
       "\n",
       "  @media (prefers-color-scheme: dark) {\n",
       "    /* Redefinition of color scheme for dark theme */\n",
       "    --sklearn-color-text-on-default-background: var(--sg-text-color, var(--theme-code-foreground, var(--jp-content-font-color1, white)));\n",
       "    --sklearn-color-background: var(--sg-background-color, var(--theme-background, var(--jp-layout-color0, #111)));\n",
       "    --sklearn-color-border-box: var(--sg-text-color, var(--theme-code-foreground, var(--jp-content-font-color1, white)));\n",
       "    --sklearn-color-icon: #878787;\n",
       "  }\n",
       "}\n",
       "\n",
       "#sk-container-id-11 {\n",
       "  color: var(--sklearn-color-text);\n",
       "}\n",
       "\n",
       "#sk-container-id-11 pre {\n",
       "  padding: 0;\n",
       "}\n",
       "\n",
       "#sk-container-id-11 input.sk-hidden--visually {\n",
       "  border: 0;\n",
       "  clip: rect(1px 1px 1px 1px);\n",
       "  clip: rect(1px, 1px, 1px, 1px);\n",
       "  height: 1px;\n",
       "  margin: -1px;\n",
       "  overflow: hidden;\n",
       "  padding: 0;\n",
       "  position: absolute;\n",
       "  width: 1px;\n",
       "}\n",
       "\n",
       "#sk-container-id-11 div.sk-dashed-wrapped {\n",
       "  border: 1px dashed var(--sklearn-color-line);\n",
       "  margin: 0 0.4em 0.5em 0.4em;\n",
       "  box-sizing: border-box;\n",
       "  padding-bottom: 0.4em;\n",
       "  background-color: var(--sklearn-color-background);\n",
       "}\n",
       "\n",
       "#sk-container-id-11 div.sk-container {\n",
       "  /* jupyter's `normalize.less` sets `[hidden] { display: none; }`\n",
       "     but bootstrap.min.css set `[hidden] { display: none !important; }`\n",
       "     so we also need the `!important` here to be able to override the\n",
       "     default hidden behavior on the sphinx rendered scikit-learn.org.\n",
       "     See: https://github.com/scikit-learn/scikit-learn/issues/21755 */\n",
       "  display: inline-block !important;\n",
       "  position: relative;\n",
       "}\n",
       "\n",
       "#sk-container-id-11 div.sk-text-repr-fallback {\n",
       "  display: none;\n",
       "}\n",
       "\n",
       "div.sk-parallel-item,\n",
       "div.sk-serial,\n",
       "div.sk-item {\n",
       "  /* draw centered vertical line to link estimators */\n",
       "  background-image: linear-gradient(var(--sklearn-color-text-on-default-background), var(--sklearn-color-text-on-default-background));\n",
       "  background-size: 2px 100%;\n",
       "  background-repeat: no-repeat;\n",
       "  background-position: center center;\n",
       "}\n",
       "\n",
       "/* Parallel-specific style estimator block */\n",
       "\n",
       "#sk-container-id-11 div.sk-parallel-item::after {\n",
       "  content: \"\";\n",
       "  width: 100%;\n",
       "  border-bottom: 2px solid var(--sklearn-color-text-on-default-background);\n",
       "  flex-grow: 1;\n",
       "}\n",
       "\n",
       "#sk-container-id-11 div.sk-parallel {\n",
       "  display: flex;\n",
       "  align-items: stretch;\n",
       "  justify-content: center;\n",
       "  background-color: var(--sklearn-color-background);\n",
       "  position: relative;\n",
       "}\n",
       "\n",
       "#sk-container-id-11 div.sk-parallel-item {\n",
       "  display: flex;\n",
       "  flex-direction: column;\n",
       "}\n",
       "\n",
       "#sk-container-id-11 div.sk-parallel-item:first-child::after {\n",
       "  align-self: flex-end;\n",
       "  width: 50%;\n",
       "}\n",
       "\n",
       "#sk-container-id-11 div.sk-parallel-item:last-child::after {\n",
       "  align-self: flex-start;\n",
       "  width: 50%;\n",
       "}\n",
       "\n",
       "#sk-container-id-11 div.sk-parallel-item:only-child::after {\n",
       "  width: 0;\n",
       "}\n",
       "\n",
       "/* Serial-specific style estimator block */\n",
       "\n",
       "#sk-container-id-11 div.sk-serial {\n",
       "  display: flex;\n",
       "  flex-direction: column;\n",
       "  align-items: center;\n",
       "  background-color: var(--sklearn-color-background);\n",
       "  padding-right: 1em;\n",
       "  padding-left: 1em;\n",
       "}\n",
       "\n",
       "\n",
       "/* Toggleable style: style used for estimator/Pipeline/ColumnTransformer box that is\n",
       "clickable and can be expanded/collapsed.\n",
       "- Pipeline and ColumnTransformer use this feature and define the default style\n",
       "- Estimators will overwrite some part of the style using the `sk-estimator` class\n",
       "*/\n",
       "\n",
       "/* Pipeline and ColumnTransformer style (default) */\n",
       "\n",
       "#sk-container-id-11 div.sk-toggleable {\n",
       "  /* Default theme specific background. It is overwritten whether we have a\n",
       "  specific estimator or a Pipeline/ColumnTransformer */\n",
       "  background-color: var(--sklearn-color-background);\n",
       "}\n",
       "\n",
       "/* Toggleable label */\n",
       "#sk-container-id-11 label.sk-toggleable__label {\n",
       "  cursor: pointer;\n",
       "  display: block;\n",
       "  width: 100%;\n",
       "  margin-bottom: 0;\n",
       "  padding: 0.5em;\n",
       "  box-sizing: border-box;\n",
       "  text-align: center;\n",
       "}\n",
       "\n",
       "#sk-container-id-11 label.sk-toggleable__label-arrow:before {\n",
       "  /* Arrow on the left of the label */\n",
       "  content: \"▸\";\n",
       "  float: left;\n",
       "  margin-right: 0.25em;\n",
       "  color: var(--sklearn-color-icon);\n",
       "}\n",
       "\n",
       "#sk-container-id-11 label.sk-toggleable__label-arrow:hover:before {\n",
       "  color: var(--sklearn-color-text);\n",
       "}\n",
       "\n",
       "/* Toggleable content - dropdown */\n",
       "\n",
       "#sk-container-id-11 div.sk-toggleable__content {\n",
       "  max-height: 0;\n",
       "  max-width: 0;\n",
       "  overflow: hidden;\n",
       "  text-align: left;\n",
       "  /* unfitted */\n",
       "  background-color: var(--sklearn-color-unfitted-level-0);\n",
       "}\n",
       "\n",
       "#sk-container-id-11 div.sk-toggleable__content.fitted {\n",
       "  /* fitted */\n",
       "  background-color: var(--sklearn-color-fitted-level-0);\n",
       "}\n",
       "\n",
       "#sk-container-id-11 div.sk-toggleable__content pre {\n",
       "  margin: 0.2em;\n",
       "  border-radius: 0.25em;\n",
       "  color: var(--sklearn-color-text);\n",
       "  /* unfitted */\n",
       "  background-color: var(--sklearn-color-unfitted-level-0);\n",
       "}\n",
       "\n",
       "#sk-container-id-11 div.sk-toggleable__content.fitted pre {\n",
       "  /* unfitted */\n",
       "  background-color: var(--sklearn-color-fitted-level-0);\n",
       "}\n",
       "\n",
       "#sk-container-id-11 input.sk-toggleable__control:checked~div.sk-toggleable__content {\n",
       "  /* Expand drop-down */\n",
       "  max-height: 200px;\n",
       "  max-width: 100%;\n",
       "  overflow: auto;\n",
       "}\n",
       "\n",
       "#sk-container-id-11 input.sk-toggleable__control:checked~label.sk-toggleable__label-arrow:before {\n",
       "  content: \"▾\";\n",
       "}\n",
       "\n",
       "/* Pipeline/ColumnTransformer-specific style */\n",
       "\n",
       "#sk-container-id-11 div.sk-label input.sk-toggleable__control:checked~label.sk-toggleable__label {\n",
       "  color: var(--sklearn-color-text);\n",
       "  background-color: var(--sklearn-color-unfitted-level-2);\n",
       "}\n",
       "\n",
       "#sk-container-id-11 div.sk-label.fitted input.sk-toggleable__control:checked~label.sk-toggleable__label {\n",
       "  background-color: var(--sklearn-color-fitted-level-2);\n",
       "}\n",
       "\n",
       "/* Estimator-specific style */\n",
       "\n",
       "/* Colorize estimator box */\n",
       "#sk-container-id-11 div.sk-estimator input.sk-toggleable__control:checked~label.sk-toggleable__label {\n",
       "  /* unfitted */\n",
       "  background-color: var(--sklearn-color-unfitted-level-2);\n",
       "}\n",
       "\n",
       "#sk-container-id-11 div.sk-estimator.fitted input.sk-toggleable__control:checked~label.sk-toggleable__label {\n",
       "  /* fitted */\n",
       "  background-color: var(--sklearn-color-fitted-level-2);\n",
       "}\n",
       "\n",
       "#sk-container-id-11 div.sk-label label.sk-toggleable__label,\n",
       "#sk-container-id-11 div.sk-label label {\n",
       "  /* The background is the default theme color */\n",
       "  color: var(--sklearn-color-text-on-default-background);\n",
       "}\n",
       "\n",
       "/* On hover, darken the color of the background */\n",
       "#sk-container-id-11 div.sk-label:hover label.sk-toggleable__label {\n",
       "  color: var(--sklearn-color-text);\n",
       "  background-color: var(--sklearn-color-unfitted-level-2);\n",
       "}\n",
       "\n",
       "/* Label box, darken color on hover, fitted */\n",
       "#sk-container-id-11 div.sk-label.fitted:hover label.sk-toggleable__label.fitted {\n",
       "  color: var(--sklearn-color-text);\n",
       "  background-color: var(--sklearn-color-fitted-level-2);\n",
       "}\n",
       "\n",
       "/* Estimator label */\n",
       "\n",
       "#sk-container-id-11 div.sk-label label {\n",
       "  font-family: monospace;\n",
       "  font-weight: bold;\n",
       "  display: inline-block;\n",
       "  line-height: 1.2em;\n",
       "}\n",
       "\n",
       "#sk-container-id-11 div.sk-label-container {\n",
       "  text-align: center;\n",
       "}\n",
       "\n",
       "/* Estimator-specific */\n",
       "#sk-container-id-11 div.sk-estimator {\n",
       "  font-family: monospace;\n",
       "  border: 1px dotted var(--sklearn-color-border-box);\n",
       "  border-radius: 0.25em;\n",
       "  box-sizing: border-box;\n",
       "  margin-bottom: 0.5em;\n",
       "  /* unfitted */\n",
       "  background-color: var(--sklearn-color-unfitted-level-0);\n",
       "}\n",
       "\n",
       "#sk-container-id-11 div.sk-estimator.fitted {\n",
       "  /* fitted */\n",
       "  background-color: var(--sklearn-color-fitted-level-0);\n",
       "}\n",
       "\n",
       "/* on hover */\n",
       "#sk-container-id-11 div.sk-estimator:hover {\n",
       "  /* unfitted */\n",
       "  background-color: var(--sklearn-color-unfitted-level-2);\n",
       "}\n",
       "\n",
       "#sk-container-id-11 div.sk-estimator.fitted:hover {\n",
       "  /* fitted */\n",
       "  background-color: var(--sklearn-color-fitted-level-2);\n",
       "}\n",
       "\n",
       "/* Specification for estimator info (e.g. \"i\" and \"?\") */\n",
       "\n",
       "/* Common style for \"i\" and \"?\" */\n",
       "\n",
       ".sk-estimator-doc-link,\n",
       "a:link.sk-estimator-doc-link,\n",
       "a:visited.sk-estimator-doc-link {\n",
       "  float: right;\n",
       "  font-size: smaller;\n",
       "  line-height: 1em;\n",
       "  font-family: monospace;\n",
       "  background-color: var(--sklearn-color-background);\n",
       "  border-radius: 1em;\n",
       "  height: 1em;\n",
       "  width: 1em;\n",
       "  text-decoration: none !important;\n",
       "  margin-left: 1ex;\n",
       "  /* unfitted */\n",
       "  border: var(--sklearn-color-unfitted-level-1) 1pt solid;\n",
       "  color: var(--sklearn-color-unfitted-level-1);\n",
       "}\n",
       "\n",
       ".sk-estimator-doc-link.fitted,\n",
       "a:link.sk-estimator-doc-link.fitted,\n",
       "a:visited.sk-estimator-doc-link.fitted {\n",
       "  /* fitted */\n",
       "  border: var(--sklearn-color-fitted-level-1) 1pt solid;\n",
       "  color: var(--sklearn-color-fitted-level-1);\n",
       "}\n",
       "\n",
       "/* On hover */\n",
       "div.sk-estimator:hover .sk-estimator-doc-link:hover,\n",
       ".sk-estimator-doc-link:hover,\n",
       "div.sk-label-container:hover .sk-estimator-doc-link:hover,\n",
       ".sk-estimator-doc-link:hover {\n",
       "  /* unfitted */\n",
       "  background-color: var(--sklearn-color-unfitted-level-3);\n",
       "  color: var(--sklearn-color-background);\n",
       "  text-decoration: none;\n",
       "}\n",
       "\n",
       "div.sk-estimator.fitted:hover .sk-estimator-doc-link.fitted:hover,\n",
       ".sk-estimator-doc-link.fitted:hover,\n",
       "div.sk-label-container:hover .sk-estimator-doc-link.fitted:hover,\n",
       ".sk-estimator-doc-link.fitted:hover {\n",
       "  /* fitted */\n",
       "  background-color: var(--sklearn-color-fitted-level-3);\n",
       "  color: var(--sklearn-color-background);\n",
       "  text-decoration: none;\n",
       "}\n",
       "\n",
       "/* Span, style for the box shown on hovering the info icon */\n",
       ".sk-estimator-doc-link span {\n",
       "  display: none;\n",
       "  z-index: 9999;\n",
       "  position: relative;\n",
       "  font-weight: normal;\n",
       "  right: .2ex;\n",
       "  padding: .5ex;\n",
       "  margin: .5ex;\n",
       "  width: min-content;\n",
       "  min-width: 20ex;\n",
       "  max-width: 50ex;\n",
       "  color: var(--sklearn-color-text);\n",
       "  box-shadow: 2pt 2pt 4pt #999;\n",
       "  /* unfitted */\n",
       "  background: var(--sklearn-color-unfitted-level-0);\n",
       "  border: .5pt solid var(--sklearn-color-unfitted-level-3);\n",
       "}\n",
       "\n",
       ".sk-estimator-doc-link.fitted span {\n",
       "  /* fitted */\n",
       "  background: var(--sklearn-color-fitted-level-0);\n",
       "  border: var(--sklearn-color-fitted-level-3);\n",
       "}\n",
       "\n",
       ".sk-estimator-doc-link:hover span {\n",
       "  display: block;\n",
       "}\n",
       "\n",
       "/* \"?\"-specific style due to the `<a>` HTML tag */\n",
       "\n",
       "#sk-container-id-11 a.estimator_doc_link {\n",
       "  float: right;\n",
       "  font-size: 1rem;\n",
       "  line-height: 1em;\n",
       "  font-family: monospace;\n",
       "  background-color: var(--sklearn-color-background);\n",
       "  border-radius: 1rem;\n",
       "  height: 1rem;\n",
       "  width: 1rem;\n",
       "  text-decoration: none;\n",
       "  /* unfitted */\n",
       "  color: var(--sklearn-color-unfitted-level-1);\n",
       "  border: var(--sklearn-color-unfitted-level-1) 1pt solid;\n",
       "}\n",
       "\n",
       "#sk-container-id-11 a.estimator_doc_link.fitted {\n",
       "  /* fitted */\n",
       "  border: var(--sklearn-color-fitted-level-1) 1pt solid;\n",
       "  color: var(--sklearn-color-fitted-level-1);\n",
       "}\n",
       "\n",
       "/* On hover */\n",
       "#sk-container-id-11 a.estimator_doc_link:hover {\n",
       "  /* unfitted */\n",
       "  background-color: var(--sklearn-color-unfitted-level-3);\n",
       "  color: var(--sklearn-color-background);\n",
       "  text-decoration: none;\n",
       "}\n",
       "\n",
       "#sk-container-id-11 a.estimator_doc_link.fitted:hover {\n",
       "  /* fitted */\n",
       "  background-color: var(--sklearn-color-fitted-level-3);\n",
       "}\n",
       "</style><div id=\"sk-container-id-11\" class=\"sk-top-container\"><div class=\"sk-text-repr-fallback\"><pre>LGBMRegressor(max_depth=3, n_estimators=150, random_state=42, verbose=-1)</pre><b>In a Jupyter environment, please rerun this cell to show the HTML representation or trust the notebook. <br />On GitHub, the HTML representation is unable to render, please try loading this page with nbviewer.org.</b></div><div class=\"sk-container\" hidden><div class=\"sk-item\"><div class=\"sk-estimator fitted sk-toggleable\"><input class=\"sk-toggleable__control sk-hidden--visually\" id=\"sk-estimator-id-11\" type=\"checkbox\" checked><label for=\"sk-estimator-id-11\" class=\"sk-toggleable__label fitted sk-toggleable__label-arrow fitted\">&nbsp;LGBMRegressor<span class=\"sk-estimator-doc-link fitted\">i<span>Fitted</span></span></label><div class=\"sk-toggleable__content fitted\"><pre>LGBMRegressor(max_depth=3, n_estimators=150, random_state=42, verbose=-1)</pre></div> </div></div></div></div>"
      ],
      "text/plain": [
       "LGBMRegressor(max_depth=3, n_estimators=150, random_state=42, verbose=-1)"
      ]
     },
     "execution_count": 501,
     "metadata": {},
     "output_type": "execute_result"
    }
   ],
   "source": [
    "gs_base.best_estimator_"
   ]
  },
  {
   "cell_type": "code",
   "execution_count": 502,
   "id": "339c7046-d6c2-445b-b6ac-a9fb1d45db37",
   "metadata": {},
   "outputs": [
    {
     "data": {
      "text/plain": [
       "-3379.674885860381"
      ]
     },
     "execution_count": 502,
     "metadata": {},
     "output_type": "execute_result"
    }
   ],
   "source": [
    "gs_base.best_score_"
   ]
  },
  {
   "cell_type": "code",
   "execution_count": 503,
   "id": "da73693f-5939-4714-b4e9-1d491b8bfbf1",
   "metadata": {},
   "outputs": [],
   "source": [
    "gs_base_best_results = pd.DataFrame(gs_base.cv_results_).sort_values('rank_test_score').iloc[0]"
   ]
  },
  {
   "cell_type": "code",
   "execution_count": 504,
   "id": "8799d1a2-d995-4adb-a911-19319d220a1e",
   "metadata": {},
   "outputs": [],
   "source": [
    "gs_base_best_results_splits_iloc = \\\n",
    "    list(np.where(pd.Series(gs_base_best_results.index).str.contains('split'))[0])"
   ]
  },
  {
   "cell_type": "code",
   "execution_count": 505,
   "id": "f7313692-8247-4d3a-87aa-4042c8b420b2",
   "metadata": {},
   "outputs": [],
   "source": [
    "gs_base_best_results_splits = gs_base_best_results.T.iloc[gs_base_best_results_splits_iloc]"
   ]
  },
  {
   "cell_type": "code",
   "execution_count": 506,
   "id": "486959cc-b354-4332-93a5-1f287201848f",
   "metadata": {},
   "outputs": [],
   "source": [
    "gs_base_best_results_splits = gs_base_best_results_splits.abs()"
   ]
  },
  {
   "cell_type": "code",
   "execution_count": 507,
   "id": "c4103faa-1c3e-4ede-b9bc-30721ca54984",
   "metadata": {},
   "outputs": [
    {
     "data": {
      "text/plain": [
       "split0_test_score     1803.07712\n",
       "split1_test_score     2007.49335\n",
       "split2_test_score    2877.777065\n",
       "split3_test_score    5356.669385\n",
       "split4_test_score    4853.357509\n",
       "Name: 3, dtype: object"
      ]
     },
     "execution_count": 507,
     "metadata": {},
     "output_type": "execute_result"
    }
   ],
   "source": [
    "gs_base_best_results_splits"
   ]
  },
  {
   "cell_type": "code",
   "execution_count": 508,
   "id": "8591578b-9934-441e-bc8f-cc7ead83ae10",
   "metadata": {},
   "outputs": [
    {
     "data": {
      "image/png": "[encoded data removed]",
      "text/plain": [
       "<Figure size 800x250 with 1 Axes>"
      ]
     },
     "metadata": {},
     "output_type": "display_data"
    }
   ],
   "source": [
    "plt.scatter(\n",
    "    x=gs_base_best_results_splits.index,\n",
    "    y=gs_base_best_results_splits.values, s=75)\n",
    "plt.xticks(gs_base_best_results_splits.index, months_list[2:7])\n",
    "axis_rstyle(yticks=[1000, 6000, 1000], grid=True)"
   ]
  },
  {
   "cell_type": "code",
   "execution_count": 509,
   "id": "6783c56f-e149-4a57-885e-60b519e9d347",
   "metadata": {},
   "outputs": [],
   "source": [
    "feature_importance = pd.DataFrame({\n",
    "    'Feature': gs_base.best_estimator_.feature_name_,\n",
    "    'Importance': gs_base.best_estimator_.feature_importances_\n",
    "})\n",
    "feature_importance.sort_values('Importance', ascending=False, inplace=True)"
   ]
  },
  {
   "cell_type": "code",
   "execution_count": 510,
   "id": "5e9c0323-1610-43da-8a7b-d0b94658dfcf",
   "metadata": {},
   "outputs": [],
   "source": [
    "data_plot = feature_importance.loc[feature_importance['Importance']>0,:]\n",
    "data_plot = data_plot.sort_values('Importance', ascending=False)"
   ]
  },
  {
   "cell_type": "code",
   "execution_count": 511,
   "id": "2ccc6bef-3180-4346-abb7-13de8eb3fec6",
   "metadata": {},
   "outputs": [
    {
     "data": {
      "text/html": [
       "<div>\n",
       "<style scoped>\n",
       "    .dataframe tbody tr th:only-of-type {\n",
       "        vertical-align: middle;\n",
       "    }\n",
       "\n",
       "    .dataframe tbody tr th {\n",
       "        vertical-align: top;\n",
       "    }\n",
       "\n",
       "    .dataframe thead th {\n",
       "        text-align: right;\n",
       "    }\n",
       "</style>\n",
       "<table border=\"1\" class=\"dataframe\">\n",
       "  <thead>\n",
       "    <tr style=\"text-align: right;\">\n",
       "      <th></th>\n",
       "      <th>Feature</th>\n",
       "      <th>Importance</th>\n",
       "    </tr>\n",
       "  </thead>\n",
       "  <tbody>\n",
       "    <tr>\n",
       "      <th>17</th>\n",
       "      <td>minute_of_day</td>\n",
       "      <td>257</td>\n",
       "    </tr>\n",
       "    <tr>\n",
       "      <th>8</th>\n",
       "      <td>day_number</td>\n",
       "      <td>229</td>\n",
       "    </tr>\n",
       "    <tr>\n",
       "      <th>24</th>\n",
       "      <td>target_previous_month</td>\n",
       "      <td>122</td>\n",
       "    </tr>\n",
       "    <tr>\n",
       "      <th>13</th>\n",
       "      <td>target_diff</td>\n",
       "      <td>72</td>\n",
       "    </tr>\n",
       "    <tr>\n",
       "      <th>10</th>\n",
       "      <td>weekday</td>\n",
       "      <td>45</td>\n",
       "    </tr>\n",
       "  </tbody>\n",
       "</table>\n",
       "</div>"
      ],
      "text/plain": [
       "                  Feature  Importance\n",
       "17          minute_of_day         257\n",
       "8              day_number         229\n",
       "24  target_previous_month         122\n",
       "13            target_diff          72\n",
       "10                weekday          45"
      ]
     },
     "execution_count": 511,
     "metadata": {},
     "output_type": "execute_result"
    }
   ],
   "source": [
    "data_plot.head()"
   ]
  },
  {
   "cell_type": "code",
   "execution_count": 512,
   "id": "44ae3f6b-140a-4a18-a374-a014cc753acd",
   "metadata": {},
   "outputs": [],
   "source": [
    "values = data_plot['Importance'][:10]\n",
    "labels = data_plot['Feature'][:10]"
   ]
  },
  {
   "cell_type": "code",
   "execution_count": 513,
   "id": "d185707c-403b-45ae-bfd8-e5ab18894f69",
   "metadata": {},
   "outputs": [
    {
     "data": {
      "image/png": "[encoded data removed]",
      "text/plain": [
       "<Figure size 300x250 with 1 Axes>"
      ]
     },
     "metadata": {},
     "output_type": "display_data"
    }
   ],
   "source": [
    "fig = plot_bar_horizontal(\n",
    "    values=values,\n",
    "    labels=labels,\n",
    "    labelsize=9,\n",
    "    labelcolor='0.3',\n",
    "    labelweight='medium',\n",
    "    figsize=(3, 2.5),\n",
    "    kind='lol',\n",
    "    width=0.5,\n",
    "    s=15,\n",
    "    x_lim_right=300\n",
    ")\n",
    "# savefig('feature_importance', save_img)"
   ]
  },
  {
   "cell_type": "markdown",
   "id": "814997b5-be1f-4a68-a4fc-adf57739b4e5",
   "metadata": {},
   "source": [
    "## ML-model enhancement"
   ]
  },
  {
   "cell_type": "raw",
   "id": "5ac63c95-7854-46b2-ad99-87333954cd29",
   "metadata": {},
   "source": [
    "def datetime_previous_month(x):\n",
    "    '''\n",
    "    Return previous month analog datetime if exist, else - none\n",
    "    '''\n",
    "    current_month = x.month\n",
    "    if current_month == 1:\n",
    "        previous_month = 12\n",
    "        previous_year = x.year - 1\n",
    "        new_date = x.replace(month=previous_month, year=previous_year)\n",
    "    else:\n",
    "        previous_month = current_month - 1\n",
    "        new_date = x.replace(month=previous_month)\n",
    "\n",
    "    return new_date"
   ]
  },
  {
   "cell_type": "raw",
   "id": "84b34898-ee4c-456b-854e-8a792f4c0499",
   "metadata": {},
   "source": [
    "def feature_diff_previous_pre_previous(data, feature):\n",
    "    \n",
    "    '''\n",
    "    df.index as datetime variable\n",
    "    \n",
    "    current date, value: 01.03.2000, X\n",
    "    previous date, value: 01.02.2000, a\n",
    "    pre-previous date, value: 01.01.2000, b\n",
    "\n",
    "    return X = a - b\n",
    "    '''\n",
    "\n",
    "    df = data.copy()\n",
    "\n",
    "    months_unique = df.index.month.unique().tolist()\n",
    "    first_month = months_unique[0]\n",
    "    index_first = df[df['month']==first_month].index\n",
    "    len_first = len(df[df['month']==first_month])\n",
    "    values_first = df.loc[index_first, feature]\n",
    "    new_values = np.empty(len_first)\n",
    "    new_values[:] = np.NaN\n",
    "    \n",
    "    for month in months_unique:\n",
    "        if month > first_month:\n",
    "            index_current = df[df['month']==month].index\n",
    "            len_current = len(df.loc[index_current])\n",
    "            \n",
    "            print(len(index_current), len(index_first))\n",
    "            \n",
    "            if len_current < len_first:\n",
    "                values_current = df.loc[index_current, feature]\n",
    "                values_first_ = values_first[:len_current]\n",
    "                diff = (values_current.values - values_first_.values).tolist()\n",
    "            else:\n",
    "                len_diff = len_current - len_first\n",
    "                values_current = df.loc[index_current, feature]\n",
    "                values_current = values_current[:len_first]\n",
    "                diff = (values_current.values - values_first.values).tolist()\n",
    "                # diff.extend(diff[-len_diff:])\n",
    "                # new_values.append(diff)\n",
    "            new_values = np.append(new_values, diff)\n",
    "\n",
    "    return new_values"
   ]
  },
  {
   "cell_type": "code",
   "execution_count": null,
   "id": "b9744ecc-7345-4485-b449-712c414194a9",
   "metadata": {},
   "outputs": [],
   "source": []
  },
  {
   "cell_type": "code",
   "execution_count": null,
   "id": "2b18b66e-f435-48cc-8d3f-93063af47c9b",
   "metadata": {},
   "outputs": [],
   "source": []
  },
  {
   "cell_type": "code",
   "execution_count": null,
   "id": "e6fb3f33-52fd-4ab2-a24f-350f64dc1e22",
   "metadata": {},
   "outputs": [],
   "source": []
  },
  {
   "cell_type": "code",
   "execution_count": null,
   "id": "42138613-247c-44ce-a61e-f719011ab943",
   "metadata": {},
   "outputs": [],
   "source": []
  },
  {
   "cell_type": "code",
   "execution_count": null,
   "id": "cb4f86f8-a4c1-4d8d-a38d-b0f72621deef",
   "metadata": {},
   "outputs": [],
   "source": []
  },
  {
   "cell_type": "code",
   "execution_count": null,
   "id": "87ed3032-07f8-4006-b4fd-ba89ab37c176",
   "metadata": {},
   "outputs": [],
   "source": []
  },
  {
   "cell_type": "code",
   "execution_count": null,
   "id": "4650220e-2483-446c-99fb-535bbd1c113e",
   "metadata": {},
   "outputs": [],
   "source": []
  },
  {
   "cell_type": "code",
   "execution_count": null,
   "id": "d4eeb5f5-990b-42be-a2bd-811d65f77352",
   "metadata": {},
   "outputs": [],
   "source": []
  },
  {
   "cell_type": "code",
   "execution_count": null,
   "id": "6e79714d-99b5-48c6-a942-ef253ec23311",
   "metadata": {},
   "outputs": [],
   "source": []
  },
  {
   "cell_type": "code",
   "execution_count": null,
   "id": "9bb016d0-3557-456c-a566-ed6600be111b",
   "metadata": {},
   "outputs": [],
   "source": []
  },
  {
   "cell_type": "code",
   "execution_count": null,
   "id": "a4d615fc-a1cc-4f64-b353-1572b582502b",
   "metadata": {},
   "outputs": [],
   "source": []
  },
  {
   "cell_type": "markdown",
   "id": "141f4ff4-2132-4ea8-bf25-6dc6a8ea57f5",
   "metadata": {},
   "source": [
    "## Save Data"
   ]
  },
  {
   "cell_type": "code",
   "execution_count": null,
   "id": "609e74e0-cee0-4ac3-a51f-a6ddb7e25a38",
   "metadata": {},
   "outputs": [],
   "source": []
  },
  {
   "cell_type": "markdown",
   "id": "19db2316-0b0b-4cc5-8948-e1716acc21c2",
   "metadata": {},
   "source": [
    "### Execution time"
   ]
  },
  {
   "cell_type": "code",
   "execution_count": 516,
   "id": "d881449f-ea7a-4006-8501-9d615048035f",
   "metadata": {},
   "outputs": [
    {
     "name": "stdout",
     "output_type": "stream",
     "text": [
      "Execution time: 0:00:38\n"
     ]
    }
   ],
   "source": [
    "stopwatch_stop(start)"
   ]
  }
 ],
 "metadata": {
  "kernelspec": {
   "display_name": "autoregression-boosting",
   "language": "python",
   "name": "autoregression-boosting"
  },
  "language_info": {
   "codemirror_mode": {
    "name": "ipython",
    "version": 3
   },
   "file_extension": ".py",
   "mimetype": "text/x-python",
   "name": "python",
   "nbconvert_exporter": "python",
   "pygments_lexer": "ipython3",
   "version": "3.12.4"
  }
 },
 "nbformat": 4,
 "nbformat_minor": 5
}
