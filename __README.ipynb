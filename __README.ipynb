{
 "cells": [
  {
   "cell_type": "markdown",
   "id": "78bfe284-6e8e-4e67-acf8-9c95980499a3",
   "metadata": {},
   "source": [
    "# Electric Power Consumption\n",
    "\n",
    "https://www.kaggle.com/datasets/fedesoriano/electric-power-consumption/data\n",
    "\n",
    "<img src='img/header.png'>"
   ]
  },
  {
   "cell_type": "code",
   "execution_count": null,
   "id": "482feea7-8873-470a-bcbe-658765d8058f",
   "metadata": {},
   "outputs": [],
   "source": []
  }
 ],
 "metadata": {
  "kernelspec": {
   "display_name": "venv_kgl_electric_power_consumption",
   "language": "python",
   "name": "venv_kgl_electric_power_consumption"
  },
  "language_info": {
   "codemirror_mode": {
    "name": "ipython",
    "version": 3
   },
   "file_extension": ".py",
   "mimetype": "text/x-python",
   "name": "python",
   "nbconvert_exporter": "python",
   "pygments_lexer": "ipython3",
   "version": "3.12.2"
  }
 },
 "nbformat": 4,
 "nbformat_minor": 5
}
