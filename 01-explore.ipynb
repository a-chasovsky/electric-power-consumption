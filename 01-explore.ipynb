{
 "cells": [
  {
   "cell_type": "code",
   "execution_count": 1,
   "id": "558e201e-d7f1-4fcc-be02-e674951491fb",
   "metadata": {},
   "outputs": [],
   "source": [
    "# run stopwatch\n",
    "from tools import Stopwatch\n",
    "stopwatch = Stopwatch()\n",
    "start = stopwatch.start()"
   ]
  },
  {
   "cell_type": "markdown",
   "id": "a263cdcf-2c8a-432d-b9a9-9f225bb61ddd",
   "metadata": {},
   "source": [
    "### Load libraries, functions, palette, theme"
   ]
  },
  {
   "cell_type": "code",
   "execution_count": null,
   "id": "dac00212-4d8f-42aa-825b-ed3f6754c3a7",
   "metadata": {},
   "outputs": [],
   "source": [
    "%run _libraries.ipynb"
   ]
  },
  {
   "cell_type": "code",
   "execution_count": null,
   "id": "3005d160-0d47-41c2-a725-12ba6d4abc78",
   "metadata": {},
   "outputs": [],
   "source": [
    "plt.plot(\n",
    "    train.loc['2017-07', 'target1']\n",
    ")\n",
    "axis_rstyle()"
   ]
  },
  {
   "cell_type": "code",
   "execution_count": null,
   "id": "d7e7c295-4c5c-44c5-aadd-446cc5be4a56",
   "metadata": {},
   "outputs": [],
   "source": []
  },
  {
   "cell_type": "code",
   "execution_count": null,
   "id": "9d9689d4-fb85-4586-b69f-9b7445b43891",
   "metadata": {},
   "outputs": [],
   "source": []
  },
  {
   "cell_type": "code",
   "execution_count": null,
   "id": "810574bb-f9e1-441d-9f84-6b56f49a777a",
   "metadata": {},
   "outputs": [],
   "source": []
  },
  {
   "cell_type": "code",
   "execution_count": null,
   "id": "1617635d-0034-43b2-a560-25984499e847",
   "metadata": {},
   "outputs": [],
   "source": [
    "%run _functions.ipynb"
   ]
  },
  {
   "cell_type": "code",
   "execution_count": null,
   "id": "df722b6b-c281-4d1b-996e-84acaad2dadf",
   "metadata": {},
   "outputs": [],
   "source": [
    "dir_current = '01-explore'"
   ]
  },
  {
   "cell_type": "code",
   "execution_count": null,
   "id": "a5fe39db-3773-41a5-8b22-f406e3990803",
   "metadata": {},
   "outputs": [],
   "source": [
    "dir_save_files = 'files/'"
   ]
  },
  {
   "cell_type": "code",
   "execution_count": null,
   "id": "a728d4dd-31c0-4b78-8a73-eace54c68f0b",
   "metadata": {},
   "outputs": [],
   "source": [
    "dir_save_img = 'docs/img/'"
   ]
  },
  {
   "cell_type": "code",
   "execution_count": null,
   "id": "d4aec405-1201-4063-993e-478689909b7c",
   "metadata": {},
   "outputs": [],
   "source": [
    "session_name = dir_current"
   ]
  },
  {
   "cell_type": "markdown",
   "id": "29beaf88-707a-4d9b-be4b-4885dd752ce7",
   "metadata": {},
   "source": [
    "# Section I. Research"
   ]
  },
  {
   "cell_type": "markdown",
   "id": "6a0e3259-ebaf-4e9c-be3e-125a948e27ca",
   "metadata": {},
   "source": [
    "## Load Saved Section if exists"
   ]
  },
  {
   "cell_type": "raw",
   "id": "8117fd61-1e0a-4994-97b7-315e1631f953",
   "metadata": {},
   "source": [
    "if os.path.exists(f'sessions/{dir_save}'):\n",
    "    load_session(dir_save)\n",
    "else:\n",
    "    print(f\"No such session: 'sessions/{dir_save}'\")"
   ]
  },
  {
   "cell_type": "markdown",
   "id": "73b7edbb-d5f0-49fd-9963-16de3da0285a",
   "metadata": {
    "id": "c7980b49-f759-4a9d-bf5e-0eb93a75615a",
    "tags": []
   },
   "source": [
    "## Load Data"
   ]
  },
  {
   "cell_type": "code",
   "execution_count": null,
   "id": "467632f1-371f-41be-a881-7cf19f0ea23f",
   "metadata": {},
   "outputs": [],
   "source": [
    "data_raw = pd.read_csv('data/powerconsumption.csv')"
   ]
  },
  {
   "cell_type": "code",
   "execution_count": null,
   "id": "7ffd736d-8a96-41d4-895c-94a1494812bb",
   "metadata": {},
   "outputs": [],
   "source": [
    "data_raw.head()"
   ]
  },
  {
   "cell_type": "markdown",
   "id": "0493603e-f23b-4a69-941d-dfe134d551b2",
   "metadata": {},
   "source": [
    "#### Transform names"
   ]
  },
  {
   "cell_type": "code",
   "execution_count": null,
   "id": "e413f9ef-52e8-4484-b31f-022ec1ec4ea8",
   "metadata": {},
   "outputs": [],
   "source": [
    "data_raw = data_raw.rename(columns={\n",
    "    'PowerConsumption_Zone1': 'target1',\n",
    "    'PowerConsumption_Zone2': 'target2',\n",
    "    'PowerConsumption_Zone3': 'target3'\n",
    "})"
   ]
  },
  {
   "cell_type": "code",
   "execution_count": null,
   "id": "6bc090ed-3f80-4d06-af61-41b7bfc89250",
   "metadata": {},
   "outputs": [],
   "source": [
    "data_raw.columns = map(str.lower, data_raw.columns)"
   ]
  },
  {
   "cell_type": "markdown",
   "id": "c7919cd2-1ad9-4da6-bab4-daa914d186c2",
   "metadata": {},
   "source": [
    "#### Date to index"
   ]
  },
  {
   "cell_type": "code",
   "execution_count": null,
   "id": "835cd2a8-450b-447b-837e-345688e731fe",
   "metadata": {},
   "outputs": [],
   "source": [
    "data_raw['datetime'] = pd.to_datetime(data_raw['datetime'])"
   ]
  },
  {
   "cell_type": "code",
   "execution_count": null,
   "id": "14020b18-ed62-47de-ae02-65055d0d8ff4",
   "metadata": {},
   "outputs": [],
   "source": [
    "data_raw = data_raw.set_index('datetime', drop=True).asfreq('10min')"
   ]
  },
  {
   "cell_type": "code",
   "execution_count": null,
   "id": "aa5d7cf7-cb47-493d-8536-9a7ed0a458cb",
   "metadata": {},
   "outputs": [],
   "source": [
    "data_raw.index.name = None"
   ]
  },
  {
   "cell_type": "code",
   "execution_count": null,
   "id": "0eadc75c-da7b-463c-bf81-580a2bf24b81",
   "metadata": {},
   "outputs": [],
   "source": [
    "data_raw.head()"
   ]
  },
  {
   "cell_type": "markdown",
   "id": "f4f79d5c-92d2-460e-89c1-9d2ca136b86e",
   "metadata": {},
   "source": [
    "#### Check NaNs"
   ]
  },
  {
   "cell_type": "code",
   "execution_count": null,
   "id": "e69d24d2-d08b-4a43-9f8c-6279141daab3",
   "metadata": {},
   "outputs": [],
   "source": [
    "is_nan(data_raw)"
   ]
  },
  {
   "cell_type": "markdown",
   "id": "dba62e2e-398f-429e-8ad1-633524acae2e",
   "metadata": {},
   "source": [
    "#### Check duplicates"
   ]
  },
  {
   "cell_type": "code",
   "execution_count": null,
   "id": "ad946766-29a3-4519-a79e-a60ccf57877e",
   "metadata": {},
   "outputs": [],
   "source": [
    "data_raw[data_raw.duplicated()]"
   ]
  },
  {
   "cell_type": "markdown",
   "id": "2e49827a-13ea-4193-a1c6-b099be45eb2d",
   "metadata": {
    "id": "1bb693df-937d-4f1e-ac18-9207d45acfab"
   },
   "source": [
    "## Data Split"
   ]
  },
  {
   "cell_type": "code",
   "execution_count": null,
   "id": "3ca350c6-33f4-4aaa-8593-9ab9f0efcf92",
   "metadata": {},
   "outputs": [],
   "source": [
    "data_raw.shape"
   ]
  },
  {
   "cell_type": "code",
   "execution_count": null,
   "id": "5c46c404-beeb-45ac-976e-dfe6883aec53",
   "metadata": {},
   "outputs": [],
   "source": [
    "train = data_raw.loc['2017-01': '2017-07'].copy()"
   ]
  },
  {
   "cell_type": "code",
   "execution_count": null,
   "id": "9184667b-b9e1-4694-9242-6d8a4da9192a",
   "metadata": {},
   "outputs": [],
   "source": [
    "train = train.asfreq('10min').copy()"
   ]
  },
  {
   "cell_type": "code",
   "execution_count": null,
   "id": "a7826f41-4e67-4acc-83c2-9fca9dd4718d",
   "metadata": {},
   "outputs": [],
   "source": [
    "valid = data_raw.loc['2017-08'].copy()"
   ]
  },
  {
   "cell_type": "code",
   "execution_count": null,
   "id": "ccae22d9-c3bd-4d3d-a17b-0f8843495f16",
   "metadata": {},
   "outputs": [],
   "source": [
    "valid = valid.asfreq('10min').copy()"
   ]
  },
  {
   "cell_type": "code",
   "execution_count": null,
   "id": "476ee239-082a-49a1-a75d-9c2fd19a3fc0",
   "metadata": {},
   "outputs": [],
   "source": [
    "test = data_raw.loc['2017-09'].copy()"
   ]
  },
  {
   "cell_type": "code",
   "execution_count": null,
   "id": "b4680d1c-9615-479a-a0bf-790ed44ab9a3",
   "metadata": {},
   "outputs": [],
   "source": [
    "test = test.asfreq('10min').copy()"
   ]
  },
  {
   "cell_type": "code",
   "execution_count": null,
   "id": "de982ab5-ad70-4445-93a2-fd801d5cd540",
   "metadata": {},
   "outputs": [],
   "source": [
    "train.shape"
   ]
  },
  {
   "cell_type": "code",
   "execution_count": null,
   "id": "c058471b-2c85-40d9-90e0-d888f8b29c4c",
   "metadata": {},
   "outputs": [],
   "source": [
    "valid.shape"
   ]
  },
  {
   "cell_type": "code",
   "execution_count": null,
   "id": "8c492445-cdb1-4e63-b600-102514265b59",
   "metadata": {},
   "outputs": [],
   "source": [
    "test.shape"
   ]
  },
  {
   "cell_type": "markdown",
   "id": "dcdf22ec-c658-40ab-b589-ab11b6951352",
   "metadata": {},
   "source": [
    "## Explore"
   ]
  },
  {
   "cell_type": "code",
   "execution_count": null,
   "id": "2d993da1-2dcf-447d-b8bc-04d4f44f7a5f",
   "metadata": {},
   "outputs": [],
   "source": [
    "train.info()"
   ]
  },
  {
   "cell_type": "code",
   "execution_count": null,
   "id": "4b042454-3d1c-4792-b64b-6e7cce1301ae",
   "metadata": {},
   "outputs": [],
   "source": [
    "data_describe(train)"
   ]
  },
  {
   "cell_type": "code",
   "execution_count": null,
   "id": "5295c030-89d0-47f9-b6a8-0158593218eb",
   "metadata": {},
   "outputs": [],
   "source": [
    "train.describe()"
   ]
  },
  {
   "cell_type": "code",
   "execution_count": null,
   "id": "af0f2c75-7f73-45fc-9e00-a53b8e69cc42",
   "metadata": {},
   "outputs": [],
   "source": [
    "f = plot_gridplot(\n",
    "    data=train,\n",
    "    features=train.columns,\n",
    "    figsize=(10,6),\n",
    "    ncols=3,\n",
    "    kind='hist',\n",
    "    plot_shape='rectangle',\n",
    "    hscale=1.6,\n",
    "    histplot_kwargs={'bins': 50})"
   ]
  },
  {
   "cell_type": "markdown",
   "id": "a3be2c2b-8bc9-4a32-842d-635a37e3c591",
   "metadata": {},
   "source": [
    "### Variables lists"
   ]
  },
  {
   "cell_type": "code",
   "execution_count": null,
   "id": "ee1a49ee-222d-41fd-af93-ba9b0d5a367f",
   "metadata": {},
   "outputs": [],
   "source": [
    "features = [\n",
    "    'temperature', 'humidity', 'windspeed',\n",
    "    'generaldiffuseflows', 'diffuseflows'\n",
    "]"
   ]
  },
  {
   "cell_type": "markdown",
   "id": "6d14e7ae-863a-472c-bb4e-e738d2113d08",
   "metadata": {},
   "source": [
    "### Datetime features"
   ]
  },
  {
   "cell_type": "code",
   "execution_count": null,
   "id": "53d6e362-d790-46c8-94d6-7cb759bd52ca",
   "metadata": {},
   "outputs": [],
   "source": [
    "train['minute'] = train.index.minute\n",
    "valid['minute'] = valid.index.minute"
   ]
  },
  {
   "cell_type": "code",
   "execution_count": null,
   "id": "ac4f4dfb-ec2e-4182-9b0c-374830b790f2",
   "metadata": {},
   "outputs": [],
   "source": [
    "train['hour'] = train.index.hour\n",
    "valid['hour'] = valid.index.hour"
   ]
  },
  {
   "cell_type": "code",
   "execution_count": null,
   "id": "2b0faddf-a605-4167-96ac-2a2829149d93",
   "metadata": {},
   "outputs": [],
   "source": [
    "train['day'] = train.index.day\n",
    "valid['day'] = valid.index.day"
   ]
  },
  {
   "cell_type": "code",
   "execution_count": null,
   "id": "2a7f6cb3-5aee-4611-b289-5ff19e1e17cd",
   "metadata": {},
   "outputs": [],
   "source": [
    "# day numbers since beginning of dataset\n",
    "train['day_number'] = train.index.day_of_year - train.index.day_of_year.min() + 1\n",
    "valid['day_number'] = valid.index.day_of_year - valid.index.day_of_year.min() + 1"
   ]
  },
  {
   "cell_type": "code",
   "execution_count": null,
   "id": "59d83cfb-3058-4b41-8d97-2494b8d95515",
   "metadata": {},
   "outputs": [],
   "source": [
    "train['day_of_year'] = train.index.day_of_year\n",
    "valid['day_of_year'] = valid.index.day_of_year"
   ]
  },
  {
   "cell_type": "code",
   "execution_count": null,
   "id": "48f577f2-3b0f-4a20-b7fd-3392df800c3c",
   "metadata": {},
   "outputs": [],
   "source": [
    "train['weekday'] = train.index.weekday\n",
    "valid['weekday'] = valid.index.weekday"
   ]
  },
  {
   "cell_type": "code",
   "execution_count": null,
   "id": "c148345e-8945-4e49-86e4-7aa51aae9556",
   "metadata": {},
   "outputs": [],
   "source": [
    "train['week'] = train.index.isocalendar().week\n",
    "train['week'] = train['week'].astype(int)\n",
    "# train.loc['2017-01-01', 'week'] = 1\n",
    "valid['week'] = valid.index.isocalendar().week\n",
    "valid['week'] = valid['week'].astype(int)"
   ]
  },
  {
   "cell_type": "code",
   "execution_count": null,
   "id": "22907a52-bac0-4ab2-9169-8c3f8a819f77",
   "metadata": {},
   "outputs": [],
   "source": [
    "train['month'] = train.index.month\n",
    "valid['month'] = valid.index.month"
   ]
  },
  {
   "cell_type": "code",
   "execution_count": null,
   "id": "16176ba1-70b9-4589-bd2d-d04b30f68a1a",
   "metadata": {},
   "outputs": [],
   "source": [
    "train[\"year_month\"] = train.index.to_period('M')\n",
    "# train[\"year_month\"] = train[\"year_month\"].astype(str)\n",
    "valid[\"year_month\"] = valid.index.to_period('M')"
   ]
  },
  {
   "cell_type": "code",
   "execution_count": null,
   "id": "ecbc229f-686d-4f6e-bb86-84f5e81ebf29",
   "metadata": {},
   "outputs": [],
   "source": [
    "train[\"year_day\"] = train.index.to_period('d')\n",
    "# train[\"year_day\"] = train[\"year_day\"].astype(str)\n",
    "valid[\"year_day\"] = valid.index.to_period('d')"
   ]
  },
  {
   "cell_type": "code",
   "execution_count": null,
   "id": "e605d092-5465-4041-a6e6-af719d3a9ad0",
   "metadata": {},
   "outputs": [],
   "source": [
    "train['count_elmnts_by_day'] = train.groupby('day_of_year').cumcount() + 1\n",
    "valid['count_elmnts_by_day'] = valid.groupby('day_of_year').cumcount() + 1"
   ]
  },
  {
   "cell_type": "code",
   "execution_count": null,
   "id": "e114ca45-dd86-4ae4-b793-f6650699f32a",
   "metadata": {},
   "outputs": [],
   "source": [
    "train"
   ]
  },
  {
   "cell_type": "code",
   "execution_count": null,
   "id": "c98dc496-7f9b-4046-b195-cc21df0d9abe",
   "metadata": {},
   "outputs": [],
   "source": [
    "months_list = months_list[:len(train['month'].unique())]"
   ]
  },
  {
   "cell_type": "code",
   "execution_count": null,
   "id": "077a195d-5252-4758-b586-4899f52ec78a",
   "metadata": {},
   "outputs": [],
   "source": [
    "months_list"
   ]
  },
  {
   "cell_type": "markdown",
   "id": "e0f78a81-1275-4527-9924-4392f5726cc3",
   "metadata": {},
   "source": [
    "### Measurements frequencies check"
   ]
  },
  {
   "cell_type": "code",
   "execution_count": null,
   "id": "247c92e4-46f3-4157-8766-955691d2961d",
   "metadata": {},
   "outputs": [],
   "source": [
    "# assert if daily measurements frequencies not equals\n",
    "assert (train.groupby('day_number').size().sort_values().min() ==\n",
    "        train.groupby('day_number').size().sort_values().max())"
   ]
  },
  {
   "cell_type": "code",
   "execution_count": null,
   "id": "4d1645bb-5d9a-4a35-b824-437655d2106a",
   "metadata": {},
   "outputs": [],
   "source": [
    "train.groupby('day_number').size()[1]"
   ]
  },
  {
   "cell_type": "code",
   "execution_count": null,
   "id": "a7697260-7d39-4ae2-bceb-db4d0186e523",
   "metadata": {},
   "outputs": [],
   "source": [
    "train.groupby('weekday').size()"
   ]
  },
  {
   "cell_type": "code",
   "execution_count": null,
   "id": "3ffa6e96-4d84-4fec-ae96-bc378f763cc8",
   "metadata": {},
   "outputs": [],
   "source": [
    "4464 - 4320"
   ]
  },
  {
   "cell_type": "code",
   "execution_count": null,
   "id": "38e7a4db-17db-4201-8487-bb078b668362",
   "metadata": {},
   "outputs": [],
   "source": [
    "4464/144"
   ]
  },
  {
   "cell_type": "code",
   "execution_count": null,
   "id": "8d48b88d-e8ff-42ac-aef2-064ed0013a15",
   "metadata": {},
   "outputs": [],
   "source": [
    "4320/144"
   ]
  },
  {
   "cell_type": "code",
   "execution_count": null,
   "id": "6ccc0c05-a714-4cf6-8d70-4dddb7b2ea20",
   "metadata": {},
   "outputs": [],
   "source": [
    "print(train.groupby('week').size())"
   ]
  },
  {
   "cell_type": "code",
   "execution_count": null,
   "id": "e397344e-ecc1-4462-9ee1-d470da024d2d",
   "metadata": {},
   "outputs": [],
   "source": [
    "train['week'].unique()"
   ]
  },
  {
   "cell_type": "code",
   "execution_count": null,
   "id": "0e19c14c-ceaf-49d9-bd19-1061cd667ef1",
   "metadata": {},
   "outputs": [],
   "source": [
    "train.groupby('month').count()['target1']"
   ]
  },
  {
   "cell_type": "markdown",
   "id": "b3037168-dd95-4958-9203-f478266137b6",
   "metadata": {},
   "source": [
    "### Target Variable"
   ]
  },
  {
   "cell_type": "code",
   "execution_count": null,
   "id": "56b0c261-8a8e-4f56-867b-3a2b08c34cae",
   "metadata": {},
   "outputs": [],
   "source": [
    "plt.hist(train['target1'], bins=100);"
   ]
  },
  {
   "cell_type": "code",
   "execution_count": null,
   "id": "b678d078-ca30-4230-8f6d-e5447a77f4f5",
   "metadata": {},
   "outputs": [],
   "source": [
    "for i, m in zip(train['month'].unique(), months_list):\n",
    "    sns.histplot(\n",
    "        data=train[train['month']==i],\n",
    "        x='target1',\n",
    "        bins=100,\n",
    "        alpha=1\n",
    "    );\n",
    "    plt.title(m)\n",
    "    plt.show()"
   ]
  },
  {
   "cell_type": "code",
   "execution_count": null,
   "id": "753babe9-ff54-4851-8c15-c1d4dcd3ecec",
   "metadata": {},
   "outputs": [],
   "source": [
    "plt.hist(train['target1'].diff(1), bins=150);\n",
    "axis_rstyle(xlim=[-10000, 10000])"
   ]
  },
  {
   "cell_type": "code",
   "execution_count": null,
   "id": "681a64b0-c6ae-493c-9fee-4cd79dbb1412",
   "metadata": {},
   "outputs": [],
   "source": [
    "train['target1'].diff(1).sort_values()"
   ]
  },
  {
   "cell_type": "markdown",
   "id": "a70e51f2-226a-4044-89e0-48b549d8cc66",
   "metadata": {},
   "source": [
    "## Naive Model"
   ]
  },
  {
   "cell_type": "markdown",
   "id": "eee5d8c6-ca7c-4c06-b2ab-dcec97979c62",
   "metadata": {},
   "source": [
    "##### Predictions"
   ]
  },
  {
   "cell_type": "code",
   "execution_count": null,
   "id": "95ef182c-b0ed-4dba-9dd0-d2bd1b2089fc",
   "metadata": {},
   "outputs": [],
   "source": [
    "y_pred_naive = train['target1'].shift(1)[1:].copy()"
   ]
  },
  {
   "cell_type": "code",
   "execution_count": null,
   "id": "1dd24ac7-a1b4-4043-94e8-7930c9313aa6",
   "metadata": {},
   "outputs": [],
   "source": [
    "y_true = train['target1'][1:]"
   ]
  },
  {
   "cell_type": "markdown",
   "id": "db46beb6-7aeb-41c7-a7d0-1fd478b8c4eb",
   "metadata": {},
   "source": [
    "##### R-squared"
   ]
  },
  {
   "cell_type": "code",
   "execution_count": null,
   "id": "e565f477-75e0-4a74-8cb0-6649eb4df95a",
   "metadata": {},
   "outputs": [],
   "source": [
    "round(r2_score(y_true, y_pred_naive), 3)"
   ]
  },
  {
   "cell_type": "markdown",
   "id": "27a3252d-0a38-4c0b-be17-03e0b4fd9ef5",
   "metadata": {},
   "source": [
    "##### MAE"
   ]
  },
  {
   "cell_type": "code",
   "execution_count": null,
   "id": "776b1e54-d0d3-4a0a-a2cc-b803975f7ec4",
   "metadata": {},
   "outputs": [],
   "source": [
    "math.ceil(mean_absolute_error(y_true, y_pred_naive))"
   ]
  },
  {
   "cell_type": "markdown",
   "id": "7e09b9b4-9ce4-4e81-b5b7-39ef1844b6a0",
   "metadata": {},
   "source": [
    "##### MAPE"
   ]
  },
  {
   "cell_type": "code",
   "execution_count": null,
   "id": "8f9348c3-2e1d-484e-aa27-148e23483d0e",
   "metadata": {},
   "outputs": [],
   "source": [
    "round(mean_absolute_percentage_error(y_true, y_pred_naive) * 100, 2)"
   ]
  },
  {
   "cell_type": "markdown",
   "id": "30789b05-d4fb-40d1-a156-d4510c0f97b2",
   "metadata": {},
   "source": [
    "##### RMSE"
   ]
  },
  {
   "cell_type": "code",
   "execution_count": null,
   "id": "2bf2055a-a33d-43be-8ea7-f4e55235042d",
   "metadata": {},
   "outputs": [],
   "source": [
    "math.ceil(root_mean_squared_error(y_true, y_pred_naive))"
   ]
  },
  {
   "cell_type": "markdown",
   "id": "ebe09454-021d-4ee1-9a82-9e669c38bd73",
   "metadata": {},
   "source": [
    "## Target1 Visualization"
   ]
  },
  {
   "cell_type": "markdown",
   "id": "5a1e2454-bb11-4f7b-8d66-0ab98f9b9c91",
   "metadata": {},
   "source": [
    "### Full Distance with Monthly mean"
   ]
  },
  {
   "cell_type": "code",
   "execution_count": null,
   "id": "eee87d68-da73-4896-97ea-2e159f121f74",
   "metadata": {},
   "outputs": [],
   "source": [
    "fig = plt.figure(figsize=(7, 2.5))\n",
    "\n",
    "sns.barplot(\n",
    "    data=train,\n",
    "    x='month',\n",
    "    y='target1',\n",
    "    errorbar=('ci'),\n",
    "    width=0.4,\n",
    "    color=palette[-3],\n",
    "    err_kws=dict(color=palette[-4])\n",
    ");\n",
    "plt.xticks(arange(len(months_list)), months_list)\n",
    "axis_rstyle(\n",
    "    offset_bottom=10, offset_left=20,\n",
    "    ylim=[27500, 37500], yticks=[27500, 37500, 2500]\n",
    ")\n",
    "axis_adjust_barplot(line_hidden=True)\n",
    "\n",
    "plt.xlabel(None)\n",
    "plt.ylabel(None)\n",
    "plt.show()"
   ]
  },
  {
   "cell_type": "markdown",
   "id": "0bf993c4-7197-49c6-bf10-1b6f37f0b912",
   "metadata": {},
   "source": [
    "### Full Distance with Weekly mean"
   ]
  },
  {
   "cell_type": "code",
   "execution_count": null,
   "id": "fa79d344-a51b-4e05-a147-c34c3c530491",
   "metadata": {},
   "outputs": [],
   "source": [
    "sns.lineplot(\n",
    "    data=train[train['week'] != 52],\n",
    "    x='week',\n",
    "    y='target1',\n",
    "    hue='month',\n",
    "    errorbar=('ci'),\n",
    "    palette=palette[:7]\n",
    ");\n",
    "maxnloc = mpl.ticker.MaxNLocator(nbins=len(train['week'].unique())+1, integer=True)\n",
    "ax_current().xaxis.set_major_locator(maxnloc)\n",
    "axis_rstyle(xslice=[1, -1], grid=False)\n",
    "plt.legend(**legend_inline(), **legend_create_handles(labels=months_list))\n",
    "\n",
    "plt.xlabel(None)\n",
    "plt.ylabel(None)\n",
    "plt.show()"
   ]
  },
  {
   "cell_type": "markdown",
   "id": "32ff7ac8-24f9-4304-84e1-8a6f7363639e",
   "metadata": {},
   "source": [
    "### Full Distance with Daily mean"
   ]
  },
  {
   "cell_type": "code",
   "execution_count": null,
   "id": "44c1ce70-983b-4660-ba17-5eab7d6d2019",
   "metadata": {},
   "outputs": [],
   "source": [
    "fig = plt.figure()\n",
    "\n",
    "sns.lineplot(\n",
    "    data=train.loc['2017-03-01':],\n",
    "    x=train.loc['2017-03-01':].index.to_period('d').to_timestamp(),\n",
    "    y='target1',\n",
    "    hue='month',\n",
    "    palette=palette[:5]\n",
    ")\n",
    "\n",
    "axis_rstyle(yticks=[25000, 40000, 2500], grid=False)\n",
    "\n",
    "ax = ax_current()\n",
    "ax.xaxis.set_major_formatter(mpl.dates.DateFormatter(fmt='%d'))\n",
    "ax.xaxis.set_major_locator(mpl.dates.DayLocator(bymonthday=[1], interval=1))\n",
    "ax.xaxis.set_minor_formatter(mpl.dates.DateFormatter(fmt='%d'))\n",
    "ax.xaxis.set_minor_locator(mpl.dates.DayLocator(bymonthday=[10, 20], interval=1))\n",
    "ax.tick_params(axis='x', which='major', direction='out', size=4.5, pad=3.5, labelsize=8)\n",
    "ax.tick_params(axis='x', which='minor', direction='out', size=3, pad=5, labelsize=8)\n",
    "\n",
    "ax1 = ax.secondary_xaxis('bottom')\n",
    "ax1.spines['bottom'].set_position(('outward', 23))\n",
    "ax1.spines['bottom'].set_visible(False)\n",
    "ax1.tick_params(bottom=False, labelcolor='#6C7984')\n",
    "ax1.xaxis.set_major_formatter(mpl.dates.DateFormatter(fmt='%B'))\n",
    "ax1.xaxis.set_major_locator(mpl.dates.DayLocator(bymonthday=15))\n",
    "ax1.tick_params(axis='x', labelsize=9)\n",
    "\n",
    "# plt.legend(\n",
    "#     **legend_mid(bbox_to_anchor=(1.025, 1)),\n",
    "#     **legend_create_handles(kind='point', labels=months_list))\n",
    "plt.legend(\n",
    "    **legend_inline(bbox_to_anchor=(0, 1)),\n",
    "    **legend_create_handles(\n",
    "        kind='point', labels=months_list[2:7]))\n",
    "plt.xlabel(None)\n",
    "plt.ylabel('target1')\n",
    "\n",
    "plt.show()\n",
    "\n",
    "savefig('full_data_lineplot', dir_save_img)"
   ]
  },
  {
   "cell_type": "markdown",
   "id": "8ef8a49c-1304-480f-8b7d-9e247138212d",
   "metadata": {},
   "source": [
    "### By Months with Daily mean"
   ]
  },
  {
   "cell_type": "markdown",
   "id": "b6031c23-91c2-46f8-acd1-46e3cebb63b8",
   "metadata": {},
   "source": [
    "#### March"
   ]
  },
  {
   "cell_type": "code",
   "execution_count": null,
   "id": "ae280d66-c130-4217-befa-aa3d7f1d2372",
   "metadata": {},
   "outputs": [],
   "source": [
    "len(train[train['month']==3].index.floor('D').unique())"
   ]
  },
  {
   "cell_type": "code",
   "execution_count": null,
   "id": "8db62c26-9fe4-4ce4-b508-9e0f4cb08cba",
   "metadata": {},
   "outputs": [],
   "source": [
    "fig, ax = plt.subplots(2,1, figsize=(10, 3), sharex=False)\n",
    "\n",
    "# plt.subplot(2, 1, 1)\n",
    "ax[0].plot(train[train['month']==3].index,\n",
    "    train[train['month']==3]['target1'],\n",
    "    color=palette[0]\n",
    ");\n",
    "fmt = mpl.dates.DateFormatter('%m-%d')\n",
    "ax[0].xaxis.set_major_formatter(fmt)\n",
    "\n",
    "axis_rstyle(\n",
    "    offset_bottom=15, offset_left=10,\n",
    "    yticks=[20000, 50000, 10000], ylim=[18000, 50000],\n",
    "    grid=False, ax=ax[0]\n",
    ")\n",
    "    \n",
    "sns.lineplot(\n",
    "    data=train[train['month']==3],\n",
    "    x='day',\n",
    "    y='target1',\n",
    "    color=palette[0],\n",
    "    ax=ax[1]\n",
    ");\n",
    "\n",
    "ax[1].set_xticks(arange(5, 30, 7, True), labels=['Sunday']*4)\n",
    "ax[1].set_xticks(arange(5, 30, 7, True))\n",
    "\n",
    "axis_rstyle(\n",
    "    ax=ax[1], offset_bottom=15, offset_left=10, \n",
    "    yticks=[28000, 36000, 2000], ylim=[28000, 36000],\n",
    "    grid=False, x_axis_hide=True\n",
    ")\n",
    "\n",
    "plt.xlabel(None)\n",
    "plt.ylabel(None)\n",
    "\n",
    "plt.subplots_adjust(hspace=0.75)\n",
    "plt.show()\n",
    "\n",
    "savefig('march_data', dir_save_img)"
   ]
  },
  {
   "cell_type": "markdown",
   "id": "79506527-5458-4304-b500-3572450e2ba4",
   "metadata": {},
   "source": [
    "#### April"
   ]
  },
  {
   "cell_type": "code",
   "execution_count": null,
   "id": "57c31220-b980-47ba-9584-c137f1e0171d",
   "metadata": {},
   "outputs": [],
   "source": [
    "fig, ax = plt.subplots(2,1, figsize=(8, 3), sharex=False)\n",
    "\n",
    "ax[0].plot(train[train['month']==4].index,\n",
    "    train[train['month']==4]['target1'],\n",
    "    color=palette[1])\n",
    "\n",
    "fmt = mpl.dates.DateFormatter('%d')\n",
    "ax[0].xaxis.set_major_formatter(fmt)\n",
    "\n",
    "axis_rstyle(\n",
    "    offset_bottom=15, offset_left=10,\n",
    "    yticks=[20000, 50000, 10000], ylim=[18000, 50000],\n",
    "    grid=False, ax=ax[0])\n",
    "\n",
    "ax[0].xaxis.get_major_ticks()[-1].label1.set_visible(False)\n",
    "    \n",
    "sns.lineplot(\n",
    "    data=train[train['month']==4],\n",
    "    x='day',\n",
    "    y='target1',\n",
    "    color=palette[1],\n",
    "    ax=ax[1])\n",
    "\n",
    "ax[1].set_xticks(arange(2, 30, 7, True), labels=['Sunday']*5)\n",
    "ax[1].set_xticks(arange(2, 30, 7, True))\n",
    "\n",
    "axis_rstyle(\n",
    "    ax=ax[1], offset_bottom=15, offset_left=10, \n",
    "    yticks=[28000, 36000, 2000], ylim=[28000, 36000],\n",
    "    grid=False, x_axis_hide=True\n",
    ")\n",
    "\n",
    "plt.xlabel(None)\n",
    "plt.ylabel(None)\n",
    "ax[0].set_title('April')\n",
    "\n",
    "plt.subplots_adjust(hspace=0.75)\n",
    "plt.show()\n",
    "\n",
    "savefig('april_data', dir_save_img)"
   ]
  },
  {
   "cell_type": "markdown",
   "id": "c8ca7c86-b42e-4e6d-a70c-35ae945156d0",
   "metadata": {},
   "source": [
    "#### May"
   ]
  },
  {
   "cell_type": "code",
   "execution_count": null,
   "id": "1a12c8ec-4061-4335-ad3f-81819d86a386",
   "metadata": {},
   "outputs": [],
   "source": [
    "fig, ax = plt.subplots(2,1, figsize=(8, 3), sharex=False)\n",
    "\n",
    "# plt.subplot(2, 1, 1)\n",
    "ax[0].plot(train[train['month']==5].index,\n",
    "    train[train['month']==5]['target1'],\n",
    "    color=palette[2]\n",
    ");\n",
    "fmt = mpl.dates.DateFormatter('%d')\n",
    "ax[0].xaxis.set_major_formatter(fmt)\n",
    "\n",
    "axis_rstyle(\n",
    "    offset_bottom=15, offset_left=10,\n",
    "    yticks=[20000, 50000, 10000], ylim=[18000, 50000],\n",
    "    grid=False, ax=ax[0]\n",
    ")\n",
    "ax[0].xaxis.get_major_ticks()[-1].label1.set_visible(False)\n",
    "    \n",
    "sns.lineplot(\n",
    "    data=train[train['month']==5],\n",
    "    x='day',\n",
    "    y='target1',\n",
    "    color=palette[2],\n",
    "    ax=ax[1])\n",
    "\n",
    "multloc = mpl.ticker.MultipleLocator(base=7, offset=0)\n",
    "ax[1].xaxis.set_major_locator(multloc)\n",
    "ax[1].set_xticks(arange(7, 31, 7, True), labels=['Sunday']*4)\n",
    "\n",
    "axis_rstyle(\n",
    "    ax=ax[1], offset_bottom=15, offset_left=10, \n",
    "    yticks=[28000, 36000, 2000], ylim=[28000, 36000],\n",
    "    grid=False, x_axis_hide=True\n",
    ")\n",
    "\n",
    "plt.xlabel(None)\n",
    "plt.ylabel(None)\n",
    "ax[0].set_title('May')\n",
    "\n",
    "plt.subplots_adjust(hspace=0.75)\n",
    "plt.show()\n",
    "\n",
    "savefig('may_data', dir_save_img)"
   ]
  },
  {
   "cell_type": "markdown",
   "id": "dce90f41-3ff8-47a9-994a-aa5940b63fdf",
   "metadata": {},
   "source": [
    "#### June"
   ]
  },
  {
   "cell_type": "code",
   "execution_count": null,
   "id": "f28e483e-8016-4618-9fd6-eaa5f004c299",
   "metadata": {},
   "outputs": [],
   "source": [
    "fig, ax = plt.subplots(2,1, figsize=(8, 3), sharex=False)\n",
    "\n",
    "# plt.subplot(2, 1, 1)\n",
    "ax[0].plot(train[train['month']==6].index,\n",
    "    train[train['month']==6]['target1'],\n",
    "    color=palette[3])\n",
    "\n",
    "fmt = mpl.dates.DateFormatter('%d')\n",
    "ax[0].xaxis.set_major_formatter(fmt)\n",
    "\n",
    "axis_rstyle(\n",
    "    offset_bottom=15, offset_left=10,\n",
    "    yticks=[20000, 50000, 10000], ylim=[20000, 50000],\n",
    "    grid=False, ax=ax[0])\n",
    "\n",
    "ax[0].xaxis.get_major_ticks()[-1].label1.set_visible(False)\n",
    "    \n",
    "sns.lineplot(\n",
    "    data=train[train['month']==6],\n",
    "    x='day',\n",
    "    y='target1',\n",
    "    color=palette[3],\n",
    "    ax=ax[1])\n",
    "\n",
    "multloc = mpl.ticker.MultipleLocator(base=7, offset=0)\n",
    "ax[1].xaxis.set_major_locator(multloc)\n",
    "ax[1].set_xticks(arange(4, 30, 7, True), labels=['Sunday']*4)\n",
    "\n",
    "axis_rstyle(\n",
    "    ax=ax[1], offset_bottom=15, offset_left=10, \n",
    "    yticks=[28000, 40000, 4000], ylim=[28000, 40000],\n",
    "    grid=False, x_axis_hide=True)\n",
    "\n",
    "plt.xlabel(None)\n",
    "plt.ylabel(None)\n",
    "ax[0].set_title('June')\n",
    "\n",
    "plt.subplots_adjust(hspace=0.75)\n",
    "plt.show()\n",
    "\n",
    "savefig('june_data', dir_save_img)"
   ]
  },
  {
   "cell_type": "markdown",
   "id": "2166ca3f-9142-4a49-a97d-ad57730c0457",
   "metadata": {},
   "source": [
    "#### July"
   ]
  },
  {
   "cell_type": "code",
   "execution_count": null,
   "id": "4deeb0e2-1ace-47a4-a372-0d241a9e7208",
   "metadata": {},
   "outputs": [],
   "source": [
    "fig, ax = plt.subplots(2,1, figsize=(10, 3), sharex=False)\n",
    "\n",
    "# plt.subplot(2, 1, 1)\n",
    "ax[0].plot(train[train['month']==7].index,\n",
    "    train[train['month']==7]['target1'],\n",
    "    color=palette[4]\n",
    ");\n",
    "fmt = mpl.dates.DateFormatter('%m-%d')\n",
    "ax[0].xaxis.set_major_formatter(fmt)\n",
    "\n",
    "axis_rstyle(\n",
    "    offset_bottom=15, offset_left=10,\n",
    "    yticks=[20000, 50000, 10000], ylim=[20000, 50000],\n",
    "    grid=False, ax=ax[0]\n",
    ")\n",
    "\n",
    "sns.lineplot(\n",
    "    data=train[train['month']==7],\n",
    "    x='day',\n",
    "    y='target1',\n",
    "    color=palette[4],\n",
    "    ax=ax[1]\n",
    ");\n",
    "multloc = mpl.ticker.MultipleLocator(base=7, offset=0)\n",
    "ax[1].xaxis.set_major_locator(multloc)\n",
    "ax[1].set_xticks(arange(2, 30, 7, True), labels=['Sunday']*5)\n",
    "\n",
    "axis_rstyle(\n",
    "    ax=ax[1], offset_bottom=15, offset_left=10, \n",
    "    yticks=[30000, 40000, 2500], ylim=[30000, 40000],\n",
    "    grid=False, x_axis_hide=True\n",
    ")\n",
    "\n",
    "plt.xlabel(None)\n",
    "plt.ylabel(None)\n",
    "\n",
    "plt.subplots_adjust(hspace=0.75)\n",
    "plt.show()\n",
    "\n",
    "savefig('july_data', dir_save_img)"
   ]
  },
  {
   "cell_type": "markdown",
   "id": "62e16cc8-4cb2-4812-b8b0-0f03a7df8973",
   "metadata": {},
   "source": [
    "### Weekdays mean\n",
    "\n",
    "Create additional features: is_Friday and is_Sunday"
   ]
  },
  {
   "cell_type": "code",
   "execution_count": null,
   "id": "9a55866f-ca16-4160-9601-5ccd324de698",
   "metadata": {},
   "outputs": [],
   "source": [
    "fig = plt.figure(figsize=(8, 1.5))\n",
    "\n",
    "sns.lineplot(\n",
    "    x=train['weekday'],\n",
    "    y=train['target1']\n",
    ");\n",
    "axis_rstyle(xslice=[1,-1], yticks=[30500, 33500], offset_bottom=15, offset_left=10)\n",
    "ax_current().set_xticklabels(['Monday', 'Tuesday', 'Wednesday', 'Thursday', 'Friday', 'Saturday', 'Sunday'])\n",
    "plt.xlabel(None)\n",
    "plt.show()\n",
    "\n",
    "savefig('weekdays_data', dir_save_img)"
   ]
  },
  {
   "cell_type": "code",
   "execution_count": null,
   "id": "3cef55dc-c39d-40b9-b815-3a3ea67460df",
   "metadata": {},
   "outputs": [],
   "source": [
    "weekdays = np.sort(train['weekday'].unique())"
   ]
  },
  {
   "cell_type": "code",
   "execution_count": null,
   "id": "a2f95a2b-970c-4887-a0d0-7b2b91ed7ec1",
   "metadata": {},
   "outputs": [],
   "source": [
    "ncols = 2\n",
    "nrows = math.ceil(len(weekdays)/ncols)"
   ]
  },
  {
   "cell_type": "code",
   "execution_count": null,
   "id": "5df99ca8-861e-43db-9381-0d1072cac2ed",
   "metadata": {},
   "outputs": [],
   "source": [
    "fig = plt.figure()\n",
    "for i, v in enumerate(weekdays):\n",
    "    plt.plot(\n",
    "        train[train['weekday']==v].groupby('hour').mean().index,\n",
    "        train[train['weekday']==v].groupby('hour').mean()['target1'],\n",
    "        color=palette[v], lw=1, label=weekday_names_dict[v]\n",
    "    )\n",
    "leg = plt.legend(**legend_inline())\n",
    "for l in leg.legend_handles:\n",
    "    l.set_linewidth(1.5)\n",
    "axis_rstyle(xticks=[0, 23, 1])\n",
    "\n",
    "savefig('data_by_hours', dir_save_img)"
   ]
  },
  {
   "cell_type": "markdown",
   "id": "78ed421b-cec0-431f-9710-8fe1d515ac3c",
   "metadata": {},
   "source": [
    "### Days mean\n",
    "\n",
    "- Create additional feature: is_31  \n",
    "- Anomaly suspect near 2017-06-25"
   ]
  },
  {
   "cell_type": "code",
   "execution_count": null,
   "id": "3f912bac-0e48-425d-893a-246159992b74",
   "metadata": {},
   "outputs": [],
   "source": [
    "sns.lineplot(\n",
    "    x=train['day'],\n",
    "    y=train['target1'],\n",
    "    )\n",
    "plt.xticks(train.groupby('day').mean().index)\n",
    "plt.xlabel(None)\n",
    "plt.ylabel(None)\n",
    "axis_rstyle()\n",
    "\n",
    "plt.show()"
   ]
  },
  {
   "cell_type": "code",
   "execution_count": null,
   "id": "8a2c33dc-1ff5-4172-971c-90091e8b4821",
   "metadata": {},
   "outputs": [],
   "source": [
    "fig = plt.figure(figsize=(8, 2))\n",
    "\n",
    "sns.barplot(\n",
    "    data=train,\n",
    "    x='day',\n",
    "    y='target1',\n",
    "    color=palette[-3],\n",
    "    err_kws={'color': palette[-4]}\n",
    ")\n",
    "ax = plt.gca()\n",
    "ax.set_ylim(30000, 35000)\n",
    "ax.set_xlabel(None)\n",
    "ax.set_ylabel(None)\n",
    "\n",
    "els_count = train.groupby('day').count().iloc[:, 0]\n",
    "for bar, count in zip(ax.patches, els_count):\n",
    "    ax.text(\n",
    "        bar.get_x()+bar.get_width()/1.75, 30250, count,\n",
    "        size=8,  color='#FEFEFE', weight='bold',\n",
    "        ha='center', va='bottom', rotation=90) \n",
    "\n",
    "axis_rstyle()\n",
    "ax.tick_params(bottom=False, pad=5)\n",
    "ax.set_ylabel('target1')\n",
    "\n",
    "savefig('data_by_days', dir_save_img)"
   ]
  },
  {
   "cell_type": "raw",
   "id": "5e48d499-536a-4762-9123-4dda6879d2ac",
   "metadata": {},
   "source": [
    "train_agg_by_day = train.groupby('day_of_year').mean().copy()"
   ]
  },
  {
   "cell_type": "raw",
   "id": "dc92a386-1aac-4cac-8887-4a37c7177595",
   "metadata": {},
   "source": [
    "train_agg_by_day_sunday = train_agg_by_day.loc[train_agg_by_day['weekday']==7, 'year_day']"
   ]
  },
  {
   "cell_type": "markdown",
   "id": "cd9b295c-0937-4b1d-a858-dd37d2089102",
   "metadata": {},
   "source": [
    "#### Daily"
   ]
  },
  {
   "cell_type": "code",
   "execution_count": null,
   "id": "c61d12f5-e7bd-4e11-9e61-5d64a8fb927a",
   "metadata": {},
   "outputs": [],
   "source": [
    "fig, ax = plt.subplots(1, 1, figsize=(8, 2))\n",
    "\n",
    "# ax[0].errorbar(\n",
    "#     range(len(train[train['weekday']==3].groupby('hour').mean())),\n",
    "#     train[train['weekday']==3].groupby('hour').mean()['target1'],\n",
    "#     train[train['weekday']==3].groupby('hour')['target1'].std(),\n",
    "#     ls='none',\n",
    "#     marker='o',\n",
    "#     markersize=2.5,\n",
    "#     lw=1,\n",
    "#     capsize=1.5\n",
    "# );\n",
    "# axis_rstyle(\n",
    "#     ax=ax[0], xticks=[0, 23, 1], yticks=[10000, 60000, 10000],\n",
    "#     margin=True)\n",
    "# ax[0].set_ylim(10000, 60000)\n",
    "\n",
    "sns.boxplot(\n",
    "    y=train['target1'],\n",
    "    x=train['hour'],\n",
    "    width=0.25,\n",
    "    fill=False,\n",
    "    linewidth=1,\n",
    "    color=palette[-3],\n",
    "    flierprops=dict(markersize=1),\n",
    "    ax=ax\n",
    ")\n",
    "axis_rstyle(\n",
    "    ax=ax, xticks=[0, 23, 1], yticks=[10000, 50000, 10000],\n",
    "    margin=True)\n",
    "ax.set_xlabel(None)\n",
    "ax.set_ylabel(None)\n",
    "ax.set_ylim(10000, 55000)\n",
    "ax.set_ylabel('target1')\n",
    "\n",
    "plt.subplots_adjust(hspace=0.35)\n",
    "plt.show()\n",
    "\n",
    "savefig('data_daily', dir_save_img)"
   ]
  },
  {
   "cell_type": "code",
   "execution_count": null,
   "id": "f2a0b1e7-648b-4f21-81e9-d994187f2c43",
   "metadata": {},
   "outputs": [],
   "source": [
    "fig = plt.figure()\n",
    "for i in arange(1, 7, True):\n",
    "    sns.lineplot(\n",
    "        x=train.loc[f'2017-{str(i).zfill(2)}']['hour'],\n",
    "        y=train.loc[f'2017-{str(i).zfill(2)}']['target1'],\n",
    "        color=palette[i-1],\n",
    "        label=i\n",
    "    )\n",
    "    plt.axhline(\n",
    "        train.loc[f'2017-{str(i).zfill(2)}']['target1'].mean(),\n",
    "        0.01, 0.99, ls='--', alpha=0.75, color=palette[i-1])\n",
    "    \n",
    "plt.xticks(range(24))\n",
    "plt.legend(**legend_create_handles(labels=months_list, kind='square'), **legend_inline())\n",
    "axis_rstyle()\n",
    "\n",
    "plt.xlabel(None)\n",
    "plt.ylabel(None)\n",
    "\n",
    "plt.show()"
   ]
  },
  {
   "cell_type": "code",
   "execution_count": null,
   "id": "7dab01bd-eda7-414c-b4d6-42889965d643",
   "metadata": {},
   "outputs": [],
   "source": [
    "fig = plt.figure(figsize=(6, 9))\n",
    "for i in arange(6, True):\n",
    "    plt.subplot(7, 1, i+1)\n",
    "    sns.histplot(\n",
    "        x=train[(train['hour']==3) & (train['year_month']==f'2017-0{i+1}')]['target1'],\n",
    "        color=palette[i],\n",
    "        bins=100,\n",
    "        label=months_list[i],\n",
    "        alpha=1\n",
    "    )\n",
    "    \n",
    "    plt.legend(\n",
    "        **legend_mid(bbox_to_anchor=(1.03, 1)),\n",
    "        **legend_create_handles(kind='square', colors=[palette[i]]))\n",
    "    plt.xlabel(None)\n",
    "    plt.ylabel(None)\n",
    "    plt.xlim(15000, 45000)\n",
    "    axis_rstyle(offset_bottom=2)\n",
    "    plt.subplots_adjust(hspace=0.75)"
   ]
  },
  {
   "cell_type": "markdown",
   "id": "b91e9bdd-56d8-4c9a-93d8-97dada57742f",
   "metadata": {},
   "source": [
    "## Differencing"
   ]
  },
  {
   "cell_type": "markdown",
   "id": "7ebc26df-c44f-4d71-8e61-1d967b2d08a5",
   "metadata": {},
   "source": [
    "### 1-lag"
   ]
  },
  {
   "cell_type": "code",
   "execution_count": null,
   "id": "9022fcc5-c4d6-4832-83f0-98cfa06df1fa",
   "metadata": {},
   "outputs": [],
   "source": [
    "train['target1_diff'] = train['target1'].diff().copy()"
   ]
  },
  {
   "cell_type": "code",
   "execution_count": null,
   "id": "d50c72b0-d99a-4366-8210-46070a94b339",
   "metadata": {},
   "outputs": [],
   "source": [
    "fig = plt.figure(figsize=(10, 5))\n",
    "\n",
    "plt.subplot(2,1,1)\n",
    "plt.plot(\n",
    "    train.index,\n",
    "    train['target1_diff']\n",
    ");\n",
    "plt.subplot(2,1,2)\n",
    "plt.plot(\n",
    "    train.index,\n",
    "    train['target1']\n",
    ");"
   ]
  },
  {
   "cell_type": "code",
   "execution_count": null,
   "id": "4cdf5fb7-9233-434d-87b9-26760d753dfb",
   "metadata": {},
   "outputs": [],
   "source": [
    "plt.hist(train['target1_diff'], bins=100);"
   ]
  },
  {
   "cell_type": "code",
   "execution_count": null,
   "id": "93b6459e-3646-4406-b55f-6d56f07b9c21",
   "metadata": {},
   "outputs": [],
   "source": [
    "train['target1_diff'].sort_values().head(10)"
   ]
  },
  {
   "cell_type": "code",
   "execution_count": null,
   "id": "9ef1a8a5-3e64-4575-8a33-7235a76bf963",
   "metadata": {},
   "outputs": [],
   "source": [
    "train['target1_diff'].sort_values().tail(10)"
   ]
  },
  {
   "cell_type": "markdown",
   "id": "be2622f4-2f60-454b-a714-2f5e57e20382",
   "metadata": {},
   "source": [
    "### Returns"
   ]
  },
  {
   "cell_type": "code",
   "execution_count": null,
   "id": "a2c6bedb-b70a-4591-92c5-2e9048106019",
   "metadata": {},
   "outputs": [],
   "source": [
    "train['target1_returns'] = train['target1'].pct_change(1).mul(100)"
   ]
  },
  {
   "cell_type": "code",
   "execution_count": null,
   "id": "a11931fb-461d-4723-86dd-112e15efce54",
   "metadata": {},
   "outputs": [],
   "source": [
    "fig = plt.figure(figsize=(10, 5))\n",
    "\n",
    "plt.subplot(2,1,1)\n",
    "plt.plot(\n",
    "    train.index,\n",
    "    train['target1_returns']\n",
    ");\n",
    "plt.subplot(2,1,2)\n",
    "plt.plot(\n",
    "    train.index,\n",
    "    train['target1']\n",
    ");"
   ]
  },
  {
   "cell_type": "code",
   "execution_count": null,
   "id": "3b34d2cb-b3e9-4299-891a-405b32ee16e6",
   "metadata": {},
   "outputs": [],
   "source": [
    "plt.hist(train['target1_returns'], bins=100);"
   ]
  },
  {
   "cell_type": "code",
   "execution_count": null,
   "id": "1378342d-f00e-40c9-af4d-b5bbd82399c2",
   "metadata": {},
   "outputs": [],
   "source": [
    "train['target1_returns'].sort_values().head(10)"
   ]
  },
  {
   "cell_type": "code",
   "execution_count": null,
   "id": "0558abf3-a880-4e62-b6ec-4d5a18d2d441",
   "metadata": {},
   "outputs": [],
   "source": [
    "train['target1_returns'].sort_values().tail(10)"
   ]
  },
  {
   "cell_type": "markdown",
   "id": "0cd89075-2089-48ba-8c13-017f265faab3",
   "metadata": {},
   "source": [
    "### Volatility"
   ]
  },
  {
   "cell_type": "code",
   "execution_count": null,
   "id": "39c1d721-387f-402a-9a94-ab8501c36fc4",
   "metadata": {},
   "outputs": [],
   "source": [
    "train['target1_volatility'] = (train['target1'].pct_change(1)**2).copy()"
   ]
  },
  {
   "cell_type": "code",
   "execution_count": null,
   "id": "a97d87eb-4e27-4ddd-87a0-c24428cb3cee",
   "metadata": {},
   "outputs": [],
   "source": [
    "fig = plt.figure(figsize=(10, 5))\n",
    "\n",
    "plt.subplot(2,1,1)\n",
    "plt.plot(\n",
    "    train.index,\n",
    "    train['target1_volatility']\n",
    ");\n",
    "plt.subplot(2,1,2)\n",
    "plt.plot(\n",
    "    train.index,\n",
    "    train['target1']\n",
    ");"
   ]
  },
  {
   "cell_type": "code",
   "execution_count": null,
   "id": "d47dad1d-5899-4597-ba8b-8d41547edad3",
   "metadata": {},
   "outputs": [],
   "source": [
    "fig = plt.figure(figsize=(8, 2.5))\n",
    "\n",
    "plt.plot(\n",
    "    train.loc['2017-03-01':].index,\n",
    "    train.loc['2017-03-01':, 'target1_volatility']\n",
    ")\n",
    "\n",
    "axis_rstyle(ylim=[0, 0.31])\n",
    "plt.show()\n",
    "\n",
    "savefig('anomaly_plot', dir_save_img)"
   ]
  },
  {
   "cell_type": "markdown",
   "id": "ea96f579-20f0-44e9-ae55-1bedab22f72e",
   "metadata": {},
   "source": [
    "## Anomalies"
   ]
  },
  {
   "cell_type": "markdown",
   "id": "26d899e0-6486-4e87-8da2-de7af09aab37",
   "metadata": {},
   "source": [
    "##### Anomaly #1\n",
    "2017-06-25 : 2017-07-02\n",
    "\n",
    "- Diif in 'diffuseflows' first looks suspicious, but after detail check the decision is - it's not the reason of animaly.\n",
    "- Generally, don't looks like an accident. Volatility and returns not extreme. Other targets demonstrates similar behavior over this time preiod.\n",
    "\n",
    "__Cause__: protests  \n",
    "https://www.thenation.com/article/archive/is-morocco-headed-toward-insurrection/"
   ]
  },
  {
   "cell_type": "code",
   "execution_count": null,
   "id": "ddc6a95e-1c29-4c17-a8f2-0be80cd73e75",
   "metadata": {},
   "outputs": [],
   "source": [
    "fig, ax = plt.subplots(4,1, figsize=(8, 9))\n",
    "\n",
    "ax[0].plot(\n",
    "    train.loc['2017-06-23':'2017-06-30'].index,\n",
    "    train.loc['2017-06-23':'2017-06-30']['target1_volatility'])\n",
    "\n",
    "ax[0].xaxis.set_major_formatter(mpl.dates.DateFormatter(fmt='%H'))\n",
    "ax[0].xaxis.set_major_locator(mpl.dates.HourLocator(byhour=[6, 12, 18]))\n",
    "ax[0].tick_params(axis='x', which='major', labelsize=7)\n",
    "\n",
    "axis_second = axis_secondary(ax=ax[0])\n",
    "axis_second.xaxis.set_major_formatter(mpl.dates.DateFormatter(fmt='%m-%d'))\n",
    "axis_second.xaxis.set_major_locator(mpl.dates.HourLocator(byhour=[12]))\n",
    "\n",
    "axis_rstyle(xslice=[1, -1], ylim=[0, 0.01], ax=ax[0])\n",
    "\n",
    "ax[0].xaxis.get_major_ticks()[0].label1.set_visible(False)\n",
    "ax[0].xaxis.get_major_ticks()[-1].label1.set_visible(False)\n",
    "\n",
    "for i, v in enumerate(['target1', 'target2', 'target3']):\n",
    "    ax[i+1].plot(\n",
    "        train.loc['2017-06-23':'2017-06-30'].index,\n",
    "        train.loc['2017-06-23':'2017-06-30'][v])\n",
    "    \n",
    "    ax[i+1].xaxis.set_major_formatter(mpl.dates.DateFormatter(fmt='%H'))\n",
    "    ax[i+1].xaxis.set_major_locator(mpl.dates.HourLocator(byhour=[6, 12, 18]))\n",
    "    ax[i+1].tick_params(axis='x', which='major', labelsize=7)\n",
    "    \n",
    "    axis_second = axis_secondary(ax=ax[i+1])\n",
    "    axis_second.xaxis.set_major_formatter(mpl.dates.DateFormatter(fmt='%m-%d'))\n",
    "    axis_second.xaxis.set_major_locator(mpl.dates.HourLocator(byhour=[12]))\n",
    "    \n",
    "    axis_rstyle(xslice=[1, -1], ax=ax[i+1])\n",
    "    \n",
    "titles = ['Volatility', 'target1', 'target2', 'target3']\n",
    "for ax_, title in zip(ax, titles):\n",
    "    ax_.set_ylabel(title)\n",
    "\n",
    "plt.subplots_adjust(hspace=0.65)\n",
    "plt.show()\n",
    "\n",
    "savefig('anomaly1', dir_save_img)"
   ]
  },
  {
   "cell_type": "markdown",
   "id": "7e6226d7-c03c-4880-90f5-2aeb1b7db7ab",
   "metadata": {},
   "source": [
    "##### Anomaly #2\n",
    "\n",
    "index: 2017-04-20 12:10:00  \n",
    "volatility: 2862.029840"
   ]
  },
  {
   "cell_type": "code",
   "execution_count": null,
   "id": "d213c807-fbd5-4c4a-8a59-34940d1562ed",
   "metadata": {},
   "outputs": [],
   "source": [
    "train.loc['2017-04-20'].index.day_name()[0]"
   ]
  },
  {
   "cell_type": "code",
   "execution_count": null,
   "id": "5cbb6668-a6c8-4537-8a49-ee0720744255",
   "metadata": {},
   "outputs": [],
   "source": [
    "fig, ax = plt.subplots(4,1, figsize=(8, 9))\n",
    "\n",
    "ax[0].plot(\n",
    "    train.loc['2017-04-17':'2017-04-23'].index,\n",
    "    train.loc['2017-04-17':'2017-04-23']['target1_volatility'])\n",
    "\n",
    "ax[0].xaxis.set_major_formatter(mpl.dates.DateFormatter(fmt='%H'))\n",
    "ax[0].xaxis.set_major_locator(mpl.dates.HourLocator(byhour=[6, 12, 18]))\n",
    "ax[0].tick_params(axis='x', which='major', labelsize=7)\n",
    "\n",
    "axis_second = axis_secondary(ax=ax[0])\n",
    "axis_second.xaxis.set_major_formatter(mpl.dates.DateFormatter(fmt='%m-%d'))\n",
    "axis_second.xaxis.set_major_locator(mpl.dates.HourLocator(byhour=[12]))\n",
    "\n",
    "axis_rstyle(xslice=[1, -1], ylim=[0, 0.31], ax=ax[0])\n",
    "\n",
    "ax[0].xaxis.get_major_ticks()[0].label1.set_visible(False)\n",
    "ax[0].xaxis.get_major_ticks()[-1].label1.set_visible(False)\n",
    "\n",
    "for i, v in enumerate(['target1', 'target2', 'target3']):\n",
    "    ax[i+1].plot(\n",
    "        train.loc['2017-04-17':'2017-04-23'].index,\n",
    "        train.loc['2017-04-17':'2017-04-23'][v])\n",
    "\n",
    "    ax[i+1].xaxis.set_major_formatter(mpl.dates.DateFormatter(fmt='%H'))\n",
    "    ax[i+1].xaxis.set_major_locator(mpl.dates.HourLocator(byhour=[6, 12, 18]))\n",
    "    ax[i+1].tick_params(axis='x', which='major', labelsize=7)\n",
    "    \n",
    "    axis_second = axis_secondary(ax=ax[i+1])\n",
    "    axis_second.xaxis.set_major_formatter(mpl.dates.DateFormatter(fmt='%m-%d'))\n",
    "    axis_second.xaxis.set_major_locator(mpl.dates.HourLocator(byhour=[12]))\n",
    "    \n",
    "    axis_rstyle(xslice=[1, -1], ax=ax[i+1])\n",
    "\n",
    "titles = ['Volatility', 'target1', 'target2', 'target3']\n",
    "for ax_, title in zip(ax, titles):\n",
    "    ax_.set_ylabel(title)\n",
    "\n",
    "plt.subplots_adjust(hspace=0.65)\n",
    "plt.show()\n",
    "\n",
    "savefig('anomaly2', dir_save_img)"
   ]
  },
  {
   "cell_type": "markdown",
   "id": "f4045e4b-d541-4f72-bd84-3e9f36058416",
   "metadata": {},
   "source": [
    "##### Anomaly #3\n",
    "\n",
    "index: 2017-04-20 12:10:00  \n",
    "volatility: 2862.029840"
   ]
  },
  {
   "cell_type": "code",
   "execution_count": null,
   "id": "17a51f06-3199-40e7-b786-0562475ae154",
   "metadata": {},
   "outputs": [],
   "source": [
    "fig, ax = plt.subplots(4,1, figsize=(8, 9))\n",
    "\n",
    "ax[0].plot(\n",
    "    train.loc['2017-03-25':'2017-03-31'].index,\n",
    "    train.loc['2017-03-25':'2017-03-31']['target1_volatility'])\n",
    "\n",
    "ax[0].xaxis.set_major_formatter(mpl.dates.DateFormatter(fmt='%H'))\n",
    "ax[0].xaxis.set_major_locator(mpl.dates.HourLocator(byhour=[6, 12, 18]))\n",
    "ax[0].tick_params(axis='x', which='major', labelsize=7)\n",
    "\n",
    "axis_second = axis_secondary(ax=ax[0])\n",
    "axis_second.xaxis.set_major_formatter(mpl.dates.DateFormatter(fmt='%m-%d'))\n",
    "axis_second.xaxis.set_major_locator(mpl.dates.HourLocator(byhour=[12]))\n",
    "\n",
    "axis_rstyle(xslice=[1, -1], ylim=[0, 0.025], ax=ax[0])\n",
    "\n",
    "ax[0].xaxis.get_major_ticks()[0].label1.set_visible(False)\n",
    "ax[0].xaxis.get_major_ticks()[-1].label1.set_visible(False)\n",
    "\n",
    "for i, v in enumerate(['target1', 'target2', 'target3']):\n",
    "    ax[i+1].plot(\n",
    "        train.loc['2017-03-25':'2017-03-31'].index,\n",
    "        train.loc['2017-03-25':'2017-03-31'][v])\n",
    "\n",
    "    ax[i+1].xaxis.set_major_formatter(mpl.dates.DateFormatter(fmt='%H'))\n",
    "    ax[i+1].xaxis.set_major_locator(mpl.dates.HourLocator(byhour=[6, 12, 18]))\n",
    "    ax[i+1].tick_params(axis='x', which='major', labelsize=7)\n",
    "    \n",
    "    axis_second = axis_secondary(ax=ax[i+1])\n",
    "    axis_second.xaxis.set_major_formatter(mpl.dates.DateFormatter(fmt='%m-%d'))\n",
    "    axis_second.xaxis.set_major_locator(mpl.dates.HourLocator(byhour=[12]))\n",
    "    \n",
    "    axis_rstyle(xslice=[1, -1], ax=ax[i+1])\n",
    "\n",
    "titles = ['Volatility', 'target1', 'target2', 'target3']\n",
    "for ax_, title in zip(ax, titles):\n",
    "    ax_.set_ylabel(title)\n",
    "\n",
    "plt.subplots_adjust(hspace=0.65)\n",
    "plt.show()\n",
    "\n",
    "savefig('anomaly3', dir_save_img)"
   ]
  },
  {
   "cell_type": "markdown",
   "id": "5f1ab939-f622-4689-9213-3fe4e4a5f312",
   "metadata": {},
   "source": [
    "##### Anomaly #4\n",
    "\n",
    "index: 2017-05-31 11:30:00  \n",
    "volatility: 438.955206"
   ]
  },
  {
   "cell_type": "code",
   "execution_count": null,
   "id": "145f07f2-2520-4e68-b561-f0f7379e8a11",
   "metadata": {},
   "outputs": [],
   "source": [
    "fig, ax = plt.subplots(4,1, figsize=(8, 9))\n",
    "\n",
    "ax[0].plot(\n",
    "    train.loc['2017-05-28':'2017-06-03'].index,\n",
    "    train.loc['2017-05-28':'2017-06-03']['target1_volatility']\n",
    ")\n",
    "\n",
    "ax[0].xaxis.set_major_formatter(mpl.dates.DateFormatter(fmt='%H'))\n",
    "ax[0].xaxis.set_major_locator(mpl.dates.HourLocator(byhour=[6, 12, 18]))\n",
    "ax[0].tick_params(axis='x', which='major', labelsize=7)\n",
    "\n",
    "axis_second = axis_secondary(ax=ax[0])\n",
    "axis_second.xaxis.set_major_formatter(mpl.dates.DateFormatter(fmt='%m-%d'))\n",
    "axis_second.xaxis.set_major_locator(mpl.dates.HourLocator(byhour=[12]))\n",
    "\n",
    "axis_rstyle(xslice=[1, -1], ylim=[0, 0.05], ax=ax[0])\n",
    "\n",
    "ax[0].xaxis.get_major_ticks()[0].label1.set_visible(False)\n",
    "ax[0].xaxis.get_major_ticks()[-1].label1.set_visible(False)\n",
    "\n",
    "for i, v in enumerate(['target1', 'target2', 'target3']):\n",
    "    ax[i+1].plot(\n",
    "        train.loc['2017-05-28':'2017-06-03'].index,\n",
    "        train.loc['2017-05-28':'2017-06-03'][v]\n",
    "    );\n",
    "\n",
    "    ax[i+1].xaxis.set_major_formatter(mpl.dates.DateFormatter(fmt='%H'))\n",
    "    ax[i+1].xaxis.set_major_locator(mpl.dates.HourLocator(byhour=[6, 12, 18]))\n",
    "    ax[i+1].tick_params(axis='x', which='major', labelsize=7)\n",
    "    \n",
    "    axis_second = axis_secondary(ax=ax[i+1])\n",
    "    axis_second.xaxis.set_major_formatter(mpl.dates.DateFormatter(fmt='%m-%d'))\n",
    "    axis_second.xaxis.set_major_locator(mpl.dates.HourLocator(byhour=[12]))\n",
    "    \n",
    "    axis_rstyle(xslice=[1, -1], ax=ax[i+1])\n",
    "\n",
    "titles = ['Volatility', 'target1', 'target2', 'target3']\n",
    "for ax_, title in zip(ax, titles):\n",
    "    ax_.set_ylabel(title)\n",
    "\n",
    "plt.subplots_adjust(hspace=0.65)\n",
    "plt.show()\n",
    "\n",
    "savefig('anomaly4', dir_save_img)"
   ]
  },
  {
   "cell_type": "markdown",
   "id": "7d45cd6a-e260-4227-8f7b-03710346b6e9",
   "metadata": {},
   "source": [
    "##### Anomaly #5\n",
    "\n",
    "index: '2017-06-03':'2017-06-09'"
   ]
  },
  {
   "cell_type": "code",
   "execution_count": null,
   "id": "fbe79ff9-f9ec-4283-84d9-3e87621d6ff9",
   "metadata": {},
   "outputs": [],
   "source": [
    "fig, ax = plt.subplots(4,1, figsize=(8, 9))\n",
    "\n",
    "ax[0].plot(\n",
    "    train.loc['2017-06-03':'2017-06-09'].index,\n",
    "    train.loc['2017-06-03':'2017-06-09']['target1_volatility']\n",
    ")\n",
    "\n",
    "ax[0].xaxis.set_major_formatter(mpl.dates.DateFormatter(fmt='%H'))\n",
    "ax[0].xaxis.set_major_locator(mpl.dates.HourLocator(byhour=[6, 12, 18]))\n",
    "ax[0].tick_params(axis='x', which='major', labelsize=7)\n",
    "\n",
    "axis_second = axis_secondary(ax=ax[0])\n",
    "axis_second.xaxis.set_major_formatter(mpl.dates.DateFormatter(fmt='%m-%d'))\n",
    "axis_second.xaxis.set_major_locator(mpl.dates.HourLocator(byhour=[12]))\n",
    "\n",
    "axis_rstyle(xslice=[1, -1], ylim=[0, 0.03], ax=ax[0])\n",
    "\n",
    "ax[0].xaxis.get_major_ticks()[0].label1.set_visible(False)\n",
    "ax[0].xaxis.get_major_ticks()[-1].label1.set_visible(False)\n",
    "\n",
    "for i, v in enumerate(['target1', 'target2', 'target3']):\n",
    "    ax[i+1].plot(\n",
    "        train.loc['2017-06-03':'2017-06-09'].index,\n",
    "        train.loc['2017-06-03':'2017-06-09'][v]\n",
    "    );\n",
    "\n",
    "    ax[i+1].xaxis.set_major_formatter(mpl.dates.DateFormatter(fmt='%H'))\n",
    "    ax[i+1].xaxis.set_major_locator(mpl.dates.HourLocator(byhour=[6, 12, 18]))\n",
    "    ax[i+1].tick_params(axis='x', which='major', labelsize=7)\n",
    "    \n",
    "    axis_second = axis_secondary(ax=ax[i+1])\n",
    "    axis_second.xaxis.set_major_formatter(mpl.dates.DateFormatter(fmt='%m-%d'))\n",
    "    axis_second.xaxis.set_major_locator(mpl.dates.HourLocator(byhour=[12]))\n",
    "    \n",
    "    axis_rstyle(xslice=[1, -1], ax=ax[i+1])\n",
    "\n",
    "titles = ['Volatility', 'target1', 'target2', 'target3']\n",
    "for ax_, title in zip(ax, titles):\n",
    "    ax_.set_ylabel(title)\n",
    "\n",
    "plt.subplots_adjust(hspace=0.65)\n",
    "plt.show()\n",
    "\n",
    "savefig('anomaly5', dir_save_img)"
   ]
  },
  {
   "cell_type": "markdown",
   "id": "4179a15c-1cc1-4dc2-9cc1-b19cda30594b",
   "metadata": {},
   "source": [
    "### Scatterplots Matrix\n",
    "\n",
    "No non-linear relationships"
   ]
  },
  {
   "cell_type": "raw",
   "id": "ffe5bf46-a418-427a-8a68-748de81f0e78",
   "metadata": {},
   "source": [
    "ts_scatterplot_matrix(\n",
    "    train['target1'],\n",
    "    lags=12, ncols=3, s=0.5, figsize=(9, 7))"
   ]
  },
  {
   "cell_type": "raw",
   "id": "b505c33a-a9a2-4f06-9ba7-6f2df695cc5f",
   "metadata": {},
   "source": [
    "scipy.stats.pearsonr(\n",
    "    train['target1_diff'][2:],\n",
    "    train['target1_diff'].shift(1)[2:]\n",
    ")"
   ]
  },
  {
   "cell_type": "raw",
   "id": "c9d635fb-65e3-45e9-8862-9e8d06cf5980",
   "metadata": {},
   "source": [
    "scipy.stats.pearsonr(\n",
    "    train['target1_returns'][2:],\n",
    "    train['target1_returns'].shift(1)[2:]\n",
    ")"
   ]
  },
  {
   "cell_type": "raw",
   "id": "63392579-2e5e-4a7b-9bc1-471b8357faa4",
   "metadata": {},
   "source": [
    "scipy.stats.pearsonr(\n",
    "    train['target1_volatility'][2:],\n",
    "    train['target1_volatility'].shift(1)[2:]\n",
    ")"
   ]
  },
  {
   "cell_type": "markdown",
   "id": "8146e9cd-46cd-47d6-b3bd-6d613b634538",
   "metadata": {},
   "source": [
    "#### Predictors"
   ]
  },
  {
   "cell_type": "raw",
   "id": "19abcfe3-0c29-424a-95f2-76c52b2e88d5",
   "metadata": {},
   "source": [
    "ts_scatterplot_matrix(\n",
    "    x=train['temperature'], y=train['target1'],\n",
    "    figtitle='Target1 vs Temperature', lowess=True,\n",
    "    lags=12, ncols=3, s=0.5, figsize=(9, 12), constrained_layout=True)"
   ]
  },
  {
   "cell_type": "raw",
   "id": "26065606-6369-446f-886d-85dbeb5b251a",
   "metadata": {},
   "source": [
    "ts_scatterplot_matrix(\n",
    "    x=train['diffuseflows'], y=train['target1'],\n",
    "    figtitle='Target1 vs Вiffuseflows', lowess=True,\n",
    "    lags=12, ncols=3, s=0.5, figsize=(9, 12), constrained_layout=True)"
   ]
  },
  {
   "cell_type": "raw",
   "id": "bb57fc96-99e7-45a6-bad5-2f382d191f67",
   "metadata": {},
   "source": [
    "ts_scatterplot_matrix(\n",
    "    x=train['generaldiffuseflows'], y=train['target1'],\n",
    "    figtitle='Target1 vs Generaldiffuseflows', lowess=True,\n",
    "    lags=12, ncols=3, s=0.5, figsize=(9, 12), constrained_layout=True)"
   ]
  },
  {
   "cell_type": "markdown",
   "id": "269879b0-78e2-496d-9960-6fffa10eb2c8",
   "metadata": {},
   "source": [
    "### P\n",
    "\n",
    "xt = (1 + pt)xt−1"
   ]
  },
  {
   "cell_type": "code",
   "execution_count": null,
   "id": "ea311641-d746-47e8-8971-fdc45d6e7643",
   "metadata": {},
   "outputs": [],
   "source": [
    "train['p'] = train['target1'] / train['target1'].shift(1) - 1"
   ]
  },
  {
   "cell_type": "code",
   "execution_count": null,
   "id": "020be36e-149e-4387-84cd-01c6bb06d562",
   "metadata": {},
   "outputs": [],
   "source": [
    "plt.hist(train['p'], bins=150);"
   ]
  },
  {
   "cell_type": "code",
   "execution_count": null,
   "id": "b0cd0ca6-0e4f-4581-9517-94ca41e5d2b3",
   "metadata": {},
   "outputs": [],
   "source": [
    "plt.hist(train.loc[train['p']<-0.05, 'p'], bins=100);"
   ]
  },
  {
   "cell_type": "code",
   "execution_count": null,
   "id": "f18c9c25-2d5f-4879-a1f8-77886a949f33",
   "metadata": {},
   "outputs": [],
   "source": [
    "plt.hist(train.loc[train['p']>0.05, 'p'], bins=100);"
   ]
  },
  {
   "cell_type": "code",
   "execution_count": null,
   "id": "2ea1abe1-fcaa-4a01-a186-6cf007857e38",
   "metadata": {},
   "outputs": [],
   "source": [
    "train['p'].mean()"
   ]
  },
  {
   "cell_type": "markdown",
   "id": "2d648720-a58e-446c-8b46-b8468bf490bd",
   "metadata": {},
   "source": [
    "## Save Data"
   ]
  },
  {
   "cell_type": "code",
   "execution_count": null,
   "id": "9297d0c2-d3de-488e-87e6-ca0c7082855d",
   "metadata": {},
   "outputs": [],
   "source": [
    "saveit(train, 'train_raw', dir_save_files)"
   ]
  },
  {
   "cell_type": "code",
   "execution_count": null,
   "id": "6dc047fb-ca95-43ff-925c-210675e4d978",
   "metadata": {},
   "outputs": [],
   "source": [
    "saveit(valid, 'valid_raw', dir_save_files)"
   ]
  },
  {
   "cell_type": "code",
   "execution_count": null,
   "id": "d2c27a54-d459-4cc6-b8ce-2dc56eaf3223",
   "metadata": {},
   "outputs": [],
   "source": [
    "saveit(test, 'test_raw', dir_save_files)"
   ]
  },
  {
   "cell_type": "markdown",
   "id": "77a3871e-54b3-4be4-9369-9ec4a74c32f7",
   "metadata": {},
   "source": [
    "### Save Session"
   ]
  },
  {
   "cell_type": "code",
   "execution_count": null,
   "id": "544d8ecd-dcb0-44c4-bb5a-887cbba4e9bf",
   "metadata": {},
   "outputs": [],
   "source": [
    "save_session(session_name)"
   ]
  },
  {
   "cell_type": "markdown",
   "id": "bd74c7d1-8998-4567-ad7b-63bbb7a7f71a",
   "metadata": {},
   "source": [
    "### Execution time"
   ]
  },
  {
   "cell_type": "code",
   "execution_count": null,
   "id": "7296d512-ccdf-46f2-bd89-9be792d545b6",
   "metadata": {},
   "outputs": [],
   "source": [
    "print(f'Execution time: {stopwatch.stop(start)}')"
   ]
  }
 ],
 "metadata": {
  "kernelspec": {
   "display_name": "electric-power-consumption",
   "language": "python",
   "name": "electric-power-consumption"
  },
  "language_info": {
   "codemirror_mode": {
    "name": "ipython",
    "version": 3
   },
   "file_extension": ".py",
   "mimetype": "text/x-python",
   "name": "python",
   "nbconvert_exporter": "python",
   "pygments_lexer": "ipython3",
   "version": "3.12.2"
  }
 },
 "nbformat": 4,
 "nbformat_minor": 5
}
