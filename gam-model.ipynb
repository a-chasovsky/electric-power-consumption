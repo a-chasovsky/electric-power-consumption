{
 "cells": [
  {
   "cell_type": "markdown",
   "id": "d63a04cc-f81b-4609-a078-5ed92d706a0c",
   "metadata": {},
   "source": [
    "### Load libraries, functions, palette, theme"
   ]
  },
  {
   "cell_type": "code",
   "execution_count": 1,
   "id": "666f7a99-4d39-41f2-b372-59e6f58092aa",
   "metadata": {},
   "outputs": [
    {
     "name": "stderr",
     "output_type": "stream",
     "text": [
      "Загрузка требуемого пакета: splines\n",
      "\n",
      "Загрузка требуемого пакета: foreach\n",
      "\n",
      "Loaded gam 1.22-3\n",
      "\n",
      "\n",
      "Warning message:\n",
      "“пакет ‘reticulate’ был собран под R версии 4.3.2”\n"
     ]
    }
   ],
   "source": [
    "library(gam)\n",
    "library(reticulate)"
   ]
  },
  {
   "cell_type": "code",
   "execution_count": null,
   "id": "59777a60-1292-4ecd-8b12-80b068c3e347",
   "metadata": {},
   "outputs": [],
   "source": [
    "pd <- import(\"pandas\")"
   ]
  },
  {
   "cell_type": "markdown",
   "id": "4dc5281b-54e7-463e-97c8-969f95c062f8",
   "metadata": {
    "id": "c7980b49-f759-4a9d-bf5e-0eb93a75615a",
    "tags": []
   },
   "source": [
    "## Load Data"
   ]
  },
  {
   "cell_type": "raw",
   "id": "1b698444-491c-4dae-955c-2c808a102765",
   "metadata": {},
   "source": [
    "data <- pd$read_pickle('dataset.pickle')"
   ]
  },
  {
   "cell_type": "markdown",
   "id": "1f6def7b-012e-43ef-a012-e9ac0dedf20c",
   "metadata": {},
   "source": [
    "## GAM Model"
   ]
  },
  {
   "cell_type": "code",
   "execution_count": null,
   "id": "9a94b3de-f017-4b36-ac0d-83bc5c38e7a3",
   "metadata": {},
   "outputs": [],
   "source": []
  },
  {
   "cell_type": "code",
   "execution_count": null,
   "id": "d01792f1-fb9e-49a5-814f-e32d3ac3ff5e",
   "metadata": {},
   "outputs": [],
   "source": []
  },
  {
   "cell_type": "code",
   "execution_count": null,
   "id": "df151b68-0336-4b61-9d6c-f86d9b259f46",
   "metadata": {},
   "outputs": [],
   "source": []
  },
  {
   "cell_type": "code",
   "execution_count": null,
   "id": "b5dbb639-b15f-4764-b21c-c8fcebf6f48a",
   "metadata": {},
   "outputs": [],
   "source": []
  },
  {
   "cell_type": "code",
   "execution_count": null,
   "id": "f1a3382d-dd95-4cce-8eff-a80a9ecf5739",
   "metadata": {},
   "outputs": [],
   "source": []
  },
  {
   "cell_type": "code",
   "execution_count": null,
   "id": "a6555d08-a6d5-42c9-b9f1-cf1a341cfddb",
   "metadata": {},
   "outputs": [],
   "source": []
  },
  {
   "cell_type": "code",
   "execution_count": null,
   "id": "a1b5d873-141b-4d38-a642-e930361291aa",
   "metadata": {},
   "outputs": [],
   "source": []
  }
 ],
 "metadata": {
  "kernelspec": {
   "display_name": "R",
   "language": "R",
   "name": "ir"
  },
  "language_info": {
   "codemirror_mode": "r",
   "file_extension": ".r",
   "mimetype": "text/x-r-source",
   "name": "R",
   "pygments_lexer": "r",
   "version": "4.3.1"
  }
 },
 "nbformat": 4,
 "nbformat_minor": 5
}
