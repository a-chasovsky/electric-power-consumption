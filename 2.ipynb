{
 "cells": [
  {
   "cell_type": "code",
   "execution_count": 1,
   "id": "2e1e3b63-5b9c-464b-9beb-d9a38a44e22d",
   "metadata": {},
   "outputs": [],
   "source": [
    "# run stopwatch\n",
    "from tools import Stopwatch\n",
    "stopwatch = Stopwatch()\n",
    "start = stopwatch.start()"
   ]
  },
  {
   "cell_type": "markdown",
   "id": "8a5f52fd-7477-4e52-b560-977bf3bb88a7",
   "metadata": {},
   "source": [
    "### Load libraries, functions, palette, theme"
   ]
  },
  {
   "cell_type": "code",
   "execution_count": 2,
   "id": "5f9b63c8-50a4-4a00-9832-429b38b4f296",
   "metadata": {},
   "outputs": [],
   "source": [
    "%run _libraries.ipynb"
   ]
  },
  {
   "cell_type": "code",
   "execution_count": 3,
   "id": "d59d91f0-c577-4e62-90b9-43557d4fef7b",
   "metadata": {},
   "outputs": [],
   "source": [
    "%run _functions.ipynb"
   ]
  },
  {
   "cell_type": "code",
   "execution_count": 4,
   "id": "a9335c12-7f0f-47c0-937e-285184b1c314",
   "metadata": {},
   "outputs": [],
   "source": [
    "save_files = 'files/'"
   ]
  },
  {
   "cell_type": "code",
   "execution_count": 5,
   "id": "b1389297-dca5-48f3-9a19-a14942b4589e",
   "metadata": {},
   "outputs": [],
   "source": [
    "save_img = 'docs/img/'"
   ]
  },
  {
   "cell_type": "code",
   "execution_count": 6,
   "id": "097b3e62-7583-4bc2-9c0e-df963b703f49",
   "metadata": {},
   "outputs": [],
   "source": [
    "session_name = 'research'"
   ]
  },
  {
   "cell_type": "markdown",
   "id": "dcd731b8-b85b-45fd-a03d-b548cb6e336a",
   "metadata": {},
   "source": [
    "# Section II. Models"
   ]
  },
  {
   "cell_type": "markdown",
   "id": "2c2ccbc8-9b8e-4b6b-a6b1-b5fcb2962b01",
   "metadata": {},
   "source": [
    "## Load Saved Section if exists"
   ]
  },
  {
   "cell_type": "raw",
   "id": "53ead796-d77c-49a0-9fed-49fded9be347",
   "metadata": {},
   "source": [
    "if os.path.exists(f'sessions/{dir_save}'):\n",
    "    load_session(dir_save)\n",
    "else:\n",
    "    print(f\"No such session: 'sessions/{dir_save}'\")"
   ]
  },
  {
   "cell_type": "markdown",
   "id": "3cb709b2-c84e-4533-be0d-a1b6c52fd6f5",
   "metadata": {},
   "source": [
    "## Load Data"
   ]
  },
  {
   "cell_type": "code",
   "execution_count": 8,
   "id": "0cfdf001-ac4c-414c-b2bf-8428e1d3cb17",
   "metadata": {},
   "outputs": [],
   "source": [
    "train = datasets_dict = loadit(\n",
    "    'train', dir=save_files)"
   ]
  },
  {
   "cell_type": "code",
   "execution_count": 9,
   "id": "e7c904b3-cd9c-485b-a7ed-00b825eb7ad9",
   "metadata": {},
   "outputs": [],
   "source": [
    "valid = datasets_dict = loadit(\n",
    "    'valid', dir=save_files)"
   ]
  },
  {
   "cell_type": "code",
   "execution_count": 10,
   "id": "5663f2ca-6f27-45e6-93a0-e3c6ebf5cdee",
   "metadata": {},
   "outputs": [],
   "source": [
    "test = datasets_dict = loadit(\n",
    "    'test', dir=save_files)"
   ]
  },
  {
   "cell_type": "markdown",
   "id": "fcc85283-c272-405b-a0f0-0476feba6d19",
   "metadata": {},
   "source": [
    "## Model 1: SARIMAX"
   ]
  },
  {
   "cell_type": "code",
   "execution_count": 15,
   "id": "3e497783-9c2a-4ed3-822e-be9fcd73ef01",
   "metadata": {},
   "outputs": [],
   "source": [
    "from pmdarima.arima import auto_arima"
   ]
  },
  {
   "cell_type": "code",
   "execution_count": 17,
   "id": "4323b372-8cde-4171-84a5-421e310ca37f",
   "metadata": {},
   "outputs": [
    {
     "data": {
      "text/plain": [
       "Index(['temperature', 'humidity', 'windspeed', 'generaldiffuseflows',\n",
       "       'diffuseflows', 'target1', 'target2', 'target3', 'minute', 'hour',\n",
       "       'day', 'day_number', 'day_of_year', 'weekday', 'week', 'month',\n",
       "       'year_month', 'year_day', 'count_elmnts_by_day', 'is_Friday',\n",
       "       'is_Sunday', 'target1_diff', 'target1_returns', 'target1_volatility',\n",
       "       'p', 'is_31', 'target1_cum_avg', 'target1_by_weekday'],\n",
       "      dtype='object')"
      ]
     },
     "execution_count": 17,
     "metadata": {},
     "output_type": "execute_result"
    }
   ],
   "source": [
    "train.columns"
   ]
  },
  {
   "cell_type": "code",
   "execution_count": 26,
   "id": "a5665ec8-79a1-4b19-b618-056471aa670d",
   "metadata": {},
   "outputs": [],
   "source": [
    "train_ = train[[\n",
    "    'temperature', 'minute', 'hour', 'day', 'weekday',\n",
    "    'is_Friday', 'is_Sunday', 'is_31', 'target1_cum_avg', 'target1_by_weekday', 'target1']].copy()"
   ]
  },
  {
   "cell_type": "code",
   "execution_count": 70,
   "id": "c6421320-ccee-4791-9d03-ec671b9d6925",
   "metadata": {},
   "outputs": [],
   "source": [
    "y = train_['target1'].copy()"
   ]
  },
  {
   "cell_type": "code",
   "execution_count": 71,
   "id": "5ce4d305-c450-47db-8cc5-960dc2db7ad5",
   "metadata": {},
   "outputs": [
    {
     "data": {
      "text/plain": [
       "(17568,)"
      ]
     },
     "execution_count": 71,
     "metadata": {},
     "output_type": "execute_result"
    }
   ],
   "source": [
    "y.shape"
   ]
  },
  {
   "cell_type": "code",
   "execution_count": 72,
   "id": "5479a7b2-7a0a-4105-8a66-bf964a8e5a2d",
   "metadata": {},
   "outputs": [],
   "source": [
    "X = train_.iloc[:, :-1].copy()"
   ]
  },
  {
   "cell_type": "code",
   "execution_count": 73,
   "id": "352b1870-d58a-460b-ad93-d44e110b821f",
   "metadata": {},
   "outputs": [
    {
     "name": "stdout",
     "output_type": "stream",
     "text": [
      "<class 'pandas.core.frame.DataFrame'>\n",
      "DatetimeIndex: 17568 entries, 2017-04-01 00:00:00 to 2017-07-31 23:50:00\n",
      "Data columns (total 10 columns):\n",
      " #   Column              Non-Null Count  Dtype  \n",
      "---  ------              --------------  -----  \n",
      " 0   temperature         17568 non-null  float64\n",
      " 1   minute              17568 non-null  int32  \n",
      " 2   hour                17568 non-null  int32  \n",
      " 3   day                 17568 non-null  int32  \n",
      " 4   weekday             17568 non-null  int32  \n",
      " 5   is_Friday           17568 non-null  int64  \n",
      " 6   is_Sunday           17568 non-null  int64  \n",
      " 7   is_31               17568 non-null  int64  \n",
      " 8   target1_cum_avg     17568 non-null  float64\n",
      " 9   target1_by_weekday  17568 non-null  float64\n",
      "dtypes: float64(3), int32(4), int64(3)\n",
      "memory usage: 1.2 MB\n"
     ]
    }
   ],
   "source": [
    "X.info()"
   ]
  },
  {
   "cell_type": "code",
   "execution_count": 74,
   "id": "b13ffc3f-a060-4bba-9447-6f66c885f425",
   "metadata": {},
   "outputs": [],
   "source": [
    "X_ = np.asarray(X)"
   ]
  },
  {
   "cell_type": "code",
   "execution_count": 75,
   "id": "064c68ee-97ad-4477-933a-a091972a34ea",
   "metadata": {},
   "outputs": [
    {
     "data": {
      "text/plain": [
       "(17568, 10)"
      ]
     },
     "execution_count": 75,
     "metadata": {},
     "output_type": "execute_result"
    }
   ],
   "source": [
    "X_.shape"
   ]
  },
  {
   "cell_type": "code",
   "execution_count": 76,
   "id": "093082a9-49bd-407b-bebb-7b42a06e2f54",
   "metadata": {},
   "outputs": [
    {
     "name": "stderr",
     "output_type": "stream",
     "text": [
      "\n",
      "KeyboardInterrupt\n",
      "\n"
     ]
    }
   ],
   "source": [
    "model_auto = auto_arima(y, X_)"
   ]
  },
  {
   "cell_type": "code",
   "execution_count": null,
   "id": "2a38b80e-ae31-4e31-92cd-d9e34c62f712",
   "metadata": {},
   "outputs": [],
   "source": []
  },
  {
   "cell_type": "code",
   "execution_count": null,
   "id": "a4cc4ba0-5661-44bf-9bc9-2f3b7c327d49",
   "metadata": {},
   "outputs": [],
   "source": []
  },
  {
   "cell_type": "code",
   "execution_count": null,
   "id": "f65b8bee-22fb-482b-985b-87a82f1636f9",
   "metadata": {},
   "outputs": [],
   "source": []
  },
  {
   "cell_type": "code",
   "execution_count": null,
   "id": "d86e64b5-83b4-4f64-9834-5619dfd9d9e6",
   "metadata": {},
   "outputs": [],
   "source": []
  }
 ],
 "metadata": {
  "kernelspec": {
   "display_name": "electric_power_consumption",
   "language": "python",
   "name": "electric_power_consumption"
  },
  "language_info": {
   "codemirror_mode": {
    "name": "ipython",
    "version": 3
   },
   "file_extension": ".py",
   "mimetype": "text/x-python",
   "name": "python",
   "nbconvert_exporter": "python",
   "pygments_lexer": "ipython3",
   "version": "3.12.2"
  }
 },
 "nbformat": 4,
 "nbformat_minor": 5
}
