{
 "cells": [
  {
   "cell_type": "code",
   "execution_count": 169,
   "id": "2e1e3b63-5b9c-464b-9beb-d9a38a44e22d",
   "metadata": {},
   "outputs": [],
   "source": [
    "# run stopwatch\n",
    "from tools import Stopwatch\n",
    "stopwatch = Stopwatch()\n",
    "start = stopwatch.start()"
   ]
  },
  {
   "cell_type": "markdown",
   "id": "8a5f52fd-7477-4e52-b560-977bf3bb88a7",
   "metadata": {},
   "source": [
    "### Load libraries, functions, palette, theme"
   ]
  },
  {
   "cell_type": "code",
   "execution_count": 170,
   "id": "5f9b63c8-50a4-4a00-9832-429b38b4f296",
   "metadata": {},
   "outputs": [],
   "source": [
    "%run _libraries.ipynb"
   ]
  },
  {
   "cell_type": "code",
   "execution_count": 171,
   "id": "d59d91f0-c577-4e62-90b9-43557d4fef7b",
   "metadata": {},
   "outputs": [],
   "source": [
    "%run _functions.ipynb"
   ]
  },
  {
   "cell_type": "code",
   "execution_count": 172,
   "id": "a9335c12-7f0f-47c0-937e-285184b1c314",
   "metadata": {},
   "outputs": [],
   "source": [
    "save_files = 'files/'"
   ]
  },
  {
   "cell_type": "code",
   "execution_count": 173,
   "id": "b1389297-dca5-48f3-9a19-a14942b4589e",
   "metadata": {},
   "outputs": [],
   "source": [
    "save_img = 'docs/img/'"
   ]
  },
  {
   "cell_type": "code",
   "execution_count": 174,
   "id": "097b3e62-7583-4bc2-9c0e-df963b703f49",
   "metadata": {},
   "outputs": [],
   "source": [
    "session_name = 'research'"
   ]
  },
  {
   "cell_type": "markdown",
   "id": "dcd731b8-b85b-45fd-a03d-b548cb6e336a",
   "metadata": {},
   "source": [
    "# Section II. Models"
   ]
  },
  {
   "cell_type": "markdown",
   "id": "2c2ccbc8-9b8e-4b6b-a6b1-b5fcb2962b01",
   "metadata": {},
   "source": [
    "## Load Saved Section if exists"
   ]
  },
  {
   "cell_type": "raw",
   "id": "53ead796-d77c-49a0-9fed-49fded9be347",
   "metadata": {},
   "source": [
    "if os.path.exists(f'sessions/{dir_save}'):\n",
    "    load_session(dir_save)\n",
    "else:\n",
    "    print(f\"No such session: 'sessions/{dir_save}'\")"
   ]
  },
  {
   "cell_type": "markdown",
   "id": "3cb709b2-c84e-4533-be0d-a1b6c52fd6f5",
   "metadata": {},
   "source": [
    "## Load Data"
   ]
  },
  {
   "cell_type": "code",
   "execution_count": 175,
   "id": "0cfdf001-ac4c-414c-b2bf-8428e1d3cb17",
   "metadata": {},
   "outputs": [],
   "source": [
    "train = datasets_dict = loadit(\n",
    "    'train', dir=save_files)"
   ]
  },
  {
   "cell_type": "code",
   "execution_count": 176,
   "id": "e7c904b3-cd9c-485b-a7ed-00b825eb7ad9",
   "metadata": {},
   "outputs": [],
   "source": [
    "valid = datasets_dict = loadit(\n",
    "    'valid', dir=save_files)"
   ]
  },
  {
   "cell_type": "code",
   "execution_count": 177,
   "id": "5663f2ca-6f27-45e6-93a0-e3c6ebf5cdee",
   "metadata": {},
   "outputs": [],
   "source": [
    "test = datasets_dict = loadit(\n",
    "    'test', dir=save_files)"
   ]
  },
  {
   "cell_type": "markdown",
   "id": "b928ac39-f56d-4944-8487-93100e309e1c",
   "metadata": {},
   "source": [
    "## Preprocessing"
   ]
  },
  {
   "cell_type": "markdown",
   "id": "6d7fd79f-88ac-4da9-ab0d-4c4593a4830a",
   "metadata": {},
   "source": [
    "### Features selection"
   ]
  },
  {
   "cell_type": "code",
   "execution_count": 178,
   "id": "17215ed3-57ae-4547-8acb-6d0c5b9ccbf1",
   "metadata": {},
   "outputs": [
    {
     "data": {
      "text/html": [
       "<div>\n",
       "<style scoped>\n",
       "    .dataframe tbody tr th:only-of-type {\n",
       "        vertical-align: middle;\n",
       "    }\n",
       "\n",
       "    .dataframe tbody tr th {\n",
       "        vertical-align: top;\n",
       "    }\n",
       "\n",
       "    .dataframe thead th {\n",
       "        text-align: right;\n",
       "    }\n",
       "</style>\n",
       "<table border=\"1\" class=\"dataframe\">\n",
       "  <thead>\n",
       "    <tr style=\"text-align: right;\">\n",
       "      <th></th>\n",
       "      <th>temperature</th>\n",
       "      <th>humidity</th>\n",
       "      <th>windspeed</th>\n",
       "      <th>generaldiffuseflows</th>\n",
       "      <th>diffuseflows</th>\n",
       "      <th>target1</th>\n",
       "      <th>target2</th>\n",
       "      <th>target3</th>\n",
       "      <th>minute</th>\n",
       "      <th>hour</th>\n",
       "      <th>...</th>\n",
       "      <th>is_Friday</th>\n",
       "      <th>is_Sunday</th>\n",
       "      <th>target1_diff</th>\n",
       "      <th>target1_returns</th>\n",
       "      <th>target1_volatility</th>\n",
       "      <th>p</th>\n",
       "      <th>is_31</th>\n",
       "      <th>target1_cum_avg</th>\n",
       "      <th>target1_by_weekday</th>\n",
       "      <th>target1_by_minutes</th>\n",
       "    </tr>\n",
       "  </thead>\n",
       "  <tbody>\n",
       "    <tr>\n",
       "      <th>2017-01-01 00:00:00</th>\n",
       "      <td>6.559</td>\n",
       "      <td>73.8</td>\n",
       "      <td>0.083</td>\n",
       "      <td>0.051</td>\n",
       "      <td>0.119</td>\n",
       "      <td>34055.69620</td>\n",
       "      <td>16128.87538</td>\n",
       "      <td>20240.96386</td>\n",
       "      <td>0</td>\n",
       "      <td>0</td>\n",
       "      <td>...</td>\n",
       "      <td>0</td>\n",
       "      <td>1</td>\n",
       "      <td>NaN</td>\n",
       "      <td>NaN</td>\n",
       "      <td>NaN</td>\n",
       "      <td>NaN</td>\n",
       "      <td>0</td>\n",
       "      <td>NaN</td>\n",
       "      <td>30649.323725</td>\n",
       "      <td>NaN</td>\n",
       "    </tr>\n",
       "    <tr>\n",
       "      <th>2017-01-01 00:10:00</th>\n",
       "      <td>6.414</td>\n",
       "      <td>74.5</td>\n",
       "      <td>0.083</td>\n",
       "      <td>0.070</td>\n",
       "      <td>0.085</td>\n",
       "      <td>29814.68354</td>\n",
       "      <td>19375.07599</td>\n",
       "      <td>20131.08434</td>\n",
       "      <td>10</td>\n",
       "      <td>0</td>\n",
       "      <td>...</td>\n",
       "      <td>0</td>\n",
       "      <td>1</td>\n",
       "      <td>-4241.01266</td>\n",
       "      <td>-12.453167</td>\n",
       "      <td>155.081364</td>\n",
       "      <td>-0.124532</td>\n",
       "      <td>0</td>\n",
       "      <td>34055.696200</td>\n",
       "      <td>30649.323725</td>\n",
       "      <td>NaN</td>\n",
       "    </tr>\n",
       "    <tr>\n",
       "      <th>2017-01-01 00:20:00</th>\n",
       "      <td>6.313</td>\n",
       "      <td>74.5</td>\n",
       "      <td>0.080</td>\n",
       "      <td>0.062</td>\n",
       "      <td>0.100</td>\n",
       "      <td>29128.10127</td>\n",
       "      <td>19006.68693</td>\n",
       "      <td>19668.43373</td>\n",
       "      <td>20</td>\n",
       "      <td>0</td>\n",
       "      <td>...</td>\n",
       "      <td>0</td>\n",
       "      <td>1</td>\n",
       "      <td>-686.58227</td>\n",
       "      <td>-2.302833</td>\n",
       "      <td>5.303038</td>\n",
       "      <td>-0.023028</td>\n",
       "      <td>0</td>\n",
       "      <td>31935.189870</td>\n",
       "      <td>30649.323725</td>\n",
       "      <td>NaN</td>\n",
       "    </tr>\n",
       "    <tr>\n",
       "      <th>2017-01-01 00:30:00</th>\n",
       "      <td>6.121</td>\n",
       "      <td>75.0</td>\n",
       "      <td>0.083</td>\n",
       "      <td>0.091</td>\n",
       "      <td>0.096</td>\n",
       "      <td>28228.86076</td>\n",
       "      <td>18361.09422</td>\n",
       "      <td>18899.27711</td>\n",
       "      <td>30</td>\n",
       "      <td>0</td>\n",
       "      <td>...</td>\n",
       "      <td>0</td>\n",
       "      <td>1</td>\n",
       "      <td>-899.24051</td>\n",
       "      <td>-3.087192</td>\n",
       "      <td>9.530757</td>\n",
       "      <td>-0.030872</td>\n",
       "      <td>0</td>\n",
       "      <td>30999.493670</td>\n",
       "      <td>30649.323725</td>\n",
       "      <td>NaN</td>\n",
       "    </tr>\n",
       "    <tr>\n",
       "      <th>2017-01-01 00:40:00</th>\n",
       "      <td>5.921</td>\n",
       "      <td>75.7</td>\n",
       "      <td>0.081</td>\n",
       "      <td>0.048</td>\n",
       "      <td>0.085</td>\n",
       "      <td>27335.69620</td>\n",
       "      <td>17872.34043</td>\n",
       "      <td>18442.40964</td>\n",
       "      <td>40</td>\n",
       "      <td>0</td>\n",
       "      <td>...</td>\n",
       "      <td>0</td>\n",
       "      <td>1</td>\n",
       "      <td>-893.16456</td>\n",
       "      <td>-3.164012</td>\n",
       "      <td>10.010972</td>\n",
       "      <td>-0.031640</td>\n",
       "      <td>0</td>\n",
       "      <td>30306.835442</td>\n",
       "      <td>30649.323725</td>\n",
       "      <td>NaN</td>\n",
       "    </tr>\n",
       "  </tbody>\n",
       "</table>\n",
       "<p>5 rows × 29 columns</p>\n",
       "</div>"
      ],
      "text/plain": [
       "                     temperature  humidity  windspeed  generaldiffuseflows  \\\n",
       "2017-01-01 00:00:00        6.559      73.8      0.083                0.051   \n",
       "2017-01-01 00:10:00        6.414      74.5      0.083                0.070   \n",
       "2017-01-01 00:20:00        6.313      74.5      0.080                0.062   \n",
       "2017-01-01 00:30:00        6.121      75.0      0.083                0.091   \n",
       "2017-01-01 00:40:00        5.921      75.7      0.081                0.048   \n",
       "\n",
       "                     diffuseflows      target1      target2      target3  \\\n",
       "2017-01-01 00:00:00         0.119  34055.69620  16128.87538  20240.96386   \n",
       "2017-01-01 00:10:00         0.085  29814.68354  19375.07599  20131.08434   \n",
       "2017-01-01 00:20:00         0.100  29128.10127  19006.68693  19668.43373   \n",
       "2017-01-01 00:30:00         0.096  28228.86076  18361.09422  18899.27711   \n",
       "2017-01-01 00:40:00         0.085  27335.69620  17872.34043  18442.40964   \n",
       "\n",
       "                     minute  hour  ...  is_Friday  is_Sunday  target1_diff  \\\n",
       "2017-01-01 00:00:00       0     0  ...          0          1           NaN   \n",
       "2017-01-01 00:10:00      10     0  ...          0          1   -4241.01266   \n",
       "2017-01-01 00:20:00      20     0  ...          0          1    -686.58227   \n",
       "2017-01-01 00:30:00      30     0  ...          0          1    -899.24051   \n",
       "2017-01-01 00:40:00      40     0  ...          0          1    -893.16456   \n",
       "\n",
       "                     target1_returns  target1_volatility         p is_31  \\\n",
       "2017-01-01 00:00:00              NaN                 NaN       NaN     0   \n",
       "2017-01-01 00:10:00       -12.453167          155.081364 -0.124532     0   \n",
       "2017-01-01 00:20:00        -2.302833            5.303038 -0.023028     0   \n",
       "2017-01-01 00:30:00        -3.087192            9.530757 -0.030872     0   \n",
       "2017-01-01 00:40:00        -3.164012           10.010972 -0.031640     0   \n",
       "\n",
       "                    target1_cum_avg  target1_by_weekday  target1_by_minutes  \n",
       "2017-01-01 00:00:00             NaN        30649.323725                 NaN  \n",
       "2017-01-01 00:10:00    34055.696200        30649.323725                 NaN  \n",
       "2017-01-01 00:20:00    31935.189870        30649.323725                 NaN  \n",
       "2017-01-01 00:30:00    30999.493670        30649.323725                 NaN  \n",
       "2017-01-01 00:40:00    30306.835442        30649.323725                 NaN  \n",
       "\n",
       "[5 rows x 29 columns]"
      ]
     },
     "execution_count": 178,
     "metadata": {},
     "output_type": "execute_result"
    }
   ],
   "source": [
    "train.head()"
   ]
  },
  {
   "cell_type": "code",
   "execution_count": 179,
   "id": "e98d635c-f073-4a42-b8a4-7f167efffed2",
   "metadata": {},
   "outputs": [
    {
     "name": "stdout",
     "output_type": "stream",
     "text": [
      "['temperature', 'humidity', 'windspeed', 'generaldiffuseflows', 'diffuseflows', 'target1', 'target2', 'target3', 'minute', 'hour', 'day', 'day_number', 'day_of_year', 'weekday', 'week', 'month', 'year_month', 'year_day', 'count_elmnts_by_day', 'is_Friday', 'is_Sunday', 'target1_diff', 'target1_returns', 'target1_volatility', 'p', 'is_31', 'target1_cum_avg', 'target1_by_weekday', 'target1_by_minutes']\n"
     ]
    }
   ],
   "source": [
    "print(train.columns.tolist())"
   ]
  },
  {
   "cell_type": "code",
   "execution_count": 180,
   "id": "2bcd8bac-310d-47ee-a3dd-b117a1ffd281",
   "metadata": {},
   "outputs": [
    {
     "data": {
      "text/plain": [
       "target1_by_minutes     0.974348\n",
       "target2                0.951248\n",
       "target3                0.881336\n",
       "hour                   0.808884\n",
       "count_elmnts_by_day    0.808425\n",
       "target1_cum_avg        0.703969\n",
       "humidity              -0.662634\n",
       "windspeed              0.619790\n",
       "temperature            0.592302\n",
       "generaldiffuseflows    0.206003\n",
       "target1_volatility     0.052608\n",
       "target1_diff           0.049179\n",
       "target1_returns        0.048800\n",
       "p                      0.048800\n",
       "diffuseflows          -0.014995\n",
       "minute                 0.005437\n",
       "day                         NaN\n",
       "day_number                  NaN\n",
       "day_of_year                 NaN\n",
       "weekday                     NaN\n",
       "week                        NaN\n",
       "month                       NaN\n",
       "is_Friday                   NaN\n",
       "is_Sunday                   NaN\n",
       "is_31                       NaN\n",
       "target1_by_weekday          NaN\n",
       "Name: target1, dtype: float64"
      ]
     },
     "execution_count": 180,
     "metadata": {},
     "output_type": "execute_result"
    }
   ],
   "source": [
    "# example of correlation coefficients\n",
    "(train\n",
    " .loc['2017-05-05', ~train.columns.isin(['year_month', 'year_day'])]\n",
    " .corr()['target1']\n",
    " .sort_values(key=abs, ascending=False)[1:])"
   ]
  },
  {
   "cell_type": "code",
   "execution_count": 181,
   "id": "4b2a14e6-d54d-460d-8ba1-b2df0fc7ac63",
   "metadata": {},
   "outputs": [
    {
     "data": {
      "text/html": [
       "<div>\n",
       "<style scoped>\n",
       "    .dataframe tbody tr th:only-of-type {\n",
       "        vertical-align: middle;\n",
       "    }\n",
       "\n",
       "    .dataframe tbody tr th {\n",
       "        vertical-align: top;\n",
       "    }\n",
       "\n",
       "    .dataframe thead th {\n",
       "        text-align: right;\n",
       "    }\n",
       "</style>\n",
       "<table border=\"1\" class=\"dataframe\">\n",
       "  <thead>\n",
       "    <tr style=\"text-align: right;\">\n",
       "      <th></th>\n",
       "      <th>target1</th>\n",
       "      <th>target1_by_weekday</th>\n",
       "    </tr>\n",
       "  </thead>\n",
       "  <tbody>\n",
       "    <tr>\n",
       "      <th>target1</th>\n",
       "      <td>1.000000</td>\n",
       "      <td>0.097975</td>\n",
       "    </tr>\n",
       "    <tr>\n",
       "      <th>target1_by_weekday</th>\n",
       "      <td>0.097975</td>\n",
       "      <td>1.000000</td>\n",
       "    </tr>\n",
       "  </tbody>\n",
       "</table>\n",
       "</div>"
      ],
      "text/plain": [
       "                     target1  target1_by_weekday\n",
       "target1             1.000000            0.097975\n",
       "target1_by_weekday  0.097975            1.000000"
      ]
     },
     "execution_count": 181,
     "metadata": {},
     "output_type": "execute_result"
    }
   ],
   "source": [
    "train[['target1', 'target1_by_weekday']].corr()"
   ]
  },
  {
   "cell_type": "markdown",
   "id": "611ad9d3-a952-4783-ad82-70ed8add8e79",
   "metadata": {},
   "source": [
    "## X, y"
   ]
  },
  {
   "cell_type": "code",
   "execution_count": 182,
   "id": "01ba942f-bc9c-46f3-9d1a-63ea603859f2",
   "metadata": {},
   "outputs": [],
   "source": [
    "y = train['target1'].copy()"
   ]
  },
  {
   "cell_type": "code",
   "execution_count": 183,
   "id": "707394ba-2d0f-46e6-96e9-e3446ea59f3e",
   "metadata": {},
   "outputs": [],
   "source": [
    "y = y[4464:].copy()"
   ]
  },
  {
   "cell_type": "code",
   "execution_count": 184,
   "id": "9fdb269c-f346-4dea-80a8-384cab6a34a6",
   "metadata": {},
   "outputs": [
    {
     "data": {
      "text/plain": [
       "2017-02-01 00:00:00    29892.20339\n",
       "2017-02-01 00:10:00    29086.77966\n",
       "2017-02-01 00:20:00    28244.74576\n",
       "2017-02-01 00:30:00    27793.22034\n",
       "2017-02-01 00:40:00    27286.77966\n",
       "                          ...     \n",
       "2017-07-31 23:10:00    43407.30897\n",
       "2017-07-31 23:20:00    42507.90698\n",
       "2017-07-31 23:30:00    41659.53488\n",
       "2017-07-31 23:40:00    40843.05648\n",
       "2017-07-31 23:50:00    39631.09635\n",
       "Freq: 10min, Name: target1, Length: 26064, dtype: float64"
      ]
     },
     "execution_count": 184,
     "metadata": {},
     "output_type": "execute_result"
    }
   ],
   "source": [
    "y"
   ]
  },
  {
   "cell_type": "code",
   "execution_count": 185,
   "id": "308d4020-8c2a-41fd-af71-8c67a1760a0d",
   "metadata": {},
   "outputs": [],
   "source": [
    "X = train.iloc[4464:, :].copy()"
   ]
  },
  {
   "cell_type": "code",
   "execution_count": 186,
   "id": "728ba763-18b8-40c5-aa20-00fc606885d6",
   "metadata": {},
   "outputs": [],
   "source": [
    "X = X['target1_by_minutes'].copy()"
   ]
  },
  {
   "cell_type": "code",
   "execution_count": 187,
   "id": "d94765ca-af6c-4731-901a-3a7c292ae0d7",
   "metadata": {},
   "outputs": [
    {
     "data": {
      "text/plain": [
       "2017-02-01 00:00:00    34055.69620\n",
       "2017-02-01 00:10:00    29814.68354\n",
       "2017-02-01 00:20:00    29128.10127\n",
       "2017-02-01 00:30:00    28228.86076\n",
       "2017-02-01 00:40:00    27335.69620\n",
       "                          ...     \n",
       "2017-07-31 23:10:00    40205.56291\n",
       "2017-07-31 23:20:00    39423.57616\n",
       "2017-07-31 23:30:00    38883.17881\n",
       "2017-07-31 23:40:00    38107.54967\n",
       "2017-07-31 23:50:00    37312.84768\n",
       "Freq: 10min, Name: target1_by_minutes, Length: 26064, dtype: float64"
      ]
     },
     "execution_count": 187,
     "metadata": {},
     "output_type": "execute_result"
    }
   ],
   "source": [
    "X"
   ]
  },
  {
   "cell_type": "code",
   "execution_count": 188,
   "id": "e63c0453-c982-4266-9564-3c79606b6b69",
   "metadata": {},
   "outputs": [
    {
     "data": {
      "text/plain": [
       "DatetimeIndex(['2017-01-01 00:00:00', '2017-01-01 00:10:00',\n",
       "               '2017-01-01 00:20:00', '2017-01-01 00:30:00',\n",
       "               '2017-01-01 00:40:00', '2017-01-01 00:50:00',\n",
       "               '2017-01-01 01:00:00', '2017-01-01 01:10:00',\n",
       "               '2017-01-01 01:20:00', '2017-01-01 01:30:00',\n",
       "               ...\n",
       "               '2017-07-31 22:20:00', '2017-07-31 22:30:00',\n",
       "               '2017-07-31 22:40:00', '2017-07-31 22:50:00',\n",
       "               '2017-07-31 23:00:00', '2017-07-31 23:10:00',\n",
       "               '2017-07-31 23:20:00', '2017-07-31 23:30:00',\n",
       "               '2017-07-31 23:40:00', '2017-07-31 23:50:00'],\n",
       "              dtype='datetime64[ns]', length=30528, freq='10min')"
      ]
     },
     "execution_count": 188,
     "metadata": {},
     "output_type": "execute_result"
    }
   ],
   "source": [
    "train.index"
   ]
  },
  {
   "cell_type": "markdown",
   "id": "e6b8dfa7-8667-4485-8b6d-88f9fb40a8fb",
   "metadata": {},
   "source": [
    "## Model 1: ARMA\n",
    "\n",
    "Best model: ARIMA(2, 1, 2)"
   ]
  },
  {
   "cell_type": "code",
   "execution_count": 189,
   "id": "7813739a-2825-465b-b634-c5e072587053",
   "metadata": {},
   "outputs": [
    {
     "name": "stderr",
     "output_type": "stream",
     "text": [
      "/Library/Frameworks/Python.framework/Versions/3.12/lib/python3.12/site-packages/statsmodels/tsa/statespace/sarimax.py:966: UserWarning: Non-stationary starting autoregressive parameters found. Using zeros as starting parameters.\n",
      "  warn('Non-stationary starting autoregressive parameters'\n",
      "/Library/Frameworks/Python.framework/Versions/3.12/lib/python3.12/site-packages/statsmodels/tsa/statespace/sarimax.py:978: UserWarning: Non-invertible starting MA parameters found. Using zeros as starting parameters.\n",
      "  warn('Non-invertible starting MA parameters found.'\n"
     ]
    }
   ],
   "source": [
    "arma101 = ARIMA(y, order=(1,0,1)).fit()\n",
    "\n",
    "arima111 = ARIMA(y, order=(1,1,1)).fit()\n",
    "arima211 = ARIMA(y, order=(2,1,1)).fit()\n",
    "arima311 = ARIMA(y, order=(3,1,1)).fit()\n",
    "arima411 = ARIMA(y, order=(4,1,1)).fit()\n",
    "\n",
    "arima112 = ARIMA(y, order=(1,1,2)).fit()\n",
    "arima113 = ARIMA(y, order=(1,1,3)).fit()\n",
    "arima114 = ARIMA(y, order=(1,1,4)).fit()"
   ]
  },
  {
   "cell_type": "code",
   "execution_count": 190,
   "id": "c9d0c648-66f2-4353-a34c-033afd8def29",
   "metadata": {},
   "outputs": [],
   "source": [
    "arima_results = pd.DataFrame(\n",
    "    data=[\n",
    "        [arma101.llf, arma101.aic],\n",
    "        [arima111.llf, arima111.aic],\n",
    "        [arima211.llf, arima211.aic],\n",
    "        [arima311.llf, arima311.aic],\n",
    "        [arima411.llf, arima411.aic],\n",
    "        [arima112.llf, arima112.aic],\n",
    "        [arima113.llf, arima113.aic],\n",
    "        [arima114.llf, arima114.aic],\n",
    "    ],\n",
    "    columns=['LLF', 'AIC'],\n",
    "    index=[\n",
    "        'arma101', 'arima111', 'arima211', 'arima311',\n",
    "        'arima411', 'arima112', 'arima113', 'arima114'\n",
    "    ]\n",
    ")"
   ]
  },
  {
   "cell_type": "code",
   "execution_count": 191,
   "id": "61461701-dda7-4519-a518-56b1ad9421a7",
   "metadata": {},
   "outputs": [
    {
     "data": {
      "text/html": [
       "<div>\n",
       "<style scoped>\n",
       "    .dataframe tbody tr th:only-of-type {\n",
       "        vertical-align: middle;\n",
       "    }\n",
       "\n",
       "    .dataframe tbody tr th {\n",
       "        vertical-align: top;\n",
       "    }\n",
       "\n",
       "    .dataframe thead th {\n",
       "        text-align: right;\n",
       "    }\n",
       "</style>\n",
       "<table border=\"1\" class=\"dataframe\">\n",
       "  <thead>\n",
       "    <tr style=\"text-align: right;\">\n",
       "      <th></th>\n",
       "      <th>LLF</th>\n",
       "      <th>AIC</th>\n",
       "    </tr>\n",
       "  </thead>\n",
       "  <tbody>\n",
       "    <tr>\n",
       "      <th>arima311</th>\n",
       "      <td>-197660.151491</td>\n",
       "      <td>395330.302983</td>\n",
       "    </tr>\n",
       "    <tr>\n",
       "      <th>arima114</th>\n",
       "      <td>-197659.536814</td>\n",
       "      <td>395331.073627</td>\n",
       "    </tr>\n",
       "    <tr>\n",
       "      <th>arima411</th>\n",
       "      <td>-197659.889502</td>\n",
       "      <td>395331.779003</td>\n",
       "    </tr>\n",
       "    <tr>\n",
       "      <th>arima112</th>\n",
       "      <td>-197662.429198</td>\n",
       "      <td>395332.858397</td>\n",
       "    </tr>\n",
       "    <tr>\n",
       "      <th>arima113</th>\n",
       "      <td>-197662.248854</td>\n",
       "      <td>395334.497708</td>\n",
       "    </tr>\n",
       "    <tr>\n",
       "      <th>arima211</th>\n",
       "      <td>-197711.129976</td>\n",
       "      <td>395430.259952</td>\n",
       "    </tr>\n",
       "    <tr>\n",
       "      <th>arima111</th>\n",
       "      <td>-197862.867370</td>\n",
       "      <td>395731.734739</td>\n",
       "    </tr>\n",
       "    <tr>\n",
       "      <th>arma101</th>\n",
       "      <td>-200673.649239</td>\n",
       "      <td>401355.298478</td>\n",
       "    </tr>\n",
       "  </tbody>\n",
       "</table>\n",
       "</div>"
      ],
      "text/plain": [
       "                    LLF            AIC\n",
       "arima311 -197660.151491  395330.302983\n",
       "arima114 -197659.536814  395331.073627\n",
       "arima411 -197659.889502  395331.779003\n",
       "arima112 -197662.429198  395332.858397\n",
       "arima113 -197662.248854  395334.497708\n",
       "arima211 -197711.129976  395430.259952\n",
       "arima111 -197862.867370  395731.734739\n",
       "arma101  -200673.649239  401355.298478"
      ]
     },
     "execution_count": 191,
     "metadata": {},
     "output_type": "execute_result"
    }
   ],
   "source": [
    "arima_results.sort_values('AIC')"
   ]
  },
  {
   "cell_type": "code",
   "execution_count": 192,
   "id": "5f658aaa-1749-4284-a280-2cd8b2c7fb81",
   "metadata": {},
   "outputs": [
    {
     "data": {
      "text/html": [
       "<div>\n",
       "<style scoped>\n",
       "    .dataframe tbody tr th:only-of-type {\n",
       "        vertical-align: middle;\n",
       "    }\n",
       "\n",
       "    .dataframe tbody tr th {\n",
       "        vertical-align: top;\n",
       "    }\n",
       "\n",
       "    .dataframe thead th {\n",
       "        text-align: right;\n",
       "    }\n",
       "</style>\n",
       "<table border=\"1\" class=\"dataframe\">\n",
       "  <thead>\n",
       "    <tr style=\"text-align: right;\">\n",
       "      <th></th>\n",
       "      <th>LLF</th>\n",
       "      <th>AIC</th>\n",
       "    </tr>\n",
       "  </thead>\n",
       "  <tbody>\n",
       "    <tr>\n",
       "      <th>arima114</th>\n",
       "      <td>-197659.536814</td>\n",
       "      <td>395331.073627</td>\n",
       "    </tr>\n",
       "    <tr>\n",
       "      <th>arima411</th>\n",
       "      <td>-197659.889502</td>\n",
       "      <td>395331.779003</td>\n",
       "    </tr>\n",
       "    <tr>\n",
       "      <th>arima311</th>\n",
       "      <td>-197660.151491</td>\n",
       "      <td>395330.302983</td>\n",
       "    </tr>\n",
       "    <tr>\n",
       "      <th>arima113</th>\n",
       "      <td>-197662.248854</td>\n",
       "      <td>395334.497708</td>\n",
       "    </tr>\n",
       "    <tr>\n",
       "      <th>arima112</th>\n",
       "      <td>-197662.429198</td>\n",
       "      <td>395332.858397</td>\n",
       "    </tr>\n",
       "    <tr>\n",
       "      <th>arima211</th>\n",
       "      <td>-197711.129976</td>\n",
       "      <td>395430.259952</td>\n",
       "    </tr>\n",
       "    <tr>\n",
       "      <th>arima111</th>\n",
       "      <td>-197862.867370</td>\n",
       "      <td>395731.734739</td>\n",
       "    </tr>\n",
       "    <tr>\n",
       "      <th>arma101</th>\n",
       "      <td>-200673.649239</td>\n",
       "      <td>401355.298478</td>\n",
       "    </tr>\n",
       "  </tbody>\n",
       "</table>\n",
       "</div>"
      ],
      "text/plain": [
       "                    LLF            AIC\n",
       "arima114 -197659.536814  395331.073627\n",
       "arima411 -197659.889502  395331.779003\n",
       "arima311 -197660.151491  395330.302983\n",
       "arima113 -197662.248854  395334.497708\n",
       "arima112 -197662.429198  395332.858397\n",
       "arima211 -197711.129976  395430.259952\n",
       "arima111 -197862.867370  395731.734739\n",
       "arma101  -200673.649239  401355.298478"
      ]
     },
     "execution_count": 192,
     "metadata": {},
     "output_type": "execute_result"
    }
   ],
   "source": [
    "arima_results.sort_values('LLF', ascending=False)"
   ]
  },
  {
   "cell_type": "code",
   "execution_count": 193,
   "id": "2df4ca98-3ffa-451d-a50e-51085acbc7af",
   "metadata": {},
   "outputs": [
    {
     "name": "stdout",
     "output_type": "stream",
     "text": [
      "p-value: 1.0\n"
     ]
    }
   ],
   "source": [
    "test_LLR(arima114, arima311)"
   ]
  },
  {
   "cell_type": "code",
   "execution_count": 194,
   "id": "abc85e31-24ea-4a07-aec6-9c24e05a2abd",
   "metadata": {},
   "outputs": [
    {
     "name": "stdout",
     "output_type": "stream",
     "text": [
      "p-value: 0.268\n"
     ]
    }
   ],
   "source": [
    "test_LLR(arima311, arima114)"
   ]
  },
  {
   "cell_type": "code",
   "execution_count": 195,
   "id": "467e2575-0ab5-4c18-9666-91fa10861e44",
   "metadata": {},
   "outputs": [
    {
     "data": {
      "image/png": "[encoded data removed]",
      "text/plain": [
       "<Figure size 1000x250 with 1 Axes>"
      ]
     },
     "metadata": {},
     "output_type": "display_data"
    }
   ],
   "source": [
    "plot_acf(ts_acf_calculate(arima311.resid, lags=30))"
   ]
  },
  {
   "cell_type": "code",
   "execution_count": 196,
   "id": "0639dd06-a635-4f29-b104-9fc413f407d2",
   "metadata": {},
   "outputs": [
    {
     "name": "stdout",
     "output_type": "stream",
     "text": [
      "                               SARIMAX Results                                \n",
      "==============================================================================\n",
      "Dep. Variable:                target1   No. Observations:                26064\n",
      "Model:                 ARIMA(3, 1, 1)   Log Likelihood             -197660.151\n",
      "Date:                Sun, 17 Mar 2024   AIC                         395330.303\n",
      "Time:                        17:57:16   BIC                         395371.144\n",
      "Sample:                    02-01-2017   HQIC                        395343.496\n",
      "                         - 07-31-2017                                         \n",
      "Covariance Type:                  opg                                         \n",
      "==============================================================================\n",
      "                 coef    std err          z      P>|z|      [0.025      0.975]\n",
      "------------------------------------------------------------------------------\n",
      "ar.L1          1.0253      0.022     45.696      0.000       0.981       1.069\n",
      "ar.L2         -0.2462      0.013    -18.606      0.000      -0.272      -0.220\n",
      "ar.L3          0.0891      0.003     30.836      0.000       0.083       0.095\n",
      "ma.L1         -0.4384      0.023    -19.474      0.000      -0.483      -0.394\n",
      "sigma2      2.261e+05    256.969    880.066      0.000    2.26e+05    2.27e+05\n",
      "===================================================================================\n",
      "Ljung-Box (L1) (Q):                   0.93   Jarque-Bera (JB):          18815895.01\n",
      "Prob(Q):                              0.33   Prob(JB):                         0.00\n",
      "Heteroskedasticity (H):               1.13   Skew:                            -1.31\n",
      "Prob(H) (two-sided):                  0.00   Kurtosis:                       134.60\n",
      "===================================================================================\n",
      "\n",
      "Warnings:\n",
      "[1] Covariance matrix calculated using the outer product of gradients (complex-step).\n"
     ]
    }
   ],
   "source": [
    "print(arima311.summary())"
   ]
  },
  {
   "cell_type": "code",
   "execution_count": 197,
   "id": "5ab32a69-3aca-4c1a-843d-e1c1d4ac8bf3",
   "metadata": {},
   "outputs": [],
   "source": [
    "arima_best = arima311"
   ]
  },
  {
   "cell_type": "markdown",
   "id": "0440a58e-c1aa-4c2a-854e-f6fdbd424581",
   "metadata": {},
   "source": [
    "## Model 2: SARIMAX"
   ]
  },
  {
   "cell_type": "code",
   "execution_count": null,
   "id": "9f50dde5-f1a5-44d6-872c-b20434fcc1e9",
   "metadata": {},
   "outputs": [
    {
     "name": "stderr",
     "output_type": "stream",
     "text": [
      " This problem is unconstrained.\n"
     ]
    },
    {
     "name": "stdout",
     "output_type": "stream",
     "text": [
      "RUNNING THE L-BFGS-B CODE\n",
      "\n",
      "           * * *\n",
      "\n",
      "Machine precision = 2.220D-16\n",
      " N =            8     M =           10\n",
      "\n",
      "At X0         0 variables are exactly at the bounds\n",
      "\n",
      "At iterate    0    f=  7.80532D+00    |proj g|=  1.79188D-01\n",
      "\n",
      "At iterate    5    f=  7.75700D+00    |proj g|=  8.86155D-02\n",
      "\n",
      "At iterate   10    f=  7.71864D+00    |proj g|=  1.47452D-02\n",
      "\n",
      "At iterate   15    f=  7.71169D+00    |proj g|=  6.41612D-03\n",
      "\n",
      "At iterate   20    f=  7.70515D+00    |proj g|=  2.59391D-03\n",
      "\n",
      "At iterate   25    f=  7.70479D+00    |proj g|=  8.03617D-04\n",
      "\n",
      "At iterate   30    f=  7.70419D+00    |proj g|=  1.04420D-02\n",
      "\n",
      "At iterate   35    f=  7.63633D+00    |proj g|=  1.66529D-01\n",
      "\n",
      "At iterate   40    f=  7.60853D+00    |proj g|=  5.26195D-03\n"
     ]
    }
   ],
   "source": [
    "sarimax = SARIMAX(\n",
    "    y, exog=X,\n",
    "    order=(1,1,1),\n",
    "    seasonal_order=(3,1,1,24)\n",
    ").fit()"
   ]
  },
  {
   "cell_type": "code",
   "execution_count": null,
   "id": "4aa5e230-b1ac-4765-bfb8-7c4909513a16",
   "metadata": {},
   "outputs": [],
   "source": [
    "print(sarimax.summary())"
   ]
  },
  {
   "cell_type": "code",
   "execution_count": null,
   "id": "749a84de-0e62-44ed-a8ff-88818b0fd577",
   "metadata": {},
   "outputs": [],
   "source": []
  },
  {
   "cell_type": "code",
   "execution_count": null,
   "id": "7fc4ffe6-5627-4b9c-add6-ec20a7a1f378",
   "metadata": {},
   "outputs": [],
   "source": []
  },
  {
   "cell_type": "code",
   "execution_count": null,
   "id": "5c2ce56a-26c3-41f6-a179-a0938ad4271b",
   "metadata": {},
   "outputs": [],
   "source": []
  },
  {
   "cell_type": "code",
   "execution_count": null,
   "id": "003ffcec-ff40-48aa-9522-3297e5b730b6",
   "metadata": {},
   "outputs": [],
   "source": []
  },
  {
   "cell_type": "code",
   "execution_count": null,
   "id": "eb2bf59a-3ce9-4c7d-8de0-e152acc33720",
   "metadata": {},
   "outputs": [],
   "source": []
  },
  {
   "cell_type": "code",
   "execution_count": null,
   "id": "8f29bb6e-0dad-42e2-b1f3-53469ae51a1b",
   "metadata": {},
   "outputs": [],
   "source": []
  },
  {
   "cell_type": "code",
   "execution_count": null,
   "id": "2f55eafe-c5a4-4d52-81ee-f1ee979c1295",
   "metadata": {},
   "outputs": [],
   "source": []
  },
  {
   "cell_type": "markdown",
   "id": "fcc85283-c272-405b-a0f0-0476feba6d19",
   "metadata": {},
   "source": [
    "## Model 1: SARIMAX"
   ]
  },
  {
   "cell_type": "code",
   "execution_count": 15,
   "id": "3e497783-9c2a-4ed3-822e-be9fcd73ef01",
   "metadata": {},
   "outputs": [],
   "source": [
    "from pmdarima.arima import auto_arima"
   ]
  },
  {
   "cell_type": "code",
   "execution_count": 17,
   "id": "4323b372-8cde-4171-84a5-421e310ca37f",
   "metadata": {},
   "outputs": [
    {
     "data": {
      "text/plain": [
       "Index(['temperature', 'humidity', 'windspeed', 'generaldiffuseflows',\n",
       "       'diffuseflows', 'target1', 'target2', 'target3', 'minute', 'hour',\n",
       "       'day', 'day_number', 'day_of_year', 'weekday', 'week', 'month',\n",
       "       'year_month', 'year_day', 'count_elmnts_by_day', 'is_Friday',\n",
       "       'is_Sunday', 'target1_diff', 'target1_returns', 'target1_volatility',\n",
       "       'p', 'is_31', 'target1_cum_avg', 'target1_by_weekday'],\n",
       "      dtype='object')"
      ]
     },
     "execution_count": 17,
     "metadata": {},
     "output_type": "execute_result"
    }
   ],
   "source": [
    "train.columns"
   ]
  },
  {
   "cell_type": "code",
   "execution_count": 26,
   "id": "a5665ec8-79a1-4b19-b618-056471aa670d",
   "metadata": {},
   "outputs": [],
   "source": [
    "train_ = train[[\n",
    "    'temperature', 'minute', 'hour', 'day', 'weekday',\n",
    "    'is_Friday', 'is_Sunday', 'is_31', 'target1_cum_avg', 'target1_by_weekday', 'target1']].copy()"
   ]
  },
  {
   "cell_type": "code",
   "execution_count": 70,
   "id": "c6421320-ccee-4791-9d03-ec671b9d6925",
   "metadata": {},
   "outputs": [],
   "source": [
    "y = train_['target1'].copy()"
   ]
  },
  {
   "cell_type": "code",
   "execution_count": 71,
   "id": "5ce4d305-c450-47db-8cc5-960dc2db7ad5",
   "metadata": {},
   "outputs": [
    {
     "data": {
      "text/plain": [
       "(17568,)"
      ]
     },
     "execution_count": 71,
     "metadata": {},
     "output_type": "execute_result"
    }
   ],
   "source": [
    "y.shape"
   ]
  },
  {
   "cell_type": "code",
   "execution_count": 72,
   "id": "5479a7b2-7a0a-4105-8a66-bf964a8e5a2d",
   "metadata": {},
   "outputs": [],
   "source": [
    "X = train_.iloc[:, :-1].copy()"
   ]
  },
  {
   "cell_type": "code",
   "execution_count": 73,
   "id": "352b1870-d58a-460b-ad93-d44e110b821f",
   "metadata": {},
   "outputs": [
    {
     "name": "stdout",
     "output_type": "stream",
     "text": [
      "<class 'pandas.core.frame.DataFrame'>\n",
      "DatetimeIndex: 17568 entries, 2017-04-01 00:00:00 to 2017-07-31 23:50:00\n",
      "Data columns (total 10 columns):\n",
      " #   Column              Non-Null Count  Dtype  \n",
      "---  ------              --------------  -----  \n",
      " 0   temperature         17568 non-null  float64\n",
      " 1   minute              17568 non-null  int32  \n",
      " 2   hour                17568 non-null  int32  \n",
      " 3   day                 17568 non-null  int32  \n",
      " 4   weekday             17568 non-null  int32  \n",
      " 5   is_Friday           17568 non-null  int64  \n",
      " 6   is_Sunday           17568 non-null  int64  \n",
      " 7   is_31               17568 non-null  int64  \n",
      " 8   target1_cum_avg     17568 non-null  float64\n",
      " 9   target1_by_weekday  17568 non-null  float64\n",
      "dtypes: float64(3), int32(4), int64(3)\n",
      "memory usage: 1.2 MB\n"
     ]
    }
   ],
   "source": [
    "X.info()"
   ]
  },
  {
   "cell_type": "code",
   "execution_count": 74,
   "id": "b13ffc3f-a060-4bba-9447-6f66c885f425",
   "metadata": {},
   "outputs": [],
   "source": [
    "X_ = np.asarray(X)"
   ]
  },
  {
   "cell_type": "code",
   "execution_count": 75,
   "id": "064c68ee-97ad-4477-933a-a091972a34ea",
   "metadata": {},
   "outputs": [
    {
     "data": {
      "text/plain": [
       "(17568, 10)"
      ]
     },
     "execution_count": 75,
     "metadata": {},
     "output_type": "execute_result"
    }
   ],
   "source": [
    "X_.shape"
   ]
  },
  {
   "cell_type": "code",
   "execution_count": 80,
   "id": "093082a9-49bd-407b-bebb-7b42a06e2f54",
   "metadata": {},
   "outputs": [
    {
     "name": "stdout",
     "output_type": "stream",
     "text": [
      "Execution time: 0:01:41\n"
     ]
    }
   ],
   "source": [
    "st = stopwatch.start()\n",
    "model_auto = auto_arima(y)\n",
    "print(f'Execution time: {stopwatch.stop(st)}')"
   ]
  },
  {
   "cell_type": "code",
   "execution_count": 81,
   "id": "a4cc4ba0-5661-44bf-9bc9-2f3b7c327d49",
   "metadata": {},
   "outputs": [
    {
     "data": {
      "text/html": [
       "<style>#sk-container-id-1 {\n",
       "  /* Definition of color scheme common for light and dark mode */\n",
       "  --sklearn-color-text: black;\n",
       "  --sklearn-color-line: gray;\n",
       "  /* Definition of color scheme for unfitted estimators */\n",
       "  --sklearn-color-unfitted-level-0: #fff5e6;\n",
       "  --sklearn-color-unfitted-level-1: #f6e4d2;\n",
       "  --sklearn-color-unfitted-level-2: #ffe0b3;\n",
       "  --sklearn-color-unfitted-level-3: chocolate;\n",
       "  /* Definition of color scheme for fitted estimators */\n",
       "  --sklearn-color-fitted-level-0: #f0f8ff;\n",
       "  --sklearn-color-fitted-level-1: #d4ebff;\n",
       "  --sklearn-color-fitted-level-2: #b3dbfd;\n",
       "  --sklearn-color-fitted-level-3: cornflowerblue;\n",
       "\n",
       "  /* Specific color for light theme */\n",
       "  --sklearn-color-text-on-default-background: var(--sg-text-color, var(--theme-code-foreground, var(--jp-content-font-color1, black)));\n",
       "  --sklearn-color-background: var(--sg-background-color, var(--theme-background, var(--jp-layout-color0, white)));\n",
       "  --sklearn-color-border-box: var(--sg-text-color, var(--theme-code-foreground, var(--jp-content-font-color1, black)));\n",
       "  --sklearn-color-icon: #696969;\n",
       "\n",
       "  @media (prefers-color-scheme: dark) {\n",
       "    /* Redefinition of color scheme for dark theme */\n",
       "    --sklearn-color-text-on-default-background: var(--sg-text-color, var(--theme-code-foreground, var(--jp-content-font-color1, white)));\n",
       "    --sklearn-color-background: var(--sg-background-color, var(--theme-background, var(--jp-layout-color0, #111)));\n",
       "    --sklearn-color-border-box: var(--sg-text-color, var(--theme-code-foreground, var(--jp-content-font-color1, white)));\n",
       "    --sklearn-color-icon: #878787;\n",
       "  }\n",
       "}\n",
       "\n",
       "#sk-container-id-1 {\n",
       "  color: var(--sklearn-color-text);\n",
       "}\n",
       "\n",
       "#sk-container-id-1 pre {\n",
       "  padding: 0;\n",
       "}\n",
       "\n",
       "#sk-container-id-1 input.sk-hidden--visually {\n",
       "  border: 0;\n",
       "  clip: rect(1px 1px 1px 1px);\n",
       "  clip: rect(1px, 1px, 1px, 1px);\n",
       "  height: 1px;\n",
       "  margin: -1px;\n",
       "  overflow: hidden;\n",
       "  padding: 0;\n",
       "  position: absolute;\n",
       "  width: 1px;\n",
       "}\n",
       "\n",
       "#sk-container-id-1 div.sk-dashed-wrapped {\n",
       "  border: 1px dashed var(--sklearn-color-line);\n",
       "  margin: 0 0.4em 0.5em 0.4em;\n",
       "  box-sizing: border-box;\n",
       "  padding-bottom: 0.4em;\n",
       "  background-color: var(--sklearn-color-background);\n",
       "}\n",
       "\n",
       "#sk-container-id-1 div.sk-container {\n",
       "  /* jupyter's `normalize.less` sets `[hidden] { display: none; }`\n",
       "     but bootstrap.min.css set `[hidden] { display: none !important; }`\n",
       "     so we also need the `!important` here to be able to override the\n",
       "     default hidden behavior on the sphinx rendered scikit-learn.org.\n",
       "     See: https://github.com/scikit-learn/scikit-learn/issues/21755 */\n",
       "  display: inline-block !important;\n",
       "  position: relative;\n",
       "}\n",
       "\n",
       "#sk-container-id-1 div.sk-text-repr-fallback {\n",
       "  display: none;\n",
       "}\n",
       "\n",
       "div.sk-parallel-item,\n",
       "div.sk-serial,\n",
       "div.sk-item {\n",
       "  /* draw centered vertical line to link estimators */\n",
       "  background-image: linear-gradient(var(--sklearn-color-text-on-default-background), var(--sklearn-color-text-on-default-background));\n",
       "  background-size: 2px 100%;\n",
       "  background-repeat: no-repeat;\n",
       "  background-position: center center;\n",
       "}\n",
       "\n",
       "/* Parallel-specific style estimator block */\n",
       "\n",
       "#sk-container-id-1 div.sk-parallel-item::after {\n",
       "  content: \"\";\n",
       "  width: 100%;\n",
       "  border-bottom: 2px solid var(--sklearn-color-text-on-default-background);\n",
       "  flex-grow: 1;\n",
       "}\n",
       "\n",
       "#sk-container-id-1 div.sk-parallel {\n",
       "  display: flex;\n",
       "  align-items: stretch;\n",
       "  justify-content: center;\n",
       "  background-color: var(--sklearn-color-background);\n",
       "  position: relative;\n",
       "}\n",
       "\n",
       "#sk-container-id-1 div.sk-parallel-item {\n",
       "  display: flex;\n",
       "  flex-direction: column;\n",
       "}\n",
       "\n",
       "#sk-container-id-1 div.sk-parallel-item:first-child::after {\n",
       "  align-self: flex-end;\n",
       "  width: 50%;\n",
       "}\n",
       "\n",
       "#sk-container-id-1 div.sk-parallel-item:last-child::after {\n",
       "  align-self: flex-start;\n",
       "  width: 50%;\n",
       "}\n",
       "\n",
       "#sk-container-id-1 div.sk-parallel-item:only-child::after {\n",
       "  width: 0;\n",
       "}\n",
       "\n",
       "/* Serial-specific style estimator block */\n",
       "\n",
       "#sk-container-id-1 div.sk-serial {\n",
       "  display: flex;\n",
       "  flex-direction: column;\n",
       "  align-items: center;\n",
       "  background-color: var(--sklearn-color-background);\n",
       "  padding-right: 1em;\n",
       "  padding-left: 1em;\n",
       "}\n",
       "\n",
       "\n",
       "/* Toggleable style: style used for estimator/Pipeline/ColumnTransformer box that is\n",
       "clickable and can be expanded/collapsed.\n",
       "- Pipeline and ColumnTransformer use this feature and define the default style\n",
       "- Estimators will overwrite some part of the style using the `sk-estimator` class\n",
       "*/\n",
       "\n",
       "/* Pipeline and ColumnTransformer style (default) */\n",
       "\n",
       "#sk-container-id-1 div.sk-toggleable {\n",
       "  /* Default theme specific background. It is overwritten whether we have a\n",
       "  specific estimator or a Pipeline/ColumnTransformer */\n",
       "  background-color: var(--sklearn-color-background);\n",
       "}\n",
       "\n",
       "/* Toggleable label */\n",
       "#sk-container-id-1 label.sk-toggleable__label {\n",
       "  cursor: pointer;\n",
       "  display: block;\n",
       "  width: 100%;\n",
       "  margin-bottom: 0;\n",
       "  padding: 0.5em;\n",
       "  box-sizing: border-box;\n",
       "  text-align: center;\n",
       "}\n",
       "\n",
       "#sk-container-id-1 label.sk-toggleable__label-arrow:before {\n",
       "  /* Arrow on the left of the label */\n",
       "  content: \"▸\";\n",
       "  float: left;\n",
       "  margin-right: 0.25em;\n",
       "  color: var(--sklearn-color-icon);\n",
       "}\n",
       "\n",
       "#sk-container-id-1 label.sk-toggleable__label-arrow:hover:before {\n",
       "  color: var(--sklearn-color-text);\n",
       "}\n",
       "\n",
       "/* Toggleable content - dropdown */\n",
       "\n",
       "#sk-container-id-1 div.sk-toggleable__content {\n",
       "  max-height: 0;\n",
       "  max-width: 0;\n",
       "  overflow: hidden;\n",
       "  text-align: left;\n",
       "  /* unfitted */\n",
       "  background-color: var(--sklearn-color-unfitted-level-0);\n",
       "}\n",
       "\n",
       "#sk-container-id-1 div.sk-toggleable__content.fitted {\n",
       "  /* fitted */\n",
       "  background-color: var(--sklearn-color-fitted-level-0);\n",
       "}\n",
       "\n",
       "#sk-container-id-1 div.sk-toggleable__content pre {\n",
       "  margin: 0.2em;\n",
       "  border-radius: 0.25em;\n",
       "  color: var(--sklearn-color-text);\n",
       "  /* unfitted */\n",
       "  background-color: var(--sklearn-color-unfitted-level-0);\n",
       "}\n",
       "\n",
       "#sk-container-id-1 div.sk-toggleable__content.fitted pre {\n",
       "  /* unfitted */\n",
       "  background-color: var(--sklearn-color-fitted-level-0);\n",
       "}\n",
       "\n",
       "#sk-container-id-1 input.sk-toggleable__control:checked~div.sk-toggleable__content {\n",
       "  /* Expand drop-down */\n",
       "  max-height: 200px;\n",
       "  max-width: 100%;\n",
       "  overflow: auto;\n",
       "}\n",
       "\n",
       "#sk-container-id-1 input.sk-toggleable__control:checked~label.sk-toggleable__label-arrow:before {\n",
       "  content: \"▾\";\n",
       "}\n",
       "\n",
       "/* Pipeline/ColumnTransformer-specific style */\n",
       "\n",
       "#sk-container-id-1 div.sk-label input.sk-toggleable__control:checked~label.sk-toggleable__label {\n",
       "  color: var(--sklearn-color-text);\n",
       "  background-color: var(--sklearn-color-unfitted-level-2);\n",
       "}\n",
       "\n",
       "#sk-container-id-1 div.sk-label.fitted input.sk-toggleable__control:checked~label.sk-toggleable__label {\n",
       "  background-color: var(--sklearn-color-fitted-level-2);\n",
       "}\n",
       "\n",
       "/* Estimator-specific style */\n",
       "\n",
       "/* Colorize estimator box */\n",
       "#sk-container-id-1 div.sk-estimator input.sk-toggleable__control:checked~label.sk-toggleable__label {\n",
       "  /* unfitted */\n",
       "  background-color: var(--sklearn-color-unfitted-level-2);\n",
       "}\n",
       "\n",
       "#sk-container-id-1 div.sk-estimator.fitted input.sk-toggleable__control:checked~label.sk-toggleable__label {\n",
       "  /* fitted */\n",
       "  background-color: var(--sklearn-color-fitted-level-2);\n",
       "}\n",
       "\n",
       "#sk-container-id-1 div.sk-label label.sk-toggleable__label,\n",
       "#sk-container-id-1 div.sk-label label {\n",
       "  /* The background is the default theme color */\n",
       "  color: var(--sklearn-color-text-on-default-background);\n",
       "}\n",
       "\n",
       "/* On hover, darken the color of the background */\n",
       "#sk-container-id-1 div.sk-label:hover label.sk-toggleable__label {\n",
       "  color: var(--sklearn-color-text);\n",
       "  background-color: var(--sklearn-color-unfitted-level-2);\n",
       "}\n",
       "\n",
       "/* Label box, darken color on hover, fitted */\n",
       "#sk-container-id-1 div.sk-label.fitted:hover label.sk-toggleable__label.fitted {\n",
       "  color: var(--sklearn-color-text);\n",
       "  background-color: var(--sklearn-color-fitted-level-2);\n",
       "}\n",
       "\n",
       "/* Estimator label */\n",
       "\n",
       "#sk-container-id-1 div.sk-label label {\n",
       "  font-family: monospace;\n",
       "  font-weight: bold;\n",
       "  display: inline-block;\n",
       "  line-height: 1.2em;\n",
       "}\n",
       "\n",
       "#sk-container-id-1 div.sk-label-container {\n",
       "  text-align: center;\n",
       "}\n",
       "\n",
       "/* Estimator-specific */\n",
       "#sk-container-id-1 div.sk-estimator {\n",
       "  font-family: monospace;\n",
       "  border: 1px dotted var(--sklearn-color-border-box);\n",
       "  border-radius: 0.25em;\n",
       "  box-sizing: border-box;\n",
       "  margin-bottom: 0.5em;\n",
       "  /* unfitted */\n",
       "  background-color: var(--sklearn-color-unfitted-level-0);\n",
       "}\n",
       "\n",
       "#sk-container-id-1 div.sk-estimator.fitted {\n",
       "  /* fitted */\n",
       "  background-color: var(--sklearn-color-fitted-level-0);\n",
       "}\n",
       "\n",
       "/* on hover */\n",
       "#sk-container-id-1 div.sk-estimator:hover {\n",
       "  /* unfitted */\n",
       "  background-color: var(--sklearn-color-unfitted-level-2);\n",
       "}\n",
       "\n",
       "#sk-container-id-1 div.sk-estimator.fitted:hover {\n",
       "  /* fitted */\n",
       "  background-color: var(--sklearn-color-fitted-level-2);\n",
       "}\n",
       "\n",
       "/* Specification for estimator info (e.g. \"i\" and \"?\") */\n",
       "\n",
       "/* Common style for \"i\" and \"?\" */\n",
       "\n",
       ".sk-estimator-doc-link,\n",
       "a:link.sk-estimator-doc-link,\n",
       "a:visited.sk-estimator-doc-link {\n",
       "  float: right;\n",
       "  font-size: smaller;\n",
       "  line-height: 1em;\n",
       "  font-family: monospace;\n",
       "  background-color: var(--sklearn-color-background);\n",
       "  border-radius: 1em;\n",
       "  height: 1em;\n",
       "  width: 1em;\n",
       "  text-decoration: none !important;\n",
       "  margin-left: 1ex;\n",
       "  /* unfitted */\n",
       "  border: var(--sklearn-color-unfitted-level-1) 1pt solid;\n",
       "  color: var(--sklearn-color-unfitted-level-1);\n",
       "}\n",
       "\n",
       ".sk-estimator-doc-link.fitted,\n",
       "a:link.sk-estimator-doc-link.fitted,\n",
       "a:visited.sk-estimator-doc-link.fitted {\n",
       "  /* fitted */\n",
       "  border: var(--sklearn-color-fitted-level-1) 1pt solid;\n",
       "  color: var(--sklearn-color-fitted-level-1);\n",
       "}\n",
       "\n",
       "/* On hover */\n",
       "div.sk-estimator:hover .sk-estimator-doc-link:hover,\n",
       ".sk-estimator-doc-link:hover,\n",
       "div.sk-label-container:hover .sk-estimator-doc-link:hover,\n",
       ".sk-estimator-doc-link:hover {\n",
       "  /* unfitted */\n",
       "  background-color: var(--sklearn-color-unfitted-level-3);\n",
       "  color: var(--sklearn-color-background);\n",
       "  text-decoration: none;\n",
       "}\n",
       "\n",
       "div.sk-estimator.fitted:hover .sk-estimator-doc-link.fitted:hover,\n",
       ".sk-estimator-doc-link.fitted:hover,\n",
       "div.sk-label-container:hover .sk-estimator-doc-link.fitted:hover,\n",
       ".sk-estimator-doc-link.fitted:hover {\n",
       "  /* fitted */\n",
       "  background-color: var(--sklearn-color-fitted-level-3);\n",
       "  color: var(--sklearn-color-background);\n",
       "  text-decoration: none;\n",
       "}\n",
       "\n",
       "/* Span, style for the box shown on hovering the info icon */\n",
       ".sk-estimator-doc-link span {\n",
       "  display: none;\n",
       "  z-index: 9999;\n",
       "  position: relative;\n",
       "  font-weight: normal;\n",
       "  right: .2ex;\n",
       "  padding: .5ex;\n",
       "  margin: .5ex;\n",
       "  width: min-content;\n",
       "  min-width: 20ex;\n",
       "  max-width: 50ex;\n",
       "  color: var(--sklearn-color-text);\n",
       "  box-shadow: 2pt 2pt 4pt #999;\n",
       "  /* unfitted */\n",
       "  background: var(--sklearn-color-unfitted-level-0);\n",
       "  border: .5pt solid var(--sklearn-color-unfitted-level-3);\n",
       "}\n",
       "\n",
       ".sk-estimator-doc-link.fitted span {\n",
       "  /* fitted */\n",
       "  background: var(--sklearn-color-fitted-level-0);\n",
       "  border: var(--sklearn-color-fitted-level-3);\n",
       "}\n",
       "\n",
       ".sk-estimator-doc-link:hover span {\n",
       "  display: block;\n",
       "}\n",
       "\n",
       "/* \"?\"-specific style due to the `<a>` HTML tag */\n",
       "\n",
       "#sk-container-id-1 a.estimator_doc_link {\n",
       "  float: right;\n",
       "  font-size: 1rem;\n",
       "  line-height: 1em;\n",
       "  font-family: monospace;\n",
       "  background-color: var(--sklearn-color-background);\n",
       "  border-radius: 1rem;\n",
       "  height: 1rem;\n",
       "  width: 1rem;\n",
       "  text-decoration: none;\n",
       "  /* unfitted */\n",
       "  color: var(--sklearn-color-unfitted-level-1);\n",
       "  border: var(--sklearn-color-unfitted-level-1) 1pt solid;\n",
       "}\n",
       "\n",
       "#sk-container-id-1 a.estimator_doc_link.fitted {\n",
       "  /* fitted */\n",
       "  border: var(--sklearn-color-fitted-level-1) 1pt solid;\n",
       "  color: var(--sklearn-color-fitted-level-1);\n",
       "}\n",
       "\n",
       "/* On hover */\n",
       "#sk-container-id-1 a.estimator_doc_link:hover {\n",
       "  /* unfitted */\n",
       "  background-color: var(--sklearn-color-unfitted-level-3);\n",
       "  color: var(--sklearn-color-background);\n",
       "  text-decoration: none;\n",
       "}\n",
       "\n",
       "#sk-container-id-1 a.estimator_doc_link.fitted:hover {\n",
       "  /* fitted */\n",
       "  background-color: var(--sklearn-color-fitted-level-3);\n",
       "}\n",
       "</style><div id=\"sk-container-id-1\" class=\"sk-top-container\"><div class=\"sk-text-repr-fallback\"><pre> ARIMA(1,1,2)(0,0,0)[0]          </pre><b>In a Jupyter environment, please rerun this cell to show the HTML representation or trust the notebook. <br />On GitHub, the HTML representation is unable to render, please try loading this page with nbviewer.org.</b></div><div class=\"sk-container\" hidden><div class=\"sk-item\"><div class=\"sk-estimator fitted sk-toggleable\"><input class=\"sk-toggleable__control sk-hidden--visually\" id=\"sk-estimator-id-1\" type=\"checkbox\" checked><label for=\"sk-estimator-id-1\" class=\"sk-toggleable__label fitted sk-toggleable__label-arrow fitted\">&nbsp;ARIMA<span class=\"sk-estimator-doc-link fitted\">i<span>Fitted</span></span></label><div class=\"sk-toggleable__content fitted\"><pre> ARIMA(1,1,2)(0,0,0)[0]          </pre></div> </div></div></div></div>"
      ],
      "text/plain": [
       "ARIMA(order=(1, 1, 2), scoring_args={}, suppress_warnings=True,\n",
       "      with_intercept=False)"
      ]
     },
     "execution_count": 81,
     "metadata": {},
     "output_type": "execute_result"
    }
   ],
   "source": [
    "model_auto"
   ]
  },
  {
   "cell_type": "code",
   "execution_count": null,
   "id": "f65b8bee-22fb-482b-985b-87a82f1636f9",
   "metadata": {},
   "outputs": [],
   "source": []
  },
  {
   "cell_type": "code",
   "execution_count": null,
   "id": "67632b40-c2a2-4476-ae6f-18a9e6048ed1",
   "metadata": {},
   "outputs": [],
   "source": []
  },
  {
   "cell_type": "code",
   "execution_count": null,
   "id": "a60d580e-f2a1-46c6-8485-0948a51477e5",
   "metadata": {},
   "outputs": [],
   "source": []
  },
  {
   "cell_type": "code",
   "execution_count": null,
   "id": "9cf22c75-86db-442c-b1b2-33e295212ae0",
   "metadata": {},
   "outputs": [],
   "source": []
  },
  {
   "cell_type": "code",
   "execution_count": null,
   "id": "0ee00cd9-4e6b-457e-814a-be035fdf6b11",
   "metadata": {},
   "outputs": [],
   "source": []
  },
  {
   "cell_type": "code",
   "execution_count": null,
   "id": "9e295443-1283-4f62-afa2-4f5ec067ee9a",
   "metadata": {},
   "outputs": [],
   "source": []
  },
  {
   "cell_type": "code",
   "execution_count": null,
   "id": "8e9722bf-8bf9-46f4-99b1-413d75948ddc",
   "metadata": {},
   "outputs": [],
   "source": []
  },
  {
   "cell_type": "code",
   "execution_count": null,
   "id": "d86e64b5-83b4-4f64-9834-5619dfd9d9e6",
   "metadata": {},
   "outputs": [],
   "source": []
  },
  {
   "cell_type": "markdown",
   "id": "23c1555f-9c9f-46e4-9952-027553fe292d",
   "metadata": {},
   "source": [
    "### Save Session"
   ]
  },
  {
   "cell_type": "code",
   "execution_count": 135,
   "id": "544d8ecd-dcb0-44c4-bb5a-887cbba4e9bf",
   "metadata": {},
   "outputs": [],
   "source": [
    "save_session(session_name)"
   ]
  },
  {
   "cell_type": "markdown",
   "id": "0cc9843f-f66f-4535-8114-918e8eca9717",
   "metadata": {},
   "source": [
    "### Execution time"
   ]
  },
  {
   "cell_type": "code",
   "execution_count": 113,
   "id": "7296d512-ccdf-46f2-bd89-9be792d545b6",
   "metadata": {},
   "outputs": [
    {
     "name": "stdout",
     "output_type": "stream",
     "text": [
      "Execution time: 0:01:17\n"
     ]
    }
   ],
   "source": [
    "print(f'Execution time: {stopwatch.stop(start)}')"
   ]
  }
 ],
 "metadata": {
  "kernelspec": {
   "display_name": "electric_power_consumption",
   "language": "python",
   "name": "electric_power_consumption"
  },
  "language_info": {
   "codemirror_mode": {
    "name": "ipython",
    "version": 3
   },
   "file_extension": ".py",
   "mimetype": "text/x-python",
   "name": "python",
   "nbconvert_exporter": "python",
   "pygments_lexer": "ipython3",
   "version": "3.12.2"
  }
 },
 "nbformat": 4,
 "nbformat_minor": 5
}
