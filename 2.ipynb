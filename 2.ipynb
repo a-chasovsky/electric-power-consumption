{
 "cells": [
  {
   "cell_type": "code",
   "execution_count": 1,
   "id": "2e1e3b63-5b9c-464b-9beb-d9a38a44e22d",
   "metadata": {},
   "outputs": [],
   "source": [
    "# run stopwatch\n",
    "from tools import Stopwatch\n",
    "stopwatch = Stopwatch()\n",
    "start = stopwatch.start()"
   ]
  },
  {
   "cell_type": "markdown",
   "id": "8a5f52fd-7477-4e52-b560-977bf3bb88a7",
   "metadata": {},
   "source": [
    "### Load libraries, functions, palette, theme"
   ]
  },
  {
   "cell_type": "code",
   "execution_count": 2,
   "id": "5f9b63c8-50a4-4a00-9832-429b38b4f296",
   "metadata": {},
   "outputs": [],
   "source": [
    "%run _libraries.ipynb"
   ]
  },
  {
   "cell_type": "code",
   "execution_count": 3,
   "id": "d59d91f0-c577-4e62-90b9-43557d4fef7b",
   "metadata": {},
   "outputs": [],
   "source": [
    "%run _functions.ipynb"
   ]
  },
  {
   "cell_type": "raw",
   "id": "aadc35d0-a73c-40e4-9ed8-90e0edfc74f8",
   "metadata": {},
   "source": [
    "dir_save = ''"
   ]
  },
  {
   "cell_type": "markdown",
   "id": "dcd731b8-b85b-45fd-a03d-b548cb6e336a",
   "metadata": {},
   "source": [
    "# Section II. Models"
   ]
  },
  {
   "cell_type": "markdown",
   "id": "2c2ccbc8-9b8e-4b6b-a6b1-b5fcb2962b01",
   "metadata": {},
   "source": [
    "## Load Saved Section if exists"
   ]
  },
  {
   "cell_type": "raw",
   "id": "53ead796-d77c-49a0-9fed-49fded9be347",
   "metadata": {},
   "source": [
    "if os.path.exists(f'sessions/{dir_save}'):\n",
    "    load_session(dir_save)\n",
    "else:\n",
    "    print(f\"No such session: 'sessions/{dir_save}'\")"
   ]
  },
  {
   "cell_type": "code",
   "execution_count": null,
   "id": "0cfdf001-ac4c-414c-b2bf-8428e1d3cb17",
   "metadata": {},
   "outputs": [],
   "source": []
  },
  {
   "cell_type": "code",
   "execution_count": null,
   "id": "919faea8-e771-4386-86f6-97a3b0359540",
   "metadata": {},
   "outputs": [],
   "source": []
  },
  {
   "cell_type": "code",
   "execution_count": null,
   "id": "3e497783-9c2a-4ed3-822e-be9fcd73ef01",
   "metadata": {},
   "outputs": [],
   "source": []
  },
  {
   "cell_type": "code",
   "execution_count": null,
   "id": "093082a9-49bd-407b-bebb-7b42a06e2f54",
   "metadata": {},
   "outputs": [],
   "source": []
  },
  {
   "cell_type": "code",
   "execution_count": null,
   "id": "76e8e32f-84ad-4d99-83b1-903cf0f1ec86",
   "metadata": {},
   "outputs": [],
   "source": []
  },
  {
   "cell_type": "code",
   "execution_count": null,
   "id": "d86e64b5-83b4-4f64-9834-5619dfd9d9e6",
   "metadata": {},
   "outputs": [],
   "source": []
  }
 ],
 "metadata": {
  "kernelspec": {
   "display_name": "electric_power_consumption",
   "language": "python",
   "name": "electric_power_consumption"
  },
  "language_info": {
   "codemirror_mode": {
    "name": "ipython",
    "version": 3
   },
   "file_extension": ".py",
   "mimetype": "text/x-python",
   "name": "python",
   "nbconvert_exporter": "python",
   "pygments_lexer": "ipython3",
   "version": "3.12.2"
  }
 },
 "nbformat": 4,
 "nbformat_minor": 5
}
